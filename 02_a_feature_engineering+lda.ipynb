{
  "cells": [
    {
      "cell_type": "markdown",
      "metadata": {
        "id": "view-in-github",
        "colab_type": "text"
      },
      "source": [
        "<a href=\"https://colab.research.google.com/github/Ignacioelamo/LLMs4Phishing/blob/main/02_feature_engineering%2BLDA.ipynb\" target=\"_parent\"><img src=\"https://colab.research.google.com/assets/colab-badge.svg\" alt=\"Open In Colab\"/></a>"
      ]
    },
    {
      "cell_type": "markdown",
      "source": [
        "# Pasos previos"
      ],
      "metadata": {
        "id": "ZyaTOBLcHWOS"
      }
    },
    {
      "cell_type": "markdown",
      "source": [
        "## 📦 Instalación de paquetes necesarios"
      ],
      "metadata": {
        "id": "VCSqZdcYHlcI"
      }
    },
    {
      "cell_type": "code",
      "source": [
        "!pip install --upgrade --force-reinstall gensim pyLDAvis spacy nltk pandas\n",
        "\n",
        "\n",
        "print(\"✅ Instalación completa. 🔁 Ahora reinicia el entorno manualmente y ejecuta la siguiente celda.\")"
      ],
      "metadata": {
        "colab": {
          "base_uri": "https://localhost:8080/",
          "height": 1000
        },
        "id": "rB-DucbmHZnX",
        "outputId": "1a0f70ba-5770-4c67-a362-cbd38fd83560"
      },
      "execution_count": 1,
      "outputs": [
        {
          "output_type": "stream",
          "name": "stdout",
          "text": [
            "Collecting gensim\n",
            "  Downloading gensim-4.3.3-cp311-cp311-manylinux_2_17_x86_64.manylinux2014_x86_64.whl.metadata (8.1 kB)\n",
            "Collecting pyLDAvis\n",
            "  Downloading pyLDAvis-3.4.1-py3-none-any.whl.metadata (4.2 kB)\n",
            "Collecting spacy\n",
            "  Downloading spacy-3.8.7-cp311-cp311-manylinux_2_17_x86_64.manylinux2014_x86_64.whl.metadata (27 kB)\n",
            "Collecting nltk\n",
            "  Downloading nltk-3.9.1-py3-none-any.whl.metadata (2.9 kB)\n",
            "Collecting pandas\n",
            "  Downloading pandas-2.2.3-cp311-cp311-manylinux_2_17_x86_64.manylinux2014_x86_64.whl.metadata (89 kB)\n",
            "\u001b[2K     \u001b[90m━━━━━━━━━━━━━━━━━━━━━━━━━━━━━━━━━━━━━━━━\u001b[0m \u001b[32m89.9/89.9 kB\u001b[0m \u001b[31m2.4 MB/s\u001b[0m eta \u001b[36m0:00:00\u001b[0m\n",
            "\u001b[?25hCollecting numpy<2.0,>=1.18.5 (from gensim)\n",
            "  Downloading numpy-1.26.4-cp311-cp311-manylinux_2_17_x86_64.manylinux2014_x86_64.whl.metadata (61 kB)\n",
            "\u001b[2K     \u001b[90m━━━━━━━━━━━━━━━━━━━━━━━━━━━━━━━━━━━━━━━━\u001b[0m \u001b[32m61.0/61.0 kB\u001b[0m \u001b[31m524.6 kB/s\u001b[0m eta \u001b[36m0:00:00\u001b[0m\n",
            "\u001b[?25hCollecting scipy<1.14.0,>=1.7.0 (from gensim)\n",
            "  Downloading scipy-1.13.1-cp311-cp311-manylinux_2_17_x86_64.manylinux2014_x86_64.whl.metadata (60 kB)\n",
            "\u001b[2K     \u001b[90m━━━━━━━━━━━━━━━━━━━━━━━━━━━━━━━━━━━━━━━━\u001b[0m \u001b[32m60.6/60.6 kB\u001b[0m \u001b[31m1.5 MB/s\u001b[0m eta \u001b[36m0:00:00\u001b[0m\n",
            "\u001b[?25hCollecting smart-open>=1.8.1 (from gensim)\n",
            "  Downloading smart_open-7.1.0-py3-none-any.whl.metadata (24 kB)\n",
            "Collecting joblib>=1.2.0 (from pyLDAvis)\n",
            "  Downloading joblib-1.5.1-py3-none-any.whl.metadata (5.6 kB)\n",
            "Collecting jinja2 (from pyLDAvis)\n",
            "  Downloading jinja2-3.1.6-py3-none-any.whl.metadata (2.9 kB)\n",
            "Collecting numexpr (from pyLDAvis)\n",
            "  Downloading numexpr-2.10.2-cp311-cp311-manylinux_2_27_x86_64.manylinux_2_28_x86_64.whl.metadata (8.1 kB)\n",
            "Collecting funcy (from pyLDAvis)\n",
            "  Downloading funcy-2.0-py2.py3-none-any.whl.metadata (5.9 kB)\n",
            "Collecting scikit-learn>=1.0.0 (from pyLDAvis)\n",
            "  Downloading scikit_learn-1.6.1-cp311-cp311-manylinux_2_17_x86_64.manylinux2014_x86_64.whl.metadata (18 kB)\n",
            "Collecting setuptools (from pyLDAvis)\n",
            "  Downloading setuptools-80.9.0-py3-none-any.whl.metadata (6.6 kB)\n",
            "Collecting spacy-legacy<3.1.0,>=3.0.11 (from spacy)\n",
            "  Downloading spacy_legacy-3.0.12-py2.py3-none-any.whl.metadata (2.8 kB)\n",
            "Collecting spacy-loggers<2.0.0,>=1.0.0 (from spacy)\n",
            "  Downloading spacy_loggers-1.0.5-py3-none-any.whl.metadata (23 kB)\n",
            "Collecting murmurhash<1.1.0,>=0.28.0 (from spacy)\n",
            "  Downloading murmurhash-1.0.13-cp311-cp311-manylinux_2_5_x86_64.manylinux1_x86_64.manylinux_2_17_x86_64.manylinux2014_x86_64.whl.metadata (2.2 kB)\n",
            "Collecting cymem<2.1.0,>=2.0.2 (from spacy)\n",
            "  Downloading cymem-2.0.11-cp311-cp311-manylinux_2_17_x86_64.manylinux2014_x86_64.whl.metadata (8.5 kB)\n",
            "Collecting preshed<3.1.0,>=3.0.2 (from spacy)\n",
            "  Downloading preshed-3.0.10-cp311-cp311-manylinux_2_5_x86_64.manylinux1_x86_64.manylinux_2_17_x86_64.manylinux2014_x86_64.whl.metadata (2.4 kB)\n",
            "Collecting thinc<8.4.0,>=8.3.4 (from spacy)\n",
            "  Downloading thinc-8.3.6-cp311-cp311-manylinux_2_17_x86_64.manylinux2014_x86_64.whl.metadata (15 kB)\n",
            "Collecting wasabi<1.2.0,>=0.9.1 (from spacy)\n",
            "  Downloading wasabi-1.1.3-py3-none-any.whl.metadata (28 kB)\n",
            "Collecting srsly<3.0.0,>=2.4.3 (from spacy)\n",
            "  Downloading srsly-2.5.1-cp311-cp311-manylinux_2_17_x86_64.manylinux2014_x86_64.whl.metadata (19 kB)\n",
            "Collecting catalogue<2.1.0,>=2.0.6 (from spacy)\n",
            "  Downloading catalogue-2.0.10-py3-none-any.whl.metadata (14 kB)\n",
            "Collecting weasel<0.5.0,>=0.1.0 (from spacy)\n",
            "  Downloading weasel-0.4.1-py3-none-any.whl.metadata (4.6 kB)\n",
            "Collecting typer<1.0.0,>=0.3.0 (from spacy)\n",
            "  Downloading typer-0.16.0-py3-none-any.whl.metadata (15 kB)\n",
            "Collecting tqdm<5.0.0,>=4.38.0 (from spacy)\n",
            "  Downloading tqdm-4.67.1-py3-none-any.whl.metadata (57 kB)\n",
            "\u001b[2K     \u001b[90m━━━━━━━━━━━━━━━━━━━━━━━━━━━━━━━━━━━━━━━━\u001b[0m \u001b[32m57.7/57.7 kB\u001b[0m \u001b[31m3.5 MB/s\u001b[0m eta \u001b[36m0:00:00\u001b[0m\n",
            "\u001b[?25hCollecting requests<3.0.0,>=2.13.0 (from spacy)\n",
            "  Downloading requests-2.32.3-py3-none-any.whl.metadata (4.6 kB)\n",
            "Collecting pydantic!=1.8,!=1.8.1,<3.0.0,>=1.7.4 (from spacy)\n",
            "  Downloading pydantic-2.11.5-py3-none-any.whl.metadata (67 kB)\n",
            "\u001b[2K     \u001b[90m━━━━━━━━━━━━━━━━━━━━━━━━━━━━━━━━━━━━━━━━\u001b[0m \u001b[32m67.2/67.2 kB\u001b[0m \u001b[31m4.0 MB/s\u001b[0m eta \u001b[36m0:00:00\u001b[0m\n",
            "\u001b[?25hCollecting packaging>=20.0 (from spacy)\n",
            "  Downloading packaging-25.0-py3-none-any.whl.metadata (3.3 kB)\n",
            "Collecting langcodes<4.0.0,>=3.2.0 (from spacy)\n",
            "  Downloading langcodes-3.5.0-py3-none-any.whl.metadata (29 kB)\n",
            "Collecting click (from nltk)\n",
            "  Downloading click-8.2.1-py3-none-any.whl.metadata (2.5 kB)\n",
            "Collecting regex>=2021.8.3 (from nltk)\n",
            "  Downloading regex-2024.11.6-cp311-cp311-manylinux_2_17_x86_64.manylinux2014_x86_64.whl.metadata (40 kB)\n",
            "\u001b[2K     \u001b[90m━━━━━━━━━━━━━━━━━━━━━━━━━━━━━━━━━━━━━━━━\u001b[0m \u001b[32m40.5/40.5 kB\u001b[0m \u001b[31m2.4 MB/s\u001b[0m eta \u001b[36m0:00:00\u001b[0m\n",
            "\u001b[?25hCollecting python-dateutil>=2.8.2 (from pandas)\n",
            "  Downloading python_dateutil-2.9.0.post0-py2.py3-none-any.whl.metadata (8.4 kB)\n",
            "Collecting pytz>=2020.1 (from pandas)\n",
            "  Downloading pytz-2025.2-py2.py3-none-any.whl.metadata (22 kB)\n",
            "Collecting tzdata>=2022.7 (from pandas)\n",
            "  Downloading tzdata-2025.2-py2.py3-none-any.whl.metadata (1.4 kB)\n",
            "Collecting language-data>=1.2 (from langcodes<4.0.0,>=3.2.0->spacy)\n",
            "  Downloading language_data-1.3.0-py3-none-any.whl.metadata (4.3 kB)\n",
            "Collecting annotated-types>=0.6.0 (from pydantic!=1.8,!=1.8.1,<3.0.0,>=1.7.4->spacy)\n",
            "  Downloading annotated_types-0.7.0-py3-none-any.whl.metadata (15 kB)\n",
            "Collecting pydantic-core==2.33.2 (from pydantic!=1.8,!=1.8.1,<3.0.0,>=1.7.4->spacy)\n",
            "  Downloading pydantic_core-2.33.2-cp311-cp311-manylinux_2_17_x86_64.manylinux2014_x86_64.whl.metadata (6.8 kB)\n",
            "Collecting typing-extensions>=4.12.2 (from pydantic!=1.8,!=1.8.1,<3.0.0,>=1.7.4->spacy)\n",
            "  Downloading typing_extensions-4.13.2-py3-none-any.whl.metadata (3.0 kB)\n",
            "Collecting typing-inspection>=0.4.0 (from pydantic!=1.8,!=1.8.1,<3.0.0,>=1.7.4->spacy)\n",
            "  Downloading typing_inspection-0.4.1-py3-none-any.whl.metadata (2.6 kB)\n",
            "Collecting six>=1.5 (from python-dateutil>=2.8.2->pandas)\n",
            "  Downloading six-1.17.0-py2.py3-none-any.whl.metadata (1.7 kB)\n",
            "Collecting charset-normalizer<4,>=2 (from requests<3.0.0,>=2.13.0->spacy)\n",
            "  Downloading charset_normalizer-3.4.2-cp311-cp311-manylinux_2_17_x86_64.manylinux2014_x86_64.whl.metadata (35 kB)\n",
            "Collecting idna<4,>=2.5 (from requests<3.0.0,>=2.13.0->spacy)\n",
            "  Downloading idna-3.10-py3-none-any.whl.metadata (10 kB)\n",
            "Collecting urllib3<3,>=1.21.1 (from requests<3.0.0,>=2.13.0->spacy)\n",
            "  Downloading urllib3-2.4.0-py3-none-any.whl.metadata (6.5 kB)\n",
            "Collecting certifi>=2017.4.17 (from requests<3.0.0,>=2.13.0->spacy)\n",
            "  Downloading certifi-2025.4.26-py3-none-any.whl.metadata (2.5 kB)\n",
            "Collecting threadpoolctl>=3.1.0 (from scikit-learn>=1.0.0->pyLDAvis)\n",
            "  Downloading threadpoolctl-3.6.0-py3-none-any.whl.metadata (13 kB)\n",
            "Collecting wrapt (from smart-open>=1.8.1->gensim)\n",
            "  Downloading wrapt-1.17.2-cp311-cp311-manylinux_2_5_x86_64.manylinux1_x86_64.manylinux_2_17_x86_64.manylinux2014_x86_64.whl.metadata (6.4 kB)\n",
            "Collecting blis<1.4.0,>=1.3.0 (from thinc<8.4.0,>=8.3.4->spacy)\n",
            "  Downloading blis-1.3.0-cp311-cp311-manylinux_2_17_x86_64.manylinux2014_x86_64.whl.metadata (7.4 kB)\n",
            "Collecting confection<1.0.0,>=0.0.1 (from thinc<8.4.0,>=8.3.4->spacy)\n",
            "  Downloading confection-0.1.5-py3-none-any.whl.metadata (19 kB)\n",
            "INFO: pip is looking at multiple versions of thinc to determine which version is compatible with other requirements. This could take a while.\n",
            "Collecting thinc<8.4.0,>=8.3.4 (from spacy)\n",
            "  Downloading thinc-8.3.4-cp311-cp311-manylinux_2_17_x86_64.manylinux2014_x86_64.whl.metadata (15 kB)\n",
            "Collecting blis<1.3.0,>=1.2.0 (from thinc<8.4.0,>=8.3.4->spacy)\n",
            "  Downloading blis-1.2.1-cp311-cp311-manylinux_2_17_x86_64.manylinux2014_x86_64.whl.metadata (7.4 kB)\n",
            "Collecting shellingham>=1.3.0 (from typer<1.0.0,>=0.3.0->spacy)\n",
            "  Downloading shellingham-1.5.4-py2.py3-none-any.whl.metadata (3.5 kB)\n",
            "Collecting rich>=10.11.0 (from typer<1.0.0,>=0.3.0->spacy)\n",
            "  Downloading rich-14.0.0-py3-none-any.whl.metadata (18 kB)\n",
            "Collecting cloudpathlib<1.0.0,>=0.7.0 (from weasel<0.5.0,>=0.1.0->spacy)\n",
            "  Downloading cloudpathlib-0.21.1-py3-none-any.whl.metadata (14 kB)\n",
            "Collecting MarkupSafe>=2.0 (from jinja2->pyLDAvis)\n",
            "  Downloading MarkupSafe-3.0.2-cp311-cp311-manylinux_2_17_x86_64.manylinux2014_x86_64.whl.metadata (4.0 kB)\n",
            "Collecting marisa-trie>=1.1.0 (from language-data>=1.2->langcodes<4.0.0,>=3.2.0->spacy)\n",
            "  Downloading marisa_trie-1.2.1-cp311-cp311-manylinux_2_17_x86_64.manylinux2014_x86_64.whl.metadata (9.0 kB)\n",
            "Collecting markdown-it-py>=2.2.0 (from rich>=10.11.0->typer<1.0.0,>=0.3.0->spacy)\n",
            "  Downloading markdown_it_py-3.0.0-py3-none-any.whl.metadata (6.9 kB)\n",
            "Collecting pygments<3.0.0,>=2.13.0 (from rich>=10.11.0->typer<1.0.0,>=0.3.0->spacy)\n",
            "  Downloading pygments-2.19.1-py3-none-any.whl.metadata (2.5 kB)\n",
            "Collecting mdurl~=0.1 (from markdown-it-py>=2.2.0->rich>=10.11.0->typer<1.0.0,>=0.3.0->spacy)\n",
            "  Downloading mdurl-0.1.2-py3-none-any.whl.metadata (1.6 kB)\n",
            "Downloading gensim-4.3.3-cp311-cp311-manylinux_2_17_x86_64.manylinux2014_x86_64.whl (26.7 MB)\n",
            "\u001b[2K   \u001b[90m━━━━━━━━━━━━━━━━━━━━━━━━━━━━━━━━━━━━━━━━\u001b[0m \u001b[32m26.7/26.7 MB\u001b[0m \u001b[31m49.1 MB/s\u001b[0m eta \u001b[36m0:00:00\u001b[0m\n",
            "\u001b[?25hDownloading pyLDAvis-3.4.1-py3-none-any.whl (2.6 MB)\n",
            "\u001b[2K   \u001b[90m━━━━━━━━━━━━━━━━━━━━━━━━━━━━━━━━━━━━━━━━\u001b[0m \u001b[32m2.6/2.6 MB\u001b[0m \u001b[31m50.3 MB/s\u001b[0m eta \u001b[36m0:00:00\u001b[0m\n",
            "\u001b[?25hDownloading spacy-3.8.7-cp311-cp311-manylinux_2_17_x86_64.manylinux2014_x86_64.whl (33.0 MB)\n",
            "\u001b[2K   \u001b[90m━━━━━━━━━━━━━━━━━━━━━━━━━━━━━━━━━━━━━━━━\u001b[0m \u001b[32m33.0/33.0 MB\u001b[0m \u001b[31m20.6 MB/s\u001b[0m eta \u001b[36m0:00:00\u001b[0m\n",
            "\u001b[?25hDownloading nltk-3.9.1-py3-none-any.whl (1.5 MB)\n",
            "\u001b[2K   \u001b[90m━━━━━━━━━━━━━━━━━━━━━━━━━━━━━━━━━━━━━━━━\u001b[0m \u001b[32m1.5/1.5 MB\u001b[0m \u001b[31m57.5 MB/s\u001b[0m eta \u001b[36m0:00:00\u001b[0m\n",
            "\u001b[?25hDownloading pandas-2.2.3-cp311-cp311-manylinux_2_17_x86_64.manylinux2014_x86_64.whl (13.1 MB)\n",
            "\u001b[2K   \u001b[90m━━━━━━━━━━━━━━━━━━━━━━━━━━━━━━━━━━━━━━━━\u001b[0m \u001b[32m13.1/13.1 MB\u001b[0m \u001b[31m91.6 MB/s\u001b[0m eta \u001b[36m0:00:00\u001b[0m\n",
            "\u001b[?25hDownloading catalogue-2.0.10-py3-none-any.whl (17 kB)\n",
            "Downloading cymem-2.0.11-cp311-cp311-manylinux_2_17_x86_64.manylinux2014_x86_64.whl (218 kB)\n",
            "\u001b[2K   \u001b[90m━━━━━━━━━━━━━━━━━━━━━━━━━━━━━━━━━━━━━━━━\u001b[0m \u001b[32m218.9/218.9 kB\u001b[0m \u001b[31m13.8 MB/s\u001b[0m eta \u001b[36m0:00:00\u001b[0m\n",
            "\u001b[?25hDownloading joblib-1.5.1-py3-none-any.whl (307 kB)\n",
            "\u001b[2K   \u001b[90m━━━━━━━━━━━━━━━━━━━━━━━━━━━━━━━━━━━━━━━━\u001b[0m \u001b[32m307.7/307.7 kB\u001b[0m \u001b[31m18.8 MB/s\u001b[0m eta \u001b[36m0:00:00\u001b[0m\n",
            "\u001b[?25hDownloading langcodes-3.5.0-py3-none-any.whl (182 kB)\n",
            "\u001b[2K   \u001b[90m━━━━━━━━━━━━━━━━━━━━━━━━━━━━━━━━━━━━━━━━\u001b[0m \u001b[32m183.0/183.0 kB\u001b[0m \u001b[31m12.1 MB/s\u001b[0m eta \u001b[36m0:00:00\u001b[0m\n",
            "\u001b[?25hDownloading murmurhash-1.0.13-cp311-cp311-manylinux_2_5_x86_64.manylinux1_x86_64.manylinux_2_17_x86_64.manylinux2014_x86_64.whl (123 kB)\n",
            "\u001b[2K   \u001b[90m━━━━━━━━━━━━━━━━━━━━━━━━━━━━━━━━━━━━━━━━\u001b[0m \u001b[32m123.4/123.4 kB\u001b[0m \u001b[31m8.7 MB/s\u001b[0m eta \u001b[36m0:00:00\u001b[0m\n",
            "\u001b[?25hDownloading numpy-1.26.4-cp311-cp311-manylinux_2_17_x86_64.manylinux2014_x86_64.whl (18.3 MB)\n",
            "\u001b[2K   \u001b[90m━━━━━━━━━━━━━━━━━━━━━━━━━━━━━━━━━━━━━━━━\u001b[0m \u001b[32m18.3/18.3 MB\u001b[0m \u001b[31m81.6 MB/s\u001b[0m eta \u001b[36m0:00:00\u001b[0m\n",
            "\u001b[?25hDownloading packaging-25.0-py3-none-any.whl (66 kB)\n",
            "\u001b[2K   \u001b[90m━━━━━━━━━━━━━━━━━━━━━━━━━━━━━━━━━━━━━━━━\u001b[0m \u001b[32m66.5/66.5 kB\u001b[0m \u001b[31m4.4 MB/s\u001b[0m eta \u001b[36m0:00:00\u001b[0m\n",
            "\u001b[?25hDownloading preshed-3.0.10-cp311-cp311-manylinux_2_5_x86_64.manylinux1_x86_64.manylinux_2_17_x86_64.manylinux2014_x86_64.whl (842 kB)\n",
            "\u001b[2K   \u001b[90m━━━━━━━━━━━━━━━━━━━━━━━━━━━━━━━━━━━━━━━━\u001b[0m \u001b[32m842.9/842.9 kB\u001b[0m \u001b[31m40.3 MB/s\u001b[0m eta \u001b[36m0:00:00\u001b[0m\n",
            "\u001b[?25hDownloading pydantic-2.11.5-py3-none-any.whl (444 kB)\n",
            "\u001b[2K   \u001b[90m━━━━━━━━━━━━━━━━━━━━━━━━━━━━━━━━━━━━━━━━\u001b[0m \u001b[32m444.2/444.2 kB\u001b[0m \u001b[31m22.2 MB/s\u001b[0m eta \u001b[36m0:00:00\u001b[0m\n",
            "\u001b[?25hDownloading pydantic_core-2.33.2-cp311-cp311-manylinux_2_17_x86_64.manylinux2014_x86_64.whl (2.0 MB)\n",
            "\u001b[2K   \u001b[90m━━━━━━━━━━━━━━━━━━━━━━━━━━━━━━━━━━━━━━━━\u001b[0m \u001b[32m2.0/2.0 MB\u001b[0m \u001b[31m61.2 MB/s\u001b[0m eta \u001b[36m0:00:00\u001b[0m\n",
            "\u001b[?25hDownloading python_dateutil-2.9.0.post0-py2.py3-none-any.whl (229 kB)\n",
            "\u001b[2K   \u001b[90m━━━━━━━━━━━━━━━━━━━━━━━━━━━━━━━━━━━━━━━━\u001b[0m \u001b[32m229.9/229.9 kB\u001b[0m \u001b[31m13.4 MB/s\u001b[0m eta \u001b[36m0:00:00\u001b[0m\n",
            "\u001b[?25hDownloading pytz-2025.2-py2.py3-none-any.whl (509 kB)\n",
            "\u001b[2K   \u001b[90m━━━━━━━━━━━━━━━━━━━━━━━━━━━━━━━━━━━━━━━━\u001b[0m \u001b[32m509.2/509.2 kB\u001b[0m \u001b[31m28.2 MB/s\u001b[0m eta \u001b[36m0:00:00\u001b[0m\n",
            "\u001b[?25hDownloading regex-2024.11.6-cp311-cp311-manylinux_2_17_x86_64.manylinux2014_x86_64.whl (792 kB)\n",
            "\u001b[2K   \u001b[90m━━━━━━━━━━━━━━━━━━━━━━━━━━━━━━━━━━━━━━━━\u001b[0m \u001b[32m792.7/792.7 kB\u001b[0m \u001b[31m29.9 MB/s\u001b[0m eta \u001b[36m0:00:00\u001b[0m\n",
            "\u001b[?25hDownloading requests-2.32.3-py3-none-any.whl (64 kB)\n",
            "\u001b[2K   \u001b[90m━━━━━━━━━━━━━━━━━━━━━━━━━━━━━━━━━━━━━━━━\u001b[0m \u001b[32m64.9/64.9 kB\u001b[0m \u001b[31m3.9 MB/s\u001b[0m eta \u001b[36m0:00:00\u001b[0m\n",
            "\u001b[?25hDownloading scikit_learn-1.6.1-cp311-cp311-manylinux_2_17_x86_64.manylinux2014_x86_64.whl (13.5 MB)\n",
            "\u001b[2K   \u001b[90m━━━━━━━━━━━━━━━━━━━━━━━━━━━━━━━━━━━━━━━━\u001b[0m \u001b[32m13.5/13.5 MB\u001b[0m \u001b[31m80.6 MB/s\u001b[0m eta \u001b[36m0:00:00\u001b[0m\n",
            "\u001b[?25hDownloading scipy-1.13.1-cp311-cp311-manylinux_2_17_x86_64.manylinux2014_x86_64.whl (38.6 MB)\n",
            "\u001b[2K   \u001b[90m━━━━━━━━━━━━━━━━━━━━━━━━━━━━━━━━━━━━━━━━\u001b[0m \u001b[32m38.6/38.6 MB\u001b[0m \u001b[31m14.2 MB/s\u001b[0m eta \u001b[36m0:00:00\u001b[0m\n",
            "\u001b[?25hDownloading smart_open-7.1.0-py3-none-any.whl (61 kB)\n",
            "\u001b[2K   \u001b[90m━━━━━━━━━━━━━━━━━━━━━━━━━━━━━━━━━━━━━━━━\u001b[0m \u001b[32m61.7/61.7 kB\u001b[0m \u001b[31m3.9 MB/s\u001b[0m eta \u001b[36m0:00:00\u001b[0m\n",
            "\u001b[?25hDownloading spacy_legacy-3.0.12-py2.py3-none-any.whl (29 kB)\n",
            "Downloading spacy_loggers-1.0.5-py3-none-any.whl (22 kB)\n",
            "Downloading srsly-2.5.1-cp311-cp311-manylinux_2_17_x86_64.manylinux2014_x86_64.whl (1.1 MB)\n",
            "\u001b[2K   \u001b[90m━━━━━━━━━━━━━━━━━━━━━━━━━━━━━━━━━━━━━━━━\u001b[0m \u001b[32m1.1/1.1 MB\u001b[0m \u001b[31m50.6 MB/s\u001b[0m eta \u001b[36m0:00:00\u001b[0m\n",
            "\u001b[?25hDownloading thinc-8.3.4-cp311-cp311-manylinux_2_17_x86_64.manylinux2014_x86_64.whl (3.9 MB)\n",
            "\u001b[2K   \u001b[90m━━━━━━━━━━━━━━━━━━━━━━━━━━━━━━━━━━━━━━━━\u001b[0m \u001b[32m3.9/3.9 MB\u001b[0m \u001b[31m89.9 MB/s\u001b[0m eta \u001b[36m0:00:00\u001b[0m\n",
            "\u001b[?25hDownloading tqdm-4.67.1-py3-none-any.whl (78 kB)\n",
            "\u001b[2K   \u001b[90m━━━━━━━━━━━━━━━━━━━━━━━━━━━━━━━━━━━━━━━━\u001b[0m \u001b[32m78.5/78.5 kB\u001b[0m \u001b[31m4.9 MB/s\u001b[0m eta \u001b[36m0:00:00\u001b[0m\n",
            "\u001b[?25hDownloading typer-0.16.0-py3-none-any.whl (46 kB)\n",
            "\u001b[2K   \u001b[90m━━━━━━━━━━━━━━━━━━━━━━━━━━━━━━━━━━━━━━━━\u001b[0m \u001b[32m46.3/46.3 kB\u001b[0m \u001b[31m2.7 MB/s\u001b[0m eta \u001b[36m0:00:00\u001b[0m\n",
            "\u001b[?25hDownloading click-8.2.1-py3-none-any.whl (102 kB)\n",
            "\u001b[2K   \u001b[90m━━━━━━━━━━━━━━━━━━━━━━━━━━━━━━━━━━━━━━━━\u001b[0m \u001b[32m102.2/102.2 kB\u001b[0m \u001b[31m6.7 MB/s\u001b[0m eta \u001b[36m0:00:00\u001b[0m\n",
            "\u001b[?25hDownloading tzdata-2025.2-py2.py3-none-any.whl (347 kB)\n",
            "\u001b[2K   \u001b[90m━━━━━━━━━━━━━━━━━━━━━━━━━━━━━━━━━━━━━━━━\u001b[0m \u001b[32m347.8/347.8 kB\u001b[0m \u001b[31m20.7 MB/s\u001b[0m eta \u001b[36m0:00:00\u001b[0m\n",
            "\u001b[?25hDownloading wasabi-1.1.3-py3-none-any.whl (27 kB)\n",
            "Downloading weasel-0.4.1-py3-none-any.whl (50 kB)\n",
            "\u001b[2K   \u001b[90m━━━━━━━━━━━━━━━━━━━━━━━━━━━━━━━━━━━━━━━━\u001b[0m \u001b[32m50.3/50.3 kB\u001b[0m \u001b[31m2.9 MB/s\u001b[0m eta \u001b[36m0:00:00\u001b[0m\n",
            "\u001b[?25hDownloading funcy-2.0-py2.py3-none-any.whl (30 kB)\n",
            "Downloading jinja2-3.1.6-py3-none-any.whl (134 kB)\n",
            "\u001b[2K   \u001b[90m━━━━━━━━━━━━━━━━━━━━━━━━━━━━━━━━━━━━━━━━\u001b[0m \u001b[32m134.9/134.9 kB\u001b[0m \u001b[31m9.1 MB/s\u001b[0m eta \u001b[36m0:00:00\u001b[0m\n",
            "\u001b[?25hDownloading numexpr-2.10.2-cp311-cp311-manylinux_2_27_x86_64.manylinux_2_28_x86_64.whl (398 kB)\n",
            "\u001b[2K   \u001b[90m━━━━━━━━━━━━━━━━━━━━━━━━━━━━━━━━━━━━━━━━\u001b[0m \u001b[32m398.9/398.9 kB\u001b[0m \u001b[31m22.9 MB/s\u001b[0m eta \u001b[36m0:00:00\u001b[0m\n",
            "\u001b[?25hDownloading setuptools-80.9.0-py3-none-any.whl (1.2 MB)\n",
            "\u001b[2K   \u001b[90m━━━━━━━━━━━━━━━━━━━━━━━━━━━━━━━━━━━━━━━━\u001b[0m \u001b[32m1.2/1.2 MB\u001b[0m \u001b[31m49.9 MB/s\u001b[0m eta \u001b[36m0:00:00\u001b[0m\n",
            "\u001b[?25hDownloading annotated_types-0.7.0-py3-none-any.whl (13 kB)\n",
            "Downloading blis-1.2.1-cp311-cp311-manylinux_2_17_x86_64.manylinux2014_x86_64.whl (11.7 MB)\n",
            "\u001b[2K   \u001b[90m━━━━━━━━━━━━━━━━━━━━━━━━━━━━━━━━━━━━━━━━\u001b[0m \u001b[32m11.7/11.7 MB\u001b[0m \u001b[31m101.1 MB/s\u001b[0m eta \u001b[36m0:00:00\u001b[0m\n",
            "\u001b[?25hDownloading certifi-2025.4.26-py3-none-any.whl (159 kB)\n",
            "\u001b[2K   \u001b[90m━━━━━━━━━━━━━━━━━━━━━━━━━━━━━━━━━━━━━━━━\u001b[0m \u001b[32m159.6/159.6 kB\u001b[0m \u001b[31m10.6 MB/s\u001b[0m eta \u001b[36m0:00:00\u001b[0m\n",
            "\u001b[?25hDownloading charset_normalizer-3.4.2-cp311-cp311-manylinux_2_17_x86_64.manylinux2014_x86_64.whl (147 kB)\n",
            "\u001b[2K   \u001b[90m━━━━━━━━━━━━━━━━━━━━━━━━━━━━━━━━━━━━━━━━\u001b[0m \u001b[32m147.3/147.3 kB\u001b[0m \u001b[31m9.6 MB/s\u001b[0m eta \u001b[36m0:00:00\u001b[0m\n",
            "\u001b[?25hDownloading cloudpathlib-0.21.1-py3-none-any.whl (52 kB)\n",
            "\u001b[2K   \u001b[90m━━━━━━━━━━━━━━━━━━━━━━━━━━━━━━━━━━━━━━━━\u001b[0m \u001b[32m52.8/52.8 kB\u001b[0m \u001b[31m3.4 MB/s\u001b[0m eta \u001b[36m0:00:00\u001b[0m\n",
            "\u001b[?25hDownloading confection-0.1.5-py3-none-any.whl (35 kB)\n",
            "Downloading idna-3.10-py3-none-any.whl (70 kB)\n",
            "\u001b[2K   \u001b[90m━━━━━━━━━━━━━━━━━━━━━━━━━━━━━━━━━━━━━━━━\u001b[0m \u001b[32m70.4/70.4 kB\u001b[0m \u001b[31m5.2 MB/s\u001b[0m eta \u001b[36m0:00:00\u001b[0m\n",
            "\u001b[?25hDownloading language_data-1.3.0-py3-none-any.whl (5.4 MB)\n",
            "\u001b[2K   \u001b[90m━━━━━━━━━━━━━━━━━━━━━━━━━━━━━━━━━━━━━━━━\u001b[0m \u001b[32m5.4/5.4 MB\u001b[0m \u001b[31m88.1 MB/s\u001b[0m eta \u001b[36m0:00:00\u001b[0m\n",
            "\u001b[?25hDownloading MarkupSafe-3.0.2-cp311-cp311-manylinux_2_17_x86_64.manylinux2014_x86_64.whl (23 kB)\n",
            "Downloading rich-14.0.0-py3-none-any.whl (243 kB)\n",
            "\u001b[2K   \u001b[90m━━━━━━━━━━━━━━━━━━━━━━━━━━━━━━━━━━━━━━━━\u001b[0m \u001b[32m243.2/243.2 kB\u001b[0m \u001b[31m13.0 MB/s\u001b[0m eta \u001b[36m0:00:00\u001b[0m\n",
            "\u001b[?25hDownloading shellingham-1.5.4-py2.py3-none-any.whl (9.8 kB)\n",
            "Downloading six-1.17.0-py2.py3-none-any.whl (11 kB)\n",
            "Downloading threadpoolctl-3.6.0-py3-none-any.whl (18 kB)\n",
            "Downloading typing_extensions-4.13.2-py3-none-any.whl (45 kB)\n",
            "\u001b[2K   \u001b[90m━━━━━━━━━━━━━━━━━━━━━━━━━━━━━━━━━━━━━━━━\u001b[0m \u001b[32m45.8/45.8 kB\u001b[0m \u001b[31m2.9 MB/s\u001b[0m eta \u001b[36m0:00:00\u001b[0m\n",
            "\u001b[?25hDownloading typing_inspection-0.4.1-py3-none-any.whl (14 kB)\n",
            "Downloading urllib3-2.4.0-py3-none-any.whl (128 kB)\n",
            "\u001b[2K   \u001b[90m━━━━━━━━━━━━━━━━━━━━━━━━━━━━━━━━━━━━━━━━\u001b[0m \u001b[32m128.7/128.7 kB\u001b[0m \u001b[31m8.6 MB/s\u001b[0m eta \u001b[36m0:00:00\u001b[0m\n",
            "\u001b[?25hDownloading wrapt-1.17.2-cp311-cp311-manylinux_2_5_x86_64.manylinux1_x86_64.manylinux_2_17_x86_64.manylinux2014_x86_64.whl (83 kB)\n",
            "\u001b[2K   \u001b[90m━━━━━━━━━━━━━━━━━━━━━━━━━━━━━━━━━━━━━━━━\u001b[0m \u001b[32m83.2/83.2 kB\u001b[0m \u001b[31m5.5 MB/s\u001b[0m eta \u001b[36m0:00:00\u001b[0m\n",
            "\u001b[?25hDownloading marisa_trie-1.2.1-cp311-cp311-manylinux_2_17_x86_64.manylinux2014_x86_64.whl (1.4 MB)\n",
            "\u001b[2K   \u001b[90m━━━━━━━━━━━━━━━━━━━━━━━━━━━━━━━━━━━━━━━━\u001b[0m \u001b[32m1.4/1.4 MB\u001b[0m \u001b[31m52.8 MB/s\u001b[0m eta \u001b[36m0:00:00\u001b[0m\n",
            "\u001b[?25hDownloading markdown_it_py-3.0.0-py3-none-any.whl (87 kB)\n",
            "\u001b[2K   \u001b[90m━━━━━━━━━━━━━━━━━━━━━━━━━━━━━━━━━━━━━━━━\u001b[0m \u001b[32m87.5/87.5 kB\u001b[0m \u001b[31m5.6 MB/s\u001b[0m eta \u001b[36m0:00:00\u001b[0m\n",
            "\u001b[?25hDownloading pygments-2.19.1-py3-none-any.whl (1.2 MB)\n",
            "\u001b[2K   \u001b[90m━━━━━━━━━━━━━━━━━━━━━━━━━━━━━━━━━━━━━━━━\u001b[0m \u001b[32m1.2/1.2 MB\u001b[0m \u001b[31m47.9 MB/s\u001b[0m eta \u001b[36m0:00:00\u001b[0m\n",
            "\u001b[?25hDownloading mdurl-0.1.2-py3-none-any.whl (10.0 kB)\n",
            "Installing collected packages: pytz, funcy, cymem, wrapt, wasabi, urllib3, tzdata, typing-extensions, tqdm, threadpoolctl, spacy-loggers, spacy-legacy, six, shellingham, setuptools, regex, pygments, packaging, numpy, murmurhash, mdurl, MarkupSafe, joblib, idna, cloudpathlib, click, charset-normalizer, certifi, catalogue, annotated-types, typing-inspection, srsly, smart-open, scipy, requests, python-dateutil, pydantic-core, preshed, numexpr, nltk, markdown-it-py, marisa-trie, jinja2, blis, scikit-learn, rich, pydantic, pandas, language-data, gensim, typer, pyLDAvis, langcodes, confection, weasel, thinc, spacy\n",
            "  Attempting uninstall: pytz\n",
            "    Found existing installation: pytz 2025.1\n",
            "    Uninstalling pytz-2025.1:\n",
            "      Successfully uninstalled pytz-2025.1\n",
            "  Attempting uninstall: cymem\n",
            "    Found existing installation: cymem 2.0.11\n",
            "    Uninstalling cymem-2.0.11:\n",
            "      Successfully uninstalled cymem-2.0.11\n",
            "  Attempting uninstall: wrapt\n",
            "    Found existing installation: wrapt 1.17.2\n",
            "    Uninstalling wrapt-1.17.2:\n",
            "      Successfully uninstalled wrapt-1.17.2\n",
            "  Attempting uninstall: wasabi\n",
            "    Found existing installation: wasabi 1.1.3\n",
            "    Uninstalling wasabi-1.1.3:\n",
            "      Successfully uninstalled wasabi-1.1.3\n",
            "  Attempting uninstall: urllib3\n",
            "    Found existing installation: urllib3 2.3.0\n",
            "    Uninstalling urllib3-2.3.0:\n",
            "      Successfully uninstalled urllib3-2.3.0\n",
            "  Attempting uninstall: tzdata\n",
            "    Found existing installation: tzdata 2025.1\n",
            "    Uninstalling tzdata-2025.1:\n",
            "      Successfully uninstalled tzdata-2025.1\n",
            "  Attempting uninstall: typing-extensions\n",
            "    Found existing installation: typing_extensions 4.12.2\n",
            "    Uninstalling typing_extensions-4.12.2:\n",
            "      Successfully uninstalled typing_extensions-4.12.2\n",
            "  Attempting uninstall: tqdm\n",
            "    Found existing installation: tqdm 4.67.1\n",
            "    Uninstalling tqdm-4.67.1:\n",
            "      Successfully uninstalled tqdm-4.67.1\n",
            "  Attempting uninstall: threadpoolctl\n",
            "    Found existing installation: threadpoolctl 3.5.0\n",
            "    Uninstalling threadpoolctl-3.5.0:\n",
            "      Successfully uninstalled threadpoolctl-3.5.0\n",
            "  Attempting uninstall: spacy-loggers\n",
            "    Found existing installation: spacy-loggers 1.0.5\n",
            "    Uninstalling spacy-loggers-1.0.5:\n",
            "      Successfully uninstalled spacy-loggers-1.0.5\n",
            "  Attempting uninstall: spacy-legacy\n",
            "    Found existing installation: spacy-legacy 3.0.12\n",
            "    Uninstalling spacy-legacy-3.0.12:\n",
            "      Successfully uninstalled spacy-legacy-3.0.12\n",
            "  Attempting uninstall: six\n",
            "    Found existing installation: six 1.17.0\n",
            "    Uninstalling six-1.17.0:\n",
            "      Successfully uninstalled six-1.17.0\n",
            "  Attempting uninstall: shellingham\n",
            "    Found existing installation: shellingham 1.5.4\n",
            "    Uninstalling shellingham-1.5.4:\n",
            "      Successfully uninstalled shellingham-1.5.4\n",
            "  Attempting uninstall: setuptools\n",
            "    Found existing installation: setuptools 75.1.0\n",
            "    Uninstalling setuptools-75.1.0:\n",
            "      Successfully uninstalled setuptools-75.1.0\n",
            "  Attempting uninstall: regex\n",
            "    Found existing installation: regex 2024.11.6\n",
            "    Uninstalling regex-2024.11.6:\n",
            "      Successfully uninstalled regex-2024.11.6\n",
            "  Attempting uninstall: pygments\n",
            "    Found existing installation: Pygments 2.18.0\n",
            "    Uninstalling Pygments-2.18.0:\n",
            "      Successfully uninstalled Pygments-2.18.0\n",
            "  Attempting uninstall: packaging\n",
            "    Found existing installation: packaging 24.2\n",
            "    Uninstalling packaging-24.2:\n",
            "      Successfully uninstalled packaging-24.2\n",
            "  Attempting uninstall: numpy\n",
            "    Found existing installation: numpy 1.26.4\n",
            "    Uninstalling numpy-1.26.4:\n",
            "      Successfully uninstalled numpy-1.26.4\n",
            "  Attempting uninstall: murmurhash\n",
            "    Found existing installation: murmurhash 1.0.12\n",
            "    Uninstalling murmurhash-1.0.12:\n",
            "      Successfully uninstalled murmurhash-1.0.12\n",
            "  Attempting uninstall: mdurl\n",
            "    Found existing installation: mdurl 0.1.2\n",
            "    Uninstalling mdurl-0.1.2:\n",
            "      Successfully uninstalled mdurl-0.1.2\n",
            "  Attempting uninstall: MarkupSafe\n",
            "    Found existing installation: MarkupSafe 3.0.2\n",
            "    Uninstalling MarkupSafe-3.0.2:\n",
            "      Successfully uninstalled MarkupSafe-3.0.2\n",
            "  Attempting uninstall: joblib\n",
            "    Found existing installation: joblib 1.4.2\n",
            "    Uninstalling joblib-1.4.2:\n",
            "      Successfully uninstalled joblib-1.4.2\n",
            "  Attempting uninstall: idna\n",
            "    Found existing installation: idna 3.10\n",
            "    Uninstalling idna-3.10:\n",
            "      Successfully uninstalled idna-3.10\n",
            "  Attempting uninstall: cloudpathlib\n",
            "    Found existing installation: cloudpathlib 0.20.0\n",
            "    Uninstalling cloudpathlib-0.20.0:\n",
            "      Successfully uninstalled cloudpathlib-0.20.0\n",
            "  Attempting uninstall: click\n",
            "    Found existing installation: click 8.1.8\n",
            "    Uninstalling click-8.1.8:\n",
            "      Successfully uninstalled click-8.1.8\n",
            "  Attempting uninstall: charset-normalizer\n",
            "    Found existing installation: charset-normalizer 3.4.1\n",
            "    Uninstalling charset-normalizer-3.4.1:\n",
            "      Successfully uninstalled charset-normalizer-3.4.1\n",
            "  Attempting uninstall: certifi\n",
            "    Found existing installation: certifi 2025.1.31\n",
            "    Uninstalling certifi-2025.1.31:\n",
            "      Successfully uninstalled certifi-2025.1.31\n",
            "  Attempting uninstall: catalogue\n",
            "    Found existing installation: catalogue 2.0.10\n",
            "    Uninstalling catalogue-2.0.10:\n",
            "      Successfully uninstalled catalogue-2.0.10\n",
            "  Attempting uninstall: annotated-types\n",
            "    Found existing installation: annotated-types 0.7.0\n",
            "    Uninstalling annotated-types-0.7.0:\n",
            "      Successfully uninstalled annotated-types-0.7.0\n",
            "  Attempting uninstall: srsly\n",
            "    Found existing installation: srsly 2.5.1\n",
            "    Uninstalling srsly-2.5.1:\n",
            "      Successfully uninstalled srsly-2.5.1\n",
            "  Attempting uninstall: smart-open\n",
            "    Found existing installation: smart-open 7.1.0\n",
            "    Uninstalling smart-open-7.1.0:\n",
            "      Successfully uninstalled smart-open-7.1.0\n",
            "  Attempting uninstall: scipy\n",
            "    Found existing installation: scipy 1.13.1\n",
            "    Uninstalling scipy-1.13.1:\n",
            "      Successfully uninstalled scipy-1.13.1\n",
            "  Attempting uninstall: requests\n",
            "    Found existing installation: requests 2.32.3\n",
            "    Uninstalling requests-2.32.3:\n",
            "      Successfully uninstalled requests-2.32.3\n",
            "  Attempting uninstall: python-dateutil\n",
            "    Found existing installation: python-dateutil 2.8.2\n",
            "    Uninstalling python-dateutil-2.8.2:\n",
            "      Successfully uninstalled python-dateutil-2.8.2\n",
            "  Attempting uninstall: pydantic-core\n",
            "    Found existing installation: pydantic_core 2.27.2\n",
            "    Uninstalling pydantic_core-2.27.2:\n",
            "      Successfully uninstalled pydantic_core-2.27.2\n",
            "  Attempting uninstall: preshed\n",
            "    Found existing installation: preshed 3.0.9\n",
            "    Uninstalling preshed-3.0.9:\n",
            "      Successfully uninstalled preshed-3.0.9\n",
            "  Attempting uninstall: numexpr\n",
            "    Found existing installation: numexpr 2.10.2\n",
            "    Uninstalling numexpr-2.10.2:\n",
            "      Successfully uninstalled numexpr-2.10.2\n",
            "  Attempting uninstall: nltk\n",
            "    Found existing installation: nltk 3.9.1\n",
            "    Uninstalling nltk-3.9.1:\n",
            "      Successfully uninstalled nltk-3.9.1\n",
            "  Attempting uninstall: markdown-it-py\n",
            "    Found existing installation: markdown-it-py 3.0.0\n",
            "    Uninstalling markdown-it-py-3.0.0:\n",
            "      Successfully uninstalled markdown-it-py-3.0.0\n",
            "  Attempting uninstall: marisa-trie\n",
            "    Found existing installation: marisa-trie 1.2.1\n",
            "    Uninstalling marisa-trie-1.2.1:\n",
            "      Successfully uninstalled marisa-trie-1.2.1\n",
            "  Attempting uninstall: jinja2\n",
            "    Found existing installation: Jinja2 3.1.5\n",
            "    Uninstalling Jinja2-3.1.5:\n",
            "      Successfully uninstalled Jinja2-3.1.5\n",
            "  Attempting uninstall: blis\n",
            "    Found existing installation: blis 0.7.11\n",
            "    Uninstalling blis-0.7.11:\n",
            "      Successfully uninstalled blis-0.7.11\n",
            "  Attempting uninstall: scikit-learn\n",
            "    Found existing installation: scikit-learn 1.6.1\n",
            "    Uninstalling scikit-learn-1.6.1:\n",
            "      Successfully uninstalled scikit-learn-1.6.1\n",
            "  Attempting uninstall: rich\n",
            "    Found existing installation: rich 13.9.4\n",
            "    Uninstalling rich-13.9.4:\n",
            "      Successfully uninstalled rich-13.9.4\n",
            "  Attempting uninstall: pydantic\n",
            "    Found existing installation: pydantic 2.10.6\n",
            "    Uninstalling pydantic-2.10.6:\n",
            "      Successfully uninstalled pydantic-2.10.6\n",
            "  Attempting uninstall: pandas\n",
            "    Found existing installation: pandas 2.2.2\n",
            "    Uninstalling pandas-2.2.2:\n",
            "      Successfully uninstalled pandas-2.2.2\n",
            "  Attempting uninstall: language-data\n",
            "    Found existing installation: language_data 1.3.0\n",
            "    Uninstalling language_data-1.3.0:\n",
            "      Successfully uninstalled language_data-1.3.0\n",
            "  Attempting uninstall: gensim\n",
            "    Found existing installation: gensim 4.3.3\n",
            "    Uninstalling gensim-4.3.3:\n",
            "      Successfully uninstalled gensim-4.3.3\n",
            "  Attempting uninstall: typer\n",
            "    Found existing installation: typer 0.15.2\n",
            "    Uninstalling typer-0.15.2:\n",
            "      Successfully uninstalled typer-0.15.2\n",
            "  Attempting uninstall: langcodes\n",
            "    Found existing installation: langcodes 3.5.0\n",
            "    Uninstalling langcodes-3.5.0:\n",
            "      Successfully uninstalled langcodes-3.5.0\n",
            "  Attempting uninstall: confection\n",
            "    Found existing installation: confection 0.1.5\n",
            "    Uninstalling confection-0.1.5:\n",
            "      Successfully uninstalled confection-0.1.5\n",
            "  Attempting uninstall: weasel\n",
            "    Found existing installation: weasel 0.4.1\n",
            "    Uninstalling weasel-0.4.1:\n",
            "      Successfully uninstalled weasel-0.4.1\n",
            "  Attempting uninstall: thinc\n",
            "    Found existing installation: thinc 8.2.5\n",
            "    Uninstalling thinc-8.2.5:\n",
            "      Successfully uninstalled thinc-8.2.5\n",
            "  Attempting uninstall: spacy\n",
            "    Found existing installation: spacy 3.7.5\n",
            "    Uninstalling spacy-3.7.5:\n",
            "      Successfully uninstalled spacy-3.7.5\n",
            "\u001b[31mERROR: pip's dependency resolver does not currently take into account all the packages that are installed. This behaviour is the source of the following dependency conflicts.\n",
            "ipython 7.34.0 requires jedi>=0.16, which is not installed.\n",
            "google-colab 1.0.0 requires pandas==2.2.2, but you have pandas 2.2.3 which is incompatible.\n",
            "ibis-framework 9.2.0 requires rich<14,>=12.4.4, but you have rich 14.0.0 which is incompatible.\n",
            "bigframes 1.38.0 requires rich<14,>=12.4.4, but you have rich 14.0.0 which is incompatible.\n",
            "torch 2.5.1+cu124 requires nvidia-cublas-cu12==12.4.5.8; platform_system == \"Linux\" and platform_machine == \"x86_64\", but you have nvidia-cublas-cu12 12.5.3.2 which is incompatible.\n",
            "torch 2.5.1+cu124 requires nvidia-cuda-cupti-cu12==12.4.127; platform_system == \"Linux\" and platform_machine == \"x86_64\", but you have nvidia-cuda-cupti-cu12 12.5.82 which is incompatible.\n",
            "torch 2.5.1+cu124 requires nvidia-cuda-nvrtc-cu12==12.4.127; platform_system == \"Linux\" and platform_machine == \"x86_64\", but you have nvidia-cuda-nvrtc-cu12 12.5.82 which is incompatible.\n",
            "torch 2.5.1+cu124 requires nvidia-cuda-runtime-cu12==12.4.127; platform_system == \"Linux\" and platform_machine == \"x86_64\", but you have nvidia-cuda-runtime-cu12 12.5.82 which is incompatible.\n",
            "torch 2.5.1+cu124 requires nvidia-cudnn-cu12==9.1.0.70; platform_system == \"Linux\" and platform_machine == \"x86_64\", but you have nvidia-cudnn-cu12 9.3.0.75 which is incompatible.\n",
            "torch 2.5.1+cu124 requires nvidia-cufft-cu12==11.2.1.3; platform_system == \"Linux\" and platform_machine == \"x86_64\", but you have nvidia-cufft-cu12 11.2.3.61 which is incompatible.\n",
            "torch 2.5.1+cu124 requires nvidia-curand-cu12==10.3.5.147; platform_system == \"Linux\" and platform_machine == \"x86_64\", but you have nvidia-curand-cu12 10.3.6.82 which is incompatible.\n",
            "torch 2.5.1+cu124 requires nvidia-cusolver-cu12==11.6.1.9; platform_system == \"Linux\" and platform_machine == \"x86_64\", but you have nvidia-cusolver-cu12 11.6.3.83 which is incompatible.\n",
            "torch 2.5.1+cu124 requires nvidia-cusparse-cu12==12.3.1.170; platform_system == \"Linux\" and platform_machine == \"x86_64\", but you have nvidia-cusparse-cu12 12.5.1.3 which is incompatible.\n",
            "torch 2.5.1+cu124 requires nvidia-nvjitlink-cu12==12.4.127; platform_system == \"Linux\" and platform_machine == \"x86_64\", but you have nvidia-nvjitlink-cu12 12.5.82 which is incompatible.\n",
            "langchain-core 0.3.40 requires packaging<25,>=23.2, but you have packaging 25.0 which is incompatible.\n",
            "en-core-web-sm 3.7.1 requires spacy<3.8.0,>=3.7.2, but you have spacy 3.8.7 which is incompatible.\u001b[0m\u001b[31m\n",
            "\u001b[0mSuccessfully installed MarkupSafe-3.0.2 annotated-types-0.7.0 blis-1.2.1 catalogue-2.0.10 certifi-2025.4.26 charset-normalizer-3.4.2 click-8.2.1 cloudpathlib-0.21.1 confection-0.1.5 cymem-2.0.11 funcy-2.0 gensim-4.3.3 idna-3.10 jinja2-3.1.6 joblib-1.5.1 langcodes-3.5.0 language-data-1.3.0 marisa-trie-1.2.1 markdown-it-py-3.0.0 mdurl-0.1.2 murmurhash-1.0.13 nltk-3.9.1 numexpr-2.10.2 numpy-1.26.4 packaging-25.0 pandas-2.2.3 preshed-3.0.10 pyLDAvis-3.4.1 pydantic-2.11.5 pydantic-core-2.33.2 pygments-2.19.1 python-dateutil-2.9.0.post0 pytz-2025.2 regex-2024.11.6 requests-2.32.3 rich-14.0.0 scikit-learn-1.6.1 scipy-1.13.1 setuptools-80.9.0 shellingham-1.5.4 six-1.17.0 smart-open-7.1.0 spacy-3.8.7 spacy-legacy-3.0.12 spacy-loggers-1.0.5 srsly-2.5.1 thinc-8.3.4 threadpoolctl-3.6.0 tqdm-4.67.1 typer-0.16.0 typing-extensions-4.13.2 typing-inspection-0.4.1 tzdata-2025.2 urllib3-2.4.0 wasabi-1.1.3 weasel-0.4.1 wrapt-1.17.2\n"
          ]
        },
        {
          "output_type": "display_data",
          "data": {
            "application/vnd.colab-display-data+json": {
              "pip_warning": {
                "packages": [
                  "_distutils_hack",
                  "certifi",
                  "dateutil",
                  "six"
                ]
              },
              "id": "791852df2e05422eb21cdfa52d96663a"
            }
          },
          "metadata": {}
        },
        {
          "output_type": "stream",
          "name": "stdout",
          "text": [
            "✅ Instalación completa. 🔁 Ahora reinicia el entorno manualmente y ejecuta la siguiente celda.\n"
          ]
        }
      ]
    },
    {
      "cell_type": "markdown",
      "source": [
        "## 📚 Imports necesarios"
      ],
      "metadata": {
        "id": "1Bb8SK06HmzM"
      }
    },
    {
      "cell_type": "code",
      "source": [
        "import pandas as pd\n",
        "import numpy as np\n",
        "import matplotlib.pyplot as plt\n",
        "import random\n",
        "import os\n",
        "import re\n",
        "import logging\n",
        "import warnings\n",
        "from pprint import pprint\n",
        "\n",
        "# NLTK\n",
        "import nltk\n",
        "from nltk.corpus import stopwords\n",
        "from nltk.stem import WordNetLemmatizer\n",
        "from nltk.tokenize import word_tokenize\n",
        "\n",
        "# Gensim\n",
        "import gensim\n",
        "import gensim.corpora as corpora\n",
        "from gensim.utils import simple_preprocess\n",
        "from gensim.models import CoherenceModel, LdaModel\n",
        "from gensim.models.phrases import Phrases, Phraser\n",
        "\n",
        "# PyLDAvis\n",
        "import pyLDAvis\n",
        "import pyLDAvis.gensim\n",
        "\n",
        "# spaCy\n",
        "import spacy"
      ],
      "metadata": {
        "id": "fquCcVtNHomi"
      },
      "execution_count": 6,
      "outputs": []
    },
    {
      "cell_type": "markdown",
      "source": [
        "## Reproducibilidad"
      ],
      "metadata": {
        "id": "PcENMc9T5uHa"
      }
    },
    {
      "cell_type": "code",
      "source": [
        "SEED = 100\n",
        "\n",
        "random.seed(SEED)\n",
        "np.random.seed(SEED)\n",
        "os.environ[\"PYTHONHASHSEED\"] = str(SEED)"
      ],
      "metadata": {
        "id": "gZ5N1puM5wVd"
      },
      "execution_count": 8,
      "outputs": []
    },
    {
      "cell_type": "markdown",
      "source": [
        "## 🔧 Configuración de entorno"
      ],
      "metadata": {
        "id": "uHY9l8O7u1x-"
      }
    },
    {
      "cell_type": "code",
      "source": [
        "nltk.download('punkt')\n",
        "nltk.download('stopwords')\n",
        "nltk.download('wordnet')\n",
        "nltk.download('averaged_perceptron_tagger')\n",
        "nltk.download('punkt_tab')\n",
        "\n",
        "warnings.filterwarnings(\"ignore\", category=DeprecationWarning)\n",
        "logging.basicConfig(format='%(asctime)s : %(levelname)s : %(message)s', level=logging.ERROR)"
      ],
      "metadata": {
        "id": "MQQgjYc2u9YL",
        "outputId": "d356c4d6-4ec0-45cf-a690-d1f93ef7d796",
        "colab": {
          "base_uri": "https://localhost:8080/"
        }
      },
      "execution_count": 9,
      "outputs": [
        {
          "output_type": "stream",
          "name": "stderr",
          "text": [
            "[nltk_data] Downloading package punkt to /root/nltk_data...\n",
            "[nltk_data]   Unzipping tokenizers/punkt.zip.\n",
            "[nltk_data] Downloading package stopwords to /root/nltk_data...\n",
            "[nltk_data]   Unzipping corpora/stopwords.zip.\n",
            "[nltk_data] Downloading package wordnet to /root/nltk_data...\n",
            "[nltk_data] Downloading package averaged_perceptron_tagger to\n",
            "[nltk_data]     /root/nltk_data...\n",
            "[nltk_data]   Unzipping taggers/averaged_perceptron_tagger.zip.\n",
            "[nltk_data] Downloading package punkt_tab to /root/nltk_data...\n",
            "[nltk_data]   Unzipping tokenizers/punkt_tab.zip.\n"
          ]
        }
      ]
    },
    {
      "cell_type": "markdown",
      "source": [
        " ## 📥 Descargar dataset"
      ],
      "metadata": {
        "id": "C7hauXatvIxs"
      }
    },
    {
      "cell_type": "code",
      "source": [
        "NOMBRE_ARCHIVO = 'emails.csv'\n",
        "!wget https://raw.githubusercontent.com/Ignacioelamo/LLMs4Phishing/main/data/01_combined_cleaned_email_data.csv -O $NOMBRE_ARCHIVO"
      ],
      "metadata": {
        "id": "07u_WDMzvMLv",
        "outputId": "a21cb0b5-95b7-4392-8e91-068c1787eb96",
        "colab": {
          "base_uri": "https://localhost:8080/"
        }
      },
      "execution_count": 10,
      "outputs": [
        {
          "output_type": "stream",
          "name": "stdout",
          "text": [
            "--2025-05-29 16:52:02--  https://raw.githubusercontent.com/Ignacioelamo/LLMs4Phishing/main/data/01_combined_cleaned_email_data.csv\n",
            "Resolving raw.githubusercontent.com (raw.githubusercontent.com)... 185.199.111.133, 185.199.108.133, 185.199.110.133, ...\n",
            "Connecting to raw.githubusercontent.com (raw.githubusercontent.com)|185.199.111.133|:443... connected.\n",
            "HTTP request sent, awaiting response... 200 OK\n",
            "Length: 10064045 (9.6M) [text/plain]\n",
            "Saving to: ‘emails.csv’\n",
            "\n",
            "emails.csv          100%[===================>]   9.60M  48.1MB/s    in 0.2s    \n",
            "\n",
            "2025-05-29 16:52:03 (48.1 MB/s) - ‘emails.csv’ saved [10064045/10064045]\n",
            "\n"
          ]
        }
      ]
    },
    {
      "cell_type": "markdown",
      "source": [
        "## 📄 Cargar datos"
      ],
      "metadata": {
        "id": "H94xTcfSvPw9"
      }
    },
    {
      "cell_type": "code",
      "source": [
        "df = pd.read_csv(NOMBRE_ARCHIVO)"
      ],
      "metadata": {
        "id": "xaQ-jGFhvTd-"
      },
      "execution_count": 11,
      "outputs": []
    },
    {
      "cell_type": "markdown",
      "metadata": {
        "id": "2utZUICUZ6C3"
      },
      "source": [
        "# 🧪 Feature Engineering\n",
        "\n",
        "Vamos a definiar las siguientes características nuevas a partir del cuerpo del correo:\n",
        "\n",
        "1. **body_html=contains_html**: This is a binary feature that represents the presence of HTML in the email body.  \n",
        "2. **body_forms**: This binary feature represents the presence of forms in HTML email bodies.\n",
        "3. **body_noWords**: This feature measures the total number of words occurring in the email.\n",
        "4.  **body_noCharacters**: This feature measures the total number of characters occurring in the email body.\n",
        "5.  **body_noDistinctWords**: This feature measures the total number of distinct words occurring in the body of the email.  \n",
        "6. **body_richness**: The richness is defined as the ratio of the number of words to the number of characters in the document.\n",
        "$$\n",
        "\\text{body_richness} = \\frac{\\text{body_noWords}}{\\text{body_noCharacters}}\n",
        "$$\n",
        "8. **body_noFunctionWords** Chandrasekaran [6] also listed a set of function words that included:  \n",
        "`account`, `access`, `bank`, `credit`, `click`, `identity`, `inconvenience`, `information`, `limited`, `log`, `minutes`, `password`, `recently`, `risk`, `social`, `security`, `service`, and `suspended`.  The `body_noFunctionWords` feature measures the total number of occurrences of these function words in the email body.\n",
        "9. **body_suspension** This binary feature represents the presence of the word **\"suspension\"** in the body of the email.  \n",
        "10.  **body_verifyYourAccount** This binary feature represents the presence of the phrase **\"verify your account\"** in the body of the email.\n",
        "11. **body_text** contains information regarding the context and purpose of an email. For this, we extract the plain text from the email body and use word embedding techniques to represent it.\n",
        "\n",
        "Añadimos las features que ya teníamos: **has_attachment**, **contains_html**, **urls**."
      ]
    },
    {
      "cell_type": "code",
      "source": [
        "df = (\n",
        "    pd.read_csv(NOMBRE_ARCHIVO)\n",
        "      .assign(\n",
        "          # Feature 3: body_noWords (Total number of words)\n",
        "          body_noWords=lambda df: df['body'].apply(lambda x: len(str(x).split())),\n",
        "\n",
        "          # Feature 4: body_noCharacters (Total number of characters)\n",
        "          body_noCharacters=lambda df: df['body'].apply(lambda x: len(str(x))),\n",
        "\n",
        "          # Feature 5: body_noDistinctWords (Total number of distinct words)\n",
        "          body_noDistinctWords=lambda df: df['body'].apply(lambda x: len(set(str(x).split()))),\n",
        "\n",
        "          # Feature 6: body_richness (Ratio of words to characters)\n",
        "          body_richness=lambda df: df['body'].apply(lambda x: len(str(x).split())) / df['body'].apply(lambda x: len(str(x))),\n",
        "\n",
        "          # Feature 7: body_noFunctionWords (Count of specific function words)\n",
        "          body_noFunctionWords=lambda df: df['body'].apply(\n",
        "              lambda x: sum(1 for word in str(x).split()\n",
        "                          if word.lower() in ['account', 'access', 'bank', 'credit', 'click',\n",
        "                                            'identity', 'inconvenience', 'information', 'limited',\n",
        "                                            'log', 'minutes', 'password', 'recently', 'risk',\n",
        "                                            'social', 'security', 'service', 'suspended'])\n",
        "          )\n",
        "      )\n",
        ")"
      ],
      "metadata": {
        "id": "ztuvGzg9GwNX"
      },
      "execution_count": 12,
      "outputs": []
    },
    {
      "cell_type": "markdown",
      "source": [
        "# LDA"
      ],
      "metadata": {
        "id": "V0JFA_DGYP0-"
      }
    },
    {
      "cell_type": "markdown",
      "source": [
        "Es un modelo generativo de tópicos sobre Bag-of-Words, que descubre distribuciones de palabras"
      ],
      "metadata": {
        "id": "wLeaj8dKw_4X"
      }
    },
    {
      "cell_type": "markdown",
      "source": [
        "## 🧹 Preprocesamiento de texto"
      ],
      "metadata": {
        "id": "QRnkFVZpxHUn"
      }
    },
    {
      "cell_type": "code",
      "source": [
        "stop_words = stopwords.words('english')\n",
        "stop_words.extend(['from', 'subject', 're', 'edu', 'use', 'http', 'www'])\n",
        "\n",
        "data = df['body'].astype(str).tolist()\n",
        "\n",
        "# Limpieza básica\n",
        "data = [re.sub(r'\\S*@\\S*\\s?', '', sent) for sent in data]\n",
        "data = [re.sub(r'http\\S+|www\\S+|https\\S+', '', sent, flags=re.MULTILINE) for sent in data]\n",
        "data = [' '.join(sent.replace('\\n', ' ').replace('\\r', ' ').split()) for sent in data]\n",
        "data = [sent.replace(\"'\", \"\") for sent in data]\n",
        "data = [re.sub(r'[^a-zA-Z\\s]', '', sent) for sent in data]\n",
        "data = [re.sub(r'\\b\\d+\\b', '', sent) for sent in data]\n",
        "\n",
        "# Eliminar tokens alfanuméricos con exceso de números\n",
        "data = [\n",
        "    ' '.join([\n",
        "        word for word in sent.split()\n",
        "        if not (len(word) > 3 and sum(c.isdigit() for c in word) > sum(c.isalpha() for c in word.replace('.', '')))\n",
        "    ])\n",
        "    for sent in data\n",
        "]\n",
        "\n",
        "data = [\n",
        "    re.sub(\n",
        "        r'\\b[a-z]*\\d+[a-z\\d]*\\b',\n",
        "        lambda m: '' if len(m.group(0)) > 5 and sum(c.isdigit() for c in m.group(0)) > sum(c.isalpha() for c in m.group(0)) / 2 else m.group(0),\n",
        "        sent\n",
        "    )\n",
        "    for sent in data\n",
        "]\n"
      ],
      "metadata": {
        "id": "rAf4jnF4aOdZ"
      },
      "execution_count": 13,
      "outputs": []
    },
    {
      "cell_type": "markdown",
      "source": [
        "## 🧾 Tokenización y lematización"
      ],
      "metadata": {
        "id": "pJbKJSJlxftA"
      }
    },
    {
      "cell_type": "code",
      "source": [
        "def sent_to_words(sentences):\n",
        "    for sentence in sentences:\n",
        "        yield gensim.utils.simple_preprocess(str(sentence), deacc=True)\n",
        "\n",
        "data_words = list(sent_to_words(data))\n",
        "\n",
        "bigram = Phrases(data_words, min_count=5, threshold=100)\n",
        "trigram = Phrases(bigram[data_words], threshold=100)\n",
        "bigram_mod = Phraser(bigram)\n",
        "trigram_mod = Phraser(trigram)\n",
        "\n",
        "def remove_stopwords(texts):\n",
        "    return [[word for word in simple_preprocess(str(doc)) if word not in stop_words] for doc in texts]\n",
        "\n",
        "def make_bigrams(texts):\n",
        "    return [bigram_mod[doc] for doc in texts]\n",
        "\n",
        "def lemmatization(texts, allowed_postags=['NOUN', 'ADJ', 'VERB', 'ADV']):\n",
        "    texts_out = []\n",
        "    for sent in texts:\n",
        "        doc = nlp(\" \".join(sent))\n",
        "        texts_out.append([token.lemma_ for token in doc if token.pos_ in allowed_postags])\n",
        "    return texts_out\n",
        "\n",
        "data_words_nostops = remove_stopwords(data_words)\n",
        "data_words_bigrams = make_bigrams(data_words_nostops)\n",
        "\n",
        "\n",
        "nlp = spacy.load('en_core_web_sm', disable=['parser', 'ner'])\n",
        "\n",
        "data_lemmatized = lemmatization(data_words_bigrams)"
      ],
      "metadata": {
        "id": "mLjGINeFxhEd",
        "outputId": "4f92b71e-75c3-4a1d-c0e0-7e63ae41b276",
        "colab": {
          "base_uri": "https://localhost:8080/"
        }
      },
      "execution_count": 14,
      "outputs": [
        {
          "output_type": "stream",
          "name": "stderr",
          "text": [
            "/usr/local/lib/python3.11/dist-packages/spacy/util.py:922: UserWarning: [W095] Model 'en_core_web_sm' (3.7.1) was trained with spaCy v3.7.2 and may not be 100% compatible with the current version (3.8.7). If you see errors or degraded performance, download a newer compatible model or retrain your custom model with the current spaCy version. For more details and available updates, run: python -m spacy validate\n",
            "  warnings.warn(warn_msg)\n"
          ]
        }
      ]
    },
    {
      "cell_type": "markdown",
      "source": [
        "## 📚 LDA Topic Modeling\n"
      ],
      "metadata": {
        "id": "Q71TlachxzD6"
      }
    },
    {
      "cell_type": "markdown",
      "source": [
        "Creamos el corpus"
      ],
      "metadata": {
        "id": "MxKQ9p_1-BcF"
      }
    },
    {
      "cell_type": "code",
      "source": [
        "id2word = corpora.Dictionary(data_lemmatized)\n",
        "id2word.filter_extremes(no_below=5, no_above=0.7)\n",
        "\n",
        "texts = data_lemmatized\n",
        "corpus = [id2word.doc2bow(text) for text in texts]"
      ],
      "metadata": {
        "id": "LMb1uDMF98C_"
      },
      "execution_count": 16,
      "outputs": []
    },
    {
      "cell_type": "markdown",
      "source": [
        "Miramos la coherencia cambiando el número de tópicos y el tipo de alpha = `['symmetric', 'asymmetric', 'auto']`"
      ],
      "metadata": {
        "id": "l6gL-N2M-C3H"
      }
    },
    {
      "cell_type": "code",
      "source": [
        "def compute_coherence_values(alpha_value):\n",
        "    coherence_scores = []\n",
        "    topic_range = range(4, 11)\n",
        "    for num_topics in topic_range:\n",
        "        model = LdaModel(\n",
        "            corpus=corpus,\n",
        "            id2word=id2word,\n",
        "            num_topics=num_topics,\n",
        "            random_state=SEED,\n",
        "            update_every=1,\n",
        "            chunksize=1000,\n",
        "            passes=30,\n",
        "            iterations=400,\n",
        "            alpha=alpha_value,\n",
        "            eta='auto',\n",
        "            per_word_topics=True\n",
        "        )\n",
        "        coherence_model = CoherenceModel(model=model, texts=texts, dictionary=id2word, coherence='c_v')\n",
        "        coherence_scores.append(coherence_model.get_coherence())\n",
        "    return list(topic_range), coherence_scores\n",
        "\n",
        "alphas = ['symmetric', 'asymmetric', 'auto']\n",
        "results = {}\n",
        "\n",
        "for alpha in alphas:\n",
        "    print(f\"Calculando coherencia para alpha='{alpha}'...\")\n",
        "    x, y = compute_coherence_values(alpha)\n",
        "    results[alpha] = (x, y)\n",
        "\n",
        "plt.figure(figsize=(12, 5))\n",
        "for alpha in alphas:\n",
        "    plt.plot(results[alpha][0], results[alpha][1], marker='o', label=f\"alpha = {alpha}\")\n",
        "plt.title(\"Comparación de coherencia según alpha y número de tópicos\")\n",
        "plt.xlabel(\"Número de tópicos\")\n",
        "plt.ylabel(\"Coherencia (c_v)\")\n",
        "plt.legend()\n",
        "plt.grid(True)\n",
        "plt.tight_layout()\n",
        "plt.show()\n",
        "\n"
      ],
      "metadata": {
        "id": "pI5qYf5xe_TW",
        "outputId": "d07909ac-a30c-4d26-ecd6-13c00cc47b5c",
        "colab": {
          "base_uri": "https://localhost:8080/",
          "height": 574
        }
      },
      "execution_count": 8,
      "outputs": [
        {
          "output_type": "stream",
          "name": "stdout",
          "text": [
            "Calculando coherencia para alpha='symmetric'...\n"
          ]
        },
        {
          "output_type": "stream",
          "name": "stderr",
          "text": [
            "WARNING:gensim.models.ldamodel:updated prior is not positive\n"
          ]
        },
        {
          "output_type": "stream",
          "name": "stdout",
          "text": [
            "Calculando coherencia para alpha='asymmetric'...\n"
          ]
        },
        {
          "output_type": "stream",
          "name": "stderr",
          "text": [
            "WARNING:gensim.models.ldamodel:updated prior is not positive\n"
          ]
        },
        {
          "output_type": "stream",
          "name": "stdout",
          "text": [
            "Calculando coherencia para alpha='auto'...\n"
          ]
        },
        {
          "output_type": "stream",
          "name": "stderr",
          "text": [
            "WARNING:gensim.models.ldamodel:updated prior is not positive\n"
          ]
        },
        {
          "output_type": "display_data",
          "data": {
            "text/plain": [
              "<Figure size 1200x500 with 1 Axes>"
            ],
            "image/png": "[encoded data removed]"
          },
          "metadata": {}
        }
      ]
    },
    {
      "cell_type": "markdown",
      "source": [
        "## Entrenamos el modelo final"
      ],
      "metadata": {
        "id": "ZqzNOriZyD7m"
      }
    },
    {
      "cell_type": "markdown",
      "source": [
        "Al final de varias pruebas jugando con los hiperparámetros nos decantamos por 6 tópicos y con `alpha='asymmetric'`"
      ],
      "metadata": {
        "id": "WXo0xNsC-XKM"
      }
    },
    {
      "cell_type": "code",
      "source": [
        "lda_model = LdaModel(\n",
        "    corpus=corpus,\n",
        "    id2word=id2word,\n",
        "    num_topics=6,\n",
        "    random_state=SEED,\n",
        "    update_every=1,\n",
        "    chunksize=1000,\n",
        "    passes=30,\n",
        "    iterations=400,\n",
        "    alpha='asymmetric',\n",
        "    eta='auto',\n",
        "    per_word_topics=True\n",
        ")"
      ],
      "metadata": {
        "id": "L5_WHuUHyDc1"
      },
      "execution_count": 17,
      "outputs": []
    },
    {
      "cell_type": "markdown",
      "source": [
        "## 📊 Visualización de Tópicos"
      ],
      "metadata": {
        "id": "8L_-TAfgySY9"
      }
    },
    {
      "cell_type": "code",
      "source": [
        "pyLDAvis.enable_notebook()\n",
        "vis = pyLDAvis.gensim.prepare(lda_model, corpus, id2word)\n",
        "vis"
      ],
      "metadata": {
        "id": "4FODFeWHyVRl",
        "outputId": "a2ed20f1-12e3-4784-c2e8-547a2e7d33c8",
        "colab": {
          "base_uri": "https://localhost:8080/",
          "height": 881
        }
      },
      "execution_count": 18,
      "outputs": [
        {
          "output_type": "execute_result",
          "data": {
            "text/plain": [
              "PreparedData(topic_coordinates=              x         y  topics  cluster       Freq\n",
              "topic                                                \n",
              "1      0.006610 -0.062710       1        1  23.480400\n",
              "2     -0.055916 -0.236881       2        1  21.939772\n",
              "0      0.074988  0.080587       3        1  19.803329\n",
              "3      0.320629  0.016592       4        1  14.162732\n",
              "4     -0.205311 -0.067581       5        1  13.481241\n",
              "5     -0.141000  0.269993       6        1   7.132525, topic_info=        Term         Freq        Total Category  logprob  loglift\n",
              "338  account  3518.000000  3518.000000  Default  30.0000  30.0000\n",
              "138    email  4610.000000  4610.000000  Default  29.0000  29.0000\n",
              "167  receive  2633.000000  2633.000000  Default  28.0000  28.0000\n",
              "369      org  2268.000000  2268.000000  Default  27.0000  27.0000\n",
              "284    write  2840.000000  2840.000000  Default  26.0000  26.0000\n",
              "..       ...          ...          ...      ...      ...      ...\n",
              "17      time   329.068141  2215.556103   Topic6  -4.6589   0.7335\n",
              "661      pay   205.412651   555.113419   Topic6  -5.1301   1.6464\n",
              "136     dear   201.562508  1054.298469   Topic6  -5.1491   0.9860\n",
              "393   secure   194.961639   597.323692   Topic6  -5.1823   1.5208\n",
              "39       get   192.187886  3495.745060   Topic6  -5.1967  -0.2603\n",
              "\n",
              "[404 rows x 6 columns], token_table=      Topic      Freq     Term\n",
              "term                          \n",
              "1302      2  0.068460   access\n",
              "1302      3  0.396495   access\n",
              "1302      4  0.533414   access\n",
              "338       4  0.999886  account\n",
              "3340      3  0.993528   active\n",
              "...     ...       ...      ...\n",
              "284       3  0.150317    write\n",
              "238       1  0.602683     year\n",
              "238       5  0.396553     year\n",
              "1168      3  0.029382    young\n",
              "1168      5  0.969602    young\n",
              "\n",
              "[688 rows x 3 columns], R=30, lambda_step=0.01, plot_opts={'xlab': 'PC1', 'ylab': 'PC2'}, topic_order=[2, 3, 1, 4, 5, 6])"
            ],
            "text/html": [
              "\n",
              "<link rel=\"stylesheet\" type=\"text/css\" href=\"https://cdn.jsdelivr.net/gh/bmabey/pyLDAvis@3.4.0/pyLDAvis/js/ldavis.v1.0.0.css\">\n",
              "\n",
              "\n",
              "<div id=\"ldavis_el25091382183902986721456692551\" style=\"background-color:white;\"></div>\n",
              "<script type=\"text/javascript\">\n",
              "\n",
              "var ldavis_el25091382183902986721456692551_data = {\"mdsDat\": {\"x\": [0.0066100571937053945, -0.0559157190133854, 0.07498761557798589, 0.32062939355679576, -0.20531104300371933, -0.1410003043113824], \"y\": [-0.06270995572402678, -0.2368810831380447, 0.08058716965572216, 0.016592342121351265, -0.06758116952767332, 0.2699926966126714], \"topics\": [1, 2, 3, 4, 5, 6], \"cluster\": [1, 1, 1, 1, 1, 1], \"Freq\": [23.48040047304735, 21.939771864567636, 19.803328919796513, 14.162731901979415, 13.481241461585528, 7.132525379023559]}, \"tinfo\": {\"Term\": [\"account\", \"email\", \"receive\", \"org\", \"write\", \"price\", \"update\", \"click\", \"message\", \"offer\", \"user\", \"money\", \"fund\", \"com\", \"file\", \"address\", \"mail\", \"company\", \"team\", \"site\", \"information\", \"verify\", \"order\", \"perl\", \"free\", \"service\", \"unsubscribe\", \"software\", \"business\", \"customer\", \"fund\", \"country\", \"transfer\", \"language\", \"investment\", \"fax\", \"interest\", \"invest\", \"linguistic\", \"contract\", \"sum\", \"conference\", \"exclusive\", \"position\", \"meeting\", \"job\", \"seek\", \"study\", \"government\", \"foreign\", \"invite\", \"dear_friend\", \"attempt\", \"article\", \"additional\", \"immediate\", \"international\", \"finance\", \"student\", \"medium\", \"manager\", \"dollar\", \"business\", \"interested\", \"research\", \"deal\", \"number\", \"call\", \"phone\", \"let\", \"contact\", \"book\", \"bank\", \"form\", \"money\", \"transaction\", \"year\", \"detail\", \"give\", \"regard\", \"make\", \"send\", \"day\", \"know\", \"need\", \"name\", \"also\", \"information\", \"thank\", \"want\", \"time\", \"work\", \"perl\", \"lists_sourceforge\", \"listinfo\", \"python_dev\", \"mailman_listinfo\", \"razor_user\", \"bit\", \"function\", \"bug\", \"directory\", \"instal\", \"module\", \"install\", \"maybe\", \"python\", \"razor\", \"signature\", \"spamassassin_talk\", \"stat_math\", \"header\", \"script\", \"contained_reproducible\", \"provide_commente\", \"posting_guide\", \"ethz_ch\", \"lists_freshrpm\", \"mailman_option\", \"string\", \"exmh_user\", \"sort\", \"test\", \"org\", \"file\", \"code\", \"example\", \"window\", \"write\", \"seem\", \"html\", \"run\", \"list\", \"net\", \"use\", \"package\", \"server\", \"set\", \"problem\", \"read\", \"version\", \"think\", \"try\", \"help\", \"add\", \"work\", \"get\", \"way\", \"line\", \"com\", \"mail\", \"find\", \"message\", \"see\", \"new\", \"wallet\", \"reward\", \"network\", \"term\", \"manage\", \"assist\", \"card\", \"agree\", \"proposal\", \"delete\", \"list_maintain\", \"listmaster_linux\", \"token\", \"airdrop\", \"automatically\", \"setting\", \"connect\", \"ilug_linux\", \"bonus\", \"active\", \"longer_wish\", \"ledger\", \"winner\", \"ad\", \"storage\", \"app\", \"newsletter\", \"look_forward\", \"congratulation\", \"privacy_policy\", \"company\", \"register\", \"unsubscribe\", \"win\", \"rule\", \"free\", \"remove\", \"survey\", \"enter\", \"email\", \"click\", \"receive\", \"news\", \"alert\", \"claim\", \"view\", \"com\", \"mailing_list\", \"today\", \"get\", \"offer\", \"deliver\", \"name\", \"service\", \"new\", \"web\", \"see\", \"send\", \"go\", \"user\", \"write\", \"information\", \"account\", \"update\", \"verify\", \"ect\", \"spam\", \"unusual\", \"opt\", \"verification\", \"unusual_signin\", \"security_notification\", \"detected_somethe\", \"details_countryregion\", \"future_report\", \"russiamoscow_ip\", \"similar_activity\", \"paper\", \"mailbox\", \"hou_ect\", \"asset\", \"notification\", \"sender\", \"cancel\", \"suspend\", \"password\", \"subscription\", \"notify\", \"validate\", \"attachment\", \"platform_window\", \"login\", \"activity\", \"payment\", \"team\", \"device\", \"security\", \"message\", \"address\", \"user\", \"request\", \"log\", \"email\", \"mail\", \"information\", \"service\", \"thank\", \"receive\", \"customer\", \"report\", \"dear\", \"change\", \"new\", \"send\", \"click\", \"follow\", \"access\", \"contact\", \"man\", \"rpm\", \"gas\", \"woman\", \"usd\", \"meter\", \"gain\", \"general\", \"sex\", \"await\", \"stake\", \"travel\", \"son\", \"flow\", \"mother\", \"launch\", \"natural\", \"erection\", \"teach\", \"wife\", \"technical\", \"demand\", \"degree\", \"arrangement\", \"plant\", \"burn\", \"male\", \"weight\", \"stellar\", \"wealth\", \"love\", \"human\", \"feel\", \"half\", \"young\", \"fact\", \"girl\", \"world\", \"interesting\", \"volume\", \"well\", \"say\", \"know\", \"life\", \"many\", \"hour\", \"take\", \"big\", \"people\", \"fast\", \"year\", \"old\", \"time\", \"increase\", \"want\", \"work\", \"get\", \"thing\", \"come\", \"go\", \"look\", \"much\", \"good\", \"try\", \"day\", \"make\", \"com\", \"even\", \"need\", \"see\", \"also\", \"help\", \"discount\", \"glad\", \"summer\", \"shop\", \"death\", \"drug\", \"shipping\", \"medication\", \"material\", \"secret\", \"pharmacy\", \"boost\", \"transmission\", \"urgently\", \"cashback\", \"furnish\", \"prescription\", \"express_pharmacy\", \"health_personal\", \"broker\", \"maker\", \"stanley_tumbl\", \"impact\", \"teledyn\", \"spamassassin_sighting\", \"useless\", \"boy\", \"refund\", \"search_engine\", \"adobe\", \"consultant\", \"price\", \"save\", \"low\", \"quality\", \"php\", \"professional\", \"software\", \"buy\", \"offer\", \"purchase\", \"site\", \"product\", \"order\", \"online\", \"money\", \"sell\", \"special\", \"visit\", \"life\", \"com\", \"good\", \"check\", \"customer\", \"time\", \"pay\", \"dear\", \"secure\", \"get\"], \"Freq\": [3518.0, 4610.0, 2633.0, 2268.0, 2840.0, 1000.0, 1216.0, 2631.0, 1908.0, 1182.0, 1996.0, 1463.0, 1333.0, 4169.0, 1436.0, 1596.0, 2548.0, 1128.0, 967.0, 1024.0, 2019.0, 693.0, 1005.0, 874.0, 1322.0, 1323.0, 955.0, 636.0, 1037.0, 1047.0, 1332.8396081083454, 838.1412010259369, 723.1722502774601, 705.611694661912, 555.370090272395, 397.8000237516858, 362.847701063594, 350.918620023414, 340.5547320160439, 298.62672110680745, 296.6799573800443, 270.84495729767764, 280.8586263776758, 238.65371922097546, 231.00883845405676, 229.7915222811663, 211.0247486987248, 206.86246900501297, 192.7086234928868, 186.8062009890964, 185.6198240595428, 179.29296836597626, 176.0636831792901, 167.74990262502897, 167.58229842295245, 165.89704781879414, 161.30968288243582, 156.27365234248788, 150.79300158818654, 150.50836054948732, 280.4470346372847, 381.8539510430636, 878.5799764081557, 434.59039033081496, 283.51333322079233, 556.9637607162762, 689.6117011730744, 796.8339444492502, 524.7607058446996, 618.4800785957584, 1050.7684561502958, 334.67792587501623, 435.1531518795101, 339.41787118303074, 849.7529585406927, 450.9928202054563, 613.7042836870776, 619.5964463385613, 677.6866389077279, 528.3318796506592, 852.085444808257, 793.6578348394993, 617.6268740685383, 725.3946593747522, 762.477198868593, 619.4208977372281, 592.9657554535776, 617.997080412466, 624.2935158435516, 576.9592148216339, 549.4260827641195, 459.24977900958913, 874.1160777332029, 619.0621989192192, 519.0904288454353, 495.4416218225979, 357.33353678279076, 345.47862006144595, 314.1586130125616, 293.17303476219996, 277.383281708182, 276.1363433445997, 267.0652907513554, 264.5829279738207, 265.13850712863683, 250.67069475371636, 244.13606827816932, 232.04027873584292, 231.7583983491171, 230.02745134267252, 219.03841844888885, 216.37891989767542, 211.81623759026328, 207.65911737256602, 207.65911737256602, 206.5483942554143, 203.03902695992613, 203.50924621818857, 200.70615901651598, 190.84237223466548, 187.09944335186995, 186.80921970358733, 637.2809974548619, 2088.087939469535, 1315.9354207553663, 939.3439203976642, 387.0689707075656, 383.1833732955556, 2232.7292086326675, 490.97266754143806, 440.86987737018364, 653.9954723598195, 1433.2444137397881, 990.4831649807367, 1199.6498015402026, 539.6017218963585, 521.6742785094481, 527.2208688451625, 641.2647742904973, 582.864330734395, 565.664678383913, 738.559389432426, 686.219013602873, 1010.6207893337382, 554.280242036319, 872.6992899614744, 1061.537215366739, 580.7039357880856, 501.6959594724911, 994.9189451608032, 711.0170271922188, 573.4855597551476, 604.3174797859228, 581.1579285838567, 571.6891846677612, 633.5107493947645, 595.7623114561769, 493.3800909874782, 430.9096163015355, 385.3889737240889, 370.03358676889667, 322.40766065600144, 308.16131240302417, 297.8105389098167, 255.17661130281326, 233.921308147688, 233.48000914984257, 216.90027561085185, 199.78065786554487, 191.0648230857691, 183.8703475215055, 178.84865224175059, 176.88583690260538, 172.31943603906603, 173.26073173970934, 168.4665433771804, 161.6659372694373, 153.56473367781024, 151.47012347265033, 150.55918671883234, 145.0912205323804, 140.30140924536414, 141.64430723593378, 137.87792354341215, 136.9120039871922, 1056.091531731471, 437.56344447708574, 877.1474367970022, 352.120394009865, 181.64512089373812, 1107.0046864474928, 645.1366659942589, 207.78112138075633, 254.98191000539154, 2862.9667095413943, 1686.8295496914516, 1687.7697904046636, 361.7386246345737, 323.42888848946916, 566.4115734704849, 479.17910719404546, 1774.0722515906284, 274.44562003681233, 481.9217153706856, 1185.3088165396498, 511.5158636479664, 275.3460405861293, 532.2876234149134, 513.0171332092023, 634.1544264070848, 395.43806570503574, 496.89827205188817, 494.1576840639462, 424.0258906521331, 431.12478884443203, 426.543764059372, 363.2567964412509, 3517.50942423296, 1215.185744729597, 692.6052752004148, 494.88274910084147, 412.13665531827735, 335.96352559752495, 332.89029262779627, 292.25337558816574, 276.6127352465979, 276.4599420695214, 271.7100616332475, 268.1478840756436, 268.1478840756436, 268.1478840756436, 268.1478840756436, 252.73412185675093, 226.27709551085522, 220.51331884943167, 213.94016215070835, 206.2224211353687, 184.94321812493843, 157.36202697505945, 155.7208889125585, 131.20571487476, 126.84158985403013, 125.83355300160932, 115.12253136140644, 114.04663013032511, 109.76720113840966, 107.10653222109384, 558.9570607373007, 554.2636550222871, 783.1806467701538, 425.82498477275396, 593.4887682427151, 1203.345252743803, 1003.9502529774364, 1193.7136640113947, 542.5853633160876, 483.1684985044706, 1747.1740231121744, 1137.7281120820792, 946.1174414901733, 715.0781688868517, 928.5299483073438, 945.353443498639, 564.6812665664597, 487.900303177203, 548.4026127735651, 591.2826261183961, 739.029486657764, 715.8431300629443, 798.3248617904447, 408.0329754020746, 373.89421509023856, 393.25297256937677, 546.1523927083891, 513.4549116091814, 237.6303267850435, 224.3865022448757, 220.10806480658786, 188.91490010344168, 183.67385970139807, 176.10231007776153, 165.88435487457153, 160.03812532450752, 138.95929790730028, 133.29663450381295, 131.31044360244078, 120.80798608508798, 118.20118788520043, 113.9000357980417, 111.3426704196122, 107.60408981770837, 103.65141238073537, 101.15876808894748, 101.03125891471048, 97.44915191148684, 93.20553901728029, 92.97383126204716, 91.13162204852307, 88.22724895989548, 86.97024947737285, 86.13859382845007, 85.75621147167534, 85.00205915209887, 178.36121429120846, 101.83549348230203, 209.99643219125107, 127.81135623414191, 98.71728332922808, 227.78280448997904, 155.12308177346424, 313.71428472892603, 111.59820066901939, 214.617491800399, 610.7127882988441, 484.6910912092945, 719.2848063780758, 313.37282388555616, 346.56634462933005, 288.6215427705748, 499.94421095563956, 214.86592419955355, 340.8656324699136, 216.769920619744, 404.3845006691534, 241.67654456716502, 567.840305832959, 208.84357016722507, 475.3952453139518, 504.2971720014238, 614.6980975102293, 289.99609610023094, 312.60231365705516, 380.90374238970566, 327.1227580020801, 291.8605157020052, 362.1792314076406, 327.4824639115461, 331.3947928585469, 378.7132036919321, 403.2245484351872, 259.47335353268, 317.6015534511383, 291.0871327160284, 282.23995652815137, 275.9803402334491, 252.16250460871143, 217.8593441389102, 210.16457330737146, 209.01626342875318, 205.1041290456803, 190.39469003280124, 179.83004188708296, 142.77993740274218, 144.84763572682036, 140.790772162493, 124.91316767557832, 107.18081127472084, 100.61641075900272, 94.82951526057911, 90.88856762747882, 91.13680299282453, 83.90104728384672, 81.42126450960079, 80.45420969989802, 80.01029647157142, 76.17861120494719, 70.2946124668829, 71.41036596001845, 69.83452210238771, 67.83295519952851, 67.07699140128508, 66.3305269208818, 64.94448347595977, 63.953918865168404, 62.522577822069145, 63.31179731727885, 903.6428289415148, 401.05211220329613, 403.9031687413635, 198.56939065520086, 102.4780345198937, 185.7445677946488, 396.38339555575453, 299.1717585928518, 598.6642464940898, 268.00258072676326, 504.6611961391795, 391.2752364226655, 459.95687280482, 330.2738995708295, 478.3227164799898, 189.14288205461753, 214.73991368167606, 280.7170821479566, 229.28969947863436, 614.6397222505982, 366.86394602877834, 302.90254089269934, 291.3964820531837, 329.0681410517244, 205.4126507200761, 201.56250848100163, 194.96163866930323, 192.18788636713998], \"Total\": [3518.0, 4610.0, 2633.0, 2268.0, 2840.0, 1000.0, 1216.0, 2631.0, 1908.0, 1182.0, 1996.0, 1463.0, 1333.0, 4169.0, 1436.0, 1596.0, 2548.0, 1128.0, 967.0, 1024.0, 2019.0, 693.0, 1005.0, 874.0, 1322.0, 1323.0, 955.0, 636.0, 1037.0, 1047.0, 1333.705910021761, 839.0092472120178, 724.0393037592055, 706.4789076419711, 556.2375185561011, 398.66532244371376, 363.71352789936327, 351.78636727928244, 341.4216854004705, 299.4923671606461, 297.5464102724863, 271.70764604464983, 281.77536231351354, 239.5177910449929, 231.87240192073267, 230.65806450238142, 211.88926691381346, 207.73187872235837, 193.57555551422234, 187.6718662904801, 186.49099316648267, 180.15912110255647, 176.94626169765039, 168.61953352067397, 168.4524036442926, 166.77442389791284, 162.1799954781531, 157.1377228017563, 151.65744255528807, 151.3792715279474, 286.99587778390026, 414.7252482134983, 1037.4481645897529, 486.87991323542104, 303.8821448964124, 657.5431993471224, 906.6258138681808, 1090.0849524260225, 670.5030487036954, 836.645472025547, 1656.60718003677, 391.95292675874856, 556.0705890209838, 406.7795075709511, 1463.5147707520912, 627.078411704448, 1018.7784304403474, 1070.6266521856544, 1263.6175117786997, 904.4354915237582, 2180.432493934879, 2066.5541683001047, 1337.4645207817823, 1864.8044392665727, 2088.253954924798, 1384.5042168909467, 1445.3351290693229, 2019.4309137212917, 2142.257078952069, 1707.1252361653483, 2215.5561030331933, 2016.9044796818303, 874.9162330599938, 619.8667414478546, 519.8909288232866, 496.2413341741394, 358.1385029830061, 346.2797887928262, 314.9634839594554, 293.9771113475989, 278.1841534185973, 276.94161302820976, 267.86777543319516, 265.3831879103264, 265.9405741902255, 251.4774754718593, 244.93624201437981, 232.84097717592138, 232.56151361566535, 230.8302900705706, 219.8376499269643, 217.17981951351948, 212.6169495461038, 208.45832556742337, 208.45832556742337, 207.34760296319342, 203.8382480800459, 204.3117523425478, 201.50604505272287, 191.64428875919478, 187.90032597522517, 187.61657332154263, 660.1527510936556, 2268.7990491270734, 1436.2345506161398, 1027.5349467196795, 409.88892183568083, 405.8061969084267, 2840.6556925156306, 542.3737382428205, 487.12746747472585, 774.3751271047279, 2029.6122667973027, 1371.5023633956764, 1773.910751215272, 704.3187190748725, 676.8087301956564, 694.6874673960704, 928.8243687285649, 816.4354506878727, 783.7510187577743, 1200.5109235374846, 1125.9365832326248, 2161.954870137675, 844.0898853015481, 2016.9044796818303, 3495.7450597728534, 1063.0432095006643, 771.0448018285075, 4169.997193262621, 2548.3830630369375, 1382.1851240155665, 1908.8555562396916, 1632.798299374159, 2208.252817822169, 634.3838184045981, 596.6221625025294, 494.23894463717164, 431.77165824403573, 386.2512587243072, 370.9085050438599, 323.27355780511857, 309.0239605582352, 298.7002302133185, 256.048021542545, 234.78813593675844, 234.34671148224814, 217.76158706335042, 200.64116776145983, 191.93258531181692, 184.72973615976173, 179.71289237225645, 177.75199499334428, 173.17742029060855, 174.1269801584561, 169.32815863830837, 162.53202608954732, 154.4227228070649, 152.33242037595173, 151.42746799071108, 145.95991561900047, 141.16105190908152, 142.51285505346328, 138.73802580768128, 137.76961609978775, 1128.3578265589326, 460.36651360767706, 955.0880006769054, 374.5468609239667, 185.5972044439802, 1322.9227730869347, 741.3635616782302, 214.8075621619682, 270.90632152926077, 4610.879216943751, 2631.8293186458536, 2633.8610240633066, 422.8334101197304, 386.4428145750074, 809.7588116707734, 661.239445025219, 4169.997193262621, 318.0876272584846, 790.7419618374934, 3495.7450597728534, 1182.779628609473, 331.55400141065763, 1384.5042168909467, 1323.6331681432098, 2208.252817822169, 843.4242903322342, 1632.798299374159, 2066.5541683001047, 1514.3878890960173, 1996.3643053624892, 2840.6556925156306, 2019.4309137212917, 3518.399560613173, 1216.1604514444737, 693.4932075447001, 495.77183247405384, 413.0317450699364, 336.8515900108454, 333.7790496633132, 293.1407324897711, 277.4971171810009, 277.344340689576, 272.59445210732684, 269.0322654275293, 269.0322654275293, 269.0322654275293, 269.0322654275293, 253.63280630767633, 227.16567994326346, 221.40044733502802, 214.83586676297665, 207.11066930912804, 185.83193863704906, 158.2503687822764, 156.60819120315352, 132.09534985369092, 127.7336633927903, 126.72226139747717, 116.00993963606723, 114.93612932336028, 110.65157835439364, 107.99948262247815, 582.4330911745373, 644.2973508837362, 967.9627718806585, 513.8888071409194, 810.3951376135334, 1908.8555562396916, 1596.11983958723, 1996.3643053624892, 794.433791791847, 683.0385846532212, 4610.879216943751, 2548.3830630369375, 2019.4309137212917, 1323.6331681432098, 2142.257078952069, 2633.8610240633066, 1047.0609358513075, 802.335895509829, 1054.2984694881231, 1283.1457213100155, 2208.252817822169, 2066.5541683001047, 2631.8293186458536, 1168.6442085221224, 701.1434155283968, 1656.60718003677, 546.9858508885421, 514.3044648492487, 238.46764517524485, 225.21952761305212, 220.96913664337725, 189.749870480084, 184.50980676939102, 176.95086269003687, 166.71838397728, 160.9265430245929, 139.80093393788974, 134.1465122245531, 132.18994651749517, 121.64613234814937, 119.04072887657202, 114.74766780111624, 112.17834447289566, 108.43402904177802, 104.49407759431867, 101.99239330565538, 101.88357244247794, 98.29598412497987, 94.0404412434812, 93.82312329016887, 91.96702829151899, 89.06329885274579, 87.80164983662083, 86.97704658253718, 86.59339718103367, 85.84106665328493, 184.17811401330096, 104.65389257678555, 242.15819434327537, 138.32597464326383, 102.10371073078404, 289.5252747366588, 179.9742590633206, 448.79985071753595, 118.82240948948336, 291.53559571168637, 1289.106067100667, 1000.6623671155461, 1864.8044392665727, 543.2947551520886, 636.3604669939048, 518.8344099484121, 1265.112499574615, 332.3581049402992, 729.6593069035425, 339.85138938024176, 1018.7784304403474, 426.97075981782456, 2215.5561030331933, 323.22637483498033, 1707.1252361653483, 2016.9044796818303, 3495.7450597728534, 682.1745956980612, 872.6643890567258, 1514.3878890960173, 1047.319502040295, 758.2421231185817, 1461.8969905852985, 1125.9365832326248, 1337.4645207817823, 2180.432493934879, 4169.997193262621, 612.4369411724579, 2088.253954924798, 1632.798299374159, 1445.3351290693229, 2161.954870137675, 252.96961104365602, 218.67036245876074, 210.97311170926582, 209.82361368741124, 205.93285335362378, 191.2021345712334, 180.63986568398397, 143.58507890938213, 145.67675567916007, 141.61194875617363, 125.7179025547264, 108.0218891814598, 101.4354297904903, 95.66897086677646, 91.70743771942051, 91.96650875710056, 84.70699791330912, 82.22591591006339, 81.25849006626957, 80.81606585403435, 76.99187358155291, 71.10448266281944, 72.23684567165041, 70.64512630318835, 68.6444053803917, 67.89816959187716, 67.14826600421291, 65.75571549680468, 64.76182416985415, 63.329015346577606, 64.1430368046432, 1000.8184090474598, 459.9213941316747, 480.45126828411145, 224.3744835083864, 111.15414043183613, 241.03719441150676, 636.2815665967474, 457.6186700307936, 1182.779628609473, 411.7321964992949, 1024.7773040957902, 721.1872138665385, 1005.9437237879235, 691.278160671771, 1463.5147707520912, 316.4558550297105, 418.2309658618922, 703.3016591570081, 543.2947551520886, 4169.997193262621, 1461.8969905852985, 1022.4422162104084, 1047.0609358513075, 2215.5561030331933, 555.1134192850302, 1054.2984694881231, 597.3236917487557, 3495.7450597728534], \"Category\": [\"Default\", \"Default\", \"Default\", \"Default\", \"Default\", \"Default\", \"Default\", \"Default\", \"Default\", \"Default\", \"Default\", \"Default\", \"Default\", \"Default\", \"Default\", \"Default\", \"Default\", \"Default\", \"Default\", \"Default\", \"Default\", \"Default\", \"Default\", \"Default\", \"Default\", \"Default\", \"Default\", \"Default\", \"Default\", \"Default\", \"Topic1\", \"Topic1\", \"Topic1\", \"Topic1\", \"Topic1\", \"Topic1\", \"Topic1\", \"Topic1\", \"Topic1\", \"Topic1\", \"Topic1\", \"Topic1\", \"Topic1\", \"Topic1\", \"Topic1\", \"Topic1\", \"Topic1\", \"Topic1\", \"Topic1\", \"Topic1\", \"Topic1\", \"Topic1\", \"Topic1\", \"Topic1\", \"Topic1\", \"Topic1\", \"Topic1\", \"Topic1\", \"Topic1\", \"Topic1\", \"Topic1\", \"Topic1\", \"Topic1\", \"Topic1\", \"Topic1\", \"Topic1\", \"Topic1\", \"Topic1\", \"Topic1\", \"Topic1\", \"Topic1\", \"Topic1\", \"Topic1\", \"Topic1\", \"Topic1\", \"Topic1\", \"Topic1\", \"Topic1\", \"Topic1\", \"Topic1\", \"Topic1\", \"Topic1\", \"Topic1\", \"Topic1\", \"Topic1\", \"Topic1\", \"Topic1\", \"Topic1\", \"Topic1\", \"Topic1\", \"Topic1\", \"Topic1\", \"Topic2\", \"Topic2\", \"Topic2\", \"Topic2\", \"Topic2\", \"Topic2\", \"Topic2\", \"Topic2\", \"Topic2\", \"Topic2\", \"Topic2\", \"Topic2\", \"Topic2\", \"Topic2\", \"Topic2\", \"Topic2\", \"Topic2\", \"Topic2\", \"Topic2\", \"Topic2\", \"Topic2\", \"Topic2\", \"Topic2\", \"Topic2\", \"Topic2\", \"Topic2\", \"Topic2\", \"Topic2\", \"Topic2\", \"Topic2\", \"Topic2\", \"Topic2\", \"Topic2\", \"Topic2\", \"Topic2\", \"Topic2\", \"Topic2\", \"Topic2\", \"Topic2\", \"Topic2\", \"Topic2\", \"Topic2\", \"Topic2\", \"Topic2\", \"Topic2\", \"Topic2\", \"Topic2\", \"Topic2\", \"Topic2\", \"Topic2\", \"Topic2\", \"Topic2\", \"Topic2\", \"Topic2\", \"Topic2\", \"Topic2\", \"Topic2\", \"Topic2\", \"Topic2\", \"Topic2\", \"Topic2\", \"Topic2\", \"Topic2\", \"Topic3\", \"Topic3\", \"Topic3\", \"Topic3\", \"Topic3\", \"Topic3\", \"Topic3\", \"Topic3\", \"Topic3\", \"Topic3\", \"Topic3\", \"Topic3\", \"Topic3\", \"Topic3\", \"Topic3\", \"Topic3\", \"Topic3\", \"Topic3\", \"Topic3\", \"Topic3\", \"Topic3\", \"Topic3\", \"Topic3\", \"Topic3\", \"Topic3\", \"Topic3\", \"Topic3\", \"Topic3\", \"Topic3\", \"Topic3\", \"Topic3\", \"Topic3\", \"Topic3\", \"Topic3\", \"Topic3\", \"Topic3\", \"Topic3\", \"Topic3\", \"Topic3\", \"Topic3\", \"Topic3\", \"Topic3\", \"Topic3\", \"Topic3\", \"Topic3\", \"Topic3\", \"Topic3\", \"Topic3\", \"Topic3\", \"Topic3\", \"Topic3\", \"Topic3\", \"Topic3\", \"Topic3\", \"Topic3\", \"Topic3\", \"Topic3\", \"Topic3\", \"Topic3\", \"Topic3\", \"Topic3\", \"Topic3\", \"Topic4\", \"Topic4\", \"Topic4\", \"Topic4\", \"Topic4\", \"Topic4\", \"Topic4\", \"Topic4\", \"Topic4\", \"Topic4\", \"Topic4\", \"Topic4\", \"Topic4\", \"Topic4\", \"Topic4\", \"Topic4\", \"Topic4\", \"Topic4\", \"Topic4\", \"Topic4\", \"Topic4\", \"Topic4\", \"Topic4\", \"Topic4\", \"Topic4\", \"Topic4\", \"Topic4\", \"Topic4\", \"Topic4\", \"Topic4\", \"Topic4\", \"Topic4\", \"Topic4\", \"Topic4\", \"Topic4\", \"Topic4\", \"Topic4\", \"Topic4\", \"Topic4\", \"Topic4\", \"Topic4\", \"Topic4\", \"Topic4\", \"Topic4\", \"Topic4\", \"Topic4\", \"Topic4\", \"Topic4\", \"Topic4\", \"Topic4\", \"Topic4\", \"Topic4\", \"Topic4\", \"Topic4\", \"Topic4\", \"Topic4\", \"Topic5\", \"Topic5\", \"Topic5\", \"Topic5\", \"Topic5\", \"Topic5\", \"Topic5\", \"Topic5\", \"Topic5\", \"Topic5\", \"Topic5\", \"Topic5\", \"Topic5\", \"Topic5\", \"Topic5\", \"Topic5\", \"Topic5\", \"Topic5\", \"Topic5\", \"Topic5\", \"Topic5\", \"Topic5\", \"Topic5\", \"Topic5\", \"Topic5\", \"Topic5\", \"Topic5\", \"Topic5\", \"Topic5\", \"Topic5\", \"Topic5\", \"Topic5\", \"Topic5\", \"Topic5\", \"Topic5\", \"Topic5\", \"Topic5\", \"Topic5\", \"Topic5\", \"Topic5\", \"Topic5\", \"Topic5\", \"Topic5\", \"Topic5\", \"Topic5\", \"Topic5\", \"Topic5\", \"Topic5\", \"Topic5\", \"Topic5\", \"Topic5\", \"Topic5\", \"Topic5\", \"Topic5\", \"Topic5\", \"Topic5\", \"Topic5\", \"Topic5\", \"Topic5\", \"Topic5\", \"Topic5\", \"Topic5\", \"Topic5\", \"Topic5\", \"Topic5\", \"Topic5\", \"Topic5\", \"Topic5\", \"Topic5\", \"Topic5\", \"Topic5\", \"Topic5\", \"Topic6\", \"Topic6\", \"Topic6\", \"Topic6\", \"Topic6\", \"Topic6\", \"Topic6\", \"Topic6\", \"Topic6\", \"Topic6\", \"Topic6\", \"Topic6\", \"Topic6\", \"Topic6\", \"Topic6\", \"Topic6\", \"Topic6\", \"Topic6\", \"Topic6\", \"Topic6\", \"Topic6\", \"Topic6\", \"Topic6\", \"Topic6\", \"Topic6\", \"Topic6\", \"Topic6\", \"Topic6\", \"Topic6\", \"Topic6\", \"Topic6\", \"Topic6\", \"Topic6\", \"Topic6\", \"Topic6\", \"Topic6\", \"Topic6\", \"Topic6\", \"Topic6\", \"Topic6\", \"Topic6\", \"Topic6\", \"Topic6\", \"Topic6\", \"Topic6\", \"Topic6\", \"Topic6\", \"Topic6\", \"Topic6\", \"Topic6\", \"Topic6\", \"Topic6\", \"Topic6\", \"Topic6\", \"Topic6\", \"Topic6\", \"Topic6\", \"Topic6\", \"Topic6\"], \"logprob\": [30.0, 29.0, 28.0, 27.0, 26.0, 25.0, 24.0, 23.0, 22.0, 21.0, 20.0, 19.0, 18.0, 17.0, 16.0, 15.0, 14.0, 13.0, 12.0, 11.0, 10.0, 9.0, 8.0, 7.0, 6.0, 5.0, 4.0, 3.0, 2.0, 1.0, -4.4516, -4.9155, -5.063, -5.0876, -5.327, -5.6607, -5.7527, -5.7861, -5.8161, -5.9475, -5.954, -6.0451, -6.0088, -6.1716, -6.2042, -6.2095, -6.2947, -6.3146, -6.3855, -6.4166, -6.423, -6.4576, -6.4758, -6.5242, -6.5252, -6.5353, -6.5633, -6.595, -6.6307, -6.6326, -6.0103, -5.7016, -4.8683, -5.5722, -5.9994, -5.3242, -5.1105, -4.966, -5.3837, -5.2194, -4.6894, -5.8335, -5.571, -5.8194, -4.9017, -5.5352, -5.2271, -5.2176, -5.128, -5.3769, -4.899, -4.97, -5.2208, -5.0599, -5.0101, -5.2179, -5.2615, -5.2202, -5.21, -5.2889, -5.3378, -5.5171, -4.8056, -5.1506, -5.3267, -5.3733, -5.7001, -5.7339, -5.8289, -5.898, -5.9534, -5.9579, -5.9913, -6.0006, -5.9985, -6.0546, -6.0811, -6.1319, -6.1331, -6.1406, -6.1895, -6.2018, -6.2231, -6.2429, -6.2429, -6.2483, -6.2654, -6.2631, -6.2769, -6.3273, -6.3471, -6.3487, -5.1216, -3.9348, -4.3965, -4.7336, -5.6202, -5.6303, -3.8678, -5.3824, -5.49, -5.0957, -4.3111, -4.6806, -4.489, -5.288, -5.3217, -5.3112, -5.1153, -5.2108, -5.2408, -4.9741, -5.0476, -4.6605, -5.2611, -4.8072, -4.6113, -5.2145, -5.3608, -4.6761, -5.0121, -5.2271, -5.1747, -5.2138, -5.2302, -5.0251, -5.0865, -5.2751, -5.4104, -5.5221, -5.5627, -5.7005, -5.7457, -5.7799, -5.9344, -6.0214, -6.0232, -6.0969, -6.1791, -6.2237, -6.2621, -6.2898, -6.3008, -6.327, -6.3215, -6.3496, -6.3908, -6.4422, -6.4559, -6.462, -6.499, -6.5325, -6.523, -6.55, -6.557, -4.514, -5.3951, -4.6997, -5.6124, -6.2743, -4.4669, -5.0069, -6.1399, -5.9351, -3.5167, -4.0457, -4.0452, -5.5854, -5.6974, -5.137, -5.3043, -3.9953, -5.8616, -5.2986, -4.3986, -5.239, -5.8583, -5.1992, -5.236, -5.024, -5.4963, -5.268, -5.2735, -5.4265, -5.4099, -5.4206, -5.5812, -2.9756, -4.0384, -4.6006, -4.9368, -5.1197, -5.3241, -5.3333, -5.4635, -5.5185, -5.519, -5.5364, -5.5496, -5.5496, -5.5496, -5.5496, -5.6088, -5.7193, -5.7451, -5.7754, -5.8121, -5.9211, -6.0826, -6.093, -6.2643, -6.2982, -6.3061, -6.3951, -6.4045, -6.4427, -6.4673, -4.815, -4.8235, -4.4777, -5.0871, -4.7551, -4.0482, -4.2294, -4.0563, -4.8448, -4.9607, -3.6753, -4.1043, -4.2887, -4.5687, -4.3075, -4.2895, -4.8048, -4.951, -4.8341, -4.7588, -4.5358, -4.5676, -4.4586, -5.1298, -5.2171, -5.1666, -4.7889, -4.8506, -5.6211, -5.6784, -5.6977, -5.8505, -5.8786, -5.9207, -5.9805, -6.0164, -6.1576, -6.1992, -6.2142, -6.2976, -6.3194, -6.3565, -6.3792, -6.4133, -6.4508, -6.4751, -6.4764, -6.5125, -6.557, -6.5595, -6.5795, -6.6119, -6.6262, -6.6358, -6.6403, -6.6491, -5.908, -6.4684, -5.7447, -6.2412, -6.4995, -5.6634, -6.0476, -5.3433, -6.3769, -5.7229, -4.6772, -4.9083, -4.5135, -5.3444, -5.2437, -5.4267, -4.8773, -5.7218, -5.2603, -5.7129, -5.0894, -5.6042, -4.7499, -5.7502, -4.9276, -4.8686, -4.6707, -5.4219, -5.3469, -5.1492, -5.3014, -5.4155, -5.1996, -5.3004, -5.2885, -5.155, -5.0923, -5.5331, -5.331, -5.4182, -5.449, -5.4715, -4.9251, -5.0713, -5.1073, -5.1127, -5.1316, -5.2061, -5.2631, -5.4938, -5.4795, -5.5079, -5.6275, -5.7806, -5.8438, -5.9031, -5.9455, -5.9428, -6.0255, -6.0555, -6.0675, -6.073, -6.1221, -6.2025, -6.1867, -6.209, -6.2381, -6.2493, -6.2605, -6.2816, -6.297, -6.3196, -6.3071, -3.6487, -4.4611, -4.454, -5.164, -5.8255, -5.2308, -4.4728, -4.7541, -4.0605, -4.8642, -4.2313, -4.4857, -4.324, -4.6552, -4.2849, -5.2126, -5.0857, -4.8178, -5.0202, -4.0341, -4.5502, -4.7417, -4.7805, -4.6589, -5.1301, -5.1491, -5.1823, -5.1967], \"loglift\": [30.0, 29.0, 28.0, 27.0, 26.0, 25.0, 24.0, 23.0, 22.0, 21.0, 20.0, 19.0, 18.0, 17.0, 16.0, 15.0, 14.0, 13.0, 12.0, 11.0, 10.0, 9.0, 8.0, 7.0, 6.0, 5.0, 4.0, 3.0, 2.0, 1.0, 1.4484, 1.448, 1.4478, 1.4478, 1.4474, 1.4468, 1.4466, 1.4465, 1.4465, 1.4461, 1.4461, 1.4458, 1.4457, 1.4454, 1.4453, 1.4452, 1.4449, 1.4448, 1.4445, 1.4444, 1.4443, 1.4442, 1.444, 1.4438, 1.4438, 1.4437, 1.4436, 1.4435, 1.4433, 1.4432, 1.4259, 1.3664, 1.2828, 1.3354, 1.3796, 1.283, 1.1754, 1.1356, 1.2039, 1.1469, 0.9938, 1.291, 1.2038, 1.268, 0.9054, 1.1194, 0.9422, 0.9021, 0.826, 0.9114, 0.5094, 0.492, 0.6764, 0.5048, 0.4415, 0.6447, 0.558, 0.2649, 0.216, 0.3642, 0.0546, -0.0307, 1.516, 1.5156, 1.5153, 1.5153, 1.5146, 1.5146, 1.5143, 1.5141, 1.514, 1.514, 1.5139, 1.5138, 1.5138, 1.5137, 1.5136, 1.5134, 1.5134, 1.5134, 1.5132, 1.5132, 1.5131, 1.513, 1.513, 1.513, 1.5129, 1.5129, 1.5129, 1.5127, 1.5126, 1.5126, 1.4816, 1.4339, 1.4294, 1.4271, 1.4596, 1.4595, 1.2761, 1.4173, 1.4171, 1.3479, 1.169, 1.1914, 1.1257, 1.2505, 1.2565, 1.241, 1.1464, 1.1799, 1.1908, 1.0311, 1.0217, 0.7564, 1.0963, 0.6791, 0.325, 0.9122, 1.0871, 0.0839, 0.2404, 0.6372, 0.3667, 0.4838, 0.1655, 1.6179, 1.6179, 1.6176, 1.6173, 1.6171, 1.617, 1.6166, 1.6165, 1.6163, 1.6159, 1.6156, 1.6156, 1.6154, 1.615, 1.6148, 1.6147, 1.6145, 1.6144, 1.6144, 1.6143, 1.6142, 1.614, 1.6137, 1.6136, 1.6136, 1.6134, 1.6132, 1.6132, 1.6131, 1.6131, 1.5531, 1.5685, 1.5342, 1.5576, 1.5978, 1.4411, 1.4803, 1.5861, 1.5587, 1.1428, 1.1745, 1.1743, 1.4633, 1.4413, 1.2619, 1.2973, 0.7647, 1.4717, 1.1241, 0.5378, 0.7811, 1.4336, 0.6634, 0.6715, 0.3717, 0.8618, 0.4297, 0.1885, 0.3463, 0.0866, -0.2768, -0.0961, 1.9543, 1.9538, 1.9533, 1.9528, 1.9524, 1.9519, 1.9519, 1.9515, 1.9514, 1.9514, 1.9513, 1.9513, 1.9513, 1.9513, 1.9513, 1.951, 1.9506, 1.9505, 1.9504, 1.9503, 1.9498, 1.9489, 1.9489, 1.9478, 1.9475, 1.9475, 1.9469, 1.9468, 1.9465, 1.9463, 1.9134, 1.804, 1.7427, 1.7666, 1.6431, 1.4932, 1.4909, 1.4403, 1.5733, 1.6084, 0.9841, 1.1481, 1.1964, 1.3388, 1.1185, 0.9299, 1.3371, 1.4571, 1.3009, 1.1798, 0.8599, 0.8944, 0.7616, 0.9023, 1.3258, 0.5165, 2.0023, 2.0022, 2.0004, 2.0002, 2.0, 1.9995, 1.9993, 1.9991, 1.9989, 1.9983, 1.9978, 1.9975, 1.9972, 1.997, 1.9968, 1.9965, 1.9964, 1.9962, 1.9958, 1.9957, 1.9955, 1.9952, 1.995, 1.9948, 1.9947, 1.9944, 1.9944, 1.9942, 1.9942, 1.994, 1.9718, 1.9766, 1.8614, 1.9248, 1.9701, 1.764, 1.8553, 1.6458, 1.9411, 1.6976, 1.2568, 1.279, 1.0512, 1.4536, 1.3962, 1.4174, 1.0755, 1.5677, 1.2428, 1.5542, 1.0799, 1.4348, 0.6425, 1.5671, 0.7255, 0.6177, 0.2657, 1.1485, 0.9773, 0.6237, 0.8402, 1.0491, 0.6085, 0.7689, 0.6087, 0.2534, -0.3323, 1.1451, 0.1206, 0.2794, 0.3705, -0.0546, 2.6373, 2.6368, 2.6367, 2.6366, 2.6365, 2.6363, 2.636, 2.6349, 2.6348, 2.6347, 2.6341, 2.6327, 2.6324, 2.6317, 2.6315, 2.6314, 2.6309, 2.6307, 2.6306, 2.6305, 2.6299, 2.629, 2.629, 2.629, 2.6286, 2.6283, 2.6283, 2.6281, 2.628, 2.6277, 2.6275, 2.5384, 2.5035, 2.467, 2.5183, 2.5592, 2.3799, 2.1672, 2.2155, 1.9596, 2.2111, 1.9322, 2.029, 1.858, 1.9019, 1.5222, 2.1258, 1.9739, 1.7221, 1.7778, 0.7259, 1.258, 1.424, 1.3614, 0.7335, 1.6464, 0.986, 1.5208, -0.2603]}, \"token.table\": {\"Topic\": [2, 3, 4, 4, 3, 4, 5, 3, 2, 3, 4, 1, 1, 3, 4, 6, 3, 3, 3, 4, 6, 1, 2, 3, 5, 6, 3, 5, 1, 4, 3, 4, 1, 3, 5, 1, 4, 2, 3, 5, 2, 3, 1, 4, 5, 6, 6, 6, 6, 2, 5, 1, 6, 3, 5, 6, 1, 2, 5, 6, 4, 3, 6, 1, 2, 4, 5, 2, 3, 4, 5, 6, 1, 3, 3, 4, 6, 1, 2, 4, 1, 2, 3, 4, 5, 6, 1, 2, 3, 5, 3, 6, 1, 3, 3, 6, 1, 3, 4, 6, 2, 1, 1, 3, 4, 5, 6, 1, 3, 4, 5, 6, 1, 5, 6, 1, 3, 4, 6, 1, 6, 5, 3, 1, 3, 6, 5, 1, 3, 4, 6, 4, 4, 2, 3, 4, 2, 6, 1, 3, 6, 4, 3, 4, 1, 3, 5, 2, 1, 2, 3, 5, 2, 6, 1, 2, 6, 1, 2, 5, 2, 3, 5, 6, 1, 1, 3, 5, 2, 4, 1, 1, 2, 3, 5, 6, 5, 1, 2, 3, 4, 1, 1, 4, 5, 2, 3, 5, 6, 2, 1, 6, 4, 5, 5, 5, 1, 2, 3, 5, 6, 3, 5, 1, 2, 3, 5, 6, 6, 1, 2, 3, 5, 6, 1, 2, 3, 5, 6, 1, 5, 6, 2, 6, 1, 2, 3, 4, 5, 6, 4, 3, 4, 5, 1, 2, 3, 5, 3, 1, 6, 1, 3, 5, 1, 2, 3, 4, 6, 2, 2, 1, 1, 5, 6, 4, 5, 1, 1, 1, 1, 1, 1, 2, 3, 4, 5, 1, 5, 3, 1, 2, 5, 5, 6, 1, 2, 3, 6, 1, 1, 2, 3, 4, 3, 2, 3, 2, 2, 2, 4, 4, 3, 1, 2, 3, 5, 6, 3, 5, 6, 1, 6, 1, 2, 3, 4, 4, 1, 3, 2, 2, 1, 2, 3, 4, 5, 6, 6, 5, 5, 3, 1, 4, 1, 2, 3, 5, 6, 6, 2, 6, 1, 1, 2, 3, 4, 5, 2, 1, 5, 6, 5, 1, 2, 3, 5, 6, 1, 2, 3, 6, 5, 1, 2, 3, 4, 5, 6, 2, 3, 5, 6, 3, 1, 2, 3, 4, 5, 3, 6, 3, 4, 4, 1, 2, 4, 1, 3, 6, 2, 4, 5, 4, 5, 6, 4, 1, 2, 4, 5, 6, 2, 4, 1, 2, 3, 4, 4, 1, 3, 4, 5, 6, 1, 4, 1, 2, 3, 5, 2, 6, 1, 2, 3, 4, 5, 6, 5, 4, 1, 2, 6, 1, 6, 3, 2, 4, 5, 3, 4, 5, 6, 1, 6, 3, 2, 1, 3, 5, 6, 2, 2, 5, 6, 2, 2, 1, 2, 3, 5, 6, 3, 4, 6, 1, 2, 3, 4, 3, 4, 2, 3, 1, 2, 4, 5, 6, 1, 2, 3, 4, 1, 5, 3, 5, 1, 3, 1, 2, 3, 6, 4, 2, 6, 1, 2, 3, 5, 6, 2, 6, 6, 1, 3, 4, 5, 6, 1, 4, 6, 4, 1, 2, 3, 5, 6, 1, 2, 5, 3, 5, 6, 1, 2, 3, 4, 4, 2, 4, 1, 3, 4, 6, 1, 2, 3, 4, 3, 5, 6, 6, 2, 4, 1, 2, 3, 4, 5, 6, 2, 6, 5, 2, 4, 6, 2, 1, 3, 6, 5, 6, 2, 5, 3, 2, 1, 1, 4, 1, 6, 3, 4, 4, 1, 2, 3, 4, 5, 6, 5, 3, 4, 5, 6, 3, 2, 5, 1, 2, 3, 4, 5, 2, 5, 1, 2, 3, 5, 6, 1, 2, 3, 4, 5, 6, 1, 3, 5, 6, 3, 1, 4, 1, 6, 5, 1, 2, 4, 5, 2, 3, 4, 4, 4, 6, 5, 1, 2, 3, 4, 5, 6, 2, 3, 4, 4, 4, 4, 2, 3, 6, 1, 2, 3, 4, 1, 3, 4, 5, 6, 4, 5, 3, 1, 2, 3, 4, 5, 6, 1, 2, 3, 5, 6, 5, 1, 2, 3, 4, 6, 5, 1, 2, 3, 4, 5, 5, 2, 3, 1, 2, 3, 5, 1, 2, 5, 6, 3, 5, 6, 1, 2, 3, 1, 5, 3, 5], \"Freq\": [0.06845960318093577, 0.39649520175625297, 0.5334144081181246, 0.9998864368283676, 0.9935278257428543, 0.9597668959239902, 0.03948951450134486, 0.9912532055050175, 0.6563282058546235, 0.17889090087373313, 0.16348969748725278, 0.9973143532861194, 0.21176354783448442, 0.159135920562009, 0.6290254497805395, 0.9948046666322377, 0.9966864687243491, 0.9968044057527511, 0.8358287120831087, 0.09574508466586694, 0.06469262477423442, 0.4102854681058249, 0.28297935321295514, 0.09893899146565424, 0.19511045869450697, 0.012453859065606827, 0.9934234298853245, 0.9912268611265138, 0.9963258496347458, 0.9961092773959441, 0.9975505952775268, 0.9918552214271408, 0.994652265108221, 0.995141078778771, 0.9942424474721283, 0.7822747841526013, 0.21579994045589004, 0.14442253486979698, 0.20760739387533314, 0.6468926041042989, 0.9969409661483823, 0.9932010750094745, 0.854694472548731, 0.091847764214192, 0.015307960702365331, 0.03571857497218577, 0.9905399804687438, 0.982899543464892, 0.9899021828715557, 0.9957432750785935, 0.9880613129488521, 0.847271246894143, 0.15229676565332717, 0.0721124424354876, 0.27315319104351365, 0.6533824329760847, 0.7311356772940021, 0.19814969422271575, 0.021099272995937324, 0.04953742355567894, 0.9920987938802425, 0.9960604331088337, 0.9922859286333469, 0.11144486368547876, 0.3584939671001415, 0.4605868142525731, 0.0693607892867665, 0.42838606725708983, 0.1496417084254218, 0.09095868551349168, 0.034231763365292565, 0.29634926570524706, 0.30008935561765443, 0.698973560821368, 0.6409990146579895, 0.30321115216187056, 0.05547472207472819, 0.015571246555729008, 0.9138375322393462, 0.07007060950078053, 0.035731438918169114, 0.23860927331260584, 0.4254199506096108, 0.056115145683567604, 0.09664275089947753, 0.14748211365553024, 0.2521014983065836, 0.09511101981566565, 0.29450038665814543, 0.3586716771361849, 0.9358733330369172, 0.06380954543433526, 0.9973955607987066, 0.9946804359988203, 0.9960331595421671, 0.9821798770126134, 0.6344292193497991, 0.0561388367264808, 0.23723185842480593, 0.07183356527366898, 0.997801356380582, 0.9983559942935641, 0.9987970964380053, 0.14612330071850513, 0.5396056529801005, 0.035337007363298624, 0.27792078764107836, 0.46206833183041235, 0.2355202662242393, 0.022430501545165647, 0.24748320038166097, 0.031402702163231905, 0.8470926329297419, 0.09124875758668674, 0.060832505057791156, 0.11097426714164269, 0.1773691278246768, 0.5197769093471811, 0.19159659797104123, 0.9935661259032418, 0.9954701091232786, 0.988936236052026, 0.9959069336438093, 0.09651519771696344, 0.8294274803801547, 0.06937029835906748, 0.9868154926519473, 0.5791000987452417, 0.07378856096915176, 0.3129008598058967, 0.03362516702391726, 0.9961630422808622, 0.9978192802431181, 0.07783785022005964, 0.09145947400857007, 0.8289731048436352, 0.9965999583164346, 0.9961670848934946, 0.9210917387970277, 0.07715951738613844, 0.9937127554881688, 0.998443169975587, 0.6209227926594214, 0.37888652419699936, 0.05536969353585144, 0.9412847901094744, 0.9959972985822486, 0.9958876801192055, 0.027757959811266383, 0.3265642330737222, 0.22043085732476247, 0.4229006818304702, 0.9441582325934227, 0.05367307782184832, 0.9972482962770505, 0.9952084916800843, 0.9850908816703937, 0.020723579333297836, 0.19342007377744647, 0.7874960146653177, 0.0294246259173345, 0.22656961956347563, 0.6385143824061587, 0.1059286533024042, 0.998331125366923, 0.11149736259482387, 0.0206476597397822, 0.8672017090708523, 0.9162848780064791, 0.08355181258417743, 0.9927597092444083, 0.23368794410231425, 0.41456096585333146, 0.06945524035239062, 0.18159651383802128, 0.09984190800656151, 0.9946884267039404, 0.3611022045226792, 0.1677157158446567, 0.12150832474459822, 0.34912251053377513, 0.9964199946227413, 0.8333753143670126, 0.08850003338410754, 0.07620836208075928, 0.03855100315568351, 0.8367835390851303, 0.055180847654213654, 0.0695429860847624, 0.9966762332512221, 0.9994707153830117, 0.9894906442555814, 0.9961630422808622, 0.9972369665422273, 0.9980389575495611, 0.994626402631885, 0.1264394263432701, 0.30379789768450866, 0.33898352990220604, 0.17592816108848666, 0.054923913705673885, 0.13335240342095836, 0.8612342720936894, 0.5365547673090018, 0.16460677227178813, 0.10921026237262867, 0.1835998613800714, 0.005539650989915947, 0.9969343698376721, 0.1868741833170173, 0.2562091276572534, 0.2799811085739058, 0.251586798034571, 0.025092646523133064, 0.21752558630870605, 0.16280216836940894, 0.12107556219069489, 0.2476234661753195, 0.25104367979652553, 0.9970267138704915, 0.9253504291591363, 0.07229300227805753, 0.9945675453816922, 0.9845125098282872, 0.1679035973479335, 0.4676323331095338, 0.03237810417177781, 0.12951241668711125, 0.1276622393058668, 0.07493218394040008, 0.9981912984375227, 0.1985219137840941, 0.24285204987180442, 0.5570177969281863, 0.09443113573222324, 0.9053071925632706, 0.019110612617992982, 0.974641243517642, 0.9957694146084131, 0.9953564588633393, 0.9828779114017181, 0.16397176754854417, 0.1887222230275697, 0.6466056493895421, 0.30602680973184915, 0.0049518901251108275, 0.17975361154152303, 0.46844880583548426, 0.040605499025908785, 0.9967604336438312, 0.9964632166675225, 0.9980382145709997, 0.8934441289831245, 0.08215578197545972, 0.022592840043251426, 0.05891144633470465, 0.9425831413552744, 0.9927241613574218, 0.9977646453858795, 0.9977751976182522, 0.9973672017176489, 0.9971470128139629, 0.38878071326618163, 0.18822349014679965, 0.010724985193549839, 0.026276213724197105, 0.3855632177081167, 0.9993221203962486, 0.9934842440335073, 0.9967266384210691, 0.7386641303440048, 0.05378622308330132, 0.20558289711839614, 0.576114525369161, 0.4215023204777567, 0.1465543892287766, 0.651064631795096, 0.13228803275517886, 0.07003484087038882, 0.9987649132480385, 0.053704838989764456, 0.7060461859847015, 0.15224582796180933, 0.08770148018511993, 0.996643203739346, 0.9982863158907137, 0.9942533374002556, 0.9984741340673094, 0.99860172938811, 0.29134518088905964, 0.707134283263396, 0.9907454869393039, 0.9921563037772981, 0.13271976672754832, 0.38765629706032095, 0.03532828322963516, 0.31222563827272154, 0.13081012979621667, 0.9964013418068784, 0.9664557645928833, 0.027147633836878744, 0.15818461728996402, 0.8408761234887562, 0.16441798176945693, 0.2790004416183386, 0.10987359163591394, 0.4465576688631074, 0.9948685913138173, 0.13518287514231828, 0.8613978555580282, 0.996821053939961, 0.9974886855002764, 0.39074816687511993, 0.23710892285732044, 0.14584262566465744, 0.02660022732248469, 0.17381872681416718, 0.026141602713476333, 0.9871171652875511, 0.990869763402937, 0.9981976665631466, 0.9967605057691209, 0.9756237691010742, 0.020906223623594445, 0.04557165553824036, 0.20428673172314643, 0.08171469268925857, 0.5452884300610139, 0.12414347543175822, 0.995354401764338, 0.9981013191302188, 0.9959252109353829, 0.9974945610180362, 0.9962375775922185, 0.3164199606542449, 0.05291128481138863, 0.6302205507732725, 0.9960481107144539, 0.9985560957597063, 0.5807935915557519, 0.09224368807061943, 0.3266109844278229, 0.9912573714358629, 0.01318839945065423, 0.31256506698050524, 0.17013035291343956, 0.3851012639591035, 0.12001443500095349, 0.4470914515450384, 0.15456796547760615, 0.3842530730564789, 0.01300104382521921, 0.9894957936985747, 0.36489814766204576, 0.24613864553581563, 0.03735177889454012, 0.1225904538077214, 0.15228032933927893, 0.07661903362982588, 0.7218361604196423, 0.18301098612659616, 0.08530790986777591, 0.009478656651975101, 0.997493227414361, 0.008604087288672973, 0.25902831205899685, 0.287104807422035, 0.3346537108594383, 0.11049459465453712, 0.8561291310861536, 0.14189985598113042, 0.9917749840102543, 0.9946373148576412, 0.9943004379063934, 0.7610637039508813, 0.11360806015498663, 0.12463796890789797, 0.06087355434473141, 0.43287860867364564, 0.5064341535068627, 0.39346956703002445, 0.03981537285422867, 0.5667835429837257, 0.3471829628854071, 0.17359148144270356, 0.4773765739674348, 0.9976659719533056, 0.17496008557741638, 0.023858193487829506, 0.1928537306932885, 0.15010780069426063, 0.4572820418500655, 0.9203106819016711, 0.07933712775014407, 0.0014198117598145153, 0.7666983502998382, 0.231429316849766, 0.9975050297440281, 0.9917078848354304, 0.33506666122314704, 0.21076773851133443, 0.08106451481205171, 0.003602867324980076, 0.36929390081045776, 0.13813497739502595, 0.8598514323240941, 0.13842076575246332, 0.26176600256158905, 0.1315682525964008, 0.46734139724346524, 0.9989527762483166, 0.9942895757872362, 0.7829942026587335, 0.12527907242539738, 0.028336933048601787, 0.06263953621269869, 0.07197212779406899, 0.9176446293743795, 0.9894850544865528, 0.9941114409384495, 0.9978381938029162, 0.9983235737562149, 0.9916536067771794, 0.09692067923922466, 0.903260763219166, 0.9944137457766427, 0.6901197057065185, 0.0936667931302139, 0.21532596121888253, 0.23294922146399805, 0.022185640139428385, 0.20105736376356975, 0.5421615809072812, 0.22818055169569457, 0.7716651384618034, 0.9976557426393062, 0.997801356380582, 0.22101744962797884, 0.11415186958807699, 0.014572579096350255, 0.6509085329703114, 0.9961776092966885, 0.9974985272514526, 0.11142086929446049, 0.8869101195839054, 0.9963881908325527, 0.9963041770434027, 0.07104052126978705, 0.7140797224187215, 0.17760130317446762, 0.009798692588936146, 0.0269464046195744, 0.6408842321512814, 0.35878886219369727, 0.9885072272258766, 0.5837895626037916, 0.12383414964322852, 0.1172001773409127, 0.17469460396098307, 0.9514158546580611, 0.047788010964560146, 0.1294911227936319, 0.8700184812697143, 0.08724525525000952, 0.1707514281321615, 0.608224065171495, 0.09596978077501048, 0.03739082367857551, 0.21147136707399575, 0.08685431147681968, 0.018881372060178193, 0.6835056685784505, 0.9345728426946907, 0.06581498892216131, 0.9989571917678691, 0.9974636330453964, 0.01616403657041885, 0.9806182186054103, 0.04261500511177578, 0.8445519194879201, 0.09814364813621089, 0.01420500170392526, 0.9961630422808622, 0.126108506236165, 0.8718881207017615, 0.03097948021105149, 0.4117272853855875, 0.05796160813680601, 0.4846789645922572, 0.014990071069863624, 0.997098304968532, 0.9882365239148286, 0.995678692641768, 0.005022402495399178, 0.05859469577965708, 0.5591608111544418, 0.05189815911912484, 0.3264561622009466, 0.1838609254724528, 0.7317418040615068, 0.08267571816546536, 0.9951528100907577, 0.056957433159776256, 0.3558308458691399, 0.3043854223699871, 0.17822164569349344, 0.10411573803399961, 0.9958031526241715, 0.9052798197618106, 0.09403110144165445, 0.27491986201940233, 0.12639993656064474, 0.5972397002490465, 0.38421446298362666, 0.030485530438247456, 0.23904527042054355, 0.34647047291722505, 0.9955231665603299, 0.7712666470024652, 0.22753843608884988, 0.0030219853175870418, 0.3875696169805381, 0.5401798755186837, 0.06950566230450196, 0.14970760936544325, 0.7586145205345057, 0.08493027839001108, 0.005757984975593972, 0.9960497092946063, 0.9956910332253586, 0.9964577825522558, 0.996074733091585, 0.9975855264831424, 0.9961630422808622, 0.08684813729215923, 0.09660635496543556, 0.12978429505457503, 0.008782395905948686, 0.18540613579225004, 0.4927899925004541, 0.37561987105540284, 0.6223659788198307, 0.9909982071341735, 0.9967136521543546, 0.9975020199240092, 0.9906124122305271, 0.9964030280847597, 0.06694865346064818, 0.41842908412905117, 0.5140700176442629, 0.9942708970868136, 0.9844667646615624, 0.99618968849402, 0.9931473160731517, 0.9971770776043267, 0.9966381009141142, 0.9956649502707499, 0.99647681074826, 0.9942563035201282, 0.9981636132931804, 0.9953875083825524, 0.968308554440764, 0.027931977531945117, 0.9961164789754543, 0.20551531985291674, 0.05849282180429169, 0.16994536064760424, 0.05295971703902085, 0.39522176894791683, 0.11777608714647922, 0.9952717167738746, 0.19008995525985542, 0.8089154074373195, 0.9913276260215866, 0.9908680706377443, 0.9982128094114051, 0.9649281911568207, 0.03332562041671908, 0.2912815675256132, 0.18345137185507368, 0.008869150293247837, 0.43365476960143373, 0.08262313694236144, 0.5746329495000778, 0.4251111105995473, 0.014160637497497285, 0.6155712418029702, 0.012494680144850546, 0.20324679702290221, 0.15493403379614676, 0.24779331890914202, 0.201303861991762, 0.13224670754167325, 0.013991972470279423, 0.25636904397157134, 0.14849544976522355, 0.17325500177282244, 0.6095540938284701, 0.13910985543803261, 0.07840737306507292, 0.9965026565354299, 0.7192083024739233, 0.2790719577226975, 0.9985645754949912, 0.9957073204955146, 0.9914532833873912, 0.005328896928434171, 0.6092705488176403, 0.09414384573567036, 0.2904248825996623, 0.08062084325782265, 0.9182399939884476, 0.9974719133407741, 0.9982085681247758, 0.9990458072838206, 0.993007441590356, 0.9956141538221179, 0.035514751774766526, 0.6764714623765052, 0.12627467297694764, 0.04848045480364954, 0.11330896994806462, 0.9867718143614785, 0.1858378247915206, 0.21589245952869374, 0.5980872312697455, 0.9912943697821455, 0.9961085841599618, 0.9992888069568175, 0.7221681203006227, 0.23859618108872166, 0.03955337761363835, 0.001512311474343248, 0.027221606538178466, 0.7243971962104158, 0.24650677031794943, 0.06540578911065922, 0.22749839690664075, 0.2701543463266359, 0.03839035447799563, 0.39954405956728783, 0.26068857840316717, 0.7374742678510651, 0.9993949744721369, 0.33799512055488884, 0.24251296344839512, 0.04627662829087733, 0.05564910997004236, 0.27824554985021177, 0.03924726703150356, 0.05738242759544374, 0.5465441054582428, 0.10347650877866904, 0.2229448416413142, 0.07055216507636526, 0.9902020479698601, 0.15413357368305286, 0.026084143238670483, 0.4683289354215837, 0.12567814469541233, 0.22527214615215418, 0.9887666157805207, 0.15359480887815732, 0.27926328886937696, 0.06671289678546227, 0.026374866170996714, 0.47397185971997036, 0.9902699282417922, 0.05873764352403962, 0.939802296384634, 0.054213070592819136, 0.9438002744113513, 0.997262560849979, 0.9945851604166963, 0.22757646910100965, 0.4328415196627046, 0.24988788764032432, 0.08924567415725869, 0.26737976808179725, 0.6996437264807028, 0.03119430627620968, 0.06371768337742821, 0.7860861159215314, 0.1503174077467505, 0.6026825673317507, 0.39655335049190116, 0.029381890026603182, 0.969602370877905], \"Term\": [\"access\", \"access\", \"access\", \"account\", \"active\", \"activity\", \"activity\", \"ad\", \"add\", \"add\", \"add\", \"additional\", \"address\", \"address\", \"address\", \"adobe\", \"agree\", \"airdrop\", \"alert\", \"alert\", \"alert\", \"also\", \"also\", \"also\", \"also\", \"also\", \"app\", \"arrangement\", \"article\", \"asset\", \"assist\", \"attachment\", \"attempt\", \"automatically\", \"await\", \"bank\", \"bank\", \"big\", \"big\", \"big\", \"bit\", \"bonus\", \"book\", \"book\", \"book\", \"book\", \"boost\", \"boy\", \"broker\", \"bug\", \"burn\", \"business\", \"business\", \"buy\", \"buy\", \"buy\", \"call\", \"call\", \"call\", \"call\", \"cancel\", \"card\", \"cashback\", \"change\", \"change\", \"change\", \"change\", \"check\", \"check\", \"check\", \"check\", \"check\", \"claim\", \"claim\", \"click\", \"click\", \"click\", \"code\", \"code\", \"code\", \"com\", \"com\", \"com\", \"com\", \"com\", \"com\", \"come\", \"come\", \"come\", \"come\", \"company\", \"company\", \"conference\", \"congratulation\", \"connect\", \"consultant\", \"contact\", \"contact\", \"contact\", \"contact\", \"contained_reproducible\", \"contract\", \"country\", \"customer\", \"customer\", \"customer\", \"customer\", \"day\", \"day\", \"day\", \"day\", \"day\", \"deal\", \"deal\", \"deal\", \"dear\", \"dear\", \"dear\", \"dear\", \"dear_friend\", \"death\", \"degree\", \"delete\", \"deliver\", \"deliver\", \"deliver\", \"demand\", \"detail\", \"detail\", \"detail\", \"detail\", \"details_countryregion\", \"detected_somethe\", \"device\", \"device\", \"device\", \"directory\", \"discount\", \"dollar\", \"dollar\", \"drug\", \"ect\", \"email\", \"email\", \"enter\", \"enter\", \"erection\", \"ethz_ch\", \"even\", \"even\", \"even\", \"even\", \"example\", \"example\", \"exclusive\", \"exmh_user\", \"express_pharmacy\", \"fact\", \"fact\", \"fact\", \"fast\", \"fast\", \"fast\", \"fast\", \"fax\", \"feel\", \"feel\", \"feel\", \"file\", \"file\", \"finance\", \"find\", \"find\", \"find\", \"find\", \"find\", \"flow\", \"follow\", \"follow\", \"follow\", \"follow\", \"foreign\", \"form\", \"form\", \"form\", \"free\", \"free\", \"free\", \"free\", \"function\", \"fund\", \"furnish\", \"future_report\", \"gain\", \"gas\", \"general\", \"get\", \"get\", \"get\", \"get\", \"get\", \"girl\", \"girl\", \"give\", \"give\", \"give\", \"give\", \"give\", \"glad\", \"go\", \"go\", \"go\", \"go\", \"go\", \"good\", \"good\", \"good\", \"good\", \"good\", \"government\", \"half\", \"half\", \"header\", \"health_personal\", \"help\", \"help\", \"help\", \"help\", \"help\", \"help\", \"hou_ect\", \"hour\", \"hour\", \"hour\", \"html\", \"html\", \"human\", \"human\", \"ilug_linux\", \"immediate\", \"impact\", \"increase\", \"increase\", \"increase\", \"information\", \"information\", \"information\", \"information\", \"information\", \"instal\", \"install\", \"interest\", \"interested\", \"interested\", \"interested\", \"interesting\", \"interesting\", \"international\", \"invest\", \"investment\", \"invite\", \"job\", \"know\", \"know\", \"know\", \"know\", \"know\", \"language\", \"launch\", \"ledger\", \"let\", \"let\", \"let\", \"life\", \"life\", \"line\", \"line\", \"line\", \"line\", \"linguistic\", \"list\", \"list\", \"list\", \"list\", \"list_maintain\", \"listinfo\", \"listmaster_linux\", \"lists_freshrpm\", \"lists_sourceforge\", \"log\", \"log\", \"login\", \"longer_wish\", \"look\", \"look\", \"look\", \"look\", \"look\", \"look_forward\", \"love\", \"love\", \"low\", \"low\", \"mail\", \"mail\", \"mail\", \"mail\", \"mailbox\", \"mailing_list\", \"mailing_list\", \"mailman_listinfo\", \"mailman_option\", \"make\", \"make\", \"make\", \"make\", \"make\", \"make\", \"maker\", \"male\", \"man\", \"manage\", \"manager\", \"manager\", \"many\", \"many\", \"many\", \"many\", \"many\", \"material\", \"maybe\", \"medication\", \"medium\", \"meeting\", \"message\", \"message\", \"message\", \"meter\", \"module\", \"money\", \"money\", \"money\", \"mother\", \"much\", \"much\", \"much\", \"much\", \"much\", \"name\", \"name\", \"name\", \"name\", \"natural\", \"need\", \"need\", \"need\", \"need\", \"need\", \"need\", \"net\", \"net\", \"net\", \"net\", \"network\", \"new\", \"new\", \"new\", \"new\", \"new\", \"news\", \"news\", \"newsletter\", \"notification\", \"notify\", \"number\", \"number\", \"number\", \"offer\", \"offer\", \"offer\", \"old\", \"old\", \"old\", \"online\", \"online\", \"online\", \"opt\", \"order\", \"order\", \"order\", \"order\", \"order\", \"org\", \"org\", \"package\", \"package\", \"package\", \"paper\", \"password\", \"pay\", \"pay\", \"pay\", \"pay\", \"pay\", \"payment\", \"payment\", \"people\", \"people\", \"people\", \"people\", \"perl\", \"pharmacy\", \"phone\", \"phone\", \"phone\", \"phone\", \"php\", \"php\", \"plant\", \"platform_window\", \"position\", \"posting_guide\", \"prescription\", \"price\", \"price\", \"privacy_policy\", \"problem\", \"problem\", \"problem\", \"product\", \"product\", \"product\", \"product\", \"professional\", \"professional\", \"proposal\", \"provide_commente\", \"purchase\", \"purchase\", \"purchase\", \"purchase\", \"python\", \"python_dev\", \"quality\", \"quality\", \"razor\", \"razor_user\", \"read\", \"read\", \"read\", \"read\", \"read\", \"receive\", \"receive\", \"refund\", \"regard\", \"regard\", \"regard\", \"regard\", \"register\", \"register\", \"remove\", \"remove\", \"report\", \"report\", \"report\", \"report\", \"report\", \"request\", \"request\", \"request\", \"request\", \"research\", \"research\", \"reward\", \"rpm\", \"rule\", \"rule\", \"run\", \"run\", \"run\", \"run\", \"russiamoscow_ip\", \"save\", \"save\", \"say\", \"say\", \"say\", \"say\", \"say\", \"script\", \"search_engine\", \"secret\", \"secure\", \"secure\", \"secure\", \"secure\", \"secure\", \"security\", \"security\", \"security\", \"security_notification\", \"see\", \"see\", \"see\", \"see\", \"see\", \"seek\", \"seem\", \"seem\", \"sell\", \"sell\", \"sell\", \"send\", \"send\", \"send\", \"send\", \"sender\", \"server\", \"server\", \"service\", \"service\", \"service\", \"service\", \"set\", \"set\", \"set\", \"set\", \"setting\", \"sex\", \"shipping\", \"shop\", \"signature\", \"similar_activity\", \"site\", \"site\", \"site\", \"site\", \"site\", \"site\", \"software\", \"software\", \"son\", \"sort\", \"spam\", \"spamassassin_sighting\", \"spamassassin_talk\", \"special\", \"special\", \"special\", \"stake\", \"stanley_tumbl\", \"stat_math\", \"stellar\", \"storage\", \"string\", \"student\", \"study\", \"subscription\", \"sum\", \"summer\", \"survey\", \"survey\", \"suspend\", \"take\", \"take\", \"take\", \"take\", \"take\", \"take\", \"teach\", \"team\", \"team\", \"technical\", \"teledyn\", \"term\", \"test\", \"test\", \"thank\", \"thank\", \"thank\", \"thank\", \"thank\", \"thing\", \"thing\", \"think\", \"think\", \"think\", \"think\", \"think\", \"time\", \"time\", \"time\", \"time\", \"time\", \"time\", \"today\", \"today\", \"today\", \"today\", \"token\", \"transaction\", \"transaction\", \"transfer\", \"transmission\", \"travel\", \"try\", \"try\", \"try\", \"try\", \"unsubscribe\", \"unsubscribe\", \"unusual\", \"unusual_signin\", \"update\", \"urgently\", \"usd\", \"use\", \"use\", \"use\", \"use\", \"use\", \"useless\", \"user\", \"user\", \"user\", \"validate\", \"verification\", \"verify\", \"version\", \"version\", \"version\", \"view\", \"view\", \"view\", \"view\", \"visit\", \"visit\", \"visit\", \"visit\", \"visit\", \"volume\", \"volume\", \"wallet\", \"want\", \"want\", \"want\", \"want\", \"want\", \"want\", \"way\", \"way\", \"way\", \"way\", \"way\", \"wealth\", \"web\", \"web\", \"web\", \"web\", \"web\", \"weight\", \"well\", \"well\", \"well\", \"well\", \"well\", \"wife\", \"win\", \"win\", \"window\", \"window\", \"winner\", \"woman\", \"work\", \"work\", \"work\", \"work\", \"world\", \"world\", \"world\", \"write\", \"write\", \"write\", \"year\", \"year\", \"young\", \"young\"]}, \"R\": 30, \"lambda.step\": 0.01, \"plot.opts\": {\"xlab\": \"PC1\", \"ylab\": \"PC2\"}, \"topic.order\": [2, 3, 1, 4, 5, 6]};\n",
              "\n",
              "function LDAvis_load_lib(url, callback){\n",
              "  var s = document.createElement('script');\n",
              "  s.src = url;\n",
              "  s.async = true;\n",
              "  s.onreadystatechange = s.onload = callback;\n",
              "  s.onerror = function(){console.warn(\"failed to load library \" + url);};\n",
              "  document.getElementsByTagName(\"head\")[0].appendChild(s);\n",
              "}\n",
              "\n",
              "if(typeof(LDAvis) !== \"undefined\"){\n",
              "   // already loaded: just create the visualization\n",
              "   !function(LDAvis){\n",
              "       new LDAvis(\"#\" + \"ldavis_el25091382183902986721456692551\", ldavis_el25091382183902986721456692551_data);\n",
              "   }(LDAvis);\n",
              "}else if(typeof define === \"function\" && define.amd){\n",
              "   // require.js is available: use it to load d3/LDAvis\n",
              "   require.config({paths: {d3: \"https://d3js.org/d3.v5\"}});\n",
              "   require([\"d3\"], function(d3){\n",
              "      window.d3 = d3;\n",
              "      LDAvis_load_lib(\"https://cdn.jsdelivr.net/gh/bmabey/pyLDAvis@3.4.0/pyLDAvis/js/ldavis.v3.0.0.js\", function(){\n",
              "        new LDAvis(\"#\" + \"ldavis_el25091382183902986721456692551\", ldavis_el25091382183902986721456692551_data);\n",
              "      });\n",
              "    });\n",
              "}else{\n",
              "    // require.js not available: dynamically load d3 & LDAvis\n",
              "    LDAvis_load_lib(\"https://d3js.org/d3.v5.js\", function(){\n",
              "         LDAvis_load_lib(\"https://cdn.jsdelivr.net/gh/bmabey/pyLDAvis@3.4.0/pyLDAvis/js/ldavis.v3.0.0.js\", function(){\n",
              "                 new LDAvis(\"#\" + \"ldavis_el25091382183902986721456692551\", ldavis_el25091382183902986721456692551_data);\n",
              "            })\n",
              "         });\n",
              "}\n",
              "</script>"
            ]
          },
          "metadata": {},
          "execution_count": 18
        }
      ]
    },
    {
      "cell_type": "markdown",
      "source": [
        "## Análisis de Clustering de Correos Usando LDA (6 Tópicos)\n",
        "\n",
        "Se ha realizado un modelo de **Latent Dirichlet Allocation (LDA)** con 6 tópicos para agrupar correos electrónicos (algunos de phishing y otros legítimos). A continuación, se describe el contenido temático de cada tópico generado.\n",
        "\n",
        "---\n",
        "\n",
        "### 🔹 **Tópico 1: Estafas financieras y solicitudes sospechosas**\n",
        "**Palabras clave:**  \n",
        "`\"fund\", \"contact\", \"business\", \"make\", \"money\", \"country\", \"call\", \"send\", \"need\", \"transfer\", \"language\", \"number\", \"give\", \"thank\", \"detail\", \"let\", \"information\", \"day\"`\n",
        "\n",
        "**Interpretación:**  \n",
        "Correos asociados a **estafas tradicionales**, como promesas de inversión, traspasos bancarios o solicitudes de ayuda financiera.  \n",
        "➡️ **Alta probabilidad de phishing.**\n",
        "\n",
        "---\n",
        "\n",
        "### 🔹 **Tópico 2: Listas de correo y foros técnicos**\n",
        "**Palabras clave:**  \n",
        "`\"write\", \"org\", \"list\", \"file\", \"use\", \"get\", \"help\", \"com\", \"net\", \"code\", \"perl\", \"work\", \"think\", \"mail\", \"try\", \"run\", \"problem\", \"test\", \"lists_sourceforge\", \"message\"`\n",
        "\n",
        "**Interpretación:**  \n",
        "Mensajes relacionados con **comunidades técnicas, listas de distribución** o colaboración en proyectos de software. Muchas palabras técnicas (`perl`, `code`, `file`) y referencias a listas (`sourceforge`, `list`).  \n",
        "➡️ **Muy probablemente legítimos.**\n",
        "\n",
        "---\n",
        "### 🔹  **Tópico 3: Promociones y recompensas digitales**\n",
        "**Palabras clave:**  \n",
        "`\"email\", \"com\", \"receive\", \"click\", \"get\", \"free\", \"company\", \"unsubscribe\", \"remove\", \"wallet\", \"reward\", \"claim\", \"offer\", \"see\", \"send\", \"network\", \"today\"`\n",
        "\n",
        "**Interpretación:**  \n",
        "Correos con lenguaje promocional que incluyen **ofertas, recompensas, solicitudes de clics o suscripciones**. Presencia de palabras como `reward`, `wallet`, `claim` sugiere posibles campañas de spam o *phishing* promocional.  \n",
        "➡️ **Alto riesgo de spam o phishing.**\n",
        "\n",
        "---\n",
        "\n",
        "### 🔹 **Tópico 4: Notificaciones de cuentas y servicios**\n",
        "**Palabras clave:**  \n",
        "`\"account\", \"email\", \"update\", \"message\", \"user\", \"mail\", \"address\", \"information\", \"receive\", \"thank\", \"click\", \"team\", \"new\", \"send\", \"service\", \"verify\", \"security\", \"change\", \"customer\", \"activity\"`\n",
        "\n",
        "**Interpretación:**  \n",
        "Mensajes automáticos relacionados con **cuentas de usuario**, actualizaciones, verificaciones y actividad en servicios online.  \n",
        "➡️ **Mixto: incluye tanto correos legítimos como intentos de phishing bien diseñados.**\n",
        "---\n",
        "\n",
        "### 🔹 **Tópico 5: Conversaciones personales o informales**\n",
        "**Palabras clave:**  \n",
        "`\"know\", \"get\", \"well\", \"time\", \"man\", \"rpm\", \"work\", \"take\", \"say\", \"want\", \"year\", \"com\", \"go\", \"make\", \"good\", \"many\", \"people\", \"day\", \"try\", \"look\"`\n",
        "\n",
        "**Interpretación:**  \n",
        "Correos con tono conversacional, posiblemente entre conocidos, usuarios frecuentes o interacciones casuales.  \n",
        "➡️ **Generalmente legítimos.**\n",
        "\n",
        "---\n",
        "\n",
        "### 🔹 **Tópico 6: Publicidad comercial y ventas**\n",
        "**Palabras clave:**  \n",
        "`\"price\", \"com\", \"offer\", \"site\", \"money\", \"order\", \"low\", \"save\", \"software\", \"product\", \"good\", \"online\", \"time\", \"check\", \"buy\", \"customer\", \"visit\", \"purchase\", \"discount\", \"life\"`\n",
        "\n",
        "**Interpretación:**  \n",
        "Contenido promocional o publicitario centrado en **productos, ofertas y descuentos**, posiblemente acompañado de enlaces de compra.  \n",
        "➡️ **Mixto: puede ser spam comercial legítimo o phishing disfrazado de oferta.**\n",
        "\n",
        "---\n",
        "\n",
        "## 🛡️ Aplicación para Detección de Phishing\n",
        "\n",
        "Según la segmentación actual:\n",
        "\n",
        "- 🔴 **Alta sospecha de phishing:** Tópicos **1** y **3**\n",
        "- 🟡 **Potencialmente mixtos o ambiguos:** Tópicos **4** y **6**\n",
        "- 🟢 **Probablemente legítimos:** Tópicos **2** y **5**"
      ],
      "metadata": {
        "id": "-vVsJdDyEf0N"
      }
    },
    {
      "cell_type": "markdown",
      "source": [
        "## Ver palabras clave por tópico"
      ],
      "metadata": {
        "id": "357DxVA-yi9O"
      }
    },
    {
      "cell_type": "code",
      "source": [
        "pprint(lda_model.print_topics(num_words=20))\n",
        "doc_lda = lda_model[corpus]"
      ],
      "metadata": {
        "id": "32H0G0TVymoQ",
        "outputId": "812fb20d-6dab-49fe-8c2e-d1c1295afd01",
        "colab": {
          "base_uri": "https://localhost:8080/"
        }
      },
      "execution_count": 19,
      "outputs": [
        {
          "output_type": "stream",
          "name": "stdout",
          "text": [
            "[(0,\n",
            "  '0.030*\"email\" + 0.018*\"com\" + 0.018*\"receive\" + 0.017*\"click\" + 0.012*\"get\" '\n",
            "  '+ 0.011*\"free\" + 0.011*\"company\" + 0.009*\"unsubscribe\" + 0.007*\"remove\" + '\n",
            "  '0.007*\"new\" + 0.007*\"wallet\" + 0.006*\"reward\" + 0.006*\"claim\" + '\n",
            "  '0.006*\"name\" + 0.005*\"service\" + 0.005*\"offer\" + 0.005*\"see\" + 0.005*\"send\" '\n",
            "  '+ 0.005*\"network\" + 0.005*\"today\"'),\n",
            " (1,\n",
            "  '0.012*\"fund\" + 0.009*\"contact\" + 0.008*\"business\" + 0.007*\"make\" + '\n",
            "  '0.007*\"money\" + 0.007*\"country\" + 0.007*\"call\" + 0.007*\"send\" + '\n",
            "  '0.007*\"need\" + 0.006*\"know\" + 0.006*\"transfer\" + 0.006*\"language\" + '\n",
            "  '0.006*\"number\" + 0.006*\"give\" + 0.005*\"thank\" + 0.005*\"detail\" + '\n",
            "  '0.005*\"name\" + 0.005*\"let\" + 0.005*\"information\" + 0.005*\"day\"'),\n",
            " (2,\n",
            "  '0.021*\"write\" + 0.020*\"org\" + 0.013*\"list\" + 0.012*\"file\" + 0.011*\"use\" + '\n",
            "  '0.010*\"get\" + 0.009*\"help\" + 0.009*\"com\" + 0.009*\"net\" + 0.009*\"code\" + '\n",
            "  '0.008*\"perl\" + 0.008*\"work\" + 0.007*\"think\" + 0.007*\"mail\" + 0.006*\"try\" + '\n",
            "  '0.006*\"run\" + 0.006*\"problem\" + 0.006*\"test\" + 0.006*\"lists_sourceforge\" + '\n",
            "  '0.006*\"message\"'),\n",
            " (3,\n",
            "  '0.051*\"account\" + 0.025*\"email\" + 0.018*\"update\" + 0.017*\"message\" + '\n",
            "  '0.017*\"user\" + 0.017*\"mail\" + 0.015*\"address\" + 0.014*\"information\" + '\n",
            "  '0.014*\"receive\" + 0.013*\"thank\" + 0.012*\"click\" + 0.011*\"team\" + '\n",
            "  '0.011*\"new\" + 0.010*\"send\" + 0.010*\"service\" + 0.010*\"verify\" + '\n",
            "  '0.009*\"security\" + 0.009*\"change\" + 0.008*\"customer\" + 0.008*\"activity\"'),\n",
            " (4,\n",
            "  '0.011*\"know\" + 0.009*\"get\" + 0.009*\"well\" + 0.009*\"time\" + 0.008*\"man\" + '\n",
            "  '0.008*\"rpm\" + 0.008*\"work\" + 0.008*\"take\" + 0.007*\"say\" + 0.007*\"want\" + '\n",
            "  '0.006*\"year\" + 0.006*\"com\" + 0.006*\"go\" + 0.006*\"make\" + 0.006*\"good\" + '\n",
            "  '0.005*\"many\" + 0.005*\"people\" + 0.005*\"day\" + 0.005*\"try\" + 0.005*\"look\"'),\n",
            " (5,\n",
            "  '0.026*\"price\" + 0.018*\"com\" + 0.017*\"offer\" + 0.015*\"site\" + 0.014*\"money\" '\n",
            "  '+ 0.013*\"order\" + 0.012*\"low\" + 0.012*\"save\" + 0.011*\"software\" + '\n",
            "  '0.011*\"product\" + 0.011*\"good\" + 0.010*\"online\" + 0.009*\"time\" + '\n",
            "  '0.009*\"check\" + 0.009*\"buy\" + 0.008*\"customer\" + 0.008*\"visit\" + '\n",
            "  '0.008*\"purchase\" + 0.007*\"discount\" + 0.007*\"life\"')]\n"
          ]
        }
      ]
    }
  ],
  "metadata": {
    "colab": {
      "provenance": [],
      "include_colab_link": true
    },
    "kernelspec": {
      "display_name": "Python 3",
      "name": "python3"
    },
    "language_info": {
      "name": "python"
    }
  },
  "nbformat": 4,
  "nbformat_minor": 0
}
