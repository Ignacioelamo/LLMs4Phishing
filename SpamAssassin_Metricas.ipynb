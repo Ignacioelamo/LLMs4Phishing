{
  "cells": [
    {
      "cell_type": "markdown",
      "metadata": {
        "id": "view-in-github",
        "colab_type": "text"
      },
      "source": [
        "<a href=\"https://colab.research.google.com/github/Ignacioelamo/LLMs4Phishing/blob/main/SpamAssassin_Metricas.ipynb\" target=\"_parent\"><img src=\"https://colab.research.google.com/assets/colab-badge.svg\" alt=\"Open In Colab\"/></a>"
      ]
    },
    {
      "cell_type": "markdown",
      "source": [
        "# Installation and Imports\n"
      ],
      "metadata": {
        "id": "3oTSr76Zz-7h"
      }
    },
    {
      "cell_type": "code",
      "source": [
        "!pip install spamcheck pandas tqdm scikit-learn matplotlib seaborn -q"
      ],
      "metadata": {
        "id": "BlCxVLNHsL6N"
      },
      "execution_count": 1,
      "outputs": []
    },
    {
      "cell_type": "code",
      "source": [
        "import pandas as pd\n",
        "import spamcheck\n",
        "from tqdm.notebook import tqdm\n",
        "from sklearn.metrics import accuracy_score, precision_score, recall_score, f1_score, confusion_matrix\n",
        "import concurrent.futures\n",
        "from sklearn.model_selection import train_test_split\n",
        "import matplotlib.pyplot as plt\n",
        "import seaborn as sns\n",
        "import numpy as np\n",
        "import random\n",
        "import os"
      ],
      "metadata": {
        "id": "jrgh4B_s0Iim"
      },
      "execution_count": 2,
      "outputs": []
    },
    {
      "cell_type": "markdown",
      "source": [
        "# Global Seed Initialization"
      ],
      "metadata": {
        "id": "EngGi61x0Y9e"
      }
    },
    {
      "cell_type": "code",
      "source": [
        "SEED = 56\n",
        "random.seed(SEED)\n",
        "np.random.seed(SEED)\n",
        "os.environ['PYTHONHASHSEED'] = str(SEED)\n",
        "print(f\"Global random seed set to: {SEED}\")"
      ],
      "metadata": {
        "id": "gfHRFcR90cfo",
        "outputId": "0062e7e1-52e7-4a09-a595-f9fbedd022ef",
        "colab": {
          "base_uri": "https://localhost:8080/"
        }
      },
      "execution_count": 3,
      "outputs": [
        {
          "output_type": "stream",
          "name": "stdout",
          "text": [
            "Global random seed set to: 56\n"
          ]
        }
      ]
    },
    {
      "cell_type": "markdown",
      "source": [
        "# Configuration and Data Loading"
      ],
      "metadata": {
        "id": "-ntartSu0iHn"
      }
    },
    {
      "cell_type": "code",
      "source": [
        "NOMBRE_ARCHIVO = 'emails.csv'\n",
        "\n",
        "!wget -q https://raw.githubusercontent.com/Ignacioelamo/LLMs4Phishing/main/data/01_combined_cleaned_email_data.csv -O $NOMBRE_ARCHIVO\n",
        "\n",
        "print(\"--- Data Loading and Preparation ---\")\n",
        "df_original = pd.read_csv(NOMBRE_ARCHIVO)"
      ],
      "metadata": {
        "colab": {
          "base_uri": "https://localhost:8080/"
        },
        "id": "GiKbcTQosefV",
        "outputId": "d776f3c7-3920-4960-f6db-82217540d005"
      },
      "execution_count": 4,
      "outputs": [
        {
          "output_type": "stream",
          "name": "stdout",
          "text": [
            "--- Data Loading and Preparation ---\n"
          ]
        }
      ]
    },
    {
      "cell_type": "code",
      "source": [
        "train_val_df, test_df = train_test_split(\n",
        "    df_original,\n",
        "    test_size=0.1,\n",
        "    random_state=SEED,\n",
        "    stratify=df_original['label'] if 'label' in df_original.columns else None\n",
        ")\n",
        "\n",
        "print(f\"Tamaño del DataFrame original: {len(df_original)}\")\n",
        "print(f\"Tamaño del conjunto de test (test_df): {len(test_df)} ({len(test_df)/len(df_original)*100:.2f}%)\")\n",
        "print(f\"Tamaño del conjunto de entrenamiento y validación (train_val_df): {len(train_val_df)} ({len(train_val_df)/len(df_original)*100:.2f}%)\")"
      ],
      "metadata": {
        "id": "eq59W0oSsT0f",
        "colab": {
          "base_uri": "https://localhost:8080/"
        },
        "outputId": "1baa3021-737b-49c6-8f61-b592e9c50fa2"
      },
      "execution_count": 5,
      "outputs": [
        {
          "output_type": "stream",
          "name": "stdout",
          "text": [
            "Tamaño del DataFrame original: 10000\n",
            "Tamaño del conjunto de test (test_df): 1000 (10.00%)\n",
            "Tamaño del conjunto de entrenamiento y validación (train_val_df): 9000 (90.00%)\n"
          ]
        }
      ]
    },
    {
      "cell_type": "markdown",
      "source": [
        "Guardamos el test"
      ],
      "metadata": {
        "id": "U00C34J3gQ5J"
      }
    },
    {
      "cell_type": "code",
      "source": [
        "test_df.to_csv('test_df.csv', index=False)"
      ],
      "metadata": {
        "id": "sCrqt-tKgN4i"
      },
      "execution_count": 6,
      "outputs": []
    },
    {
      "cell_type": "markdown",
      "source": [
        "# Email Processing and Metrics Calculation Function"
      ],
      "metadata": {
        "id": "s30goon9sqWY"
      }
    },
    {
      "cell_type": "code",
      "source": [
        "def _process_single_email_with_spamcheck(email_row_dict):\n",
        "    \"\"\"\n",
        "    Helper function to process a single email (passed as a dictionary) using spamcheck.\n",
        "    This function is intended to be used with concurrent.futures.Executor.map.\n",
        "    \"\"\"\n",
        "    subject = email_row_dict.get('subject', '')  # Default to empty string if 'subject' is missing\n",
        "    body = email_row_dict.get('body', '')    # Default to empty string if 'body' is missing\n",
        "    email_content = f\"Subject: {subject}\\n\\n{body}\"\n",
        "\n",
        "    try:\n",
        "        result = spamcheck.check(email_content, report=True)\n",
        "        score_str = result.get('score', '0.0') # Get score as string, default to '0.0'\n",
        "        report_content = result.get('report', {\"error\": \"Report not found in spamcheck result\"})\n",
        "\n",
        "        try:\n",
        "            # Attempt to convert score to float\n",
        "            score_float = float(score_str)\n",
        "        except (ValueError, TypeError):\n",
        "            # If conversion fails, log a warning (optional) and default to 0.0\n",
        "            # print(f\"Warning: spamcheck score '{score_str}' is not numeric. Assuming 0.0.\")\n",
        "            score_float = 0.0\n",
        "\n",
        "        # Determine predicted label based on score (standard threshold is often 5.0 for SpamAssassin)\n",
        "        predicted_label = 1 if score_float >= 5.0 else 0\n",
        "        return predicted_label, score_float, report_content\n",
        "\n",
        "    except Exception as e:\n",
        "        # Log the error (optional, can be verbose in parallel processing)\n",
        "        # print(f\"Error processing email with spamcheck: {e}\")\n",
        "        # Return default values in case of an exception during spamcheck call\n",
        "        return 0, 0.0, {\"error\": str(e), \"details\": \"Spamcheck API call failed\"}\n",
        "\n",
        "\n",
        "def analyze_emails_and_display_metrics(df_to_analyze, num_threads=10):\n",
        "    \"\"\"\n",
        "    Analyzes emails in the input DataFrame using spamcheck in parallel,\n",
        "    calculates performance metrics against the 'label' column,\n",
        "    and displays them with improved visualization including a confusion matrix plot.\n",
        "\n",
        "    Args:\n",
        "        df_to_analyze (pd.DataFrame): DataFrame containing 'subject', 'body', and 'label' columns.\n",
        "        num_threads (int): Number of threads for parallel processing of spamcheck API calls.\n",
        "\n",
        "    Returns:\n",
        "        pd.DataFrame: The input DataFrame augmented with 'predicted_label_spamcheck',\n",
        "                      'spamcheck_score', and 'spamcheck_report' columns.\n",
        "        dict: A dictionary containing the calculated performance metrics (TP, TN, FP, FN,\n",
        "              Accuracy, Precision, Recall, F1 Score).\n",
        "    \"\"\"\n",
        "    # Validate required columns\n",
        "    required_cols = ['subject', 'body', 'label']\n",
        "    if not all(col in df_to_analyze.columns for col in required_cols):\n",
        "        missing_cols = [col for col in required_cols if col not in df_to_analyze.columns]\n",
        "        print(f\"Error: DataFrame is missing required columns: {missing_cols}. Cannot proceed.\")\n",
        "        return df_to_analyze, {}\n",
        "\n",
        "    print(f\"\\n--- Analyzing DataFrame with {len(df_to_analyze)} emails using spamcheck ---\")\n",
        "    # Work on a copy to avoid modifying the original DataFrame passed to the function\n",
        "    df_processed = df_to_analyze.copy()\n",
        "\n",
        "    # Lists to store results from parallel processing\n",
        "    predicted_labels_list = []\n",
        "    spamcheck_scores_list = []\n",
        "    spamcheck_reports_list = [] # Storing full reports can be memory-intensive\n",
        "\n",
        "    print(f\"Processing emails in parallel with {num_threads} threads...\")\n",
        "    # Convert DataFrame rows to a list of dictionaries to pass to the worker function\n",
        "    email_data_as_dicts = df_processed.to_dict('records')\n",
        "\n",
        "    # Use ThreadPoolExecutor for I/O-bound tasks like API calls\n",
        "    all_results_from_map = [] # Initialize list to store all results from the map\n",
        "    with concurrent.futures.ThreadPoolExecutor(max_workers=num_threads) as executor:\n",
        "        # map applies the function to each item in the iterable.\n",
        "        # list() consumes the iterator returned by map and collects all results.\n",
        "        # tqdm wraps the map iterator to show a progress bar.\n",
        "        # This structure matches the user's provided example for processing.\n",
        "        all_results_from_map = list(tqdm(executor.map(_process_single_email_with_spamcheck, email_data_as_dicts),\n",
        "                                         total=len(email_data_as_dicts),\n",
        "                                         desc=\"Analyzing emails\"))\n",
        "\n",
        "    # Iterate through the collected results to populate the individual lists\n",
        "    for result_tuple in all_results_from_map:\n",
        "        pred_label, score, report_content = result_tuple # Unpack the tuple\n",
        "        predicted_labels_list.append(pred_label)\n",
        "        spamcheck_scores_list.append(score)\n",
        "        spamcheck_reports_list.append(report_content)\n",
        "\n",
        "    # Add new columns to the DataFrame\n",
        "    df_processed['predicted_label_spamcheck'] = predicted_labels_list\n",
        "    df_processed['spamcheck_score'] = spamcheck_scores_list\n",
        "    df_processed['spamcheck_report'] = spamcheck_reports_list\n",
        "\n",
        "    # --- Calculate Performance Metrics ---\n",
        "    true_labels = df_processed['label'].tolist()\n",
        "    # predicted_labels_list is already available from the processing step\n",
        "\n",
        "    print(\"\\n--- Performance Metrics (SpamAssassin Predictions) ---\")\n",
        "\n",
        "    if not true_labels or not predicted_labels_list:\n",
        "        print(\"No true labels or predicted labels available to calculate metrics.\")\n",
        "        return df_processed, {}\n",
        "\n",
        "    # Calculate confusion matrix. Specify labels=[0, 1] to ensure a 2x2 matrix\n",
        "    # even if one class is not present in predictions or true labels for a small dataset.\n",
        "    cm = confusion_matrix(true_labels, predicted_labels_list, labels=[0, 1])\n",
        "\n",
        "    # tn, fp, fn, tp = cm.ravel() sometimes fails if cm is not 2x2.\n",
        "    # With labels=[0,1], cm will be 2x2.\n",
        "    # cm[0,0] = TN, cm[0,1] = FP, cm[1,0] = FN, cm[1,1] = TP\n",
        "    tn, fp, fn, tp = cm[0,0], cm[0,1], cm[1,0], cm[1,1]\n",
        "\n",
        "    # Calculate standard metrics\n",
        "    # zero_division=0 means if a metric is undefined (e.g., precision when no positive predictions), it returns 0.0.\n",
        "    accuracy = accuracy_score(true_labels, predicted_labels_list)\n",
        "    precision = precision_score(true_labels, predicted_labels_list, zero_division=0, labels=[0,1], pos_label=1)\n",
        "    recall = recall_score(true_labels, predicted_labels_list, zero_division=0, labels=[0,1], pos_label=1)\n",
        "    f1 = f1_score(true_labels, predicted_labels_list, zero_division=0, labels=[0,1], pos_label=1)\n",
        "\n",
        "    metrics_summary = {\n",
        "        \"TP\": tp, \"TN\": tn, \"FP\": fp, \"FN\": fn,\n",
        "        \"Accuracy\": accuracy,\n",
        "        \"Precision (Spam)\": precision, # Precision for the positive class (spam=1)\n",
        "        \"Recall (Spam)\": recall,     # Recall for the positive class (spam=1)\n",
        "        \"F1 Score (Spam)\": f1        # F1 Score for the positive class (spam=1)\n",
        "    }\n",
        "\n",
        "    # --- Display Metrics with Enhanced Visualization ---\n",
        "    print(\"\\nConfusion Matrix (Textual):\")\n",
        "    # Create a DataFrame for better textual display of the confusion matrix\n",
        "    cm_df = pd.DataFrame(\n",
        "        data=cm,\n",
        "        columns=['Predicted: Not Spam (0)', 'Predicted: Spam (1)'],\n",
        "        index=['Actual: Not Spam (0)', 'Actual: Spam (1)']\n",
        "    )\n",
        "    print(cm_df)\n",
        "\n",
        "    print(f\"\\nBreakdown of Confusion Matrix:\")\n",
        "    print(f\"  Verdaderos Positivos (TP) (Spam correctly identified as Spam):       {tp}\")\n",
        "    print(f\"  Verdaderos Negativos (TN) (Not Spam correctly identified as Not Spam): {tn}\")\n",
        "    print(f\"  Falsos Positivos (FP)   (Not Spam incorrectly flagged as Spam):      {fp}  <-- Type I Error\")\n",
        "    print(f\"  Falsos Negativos (FN)   (Spam incorrectly flagged as Not Spam):    {fn}  <-- Type II Error\")\n",
        "\n",
        "    print(\"\\nKey Performance Indicators (KPIs):\")\n",
        "    print(f\"  Accuracy:  {metrics_summary['Accuracy']:.4f}  (Overall proportion of correct predictions)\")\n",
        "    print(f\"  Precision: {metrics_summary['Precision (Spam)']:.4f}  (Of emails predicted as Spam, proportion that were actually Spam)\")\n",
        "    print(f\"  Recall:    {metrics_summary['Recall (Spam)']:.4f}  (Of actual Spam emails, proportion correctly identified)\")\n",
        "    print(f\"  F1 Score:  {metrics_summary['F1 Score (Spam)']:.4f}  (Harmonic mean of Precision and Recall, good for imbalanced classes)\")\n",
        "\n",
        "    # Plotting the confusion matrix as a heatmap\n",
        "    plt.figure(figsize=(8, 6))\n",
        "    sns.heatmap(cm, annot=True, fmt='d', cmap='Blues', cbar=True,\n",
        "                xticklabels=['Predicted Not Spam (0)', 'Predicted Spam (1)'],\n",
        "                yticklabels=['Actual Not Spam (0)', 'Actual Spam (1)'])\n",
        "    plt.title('Confusion Matrix - SpamAssassin Predictions', fontsize=15)\n",
        "    plt.ylabel('Actual Label', fontsize=12)\n",
        "    plt.xlabel('Predicted Label', fontsize=12)\n",
        "    plt.show()\n",
        "\n",
        "    return df_processed, metrics_summary"
      ],
      "metadata": {
        "id": "IX3CHi35079O"
      },
      "execution_count": 7,
      "outputs": []
    },
    {
      "cell_type": "markdown",
      "source": [
        "# Main"
      ],
      "metadata": {
        "id": "Tc0NB7i91hZ_"
      }
    },
    {
      "cell_type": "code",
      "source": [
        "test_df_with_predictions, test_set_metrics = analyze_emails_and_display_metrics(test_df, num_threads=32)\n",
        "\n",
        "print(\"\\n--- Analysis of test_df Complete ---\")\n",
        "print(\"Showing a sample of the processed DataFrame with new prediction columns:\")\n",
        "print(test_df_with_predictions[['subject', 'label', 'predicted_label_spamcheck', 'spamcheck_score']].head())\n",
        "\n",
        "print(\"\\nSummary of Metrics for the Test Set:\")\n",
        "if test_set_metrics: # Check if metrics were successfully calculated\n",
        "    print(f\"Verdaderos Positivos (TP): {test_set_metrics['TP']}\")\n",
        "    print(f\"Verdaderos Negativos (TN): {test_set_metrics['TN']}\")\n",
        "    print(f\"Falsos Positivos (FP): {test_set_metrics['FP']}\")\n",
        "    print(f\"Falsos Negativos (FN): {test_set_metrics['FN']}\")\n",
        "    print(f\"Accuracy: {test_set_metrics['Accuracy']:.4f}\")\n",
        "    # Note: Using the keys as defined in metrics_summary for Precision, Recall, F1\n",
        "    print(f\"Precision: {test_set_metrics['Precision (Spam)']:.4f}\")\n",
        "    print(f\"Recall: {test_set_metrics['Recall (Spam)']:.4f}\")\n",
        "    print(f\"F1 Score: {test_set_metrics['F1 Score (Spam)']:.4f}\")\n",
        "else:\n",
        "    print(\"  No metrics were calculated for the test set.\")"
      ],
      "metadata": {
        "id": "WTF6y11k1Opf",
        "outputId": "08b09bd2-261b-4b64-c8be-05a18b138f7f",
        "colab": {
          "base_uri": "https://localhost:8080/",
          "height": 1000,
          "referenced_widgets": [
            "68fc1dc45ee94e5e9d71f08837f56283",
            "f596b427dac74da49b113ed856ef62c9",
            "c930835fa7a34f57a0af00d94eddfd2e",
            "75bae0d10f764e7bb509aeddc65ebab7",
            "9de85570b31143bfba83ed441916702e",
            "11099b7ddd544e03bc2911ff589e93e3",
            "c2cad7b4e5144955891abf84aefc1cd9",
            "500d1a18d6c943fb8e0fbe7a50165f42",
            "002d30890199485fb7ba445142bad34b",
            "65fdc0695fa749c5ba992ad93ff55b26",
            "3320b104d4da468bbc74e180ae7e5f76"
          ]
        }
      },
      "execution_count": 8,
      "outputs": [
        {
          "output_type": "stream",
          "name": "stdout",
          "text": [
            "\n",
            "--- Analyzing DataFrame with 1000 emails using spamcheck ---\n",
            "Processing emails in parallel with 32 threads...\n"
          ]
        },
        {
          "output_type": "display_data",
          "data": {
            "text/plain": [
              "Analyzing emails:   0%|          | 0/1000 [00:00<?, ?it/s]"
            ],
            "application/vnd.jupyter.widget-view+json": {
              "version_major": 2,
              "version_minor": 0,
              "model_id": "68fc1dc45ee94e5e9d71f08837f56283"
            }
          },
          "metadata": {}
        },
        {
          "output_type": "stream",
          "name": "stdout",
          "text": [
            "\n",
            "--- Performance Metrics (SpamAssassin Predictions) ---\n",
            "\n",
            "Confusion Matrix (Textual):\n",
            "                      Predicted: Not Spam (0)  Predicted: Spam (1)\n",
            "Actual: Not Spam (0)                      498                    2\n",
            "Actual: Spam (1)                          339                  161\n",
            "\n",
            "Breakdown of Confusion Matrix:\n",
            "  Verdaderos Positivos (TP) (Spam correctly identified as Spam):       161\n",
            "  Verdaderos Negativos (TN) (Not Spam correctly identified as Not Spam): 498\n",
            "  Falsos Positivos (FP)   (Not Spam incorrectly flagged as Spam):      2  <-- Type I Error\n",
            "  Falsos Negativos (FN)   (Spam incorrectly flagged as Not Spam):    339  <-- Type II Error\n",
            "\n",
            "Key Performance Indicators (KPIs):\n",
            "  Accuracy:  0.6590  (Overall proportion of correct predictions)\n",
            "  Precision: 0.9877  (Of emails predicted as Spam, proportion that were actually Spam)\n",
            "  Recall:    0.3220  (Of actual Spam emails, proportion correctly identified)\n",
            "  F1 Score:  0.4857  (Harmonic mean of Precision and Recall, good for imbalanced classes)\n"
          ]
        },
        {
          "output_type": "display_data",
          "data": {
            "text/plain": [
              "<Figure size 800x600 with 2 Axes>"
            ],
            "image/png": "[encoded data removed]"
          },
          "metadata": {}
        },
        {
          "output_type": "stream",
          "name": "stdout",
          "text": [
            "\n",
            "--- Analysis of test_df Complete ---\n",
            "Showing a sample of the processed DataFrame with new prediction columns:\n",
            "                                                subject  label  \\\n",
            "8039                               URGENT REPLY NEEDED       1   \n",
            "6163                         Re: Goodbye Global Warming      0   \n",
            "6103              How Does Unlimited Free Calling Work?      1   \n",
            "9800  warning suspicious activity detected in your w...      1   \n",
            "784                     Creative Suite 3 Design $269.90      1   \n",
            "\n",
            "      predicted_label_spamcheck  spamcheck_score  \n",
            "8039                          1              7.8  \n",
            "6163                          0              2.0  \n",
            "6103                          0              3.7  \n",
            "9800                          0              3.7  \n",
            "784                           0              3.7  \n",
            "\n",
            "Summary of Metrics for the Test Set:\n",
            "Verdaderos Positivos (TP): 161\n",
            "Verdaderos Negativos (TN): 498\n",
            "Falsos Positivos (FP): 2\n",
            "Falsos Negativos (FN): 339\n",
            "Accuracy: 0.6590\n",
            "Precision: 0.9877\n",
            "Recall: 0.3220\n",
            "F1 Score: 0.4857\n"
          ]
        }
      ]
    }
  ],
  "metadata": {
    "colab": {
      "provenance": [],
      "include_colab_link": true
    },
    "kernelspec": {
      "display_name": "Python 3",
      "name": "python3"
    },
    "widgets": {
      "application/vnd.jupyter.widget-state+json": {
        "68fc1dc45ee94e5e9d71f08837f56283": {
          "model_module": "@jupyter-widgets/controls",
          "model_name": "HBoxModel",
          "model_module_version": "1.5.0",
          "state": {
            "_dom_classes": [],
            "_model_module": "@jupyter-widgets/controls",
            "_model_module_version": "1.5.0",
            "_model_name": "HBoxModel",
            "_view_count": null,
            "_view_module": "@jupyter-widgets/controls",
            "_view_module_version": "1.5.0",
            "_view_name": "HBoxView",
            "box_style": "",
            "children": [
              "IPY_MODEL_f596b427dac74da49b113ed856ef62c9",
              "IPY_MODEL_c930835fa7a34f57a0af00d94eddfd2e",
              "IPY_MODEL_75bae0d10f764e7bb509aeddc65ebab7"
            ],
            "layout": "IPY_MODEL_9de85570b31143bfba83ed441916702e"
          }
        },
        "f596b427dac74da49b113ed856ef62c9": {
          "model_module": "@jupyter-widgets/controls",
          "model_name": "HTMLModel",
          "model_module_version": "1.5.0",
          "state": {
            "_dom_classes": [],
            "_model_module": "@jupyter-widgets/controls",
            "_model_module_version": "1.5.0",
            "_model_name": "HTMLModel",
            "_view_count": null,
            "_view_module": "@jupyter-widgets/controls",
            "_view_module_version": "1.5.0",
            "_view_name": "HTMLView",
            "description": "",
            "description_tooltip": null,
            "layout": "IPY_MODEL_11099b7ddd544e03bc2911ff589e93e3",
            "placeholder": "​",
            "style": "IPY_MODEL_c2cad7b4e5144955891abf84aefc1cd9",
            "value": "Analyzing emails: 100%"
          }
        },
        "c930835fa7a34f57a0af00d94eddfd2e": {
          "model_module": "@jupyter-widgets/controls",
          "model_name": "FloatProgressModel",
          "model_module_version": "1.5.0",
          "state": {
            "_dom_classes": [],
            "_model_module": "@jupyter-widgets/controls",
            "_model_module_version": "1.5.0",
            "_model_name": "FloatProgressModel",
            "_view_count": null,
            "_view_module": "@jupyter-widgets/controls",
            "_view_module_version": "1.5.0",
            "_view_name": "ProgressView",
            "bar_style": "success",
            "description": "",
            "description_tooltip": null,
            "layout": "IPY_MODEL_500d1a18d6c943fb8e0fbe7a50165f42",
            "max": 1000,
            "min": 0,
            "orientation": "horizontal",
            "style": "IPY_MODEL_002d30890199485fb7ba445142bad34b",
            "value": 1000
          }
        },
        "75bae0d10f764e7bb509aeddc65ebab7": {
          "model_module": "@jupyter-widgets/controls",
          "model_name": "HTMLModel",
          "model_module_version": "1.5.0",
          "state": {
            "_dom_classes": [],
            "_model_module": "@jupyter-widgets/controls",
            "_model_module_version": "1.5.0",
            "_model_name": "HTMLModel",
            "_view_count": null,
            "_view_module": "@jupyter-widgets/controls",
            "_view_module_version": "1.5.0",
            "_view_name": "HTMLView",
            "description": "",
            "description_tooltip": null,
            "layout": "IPY_MODEL_65fdc0695fa749c5ba992ad93ff55b26",
            "placeholder": "​",
            "style": "IPY_MODEL_3320b104d4da468bbc74e180ae7e5f76",
            "value": " 1000/1000 [00:41&lt;00:00, 24.79it/s]"
          }
        },
        "9de85570b31143bfba83ed441916702e": {
          "model_module": "@jupyter-widgets/base",
          "model_name": "LayoutModel",
          "model_module_version": "1.2.0",
          "state": {
            "_model_module": "@jupyter-widgets/base",
            "_model_module_version": "1.2.0",
            "_model_name": "LayoutModel",
            "_view_count": null,
            "_view_module": "@jupyter-widgets/base",
            "_view_module_version": "1.2.0",
            "_view_name": "LayoutView",
            "align_content": null,
            "align_items": null,
            "align_self": null,
            "border": null,
            "bottom": null,
            "display": null,
            "flex": null,
            "flex_flow": null,
            "grid_area": null,
            "grid_auto_columns": null,
            "grid_auto_flow": null,
            "grid_auto_rows": null,
            "grid_column": null,
            "grid_gap": null,
            "grid_row": null,
            "grid_template_areas": null,
            "grid_template_columns": null,
            "grid_template_rows": null,
            "height": null,
            "justify_content": null,
            "justify_items": null,
            "left": null,
            "margin": null,
            "max_height": null,
            "max_width": null,
            "min_height": null,
            "min_width": null,
            "object_fit": null,
            "object_position": null,
            "order": null,
            "overflow": null,
            "overflow_x": null,
            "overflow_y": null,
            "padding": null,
            "right": null,
            "top": null,
            "visibility": null,
            "width": null
          }
        },
        "11099b7ddd544e03bc2911ff589e93e3": {
          "model_module": "@jupyter-widgets/base",
          "model_name": "LayoutModel",
          "model_module_version": "1.2.0",
          "state": {
            "_model_module": "@jupyter-widgets/base",
            "_model_module_version": "1.2.0",
            "_model_name": "LayoutModel",
            "_view_count": null,
            "_view_module": "@jupyter-widgets/base",
            "_view_module_version": "1.2.0",
            "_view_name": "LayoutView",
            "align_content": null,
            "align_items": null,
            "align_self": null,
            "border": null,
            "bottom": null,
            "display": null,
            "flex": null,
            "flex_flow": null,
            "grid_area": null,
            "grid_auto_columns": null,
            "grid_auto_flow": null,
            "grid_auto_rows": null,
            "grid_column": null,
            "grid_gap": null,
            "grid_row": null,
            "grid_template_areas": null,
            "grid_template_columns": null,
            "grid_template_rows": null,
            "height": null,
            "justify_content": null,
            "justify_items": null,
            "left": null,
            "margin": null,
            "max_height": null,
            "max_width": null,
            "min_height": null,
            "min_width": null,
            "object_fit": null,
            "object_position": null,
            "order": null,
            "overflow": null,
            "overflow_x": null,
            "overflow_y": null,
            "padding": null,
            "right": null,
            "top": null,
            "visibility": null,
            "width": null
          }
        },
        "c2cad7b4e5144955891abf84aefc1cd9": {
          "model_module": "@jupyter-widgets/controls",
          "model_name": "DescriptionStyleModel",
          "model_module_version": "1.5.0",
          "state": {
            "_model_module": "@jupyter-widgets/controls",
            "_model_module_version": "1.5.0",
            "_model_name": "DescriptionStyleModel",
            "_view_count": null,
            "_view_module": "@jupyter-widgets/base",
            "_view_module_version": "1.2.0",
            "_view_name": "StyleView",
            "description_width": ""
          }
        },
        "500d1a18d6c943fb8e0fbe7a50165f42": {
          "model_module": "@jupyter-widgets/base",
          "model_name": "LayoutModel",
          "model_module_version": "1.2.0",
          "state": {
            "_model_module": "@jupyter-widgets/base",
            "_model_module_version": "1.2.0",
            "_model_name": "LayoutModel",
            "_view_count": null,
            "_view_module": "@jupyter-widgets/base",
            "_view_module_version": "1.2.0",
            "_view_name": "LayoutView",
            "align_content": null,
            "align_items": null,
            "align_self": null,
            "border": null,
            "bottom": null,
            "display": null,
            "flex": null,
            "flex_flow": null,
            "grid_area": null,
            "grid_auto_columns": null,
            "grid_auto_flow": null,
            "grid_auto_rows": null,
            "grid_column": null,
            "grid_gap": null,
            "grid_row": null,
            "grid_template_areas": null,
            "grid_template_columns": null,
            "grid_template_rows": null,
            "height": null,
            "justify_content": null,
            "justify_items": null,
            "left": null,
            "margin": null,
            "max_height": null,
            "max_width": null,
            "min_height": null,
            "min_width": null,
            "object_fit": null,
            "object_position": null,
            "order": null,
            "overflow": null,
            "overflow_x": null,
            "overflow_y": null,
            "padding": null,
            "right": null,
            "top": null,
            "visibility": null,
            "width": null
          }
        },
        "002d30890199485fb7ba445142bad34b": {
          "model_module": "@jupyter-widgets/controls",
          "model_name": "ProgressStyleModel",
          "model_module_version": "1.5.0",
          "state": {
            "_model_module": "@jupyter-widgets/controls",
            "_model_module_version": "1.5.0",
            "_model_name": "ProgressStyleModel",
            "_view_count": null,
            "_view_module": "@jupyter-widgets/base",
            "_view_module_version": "1.2.0",
            "_view_name": "StyleView",
            "bar_color": null,
            "description_width": ""
          }
        },
        "65fdc0695fa749c5ba992ad93ff55b26": {
          "model_module": "@jupyter-widgets/base",
          "model_name": "LayoutModel",
          "model_module_version": "1.2.0",
          "state": {
            "_model_module": "@jupyter-widgets/base",
            "_model_module_version": "1.2.0",
            "_model_name": "LayoutModel",
            "_view_count": null,
            "_view_module": "@jupyter-widgets/base",
            "_view_module_version": "1.2.0",
            "_view_name": "LayoutView",
            "align_content": null,
            "align_items": null,
            "align_self": null,
            "border": null,
            "bottom": null,
            "display": null,
            "flex": null,
            "flex_flow": null,
            "grid_area": null,
            "grid_auto_columns": null,
            "grid_auto_flow": null,
            "grid_auto_rows": null,
            "grid_column": null,
            "grid_gap": null,
            "grid_row": null,
            "grid_template_areas": null,
            "grid_template_columns": null,
            "grid_template_rows": null,
            "height": null,
            "justify_content": null,
            "justify_items": null,
            "left": null,
            "margin": null,
            "max_height": null,
            "max_width": null,
            "min_height": null,
            "min_width": null,
            "object_fit": null,
            "object_position": null,
            "order": null,
            "overflow": null,
            "overflow_x": null,
            "overflow_y": null,
            "padding": null,
            "right": null,
            "top": null,
            "visibility": null,
            "width": null
          }
        },
        "3320b104d4da468bbc74e180ae7e5f76": {
          "model_module": "@jupyter-widgets/controls",
          "model_name": "DescriptionStyleModel",
          "model_module_version": "1.5.0",
          "state": {
            "_model_module": "@jupyter-widgets/controls",
            "_model_module_version": "1.5.0",
            "_model_name": "DescriptionStyleModel",
            "_view_count": null,
            "_view_module": "@jupyter-widgets/base",
            "_view_module_version": "1.2.0",
            "_view_name": "StyleView",
            "description_width": ""
          }
        }
      }
    }
  },
  "nbformat": 4,
  "nbformat_minor": 0
}