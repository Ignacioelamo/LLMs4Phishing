{
  "cells": [
    {
      "cell_type": "markdown",
      "metadata": {
        "id": "view-in-github",
        "colab_type": "text"
      },
      "source": [
        "<a href=\"https://colab.research.google.com/github/Ignacioelamo/LLMs4Phishing/blob/main/02_Extracci%C3%B3n_caracter%C3%ADsticas.ipynb\" target=\"_parent\"><img src=\"https://colab.research.google.com/assets/colab-badge.svg\" alt=\"Open In Colab\"/></a>"
      ]
    },
    {
      "cell_type": "markdown",
      "metadata": {
        "id": "2utZUICUZ6C3"
      },
      "source": [
        "## Extracción de las características del cuerpo del correo:\n",
        "1. **body_html=contains_html**: This is a binary feature that represents the presence of HTML in the email body.  \n",
        "2. **body_forms**: This binary feature represents the presence of forms in HTML email bodies.\n",
        "3. **body_noWords**: This feature measures the total number of words occurring in the email.\n",
        "4.  **body_noCharacters**: This feature measures the total number of characters occurring in the email body.\n",
        "5.  **body_noDistinctWords**: This feature measures the total number of distinct words occurring in the body of the email.  \n",
        "6. **body_richness**: The richness is defined as the ratio of the number of words to the number of characters in the document.\n",
        "$$\n",
        "\\text{body_richness} = \\frac{\\text{body_noWords}}{\\text{body_noCharacters}}\n",
        "$$\n",
        "8. **body_noFunctionWords** Chandrasekaran [6] also listed a set of function words that included:  \n",
        "`account`, `access`, `bank`, `credit`, `click`, `identity`, `inconvenience`, `information`, `limited`, `log`, `minutes`, `password`, `recently`, `risk`, `social`, `security`, `service`, and `suspended`.  The `body_noFunctionWords` feature measures the total number of occurrences of these function words in the email body.\n",
        "9. **body_suspension** This binary feature represents the presence of the word **\"suspension\"** in the body of the email.  \n",
        "10.  **body_verifyYourAccount** This binary feature represents the presence of the phrase **\"verify your account\"** in the body of the email.\n",
        "11. **body_text** contains information regarding the context and purpose of an email. For this, we extract the plain text from the email body and use word embedding techniques to represent it.\n",
        "\n",
        "Añadimos las features que ya teníamos: has_attachment, contains_html, urls."
      ]
    },
    {
      "cell_type": "code",
      "execution_count": null,
      "metadata": {
        "id": "3thkqU3Kjgfr"
      },
      "outputs": [],
      "source": [
        "#Es necesario la version de numpy= 1.26.4\n",
        "#%pip install --upgrade --force-reinstall numpy==1.26.4 pandas"
      ]
    },
    {
      "cell_type": "code",
      "source": [
        "NOMBRE_ARCHIVO = 'emails.csv'\n",
        "\n",
        "!wget https://raw.githubusercontent.com/Ignacioelamo/LLMs4Phishing/main/data/01_combined_cleaned_email_data.csv -O $NOMBRE_ARCHIVO"
      ],
      "metadata": {
        "colab": {
          "base_uri": "https://localhost:8080/"
        },
        "id": "VXsJqVlSjk4N",
        "outputId": "5db89695-ab51-49b0-a99f-2ac27747c5a6"
      },
      "execution_count": null,
      "outputs": [
        {
          "output_type": "stream",
          "name": "stdout",
          "text": [
            "--2025-05-23 10:07:30--  https://raw.githubusercontent.com/Ignacioelamo/LLMs4Phishing/main/data/01_combined_cleaned_email_data.csv\n",
            "Resolving raw.githubusercontent.com (raw.githubusercontent.com)... 185.199.110.133, 185.199.108.133, 185.199.111.133, ...\n",
            "Connecting to raw.githubusercontent.com (raw.githubusercontent.com)|185.199.110.133|:443... connected.\n",
            "HTTP request sent, awaiting response... 200 OK\n",
            "Length: 10034933 (9.6M) [text/plain]\n",
            "Saving to: ‘emails.csv’\n",
            "\n",
            "\remails.csv            0%[                    ]       0  --.-KB/s               \remails.csv          100%[===================>]   9.57M  --.-KB/s    in 0.07s   \n",
            "\n",
            "2025-05-23 10:07:31 (140 MB/s) - ‘emails.csv’ saved [10034933/10034933]\n",
            "\n"
          ]
        }
      ]
    },
    {
      "cell_type": "code",
      "execution_count": null,
      "metadata": {
        "id": "aqwO-CXHb5w3"
      },
      "outputs": [],
      "source": [
        "import pandas as pd\n",
        "df = pd.read_csv(NOMBRE_ARCHIVO)"
      ]
    },
    {
      "cell_type": "code",
      "execution_count": null,
      "metadata": {
        "colab": {
          "base_uri": "https://localhost:8080/"
        },
        "id": "nyuzGgVHcoOU",
        "outputId": "7734a3f7-6f2d-4975-89d4-eac1c4c76bb3"
      },
      "outputs": [
        {
          "output_type": "execute_result",
          "data": {
            "text/plain": [
              "Index(['source', 'subject', 'body', 'contains_html', 'has_attachment', 'urls',\n",
              "       'label'],\n",
              "      dtype='object')"
            ]
          },
          "metadata": {},
          "execution_count": 7
        }
      ],
      "source": [
        "df.columns"
      ]
    },
    {
      "cell_type": "code",
      "execution_count": null,
      "metadata": {
        "id": "OcXXKZWKaGp9"
      },
      "outputs": [],
      "source": [
        "def extract_body_features(df):\n",
        "    # Feature 3: body_noWords (Total number of words)\n",
        "    df['body_noWords'] = df['body'].apply(lambda x: len(str(x).split()))\n",
        "\n",
        "    # Feature 4: body_noCharacters (Total number of characters)\n",
        "    df['body_noCharacters'] = df['body'].apply(lambda x: len(str(x)))\n",
        "\n",
        "    # Feature 5: body_noDistinctWords (Total number of distinct words)\n",
        "    df['body_noDistinctWords'] = df['body'].apply(lambda x: len(set(str(x).split())))\n",
        "\n",
        "    # Feature 6: body_richness (Ratio of words to characters)\n",
        "    df['body_richness'] = df['body_noWords'] / df['body_noCharacters']\n",
        "\n",
        "    # Feature 7: body_noFunctionWords (Count of specific function words)\n",
        "    function_words = [\n",
        "        'account', 'access', 'bank', 'credit', 'click', 'identity', 'inconvenience',\n",
        "        'information', 'limited', 'log', 'minutes', 'password', 'recently', 'risk',\n",
        "        'social', 'security', 'service', 'suspended',\n",
        "    ]\n",
        "    df['body_noFunctionWords'] = df['body'].apply(lambda x: sum(1 for word in str(x).split() if word.lower() in function_words))\n",
        "\n",
        "    return df\n",
        "df = extract_body_features(df)"
      ]
    },
    {
      "cell_type": "code",
      "execution_count": null,
      "metadata": {
        "colab": {
          "base_uri": "https://localhost:8080/",
          "height": 179,
          "referenced_widgets": [
            "62aa2ca13f89459191028d376cfbe2d5",
            "9595431dc52e4dcfa5174dec484b0898",
            "e2ac24768fca46b09f66d7cd7ea13692",
            "d2a19d20b89b410abed3c93cb94cc250",
            "9a3a146aa0fc4c618a59811b7545561d",
            "6beeb9a826b64574b7e536a5785409a7",
            "5a61f2bc12a34476bdb7219e8a3356ad",
            "ab6aa9e05f2a4f73b76eded2e9a52b8f",
            "0b0305d67cd342e2b24951847dce05e8",
            "9ac2a33130f34964b7eaf5726db59909",
            "3e108e8a49b24f3997e6a36ca36248d1"
          ]
        },
        "id": "PT8_4V2rct_H",
        "outputId": "e841c521-0902-48ea-f298-99f1dd9f81d8"
      },
      "outputs": [
        {
          "output_type": "stream",
          "name": "stderr",
          "text": [
            "/usr/local/lib/python3.11/dist-packages/huggingface_hub/utils/_auth.py:94: UserWarning: \n",
            "The secret `HF_TOKEN` does not exist in your Colab secrets.\n",
            "To authenticate with the Hugging Face Hub, create a token in your settings tab (https://huggingface.co/settings/tokens), set it as secret in your Google Colab and restart your session.\n",
            "You will be able to reuse this secret in all of your notebooks.\n",
            "Please note that authentication is recommended but still optional to access public models or datasets.\n",
            "  warnings.warn(\n"
          ]
        },
        {
          "output_type": "display_data",
          "data": {
            "text/plain": [
              "Batches:   0%|          | 0/313 [00:00<?, ?it/s]"
            ],
            "application/vnd.jupyter.widget-view+json": {
              "version_major": 2,
              "version_minor": 0,
              "model_id": "62aa2ca13f89459191028d376cfbe2d5"
            }
          },
          "metadata": {}
        }
      ],
      "source": [
        "#Usamos el model MiniLM-L6-v2 para generar la feature del body_text\n",
        "from sentence_transformers import SentenceTransformer\n",
        "model = SentenceTransformer('sentence-transformers/all-MiniLM-L6-v2')\n",
        "df =df.dropna(subset=['body'])\n",
        "emails=df['body'].tolist()\n",
        "embeddings = model.encode(emails, show_progress_bar=True)\n",
        "df[\"body_text\"]=embeddings.tolist()"
      ]
    },
    {
      "cell_type": "markdown",
      "metadata": {
        "id": "60ZiDdtTiUmR"
      },
      "source": [
        "Para sacar los tópicos de los correos podemos hacerlo de dos formas:\n",
        "1. BERTopic: usa embeddings contextuales para agrupar documentos, y luego re-pondera con TF-IDF para extraer términos.\n",
        "2. LDA: modelo generativo de tópicos sobre Bag-of-Words, que descubre distribuciones de palabras."
      ]
    },
    {
      "cell_type": "code",
      "execution_count": null,
      "metadata": {
        "colab": {
          "base_uri": "https://localhost:8080/",
          "height": 1000
        },
        "id": "2WzQmz1qjsGS",
        "outputId": "5edc1263-b585-401f-b308-db89f0167a8b"
      },
      "outputs": [
        {
          "output_type": "stream",
          "name": "stdout",
          "text": [
            "Collecting gensim\n",
            "  Using cached gensim-4.3.3-cp311-cp311-manylinux_2_17_x86_64.manylinux2014_x86_64.whl.metadata (8.1 kB)\n",
            "Collecting pyLDAvis\n",
            "  Using cached pyLDAvis-3.4.1-py3-none-any.whl.metadata (4.2 kB)\n",
            "Collecting numpy<2.0,>=1.18.5 (from gensim)\n",
            "  Using cached numpy-1.26.4-cp311-cp311-manylinux_2_17_x86_64.manylinux2014_x86_64.whl.metadata (61 kB)\n",
            "Collecting scipy<1.14.0,>=1.7.0 (from gensim)\n",
            "  Using cached scipy-1.13.1-cp311-cp311-manylinux_2_17_x86_64.manylinux2014_x86_64.whl.metadata (60 kB)\n",
            "Collecting smart-open>=1.8.1 (from gensim)\n",
            "  Using cached smart_open-7.1.0-py3-none-any.whl.metadata (24 kB)\n",
            "Collecting pandas>=2.0.0 (from pyLDAvis)\n",
            "  Using cached pandas-2.2.3-cp311-cp311-manylinux_2_17_x86_64.manylinux2014_x86_64.whl.metadata (89 kB)\n",
            "Collecting joblib>=1.2.0 (from pyLDAvis)\n",
            "  Using cached joblib-1.5.0-py3-none-any.whl.metadata (5.6 kB)\n",
            "Collecting jinja2 (from pyLDAvis)\n",
            "  Using cached jinja2-3.1.6-py3-none-any.whl.metadata (2.9 kB)\n",
            "Collecting numexpr (from pyLDAvis)\n",
            "  Using cached numexpr-2.10.2-cp311-cp311-manylinux_2_27_x86_64.manylinux_2_28_x86_64.whl.metadata (8.1 kB)\n",
            "Collecting funcy (from pyLDAvis)\n",
            "  Using cached funcy-2.0-py2.py3-none-any.whl.metadata (5.9 kB)\n",
            "Collecting scikit-learn>=1.0.0 (from pyLDAvis)\n",
            "  Using cached scikit_learn-1.6.1-cp311-cp311-manylinux_2_17_x86_64.manylinux2014_x86_64.whl.metadata (18 kB)\n",
            "Collecting setuptools (from pyLDAvis)\n",
            "  Using cached setuptools-80.8.0-py3-none-any.whl.metadata (6.6 kB)\n",
            "Collecting python-dateutil>=2.8.2 (from pandas>=2.0.0->pyLDAvis)\n",
            "  Using cached python_dateutil-2.9.0.post0-py2.py3-none-any.whl.metadata (8.4 kB)\n",
            "Collecting pytz>=2020.1 (from pandas>=2.0.0->pyLDAvis)\n",
            "  Using cached pytz-2025.2-py2.py3-none-any.whl.metadata (22 kB)\n",
            "Collecting tzdata>=2022.7 (from pandas>=2.0.0->pyLDAvis)\n",
            "  Using cached tzdata-2025.2-py2.py3-none-any.whl.metadata (1.4 kB)\n",
            "Collecting threadpoolctl>=3.1.0 (from scikit-learn>=1.0.0->pyLDAvis)\n",
            "  Using cached threadpoolctl-3.6.0-py3-none-any.whl.metadata (13 kB)\n",
            "Collecting wrapt (from smart-open>=1.8.1->gensim)\n",
            "  Using cached wrapt-1.17.2-cp311-cp311-manylinux_2_5_x86_64.manylinux1_x86_64.manylinux_2_17_x86_64.manylinux2014_x86_64.whl.metadata (6.4 kB)\n",
            "Collecting MarkupSafe>=2.0 (from jinja2->pyLDAvis)\n",
            "  Using cached MarkupSafe-3.0.2-cp311-cp311-manylinux_2_17_x86_64.manylinux2014_x86_64.whl.metadata (4.0 kB)\n",
            "Collecting six>=1.5 (from python-dateutil>=2.8.2->pandas>=2.0.0->pyLDAvis)\n",
            "  Using cached six-1.17.0-py2.py3-none-any.whl.metadata (1.7 kB)\n",
            "Using cached gensim-4.3.3-cp311-cp311-manylinux_2_17_x86_64.manylinux2014_x86_64.whl (26.7 MB)\n",
            "Using cached pyLDAvis-3.4.1-py3-none-any.whl (2.6 MB)\n",
            "Using cached joblib-1.5.0-py3-none-any.whl (307 kB)\n",
            "Using cached numpy-1.26.4-cp311-cp311-manylinux_2_17_x86_64.manylinux2014_x86_64.whl (18.3 MB)\n",
            "Using cached pandas-2.2.3-cp311-cp311-manylinux_2_17_x86_64.manylinux2014_x86_64.whl (13.1 MB)\n",
            "Using cached scikit_learn-1.6.1-cp311-cp311-manylinux_2_17_x86_64.manylinux2014_x86_64.whl (13.5 MB)\n",
            "Using cached scipy-1.13.1-cp311-cp311-manylinux_2_17_x86_64.manylinux2014_x86_64.whl (38.6 MB)\n",
            "Using cached smart_open-7.1.0-py3-none-any.whl (61 kB)\n",
            "Using cached funcy-2.0-py2.py3-none-any.whl (30 kB)\n",
            "Using cached jinja2-3.1.6-py3-none-any.whl (134 kB)\n",
            "Using cached numexpr-2.10.2-cp311-cp311-manylinux_2_27_x86_64.manylinux_2_28_x86_64.whl (398 kB)\n",
            "Using cached setuptools-80.8.0-py3-none-any.whl (1.2 MB)\n",
            "Using cached MarkupSafe-3.0.2-cp311-cp311-manylinux_2_17_x86_64.manylinux2014_x86_64.whl (23 kB)\n",
            "Using cached python_dateutil-2.9.0.post0-py2.py3-none-any.whl (229 kB)\n",
            "Using cached pytz-2025.2-py2.py3-none-any.whl (509 kB)\n",
            "Using cached threadpoolctl-3.6.0-py3-none-any.whl (18 kB)\n",
            "Using cached tzdata-2025.2-py2.py3-none-any.whl (347 kB)\n",
            "Using cached wrapt-1.17.2-cp311-cp311-manylinux_2_5_x86_64.manylinux1_x86_64.manylinux_2_17_x86_64.manylinux2014_x86_64.whl (83 kB)\n",
            "Using cached six-1.17.0-py2.py3-none-any.whl (11 kB)\n",
            "Installing collected packages: pytz, funcy, wrapt, tzdata, threadpoolctl, six, setuptools, numpy, MarkupSafe, joblib, smart-open, scipy, python-dateutil, numexpr, jinja2, scikit-learn, pandas, gensim, pyLDAvis\n",
            "  Attempting uninstall: pytz\n",
            "    Found existing installation: pytz 2025.2\n",
            "    Uninstalling pytz-2025.2:\n",
            "      Successfully uninstalled pytz-2025.2\n",
            "  Attempting uninstall: funcy\n",
            "    Found existing installation: funcy 2.0\n",
            "    Uninstalling funcy-2.0:\n",
            "      Successfully uninstalled funcy-2.0\n",
            "  Attempting uninstall: wrapt\n",
            "    Found existing installation: wrapt 1.17.2\n",
            "    Uninstalling wrapt-1.17.2:\n",
            "      Successfully uninstalled wrapt-1.17.2\n",
            "  Attempting uninstall: tzdata\n",
            "    Found existing installation: tzdata 2025.2\n",
            "    Uninstalling tzdata-2025.2:\n",
            "      Successfully uninstalled tzdata-2025.2\n",
            "  Attempting uninstall: threadpoolctl\n",
            "    Found existing installation: threadpoolctl 3.6.0\n",
            "    Uninstalling threadpoolctl-3.6.0:\n",
            "      Successfully uninstalled threadpoolctl-3.6.0\n",
            "  Attempting uninstall: six\n",
            "    Found existing installation: six 1.17.0\n",
            "    Uninstalling six-1.17.0:\n",
            "      Successfully uninstalled six-1.17.0\n",
            "  Attempting uninstall: setuptools\n",
            "    Found existing installation: setuptools 80.8.0\n",
            "    Uninstalling setuptools-80.8.0:\n",
            "      Successfully uninstalled setuptools-80.8.0\n",
            "  Attempting uninstall: numpy\n",
            "    Found existing installation: numpy 1.26.4\n",
            "    Uninstalling numpy-1.26.4:\n",
            "      Successfully uninstalled numpy-1.26.4\n",
            "  Attempting uninstall: MarkupSafe\n",
            "    Found existing installation: MarkupSafe 3.0.2\n",
            "    Uninstalling MarkupSafe-3.0.2:\n",
            "      Successfully uninstalled MarkupSafe-3.0.2\n",
            "  Attempting uninstall: joblib\n",
            "    Found existing installation: joblib 1.5.0\n",
            "    Uninstalling joblib-1.5.0:\n",
            "      Successfully uninstalled joblib-1.5.0\n",
            "  Attempting uninstall: smart-open\n",
            "    Found existing installation: smart-open 7.1.0\n",
            "    Uninstalling smart-open-7.1.0:\n",
            "      Successfully uninstalled smart-open-7.1.0\n",
            "  Attempting uninstall: scipy\n",
            "    Found existing installation: scipy 1.13.1\n",
            "    Uninstalling scipy-1.13.1:\n",
            "      Successfully uninstalled scipy-1.13.1\n",
            "  Attempting uninstall: python-dateutil\n",
            "    Found existing installation: python-dateutil 2.9.0.post0\n",
            "    Uninstalling python-dateutil-2.9.0.post0:\n",
            "      Successfully uninstalled python-dateutil-2.9.0.post0\n",
            "  Attempting uninstall: numexpr\n",
            "    Found existing installation: numexpr 2.10.2\n",
            "    Uninstalling numexpr-2.10.2:\n",
            "      Successfully uninstalled numexpr-2.10.2\n",
            "  Attempting uninstall: jinja2\n",
            "    Found existing installation: Jinja2 3.1.6\n",
            "    Uninstalling Jinja2-3.1.6:\n",
            "      Successfully uninstalled Jinja2-3.1.6\n",
            "  Attempting uninstall: scikit-learn\n",
            "    Found existing installation: scikit-learn 1.6.1\n",
            "    Uninstalling scikit-learn-1.6.1:\n",
            "      Successfully uninstalled scikit-learn-1.6.1\n",
            "  Attempting uninstall: pandas\n",
            "    Found existing installation: pandas 2.2.3\n",
            "    Uninstalling pandas-2.2.3:\n",
            "      Successfully uninstalled pandas-2.2.3\n",
            "  Attempting uninstall: gensim\n",
            "    Found existing installation: gensim 4.3.3\n",
            "    Uninstalling gensim-4.3.3:\n",
            "      Successfully uninstalled gensim-4.3.3\n",
            "  Attempting uninstall: pyLDAvis\n",
            "    Found existing installation: pyLDAvis 3.4.1\n",
            "    Uninstalling pyLDAvis-3.4.1:\n",
            "      Successfully uninstalled pyLDAvis-3.4.1\n",
            "\u001b[31mERROR: pip's dependency resolver does not currently take into account all the packages that are installed. This behaviour is the source of the following dependency conflicts.\n",
            "ipython 7.34.0 requires jedi>=0.16, which is not installed.\n",
            "google-colab 1.0.0 requires pandas==2.2.2, but you have pandas 2.2.3 which is incompatible.\n",
            "tsfresh 0.21.0 requires scipy>=1.14.0; python_version >= \"3.10\", but you have scipy 1.13.1 which is incompatible.\n",
            "thinc 8.3.6 requires numpy<3.0.0,>=2.0.0, but you have numpy 1.26.4 which is incompatible.\n",
            "torch 2.6.0+cu124 requires nvidia-cublas-cu12==12.4.5.8; platform_system == \"Linux\" and platform_machine == \"x86_64\", but you have nvidia-cublas-cu12 12.5.3.2 which is incompatible.\n",
            "torch 2.6.0+cu124 requires nvidia-cuda-cupti-cu12==12.4.127; platform_system == \"Linux\" and platform_machine == \"x86_64\", but you have nvidia-cuda-cupti-cu12 12.5.82 which is incompatible.\n",
            "torch 2.6.0+cu124 requires nvidia-cuda-nvrtc-cu12==12.4.127; platform_system == \"Linux\" and platform_machine == \"x86_64\", but you have nvidia-cuda-nvrtc-cu12 12.5.82 which is incompatible.\n",
            "torch 2.6.0+cu124 requires nvidia-cuda-runtime-cu12==12.4.127; platform_system == \"Linux\" and platform_machine == \"x86_64\", but you have nvidia-cuda-runtime-cu12 12.5.82 which is incompatible.\n",
            "torch 2.6.0+cu124 requires nvidia-cudnn-cu12==9.1.0.70; platform_system == \"Linux\" and platform_machine == \"x86_64\", but you have nvidia-cudnn-cu12 9.3.0.75 which is incompatible.\n",
            "torch 2.6.0+cu124 requires nvidia-cufft-cu12==11.2.1.3; platform_system == \"Linux\" and platform_machine == \"x86_64\", but you have nvidia-cufft-cu12 11.2.3.61 which is incompatible.\n",
            "torch 2.6.0+cu124 requires nvidia-curand-cu12==10.3.5.147; platform_system == \"Linux\" and platform_machine == \"x86_64\", but you have nvidia-curand-cu12 10.3.6.82 which is incompatible.\n",
            "torch 2.6.0+cu124 requires nvidia-cusolver-cu12==11.6.1.9; platform_system == \"Linux\" and platform_machine == \"x86_64\", but you have nvidia-cusolver-cu12 11.6.3.83 which is incompatible.\n",
            "torch 2.6.0+cu124 requires nvidia-cusparse-cu12==12.3.1.170; platform_system == \"Linux\" and platform_machine == \"x86_64\", but you have nvidia-cusparse-cu12 12.5.1.3 which is incompatible.\n",
            "torch 2.6.0+cu124 requires nvidia-nvjitlink-cu12==12.4.127; platform_system == \"Linux\" and platform_machine == \"x86_64\", but you have nvidia-nvjitlink-cu12 12.5.82 which is incompatible.\u001b[0m\u001b[31m\n",
            "\u001b[0mSuccessfully installed MarkupSafe-3.0.2 funcy-2.0 gensim-4.3.3 jinja2-3.1.6 joblib-1.5.0 numexpr-2.10.2 numpy-1.26.4 pandas-2.2.3 pyLDAvis-3.4.1 python-dateutil-2.9.0.post0 pytz-2025.2 scikit-learn-1.6.1 scipy-1.13.1 setuptools-80.8.0 six-1.17.0 smart-open-7.1.0 threadpoolctl-3.6.0 tzdata-2025.2 wrapt-1.17.2\n"
          ]
        },
        {
          "output_type": "display_data",
          "data": {
            "application/vnd.colab-display-data+json": {
              "pip_warning": {
                "packages": [
                  "_distutils_hack",
                  "dateutil",
                  "pkg_resources",
                  "six"
                ]
              },
              "id": "0625b4fdce7342438be153db5da34e2c"
            }
          },
          "metadata": {}
        }
      ],
      "source": [
        "%pip install --upgrade --force-reinstall gensim pyLDAvis"
      ]
    },
    {
      "cell_type": "code",
      "execution_count": null,
      "metadata": {
        "id": "mjYUg42fiACM"
      },
      "outputs": [],
      "source": [
        "import gensim\n",
        "import gensim.corpora as corpora\n",
        "from gensim.models import LdaModel\n",
        "from gensim.models.phrases import Phrases, Phraser\n",
        "from gensim.models.coherencemodel import CoherenceModel\n",
        "import pyLDAvis\n",
        "import pyLDAvis.gensim_models as gensimvis"
      ]
    },
    {
      "cell_type": "code",
      "execution_count": null,
      "metadata": {
        "id": "McVS0uVoj07p",
        "colab": {
          "base_uri": "https://localhost:8080/"
        },
        "outputId": "9021fc3e-61f7-4944-a050-84b18c32f22d"
      },
      "outputs": [
        {
          "output_type": "stream",
          "name": "stderr",
          "text": [
            "/usr/local/lib/python3.11/dist-packages/spacy/cli/_util.py:23: DeprecationWarning: Importing 'parser.split_arg_string' is deprecated, it will only be available in 'shell_completion' in Click 9.0.\n",
            "  from click.parser import split_arg_string\n",
            "/usr/local/lib/python3.11/dist-packages/weasel/util/config.py:8: DeprecationWarning: Importing 'parser.split_arg_string' is deprecated, it will only be available in 'shell_completion' in Click 9.0.\n",
            "  from click.parser import split_arg_string\n"
          ]
        }
      ],
      "source": [
        "#Lematizamos el body del correo para aplicar el modelo LDA\n",
        "import spacy\n",
        "from nltk.corpus import stopwords\n",
        "import nltk\n",
        "import matplotlib.pyplot as plt\n",
        "import numpy as np"
      ]
    },
    {
      "cell_type": "code",
      "execution_count": null,
      "metadata": {
        "colab": {
          "base_uri": "https://localhost:8080/"
        },
        "id": "2T1z5rqHkVAk",
        "outputId": "f71361bb-e5c8-4d5f-a630-c47c521c81fc"
      },
      "outputs": [
        {
          "output_type": "stream",
          "name": "stderr",
          "text": [
            "[nltk_data] Downloading package stopwords to /root/nltk_data...\n",
            "[nltk_data]   Unzipping corpora/stopwords.zip.\n"
          ]
        }
      ],
      "source": [
        "nltk.download('stopwords')\n",
        "stop_words = set(stopwords.words('english'))\n",
        "nlp = spacy.load('en_core_web_sm')"
      ]
    },
    {
      "cell_type": "markdown",
      "metadata": {
        "id": "6i-PzAl_rFeL"
      },
      "source": [
        "El Coherence Score es una medida de qué tan “coherentes” aparecen los tópicos para la interpretación, basándose en la co-ocurrencia de las palabras más representativas dentro de los documentos. Nos dice cuanto de interpretables son los tópicos. Obtenemos un valor moderado."
      ]
    },
    {
      "cell_type": "code",
      "execution_count": null,
      "metadata": {
        "colab": {
          "base_uri": "https://localhost:8080/",
          "height": 488
        },
        "id": "-MkH7RQEkeP6",
        "outputId": "6b0aec8a-57dd-4e92-db95-837c01412e10"
      },
      "outputs": [
        {
          "output_type": "display_data",
          "data": {
            "text/plain": [
              "<Figure size 800x500 with 1 Axes>"
            ],
            "image/png": "[encoded data removed]"
          },
          "metadata": {}
        }
      ],
      "source": [
        "#MODELO LDA:\n",
        "texts = df['body'].astype(str).tolist()\n",
        "\n",
        "# 2) Prepara stopwords y spaCy para lematizar (igual que en el notebook)\n",
        "nlp = spacy.load('en_core_web_sm', disable=['parser','ner'])\n",
        "stop_words = set(stopwords.words('english'))\n",
        "\n",
        "def lemmatize_tokens(doc):\n",
        "    parsed = nlp(doc)\n",
        "    return [\n",
        "        token.lemma_.lower()\n",
        "        for token in parsed\n",
        "        if token.lemma_ not in stop_words\n",
        "           and token.is_alpha\n",
        "           and len(token.lemma_) > 3\n",
        "    ]\n",
        "\n",
        "data_lemm = [lemmatize_tokens(doc) for doc in texts]\n",
        "\n",
        "# 3) Detecta bigramas y aplícalos\n",
        "bigram = Phrases(data_lemm, min_count=5, threshold=100)\n",
        "bigram_mod = Phraser(bigram)\n",
        "data_words = [bigram_mod[doc] for doc in data_lemm]\n",
        "\n",
        "# 4) Crea el diccionario y el corpus de Gensim (Bag-of-Words)\n",
        "id2word = corpora.Dictionary(data_words)\n",
        "id2word.filter_extremes(no_below=15, no_above=0.5)\n",
        "corpus = [id2word.doc2bow(text) for text in data_words]\n",
        "\n",
        "# --- Promedio de coherencia sobre varias corridas ---\n",
        "k_values = list(range(10, 16))\n",
        "seeds    = [0, 7, 42, 99, 123]   # distintas semillas\n",
        "results  = {k: [] for k in k_values}\n",
        "\n",
        "for k in k_values:\n",
        "    for seed in seeds:\n",
        "        lda = LdaModel(\n",
        "            corpus=corpus,\n",
        "            id2word=id2word,\n",
        "            num_topics=k,\n",
        "            random_state=seed,\n",
        "            update_every=1,\n",
        "            chunksize=100,\n",
        "            passes=10,\n",
        "            alpha='auto'\n",
        "        )\n",
        "        cm = CoherenceModel(\n",
        "            model=lda,\n",
        "            texts=data_words,\n",
        "            dictionary=id2word,\n",
        "            coherence='c_v'\n",
        "        )\n",
        "        results[k].append(cm.get_coherence())\n",
        "\n",
        "# --- Calcular media y desviación ---\n",
        "means = [np.mean(results[k]) for k in k_values]\n",
        "stds  = [np.std(results[k])  for k in k_values]\n",
        "\n",
        "# --- Graficar con barras de error ---\n",
        "plt.figure(figsize=(8,5))\n",
        "plt.errorbar(k_values, means, yerr=stds, fmt='-o', capsize=5)\n",
        "plt.xticks(k_values)\n",
        "plt.xlabel(\"Número de tópicos (k)\")\n",
        "plt.ylabel(\"Coherence Score (c_v)\")\n",
        "plt.title(\"Coherence vs k (media ± 1σ sobre distintas semillas)\")\n",
        "plt.grid(True)\n",
        "plt.show()"
      ]
    },
    {
      "cell_type": "markdown",
      "metadata": {
        "id": "UqZjRwmWyMzI"
      },
      "source": [
        "En el k=10 obtenemos el óptimo para el número de tópicos, ya que es el que alcanza el mayor valor medio tiene y la desviación que puede producir al tomar diferentes semillas es baja."
      ]
    },
    {
      "cell_type": "code",
      "execution_count": null,
      "metadata": {
        "colab": {
          "base_uri": "https://localhost:8080/",
          "height": 1000
        },
        "id": "yXebh2Z0y44m",
        "outputId": "3cc24cf6-85f6-4b37-9f48-99a3a0a7fa3b"
      },
      "outputs": [
        {
          "output_type": "stream",
          "name": "stdout",
          "text": [
            "Tópico  0: 0.022*\"claim\" + 0.018*\"security\" + 0.015*\"thank\" + 0.015*\"bank\" + 0.014*\"make\" + 0.014*\"well\" + 0.013*\"know\" + 0.012*\"time\" + 0.012*\"need\" + 0.011*\"want\"\n",
            "Tópico  1: 0.064*\"verification\" + 0.034*\"wait\" + 0.027*\"action\" + 0.025*\"collection\" + 0.023*\"care\" + 0.023*\"month\" + 0.021*\"group\" + 0.020*\"name\" + 0.018*\"cashback\" + 0.017*\"storage\"\n",
            "Tópico  2: 0.044*\"free\" + 0.039*\"offer\" + 0.031*\"money\" + 0.023*\"good\" + 0.023*\"detail\" + 0.021*\"opportunity\" + 0.021*\"today\" + 0.019*\"year\" + 0.019*\"investment\" + 0.018*\"every\"\n",
            "Tópico  3: 0.160*\"user\" + 0.140*\"microsoft\" + 0.053*\"device\" + 0.038*\"change\" + 0.036*\"freebitcoin\" + 0.036*\"window_browser\" + 0.031*\"well\" + 0.017*\"network\" + 0.015*\"server\" + 0.012*\"active\"\n",
            "Tópico  4: 0.080*\"company\" + 0.059*\"ledger\" + 0.044*\"million\" + 0.043*\"immediately\" + 0.033*\"hold\" + 0.029*\"term\" + 0.024*\"receive\" + 0.020*\"name\" + 0.017*\"enable\" + 0.017*\"within_hour\"\n",
            "Tópico  5: 0.089*\"wallet\" + 0.078*\"customer\" + 0.051*\"verify\" + 0.047*\"service\" + 0.047*\"click\" + 0.036*\"order\" + 0.034*\"secure\" + 0.029*\"trust\" + 0.019*\"protect\" + 0.017*\"product\"\n",
            "Tópico  6: 0.060*\"team\" + 0.056*\"information\" + 0.053*\"please\" + 0.053*\"update\" + 0.049*\"dear\" + 0.043*\"contact\" + 0.027*\"payment\" + 0.018*\"access\" + 0.018*\"exclusive\" + 0.016*\"sign\"\n",
            "Tópico  7: 0.364*\"account\" + 0.034*\"unusual_signin\" + 0.033*\"activity_detect\" + 0.033*\"security_notification\" + 0.033*\"signin\" + 0.033*\"something_unusual\" + 0.033*\"date_platform\" + 0.033*\"activity_future\" + 0.033*\"trust_similar\" + 0.033*\"russiamoscow_address\"\n",
            "Tópico  8: 0.054*\"token\" + 0.045*\"airdrop\" + 0.042*\"community\" + 0.028*\"crypto\" + 0.025*\"partner\" + 0.024*\"take\" + 0.022*\"ripple\" + 0.022*\"result\" + 0.022*\"balance\" + 0.020*\"site\"\n",
            "Tópico  9: 0.059*\"email\" + 0.036*\"receive\" + 0.029*\"please\" + 0.021*\"unsubscribe\" + 0.020*\"click\" + 0.017*\"report\" + 0.017*\"message\" + 0.016*\"reward\" + 0.016*\"mail\" + 0.016*\"fund\"\n"
          ]
        },
        {
          "output_type": "execute_result",
          "data": {
            "text/plain": [
              "<IPython.core.display.HTML object>"
            ],
            "text/html": [
              "\n",
              "<link rel=\"stylesheet\" type=\"text/css\" href=\"https://cdn.jsdelivr.net/gh/bmabey/pyLDAvis@3.4.0/pyLDAvis/js/ldavis.v1.0.0.css\">\n",
              "\n",
              "\n",
              "<div id=\"ldavis_el35431378285314456963091240278\" style=\"background-color:white;\"></div>\n",
              "<script type=\"text/javascript\">\n",
              "\n",
              "var ldavis_el35431378285314456963091240278_data = {\"mdsDat\": {\"x\": [-0.01224033997930748, 0.221470292379432, 0.23196221683423168, -0.09123798431327962, 0.09736963864038836, -0.10563295649208007, -0.07783295812490325, 0.16005147326048785, -0.1617660820888645, -0.2621433001161052], \"y\": [0.20539787427047265, 0.027114247958247264, 0.029683079679031547, 0.21409213529620588, -0.17937564774697987, 0.2126820699743763, -0.2175920662350334, -0.08693452787932648, -0.07660821225914255, -0.12845895305785163], \"topics\": [1, 2, 3, 4, 5, 6, 7, 8, 9, 10], \"cluster\": [1, 1, 1, 1, 1, 1, 1, 1, 1, 1], \"Freq\": [30.695330476563598, 25.108757986856823, 9.276811928273274, 8.938119234496698, 6.765272976600954, 5.695965408488993, 4.165655624960267, 3.8002805473617682, 3.023572519515437, 2.5302332968821903]}, \"tinfo\": {\"Term\": [\"account\", \"user\", \"microsoft\", \"email\", \"please\", \"receive\", \"click\", \"wallet\", \"team\", \"customer\", \"information\", \"update\", \"dear\", \"verify\", \"service\", \"device\", \"free\", \"contact\", \"offer\", \"well\", \"company\", \"change\", \"verification\", \"claim\", \"unsubscribe\", \"money\", \"name\", \"token\", \"freebitcoin\", \"window_browser\", \"email\", \"unsubscribe\", \"message\", \"reward\", \"mail\", \"fund\", \"address\", \"reply\", \"link\", \"list\", \"follow\", \"confirm\", \"complete\", \"right_reserve\", \"long_wish\", \"upgrade\", \"register\", \"request\", \"note\", \"code\", \"process\", \"button\", \"page\", \"kindly\", \"notification\", \"department\", \"assistance\", \"jose_monkey\", \"open\", \"document\", \"report\", \"view\", \"help\", \"receive\", \"send\", \"please\", \"click\", \"support\", \"thank\", \"name\", \"detail\", \"claim\", \"security\", \"bank\", \"transaction\", \"like\", \"transfer\", \"would\", \"late\", \"country\", \"next\", \"date\", \"attention\", \"join\", \"soon\", \"deposit\", \"chance\", \"first\", \"language\", \"could\", \"earn\", \"datum\", \"hope\", \"bonus\", \"subject\", \"communication\", \"able\", \"interested\", \"since\", \"hear\", \"miss\", \"base\", \"know\", \"issue\", \"give\", \"business\", \"also\", \"forward\", \"want\", \"make\", \"keep\", \"time\", \"need\", \"start\", \"well\", \"thank\", \"work\", \"regard\", \"come\", \"free\", \"offer\", \"money\", \"opportunity\", \"investment\", \"total\", \"world\", \"sure\", \"apple\", \"special\", \"feature\", \"live\", \"benefit\", \"enjoy\", \"participate\", \"privacy\", \"digital\", \"premium\", \"newsletter\", \"possible\", \"course\", \"become\", \"facebook\", \"effort\", \"quick\", \"million_dollar\", \"watch\", \"head\", \"referral\", \"extra\", \"available\", \"every\", \"check\", \"full\", \"good\", \"today\", \"year\", \"experience\", \"reach\", \"detail\", \"matter\", \"ready\", \"program\", \"take\", \"part\", \"make\", \"http\", \"team\", \"update\", \"payment\", \"exclusive\", \"asset\", \"expire\", \"platform\", \"inform\", \"office\", \"review\", \"rock\", \"recent\", \"website\", \"suspend\", \"personal\", \"credit\", \"family\", \"password\", \"member\", \"united_states\", \"answer\", \"software\", \"cash\", \"immediate\", \"invoice\", \"linguistic\", \"protection\", \"manager\", \"confirmation\", \"loss\", \"information\", \"sign\", \"contact\", \"dear\", \"private\", \"sincerely\", \"access\", \"please\", \"visit\", \"online\", \"question\", \"user\", \"microsoft\", \"device\", \"window_browser\", \"freebitcoin\", \"network\", \"server\", \"active\", \"download\", \"linux\", \"case\", \"accept\", \"future_promotional\", \"last_active\", \"capital\", \"cancel\", \"outlook\", \"window\", \"unlock\", \"attachment\", \"foundation\", \"exciting\", \"finance\", \"validate\", \"incoming\", \"virus\", \"potential\", \"merge\", \"vegas\", \"donation\", \"change\", \"well\", \"http\", \"wallet\", \"customer\", \"order\", \"secure\", \"trust\", \"protect\", \"risk\", \"manage\", \"purchase\", \"deal\", \"discount\", \"ethereum\", \"fast\", \"agreement\", \"optout\", \"safety\", \"price\", \"charge\", \"sale\", \"health\", \"banking\", \"fraud\", \"europe\", \"together\", \"breach\", \"final_notice\", \"cost\", \"verification_easily\", \"shop\", \"sell\", \"delivery\", \"verify\", \"service\", \"product\", \"ensure\", \"click\", \"online\", \"choose\", \"need\", \"value\", \"verification\", \"wait\", \"action\", \"collection\", \"care\", \"month\", \"group\", \"storage\", \"cashback\", \"build\", \"short\", \"word\", \"express\", \"remain\", \"unique\", \"lucky\", \"serve\", \"stand\", \"highly\", \"chat\", \"across\", \"unusual\", \"body\", \"excited\", \"environment\", \"march\", \"domain\", \"spring\", \"aware\", \"partnership\", \"rodrigofp\", \"name\", \"token\", \"community\", \"airdrop\", \"crypto\", \"partner\", \"result\", \"balance\", \"ripple\", \"monkey\", \"happy\", \"token_allocation\", \"life\", \"increase\", \"proposal\", \"journey\", \"surprise\", \"september\", \"cryptocurrency\", \"official\", \"html\", \"ecosystem\", \"apply\", \"winner\", \"study\", \"bitcoin\", \"moment\", \"october\", \"introduce\", \"tokens\", \"around\", \"binance\", \"long\", \"site\", \"take\", \"activity\", \"time\", \"lose\", \"show\", \"company\", \"ledger\", \"million\", \"immediately\", \"hold\", \"term\", \"enable\", \"within_hour\", \"alert\", \"withdraw\", \"boost\", \"withdrawal\", \"nigeria\", \"presently\", \"ledger_live\", \"expect\", \"consignment\", \"africa\", \"donate\", \"million_five\", \"hundred_thousand\", \"campaign\", \"officer\", \"swift\", \"late_father\", \"percentage\", \"late_husband\", \"condition\", \"victim\", \"foreign_partner\", \"beneficiary\", \"financial\", \"name\", \"trade\", \"receive\", \"contact\", \"news\", \"account\", \"unusual_signin\", \"activity_detect\", \"security_notification\", \"something_unusual\", \"signin\", \"activity_future\", \"date_platform\", \"trust_similar\", \"detail_countryregion\", \"firefox_user\", \"recent_signin\", \"russiamoscow\", \"russiamoscow_address\", \"usaa\", \"paypal\", \"soon_possible\", \"billing\", \"approve\", \"woman\", \"pill\", \"unable_validate\", \"meantime_want\", \"approach\", \"trouble_current\", \"temporarily\", \"enhance\", \"activation\", \"professional\", \"auto_generate\", \"foreigner\", \"safe\", \"click\"], \"Freq\": [4548.0, 5351.0, 4665.0, 8953.0, 6745.0, 5870.0, 4708.0, 2506.0, 2663.0, 2207.0, 2494.0, 2343.0, 2691.0, 1965.0, 2021.0, 1782.0, 2003.0, 2211.0, 1808.0, 2920.0, 1201.0, 1966.0, 1310.0, 2781.0, 3213.0, 1427.0, 1623.0, 1016.0, 1195.0, 1192.0, 8952.768305463349, 3212.8804029001512, 2589.9424861177054, 2438.6226078338527, 2387.436272167088, 2349.928748987496, 2129.2071721163256, 1571.8795094191137, 1302.8508194408541, 1299.346041001749, 1256.3516362208616, 1168.2639963506215, 1044.0138772432585, 1024.7653308756333, 1013.9210684671253, 993.9226172286947, 951.4715512018378, 934.0984727376236, 916.7721133609753, 889.6108214706296, 886.3962377264945, 886.0729444634455, 823.0112801202956, 813.8044441010616, 789.7099568470525, 786.0952262350964, 706.4342418507994, 870.7898041550781, 599.6281267106771, 596.6280132189773, 2615.440945468439, 1089.2867902736114, 1721.9989470995033, 5514.851514492983, 2334.847799292234, 4379.331529278888, 3082.088129508155, 1370.8783275854541, 2013.8238700495085, 911.6521389141421, 906.6971632992252, 2780.977074469031, 2203.9282333771007, 1799.4649294829235, 1350.4936311372567, 1287.2187215296242, 1257.1264242239447, 1231.445959715008, 1222.0421240230291, 1166.5289089509827, 1009.7932724738629, 1004.5425310332091, 906.5387547864941, 864.0542550904665, 850.312940739741, 827.4510060704903, 820.7459138545781, 773.6414705951344, 691.9795562212278, 665.6679474648454, 645.3875676846025, 631.6350540304832, 592.6468152145708, 588.166170203161, 568.5537653691537, 561.1192752234441, 545.2853652607495, 541.3740951430154, 540.3452024399857, 519.9284105261369, 800.8033027555578, 704.924450006897, 1581.9788449312177, 726.8000955087089, 1278.3573015834606, 1224.276789148669, 1102.0075284212933, 863.5448599711524, 1391.6860545005002, 1725.1007467509125, 1050.8492259751324, 1539.0524923064468, 1513.4361062860005, 1028.3633338950942, 1703.481588388166, 1879.7530818833127, 964.3687824518577, 1124.154670437853, 845.4078190383589, 2002.8717751248414, 1807.322947256841, 1426.5253950669126, 984.182823808963, 863.9949286380809, 692.150944766528, 640.7515673626256, 609.5506511231574, 606.8388874397315, 549.8068768569537, 488.69909454398, 461.35285753700924, 449.6259118231729, 423.2752949003783, 377.576802266383, 346.4498963459399, 319.3156871722338, 319.3135969672585, 298.0850486651771, 261.8232556220801, 258.49287658043994, 253.64780277620474, 253.5551725700013, 243.223332034099, 240.44736919785885, 217.77331618359094, 212.14247460898017, 195.32014238079958, 186.53409373865614, 179.4175003417723, 683.2006017475977, 843.8896308954049, 635.7816571326688, 715.536072716236, 1052.2626767748109, 952.9501279224206, 885.5660999271417, 482.56425762684387, 388.504180591282, 1046.2608024884535, 347.53253720868156, 427.92032755702377, 541.6171125055839, 652.6621951708262, 452.22058137073486, 527.5853958770931, 404.0942943292503, 2662.51588586333, 2342.3541725046734, 1170.192005156344, 797.2519252498355, 596.0858957550306, 539.791766226813, 497.81776815341163, 457.35114801211245, 433.8094031315219, 418.61462586546486, 413.73866349959053, 395.48223544565894, 387.2695821260897, 386.8708314254338, 355.4293674486087, 354.0047646052636, 335.82895389820237, 335.45171896664493, 646.4070258423474, 290.56222115582585, 261.2025465512562, 238.0048279270911, 230.8600924420397, 230.48801554108755, 221.49105387059925, 214.5267056072731, 204.26565653988487, 198.2926776489068, 198.24193988968605, 194.94408828995108, 2457.6948060118943, 696.3929866899352, 1913.0960429598892, 2178.555177205933, 409.8855529876868, 481.85956125792944, 802.4282041864883, 2359.6794013600106, 401.1676181680286, 409.9063084096443, 300.39626337880424, 5350.671162692551, 4664.88554963613, 1781.3395143885573, 1192.0383493516676, 1195.054631590441, 579.0616707709947, 497.40096206224706, 408.6094025265316, 392.82590311229757, 359.24686733416587, 294.52552626225804, 278.2958373250173, 271.5466258390693, 269.81114364500286, 252.20974000914842, 249.75008254449202, 244.78516252274895, 238.84898779888277, 238.43959965673903, 238.2093343810439, 238.24820447858255, 220.41076493630598, 216.08520280144808, 207.87774826450237, 206.32025347585198, 198.63489325422526, 188.1455197898677, 172.4905452319609, 172.43025691741116, 170.92407563487524, 1255.8299811518348, 1042.6473278347773, 216.1863366046479, 2505.7598722491803, 2206.2610447888637, 1010.5439817176531, 953.7580576148235, 828.0530733928648, 537.7850950387261, 432.7477147068085, 390.4809254736155, 382.1377869553333, 333.8715063025368, 313.65416154318694, 271.23082534797067, 264.9764900367014, 264.4350580810473, 258.199737843298, 251.5719108675731, 241.69098720937603, 231.29707563112086, 221.47665447957826, 201.55412193447197, 171.8738970271899, 171.65699161209946, 165.34160377138798, 164.38299262699263, 161.14470727244824, 156.6065871126019, 150.92085750185862, 152.753572718043, 144.12042813701987, 144.11513744163278, 388.89452879588646, 1431.8790378770152, 1321.8227257982774, 481.45160396617763, 314.01062869278314, 1320.0203273143236, 399.99527203954597, 275.6584302148177, 438.72879345880244, 257.1394772494109, 1309.5027027385663, 689.5819629082243, 560.1379870587327, 515.06534728765, 478.0847254309434, 474.7619055934163, 427.55798888978944, 346.1251509300128, 363.3516287736029, 330.2843306394959, 326.7169424353993, 296.1345569781665, 264.3397690489712, 251.15525850174953, 248.7695676402599, 246.1561646279418, 244.08980328079116, 236.83914038937849, 225.25909256842266, 220.19044764989263, 208.25398663996756, 207.78764410766013, 207.17854092090076, 196.47283267234715, 182.5486215759545, 178.0485099976618, 171.0459974186636, 169.36244456194936, 163.98559906242755, 160.36637799492732, 182.1915571241044, 412.6043801909679, 1015.6306938567494, 782.050726118737, 839.9675403899466, 529.3380249959104, 462.1574533947864, 421.2507557708916, 419.750168418811, 421.4547554069568, 366.480016407908, 348.34680085619794, 356.17976478181674, 331.5292204424076, 285.72960709997153, 273.66631561759687, 256.69046685501075, 249.39857203436765, 242.52806210528487, 260.0321884931825, 237.72101705760397, 236.80473121581215, 229.22971132205544, 220.5608801194188, 213.51633966304695, 194.75660372827664, 174.76546070474146, 154.3609362017855, 147.76250733605164, 146.35269230789945, 149.29582479934953, 141.02890293624358, 167.61698073874857, 345.93536229371284, 381.2396714198778, 444.9733935936774, 250.30902132669522, 350.0830519989223, 204.98295485231893, 195.87617274347488, 1200.985850248116, 879.2611569928897, 649.9289956685582, 639.5564935193926, 495.99811184979853, 435.16034166843207, 260.78668107934004, 253.86333773301072, 204.84117903578502, 204.15551545135605, 198.45715430379929, 185.94579942302053, 177.9734743506823, 171.70894753033286, 214.98291604971624, 168.32828974095, 168.2675189007217, 144.78186232392721, 138.25563577225378, 134.3673725432152, 134.03291742252614, 132.3008163957217, 128.80073021064882, 128.65941819507336, 128.01411556904813, 121.077744934388, 116.6354535167753, 110.02815051696841, 106.81923882443758, 92.32145187583487, 179.3939075839846, 210.12838116753954, 298.1218884057795, 143.69307576708474, 355.03540000112935, 205.90136673233246, 177.25263569744124, 4547.826543340109, 418.8238840503894, 415.58367095077904, 412.43769879576695, 410.2045839880612, 412.1929981109779, 408.18238274130334, 408.18238274130334, 408.18238274130334, 407.2239639694233, 407.2239639694233, 407.2239639694233, 407.2239639694233, 407.2239639694233, 186.68084003313606, 127.23661902509006, 100.51120185636702, 95.71306377835955, 61.62065163277854, 58.76117194934524, 55.47589771659547, 45.958632703144374, 45.84304502112612, 42.88666586768211, 43.250985652674984, 39.99833798398567, 39.64592920726842, 35.085525546694655, 32.014899608623125, 31.839884866756496, 34.12259251722151, 100.93262176430461, 272.5718740544297], \"Total\": [4548.0, 5351.0, 4665.0, 8953.0, 6745.0, 5870.0, 4708.0, 2506.0, 2663.0, 2207.0, 2494.0, 2343.0, 2691.0, 1965.0, 2021.0, 1782.0, 2003.0, 2211.0, 1808.0, 2920.0, 1201.0, 1966.0, 1310.0, 2781.0, 3213.0, 1427.0, 1623.0, 1016.0, 1195.0, 1192.0, 8953.644669674395, 3213.757030532491, 2590.8187326131224, 2439.499412863735, 2388.312497862035, 2350.8055271913345, 2130.083487242104, 1572.7558522228323, 1303.72716277062, 1300.2222137886486, 1257.2279502167962, 1169.1403930673428, 1044.8903438541622, 1025.6418010565276, 1014.7981183772113, 994.7990321866317, 952.3480982731844, 934.974725563919, 917.648444479121, 890.487187264717, 887.2725932072572, 886.9495404723715, 823.8876565473071, 814.6812823042047, 790.5863841839406, 786.9715874635552, 707.3108045311188, 871.9193652258782, 600.5045845035625, 597.504344552151, 2691.4784250010216, 1102.1804246762388, 1763.4281200648334, 5870.662301275558, 2507.341258463165, 6745.439504804436, 4708.938015276345, 1670.9768250088514, 3910.9593002193483, 1623.0077556419733, 1953.7295883141462, 2781.834009978465, 2204.7850513214844, 1800.3217495453548, 1351.350551253704, 1288.075286961257, 1257.9832318198648, 1232.3025143584723, 1222.8988749360483, 1167.3855797648225, 1010.6499694460391, 1005.3992446910665, 907.3955981618558, 864.911135772525, 851.1696279928783, 828.3080065554846, 821.6028896624822, 774.4980971826735, 692.8361462412671, 666.5245814119619, 646.2444350318665, 632.4917947510609, 593.5034809577589, 589.0230542369925, 569.4103213232574, 561.9759681709547, 546.1420462814124, 542.2306727746835, 541.2017731240054, 520.7850036606861, 802.1741483284318, 707.62569117859, 1601.1357720459778, 731.5585668074204, 1338.0607449256663, 1315.419308453202, 1187.2837852571379, 919.1958672227823, 1651.076061674702, 2256.7283628180107, 1245.3900878810193, 2103.3575625297617, 2214.77663824708, 1252.7812216390644, 2920.370547092099, 3910.9593002193483, 1277.9544003557428, 2078.143279939978, 987.4255778736206, 2003.7426513994333, 1808.1938759814716, 1427.3962341227943, 985.0537792006251, 864.865864179409, 693.0218807274053, 641.6224417079669, 610.4215837614388, 607.7098642420041, 550.6778249784676, 489.5700483026006, 462.2237915804119, 450.4968291181607, 424.14633399281036, 378.44793786609256, 347.3210908711281, 320.1868163380054, 320.1848271768289, 298.9559780654844, 262.6940920878156, 259.3636558147108, 254.5186493835149, 254.44533578579166, 244.09426897941663, 241.31827538481463, 218.64428258884675, 213.01333400655406, 196.1909954427537, 187.4052814717698, 180.28847050935818, 704.4142467333005, 911.6575246086345, 679.6769966645057, 778.7113004964831, 1268.128093706329, 1164.126620580502, 1138.7924339326812, 613.9475227756321, 465.66358136564963, 1953.7295883141462, 400.455970299441, 581.1551439731408, 975.5148203430874, 1454.0244860507792, 717.1524056876772, 2256.7283628180107, 1571.8800878031388, 2663.409126036219, 2343.24703930888, 1171.0848497144164, 798.1454681560095, 596.9790554043241, 540.6847914710588, 498.7109083402335, 458.2440715023111, 434.7022061744594, 419.50742232386375, 414.6318037636785, 396.3751406127931, 388.16247599802625, 387.7638192739536, 356.3221862612224, 354.8976760576709, 336.72182079153146, 336.34457935593986, 648.2025023047702, 291.4551783578803, 262.095421105342, 238.89761885942667, 231.75296243555428, 231.38094993836546, 222.38390701986023, 215.4197871732556, 205.15859436955952, 199.18551397452532, 199.13483279236888, 195.83723727906772, 2494.8945913708335, 704.9847170246061, 2211.440592991295, 2691.226935025578, 442.179879769754, 578.3067319406032, 1299.154396803005, 6745.439504804436, 730.5725040526937, 810.7072651240909, 755.1729922312211, 5351.543731445882, 4665.758099242386, 1782.2121439828122, 1192.9112487051527, 1195.9414287855798, 579.9343472241059, 498.2735034751486, 409.48210208975416, 393.69843480065043, 360.1192567884866, 295.398145934649, 279.1685152933951, 272.45182791075285, 270.7224853416948, 253.08245145299642, 250.62278227190018, 245.65780710774143, 239.72150108542203, 239.31272745410126, 239.08202361386373, 239.12118835523358, 221.2839154278332, 216.95794104318733, 208.75068285529287, 207.1935625514347, 199.50750311342577, 189.01835777518207, 173.36328709589233, 173.30313472306085, 171.7973665687546, 1966.5975501116036, 2920.370547092099, 1571.8800878031388, 2506.6498673569886, 2207.1495247353696, 1011.4324562085443, 954.6466053034584, 828.9415935071381, 538.6735739393536, 433.63623241979826, 391.3694965401207, 383.02626521176364, 334.7599030317469, 314.5426558921643, 272.13343257428295, 265.86508412658134, 265.32353448134137, 259.0896813790615, 252.46050263965898, 242.579343605399, 232.18556895629771, 222.36508544973302, 202.44271030134567, 172.7624423030852, 172.54557100403323, 166.2300057772025, 165.271732302826, 162.0333539534682, 157.50922288439548, 151.8092406422205, 153.66421478350804, 145.00888142459905, 145.00369737600747, 437.03118926995734, 1965.1639014071536, 2021.3218863030684, 609.3120743380409, 464.61269745055836, 4708.938015276345, 810.7072651240909, 515.8976538399932, 2214.77663824708, 541.7453624822107, 1310.3328893088428, 690.4117931684697, 560.9678491908955, 515.8951824337548, 478.91452027837323, 475.5916292247916, 428.3876348084253, 346.95496116307766, 364.25564897710063, 331.1140804486789, 327.5467090289802, 296.9641877044137, 265.1696370387128, 251.9850612659084, 249.59954697661212, 246.9864024584924, 244.91959118033174, 237.66889511004362, 226.08901955458586, 221.02028057956713, 209.08374397166975, 208.6177716431309, 208.00829738476574, 197.30296899060926, 183.37851395937116, 178.87827809057808, 171.87567084469413, 170.19229385507458, 164.815386798497, 161.1962960648953, 183.20784312254102, 1623.0077556419733, 1016.5101315116253, 782.9290794614299, 840.9354012856885, 530.2171889107237, 463.03582152128126, 422.12903427577453, 420.6285253176203, 422.3703305438227, 367.3583892395324, 349.22509637830314, 357.10734458240023, 332.4074157475755, 286.6077864494683, 274.54459398623584, 257.57084033779984, 250.2770663874495, 243.40632583175363, 260.976430112769, 238.59935597101602, 237.68284667817184, 230.1105349735795, 221.43914695933893, 214.3948004842964, 195.63478564667838, 175.7368827449198, 155.23919461949322, 148.64070151642505, 147.23100427477706, 150.21184358541402, 141.90712072165715, 168.66226866075368, 372.53825839695423, 441.04326012138483, 1454.0244860507792, 689.946554743203, 2103.3575625297617, 415.10880594038116, 444.0529076685591, 1201.8603105929415, 880.1428845434199, 650.8035304649958, 640.4310806602782, 496.87269083591497, 436.0349455820096, 261.6611972754887, 254.73843614293853, 205.71612398480633, 205.03052202542418, 199.3330858668173, 186.82074612332735, 178.84794848617216, 172.58351517526285, 216.09468478277287, 169.20274965080807, 169.1464872244011, 145.65643685078587, 139.1305490514164, 135.2419368225193, 134.90737656610867, 133.17577143114556, 129.6751845397594, 129.53415251318745, 128.8889956625781, 121.95235716020593, 117.51009130676961, 110.90274190516489, 107.69376024049404, 93.19718383387118, 195.13873175899167, 435.4631693836331, 1623.0077556419733, 235.8782903015918, 5870.662301275558, 2211.440592991295, 981.9759232498463, 4548.766960317604, 419.766780735504, 416.52528451150187, 413.37935918424193, 411.1462593818988, 413.1408757697807, 409.12407270865054, 409.12407270865054, 409.12407270865054, 408.1669951763645, 408.1669951763645, 408.1669951763645, 408.1669951763645, 408.1669951763645, 187.7662027202881, 128.1773569762367, 101.45186105235067, 96.65349020989001, 62.561151973239156, 59.701831393752215, 56.41641250796773, 46.924254132596396, 46.831902406724986, 43.82749996114566, 44.22217826594573, 40.93927387223153, 40.58735972331797, 36.02605971709237, 32.955556673751964, 32.78048267406926, 35.1410632973561, 383.1103011972199, 4708.938015276345], \"Category\": [\"Default\", \"Default\", \"Default\", \"Default\", \"Default\", \"Default\", \"Default\", \"Default\", \"Default\", \"Default\", \"Default\", \"Default\", \"Default\", \"Default\", \"Default\", \"Default\", \"Default\", \"Default\", \"Default\", \"Default\", \"Default\", \"Default\", \"Default\", \"Default\", \"Default\", \"Default\", \"Default\", \"Default\", \"Default\", \"Default\", \"Topic1\", \"Topic1\", \"Topic1\", \"Topic1\", \"Topic1\", \"Topic1\", \"Topic1\", \"Topic1\", \"Topic1\", \"Topic1\", \"Topic1\", \"Topic1\", \"Topic1\", \"Topic1\", \"Topic1\", \"Topic1\", \"Topic1\", \"Topic1\", \"Topic1\", \"Topic1\", \"Topic1\", \"Topic1\", \"Topic1\", \"Topic1\", \"Topic1\", \"Topic1\", \"Topic1\", \"Topic1\", \"Topic1\", \"Topic1\", \"Topic1\", \"Topic1\", \"Topic1\", \"Topic1\", \"Topic1\", \"Topic1\", \"Topic1\", \"Topic1\", \"Topic1\", \"Topic1\", \"Topic1\", \"Topic2\", \"Topic2\", \"Topic2\", \"Topic2\", \"Topic2\", \"Topic2\", \"Topic2\", \"Topic2\", \"Topic2\", \"Topic2\", \"Topic2\", \"Topic2\", \"Topic2\", \"Topic2\", \"Topic2\", \"Topic2\", \"Topic2\", \"Topic2\", \"Topic2\", \"Topic2\", \"Topic2\", \"Topic2\", \"Topic2\", \"Topic2\", \"Topic2\", \"Topic2\", \"Topic2\", \"Topic2\", \"Topic2\", \"Topic2\", \"Topic2\", \"Topic2\", \"Topic2\", \"Topic2\", \"Topic2\", \"Topic2\", \"Topic2\", \"Topic2\", \"Topic2\", \"Topic2\", \"Topic2\", \"Topic2\", \"Topic2\", \"Topic2\", \"Topic2\", \"Topic2\", \"Topic2\", \"Topic2\", \"Topic3\", \"Topic3\", \"Topic3\", \"Topic3\", \"Topic3\", \"Topic3\", \"Topic3\", \"Topic3\", \"Topic3\", \"Topic3\", \"Topic3\", \"Topic3\", \"Topic3\", \"Topic3\", \"Topic3\", \"Topic3\", \"Topic3\", \"Topic3\", \"Topic3\", \"Topic3\", \"Topic3\", \"Topic3\", \"Topic3\", \"Topic3\", \"Topic3\", \"Topic3\", \"Topic3\", \"Topic3\", \"Topic3\", \"Topic3\", \"Topic3\", \"Topic3\", \"Topic3\", \"Topic3\", \"Topic3\", \"Topic3\", \"Topic3\", \"Topic3\", \"Topic3\", \"Topic3\", \"Topic3\", \"Topic3\", \"Topic3\", \"Topic3\", \"Topic3\", \"Topic3\", \"Topic3\", \"Topic4\", \"Topic4\", \"Topic4\", \"Topic4\", \"Topic4\", \"Topic4\", \"Topic4\", \"Topic4\", \"Topic4\", \"Topic4\", \"Topic4\", \"Topic4\", \"Topic4\", \"Topic4\", \"Topic4\", \"Topic4\", \"Topic4\", \"Topic4\", \"Topic4\", \"Topic4\", \"Topic4\", \"Topic4\", \"Topic4\", \"Topic4\", \"Topic4\", \"Topic4\", \"Topic4\", \"Topic4\", \"Topic4\", \"Topic4\", \"Topic4\", \"Topic4\", \"Topic4\", \"Topic4\", \"Topic4\", \"Topic4\", \"Topic4\", \"Topic4\", \"Topic4\", \"Topic4\", \"Topic4\", \"Topic5\", \"Topic5\", \"Topic5\", \"Topic5\", \"Topic5\", \"Topic5\", \"Topic5\", \"Topic5\", \"Topic5\", \"Topic5\", \"Topic5\", \"Topic5\", \"Topic5\", \"Topic5\", \"Topic5\", \"Topic5\", \"Topic5\", \"Topic5\", \"Topic5\", \"Topic5\", \"Topic5\", \"Topic5\", \"Topic5\", \"Topic5\", \"Topic5\", \"Topic5\", \"Topic5\", \"Topic5\", \"Topic5\", \"Topic5\", \"Topic5\", \"Topic5\", \"Topic5\", \"Topic6\", \"Topic6\", \"Topic6\", \"Topic6\", \"Topic6\", \"Topic6\", \"Topic6\", \"Topic6\", \"Topic6\", \"Topic6\", \"Topic6\", \"Topic6\", \"Topic6\", \"Topic6\", \"Topic6\", \"Topic6\", \"Topic6\", \"Topic6\", \"Topic6\", \"Topic6\", \"Topic6\", \"Topic6\", \"Topic6\", \"Topic6\", \"Topic6\", \"Topic6\", \"Topic6\", \"Topic6\", \"Topic6\", \"Topic6\", \"Topic6\", \"Topic6\", \"Topic6\", \"Topic6\", \"Topic6\", \"Topic6\", \"Topic6\", \"Topic6\", \"Topic6\", \"Topic6\", \"Topic7\", \"Topic7\", \"Topic7\", \"Topic7\", \"Topic7\", \"Topic7\", \"Topic7\", \"Topic7\", \"Topic7\", \"Topic7\", \"Topic7\", \"Topic7\", \"Topic7\", \"Topic7\", \"Topic7\", \"Topic7\", \"Topic7\", \"Topic7\", \"Topic7\", \"Topic7\", \"Topic7\", \"Topic7\", \"Topic7\", \"Topic7\", \"Topic7\", \"Topic7\", \"Topic7\", \"Topic7\", \"Topic7\", \"Topic7\", \"Topic7\", \"Topic7\", \"Topic8\", \"Topic8\", \"Topic8\", \"Topic8\", \"Topic8\", \"Topic8\", \"Topic8\", \"Topic8\", \"Topic8\", \"Topic8\", \"Topic8\", \"Topic8\", \"Topic8\", \"Topic8\", \"Topic8\", \"Topic8\", \"Topic8\", \"Topic8\", \"Topic8\", \"Topic8\", \"Topic8\", \"Topic8\", \"Topic8\", \"Topic8\", \"Topic8\", \"Topic8\", \"Topic8\", \"Topic8\", \"Topic8\", \"Topic8\", \"Topic8\", \"Topic8\", \"Topic8\", \"Topic8\", \"Topic8\", \"Topic8\", \"Topic8\", \"Topic8\", \"Topic9\", \"Topic9\", \"Topic9\", \"Topic9\", \"Topic9\", \"Topic9\", \"Topic9\", \"Topic9\", \"Topic9\", \"Topic9\", \"Topic9\", \"Topic9\", \"Topic9\", \"Topic9\", \"Topic9\", \"Topic9\", \"Topic9\", \"Topic9\", \"Topic9\", \"Topic9\", \"Topic9\", \"Topic9\", \"Topic9\", \"Topic9\", \"Topic9\", \"Topic9\", \"Topic9\", \"Topic9\", \"Topic9\", \"Topic9\", \"Topic9\", \"Topic9\", \"Topic9\", \"Topic9\", \"Topic9\", \"Topic9\", \"Topic9\", \"Topic10\", \"Topic10\", \"Topic10\", \"Topic10\", \"Topic10\", \"Topic10\", \"Topic10\", \"Topic10\", \"Topic10\", \"Topic10\", \"Topic10\", \"Topic10\", \"Topic10\", \"Topic10\", \"Topic10\", \"Topic10\", \"Topic10\", \"Topic10\", \"Topic10\", \"Topic10\", \"Topic10\", \"Topic10\", \"Topic10\", \"Topic10\", \"Topic10\", \"Topic10\", \"Topic10\", \"Topic10\", \"Topic10\", \"Topic10\", \"Topic10\", \"Topic10\", \"Topic10\"], \"logprob\": [30.0, 29.0, 28.0, 27.0, 26.0, 25.0, 24.0, 23.0, 22.0, 21.0, 20.0, 19.0, 18.0, 17.0, 16.0, 15.0, 14.0, 13.0, 12.0, 11.0, 10.0, 9.0, 8.0, 7.0, 6.0, 5.0, 4.0, 3.0, 2.0, 1.0, -2.829, -3.8538, -4.0693, -4.1295, -4.1507, -4.1666, -4.2652, -4.5687, -4.7564, -4.7591, -4.7927, -4.8654, -4.9779, -4.9965, -5.0071, -5.027, -5.0707, -5.0891, -5.1078, -5.1379, -5.1415, -5.1419, -5.2157, -5.227, -5.257, -5.2616, -5.3685, -5.1593, -5.5324, -5.5374, -4.0595, -4.9354, -4.4775, -3.3135, -4.173, -3.544, -3.8953, -4.7055, -4.3209, -5.1134, -5.1189, -3.7972, -4.0298, -4.2326, -4.5196, -4.5676, -4.5912, -4.6119, -4.6195, -4.666, -4.8103, -4.8155, -4.9182, -4.9662, -4.9822, -5.0095, -5.0176, -5.0767, -5.1882, -5.227, -5.2579, -5.2795, -5.3432, -5.3508, -5.3847, -5.3979, -5.4265, -5.4337, -5.4356, -5.4741, -5.0422, -5.1697, -4.3614, -5.1391, -4.5745, -4.6177, -4.7229, -4.9668, -4.4895, -4.2748, -4.7704, -4.3889, -4.4057, -4.7921, -4.2874, -4.1889, -4.8563, -4.703, -4.988, -3.1298, -3.2325, -3.4691, -3.8403, -3.9705, -4.1923, -4.2695, -4.3194, -4.3238, -4.4225, -4.5404, -4.5979, -4.6237, -4.6841, -4.7983, -4.8844, -4.9659, -4.9659, -5.0347, -5.1644, -5.1772, -5.1962, -5.1965, -5.2381, -5.2496, -5.3486, -5.3748, -5.4575, -5.5035, -5.5424, -4.2053, -3.9941, -4.2772, -4.1591, -3.7734, -3.8725, -3.9459, -4.553, -4.7698, -3.7791, -4.8812, -4.6732, -4.4375, -4.251, -4.6179, -4.4638, -4.7305, -2.8079, -2.936, -3.63, -4.0137, -4.3045, -4.4037, -4.4847, -4.5695, -4.6223, -4.658, -4.6697, -4.7148, -4.7358, -4.7368, -4.8216, -4.8256, -4.8783, -4.8794, -4.2235, -5.0231, -5.1296, -5.2226, -5.2531, -5.2547, -5.2945, -5.3265, -5.3755, -5.4052, -5.4054, -5.4222, -2.8879, -4.149, -3.1384, -3.0085, -4.679, -4.5173, -4.0073, -2.9286, -4.7005, -4.679, -4.9898, -1.8314, -1.9686, -2.9313, -3.333, -3.3304, -4.055, -4.207, -4.4036, -4.443, -4.5324, -4.731, -4.7877, -4.8123, -4.8187, -4.8861, -4.8959, -4.916, -4.9406, -4.9423, -4.9432, -4.9431, -5.0209, -5.0407, -5.0794, -5.087, -5.1249, -5.1792, -5.266, -5.2664, -5.2752, -3.2808, -3.4669, -5.0402, -2.418, -2.5453, -3.3261, -3.3839, -3.5253, -3.9569, -4.1742, -4.277, -4.2986, -4.4336, -4.4961, -4.6414, -4.6647, -4.6667, -4.6906, -4.7166, -4.7567, -4.8006, -4.844, -4.9383, -5.0976, -5.0988, -5.1363, -5.1421, -5.162, -5.1906, -5.2276, -5.2155, -5.2737, -5.2737, -4.281, -2.9776, -3.0576, -4.0675, -4.4949, -3.0589, -4.2529, -4.6252, -4.1605, -4.6947, -2.7541, -3.3954, -3.6033, -3.6872, -3.7617, -3.7686, -3.8734, -4.0847, -4.0361, -4.1315, -4.1424, -4.2406, -4.3542, -4.4054, -4.4149, -4.4255, -4.4339, -4.4641, -4.5142, -4.537, -4.5927, -4.5949, -4.5979, -4.6509, -4.7244, -4.7494, -4.7895, -4.7994, -4.8317, -4.854, -4.7264, -3.909, -2.9164, -3.1777, -3.1063, -3.568, -3.7038, -3.7964, -3.8, -3.7959, -3.9357, -3.9865, -3.9642, -4.0359, -4.1846, -4.2277, -4.2918, -4.3206, -4.3485, -4.2789, -4.3686, -4.3724, -4.4049, -4.4435, -4.4759, -4.5679, -4.6762, -4.8004, -4.8441, -4.8536, -4.8337, -4.8907, -4.718, -3.9934, -3.8962, -3.7416, -4.317, -3.9815, -4.5167, -4.5622, -2.5201, -2.8319, -3.1342, -3.1502, -3.4045, -3.5353, -4.0473, -4.0742, -4.2888, -4.2921, -4.3204, -4.3856, -4.4294, -4.4652, -4.2405, -4.4851, -4.4855, -4.6358, -4.6819, -4.7104, -4.7129, -4.7259, -4.7528, -4.7539, -4.7589, -4.8146, -4.852, -4.9103, -4.9399, -5.0857, -4.4214, -4.2633, -3.9135, -4.6433, -3.7388, -4.2836, -4.4334, -1.0105, -3.3954, -3.4032, -3.4108, -3.4162, -3.4114, -3.4212, -3.4212, -3.4212, -3.4235, -3.4235, -3.4235, -3.4235, -3.4235, -4.2035, -4.5868, -4.8226, -4.8715, -5.3119, -5.3594, -5.4169, -5.6052, -5.6077, -5.6743, -5.6659, -5.7441, -5.7529, -5.8751, -5.9667, -5.9722, -5.9029, -4.8184, -3.825], \"loglift\": [30.0, 29.0, 28.0, 27.0, 26.0, 25.0, 24.0, 23.0, 22.0, 21.0, 20.0, 19.0, 18.0, 17.0, 16.0, 15.0, 14.0, 13.0, 12.0, 11.0, 10.0, 9.0, 8.0, 7.0, 6.0, 5.0, 4.0, 3.0, 2.0, 1.0, 1.181, 1.1808, 1.1807, 1.1807, 1.1807, 1.1807, 1.1806, 1.1805, 1.1804, 1.1804, 1.1804, 1.1803, 1.1802, 1.1802, 1.1802, 1.1802, 1.1801, 1.1801, 1.1801, 1.1801, 1.1801, 1.1801, 1.18, 1.18, 1.18, 1.1799, 1.1798, 1.1798, 1.1796, 1.1796, 1.1524, 1.1693, 1.1573, 1.1185, 1.1098, 0.7491, 0.7572, 0.9831, 0.5173, 0.6043, 0.4134, 1.3816, 1.3816, 1.3815, 1.3813, 1.3813, 1.3813, 1.3813, 1.3813, 1.3812, 1.3811, 1.3811, 1.381, 1.381, 1.3809, 1.3809, 1.3809, 1.3808, 1.3807, 1.3807, 1.3806, 1.3806, 1.3805, 1.3805, 1.3804, 1.3804, 1.3804, 1.3804, 1.3804, 1.3803, 1.3802, 1.3781, 1.3699, 1.3754, 1.3363, 1.3101, 1.3074, 1.3195, 1.211, 1.1133, 1.2121, 1.0696, 1.0012, 1.1846, 0.8429, 0.6493, 1.1004, 0.7675, 1.2267, 2.3772, 2.3772, 2.377, 2.3768, 2.3766, 2.3764, 2.3763, 2.3762, 2.3762, 2.3761, 2.3759, 2.3758, 2.3757, 2.3756, 2.3753, 2.3751, 2.3749, 2.3749, 2.3747, 2.3743, 2.3743, 2.3742, 2.3741, 2.3741, 2.374, 2.3737, 2.3736, 2.3732, 2.373, 2.3728, 2.3471, 2.3004, 2.3109, 2.293, 2.1911, 2.1775, 2.1262, 2.1369, 2.1965, 1.7531, 2.2359, 2.0716, 1.7892, 1.5766, 1.9165, 0.9243, 1.0193, 2.4145, 2.4145, 2.4141, 2.4137, 2.4133, 2.4132, 2.4131, 2.4129, 2.4128, 2.4127, 2.4127, 2.4126, 2.4125, 2.4125, 2.4123, 2.4123, 2.4122, 2.4122, 2.4121, 2.4118, 2.4114, 2.4111, 2.411, 2.411, 2.4108, 2.4107, 2.4105, 2.4104, 2.4104, 2.4103, 2.3998, 2.4026, 2.2699, 2.2035, 2.339, 2.2324, 1.933, 1.3645, 1.8154, 1.7329, 1.493, 2.6932, 2.6932, 2.6929, 2.6926, 2.6926, 2.6919, 2.6916, 2.6912, 2.6911, 2.6909, 2.6904, 2.6902, 2.69, 2.69, 2.6899, 2.6899, 2.6898, 2.6897, 2.6897, 2.6897, 2.6897, 2.6894, 2.6893, 2.6892, 2.6891, 2.689, 2.6887, 2.6883, 2.6883, 2.6883, 2.2449, 1.6634, 0.7095, 2.8651, 2.865, 2.8645, 2.8645, 2.8643, 2.8638, 2.8634, 2.8631, 2.8631, 2.8628, 2.8626, 2.8621, 2.8621, 2.8621, 2.862, 2.8619, 2.8617, 2.8616, 2.8614, 2.861, 2.8603, 2.8602, 2.8601, 2.86, 2.8599, 2.8597, 2.8595, 2.8595, 2.8593, 2.8593, 2.7487, 2.5488, 2.4407, 2.6299, 2.4736, 1.5936, 2.159, 2.2387, 1.2464, 2.1202, 3.1777, 3.1771, 3.1768, 3.1767, 3.1766, 3.1766, 3.1764, 3.1759, 3.1758, 3.1758, 3.1758, 3.1755, 3.1752, 3.175, 3.175, 3.1749, 3.1749, 3.1748, 3.1746, 3.1745, 3.1743, 3.1743, 3.1743, 3.1741, 3.1738, 3.1736, 3.1735, 3.1734, 3.1732, 3.1731, 3.1727, 1.8087, 3.2692, 3.269, 3.2689, 3.2684, 3.2682, 3.268, 3.268, 3.2679, 3.2677, 3.2676, 3.2675, 3.2674, 3.267, 3.2669, 3.2667, 3.2666, 3.2665, 3.2665, 3.2664, 3.2664, 3.2663, 3.2661, 3.266, 3.2656, 3.2646, 3.2644, 3.2642, 3.2641, 3.264, 3.2639, 3.2639, 3.196, 3.1244, 2.086, 2.2562, 1.477, 2.5645, 2.4516, 3.498, 3.4977, 3.4974, 3.4974, 3.497, 3.4967, 3.4954, 3.4953, 3.4945, 3.4945, 3.4943, 3.494, 3.4938, 3.4937, 3.4936, 3.4935, 3.4935, 3.4927, 3.4924, 3.4922, 3.4922, 3.4921, 3.492, 3.492, 3.4919, 3.4915, 3.4913, 3.4908, 3.4906, 3.4893, 3.4146, 2.77, 1.8042, 3.0031, 0.6932, 1.1247, 1.7867, 3.6767, 3.6746, 3.6746, 3.6746, 3.6746, 3.6746, 3.6746, 3.6746, 3.6746, 3.6745, 3.6745, 3.6745, 3.6745, 3.6745, 3.6711, 3.6695, 3.6675, 3.6671, 3.6617, 3.661, 3.66, 3.6561, 3.6555, 3.6552, 3.6547, 3.6536, 3.6534, 3.6504, 3.6479, 3.6477, 3.6474, 2.343, 0.8275]}, \"token.table\": {\"Topic\": [2, 5, 1, 4, 10, 7, 7, 10, 5, 1, 8, 10, 10, 1, 9, 6, 8, 9, 1, 2, 8, 4, 3, 8, 10, 10, 8, 4, 1, 5, 2, 10, 1, 2, 3, 7, 8, 2, 6, 1, 2, 3, 9, 10, 3, 10, 8, 8, 7, 2, 9, 6, 7, 1, 2, 1, 9, 5, 5, 7, 5, 4, 7, 2, 2, 5, 6, 7, 3, 4, 2, 6, 2, 1, 6, 9, 10, 1, 7, 2, 3, 7, 2, 8, 9, 1, 9, 1, 4, 9, 1, 2, 4, 9, 6, 2, 2, 3, 4, 8, 8, 6, 2, 10, 2, 6, 1, 2, 3, 4, 6, 4, 6, 1, 2, 1, 3, 10, 5, 3, 6, 1, 7, 9, 5, 5, 2, 8, 3, 1, 9, 10, 3, 1, 6, 7, 6, 6, 3, 4, 7, 5, 4, 9, 2, 3, 4, 7, 3, 3, 4, 6, 3, 6, 5, 1, 9, 10, 2, 1, 9, 10, 2, 9, 5, 6, 3, 5, 1, 3, 1, 5, 2, 3, 2, 3, 6, 7, 8, 3, 6, 2, 1, 2, 8, 7, 9, 2, 8, 1, 3, 4, 5, 7, 9, 4, 9, 5, 8, 4, 1, 4, 2, 8, 3, 4, 1, 2, 2, 1, 8, 1, 2, 8, 1, 2, 4, 2, 5, 2, 9, 9, 9, 9, 8, 2, 4, 1, 5, 1, 3, 5, 8, 1, 2, 8, 4, 7, 1, 1, 2, 3, 6, 4, 7, 3, 8, 10, 1, 4, 5, 1, 5, 9, 3, 9, 1, 2, 8, 3, 8, 7, 1, 7, 9, 1, 2, 3, 6, 5, 2, 9, 3, 2, 9, 1, 1, 8, 3, 4, 9, 8, 4, 6, 1, 3, 6, 6, 5, 1, 1, 3, 3, 8, 7, 4, 4, 10, 9, 4, 10, 4, 1, 4, 6, 3, 5, 3, 9, 6, 3, 4, 5, 1, 4, 6, 8, 10, 1, 3, 8, 6, 4, 6, 1, 4, 3, 1, 3, 3, 4, 1, 9, 4, 10, 3, 1, 2, 3, 1, 7, 1, 1, 2, 1, 8, 4, 1, 1, 8, 6, 4, 7, 10, 10, 4, 7, 10, 6, 6, 6, 2, 10, 6, 1, 4, 8, 7, 5, 1, 6, 6, 7, 1, 8, 2, 4, 10, 2, 4, 6, 4, 8, 4, 10, 2, 10, 3, 7, 7, 1, 2, 5, 7, 8, 2, 1, 3, 3, 8, 4, 9, 2, 3, 8, 4, 10, 9, 1, 2, 4, 1, 2, 3, 8, 2, 3, 6, 8, 8, 8, 3, 2, 9, 2, 2, 10, 6, 10, 10, 7, 4, 5, 1, 7, 10, 4, 1, 10, 5, 5, 1, 2, 6, 5, 7, 6, 1, 6, 9, 1, 2, 5, 3, 4, 8, 7, 6, 1, 2, 3, 3, 4, 2, 3, 5, 6, 5, 5, 8, 9, 9, 9, 10, 7, 1, 2, 8, 3, 2, 2, 3], \"Freq\": [0.9979088841644983, 0.995814301293371, 0.3817868001067236, 0.6173246243661136, 0.9998313916003404, 0.9948166990360734, 0.9982746797480613, 0.9715189580778504, 0.9988226540615724, 0.6362811684209295, 0.3623469068456318, 0.9987388892558637, 0.9972524894435849, 0.9994913404809748, 0.9954932520321204, 0.9950116204959781, 0.9988876657062381, 0.9965188728480067, 0.057273586015724784, 0.9281689969018928, 0.014318396503931196, 0.9958205255905569, 0.9988319027157976, 0.9980168503836426, 0.9811191612143229, 0.9910303446221835, 0.9936076447958069, 0.9983599836619712, 0.998146777169638, 0.9954742577567802, 0.9995640290049267, 0.976190628984037, 0.00993733450517545, 0.0198746690103509, 0.9695999238621189, 0.9950527264818188, 0.9985057472810582, 0.9992658259304547, 0.9955867589452827, 0.0028263530068684877, 0.996289434921142, 0.9979622342615319, 0.9172961122914133, 0.07686838929816313, 0.9988971529075283, 0.9932388348473407, 0.9960734035773836, 0.9958068975993538, 0.9951526097879614, 0.9982631337947923, 0.9933122699574922, 0.9936225849292426, 0.9966353576774226, 0.06841924808434716, 0.9305017739471214, 0.9989294312370174, 0.9911712812434996, 0.9975150612156858, 0.9957229296350583, 0.9980904310902045, 0.9986521718564304, 0.996751012683328, 0.9965528359529173, 0.9992662030890254, 0.3610296371821005, 0.6386665130996032, 0.9948938731996696, 0.9953837694129619, 0.9357385980710701, 0.0632653454670692, 0.4632701820235965, 0.534989833633944, 0.999700194197255, 0.654500014653332, 0.28031798161661203, 0.007220311647700613, 0.057974855288890216, 0.9994528980633473, 0.9982647978422056, 0.8557606962336057, 0.027343832897405152, 0.11545173890015509, 0.9982633275687371, 0.9988133287090716, 0.9992841842056361, 0.9991479068981745, 0.9918600578339457, 0.9990245884291528, 0.9943011838940697, 0.9932219270809916, 0.035271126091835754, 0.005878521015305959, 0.8650469770984845, 0.09315194839638674, 0.9946693584738515, 0.9992129601419191, 0.9996697065892315, 0.9947423018447696, 0.9974706059852446, 0.9977043578816742, 0.9962585505811883, 0.9994791813048971, 0.9996028993524964, 0.9972524894435849, 0.9992224488046451, 0.9977300058194998, 0.14788793721560212, 0.010032598755832305, 0.0011147331950924783, 0.8096678773688367, 0.031212529462589393, 0.10754381186960951, 0.8900966556867681, 0.9987654097313898, 0.9984208693564077, 0.46424029478032386, 0.5353862715989182, 0.9971408879449936, 0.9993198654902534, 0.9962933628823974, 0.9982747780563335, 0.9991559148368553, 0.9949052076981543, 0.9918741853667334, 0.9953586799106406, 0.9982259650054132, 0.9980743586104457, 0.9951739064284606, 0.9955170230583787, 0.9999279991893605, 0.9974730786132093, 0.9855285062314482, 0.9972973148629648, 0.3228495493624821, 0.6758317233321292, 0.9979358870829599, 0.9958350116574759, 0.9926005791105423, 0.9257862489121896, 0.07349251028094397, 0.9933961004374381, 0.9941978818236705, 0.9985648378626317, 0.9928916660439014, 0.21337328540353784, 0.7867121896939601, 0.9987334737690777, 0.9955890989188102, 0.9928532839303704, 0.9982497781520878, 0.9978563290319746, 0.9967461536763156, 0.9988356144241728, 0.9967670281455885, 0.9955846693668767, 0.5166912286025735, 0.48224514669573537, 0.9971408879449936, 0.9993568774610482, 0.9990232875298514, 0.9871542917433511, 0.967529061721876, 0.9399520067583107, 0.05983490783762395, 0.9953112128500802, 0.9968381048504543, 0.9996293678737065, 0.9992128136354171, 0.07961872385885584, 0.9194678432732385, 0.999657339927945, 0.9983416227587181, 0.9551135887115477, 0.044093663328623876, 0.15298139120394424, 0.8295691935389142, 0.01655984131589087, 0.9990951307252399, 0.9964919577916702, 0.9939294082276003, 0.997813157605494, 0.9984926531002848, 0.9765070548703112, 0.0079390817469131, 0.0147440089585529, 0.9951832266921617, 0.9982436329224559, 0.9991516798571317, 0.997127067907023, 0.5006743237646785, 0.2570170607381577, 0.037534669761265606, 0.1374150621768368, 0.06679898855818456, 0.9932740774507314, 0.9940317042577044, 0.9993268898507647, 0.9942393840004639, 0.9978793791438899, 0.9972851334481371, 0.014429467330809997, 0.9852119638647493, 0.9977303519766118, 0.9916389602798631, 0.9989988456993496, 0.9937769461900108, 0.005467778222400316, 0.9937686919212574, 0.9989465556230686, 0.9989455845774913, 0.9977837540264605, 0.10197608061590192, 0.8439122891914402, 0.05379840473437345, 0.9991637437621277, 0.9880486262439034, 0.011242019767629749, 0.9987931544192616, 0.9973312695442239, 0.9992649638048811, 0.9931026255732069, 0.9956591701946859, 0.9987014784036881, 0.9949342355001777, 0.9987743481996055, 0.9991651986711166, 0.9980513063411488, 0.9994422431384534, 0.9968919829545688, 0.9990599962255011, 0.9973523829739971, 0.0697914896362026, 0.9287636697740809, 0.9992135200462456, 0.5034824532968762, 0.4938464254825819, 0.995724831034689, 0.9960062479202345, 0.9994504496948328, 0.0013293580430095958, 0.7643808747305176, 0.23396701556968888, 0.9965007581014166, 0.9940481918043651, 0.995090079690205, 0.8690093938162115, 0.12985197838633045, 0.9822364165457108, 0.0015427277686284257, 0.996602138533963, 0.9921362410765882, 0.999683986917797, 0.9998375185283375, 0.9987653255900107, 0.9970532840775979, 0.9908169251957022, 0.001246612100481918, 0.9985362924860163, 0.9920175145037914, 0.9997224077566396, 0.9963022778863322, 0.9987560142180048, 0.5619196808084646, 0.25446582036611387, 0.18360972026416933, 0.11062063585513938, 0.6831388655054118, 0.007675717589948447, 0.19821411894043342, 0.9983888741396708, 0.8187573452301808, 0.1802488185394801, 0.9968022781425198, 0.9993568797648157, 0.9952588302334499, 0.9992933628526018, 0.999258292078296, 0.995689595717131, 0.9993397411652976, 0.998384627074615, 0.9947932633205361, 0.9974880235171765, 0.5057312517573693, 0.4933963431779213, 0.9991597324706861, 0.9989302318077697, 0.9957941922917908, 0.999572431944526, 0.9973222625591015, 0.998922600016819, 0.36812258859656266, 0.6302704925971452, 0.9988163818024263, 0.9977629775642883, 0.9925786380078256, 0.9960023754254801, 0.9990736369660312, 0.9908146258901643, 0.9921907441366234, 0.9962893518500892, 0.9748936090580435, 0.9985745081401979, 0.6491793450791545, 0.3498660092228373, 0.000889489853956366, 0.9973577933089429, 0.9946123869280818, 0.9962995523951717, 0.9966189402581686, 0.9976117356210618, 0.9961963413514145, 0.9272244594518632, 0.072368738298682, 0.9985657246521533, 0.1723254870898011, 0.7894148503828031, 0.03610629253310118, 0.9710046872152206, 0.4438681924357791, 0.5556040653584117, 0.9980163733026806, 0.998749569364564, 0.9943526890836827, 0.99732064011016, 0.6011867541218859, 0.39725996968406563, 0.9945371920849656, 0.16320795321187695, 0.8353670236765807, 0.736464271956579, 0.2615480591995328, 0.9394170056079906, 0.06047017896479359, 0.9965307092400721, 0.9971408879449936, 0.9978374063495599, 0.4123873499351557, 0.5408674227854318, 0.04619508237313296, 0.9985844479811229, 0.9960907949822116, 0.9995194090540092, 0.97158497564364, 0.027865725878880688, 0.9989574845851249, 0.997325381141547, 0.9987904330248727, 0.9997952805968711, 0.9993742444429756, 0.9967556183644378, 0.9985327969107933, 0.998476229372799, 0.993407252102558, 0.9971408879449936, 0.9971408879449936, 0.3889219358873278, 0.34454829219548505, 0.2636316478162423, 0.9981759418410243, 0.9938610621043671, 0.9993226757421372, 0.9996439329443867, 0.9966632122441625, 0.9930781256328604, 0.9312653361877039, 0.06859856009605356, 0.9983306685626795, 0.9962453343323824, 0.9974441677788068, 0.34581330402474797, 0.654027450530353, 0.993042623219436, 0.9983308975058826, 0.5562400239575972, 0.441388844921818, 0.011347763727083428, 0.9872554442562582, 0.9972385308820993, 0.9977794360926271, 0.8334677315316213, 0.16600187184032295, 0.13377372547029037, 0.8638608373589938, 0.9962426630130841, 0.9972120398623545, 0.998625857931942, 0.995546054575406, 0.9987691079107932, 0.992994431016425, 0.9971856009608077, 0.11254957973869052, 0.8205742409317295, 0.06545436552179165, 0.9972475932902749, 0.996755251656396, 0.9992793925436688, 0.8204781655141972, 0.17893725126823118, 0.9993093563978505, 0.9948973894976357, 0.9980301945772462, 0.9958763576800097, 0.244837692497819, 0.4490983516884152, 0.30604711562227377, 0.9998463900899718, 0.977056899563902, 0.9976264618409697, 0.5149631702603102, 0.48070047670773747, 0.004346759629804009, 0.011410328147504596, 0.7316872924587323, 0.09033176450107806, 0.16640061881777538, 0.18039274790854076, 0.8186394702706636, 0.9923052037689312, 0.9994981540313163, 0.9968991268334311, 0.9919324365077449, 0.9985254711924352, 0.3857921807201852, 0.6104843299308425, 0.999000591480537, 0.9992184062593248, 0.9723627755603597, 0.9988641015066522, 0.9972524894435849, 0.9803032749335838, 0.9975979644840128, 0.9984382560624077, 0.9945145940708354, 0.9997644406452327, 0.9970387391339426, 0.9981733172544991, 0.9994678156899548, 0.9991967903458094, 0.9959193789447321, 0.9998983972712981, 0.9964039262290066, 0.1882803380773737, 0.33595119147139235, 0.47439261652828474, 0.9924806050095789, 0.999745950581292, 0.9956774920924574, 0.2707153330157662, 0.7286924001477016, 0.9935580275129702, 0.9880414999385327, 0.010887509641195954, 0.9974562204152431, 0.32850948902217325, 0.5488846045745478, 0.12182226884572257, 0.9994035542663896, 0.9997407426679523, 0.11810479512507113, 0.8430865375082001, 0.038762599425664374, 0.9952428611510166, 0.9970051819279095, 0.583145177140527, 0.057869368723869094, 0.35714645904731046, 0.001369689200564949, 0.996990252930358, 0.9992361135783221, 0.9981585351724734, 0.9949738116293906, 0.9956067720509715, 0.9971011985701123, 0.9882443908776698, 0.9967531852515045, 0.1345900917529769, 0.7543305142434287, 0.11033257521610315, 0.999029894112946, 0.9989430238571327, 0.22128703395907598, 0.7780171114592909], \"Term\": [\"able\", \"accept\", \"access\", \"access\", \"account\", \"across\", \"action\", \"activation\", \"active\", \"activity\", \"activity\", \"activity_detect\", \"activity_future\", \"address\", \"africa\", \"agreement\", \"airdrop\", \"alert\", \"also\", \"also\", \"also\", \"answer\", \"apple\", \"apply\", \"approach\", \"approve\", \"around\", \"asset\", \"assistance\", \"attachment\", \"attention\", \"auto_generate\", \"available\", \"available\", \"available\", \"aware\", \"balance\", \"bank\", \"banking\", \"base\", \"base\", \"become\", \"beneficiary\", \"beneficiary\", \"benefit\", \"billing\", \"binance\", \"bitcoin\", \"body\", \"bonus\", \"boost\", \"breach\", \"build\", \"business\", \"business\", \"button\", \"campaign\", \"cancel\", \"capital\", \"care\", \"case\", \"cash\", \"cashback\", \"chance\", \"change\", \"change\", \"charge\", \"chat\", \"check\", \"check\", \"choose\", \"choose\", \"claim\", \"click\", \"click\", \"click\", \"click\", \"code\", \"collection\", \"come\", \"come\", \"come\", \"communication\", \"community\", \"company\", \"complete\", \"condition\", \"confirm\", \"confirmation\", \"consignment\", \"contact\", \"contact\", \"contact\", \"contact\", \"cost\", \"could\", \"country\", \"course\", \"credit\", \"crypto\", \"cryptocurrency\", \"customer\", \"date\", \"date_platform\", \"datum\", \"deal\", \"dear\", \"dear\", \"dear\", \"dear\", \"dear\", \"delivery\", \"delivery\", \"department\", \"deposit\", \"detail\", \"detail\", \"detail_countryregion\", \"device\", \"digital\", \"discount\", \"document\", \"domain\", \"donate\", \"donation\", \"download\", \"earn\", \"ecosystem\", \"effort\", \"email\", \"enable\", \"enhance\", \"enjoy\", \"ensure\", \"ensure\", \"environment\", \"ethereum\", \"europe\", \"every\", \"every\", \"excited\", \"exciting\", \"exclusive\", \"expect\", \"experience\", \"experience\", \"expire\", \"express\", \"extra\", \"facebook\", \"family\", \"fast\", \"feature\", \"final_notice\", \"finance\", \"financial\", \"financial\", \"firefox_user\", \"first\", \"follow\", \"foreign_partner\", \"foreigner\", \"forward\", \"forward\", \"foundation\", \"fraud\", \"free\", \"freebitcoin\", \"full\", \"full\", \"fund\", \"future_promotional\", \"give\", \"give\", \"good\", \"good\", \"good\", \"group\", \"happy\", \"head\", \"health\", \"hear\", \"help\", \"help\", \"help\", \"highly\", \"hold\", \"hope\", \"html\", \"http\", \"http\", \"http\", \"http\", \"http\", \"hundred_thousand\", \"immediate\", \"immediately\", \"incoming\", \"increase\", \"inform\", \"information\", \"information\", \"interested\", \"introduce\", \"investment\", \"invoice\", \"issue\", \"issue\", \"join\", \"jose_monkey\", \"journey\", \"keep\", \"keep\", \"keep\", \"kindly\", \"know\", \"know\", \"language\", \"last_active\", \"late\", \"late_father\", \"late_husband\", \"ledger\", \"ledger_live\", \"life\", \"like\", \"linguistic\", \"link\", \"linux\", \"list\", \"live\", \"long\", \"long\", \"long_wish\", \"lose\", \"lose\", \"loss\", \"lucky\", \"mail\", \"make\", \"make\", \"make\", \"manage\", \"manager\", \"march\", \"matter\", \"matter\", \"meantime_want\", \"member\", \"member\", \"merge\", \"message\", \"microsoft\", \"million\", \"million_dollar\", \"million_five\", \"miss\", \"miss\", \"moment\", \"money\", \"monkey\", \"month\", \"name\", \"name\", \"name\", \"need\", \"need\", \"need\", \"need\", \"network\", \"news\", \"news\", \"newsletter\", \"next\", \"nigeria\", \"note\", \"notification\", \"october\", \"offer\", \"office\", \"officer\", \"official\", \"online\", \"online\", \"open\", \"opportunity\", \"optout\", \"order\", \"outlook\", \"page\", \"part\", \"part\", \"participate\", \"partner\", \"partnership\", \"password\", \"payment\", \"paypal\", \"percentage\", \"personal\", \"pill\", \"platform\", \"please\", \"please\", \"please\", \"possible\", \"potential\", \"premium\", \"presently\", \"price\", \"privacy\", \"private\", \"private\", \"process\", \"product\", \"product\", \"product\", \"professional\", \"program\", \"program\", \"proposal\", \"protect\", \"protection\", \"purchase\", \"question\", \"question\", \"quick\", \"reach\", \"reach\", \"ready\", \"ready\", \"receive\", \"receive\", \"recent\", \"recent_signin\", \"referral\", \"regard\", \"regard\", \"regard\", \"register\", \"remain\", \"reply\", \"report\", \"report\", \"request\", \"result\", \"review\", \"reward\", \"right_reserve\", \"ripple\", \"risk\", \"rock\", \"rodrigofp\", \"russiamoscow\", \"russiamoscow_address\", \"safe\", \"safe\", \"safe\", \"safety\", \"sale\", \"secure\", \"security\", \"security_notification\", \"sell\", \"send\", \"send\", \"september\", \"serve\", \"server\", \"service\", \"service\", \"shop\", \"short\", \"show\", \"show\", \"sign\", \"sign\", \"signin\", \"since\", \"sincerely\", \"sincerely\", \"site\", \"site\", \"software\", \"something_unusual\", \"soon\", \"soon_possible\", \"special\", \"spring\", \"stand\", \"start\", \"start\", \"start\", \"storage\", \"study\", \"subject\", \"support\", \"support\", \"sure\", \"surprise\", \"suspend\", \"swift\", \"take\", \"take\", \"take\", \"team\", \"temporarily\", \"term\", \"thank\", \"thank\", \"thank\", \"time\", \"time\", \"time\", \"time\", \"today\", \"today\", \"together\", \"token\", \"token_allocation\", \"tokens\", \"total\", \"trade\", \"trade\", \"transaction\", \"transfer\", \"trouble_current\", \"trust\", \"trust_similar\", \"unable_validate\", \"unique\", \"united_states\", \"unlock\", \"unsubscribe\", \"unusual\", \"unusual_signin\", \"update\", \"upgrade\", \"usaa\", \"user\", \"validate\", \"value\", \"value\", \"value\", \"vegas\", \"verification\", \"verification_easily\", \"verify\", \"verify\", \"victim\", \"view\", \"view\", \"virus\", \"visit\", \"visit\", \"visit\", \"wait\", \"wallet\", \"want\", \"want\", \"want\", \"watch\", \"website\", \"well\", \"well\", \"well\", \"well\", \"window\", \"window_browser\", \"winner\", \"withdraw\", \"withdrawal\", \"within_hour\", \"woman\", \"word\", \"work\", \"work\", \"work\", \"world\", \"would\", \"year\", \"year\"]}, \"R\": 30, \"lambda.step\": 0.01, \"plot.opts\": {\"xlab\": \"PC1\", \"ylab\": \"PC2\"}, \"topic.order\": [10, 1, 3, 7, 4, 6, 2, 9, 5, 8]};\n",
              "\n",
              "function LDAvis_load_lib(url, callback){\n",
              "  var s = document.createElement('script');\n",
              "  s.src = url;\n",
              "  s.async = true;\n",
              "  s.onreadystatechange = s.onload = callback;\n",
              "  s.onerror = function(){console.warn(\"failed to load library \" + url);};\n",
              "  document.getElementsByTagName(\"head\")[0].appendChild(s);\n",
              "}\n",
              "\n",
              "if(typeof(LDAvis) !== \"undefined\"){\n",
              "   // already loaded: just create the visualization\n",
              "   !function(LDAvis){\n",
              "       new LDAvis(\"#\" + \"ldavis_el35431378285314456963091240278\", ldavis_el35431378285314456963091240278_data);\n",
              "   }(LDAvis);\n",
              "}else if(typeof define === \"function\" && define.amd){\n",
              "   // require.js is available: use it to load d3/LDAvis\n",
              "   require.config({paths: {d3: \"https://d3js.org/d3.v5\"}});\n",
              "   require([\"d3\"], function(d3){\n",
              "      window.d3 = d3;\n",
              "      LDAvis_load_lib(\"https://cdn.jsdelivr.net/gh/bmabey/pyLDAvis@3.4.0/pyLDAvis/js/ldavis.v3.0.0.js\", function(){\n",
              "        new LDAvis(\"#\" + \"ldavis_el35431378285314456963091240278\", ldavis_el35431378285314456963091240278_data);\n",
              "      });\n",
              "    });\n",
              "}else{\n",
              "    // require.js not available: dynamically load d3 & LDAvis\n",
              "    LDAvis_load_lib(\"https://d3js.org/d3.v5.js\", function(){\n",
              "         LDAvis_load_lib(\"https://cdn.jsdelivr.net/gh/bmabey/pyLDAvis@3.4.0/pyLDAvis/js/ldavis.v3.0.0.js\", function(){\n",
              "                 new LDAvis(\"#\" + \"ldavis_el35431378285314456963091240278\", ldavis_el35431378285314456963091240278_data);\n",
              "            })\n",
              "         });\n",
              "}\n",
              "</script>"
            ]
          },
          "metadata": {},
          "execution_count": 11
        }
      ],
      "source": [
        "#Por lo que usamos k=10 para el modelo LDA\n",
        "lda = LdaModel(\n",
        "    corpus=corpus,\n",
        "    id2word=id2word,\n",
        "    num_topics=10,\n",
        "    random_state=42,\n",
        "    chunksize=100,\n",
        "    passes=10,\n",
        "    alpha='auto',\n",
        "    eta='auto',\n",
        "    per_word_topics=True\n",
        ")\n",
        "\n",
        "# 6) Imprime los términos más representativos de cada tópico\n",
        "for idx, topic in lda.print_topics(num_topics=10, num_words=10):\n",
        "    print(f\"Tópico {idx:2d}: {topic}\")\n",
        "\n",
        "#Graficamos los topicos usando pyLDAvis\n",
        "data = gensimvis.prepare(lda, corpus, id2word)\n",
        "pyLDAvis.display(data)"
      ]
    },
    {
      "cell_type": "markdown",
      "metadata": {
        "id": "Bhz89WCSlHpc"
      },
      "source": []
    },
    {
      "cell_type": "markdown",
      "metadata": {
        "id": "-2lKHdr6iHB3"
      },
      "source": []
    }
  ],
  "metadata": {
    "accelerator": "GPU",
    "colab": {
      "gpuType": "T4",
      "provenance": [],
      "include_colab_link": true
    },
    "kernelspec": {
      "display_name": "Python 3",
      "name": "python3"
    },
    "language_info": {
      "name": "python"
    }
  },
  "nbformat": 4,
  "nbformat_minor": 0
}