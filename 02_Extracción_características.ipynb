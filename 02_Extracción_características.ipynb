{
  "cells": [
    {
      "cell_type": "markdown",
      "metadata": {
        "colab_type": "text",
        "id": "view-in-github"
      },
      "source": [
        "<a href=\"https://colab.research.google.com/github/Ignacioelamo/LLMs4Phishing/blob/main/02_Extracci%C3%B3n_caracter%C3%ADsticas.ipynb\" target=\"_parent\"><img src=\"https://colab.research.google.com/assets/colab-badge.svg\" alt=\"Open In Colab\"/></a>"
      ]
    },
    {
      "cell_type": "markdown",
      "metadata": {
        "id": "2utZUICUZ6C3"
      },
      "source": [
        "## Extracción de las características del cuerpo del correo:\n",
        "1. **body_html=contains_html**: This is a binary feature that represents the presence of HTML in the email body.  \n",
        "2. **body_forms**: This binary feature represents the presence of forms in HTML email bodies.\n",
        "3. **body_noWords**: This feature measures the total number of words occurring in the email.\n",
        "4.  **body_noCharacters**: This feature measures the total number of characters occurring in the email body.\n",
        "5.  **body_noDistinctWords**: This feature measures the total number of distinct words occurring in the body of the email.  \n",
        "6. **body_richness**: The richness is defined as the ratio of the number of words to the number of characters in the document.\n",
        "$$\n",
        "\\text{body_richness} = \\frac{\\text{body_noWords}}{\\text{body_noCharacters}}\n",
        "$$\n",
        "8. **body_noFunctionWords** Chandrasekaran [6] also listed a set of function words that included:  \n",
        "`account`, `access`, `bank`, `credit`, `click`, `identity`, `inconvenience`, `information`, `limited`, `log`, `minutes`, `password`, `recently`, `risk`, `social`, `security`, `service`, and `suspended`.  The `body_noFunctionWords` feature measures the total number of occurrences of these function words in the email body.\n",
        "9. **body_suspension** This binary feature represents the presence of the word **\"suspension\"** in the body of the email.  \n",
        "10.  **body_verifyYourAccount** This binary feature represents the presence of the phrase **\"verify your account\"** in the body of the email.\n",
        "11. **body_text** contains information regarding the context and purpose of an email. For this, we extract the plain text from the email body and use word embedding techniques to represent it.\n",
        "\n",
        "Añadimos las features que ya teníamos: has_attachment, contains_html, urls."
      ]
    },
    {
      "cell_type": "code",
      "execution_count": null,
      "metadata": {
        "id": "3thkqU3Kjgfr"
      },
      "outputs": [],
      "source": [
        "#Es necesario la version de numpy= 1.26.4\n",
        "#%pip install --upgrade --force-reinstall numpy==1.26.4 pandas"
      ]
    },
    {
      "cell_type": "code",
      "execution_count": null,
      "metadata": {
        "id": "aqwO-CXHb5w3"
      },
      "outputs": [],
      "source": [
        "import pandas as pd\n",
        "df = pd.read_csv('emails_unificados.csv')"
      ]
    },
    {
      "cell_type": "code",
      "execution_count": null,
      "metadata": {
        "colab": {
          "base_uri": "https://localhost:8080/"
        },
        "id": "nyuzGgVHcoOU",
        "outputId": "00a84529-3f09-4b8f-dac4-a00101641498"
      },
      "outputs": [],
      "source": [
        "df.columns"
      ]
    },
    {
      "cell_type": "code",
      "execution_count": null,
      "metadata": {
        "id": "OcXXKZWKaGp9"
      },
      "outputs": [],
      "source": [
        "def extract_body_features(df):\n",
        "    # Feature 3: body_noWords (Total number of words)\n",
        "    df['body_noWords'] = df['body'].apply(lambda x: len(str(x).split()))\n",
        "\n",
        "    # Feature 4: body_noCharacters (Total number of characters)\n",
        "    df['body_noCharacters'] = df['body'].apply(lambda x: len(str(x)))\n",
        "\n",
        "    # Feature 5: body_noDistinctWords (Total number of distinct words)\n",
        "    df['body_noDistinctWords'] = df['body'].apply(lambda x: len(set(str(x).split())))\n",
        "\n",
        "    # Feature 6: body_richness (Ratio of words to characters)\n",
        "    df['body_richness'] = df['body_noWords'] / df['body_noCharacters']\n",
        "\n",
        "    # Feature 7: body_noFunctionWords (Count of specific function words)\n",
        "    function_words = [\n",
        "        'account', 'access', 'bank', 'credit', 'click', 'identity', 'inconvenience',\n",
        "        'information', 'limited', 'log', 'minutes', 'password', 'recently', 'risk',\n",
        "        'social', 'security', 'service', 'suspended',\n",
        "    ]\n",
        "    df['body_noFunctionWords'] = df['body'].apply(lambda x: sum(1 for word in str(x).split() if word.lower() in function_words))\n",
        "\n",
        "    return df\n",
        "df = extract_body_features(df)"
      ]
    },
    {
      "cell_type": "code",
      "execution_count": null,
      "metadata": {
        "colab": {
          "base_uri": "https://localhost:8080/",
          "height": 49,
          "referenced_widgets": [
            "26a4a9017438403abeb4291315811d30",
            "b6f1e61e4dea464ea62192dbeca40308",
            "fd2ad004aaf34566b90dbdfa1b8f1028",
            "437f32b5c96740a587da3fab281065b6",
            "8de0c80539ad4c7f8d2e59ae40d9a672",
            "99b2de3fba2045b8acd6b7a735b0262a",
            "eb67b11e50b246f8b90f84e7c27d4f7b",
            "a1740f8396694bfc88227f4e24eff3bb",
            "982890bfecd149da9987d4b8aa06e9ce",
            "37c91caa46814a18a30168e517aa845a",
            "76d4d5be3ba94bb8ab5279d7d1add42a"
          ]
        },
        "id": "PT8_4V2rct_H",
        "outputId": "a12700ea-0d30-464f-c5f7-b34fbbbbdda9"
      },
      "outputs": [],
      "source": [
        "#Usamos el model MiniLM-L6-v2 para generar la feature del body_text\n",
        "from sentence_transformers import SentenceTransformer\n",
        "model = SentenceTransformer('sentence-transformers/all-MiniLM-L6-v2')\n",
        "df =df.dropna(subset=['body'])\n",
        "emails=df['body'].tolist()\n",
        "embeddings = model.encode(emails, show_progress_bar=True)\n",
        "df[\"body_text\"]=embeddings.tolist()"
      ]
    },
    {
      "cell_type": "markdown",
      "metadata": {
        "id": "60ZiDdtTiUmR"
      },
      "source": [
        "Para sacar los tópicos de los correos podemos hacerlo de dos formas:\n",
        "1. BERTopic: usa embeddings contextuales para agrupar documentos, y luego re-pondera con TF-IDF para extraer términos.\n",
        "2. LDA: modelo generativo de tópicos sobre Bag-of-Words, que descubre distribuciones de palabras."
      ]
    },
    {
      "cell_type": "code",
      "execution_count": null,
      "metadata": {
        "colab": {
          "base_uri": "https://localhost:8080/"
        },
        "id": "2WzQmz1qjsGS",
        "outputId": "6548a58c-8ebf-40bc-fc90-ea760cd34f95"
      },
      "outputs": [],
      "source": [
        "%pip install gensim pyLDAvis"
      ]
    },
    {
      "cell_type": "code",
      "execution_count": null,
      "metadata": {
        "id": "mjYUg42fiACM"
      },
      "outputs": [],
      "source": [
        "import gensim\n",
        "import gensim.corpora as corpora\n",
        "from gensim.models import LdaModel\n",
        "from gensim.models.phrases import Phrases, Phraser\n",
        "from gensim.models.coherencemodel import CoherenceModel\n",
        "import pyLDAvis\n",
        "import pyLDAvis.gensim_models as gensimvis"
      ]
    },
    {
      "cell_type": "code",
      "execution_count": null,
      "metadata": {
        "id": "McVS0uVoj07p"
      },
      "outputs": [],
      "source": [
        "#Lematizamos el body del correo para aplicar el modelo LDA\n",
        "import spacy\n",
        "from nltk.corpus import stopwords\n",
        "import nltk\n",
        "import matplotlib.pyplot as plt\n",
        "import numpy as np"
      ]
    },
    {
      "cell_type": "code",
      "execution_count": null,
      "metadata": {
        "colab": {
          "base_uri": "https://localhost:8080/"
        },
        "id": "2T1z5rqHkVAk",
        "outputId": "58624e19-dc38-4161-9cce-0253063d2bbc"
      },
      "outputs": [],
      "source": [
        "nltk.download('stopwords')\n",
        "stop_words = set(stopwords.words('english'))\n",
        "nlp = spacy.load('en_core_web_sm')"
      ]
    },
    {
      "cell_type": "markdown",
      "metadata": {
        "id": "6i-PzAl_rFeL"
      },
      "source": [
        "El Coherence Score es una medida de qué tan “coherentes” aparecen los tópicos para la interpretación, basándose en la co-ocurrencia de las palabras más representativas dentro de los documentos. Nos dice cuanto de interpretables son los tópicos. Obtenemos un valor moderado."
      ]
    },
    {
      "cell_type": "code",
      "execution_count": null,
      "metadata": {
        "colab": {
          "base_uri": "https://localhost:8080/",
          "height": 488
        },
        "id": "-MkH7RQEkeP6",
        "outputId": "4e63607e-1440-44c3-b6c2-3ddeb5efd49e"
      },
      "outputs": [],
      "source": [
        "#MODELO LDA:\n",
        "texts = df['body'].astype(str).tolist()\n",
        "\n",
        "# 2) Prepara stopwords y spaCy para lematizar (igual que en el notebook)\n",
        "nlp = spacy.load('en_core_web_sm', disable=['parser','ner'])\n",
        "stop_words = set(stopwords.words('english'))\n",
        "\n",
        "def lemmatize_tokens(doc):\n",
        "    parsed = nlp(doc)\n",
        "    return [\n",
        "        token.lemma_.lower()\n",
        "        for token in parsed\n",
        "        if token.lemma_ not in stop_words\n",
        "           and token.is_alpha\n",
        "           and len(token.lemma_) > 3\n",
        "    ]\n",
        "\n",
        "data_lemm = [lemmatize_tokens(doc) for doc in texts]\n",
        "\n",
        "# 3) Detecta bigramas y aplícalos\n",
        "bigram = Phrases(data_lemm, min_count=5, threshold=100)\n",
        "bigram_mod = Phraser(bigram)\n",
        "data_words = [bigram_mod[doc] for doc in data_lemm]\n",
        "\n",
        "# 4) Crea el diccionario y el corpus de Gensim (Bag-of-Words)\n",
        "id2word = corpora.Dictionary(data_words)\n",
        "id2word.filter_extremes(no_below=15, no_above=0.5)\n",
        "corpus = [id2word.doc2bow(text) for text in data_words]\n",
        "\n",
        "# --- Promedio de coherencia sobre varias corridas ---\n",
        "k_values = list(range(10, 16))\n",
        "seeds    = [0, 7, 42, 99, 123]   # distintas semillas\n",
        "results  = {k: [] for k in k_values}\n",
        "\n",
        "for k in k_values:\n",
        "    for seed in seeds:\n",
        "        lda = LdaModel(\n",
        "            corpus=corpus,\n",
        "            id2word=id2word,\n",
        "            num_topics=k,\n",
        "            random_state=seed,\n",
        "            update_every=1,\n",
        "            chunksize=100,\n",
        "            passes=10,\n",
        "            alpha='auto'\n",
        "        )\n",
        "        cm = CoherenceModel(\n",
        "            model=lda,\n",
        "            texts=data_words,\n",
        "            dictionary=id2word,\n",
        "            coherence='c_v'\n",
        "        )\n",
        "        results[k].append(cm.get_coherence())\n",
        "\n",
        "# --- Calcular media y desviación ---\n",
        "means = [np.mean(results[k]) for k in k_values]\n",
        "stds  = [np.std(results[k])  for k in k_values]\n",
        "\n",
        "# --- Graficar con barras de error ---\n",
        "plt.figure(figsize=(8,5))\n",
        "plt.errorbar(k_values, means, yerr=stds, fmt='-o', capsize=5)\n",
        "plt.xticks(k_values)\n",
        "plt.xlabel(\"Número de tópicos (k)\")\n",
        "plt.ylabel(\"Coherence Score (c_v)\")\n",
        "plt.title(\"Coherence vs k (media ± 1σ sobre distintas semillas)\")\n",
        "plt.grid(True)\n",
        "plt.show()"
      ]
    },
    {
      "cell_type": "markdown",
      "metadata": {
        "id": "UqZjRwmWyMzI"
      },
      "source": [
        "En el k=10 obtenemos el óptimo para el número de tópicos, ya que es el que alcanza el mayor valor medio tiene y la desviación que puede producir al tomar diferentes semillas es baja."
      ]
    },
    {
      "cell_type": "code",
      "execution_count": null,
      "metadata": {
        "colab": {
          "base_uri": "https://localhost:8080/",
          "height": 1000
        },
        "id": "yXebh2Z0y44m",
        "outputId": "be40bf84-fcf9-4dbe-cf31-37892b1f9661"
      },
      "outputs": [],
      "source": [
        "#Por lo que usamos k=10 para el modelo LDA\n",
        "lda = LdaModel(\n",
        "    corpus=corpus,\n",
        "    id2word=id2word,\n",
        "    num_topics=10,\n",
        "    random_state=42,\n",
        "    chunksize=100,\n",
        "    passes=10,\n",
        "    alpha='auto',\n",
        "    eta='auto',\n",
        "    per_word_topics=True\n",
        ")\n",
        "\n",
        "# 6) Imprime los términos más representativos de cada tópico\n",
        "for idx, topic in lda.print_topics(num_topics=10, num_words=10):\n",
        "    print(f\"Tópico {idx:2d}: {topic}\")\n",
        "\n",
        "#Graficamos los topicos usando pyLDAvis\n",
        "data = gensimvis.prepare(lda, corpus, id2word)\n",
        "pyLDAvis.display(data)"
      ]
    },
    {
      "cell_type": "markdown",
      "metadata": {
        "id": "Bhz89WCSlHpc"
      },
      "source": []
    },
    {
      "cell_type": "markdown",
      "metadata": {
        "id": "-2lKHdr6iHB3"
      },
      "source": []
    }
  ],
  "metadata": {
    "accelerator": "GPU",
    "colab": {
      "authorship_tag": "ABX9TyOCx1ljOBZvOTMn4Ma2fPfL",
      "gpuType": "T4",
      "include_colab_link": true,
      "provenance": []
    },
    "kernelspec": {
      "display_name": "Python 3",
      "name": "python3"
    },
    "language_info": {
      "name": "python"
    },
    "widgets": {
      "application/vnd.jupyter.widget-state+json": {
        "26a4a9017438403abeb4291315811d30": {
          "model_module": "@jupyter-widgets/controls",
          "model_module_version": "1.5.0",
          "model_name": "HBoxModel",
          "state": {
            "_dom_classes": [],
            "_model_module": "@jupyter-widgets/controls",
            "_model_module_version": "1.5.0",
            "_model_name": "HBoxModel",
            "_view_count": null,
            "_view_module": "@jupyter-widgets/controls",
            "_view_module_version": "1.5.0",
            "_view_name": "HBoxView",
            "box_style": "",
            "children": [
              "IPY_MODEL_b6f1e61e4dea464ea62192dbeca40308",
              "IPY_MODEL_fd2ad004aaf34566b90dbdfa1b8f1028",
              "IPY_MODEL_437f32b5c96740a587da3fab281065b6"
            ],
            "layout": "IPY_MODEL_8de0c80539ad4c7f8d2e59ae40d9a672"
          }
        },
        "37c91caa46814a18a30168e517aa845a": {
          "model_module": "@jupyter-widgets/base",
          "model_module_version": "1.2.0",
          "model_name": "LayoutModel",
          "state": {
            "_model_module": "@jupyter-widgets/base",
            "_model_module_version": "1.2.0",
            "_model_name": "LayoutModel",
            "_view_count": null,
            "_view_module": "@jupyter-widgets/base",
            "_view_module_version": "1.2.0",
            "_view_name": "LayoutView",
            "align_content": null,
            "align_items": null,
            "align_self": null,
            "border": null,
            "bottom": null,
            "display": null,
            "flex": null,
            "flex_flow": null,
            "grid_area": null,
            "grid_auto_columns": null,
            "grid_auto_flow": null,
            "grid_auto_rows": null,
            "grid_column": null,
            "grid_gap": null,
            "grid_row": null,
            "grid_template_areas": null,
            "grid_template_columns": null,
            "grid_template_rows": null,
            "height": null,
            "justify_content": null,
            "justify_items": null,
            "left": null,
            "margin": null,
            "max_height": null,
            "max_width": null,
            "min_height": null,
            "min_width": null,
            "object_fit": null,
            "object_position": null,
            "order": null,
            "overflow": null,
            "overflow_x": null,
            "overflow_y": null,
            "padding": null,
            "right": null,
            "top": null,
            "visibility": null,
            "width": null
          }
        },
        "437f32b5c96740a587da3fab281065b6": {
          "model_module": "@jupyter-widgets/controls",
          "model_module_version": "1.5.0",
          "model_name": "HTMLModel",
          "state": {
            "_dom_classes": [],
            "_model_module": "@jupyter-widgets/controls",
            "_model_module_version": "1.5.0",
            "_model_name": "HTMLModel",
            "_view_count": null,
            "_view_module": "@jupyter-widgets/controls",
            "_view_module_version": "1.5.0",
            "_view_name": "HTMLView",
            "description": "",
            "description_tooltip": null,
            "layout": "IPY_MODEL_37c91caa46814a18a30168e517aa845a",
            "placeholder": "​",
            "style": "IPY_MODEL_76d4d5be3ba94bb8ab5279d7d1add42a",
            "value": " 278/278 [00:22&lt;00:00, 26.99it/s]"
          }
        },
        "76d4d5be3ba94bb8ab5279d7d1add42a": {
          "model_module": "@jupyter-widgets/controls",
          "model_module_version": "1.5.0",
          "model_name": "DescriptionStyleModel",
          "state": {
            "_model_module": "@jupyter-widgets/controls",
            "_model_module_version": "1.5.0",
            "_model_name": "DescriptionStyleModel",
            "_view_count": null,
            "_view_module": "@jupyter-widgets/base",
            "_view_module_version": "1.2.0",
            "_view_name": "StyleView",
            "description_width": ""
          }
        },
        "8de0c80539ad4c7f8d2e59ae40d9a672": {
          "model_module": "@jupyter-widgets/base",
          "model_module_version": "1.2.0",
          "model_name": "LayoutModel",
          "state": {
            "_model_module": "@jupyter-widgets/base",
            "_model_module_version": "1.2.0",
            "_model_name": "LayoutModel",
            "_view_count": null,
            "_view_module": "@jupyter-widgets/base",
            "_view_module_version": "1.2.0",
            "_view_name": "LayoutView",
            "align_content": null,
            "align_items": null,
            "align_self": null,
            "border": null,
            "bottom": null,
            "display": null,
            "flex": null,
            "flex_flow": null,
            "grid_area": null,
            "grid_auto_columns": null,
            "grid_auto_flow": null,
            "grid_auto_rows": null,
            "grid_column": null,
            "grid_gap": null,
            "grid_row": null,
            "grid_template_areas": null,
            "grid_template_columns": null,
            "grid_template_rows": null,
            "height": null,
            "justify_content": null,
            "justify_items": null,
            "left": null,
            "margin": null,
            "max_height": null,
            "max_width": null,
            "min_height": null,
            "min_width": null,
            "object_fit": null,
            "object_position": null,
            "order": null,
            "overflow": null,
            "overflow_x": null,
            "overflow_y": null,
            "padding": null,
            "right": null,
            "top": null,
            "visibility": null,
            "width": null
          }
        },
        "982890bfecd149da9987d4b8aa06e9ce": {
          "model_module": "@jupyter-widgets/controls",
          "model_module_version": "1.5.0",
          "model_name": "ProgressStyleModel",
          "state": {
            "_model_module": "@jupyter-widgets/controls",
            "_model_module_version": "1.5.0",
            "_model_name": "ProgressStyleModel",
            "_view_count": null,
            "_view_module": "@jupyter-widgets/base",
            "_view_module_version": "1.2.0",
            "_view_name": "StyleView",
            "bar_color": null,
            "description_width": ""
          }
        },
        "99b2de3fba2045b8acd6b7a735b0262a": {
          "model_module": "@jupyter-widgets/base",
          "model_module_version": "1.2.0",
          "model_name": "LayoutModel",
          "state": {
            "_model_module": "@jupyter-widgets/base",
            "_model_module_version": "1.2.0",
            "_model_name": "LayoutModel",
            "_view_count": null,
            "_view_module": "@jupyter-widgets/base",
            "_view_module_version": "1.2.0",
            "_view_name": "LayoutView",
            "align_content": null,
            "align_items": null,
            "align_self": null,
            "border": null,
            "bottom": null,
            "display": null,
            "flex": null,
            "flex_flow": null,
            "grid_area": null,
            "grid_auto_columns": null,
            "grid_auto_flow": null,
            "grid_auto_rows": null,
            "grid_column": null,
            "grid_gap": null,
            "grid_row": null,
            "grid_template_areas": null,
            "grid_template_columns": null,
            "grid_template_rows": null,
            "height": null,
            "justify_content": null,
            "justify_items": null,
            "left": null,
            "margin": null,
            "max_height": null,
            "max_width": null,
            "min_height": null,
            "min_width": null,
            "object_fit": null,
            "object_position": null,
            "order": null,
            "overflow": null,
            "overflow_x": null,
            "overflow_y": null,
            "padding": null,
            "right": null,
            "top": null,
            "visibility": null,
            "width": null
          }
        },
        "a1740f8396694bfc88227f4e24eff3bb": {
          "model_module": "@jupyter-widgets/base",
          "model_module_version": "1.2.0",
          "model_name": "LayoutModel",
          "state": {
            "_model_module": "@jupyter-widgets/base",
            "_model_module_version": "1.2.0",
            "_model_name": "LayoutModel",
            "_view_count": null,
            "_view_module": "@jupyter-widgets/base",
            "_view_module_version": "1.2.0",
            "_view_name": "LayoutView",
            "align_content": null,
            "align_items": null,
            "align_self": null,
            "border": null,
            "bottom": null,
            "display": null,
            "flex": null,
            "flex_flow": null,
            "grid_area": null,
            "grid_auto_columns": null,
            "grid_auto_flow": null,
            "grid_auto_rows": null,
            "grid_column": null,
            "grid_gap": null,
            "grid_row": null,
            "grid_template_areas": null,
            "grid_template_columns": null,
            "grid_template_rows": null,
            "height": null,
            "justify_content": null,
            "justify_items": null,
            "left": null,
            "margin": null,
            "max_height": null,
            "max_width": null,
            "min_height": null,
            "min_width": null,
            "object_fit": null,
            "object_position": null,
            "order": null,
            "overflow": null,
            "overflow_x": null,
            "overflow_y": null,
            "padding": null,
            "right": null,
            "top": null,
            "visibility": null,
            "width": null
          }
        },
        "b6f1e61e4dea464ea62192dbeca40308": {
          "model_module": "@jupyter-widgets/controls",
          "model_module_version": "1.5.0",
          "model_name": "HTMLModel",
          "state": {
            "_dom_classes": [],
            "_model_module": "@jupyter-widgets/controls",
            "_model_module_version": "1.5.0",
            "_model_name": "HTMLModel",
            "_view_count": null,
            "_view_module": "@jupyter-widgets/controls",
            "_view_module_version": "1.5.0",
            "_view_name": "HTMLView",
            "description": "",
            "description_tooltip": null,
            "layout": "IPY_MODEL_99b2de3fba2045b8acd6b7a735b0262a",
            "placeholder": "​",
            "style": "IPY_MODEL_eb67b11e50b246f8b90f84e7c27d4f7b",
            "value": "Batches: 100%"
          }
        },
        "eb67b11e50b246f8b90f84e7c27d4f7b": {
          "model_module": "@jupyter-widgets/controls",
          "model_module_version": "1.5.0",
          "model_name": "DescriptionStyleModel",
          "state": {
            "_model_module": "@jupyter-widgets/controls",
            "_model_module_version": "1.5.0",
            "_model_name": "DescriptionStyleModel",
            "_view_count": null,
            "_view_module": "@jupyter-widgets/base",
            "_view_module_version": "1.2.0",
            "_view_name": "StyleView",
            "description_width": ""
          }
        },
        "fd2ad004aaf34566b90dbdfa1b8f1028": {
          "model_module": "@jupyter-widgets/controls",
          "model_module_version": "1.5.0",
          "model_name": "FloatProgressModel",
          "state": {
            "_dom_classes": [],
            "_model_module": "@jupyter-widgets/controls",
            "_model_module_version": "1.5.0",
            "_model_name": "FloatProgressModel",
            "_view_count": null,
            "_view_module": "@jupyter-widgets/controls",
            "_view_module_version": "1.5.0",
            "_view_name": "ProgressView",
            "bar_style": "success",
            "description": "",
            "description_tooltip": null,
            "layout": "IPY_MODEL_a1740f8396694bfc88227f4e24eff3bb",
            "max": 278,
            "min": 0,
            "orientation": "horizontal",
            "style": "IPY_MODEL_982890bfecd149da9987d4b8aa06e9ce",
            "value": 278
          }
        }
      }
    }
  },
  "nbformat": 4,
  "nbformat_minor": 0
}
