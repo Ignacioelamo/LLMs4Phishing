{
  "nbformat": 4,
  "nbformat_minor": 0,
  "metadata": {
    "colab": {
      "provenance": [],
      "gpuType": "T4",
      "authorship_tag": "ABX9TyOCx1ljOBZvOTMn4Ma2fPfL",
      "include_colab_link": true
    },
    "kernelspec": {
      "name": "python3",
      "display_name": "Python 3"
    },
    "language_info": {
      "name": "python"
    },
    "accelerator": "GPU",
    "widgets": {
      "application/vnd.jupyter.widget-state+json": {
        "26a4a9017438403abeb4291315811d30": {
          "model_module": "@jupyter-widgets/controls",
          "model_name": "HBoxModel",
          "model_module_version": "1.5.0",
          "state": {
            "_dom_classes": [],
            "_model_module": "@jupyter-widgets/controls",
            "_model_module_version": "1.5.0",
            "_model_name": "HBoxModel",
            "_view_count": null,
            "_view_module": "@jupyter-widgets/controls",
            "_view_module_version": "1.5.0",
            "_view_name": "HBoxView",
            "box_style": "",
            "children": [
              "IPY_MODEL_b6f1e61e4dea464ea62192dbeca40308",
              "IPY_MODEL_fd2ad004aaf34566b90dbdfa1b8f1028",
              "IPY_MODEL_437f32b5c96740a587da3fab281065b6"
            ],
            "layout": "IPY_MODEL_8de0c80539ad4c7f8d2e59ae40d9a672"
          }
        },
        "b6f1e61e4dea464ea62192dbeca40308": {
          "model_module": "@jupyter-widgets/controls",
          "model_name": "HTMLModel",
          "model_module_version": "1.5.0",
          "state": {
            "_dom_classes": [],
            "_model_module": "@jupyter-widgets/controls",
            "_model_module_version": "1.5.0",
            "_model_name": "HTMLModel",
            "_view_count": null,
            "_view_module": "@jupyter-widgets/controls",
            "_view_module_version": "1.5.0",
            "_view_name": "HTMLView",
            "description": "",
            "description_tooltip": null,
            "layout": "IPY_MODEL_99b2de3fba2045b8acd6b7a735b0262a",
            "placeholder": "​",
            "style": "IPY_MODEL_eb67b11e50b246f8b90f84e7c27d4f7b",
            "value": "Batches: 100%"
          }
        },
        "fd2ad004aaf34566b90dbdfa1b8f1028": {
          "model_module": "@jupyter-widgets/controls",
          "model_name": "FloatProgressModel",
          "model_module_version": "1.5.0",
          "state": {
            "_dom_classes": [],
            "_model_module": "@jupyter-widgets/controls",
            "_model_module_version": "1.5.0",
            "_model_name": "FloatProgressModel",
            "_view_count": null,
            "_view_module": "@jupyter-widgets/controls",
            "_view_module_version": "1.5.0",
            "_view_name": "ProgressView",
            "bar_style": "success",
            "description": "",
            "description_tooltip": null,
            "layout": "IPY_MODEL_a1740f8396694bfc88227f4e24eff3bb",
            "max": 278,
            "min": 0,
            "orientation": "horizontal",
            "style": "IPY_MODEL_982890bfecd149da9987d4b8aa06e9ce",
            "value": 278
          }
        },
        "437f32b5c96740a587da3fab281065b6": {
          "model_module": "@jupyter-widgets/controls",
          "model_name": "HTMLModel",
          "model_module_version": "1.5.0",
          "state": {
            "_dom_classes": [],
            "_model_module": "@jupyter-widgets/controls",
            "_model_module_version": "1.5.0",
            "_model_name": "HTMLModel",
            "_view_count": null,
            "_view_module": "@jupyter-widgets/controls",
            "_view_module_version": "1.5.0",
            "_view_name": "HTMLView",
            "description": "",
            "description_tooltip": null,
            "layout": "IPY_MODEL_37c91caa46814a18a30168e517aa845a",
            "placeholder": "​",
            "style": "IPY_MODEL_76d4d5be3ba94bb8ab5279d7d1add42a",
            "value": " 278/278 [00:22&lt;00:00, 26.99it/s]"
          }
        },
        "8de0c80539ad4c7f8d2e59ae40d9a672": {
          "model_module": "@jupyter-widgets/base",
          "model_name": "LayoutModel",
          "model_module_version": "1.2.0",
          "state": {
            "_model_module": "@jupyter-widgets/base",
            "_model_module_version": "1.2.0",
            "_model_name": "LayoutModel",
            "_view_count": null,
            "_view_module": "@jupyter-widgets/base",
            "_view_module_version": "1.2.0",
            "_view_name": "LayoutView",
            "align_content": null,
            "align_items": null,
            "align_self": null,
            "border": null,
            "bottom": null,
            "display": null,
            "flex": null,
            "flex_flow": null,
            "grid_area": null,
            "grid_auto_columns": null,
            "grid_auto_flow": null,
            "grid_auto_rows": null,
            "grid_column": null,
            "grid_gap": null,
            "grid_row": null,
            "grid_template_areas": null,
            "grid_template_columns": null,
            "grid_template_rows": null,
            "height": null,
            "justify_content": null,
            "justify_items": null,
            "left": null,
            "margin": null,
            "max_height": null,
            "max_width": null,
            "min_height": null,
            "min_width": null,
            "object_fit": null,
            "object_position": null,
            "order": null,
            "overflow": null,
            "overflow_x": null,
            "overflow_y": null,
            "padding": null,
            "right": null,
            "top": null,
            "visibility": null,
            "width": null
          }
        },
        "99b2de3fba2045b8acd6b7a735b0262a": {
          "model_module": "@jupyter-widgets/base",
          "model_name": "LayoutModel",
          "model_module_version": "1.2.0",
          "state": {
            "_model_module": "@jupyter-widgets/base",
            "_model_module_version": "1.2.0",
            "_model_name": "LayoutModel",
            "_view_count": null,
            "_view_module": "@jupyter-widgets/base",
            "_view_module_version": "1.2.0",
            "_view_name": "LayoutView",
            "align_content": null,
            "align_items": null,
            "align_self": null,
            "border": null,
            "bottom": null,
            "display": null,
            "flex": null,
            "flex_flow": null,
            "grid_area": null,
            "grid_auto_columns": null,
            "grid_auto_flow": null,
            "grid_auto_rows": null,
            "grid_column": null,
            "grid_gap": null,
            "grid_row": null,
            "grid_template_areas": null,
            "grid_template_columns": null,
            "grid_template_rows": null,
            "height": null,
            "justify_content": null,
            "justify_items": null,
            "left": null,
            "margin": null,
            "max_height": null,
            "max_width": null,
            "min_height": null,
            "min_width": null,
            "object_fit": null,
            "object_position": null,
            "order": null,
            "overflow": null,
            "overflow_x": null,
            "overflow_y": null,
            "padding": null,
            "right": null,
            "top": null,
            "visibility": null,
            "width": null
          }
        },
        "eb67b11e50b246f8b90f84e7c27d4f7b": {
          "model_module": "@jupyter-widgets/controls",
          "model_name": "DescriptionStyleModel",
          "model_module_version": "1.5.0",
          "state": {
            "_model_module": "@jupyter-widgets/controls",
            "_model_module_version": "1.5.0",
            "_model_name": "DescriptionStyleModel",
            "_view_count": null,
            "_view_module": "@jupyter-widgets/base",
            "_view_module_version": "1.2.0",
            "_view_name": "StyleView",
            "description_width": ""
          }
        },
        "a1740f8396694bfc88227f4e24eff3bb": {
          "model_module": "@jupyter-widgets/base",
          "model_name": "LayoutModel",
          "model_module_version": "1.2.0",
          "state": {
            "_model_module": "@jupyter-widgets/base",
            "_model_module_version": "1.2.0",
            "_model_name": "LayoutModel",
            "_view_count": null,
            "_view_module": "@jupyter-widgets/base",
            "_view_module_version": "1.2.0",
            "_view_name": "LayoutView",
            "align_content": null,
            "align_items": null,
            "align_self": null,
            "border": null,
            "bottom": null,
            "display": null,
            "flex": null,
            "flex_flow": null,
            "grid_area": null,
            "grid_auto_columns": null,
            "grid_auto_flow": null,
            "grid_auto_rows": null,
            "grid_column": null,
            "grid_gap": null,
            "grid_row": null,
            "grid_template_areas": null,
            "grid_template_columns": null,
            "grid_template_rows": null,
            "height": null,
            "justify_content": null,
            "justify_items": null,
            "left": null,
            "margin": null,
            "max_height": null,
            "max_width": null,
            "min_height": null,
            "min_width": null,
            "object_fit": null,
            "object_position": null,
            "order": null,
            "overflow": null,
            "overflow_x": null,
            "overflow_y": null,
            "padding": null,
            "right": null,
            "top": null,
            "visibility": null,
            "width": null
          }
        },
        "982890bfecd149da9987d4b8aa06e9ce": {
          "model_module": "@jupyter-widgets/controls",
          "model_name": "ProgressStyleModel",
          "model_module_version": "1.5.0",
          "state": {
            "_model_module": "@jupyter-widgets/controls",
            "_model_module_version": "1.5.0",
            "_model_name": "ProgressStyleModel",
            "_view_count": null,
            "_view_module": "@jupyter-widgets/base",
            "_view_module_version": "1.2.0",
            "_view_name": "StyleView",
            "bar_color": null,
            "description_width": ""
          }
        },
        "37c91caa46814a18a30168e517aa845a": {
          "model_module": "@jupyter-widgets/base",
          "model_name": "LayoutModel",
          "model_module_version": "1.2.0",
          "state": {
            "_model_module": "@jupyter-widgets/base",
            "_model_module_version": "1.2.0",
            "_model_name": "LayoutModel",
            "_view_count": null,
            "_view_module": "@jupyter-widgets/base",
            "_view_module_version": "1.2.0",
            "_view_name": "LayoutView",
            "align_content": null,
            "align_items": null,
            "align_self": null,
            "border": null,
            "bottom": null,
            "display": null,
            "flex": null,
            "flex_flow": null,
            "grid_area": null,
            "grid_auto_columns": null,
            "grid_auto_flow": null,
            "grid_auto_rows": null,
            "grid_column": null,
            "grid_gap": null,
            "grid_row": null,
            "grid_template_areas": null,
            "grid_template_columns": null,
            "grid_template_rows": null,
            "height": null,
            "justify_content": null,
            "justify_items": null,
            "left": null,
            "margin": null,
            "max_height": null,
            "max_width": null,
            "min_height": null,
            "min_width": null,
            "object_fit": null,
            "object_position": null,
            "order": null,
            "overflow": null,
            "overflow_x": null,
            "overflow_y": null,
            "padding": null,
            "right": null,
            "top": null,
            "visibility": null,
            "width": null
          }
        },
        "76d4d5be3ba94bb8ab5279d7d1add42a": {
          "model_module": "@jupyter-widgets/controls",
          "model_name": "DescriptionStyleModel",
          "model_module_version": "1.5.0",
          "state": {
            "_model_module": "@jupyter-widgets/controls",
            "_model_module_version": "1.5.0",
            "_model_name": "DescriptionStyleModel",
            "_view_count": null,
            "_view_module": "@jupyter-widgets/base",
            "_view_module_version": "1.2.0",
            "_view_name": "StyleView",
            "description_width": ""
          }
        }
      }
    }
  },
  "cells": [
    {
      "cell_type": "markdown",
      "metadata": {
        "id": "view-in-github",
        "colab_type": "text"
      },
      "source": [
        "<a href=\"https://colab.research.google.com/github/Ignacioelamo/LLMs4Phishing/blob/main/02_Extracci%C3%B3n_caracter%C3%ADsticas.ipynb\" target=\"_parent\"><img src=\"https://colab.research.google.com/assets/colab-badge.svg\" alt=\"Open In Colab\"/></a>"
      ]
    },
    {
      "cell_type": "markdown",
      "source": [
        "## Extracción de las características del cuerpo del correo:\n",
        "1. **body_html=contains_html**: This is a binary feature that represents the presence of HTML in the email body.  \n",
        "2. **body_forms**: This binary feature represents the presence of forms in HTML email bodies.\n",
        "3. **body_noWords**: This feature measures the total number of words occurring in the email.\n",
        "4.  **body_noCharacters**: This feature measures the total number of characters occurring in the email body.\n",
        "5.  **body_noDistinctWords**: This feature measures the total number of distinct words occurring in the body of the email.  \n",
        "6. **body_richness**: The richness is defined as the ratio of the number of words to the number of characters in the document.\n",
        "$$\n",
        "\\text{body_richness} = \\frac{\\text{body_noWords}}{\\text{body_noCharacters}}\n",
        "$$\n",
        "8. **body_noFunctionWords** Chandrasekaran [6] also listed a set of function words that included:  \n",
        "`account`, `access`, `bank`, `credit`, `click`, `identity`, `inconvenience`, `information`, `limited`, `log`, `minutes`, `password`, `recently`, `risk`, `social`, `security`, `service`, and `suspended`.  The `body_noFunctionWords` feature measures the total number of occurrences of these function words in the email body.\n",
        "9. **body_suspension** This binary feature represents the presence of the word **\"suspension\"** in the body of the email.  \n",
        "10.  **body_verifyYourAccount** This binary feature represents the presence of the phrase **\"verify your account\"** in the body of the email.\n",
        "11. **body_text** contains information regarding the context and purpose of an email. For this, we extract the plain text from the email body and use word embedding techniques to represent it.\n",
        "\n",
        "Añadimos las features que ya teníamos: has_attachment, contains_html, urls."
      ],
      "metadata": {
        "id": "2utZUICUZ6C3"
      }
    },
    {
      "cell_type": "code",
      "source": [
        "#Es necesario la version de numpy= 1.26.4\n",
        "#%pip install --upgrade --force-reinstall numpy==1.26.4 pandas"
      ],
      "metadata": {
        "id": "3thkqU3Kjgfr"
      },
      "execution_count": null,
      "outputs": []
    },
    {
      "cell_type": "code",
      "source": [
        "import pandas as pd\n",
        "df = pd.read_csv('emails_unificados.csv')"
      ],
      "metadata": {
        "id": "aqwO-CXHb5w3"
      },
      "execution_count": 1,
      "outputs": []
    },
    {
      "cell_type": "code",
      "source": [
        "df.columns"
      ],
      "metadata": {
        "colab": {
          "base_uri": "https://localhost:8080/"
        },
        "id": "nyuzGgVHcoOU",
        "outputId": "00a84529-3f09-4b8f-dac4-a00101641498"
      },
      "execution_count": 2,
      "outputs": [
        {
          "output_type": "execute_result",
          "data": {
            "text/plain": [
              "Index(['label', 'subject', 'body', 'source'], dtype='object')"
            ]
          },
          "metadata": {},
          "execution_count": 2
        }
      ]
    },
    {
      "cell_type": "code",
      "source": [
        "def extract_body_features(df):\n",
        "    # Feature 3: body_noWords (Total number of words)\n",
        "    df['body_noWords'] = df['body'].apply(lambda x: len(str(x).split()))\n",
        "\n",
        "    # Feature 4: body_noCharacters (Total number of characters)\n",
        "    df['body_noCharacters'] = df['body'].apply(lambda x: len(str(x)))\n",
        "\n",
        "    # Feature 5: body_noDistinctWords (Total number of distinct words)\n",
        "    df['body_noDistinctWords'] = df['body'].apply(lambda x: len(set(str(x).split())))\n",
        "\n",
        "    # Feature 6: body_richness (Ratio of words to characters)\n",
        "    df['body_richness'] = df['body_noWords'] / df['body_noCharacters']\n",
        "\n",
        "    # Feature 7: body_noFunctionWords (Count of specific function words)\n",
        "    function_words = [\n",
        "        'account', 'access', 'bank', 'credit', 'click', 'identity', 'inconvenience',\n",
        "        'information', 'limited', 'log', 'minutes', 'password', 'recently', 'risk',\n",
        "        'social', 'security', 'service', 'suspended',\n",
        "    ]\n",
        "    df['body_noFunctionWords'] = df['body'].apply(lambda x: sum(1 for word in str(x).split() if word.lower() in function_words))\n",
        "\n",
        "    return df\n",
        "df = extract_body_features(df)"
      ],
      "metadata": {
        "id": "OcXXKZWKaGp9"
      },
      "execution_count": 3,
      "outputs": []
    },
    {
      "cell_type": "code",
      "source": [
        "#Usamos el model MiniLM-L6-v2 para generar la feature del body_text\n",
        "from sentence_transformers import SentenceTransformer\n",
        "model = SentenceTransformer('sentence-transformers/all-MiniLM-L6-v2')\n",
        "df =df.dropna(subset=['body'])\n",
        "emails=df['body'].tolist()\n",
        "embeddings = model.encode(emails, show_progress_bar=True)\n",
        "df[\"body_text\"]=embeddings.tolist()"
      ],
      "metadata": {
        "colab": {
          "base_uri": "https://localhost:8080/",
          "height": 49,
          "referenced_widgets": [
            "26a4a9017438403abeb4291315811d30",
            "b6f1e61e4dea464ea62192dbeca40308",
            "fd2ad004aaf34566b90dbdfa1b8f1028",
            "437f32b5c96740a587da3fab281065b6",
            "8de0c80539ad4c7f8d2e59ae40d9a672",
            "99b2de3fba2045b8acd6b7a735b0262a",
            "eb67b11e50b246f8b90f84e7c27d4f7b",
            "a1740f8396694bfc88227f4e24eff3bb",
            "982890bfecd149da9987d4b8aa06e9ce",
            "37c91caa46814a18a30168e517aa845a",
            "76d4d5be3ba94bb8ab5279d7d1add42a"
          ]
        },
        "id": "PT8_4V2rct_H",
        "outputId": "a12700ea-0d30-464f-c5f7-b34fbbbbdda9"
      },
      "execution_count": 5,
      "outputs": [
        {
          "output_type": "display_data",
          "data": {
            "text/plain": [
              "Batches:   0%|          | 0/278 [00:00<?, ?it/s]"
            ],
            "application/vnd.jupyter.widget-view+json": {
              "version_major": 2,
              "version_minor": 0,
              "model_id": "26a4a9017438403abeb4291315811d30"
            }
          },
          "metadata": {}
        }
      ]
    },
    {
      "cell_type": "markdown",
      "source": [
        "Para sacar los tópicos de los correos podemos hacerlo de dos formas:\n",
        "1. BERTopic: usa embeddings contextuales para agrupar documentos, y luego re-pondera con TF-IDF para extraer términos.\n",
        "2. LDA: modelo generativo de tópicos sobre Bag-of-Words, que descubre distribuciones de palabras."
      ],
      "metadata": {
        "id": "60ZiDdtTiUmR"
      }
    },
    {
      "cell_type": "code",
      "source": [
        "%pip install gensim pyLDAvis"
      ],
      "metadata": {
        "colab": {
          "base_uri": "https://localhost:8080/"
        },
        "id": "2WzQmz1qjsGS",
        "outputId": "6548a58c-8ebf-40bc-fc90-ea760cd34f95"
      },
      "execution_count": 4,
      "outputs": [
        {
          "output_type": "stream",
          "name": "stdout",
          "text": [
            "Requirement already satisfied: gensim in /usr/local/lib/python3.11/dist-packages (4.3.3)\n",
            "Requirement already satisfied: pyLDAvis in /usr/local/lib/python3.11/dist-packages (3.4.1)\n",
            "Requirement already satisfied: numpy<2.0,>=1.18.5 in /usr/local/lib/python3.11/dist-packages (from gensim) (1.26.4)\n",
            "Requirement already satisfied: scipy<1.14.0,>=1.7.0 in /usr/local/lib/python3.11/dist-packages (from gensim) (1.13.1)\n",
            "Requirement already satisfied: smart-open>=1.8.1 in /usr/local/lib/python3.11/dist-packages (from gensim) (7.1.0)\n",
            "Requirement already satisfied: pandas>=2.0.0 in /usr/local/lib/python3.11/dist-packages (from pyLDAvis) (2.2.3)\n",
            "Requirement already satisfied: joblib>=1.2.0 in /usr/local/lib/python3.11/dist-packages (from pyLDAvis) (1.5.0)\n",
            "Requirement already satisfied: jinja2 in /usr/local/lib/python3.11/dist-packages (from pyLDAvis) (3.1.6)\n",
            "Requirement already satisfied: numexpr in /usr/local/lib/python3.11/dist-packages (from pyLDAvis) (2.10.2)\n",
            "Requirement already satisfied: funcy in /usr/local/lib/python3.11/dist-packages (from pyLDAvis) (2.0)\n",
            "Requirement already satisfied: scikit-learn>=1.0.0 in /usr/local/lib/python3.11/dist-packages (from pyLDAvis) (1.6.1)\n",
            "Requirement already satisfied: setuptools in /usr/local/lib/python3.11/dist-packages (from pyLDAvis) (75.2.0)\n",
            "Requirement already satisfied: python-dateutil>=2.8.2 in /usr/local/lib/python3.11/dist-packages (from pandas>=2.0.0->pyLDAvis) (2.9.0.post0)\n",
            "Requirement already satisfied: pytz>=2020.1 in /usr/local/lib/python3.11/dist-packages (from pandas>=2.0.0->pyLDAvis) (2025.2)\n",
            "Requirement already satisfied: tzdata>=2022.7 in /usr/local/lib/python3.11/dist-packages (from pandas>=2.0.0->pyLDAvis) (2025.2)\n",
            "Requirement already satisfied: threadpoolctl>=3.1.0 in /usr/local/lib/python3.11/dist-packages (from scikit-learn>=1.0.0->pyLDAvis) (3.6.0)\n",
            "Requirement already satisfied: wrapt in /usr/local/lib/python3.11/dist-packages (from smart-open>=1.8.1->gensim) (1.17.2)\n",
            "Requirement already satisfied: MarkupSafe>=2.0 in /usr/local/lib/python3.11/dist-packages (from jinja2->pyLDAvis) (3.0.2)\n",
            "Requirement already satisfied: six>=1.5 in /usr/local/lib/python3.11/dist-packages (from python-dateutil>=2.8.2->pandas>=2.0.0->pyLDAvis) (1.17.0)\n"
          ]
        }
      ]
    },
    {
      "cell_type": "code",
      "source": [
        "import gensim\n",
        "import gensim.corpora as corpora\n",
        "from gensim.models import LdaModel\n",
        "from gensim.models.phrases import Phrases, Phraser\n",
        "from gensim.models.coherencemodel import CoherenceModel\n",
        "import pyLDAvis\n",
        "import pyLDAvis.gensim_models as gensimvis"
      ],
      "metadata": {
        "id": "mjYUg42fiACM"
      },
      "execution_count": 5,
      "outputs": []
    },
    {
      "cell_type": "code",
      "source": [
        "#Lematizamos el body del correo para aplicar el modelo LDA\n",
        "import spacy\n",
        "from nltk.corpus import stopwords\n",
        "import nltk\n",
        "import matplotlib.pyplot as plt\n",
        "import numpy as np"
      ],
      "metadata": {
        "id": "McVS0uVoj07p"
      },
      "execution_count": 9,
      "outputs": []
    },
    {
      "cell_type": "code",
      "source": [
        "nltk.download('stopwords')\n",
        "stop_words = set(stopwords.words('english'))\n",
        "nlp = spacy.load('en_core_web_sm')"
      ],
      "metadata": {
        "colab": {
          "base_uri": "https://localhost:8080/"
        },
        "id": "2T1z5rqHkVAk",
        "outputId": "58624e19-dc38-4161-9cce-0253063d2bbc"
      },
      "execution_count": 10,
      "outputs": [
        {
          "output_type": "stream",
          "name": "stderr",
          "text": [
            "[nltk_data] Downloading package stopwords to /root/nltk_data...\n",
            "[nltk_data]   Unzipping corpora/stopwords.zip.\n"
          ]
        }
      ]
    },
    {
      "cell_type": "markdown",
      "source": [
        "El Coherence Score es una medida de qué tan “coherentes” aparecen los tópicos para la interpretación, basándose en la co-ocurrencia de las palabras más representativas dentro de los documentos. Nos dice cuanto de interpretables son los tópicos. Obtenemos un valor moderado."
      ],
      "metadata": {
        "id": "6i-PzAl_rFeL"
      }
    },
    {
      "cell_type": "code",
      "source": [
        "#MODELO LDA:\n",
        "texts = df['body'].astype(str).tolist()\n",
        "\n",
        "# 2) Prepara stopwords y spaCy para lematizar (igual que en el notebook)\n",
        "nlp = spacy.load('en_core_web_sm', disable=['parser','ner'])\n",
        "stop_words = set(stopwords.words('english'))\n",
        "\n",
        "def lemmatize_tokens(doc):\n",
        "    parsed = nlp(doc)\n",
        "    return [\n",
        "        token.lemma_.lower()\n",
        "        for token in parsed\n",
        "        if token.lemma_ not in stop_words\n",
        "           and token.is_alpha\n",
        "           and len(token.lemma_) > 3\n",
        "    ]\n",
        "\n",
        "data_lemm = [lemmatize_tokens(doc) for doc in texts]\n",
        "\n",
        "# 3) Detecta bigramas y aplícalos\n",
        "bigram = Phrases(data_lemm, min_count=5, threshold=100)\n",
        "bigram_mod = Phraser(bigram)\n",
        "data_words = [bigram_mod[doc] for doc in data_lemm]\n",
        "\n",
        "# 4) Crea el diccionario y el corpus de Gensim (Bag-of-Words)\n",
        "id2word = corpora.Dictionary(data_words)\n",
        "id2word.filter_extremes(no_below=15, no_above=0.5)\n",
        "corpus = [id2word.doc2bow(text) for text in data_words]\n",
        "\n",
        "# --- Promedio de coherencia sobre varias corridas ---\n",
        "k_values = list(range(10, 16))\n",
        "seeds    = [0, 7, 42, 99, 123]   # distintas semillas\n",
        "results  = {k: [] for k in k_values}\n",
        "\n",
        "for k in k_values:\n",
        "    for seed in seeds:\n",
        "        lda = LdaModel(\n",
        "            corpus=corpus,\n",
        "            id2word=id2word,\n",
        "            num_topics=k,\n",
        "            random_state=seed,\n",
        "            update_every=1,\n",
        "            chunksize=100,\n",
        "            passes=10,\n",
        "            alpha='auto'\n",
        "        )\n",
        "        cm = CoherenceModel(\n",
        "            model=lda,\n",
        "            texts=data_words,\n",
        "            dictionary=id2word,\n",
        "            coherence='c_v'\n",
        "        )\n",
        "        results[k].append(cm.get_coherence())\n",
        "\n",
        "# --- Calcular media y desviación ---\n",
        "means = [np.mean(results[k]) for k in k_values]\n",
        "stds  = [np.std(results[k])  for k in k_values]\n",
        "\n",
        "# --- Graficar con barras de error ---\n",
        "plt.figure(figsize=(8,5))\n",
        "plt.errorbar(k_values, means, yerr=stds, fmt='-o', capsize=5)\n",
        "plt.xticks(k_values)\n",
        "plt.xlabel(\"Número de tópicos (k)\")\n",
        "plt.ylabel(\"Coherence Score (c_v)\")\n",
        "plt.title(\"Coherence vs k (media ± 1σ sobre distintas semillas)\")\n",
        "plt.grid(True)\n",
        "plt.show()"
      ],
      "metadata": {
        "colab": {
          "base_uri": "https://localhost:8080/",
          "height": 488
        },
        "id": "-MkH7RQEkeP6",
        "outputId": "4e63607e-1440-44c3-b6c2-3ddeb5efd49e"
      },
      "execution_count": 16,
      "outputs": [
        {
          "output_type": "display_data",
          "data": {
            "text/plain": [
              "<Figure size 800x500 with 1 Axes>"
            ],
            "image/png": "[encoded data removed]"
          },
          "metadata": {}
        }
      ]
    },
    {
      "cell_type": "markdown",
      "source": [
        "En el k=10 obtenemos el óptimo para el número de tópicos, ya que es el que alcanza el mayor valor medio tiene y la desviación que puede producir al tomar diferentes semillas es baja."
      ],
      "metadata": {
        "id": "UqZjRwmWyMzI"
      }
    },
    {
      "cell_type": "code",
      "source": [
        "#Por lo que usamos k=10 para el modelo LDA\n",
        "lda = LdaModel(\n",
        "    corpus=corpus,\n",
        "    id2word=id2word,\n",
        "    num_topics=10,\n",
        "    random_state=42,\n",
        "    chunksize=100,\n",
        "    passes=10,\n",
        "    alpha='auto',\n",
        "    eta='auto',\n",
        "    per_word_topics=True\n",
        ")\n",
        "\n",
        "# 6) Imprime los términos más representativos de cada tópico\n",
        "for idx, topic in lda.print_topics(num_topics=10, num_words=10):\n",
        "    print(f\"Tópico {idx:2d}: {topic}\")\n",
        "\n",
        "#Graficamos los topicos usando pyLDAvis\n",
        "data = gensimvis.prepare(lda, corpus, id2word)\n",
        "pyLDAvis.display(data)"
      ],
      "metadata": {
        "colab": {
          "base_uri": "https://localhost:8080/",
          "height": 1000
        },
        "id": "yXebh2Z0y44m",
        "outputId": "be40bf84-fcf9-4dbe-cf31-37892b1f9661"
      },
      "execution_count": 17,
      "outputs": [
        {
          "output_type": "stream",
          "name": "stdout",
          "text": [
            "Tópico  0: 0.090*\"account\" + 0.061*\"email\" + 0.047*\"please\" + 0.041*\"mail\" + 0.032*\"message\" + 0.026*\"send\" + 0.026*\"information\" + 0.025*\"click\" + 0.025*\"contact\" + 0.025*\"fund\"\n",
            "Tópico  1: 0.028*\"user\" + 0.025*\"notice\" + 0.025*\"total\" + 0.021*\"since\" + 0.021*\"back\" + 0.020*\"content\" + 0.018*\"release\" + 0.018*\"client\" + 0.018*\"family\" + 0.018*\"partner\"\n",
            "Tópico  2: 0.059*\"dear\" + 0.046*\"money\" + 0.045*\"security\" + 0.028*\"customer\" + 0.027*\"detail\" + 0.021*\"online\" + 0.020*\"help\" + 0.018*\"secure\" + 0.016*\"order\" + 0.015*\"deposit\"\n",
            "Tópico  3: 0.027*\"bank\" + 0.024*\"thank\" + 0.016*\"verify\" + 0.014*\"company\" + 0.014*\"need\" + 0.013*\"transaction\" + 0.013*\"list\" + 0.012*\"investment\" + 0.011*\"give\" + 0.011*\"make\"\n",
            "Tópico  4: 0.083*\"transfer\" + 0.048*\"assistance\" + 0.042*\"language\" + 0.030*\"interested\" + 0.026*\"state\" + 0.023*\"linguistic\" + 0.021*\"move\" + 0.021*\"project\" + 0.020*\"attachment\" + 0.018*\"government\"\n",
            "Tópico  5: 0.179*\"point\" + 0.127*\"telephone\" + 0.070*\"young\" + 0.064*\"french\" + 0.044*\"daily\" + 0.043*\"solely\" + 0.042*\"warm\" + 0.034*\"import_export\" + 0.031*\"popular\" + 0.030*\"most\"\n",
            "Tópico  6: 0.081*\"mailbox\" + 0.067*\"immediately\" + 0.058*\"million\" + 0.055*\"office\" + 0.040*\"login\" + 0.033*\"inbox\" + 0.030*\"apple\" + 0.025*\"search\" + 0.024*\"life\" + 0.020*\"text\"\n",
            "Tópico  7: 0.029*\"country\" + 0.026*\"know\" + 0.024*\"want\" + 0.021*\"work\" + 0.019*\"upgrade\" + 0.019*\"year\" + 0.016*\"well\" + 0.016*\"keep\" + 0.014*\"would\" + 0.014*\"time\"\n",
            "Tópico  8: 0.306*\"usaa\" + 0.086*\"director\" + 0.063*\"close\" + 0.058*\"alert\" + 0.039*\"privacy_promise\" + 0.034*\"enron\" + 0.029*\"security_zone\" + 0.027*\"texas\" + 0.026*\"voice\" + 0.019*\"wire\"\n",
            "Tópico  9: 0.087*\"server\" + 0.058*\"review\" + 0.045*\"download\" + 0.040*\"manager\" + 0.038*\"outlook\" + 0.035*\"leave\" + 0.024*\"attempt\" + 0.023*\"discuss\" + 0.022*\"source\" + 0.021*\"software\"\n"
          ]
        },
        {
          "output_type": "execute_result",
          "data": {
            "text/plain": [
              "<IPython.core.display.HTML object>"
            ],
            "text/html": [
              "\n",
              "<link rel=\"stylesheet\" type=\"text/css\" href=\"https://cdn.jsdelivr.net/gh/bmabey/pyLDAvis@3.4.0/pyLDAvis/js/ldavis.v1.0.0.css\">\n",
              "\n",
              "\n",
              "<div id=\"ldavis_el43771339836723585445513901077\" style=\"background-color:white;\"></div>\n",
              "<script type=\"text/javascript\">\n",
              "\n",
              "var ldavis_el43771339836723585445513901077_data = {\"mdsDat\": {\"x\": [0.11452411727291607, 0.21456178854535146, 0.09351149654207047, 0.0698767494597222, 0.21894811591848032, -0.23917866518528447, -0.04817558899728979, -0.21641390359916884, -0.15462448778623225, -0.053029622170565345], \"y\": [-0.17428463788471726, 0.2568811145835254, -0.2887174180679939, 0.15180779036916647, -0.003640727748764464, 0.1022741421009792, 0.1018834679531462, 0.01672881824700514, -0.06280634809002156, -0.10012620146232494], \"topics\": [1, 2, 3, 4, 5, 6, 7, 8, 9, 10], \"cluster\": [1, 1, 1, 1, 1, 1, 1, 1, 1, 1], \"Freq\": [26.867267977753055, 19.561415132722896, 16.277752220687606, 11.87233101193824, 10.225914822513275, 5.803699902332034, 3.3613978516944525, 2.9741804796516695, 1.5943751058233053, 1.4616654948834689]}, \"tinfo\": {\"Term\": [\"account\", \"usaa\", \"email\", \"transfer\", \"dear\", \"please\", \"mail\", \"point\", \"money\", \"security\", \"message\", \"server\", \"bank\", \"mailbox\", \"country\", \"send\", \"assistance\", \"thank\", \"telephone\", \"click\", \"fund\", \"know\", \"receive\", \"immediately\", \"user\", \"language\", \"update\", \"review\", \"contact\", \"information\", \"bank\", \"verify\", \"transaction\", \"list\", \"investment\", \"give\", \"write\", \"kindly\", \"file\", \"document\", \"next\", \"forward\", \"response\", \"private\", \"late\", \"soon\", \"support\", \"amount\", \"share\", \"page\", \"communication\", \"shall\", \"pende\", \"within\", \"complete\", \"regards\", \"attach\", \"london\", \"urgent\", \"contain\", \"thank\", \"team\", \"company\", \"need\", \"look\", \"university\", \"full\", \"make\", \"would\", \"regard\", \"also\", \"like\", \"help\", \"account\", \"email\", \"mail\", \"send\", \"fund\", \"receive\", \"update\", \"reply\", \"address\", \"payment\", \"message\", \"request\", \"access\", \"link\", \"follow\", \"confirm\", \"spam\", \"assist\", \"continue\", \"paypal\", \"phone\", \"personal\", \"copy\", \"right_reserve\", \"mailing\", \"error\", \"block\", \"banking\", \"interest\", \"foreign\", \"click\", \"system\", \"contact\", \"please\", \"name\", \"business\", \"information\", \"service\", \"change\", \"country\", \"know\", \"upgrade\", \"well\", \"keep\", \"friend\", \"mean\", \"claim\", \"reason\", \"hear\", \"think\", \"work\", \"father\", \"trust\", \"group\", \"problem\", \"english\", \"person\", \"activity\", \"people\", \"still\", \"avoid\", \"world\", \"jose\", \"paper\", \"decide\", \"present\", \"necessary\", \"tell\", \"thing\", \"many\", \"year\", \"want\", \"come\", \"question\", \"hope\", \"time\", \"could\", \"number\", \"would\", \"like\", \"make\", \"good\", \"call\", \"issue\", \"also\", \"user\", \"notice\", \"total\", \"since\", \"back\", \"content\", \"release\", \"client\", \"partner\", \"able\", \"first\", \"deal\", \"operation\", \"place\", \"result\", \"version\", \"long\", \"immediate\", \"appreciate\", \"matter\", \"right\", \"statement\", \"position\", \"html\", \"death\", \"type\", \"action\", \"submit\", \"application\", \"fill\", \"family\", \"case\", \"free\", \"take\", \"require\", \"dear\", \"money\", \"security\", \"customer\", \"online\", \"secure\", \"order\", \"deposit\", \"sincerely\", \"invest\", \"confidential\", \"opportunity\", \"inform\", \"proposal\", \"safe\", \"dollars\", \"might\", \"site\", \"manage\", \"financial\", \"beneficiary\", \"recent\", \"care\", \"product\", \"risk\", \"united\", \"john\", \"best_regards\", \"presently\", \"experience\", \"offer\", \"detail\", \"delivery\", \"help\", \"take\", \"good\", \"regard\", \"service\", \"information\", \"need\", \"transfer\", \"assistance\", \"language\", \"interested\", \"state\", \"linguistic\", \"move\", \"attachment\", \"government\", \"capital\", \"sender\", \"africa\", \"privacy\", \"president\", \"return\", \"possible\", \"seek\", \"protection\", \"chase\", \"course\", \"trade\", \"consider\", \"talk\", \"china\", \"recipient\", \"political\", \"national\", \"touch\", \"retrieve\", \"development\", \"project\", \"hold\", \"server\", \"review\", \"download\", \"manager\", \"outlook\", \"leave\", \"attempt\", \"discuss\", \"source\", \"software\", \"charge\", \"microsoft\", \"enjoy\", \"understand\", \"choice\", \"sorry\", \"introduce\", \"till\", \"restrict\", \"users_group\", \"glad\", \"husband\", \"urgently\", \"market\", \"windows\", \"spamassassin\", \"field\", \"near\", \"control\", \"maximum\", \"business\", \"full\", \"check\", \"mailbox\", \"immediately\", \"million\", \"office\", \"login\", \"inbox\", \"apple\", \"search\", \"life\", \"text\", \"seem\", \"five\", \"someone\", \"webmail\", \"american_express\", \"policy\", \"highly\", \"local\", \"arrive\", \"story\", \"browser\", \"investor\", \"quota\", \"press\", \"carefully\", \"smith\", \"incomplete\", \"german\", \"window\", \"successful\", \"united_kingdom\", \"setting\", \"word\", \"find\", \"usaa\", \"director\", \"close\", \"alert\", \"privacy_promise\", \"enron\", \"texas\", \"security_zone\", \"voice\", \"wire\", \"managing_director\", \"display\", \"employee\", \"withdraw\", \"edit\", \"hardware\", \"single\", \"courage\", \"broker_dealer\", \"raise\", \"accident\", \"interface\", \"opinion\", \"vice_president\", \"grateful\", \"revenue\", \"explanation\", \"christian\", \"reviewer\", \"kelly\", \"point\", \"telephone\", \"young\", \"french\", \"daily\", \"solely\", \"warm\", \"import_export\", \"popular\", \"most\", \"church\", \"anywhere\", \"worry\", \"plenty\", \"compatible\", \"paso\", \"comment_suggestion\", \"jackie\", \"door\", \"smoke\", \"junior_gotti\", \"stay_home\", \"airlines_inflatable\", \"airport_official\", \"anthony_party\", \"arrest_passenger\", \"arrest_toxin\", \"attack_teen\", \"caylee_vanish\", \"comedy_starbucks\"], \"Freq\": [7069.0, 1953.0, 4746.0, 1937.0, 2413.0, 4130.0, 3232.0, 1043.0, 1898.0, 1831.0, 2503.0, 1169.0, 2897.0, 969.0, 1882.0, 2062.0, 1121.0, 2625.0, 743.0, 1961.0, 1919.0, 1664.0, 1791.0, 795.0, 1316.0, 971.0, 1698.0, 783.0, 2088.0, 2752.0, 2895.953209668854, 1719.8336459574234, 1381.0122174881956, 1366.057922284844, 1280.1363480892219, 1203.1589317848889, 1127.2077877004733, 1093.6691955540036, 1040.143444438378, 917.2164719389913, 870.9981230198667, 841.8731114025304, 773.4791627529822, 751.1039184267224, 750.1835433402838, 715.7261260654195, 710.4176697596084, 676.7817302482268, 656.5489779270184, 587.7540401318141, 584.442929760002, 538.1863818748823, 499.416431335644, 498.27596220691373, 497.55973159450417, 496.9802472805198, 490.29367827873364, 485.125718169842, 473.41223524119613, 466.5047722187729, 2594.047981917873, 949.2755041355538, 1524.1867419081814, 1491.7582197133147, 867.1699266450153, 595.3048357399177, 721.4733204950626, 1195.4625401179135, 891.2326752923524, 757.9492831300802, 705.4738035847356, 658.8555154915333, 680.5918771116591, 7068.233938936367, 4745.047119308507, 3231.343078406192, 2061.869332036552, 1917.996801928863, 1789.926007311956, 1697.6943700357294, 1451.4355636022735, 1389.1571847355776, 1009.6690858750029, 2500.433016979198, 996.849032448769, 825.9584031939477, 775.825169496945, 740.9881089462348, 630.2175354442861, 563.1210251211353, 546.9751373834638, 540.286119468722, 512.5329382059302, 492.289148777481, 435.7363872317111, 406.3367428872004, 402.09119136424744, 385.4480047219051, 377.0628338780775, 365.1342854789567, 359.02418158815027, 357.2502358357515, 350.81003118602865, 1955.5736842174515, 667.4009760696227, 1947.484104260523, 3650.223613729395, 1038.4980068297593, 1095.205298340417, 2048.7545613910647, 1135.3825795717082, 489.0780197474005, 1881.6098586475712, 1663.1795668627858, 1267.032394475508, 1062.5360985471486, 1026.3263934788197, 754.457894127034, 714.4761579795597, 683.1103997302986, 628.4920125095543, 582.8697688609063, 552.9470649839515, 1396.9109230333413, 509.5892758998817, 505.8889764793624, 502.37445841963387, 492.7432109815111, 483.24270418470144, 478.4892398252264, 465.622525019631, 440.92066209038563, 433.8900204903935, 426.7059797690831, 412.41496139214826, 399.34350238019624, 390.76387498466516, 387.2515379550976, 372.8899390187884, 354.5585925608292, 343.8111120615974, 341.7024194010116, 366.71165612251923, 1258.0538203130413, 1574.487369527139, 750.4711527453801, 603.178794709368, 456.933058521829, 883.1494576039561, 568.442981356454, 688.3045836427079, 885.7702076789897, 717.8714160984056, 790.3065175353879, 631.4904443074545, 533.6600941025666, 496.3395176722742, 518.0457962596629, 1315.8843661807155, 1198.305229610515, 1192.3667652972538, 1014.3273702429823, 981.0704323591074, 942.3010873149898, 869.5798213022977, 844.5745702955211, 834.40372616164, 773.832733470406, 725.3298251040926, 700.4315523557125, 700.3483470436264, 631.6781148075813, 622.3772367832861, 541.4007046952593, 507.7034812406857, 503.32422172947923, 476.4126720669911, 448.6284608493316, 443.12966347991346, 437.6838912695518, 435.58661366597187, 420.15995995404865, 386.21223681056597, 381.218548268793, 371.9079489653374, 358.28286921998944, 357.59674575561536, 336.4503786053551, 837.554834613834, 428.87676585133715, 631.7237164443699, 535.9034538929802, 433.25165078692146, 2412.480987875384, 1897.1089478824188, 1830.8078008118923, 1132.2205838462282, 853.3478712798066, 716.5494041429629, 647.4220097996301, 628.77927470177, 585.5571171679293, 512.3890242572768, 397.8371019326336, 352.69060105046185, 339.25254847241456, 338.08300778392226, 327.4648464861342, 322.17757412304536, 319.85558161225, 310.0594176140719, 308.64633203750435, 299.2824326222789, 284.70854134017287, 250.83378428282018, 241.7903296535221, 238.1753113175943, 228.79203944604282, 212.88755728105622, 207.15479454213985, 206.38737504679617, 204.16879110935608, 202.29057628178575, 397.40519891811925, 1096.9357669692392, 303.4855515380689, 819.6109479171193, 511.2682001583666, 530.6116929494976, 495.003215230472, 404.7219358954968, 406.2726077777983, 361.10281427623266, 1936.1702736532645, 1120.6238852500328, 970.3035382165322, 700.6595925748587, 598.9726090282771, 530.0985253389612, 489.23531252749683, 472.4253165933517, 426.14626668275156, 373.0261161821845, 365.466659636789, 333.1768445707386, 307.32752179692307, 288.98985301469725, 281.16801164278655, 249.6421302043427, 243.3468384393026, 237.75627252962258, 228.2807824877627, 226.56228823872416, 215.62284768666296, 205.7892165051289, 202.61510965179457, 198.1227064320962, 195.35292321280417, 185.14309262906474, 181.96416879900258, 180.06428189493303, 179.89424045636156, 177.22478211784252, 488.1038198146854, 410.22505695687147, 1168.5731302297152, 782.821856935488, 602.4134454525114, 538.5709457247689, 505.69434708848837, 464.39718762152063, 322.3085933206643, 308.38819011888506, 289.3814010588157, 282.18449535413123, 244.43431935879687, 225.07382530810972, 220.0384834637458, 206.3168641681609, 201.29513406084394, 201.1583411078369, 200.64778837148566, 194.51567581024634, 158.40704027257195, 145.66390219590366, 144.02707830521675, 143.78508213821334, 140.18245068277028, 138.25751586151821, 138.21406589574235, 137.85949766077135, 122.09421616840518, 119.32280144954414, 118.66594756151333, 118.0099569178357, 193.21217683696995, 157.69177351664376, 124.00493873479935, 968.6404976327076, 794.0542571696552, 688.0239737144196, 647.9484676127743, 477.4729021839271, 386.60071354551746, 352.7937687998507, 292.03977887104924, 284.15394847767885, 240.1540023472019, 229.7083926158258, 219.48342221677885, 214.2496252350461, 197.18016416121552, 190.35298634594236, 170.69851830825925, 152.00310962807507, 128.616314526269, 124.20253161539124, 102.12799370254241, 101.92523177949035, 99.52147849954102, 98.30271517978167, 91.5471300236415, 89.99462923496822, 89.6214286304054, 89.6967406762363, 88.14748328132042, 86.92122030534729, 86.65258317324994, 87.91446813253809, 152.20054707195544, 239.26247863923842, 122.39363667583451, 1952.3870762200186, 549.1526351469126, 402.6956429266595, 371.3409703427841, 245.71992701960582, 214.8315326867476, 172.0248203485703, 182.78992808370924, 167.60334229267667, 117.93438321628062, 115.80897662126023, 115.30061369609045, 99.47936348458866, 99.28074304908932, 94.80235099012216, 82.65021737130049, 82.46622450514494, 81.2575956264043, 74.59022490329707, 71.04504209793743, 69.96213317218562, 60.98875729608284, 58.222354590333666, 35.748088256228755, 34.30533222346198, 34.11177951381238, 33.530225334976784, 32.81621005963328, 31.593523285649052, 30.45513047617943, 1043.1345968984665, 742.682009352556, 406.25908320441096, 371.62432890005175, 256.6928130129674, 252.32113329655445, 247.05186851238275, 198.57607305588428, 181.0669950781029, 172.3975567196364, 164.27875093861775, 120.90274798866044, 83.7979047728655, 36.92543174160458, 31.04522461914104, 29.02202690102773, 23.538949707008335, 17.931987527297096, 17.198653530875358, 10.905867747931168, 7.4002642957330345, 3.908343559324434, 3.882545917678907, 3.882545917678907, 3.882545917678907, 3.882545917678907, 3.882545917678907, 3.882545917678907, 3.882545917678907, 3.882545917678907], \"Total\": [7069.0, 1953.0, 4746.0, 1937.0, 2413.0, 4130.0, 3232.0, 1043.0, 1898.0, 1831.0, 2503.0, 1169.0, 2897.0, 969.0, 1882.0, 2062.0, 1121.0, 2625.0, 743.0, 1961.0, 1919.0, 1664.0, 1791.0, 795.0, 1316.0, 971.0, 1698.0, 783.0, 2088.0, 2752.0, 2897.0391674199354, 1720.9196111578547, 1382.0980010286953, 1367.143029015044, 1281.2220759722902, 1204.244154945241, 1128.2929024998757, 1094.7560768041876, 1041.2286285972798, 918.3019771620986, 872.0833775396884, 842.958385803362, 774.5645512503376, 752.1893329051602, 751.268866205489, 716.8115203909289, 711.5029890697831, 677.867142409441, 657.6342508700275, 588.8393927325487, 585.5282613357335, 539.2718851361318, 500.50248267205484, 499.36135051978187, 498.64512523060097, 498.06570661238493, 491.3790230870431, 486.21107384333726, 474.49815355954536, 467.59007968826984, 2625.9703975726406, 971.4478997829657, 1782.0737381101417, 2065.323475284705, 1027.6551483589308, 632.387132479897, 880.1563598233269, 2110.8888340533895, 1777.9933076455256, 1253.9786729196405, 1224.5100611133118, 1396.094559549622, 1904.2060647483008, 7069.34651716497, 4746.159419089898, 3232.4554335496778, 2062.9815984834545, 1919.1097044471992, 1791.0382898365306, 1698.8068928568548, 1452.5479497045512, 1390.269458483513, 1010.7815211447843, 2503.2095618261083, 997.9613227145245, 827.0707915261393, 776.9374518308136, 742.1004086658437, 631.3299064337291, 564.2332607565402, 548.0876332571546, 541.3985364123528, 513.6462469812285, 493.40139791774226, 436.8487199181552, 407.4490095433771, 403.20365691379357, 386.5601545027343, 378.17507185291834, 366.24674187331146, 360.1369722354412, 358.36253852998794, 351.92261880072874, 1961.905780605782, 679.8728537031728, 2088.2412719891095, 4130.319319731233, 1171.0939724978082, 1289.4357904958392, 2752.8839491162726, 1541.1576919742276, 550.7965220943804, 1882.683972978642, 1664.2532795573475, 1268.1067687148695, 1063.609817064285, 1027.4004406191311, 755.5318182539803, 715.5504411531938, 684.1843192567998, 629.5659378147913, 583.9435576134862, 554.0206953153498, 1399.767856022571, 510.6635247427604, 506.96296311760625, 503.4481884412799, 493.8169234111696, 484.31674758835084, 479.5631757404236, 466.6969657206904, 441.9943114219364, 434.96371497770923, 427.78018592666893, 413.4886884913242, 400.4180614782898, 391.83765681938524, 388.3253986127538, 373.96378394643966, 355.632510502307, 344.88479975971103, 342.7760703886704, 367.9183661942801, 1285.370188062388, 1648.3818644629512, 767.9172151459129, 653.2781309983336, 481.80419955787426, 1251.4162212003105, 708.7385541339956, 1000.7552598388684, 1777.9933076455256, 1396.094559549622, 2110.8888340533895, 1210.0482285206342, 881.0512020106282, 636.8999170528917, 1224.5100611133118, 1316.9356661972145, 1199.3568537550323, 1193.4182201515516, 1015.3785914294439, 982.121641497137, 943.3521983051827, 870.6310743831842, 845.6258431644309, 835.45518453426, 774.8840051036345, 726.3809652971727, 701.4827584587233, 701.3997166772263, 632.7293342348892, 623.4284809227432, 542.4518498575566, 508.75461851577086, 504.37574566647606, 477.46394909137734, 449.6796998604442, 444.18074493563296, 438.73530260857814, 436.6378749672249, 421.2111644645751, 387.2637957534249, 382.26963999440403, 372.9593355642614, 359.3340882203321, 358.6479156259467, 337.5016286917404, 857.4834256916122, 445.07297370477573, 1073.3461488783043, 1048.1637254482403, 889.1162971041443, 2413.59066651001, 1898.2183169880284, 1831.9174786563226, 1133.330128431067, 854.4574867961517, 717.6589651373503, 648.5313679331493, 629.8892168530026, 586.6665629835129, 513.4984761915182, 398.9465918598165, 353.79994774690965, 340.36205269278213, 339.1925774143597, 328.57443218106795, 323.2891661669774, 320.9649597240717, 311.1686680952442, 309.755684997808, 300.39188944140204, 285.86997522563564, 251.9432987787801, 242.89972974090995, 239.2846337115316, 229.9013380780645, 213.99758815603064, 208.2640750708262, 207.49717577451605, 205.28107257685403, 203.39998991881723, 427.87965753360737, 1398.1638474293495, 329.08658041745633, 1904.2060647483008, 1048.1637254482403, 1210.0482285206342, 1253.9786729196405, 1541.1576919742276, 2752.8839491162726, 2065.323475284705, 1937.2535971400032, 1121.707161416044, 971.3863897050902, 701.7424155404011, 600.0554147893451, 531.1823667095115, 490.3181308661822, 473.5090826400852, 427.22913418589917, 374.1091240829113, 366.5498431539114, 334.2602041000685, 308.41183037752234, 290.0727277342313, 282.25073796527556, 250.72488388716746, 244.42974385917643, 238.83966727654877, 229.36407662545895, 227.64498018235022, 216.70565436663847, 206.8719174262824, 203.69774583076125, 199.20573387758077, 196.43587531873513, 186.22590810913846, 183.0470260993535, 181.14719746594366, 180.9773596070903, 178.30744131788907, 499.489475774071, 566.7258472692508, 1169.6475608478943, 783.8964367336048, 603.4879124829645, 539.645523220716, 506.76894872968546, 465.4717239939686, 323.3832984152619, 309.4626176934242, 290.45579905219, 283.2588035621571, 245.50881656750408, 226.14825552462182, 221.11293997590897, 207.39131397287292, 202.36958987837164, 202.232803332325, 201.72243566574573, 195.5904173394046, 159.48183970438168, 146.7382743085154, 145.1017404458887, 144.8599978709096, 141.2600279739212, 139.3318413629045, 139.28849188080412, 138.9337657934309, 123.16861049729182, 120.39720120142152, 119.74034389940289, 119.08468644715242, 1289.4357904958392, 880.1563598233269, 693.8541296135048, 969.733756654341, 795.1473758931909, 689.1168914138308, 649.0413639292526, 478.56679423781515, 387.6947150436577, 353.88673943777434, 293.132606584453, 285.2467327652177, 241.24685337583108, 230.8189666932485, 220.57637695770447, 215.3424124584803, 198.28253053806503, 191.44679823159075, 171.7915193827898, 153.09614475780572, 129.70909322858105, 125.29542445848367, 103.22074821463079, 103.01824207719265, 100.61428366788654, 99.39610010423846, 92.63986588959804, 91.08759248969317, 90.71429213598024, 90.79130015747097, 89.2409632484337, 88.01390682768113, 87.74551451617185, 89.02409552963884, 158.1517645184742, 368.6125547680731, 784.6151584630134, 1953.5142517722209, 550.1990779877729, 403.7420596563288, 372.38748492018664, 246.8701091530804, 215.87836322096734, 173.07112386911805, 183.90353189125105, 168.64969436298358, 118.98104062930958, 116.8556455498796, 116.34700632683567, 100.52568936406958, 100.32757404460615, 95.84875901408499, 83.69655773334027, 83.5125836781217, 82.30440323843634, 75.65831751742598, 72.09144490292648, 71.00866517057021, 62.035106403543594, 59.26875538613053, 36.794427755962445, 35.35189856088605, 35.158143737284824, 34.576596552484304, 33.862725684703, 32.64041264129202, 31.501541638549433, 1043.9226909552713, 743.4702259436605, 407.04721025049355, 372.41246840956245, 257.4808853781767, 253.1098121746418, 247.84011313602772, 199.36438514201694, 181.85516386886243, 173.18574115731272, 165.06701270068808, 121.69084157657818, 84.58600435624484, 37.71350475931037, 31.83334526737268, 29.812267221617912, 24.327025490240615, 18.722912635401343, 17.986721991913768, 11.693940248623107, 8.188306222300806, 4.69638438407472, 4.670590033165749, 4.670590033165749, 4.670590033165749, 4.670590033165749, 4.670590033165749, 4.670590033165749, 4.670590033165749, 4.670590033165749], \"Category\": [\"Default\", \"Default\", \"Default\", \"Default\", \"Default\", \"Default\", \"Default\", \"Default\", \"Default\", \"Default\", \"Default\", \"Default\", \"Default\", \"Default\", \"Default\", \"Default\", \"Default\", \"Default\", \"Default\", \"Default\", \"Default\", \"Default\", \"Default\", \"Default\", \"Default\", \"Default\", \"Default\", \"Default\", \"Default\", \"Default\", \"Topic1\", \"Topic1\", \"Topic1\", \"Topic1\", \"Topic1\", \"Topic1\", \"Topic1\", \"Topic1\", \"Topic1\", \"Topic1\", \"Topic1\", \"Topic1\", \"Topic1\", \"Topic1\", \"Topic1\", \"Topic1\", \"Topic1\", \"Topic1\", \"Topic1\", \"Topic1\", \"Topic1\", \"Topic1\", \"Topic1\", \"Topic1\", \"Topic1\", \"Topic1\", \"Topic1\", \"Topic1\", \"Topic1\", \"Topic1\", \"Topic1\", \"Topic1\", \"Topic1\", \"Topic1\", \"Topic1\", \"Topic1\", \"Topic1\", \"Topic1\", \"Topic1\", \"Topic1\", \"Topic1\", \"Topic1\", \"Topic1\", \"Topic2\", \"Topic2\", \"Topic2\", \"Topic2\", \"Topic2\", \"Topic2\", \"Topic2\", \"Topic2\", \"Topic2\", \"Topic2\", \"Topic2\", \"Topic2\", \"Topic2\", \"Topic2\", \"Topic2\", \"Topic2\", \"Topic2\", \"Topic2\", \"Topic2\", \"Topic2\", \"Topic2\", \"Topic2\", \"Topic2\", \"Topic2\", \"Topic2\", \"Topic2\", \"Topic2\", \"Topic2\", \"Topic2\", \"Topic2\", \"Topic2\", \"Topic2\", \"Topic2\", \"Topic2\", \"Topic2\", \"Topic2\", \"Topic2\", \"Topic2\", \"Topic2\", \"Topic3\", \"Topic3\", \"Topic3\", \"Topic3\", \"Topic3\", \"Topic3\", \"Topic3\", \"Topic3\", \"Topic3\", \"Topic3\", \"Topic3\", \"Topic3\", \"Topic3\", \"Topic3\", \"Topic3\", \"Topic3\", \"Topic3\", \"Topic3\", \"Topic3\", \"Topic3\", \"Topic3\", \"Topic3\", \"Topic3\", \"Topic3\", \"Topic3\", \"Topic3\", \"Topic3\", \"Topic3\", \"Topic3\", \"Topic3\", \"Topic3\", \"Topic3\", \"Topic3\", \"Topic3\", \"Topic3\", \"Topic3\", \"Topic3\", \"Topic3\", \"Topic3\", \"Topic3\", \"Topic3\", \"Topic3\", \"Topic3\", \"Topic3\", \"Topic3\", \"Topic3\", \"Topic4\", \"Topic4\", \"Topic4\", \"Topic4\", \"Topic4\", \"Topic4\", \"Topic4\", \"Topic4\", \"Topic4\", \"Topic4\", \"Topic4\", \"Topic4\", \"Topic4\", \"Topic4\", \"Topic4\", \"Topic4\", \"Topic4\", \"Topic4\", \"Topic4\", \"Topic4\", \"Topic4\", \"Topic4\", \"Topic4\", \"Topic4\", \"Topic4\", \"Topic4\", \"Topic4\", \"Topic4\", \"Topic4\", \"Topic4\", \"Topic4\", \"Topic4\", \"Topic4\", \"Topic4\", \"Topic4\", \"Topic5\", \"Topic5\", \"Topic5\", \"Topic5\", \"Topic5\", \"Topic5\", \"Topic5\", \"Topic5\", \"Topic5\", \"Topic5\", \"Topic5\", \"Topic5\", \"Topic5\", \"Topic5\", \"Topic5\", \"Topic5\", \"Topic5\", \"Topic5\", \"Topic5\", \"Topic5\", \"Topic5\", \"Topic5\", \"Topic5\", \"Topic5\", \"Topic5\", \"Topic5\", \"Topic5\", \"Topic5\", \"Topic5\", \"Topic5\", \"Topic5\", \"Topic5\", \"Topic5\", \"Topic5\", \"Topic5\", \"Topic5\", \"Topic5\", \"Topic5\", \"Topic5\", \"Topic5\", \"Topic6\", \"Topic6\", \"Topic6\", \"Topic6\", \"Topic6\", \"Topic6\", \"Topic6\", \"Topic6\", \"Topic6\", \"Topic6\", \"Topic6\", \"Topic6\", \"Topic6\", \"Topic6\", \"Topic6\", \"Topic6\", \"Topic6\", \"Topic6\", \"Topic6\", \"Topic6\", \"Topic6\", \"Topic6\", \"Topic6\", \"Topic6\", \"Topic6\", \"Topic6\", \"Topic6\", \"Topic6\", \"Topic6\", \"Topic6\", \"Topic6\", \"Topic6\", \"Topic7\", \"Topic7\", \"Topic7\", \"Topic7\", \"Topic7\", \"Topic7\", \"Topic7\", \"Topic7\", \"Topic7\", \"Topic7\", \"Topic7\", \"Topic7\", \"Topic7\", \"Topic7\", \"Topic7\", \"Topic7\", \"Topic7\", \"Topic7\", \"Topic7\", \"Topic7\", \"Topic7\", \"Topic7\", \"Topic7\", \"Topic7\", \"Topic7\", \"Topic7\", \"Topic7\", \"Topic7\", \"Topic7\", \"Topic7\", \"Topic7\", \"Topic7\", \"Topic7\", \"Topic8\", \"Topic8\", \"Topic8\", \"Topic8\", \"Topic8\", \"Topic8\", \"Topic8\", \"Topic8\", \"Topic8\", \"Topic8\", \"Topic8\", \"Topic8\", \"Topic8\", \"Topic8\", \"Topic8\", \"Topic8\", \"Topic8\", \"Topic8\", \"Topic8\", \"Topic8\", \"Topic8\", \"Topic8\", \"Topic8\", \"Topic8\", \"Topic8\", \"Topic8\", \"Topic8\", \"Topic8\", \"Topic8\", \"Topic8\", \"Topic8\", \"Topic8\", \"Topic8\", \"Topic8\", \"Topic9\", \"Topic9\", \"Topic9\", \"Topic9\", \"Topic9\", \"Topic9\", \"Topic9\", \"Topic9\", \"Topic9\", \"Topic9\", \"Topic9\", \"Topic9\", \"Topic9\", \"Topic9\", \"Topic9\", \"Topic9\", \"Topic9\", \"Topic9\", \"Topic9\", \"Topic9\", \"Topic9\", \"Topic9\", \"Topic9\", \"Topic9\", \"Topic9\", \"Topic9\", \"Topic9\", \"Topic9\", \"Topic9\", \"Topic9\", \"Topic10\", \"Topic10\", \"Topic10\", \"Topic10\", \"Topic10\", \"Topic10\", \"Topic10\", \"Topic10\", \"Topic10\", \"Topic10\", \"Topic10\", \"Topic10\", \"Topic10\", \"Topic10\", \"Topic10\", \"Topic10\", \"Topic10\", \"Topic10\", \"Topic10\", \"Topic10\", \"Topic10\", \"Topic10\", \"Topic10\", \"Topic10\", \"Topic10\", \"Topic10\", \"Topic10\", \"Topic10\", \"Topic10\", \"Topic10\"], \"logprob\": [30.0, 29.0, 28.0, 27.0, 26.0, 25.0, 24.0, 23.0, 22.0, 21.0, 20.0, 19.0, 18.0, 17.0, 16.0, 15.0, 14.0, 13.0, 12.0, 11.0, 10.0, 9.0, 8.0, 7.0, 6.0, 5.0, 4.0, 3.0, 2.0, 1.0, -3.613, -4.1341, -4.3535, -4.3644, -4.4293, -4.4913, -4.5565, -4.5868, -4.6369, -4.7627, -4.8144, -4.8484, -4.9331, -4.9625, -4.9637, -5.0108, -5.0182, -5.0667, -5.0971, -5.2077, -5.2134, -5.2958, -5.3706, -5.3729, -5.3743, -5.3755, -5.389, -5.3996, -5.4241, -5.4388, -3.7231, -4.7283, -4.2548, -4.2763, -4.8188, -5.195, -5.0028, -4.4978, -4.7914, -4.9534, -5.0252, -5.0935, -5.0611, -2.4033, -2.8018, -3.186, -3.6353, -3.7077, -3.7768, -3.8297, -3.9864, -4.0302, -4.3493, -3.4425, -4.3621, -4.5502, -4.6128, -4.6587, -4.8206, -4.9332, -4.9623, -4.9746, -5.0273, -5.0676, -5.1897, -5.2595, -5.27, -5.3123, -5.3343, -5.3664, -5.3833, -5.3883, -5.4065, -3.6883, -4.7633, -3.6924, -3.0642, -4.3212, -4.268, -3.6417, -4.232, -5.0742, -3.5431, -3.6665, -3.9385, -4.1145, -4.1492, -4.4569, -4.5114, -4.5563, -4.6396, -4.715, -4.7677, -3.8409, -4.8493, -4.8566, -4.8636, -4.883, -4.9024, -4.9123, -4.9396, -4.9941, -5.0101, -5.0268, -5.0609, -5.0931, -5.1148, -5.1239, -5.1617, -5.2121, -5.2428, -5.249, -5.1784, -3.9456, -3.7213, -4.4622, -4.6807, -4.9584, -4.2994, -4.74, -4.5487, -4.2965, -4.5066, -4.4105, -4.6349, -4.8032, -4.8757, -4.8329, -3.5851, -3.6787, -3.6837, -3.8454, -3.8787, -3.919, -3.9993, -4.0285, -4.0406, -4.116, -4.1807, -4.2157, -4.2158, -4.319, -4.3338, -4.4732, -4.5375, -4.5461, -4.6011, -4.6612, -4.6735, -4.6859, -4.6907, -4.7267, -4.811, -4.824, -4.8487, -4.886, -4.8879, -4.9489, -4.0369, -4.7062, -4.3189, -4.4834, -4.696, -2.8297, -3.07, -3.1056, -3.5861, -3.8689, -4.0436, -4.1451, -4.1743, -4.2455, -4.379, -4.632, -4.7525, -4.7913, -4.7948, -4.8267, -4.843, -4.8502, -4.8813, -4.8859, -4.9167, -4.9666, -5.0933, -5.13, -5.1451, -5.1853, -5.2573, -5.2846, -5.2883, -5.2991, -5.3084, -4.6331, -3.6178, -4.9027, -3.9092, -4.3812, -4.344, -4.4135, -4.6149, -4.611, -4.7289, -2.4832, -3.03, -3.174, -3.4996, -3.6564, -3.7786, -3.8588, -3.8938, -3.9969, -4.13, -4.1505, -4.243, -4.3237, -4.3852, -4.4127, -4.5316, -4.5571, -4.5804, -4.6211, -4.6286, -4.6781, -4.7248, -4.7403, -4.7627, -4.7768, -4.8305, -4.8478, -4.8583, -4.8593, -4.8742, -3.8611, -4.0349, -2.442, -2.8426, -3.1046, -3.2166, -3.2796, -3.3648, -3.73, -3.7741, -3.8378, -3.8629, -4.0065, -4.0891, -4.1117, -4.1761, -4.2007, -4.2014, -4.2039, -4.235, -4.4403, -4.5242, -4.5355, -4.5372, -4.5626, -4.5764, -4.5767, -4.5793, -4.7007, -4.7237, -4.7292, -4.7347, -4.2417, -4.4449, -4.6852, -2.5072, -2.706, -2.8493, -2.9093, -3.2146, -3.4257, -3.5172, -3.7062, -3.7336, -3.9018, -3.9463, -3.9918, -4.016, -4.099, -4.1342, -4.2432, -4.3592, -4.5263, -4.5612, -4.7569, -4.7589, -4.7827, -4.7951, -4.8663, -4.8834, -4.8875, -4.8867, -4.9041, -4.9181, -4.9212, -4.9067, -4.3579, -3.9055, -4.5759, -1.1828, -2.4512, -2.7614, -2.8425, -3.2554, -3.3898, -3.612, -3.5513, -3.638, -3.9895, -4.0077, -4.0121, -4.1597, -4.1617, -4.2078, -4.345, -4.3472, -4.362, -4.4476, -4.4963, -4.5117, -4.6489, -4.6954, -5.1831, -5.2243, -5.23, -5.2472, -5.2687, -5.3067, -5.3434, -1.7227, -2.0624, -2.6657, -2.7548, -3.1248, -3.142, -3.1631, -3.3815, -3.4738, -3.5229, -3.5712, -3.8777, -4.2443, -5.0638, -5.2373, -5.3047, -5.5141, -5.7861, -5.8279, -6.2834, -6.6712, -7.3096, -7.3162, -7.3162, -7.3162, -7.3162, -7.3162, -7.3162, -7.3162, -7.3162], \"loglift\": [30.0, 29.0, 28.0, 27.0, 26.0, 25.0, 24.0, 23.0, 22.0, 21.0, 20.0, 19.0, 18.0, 17.0, 16.0, 15.0, 14.0, 13.0, 12.0, 11.0, 10.0, 9.0, 8.0, 7.0, 6.0, 5.0, 4.0, 3.0, 2.0, 1.0, 1.3139, 1.3136, 1.3135, 1.3135, 1.3134, 1.3134, 1.3133, 1.3133, 1.3132, 1.3131, 1.313, 1.313, 1.3129, 1.3128, 1.3128, 1.3127, 1.3127, 1.3127, 1.3126, 1.3124, 1.3124, 1.3122, 1.3121, 1.3121, 1.3121, 1.3121, 1.3121, 1.312, 1.312, 1.3119, 1.302, 1.2912, 1.1579, 0.9889, 1.1445, 1.2538, 1.1155, 0.7457, 0.6236, 0.8108, 0.7628, 0.5633, 0.2854, 1.6315, 1.6314, 1.6313, 1.6311, 1.631, 1.631, 1.631, 1.6308, 1.6308, 1.6305, 1.6305, 1.6305, 1.6303, 1.6302, 1.6301, 1.6298, 1.6296, 1.6296, 1.6296, 1.6294, 1.6294, 1.6291, 1.6289, 1.6288, 1.6287, 1.6287, 1.6286, 1.6285, 1.6285, 1.6284, 1.6284, 1.6131, 1.5618, 1.508, 1.5114, 1.4683, 1.3362, 1.326, 1.5128, 1.8148, 1.8147, 1.8145, 1.8144, 1.8143, 1.8139, 1.8139, 1.8138, 1.8137, 1.8135, 1.8134, 1.8133, 1.8133, 1.8133, 1.8132, 1.8132, 1.8132, 1.8131, 1.8131, 1.8129, 1.8129, 1.8129, 1.8128, 1.8127, 1.8126, 1.8126, 1.8125, 1.8123, 1.8123, 1.8122, 1.8121, 1.7939, 1.7695, 1.7924, 1.7356, 1.7624, 1.4668, 1.5948, 1.4411, 1.1186, 1.1502, 0.8329, 1.165, 1.314, 1.566, 0.9551, 2.1302, 2.1301, 2.1301, 2.1299, 2.1299, 2.1298, 2.1298, 2.1297, 2.1297, 2.1296, 2.1295, 2.1295, 2.1295, 2.1293, 2.1293, 2.129, 2.1289, 2.1289, 2.1288, 2.1286, 2.1286, 2.1286, 2.1285, 2.1285, 2.1282, 2.1282, 2.1281, 2.128, 2.128, 2.1278, 2.1074, 2.0939, 1.6009, 1.4601, 1.4121, 2.2798, 2.2797, 2.2796, 2.2793, 2.2789, 2.2787, 2.2785, 2.2785, 2.2784, 2.2781, 2.2775, 2.2771, 2.277, 2.277, 2.2769, 2.2768, 2.2768, 2.2767, 2.2767, 2.2765, 2.2762, 2.2758, 2.2757, 2.2756, 2.2754, 2.275, 2.2749, 2.2749, 2.2748, 2.2748, 2.2064, 2.0376, 2.1993, 1.4373, 1.5623, 1.4559, 1.3507, 0.9432, 0.3669, 0.5364, 2.8461, 2.8457, 2.8456, 2.8451, 2.8449, 2.8446, 2.8445, 2.8444, 2.8441, 2.8438, 2.8437, 2.8434, 2.8432, 2.8429, 2.8428, 2.8423, 2.8422, 2.8421, 2.8419, 2.8419, 2.8417, 2.8414, 2.8413, 2.8412, 2.8411, 2.8408, 2.8407, 2.8407, 2.8407, 2.8406, 2.8236, 2.5235, 3.3919, 3.3914, 3.391, 3.3908, 3.3907, 3.3905, 3.3895, 3.3893, 3.3891, 3.389, 3.3884, 3.3881, 3.3879, 3.3876, 3.3875, 3.3875, 3.3875, 3.3873, 3.3861, 3.3855, 3.3854, 3.3854, 3.3852, 3.3851, 3.3851, 3.3851, 3.3841, 3.3838, 3.3838, 3.3837, 1.4946, 1.6734, 1.6709, 3.5141, 3.5138, 3.5136, 3.5135, 3.5129, 3.5124, 3.5121, 3.5115, 3.5114, 3.5107, 3.5104, 3.5102, 3.5101, 3.5096, 3.5095, 3.5088, 3.508, 3.5067, 3.5064, 3.5046, 3.5045, 3.5043, 3.5041, 3.5033, 3.5031, 3.5031, 3.5031, 3.5029, 3.5027, 3.5027, 3.5027, 3.4768, 3.083, 1.6573, 4.1381, 4.1368, 4.1361, 4.1359, 4.134, 4.1338, 4.1326, 4.1326, 4.1325, 4.1299, 4.1297, 4.1297, 4.1282, 4.1282, 4.1277, 4.1261, 4.1261, 4.1259, 4.1245, 4.1241, 4.1238, 4.1217, 4.1209, 4.1098, 4.1086, 4.1085, 4.108, 4.1073, 4.1061, 4.1049, 4.2248, 4.2245, 4.2237, 4.2235, 4.2225, 4.2225, 4.2224, 4.2216, 4.2213, 4.221, 4.2208, 4.2191, 4.2162, 4.2045, 4.2005, 4.1987, 4.1927, 4.1824, 4.1808, 4.1558, 4.1244, 4.0419, 4.0408, 4.0408, 4.0408, 4.0408, 4.0408, 4.0408, 4.0408, 4.0408]}, \"token.table\": {\"Topic\": [4, 2, 9, 2, 4, 3, 2, 6, 10, 10, 9, 1, 3, 8, 1, 10, 10, 8, 4, 4, 10, 10, 8, 2, 6, 1, 6, 10, 7, 3, 4, 1, 2, 5, 5, 2, 9, 8, 2, 7, 2, 3, 4, 6, 5, 8, 4, 7, 10, 2, 4, 7, 6, 1, 4, 5, 7, 6, 7, 9, 10, 3, 2, 5, 4, 9, 1, 3, 10, 10, 1, 1, 3, 10, 1, 5, 2, 6, 2, 5, 6, 1, 4, 2, 7, 2, 1, 3, 3, 9, 6, 5, 10, 4, 5, 4, 3, 5, 8, 5, 1, 5, 6, 9, 7, 9, 1, 5, 10, 7, 9, 2, 9, 3, 7, 9, 2, 5, 9, 2, 4, 3, 7, 1, 4, 5, 1, 3, 7, 8, 4, 8, 2, 2, 1, 1, 2, 4, 10, 3, 1, 7, 2, 8, 1, 7, 3, 4, 5, 7, 6, 9, 3, 9, 3, 1, 3, 5, 8, 4, 6, 1, 3, 4, 7, 4, 8, 10, 8, 8, 5, 1, 2, 5, 2, 6, 9, 7, 5, 1, 8, 3, 4, 10, 5, 3, 10, 3, 9, 1, 3, 6, 1, 7, 8, 1, 3, 4, 6, 2, 1, 8, 8, 1, 4, 1, 4, 2, 8, 2, 1, 3, 5, 5, 7, 9, 3, 7, 4, 7, 3, 1, 2, 7, 5, 8, 5, 10, 6, 1, 2, 6, 7, 3, 1, 3, 5, 7, 8, 1, 4, 2, 3, 5, 7, 8, 5, 4, 9, 5, 5, 7, 1, 3, 4, 10, 2, 2, 1, 3, 3, 2, 2, 4, 1, 2, 10, 10, 8, 6, 10, 4, 6, 3, 5, 6, 8, 6, 9, 1, 3, 5, 6, 7, 5, 6, 2, 3, 8, 9, 3, 2, 5, 6, 1, 5, 1, 4, 2, 2, 2, 4, 5, 1, 7, 4, 6, 6, 9, 7, 9, 4, 2, 5, 5, 8, 5, 5, 9, 6, 8, 2, 6, 7, 2, 5, 8, 9, 1, 1, 4, 5, 9, 5, 8, 10, 7, 10, 8, 1, 7, 7, 2, 7, 6, 4, 10, 3, 8, 4, 8, 1, 2, 5, 4, 5, 6, 1, 5, 10, 3, 9, 8, 1, 2, 5, 3, 3, 7, 1, 3, 5, 4, 6, 6, 1, 6, 3, 4, 7, 5, 8, 1, 6, 2, 3, 1, 7, 9, 4, 7, 1, 4, 9, 9, 1, 3, 4, 10, 8, 3, 8, 7, 9, 9, 1, 1, 8, 3, 4, 3, 10, 1, 3, 1, 1, 3, 10], \"Freq\": [0.9988591775055206, 0.9987053205878986, 0.9857951819239625, 0.9998095273499892, 0.9974277743636314, 0.998506598988459, 0.9990868975249605, 0.9962298709669571, 0.8564228441366283, 0.8564228441366283, 0.9962740828401255, 0.5757404715474704, 0.42302633228594283, 0.9924428183445483, 0.998720778224537, 0.8564228441366283, 0.9943229780677995, 0.9974942846426427, 0.9981934493476258, 0.9969339065406649, 0.8564228441366283, 0.8564228441366283, 0.989661039386854, 0.9980155851160314, 0.9993695668171082, 0.9971935654103028, 0.9968129805838757, 0.8564228441366283, 0.9957224184982937, 0.9981761990098282, 0.9988579403510269, 0.9996413001827446, 0.9968429449817835, 0.9969567450203577, 0.9927845968557036, 0.9965958963431742, 0.9912988083924235, 0.9901159051381436, 0.8492086291314507, 0.14967786796563468, 0.06015541421321465, 0.6060941733935212, 0.3325572898956961, 0.9970352926151421, 0.9962958800247754, 0.9880599271540058, 0.963886880007598, 0.03370233846180413, 0.8564228441366283, 0.8878051701208973, 0.11074870220322032, 0.9938543283756605, 0.9940527887124782, 0.18159436489941386, 0.47992796437702234, 0.1585347630074248, 0.17871191466291522, 0.993947293312743, 0.9932322347483394, 0.9745228516825294, 0.9935358816808367, 0.9982690055538159, 0.9969897735843571, 0.002548542366013183, 0.9992599053476312, 0.9981620452004419, 0.020835579258318644, 0.9766677777336865, 0.8564228441366283, 0.9865571115395176, 0.9973899443687873, 0.8551834682307679, 0.14421401006253762, 0.9738216244515523, 0.998706243783487, 0.9976272717222532, 0.9978934841828712, 0.9957852306048591, 0.932363528159477, 0.06033785544329435, 0.006704206160366039, 0.9987380406174073, 0.9985666029001554, 0.9974168079182106, 0.9938170889167909, 0.9964437033605728, 0.19612309671772188, 0.8014238772350074, 0.9996367032446981, 0.9841514768698647, 0.9971667278503854, 0.998826353947805, 0.9981323453293615, 0.9978862510292039, 0.9993409543167027, 0.9967366023695394, 0.9965868866226916, 0.9207303428041195, 0.07596785006634649, 0.9985882964349744, 0.21456712713004064, 0.7846004615388487, 0.9926674887585979, 0.9978206470425973, 0.9952736853829849, 0.9884225097889349, 0.9985821906143312, 0.996012343431541, 0.9451416443553547, 0.9975344784009962, 0.991144809564407, 0.9997557142549333, 0.9848228908080993, 0.9972812263979977, 0.9949666447561584, 0.9959312123370684, 0.9968927834212844, 0.9931170600383216, 0.9833240801589862, 0.022157862683672692, 0.9772783646798798, 0.9987006615694852, 0.9905121078124242, 0.9988200203456421, 0.9955507512732275, 0.9953664213638046, 0.32372558350460867, 0.48303935491435707, 0.03568628479578363, 0.1554902408959144, 0.9980988415677885, 0.9928533736048863, 0.998517170112031, 0.9973783475359645, 0.9988630686644766, 0.022359981470172593, 0.3875730121496583, 0.5888128453812117, 0.9988924419976486, 0.9979725297903134, 0.8191726299003574, 0.17951355828607002, 0.9994217608067806, 0.9860942418900271, 0.9989668582237814, 0.9924071176368862, 0.5214668185345308, 0.035535773687773095, 0.43882548437691893, 0.004132066707880593, 0.997123009440259, 0.9617588130788027, 0.9971234608157721, 0.9916775820630578, 0.9983841629876997, 0.35762936197244755, 0.2116367589939741, 0.4306256634616843, 0.9928401544040198, 0.2752653699344766, 0.723453856879073, 0.049812766310512666, 0.9485180918293453, 0.9971245670420092, 0.9940632480771124, 0.9972723794149575, 0.9985570273788529, 0.9981722656142552, 0.9982080874030499, 0.991284405487106, 0.9959982240029222, 0.10788685810578487, 0.7443103443055663, 0.14748169828602242, 0.9961978767770283, 0.9989420398083969, 0.9833141834752384, 0.9964186647689363, 0.9970818293315454, 0.9990461638187409, 0.9938946673822754, 0.7787722791598501, 0.21981475621447383, 0.9613888795253759, 0.9939304218915512, 0.9964585476662703, 0.8548776523446985, 0.9986369086835438, 0.9523343442750132, 0.9993093650538166, 0.999246941813039, 0.9985727721535083, 0.9983110358187771, 0.9968382096739614, 0.9956292829259368, 0.4720310637214949, 0.5142918114598382, 0.01289310947949455, 0.9977740851662004, 0.9987934011565479, 0.9991639287252428, 0.9945332034097915, 0.9967260698889264, 0.9975091603040546, 0.9985167338274542, 0.8436682299354195, 0.1556942523525572, 0.9995497436609422, 0.9992433421551988, 0.9959640059003462, 0.566112237045343, 0.37424993076637736, 0.05874302710763391, 0.9975603837656335, 0.9988038013975111, 0.9926777559966979, 0.9975038859740012, 0.9904412275767204, 0.9984884799988634, 0.9908914699319145, 0.9978332189262645, 0.0007989742570897607, 0.9987178213622008, 0.9949225541361879, 0.9969935667591213, 0.9983792424365926, 0.9993581786788563, 0.9931533557590306, 0.9973116823890367, 0.11271512201404235, 0.886350732201333, 0.9942800157879363, 0.9883950690923119, 0.9982214491543149, 0.7224049975001265, 0.08424830399800402, 0.1747910215131003, 0.01791486924095488, 0.0004841856551609427, 0.9987577133476104, 0.9988686822018117, 0.31076529145604903, 0.6874807733818705, 0.9278309753924631, 0.06777606621254768, 0.9983955353431586, 0.9982942547538362, 0.9980043951488073, 0.9785931832402299, 0.9977389828573918, 0.9976387141642358, 0.9984826443458839, 0.9985744963008445, 0.9978622350230841, 0.9982582135329363, 0.9727539265772813, 0.9992268149660085, 0.9987418442458665, 0.9969980515100875, 0.9977503976946274, 0.9967404174892909, 0.9980571765935031, 0.9971597204149473, 0.9988473203383701, 0.11597166294425133, 0.8837089138758191, 0.981080921440105, 0.9991161309517786, 0.9953925584590347, 0.9934170915229474, 0.9952975552045412, 0.998539121308996, 0.9971088474509228, 0.9974227880136711, 0.9937594218464811, 0.996301866285016, 0.9930929747851687, 0.9954222560924653, 0.9964754374028293, 0.9984188383786743, 0.9983456957985026, 0.9946313572601562, 0.9769975618479939, 0.020020441841147416, 0.9964840698359304, 0.9964843893557408, 0.07500633753822228, 0.9230371741948578, 0.9859541762425855, 0.9848602715010616, 0.99751267068192, 0.9994202860751652, 0.9962559084391113, 0.9926903610839655, 0.6044759901977818, 0.3947435556040923, 0.9978603091956815, 0.9992751529301532, 0.9989343210977193, 0.9990367134550769, 0.4735038614984326, 0.48700040861952804, 0.038240216843103816, 0.9979800892671734, 0.990708411019534, 0.9977086691313349, 0.9945995476494287, 0.995568699042943, 0.9670590192150382, 0.9988564347385732, 0.9803797627091925, 0.9973417466896183, 0.9970147668723874, 0.996079457015781, 0.9952082936867093, 0.9961361972055923, 0.9990817851244649, 0.9994991703136128, 0.9950869247482135, 0.9941506960789512, 0.9964519090221173, 0.9995241845665632, 0.9957718078922745, 0.9994463624175604, 0.7364593551397467, 0.2627894615256365, 0.961102144277653, 0.03161520211439648, 0.9976414770152338, 0.9990355568171999, 0.9986422882646135, 0.9988638128954834, 0.9818879549463878, 0.9962442616655528, 0.9921259140190443, 0.9406581328560478, 0.9955559949193923, 0.9956152937529105, 0.9937661492543224, 0.9988678747929632, 0.9939040387513238, 0.9949878809204686, 0.997814271432906, 0.9932790579158473, 0.9982411377960556, 0.9983240404767835, 0.8517190401969362, 0.9977843784561233, 0.9881734221486901, 0.996287331861724, 0.9915036737742936, 0.997887585726452, 0.9810657924742013, 0.016179495827910367, 0.5113704920200164, 0.48751925638475446, 0.9965746021002071, 0.9768923276400301, 0.02161721694461605, 0.9993675255211953, 0.9974345063617548, 0.9938110769424016, 0.9948316284403982, 0.9878253016095715, 0.009139478503712304, 0.002665681230249422, 0.9977359260003464, 0.9981576585062967, 0.9969813585581748, 0.07751218048537147, 0.705600570810134, 0.21575555392835355, 0.9988116318926558, 0.9936670427034382, 0.996743719638046, 0.9992055548681222, 0.9993528998258907, 0.9981005257037231, 0.9966786794932954, 0.9932913585134289, 0.9953383205641398, 0.9884964230914551, 0.9408793592410967, 0.05692715450870501, 0.9995250237915518, 0.9991272274999438, 0.9968426567136107, 0.991080081237462, 0.9992248575761108, 0.9992895126001741, 0.9949687679510038, 0.9994656280561321, 0.9973235415126009, 0.978409019940969, 0.9961476694906707, 0.012133110919972462, 0.9548758294018328, 0.032152743937927025, 0.996610261650556, 0.9935318026525851, 0.9994266534075738, 0.9884801520097704, 0.9907494735321943, 0.9917546474285256, 0.9867676054439839, 0.997273816809481, 0.34724807482625264, 0.6483772647146436, 0.9980226321024145, 0.0014288083494665921, 0.9963996875059488, 0.9930720884535837, 0.5011267456230699, 0.4983145865567227, 0.9988541073891264, 0.020227635774868337, 0.978706377107091, 0.9974273002636498], \"Term\": [\"able\", \"access\", \"accident\", \"account\", \"action\", \"activity\", \"address\", \"africa\", \"airlines_inflatable\", \"airport_official\", \"alert\", \"also\", \"also\", \"american_express\", \"amount\", \"anthony_party\", \"anywhere\", \"apple\", \"application\", \"appreciate\", \"arrest_passenger\", \"arrest_toxin\", \"arrive\", \"assist\", \"assistance\", \"attach\", \"attachment\", \"attack_teen\", \"attempt\", \"avoid\", \"back\", \"bank\", \"banking\", \"beneficiary\", \"best_regards\", \"block\", \"broker_dealer\", \"browser\", \"business\", \"business\", \"call\", \"call\", \"call\", \"capital\", \"care\", \"carefully\", \"case\", \"case\", \"caylee_vanish\", \"change\", \"change\", \"charge\", \"chase\", \"check\", \"check\", \"check\", \"check\", \"china\", \"choice\", \"christian\", \"church\", \"claim\", \"click\", \"click\", \"client\", \"close\", \"come\", \"come\", \"comedy_starbucks\", \"comment_suggestion\", \"communication\", \"company\", \"company\", \"compatible\", \"complete\", \"confidential\", \"confirm\", \"consider\", \"contact\", \"contact\", \"contact\", \"contain\", \"content\", \"continue\", \"control\", \"copy\", \"could\", \"could\", \"country\", \"courage\", \"course\", \"customer\", \"daily\", \"deal\", \"dear\", \"death\", \"decide\", \"delivery\", \"delivery\", \"deposit\", \"detail\", \"detail\", \"development\", \"director\", \"discuss\", \"display\", \"document\", \"dollars\", \"door\", \"download\", \"edit\", \"email\", \"employee\", \"english\", \"enjoy\", \"enron\", \"error\", \"experience\", \"explanation\", \"family\", \"family\", \"father\", \"field\", \"file\", \"fill\", \"financial\", \"find\", \"find\", \"find\", \"find\", \"first\", \"five\", \"follow\", \"foreign\", \"forward\", \"free\", \"free\", \"free\", \"french\", \"friend\", \"full\", \"full\", \"fund\", \"german\", \"give\", \"glad\", \"good\", \"good\", \"good\", \"good\", \"government\", \"grateful\", \"group\", \"hardware\", \"hear\", \"help\", \"help\", \"help\", \"highly\", \"hold\", \"hold\", \"hope\", \"hope\", \"html\", \"husband\", \"immediate\", \"immediately\", \"import_export\", \"inbox\", \"incomplete\", \"inform\", \"information\", \"information\", \"information\", \"interest\", \"interested\", \"interface\", \"introduce\", \"invest\", \"investment\", \"investor\", \"issue\", \"issue\", \"jackie\", \"john\", \"jose\", \"junior_gotti\", \"keep\", \"kelly\", \"kindly\", \"know\", \"language\", \"late\", \"leave\", \"life\", \"like\", \"like\", \"like\", \"linguistic\", \"link\", \"list\", \"local\", \"login\", \"london\", \"long\", \"look\", \"look\", \"mail\", \"mailbox\", \"mailing\", \"make\", \"make\", \"make\", \"manage\", \"manager\", \"managing_director\", \"many\", \"market\", \"matter\", \"maximum\", \"mean\", \"message\", \"message\", \"microsoft\", \"might\", \"million\", \"money\", \"most\", \"move\", \"name\", \"name\", \"national\", \"near\", \"necessary\", \"need\", \"need\", \"need\", \"need\", \"need\", \"next\", \"notice\", \"number\", \"number\", \"offer\", \"offer\", \"office\", \"online\", \"operation\", \"opinion\", \"opportunity\", \"order\", \"outlook\", \"page\", \"paper\", \"partner\", \"paso\", \"payment\", \"paypal\", \"pende\", \"people\", \"person\", \"personal\", \"phone\", \"place\", \"please\", \"please\", \"plenty\", \"point\", \"policy\", \"political\", \"popular\", \"position\", \"possible\", \"present\", \"presently\", \"president\", \"press\", \"privacy\", \"privacy_promise\", \"private\", \"problem\", \"product\", \"project\", \"project\", \"proposal\", \"protection\", \"question\", \"question\", \"quota\", \"raise\", \"reason\", \"receive\", \"recent\", \"recipient\", \"regard\", \"regard\", \"regards\", \"release\", \"reply\", \"request\", \"require\", \"require\", \"require\", \"response\", \"restrict\", \"result\", \"retrieve\", \"return\", \"revenue\", \"review\", \"reviewer\", \"right\", \"right_reserve\", \"risk\", \"safe\", \"search\", \"secure\", \"security\", \"security_zone\", \"seek\", \"seem\", \"send\", \"sender\", \"server\", \"service\", \"service\", \"setting\", \"setting\", \"shall\", \"share\", \"since\", \"sincerely\", \"single\", \"site\", \"smith\", \"smoke\", \"software\", \"solely\", \"someone\", \"soon\", \"sorry\", \"source\", \"spam\", \"spamassassin\", \"state\", \"statement\", \"stay_home\", \"still\", \"story\", \"submit\", \"successful\", \"support\", \"system\", \"system\", \"take\", \"take\", \"talk\", \"team\", \"team\", \"telephone\", \"tell\", \"texas\", \"text\", \"thank\", \"thank\", \"thank\", \"thing\", \"think\", \"till\", \"time\", \"time\", \"time\", \"total\", \"touch\", \"trade\", \"transaction\", \"transfer\", \"trust\", \"type\", \"understand\", \"united\", \"united_kingdom\", \"university\", \"university\", \"update\", \"upgrade\", \"urgent\", \"urgently\", \"usaa\", \"user\", \"users_group\", \"verify\", \"version\", \"vice_president\", \"voice\", \"want\", \"want\", \"want\", \"warm\", \"webmail\", \"well\", \"window\", \"windows\", \"wire\", \"withdraw\", \"within\", \"word\", \"word\", \"work\", \"work\", \"world\", \"worry\", \"would\", \"would\", \"write\", \"year\", \"year\", \"young\"]}, \"R\": 30, \"lambda.step\": 0.01, \"plot.opts\": {\"xlab\": \"PC1\", \"ylab\": \"PC2\"}, \"topic.order\": [4, 1, 8, 2, 3, 5, 10, 7, 9, 6]};\n",
              "\n",
              "function LDAvis_load_lib(url, callback){\n",
              "  var s = document.createElement('script');\n",
              "  s.src = url;\n",
              "  s.async = true;\n",
              "  s.onreadystatechange = s.onload = callback;\n",
              "  s.onerror = function(){console.warn(\"failed to load library \" + url);};\n",
              "  document.getElementsByTagName(\"head\")[0].appendChild(s);\n",
              "}\n",
              "\n",
              "if(typeof(LDAvis) !== \"undefined\"){\n",
              "   // already loaded: just create the visualization\n",
              "   !function(LDAvis){\n",
              "       new LDAvis(\"#\" + \"ldavis_el43771339836723585445513901077\", ldavis_el43771339836723585445513901077_data);\n",
              "   }(LDAvis);\n",
              "}else if(typeof define === \"function\" && define.amd){\n",
              "   // require.js is available: use it to load d3/LDAvis\n",
              "   require.config({paths: {d3: \"https://d3js.org/d3.v5\"}});\n",
              "   require([\"d3\"], function(d3){\n",
              "      window.d3 = d3;\n",
              "      LDAvis_load_lib(\"https://cdn.jsdelivr.net/gh/bmabey/pyLDAvis@3.4.0/pyLDAvis/js/ldavis.v3.0.0.js\", function(){\n",
              "        new LDAvis(\"#\" + \"ldavis_el43771339836723585445513901077\", ldavis_el43771339836723585445513901077_data);\n",
              "      });\n",
              "    });\n",
              "}else{\n",
              "    // require.js not available: dynamically load d3 & LDAvis\n",
              "    LDAvis_load_lib(\"https://d3js.org/d3.v5.js\", function(){\n",
              "         LDAvis_load_lib(\"https://cdn.jsdelivr.net/gh/bmabey/pyLDAvis@3.4.0/pyLDAvis/js/ldavis.v3.0.0.js\", function(){\n",
              "                 new LDAvis(\"#\" + \"ldavis_el43771339836723585445513901077\", ldavis_el43771339836723585445513901077_data);\n",
              "            })\n",
              "         });\n",
              "}\n",
              "</script>"
            ]
          },
          "metadata": {},
          "execution_count": 17
        }
      ]
    },
    {
      "cell_type": "markdown",
      "source": [],
      "metadata": {
        "id": "Bhz89WCSlHpc"
      }
    },
    {
      "cell_type": "markdown",
      "source": [],
      "metadata": {
        "id": "-2lKHdr6iHB3"
      }
    }
  ]
}