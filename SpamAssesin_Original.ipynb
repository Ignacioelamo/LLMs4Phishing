{
  "cells": [
    {
      "cell_type": "markdown",
      "metadata": {
        "id": "view-in-github",
        "colab_type": "text"
      },
      "source": [
        "<a href=\"https://colab.research.google.com/github/Ignacioelamo/LLMs4Phishing/blob/main/SpamAssesin_Original.ipynb\" target=\"_parent\"><img src=\"https://colab.research.google.com/assets/colab-badge.svg\" alt=\"Open In Colab\"/></a>"
      ]
    },
    {
      "cell_type": "code",
      "source": [
        "!pip install spamcheck pandas tqdm scikit-learn"
      ],
      "metadata": {
        "colab": {
          "base_uri": "https://localhost:8080/"
        },
        "id": "BlCxVLNHsL6N",
        "outputId": "d6d5c277-68a3-4227-a62d-4d7f31ca23e3"
      },
      "execution_count": null,
      "outputs": [
        {
          "output_type": "stream",
          "name": "stdout",
          "text": [
            "Collecting spamcheck\n",
            "  Downloading spamcheck-1.0.4-py3-none-any.whl.metadata (1.3 kB)\n",
            "Requirement already satisfied: pandas in /usr/local/lib/python3.11/dist-packages (2.2.2)\n",
            "Requirement already satisfied: tqdm in /usr/local/lib/python3.11/dist-packages (4.67.1)\n",
            "Requirement already satisfied: scikit-learn in /usr/local/lib/python3.11/dist-packages (1.6.1)\n",
            "Requirement already satisfied: requests in /usr/local/lib/python3.11/dist-packages (from spamcheck) (2.32.3)\n",
            "Requirement already satisfied: numpy>=1.23.2 in /usr/local/lib/python3.11/dist-packages (from pandas) (2.0.2)\n",
            "Requirement already satisfied: python-dateutil>=2.8.2 in /usr/local/lib/python3.11/dist-packages (from pandas) (2.9.0.post0)\n",
            "Requirement already satisfied: pytz>=2020.1 in /usr/local/lib/python3.11/dist-packages (from pandas) (2025.2)\n",
            "Requirement already satisfied: tzdata>=2022.7 in /usr/local/lib/python3.11/dist-packages (from pandas) (2025.2)\n",
            "Requirement already satisfied: scipy>=1.6.0 in /usr/local/lib/python3.11/dist-packages (from scikit-learn) (1.15.3)\n",
            "Requirement already satisfied: joblib>=1.2.0 in /usr/local/lib/python3.11/dist-packages (from scikit-learn) (1.5.0)\n",
            "Requirement already satisfied: threadpoolctl>=3.1.0 in /usr/local/lib/python3.11/dist-packages (from scikit-learn) (3.6.0)\n",
            "Requirement already satisfied: six>=1.5 in /usr/local/lib/python3.11/dist-packages (from python-dateutil>=2.8.2->pandas) (1.17.0)\n",
            "Requirement already satisfied: charset-normalizer<4,>=2 in /usr/local/lib/python3.11/dist-packages (from requests->spamcheck) (3.4.2)\n",
            "Requirement already satisfied: idna<4,>=2.5 in /usr/local/lib/python3.11/dist-packages (from requests->spamcheck) (3.10)\n",
            "Requirement already satisfied: urllib3<3,>=1.21.1 in /usr/local/lib/python3.11/dist-packages (from requests->spamcheck) (2.4.0)\n",
            "Requirement already satisfied: certifi>=2017.4.17 in /usr/local/lib/python3.11/dist-packages (from requests->spamcheck) (2025.4.26)\n",
            "Downloading spamcheck-1.0.4-py3-none-any.whl (2.8 kB)\n",
            "Installing collected packages: spamcheck\n",
            "Successfully installed spamcheck-1.0.4\n"
          ]
        }
      ]
    },
    {
      "cell_type": "code",
      "source": [
        "NOMBRE_ARCHIVO = 'emails.csv'\n",
        "\n",
        "!wget https://raw.githubusercontent.com/Ignacioelamo/LLMs4Phishing/main/data/01_combined_cleaned_email_data.csv -O $NOMBRE_ARCHIVO"
      ],
      "metadata": {
        "colab": {
          "base_uri": "https://localhost:8080/"
        },
        "id": "GiKbcTQosefV",
        "outputId": "b3bd2f01-723c-444a-8df8-5df5a2243d73"
      },
      "execution_count": null,
      "outputs": [
        {
          "output_type": "stream",
          "name": "stdout",
          "text": [
            "--2025-05-28 11:40:50--  https://raw.githubusercontent.com/Ignacioelamo/LLMs4Phishing/main/data/01_combined_cleaned_email_data.csv\n",
            "Resolving raw.githubusercontent.com (raw.githubusercontent.com)... 185.199.108.133, 185.199.109.133, 185.199.110.133, ...\n",
            "Connecting to raw.githubusercontent.com (raw.githubusercontent.com)|185.199.108.133|:443... connected.\n",
            "HTTP request sent, awaiting response... 200 OK\n",
            "Length: 10064045 (9.6M) [text/plain]\n",
            "Saving to: ‘emails.csv’\n",
            "\n",
            "emails.csv          100%[===================>]   9.60M  --.-KB/s    in 0.09s   \n",
            "\n",
            "2025-05-28 11:40:51 (109 MB/s) - ‘emails.csv’ saved [10064045/10064045]\n",
            "\n"
          ]
        }
      ]
    },
    {
      "cell_type": "code",
      "source": [
        "import pandas as pd\n",
        "import spamcheck\n",
        "from tqdm.notebook import tqdm\n",
        "from sklearn.metrics import accuracy_score, precision_score, recall_score, f1_score, confusion_matrix\n",
        "import concurrent.futures\n",
        "from sklearn.model_selection import train_test_split\n",
        "import os\n",
        "import multiprocessing"
      ],
      "metadata": {
        "id": "52AMmsSnsTL6"
      },
      "execution_count": null,
      "outputs": []
    },
    {
      "cell_type": "code",
      "source": [
        "df_original = pd.read_csv(NOMBRE_ARCHIVO)"
      ],
      "metadata": {
        "id": "eq59W0oSsT0f"
      },
      "execution_count": null,
      "outputs": []
    },
    {
      "cell_type": "code",
      "source": [
        "train_val_df, test_df = train_test_split(df_original, test_size=0.1, random_state=42, stratify=df_original['label'] if 'label' in df_original.columns else None)\n",
        "\n",
        "\n",
        "\n",
        "print(f\"Tamaño del DataFrame original: {len(df_original)}\")\n",
        "print(f\"Tamaño del conjunto de test (test_df): {len(test_df)} ({len(test_df)/len(df_original)*100:.2f}%)\")\n",
        "print(f\"Tamaño del conjunto de entrenamiento y validación (train_val_df): {len(train_val_df)} ({len(train_val_df)/len(df_original)*100:.2f}%)\")\n",
        "\n",
        "# Seleccionamos el DataFrame que se enviará a la API (solo el conjunto de test)\n",
        "df_to_process = test_df.copy() # Usamos .copy() para evitar SettingWithCopyWarning"
      ],
      "metadata": {
        "colab": {
          "base_uri": "https://localhost:8080/"
        },
        "id": "YxrFd4Ex223s",
        "outputId": "297eed92-2380-445e-dac3-18655b888278"
      },
      "execution_count": null,
      "outputs": [
        {
          "output_type": "stream",
          "name": "stdout",
          "text": [
            "Tamaño del DataFrame original: 10000\n",
            "Tamaño del conjunto de test (test_df): 1000 (10.00%)\n",
            "Tamaño del conjunto de entrenamiento y validación (train_val_df): 9000 (90.00%)\n"
          ]
        }
      ]
    },
    {
      "cell_type": "markdown",
      "source": [
        "# --- 2. Preparar listas para los resultados ---"
      ],
      "metadata": {
        "id": "s30goon9sqWY"
      }
    },
    {
      "cell_type": "code",
      "source": [
        "predicted_labels = []\n",
        "spamcheck_scores = []\n",
        "spamcheck_reports = []"
      ],
      "metadata": {
        "id": "OWJ06YbospJZ"
      },
      "execution_count": null,
      "outputs": []
    },
    {
      "cell_type": "markdown",
      "source": [
        "# --- 3. Procesar cada correo en el DataFrame con spamcheck ---\n"
      ],
      "metadata": {
        "id": "YuK9iOhesxGh"
      }
    },
    {
      "cell_type": "code",
      "source": [
        "def process_email(row):\n",
        "    \"\"\"Procesa un solo correo con spamcheck y devuelve los resultados.\"\"\"\n",
        "    subject = row['subject']\n",
        "    body = row['body']\n",
        "    email_content = f\"Subject: {subject}\\n\\n{body}\"\n",
        "\n",
        "    try:\n",
        "        result = spamcheck.check(email_content, report=True)\n",
        "        score = result['score']\n",
        "        report = result['report']\n",
        "\n",
        "        try:\n",
        "            score = float(score)\n",
        "        except ValueError:\n",
        "            # print(f\"Advertencia: El score de spamcheck no es numérico: '{score}'. Asumiendo 0.\") # Desactivado para no llenar la consola en paralelo\n",
        "            score = 0.0\n",
        "\n",
        "        predicted_label = 1 if score >= 5 else 0\n",
        "\n",
        "        return predicted_label, score, report\n",
        "\n",
        "    except Exception as e:\n",
        "        # print(f\"Error procesando el correo: {e}\") # Desactivado para no llenar la consola en paralelo\n",
        "        return 0, 0.0, {\"error\": str(e)}"
      ],
      "metadata": {
        "id": "lNVmvaLjt59w"
      },
      "execution_count": null,
      "outputs": []
    },
    {
      "cell_type": "code",
      "source": [
        "print(\"Procesando correos con spamcheck en paralelo...\")\n",
        "# Define el número de hilos. Un buen punto de partida es 5-10 para solicitudes de red.\n",
        "# No uses demasiados, ya que cada hilo consume recursos y los servidores de spamcheck pueden tener límites.\n",
        "NUM_THREADS = 16\n",
        "\n",
        "with concurrent.futures.ThreadPoolExecutor(max_workers=NUM_THREADS) as executor:\n",
        "    # Mapea la función 'process_email' a cada fila del DataFrame\n",
        "    # tqdm se usa para mostrar el progreso de las tareas completadas\n",
        "    results = list(tqdm(executor.map(process_email, df_to_process.to_dict('records')),\n",
        "                        total=df_to_process.shape[0],\n",
        "                        desc=\"Analizando correos en paralelo\"))\n",
        "\n",
        "for predicted_label, score, report in results:\n",
        "    predicted_labels.append(predicted_label)\n",
        "    spamcheck_scores.append(score)\n",
        "    spamcheck_reports.append(report)"
      ],
      "metadata": {
        "colab": {
          "base_uri": "https://localhost:8080/",
          "height": 67,
          "referenced_widgets": [
            "3240794842224435997d3182e106a796",
            "6a65d7585fd6483584bb1cbf0662da55",
            "72a8a5a1eede4af4b66c8897dbc9300b",
            "068650fea1bf4bcea873cbf876f5b5c0",
            "aa5b795e8b204918bde7d01cc8fea1bb",
            "7570aa69b5044d0db913d1ef8a3f01f1",
            "963d2b7bb1d940e8882f03a8992c2ffc",
            "22b4ebfaebb1466db7631c675d2d6949",
            "50a90657503a47c180bb2c0de373ed23",
            "8513dcea7c324b4ea6db65387b441495",
            "5b297be3b9724526aa7ecafefa20841e"
          ]
        },
        "id": "PVNFlEnwswVH",
        "outputId": "141271ba-8354-4513-fbcf-c32cdf98d45b"
      },
      "execution_count": null,
      "outputs": [
        {
          "output_type": "stream",
          "name": "stdout",
          "text": [
            "Procesando correos con spamcheck en paralelo...\n"
          ]
        },
        {
          "output_type": "display_data",
          "data": {
            "text/plain": [
              "Analizando correos en paralelo:   0%|          | 0/1000 [00:00<?, ?it/s]"
            ],
            "application/vnd.jupyter.widget-view+json": {
              "version_major": 2,
              "version_minor": 0,
              "model_id": "3240794842224435997d3182e106a796"
            }
          },
          "metadata": {}
        }
      ]
    },
    {
      "cell_type": "markdown",
      "source": [
        "# --- 4. Añadir resultados al DataFrame ---\n"
      ],
      "metadata": {
        "id": "KTPJ-ewCsyY0"
      }
    },
    {
      "cell_type": "code",
      "source": [
        "df_to_process['predicted_label'] = predicted_labels\n",
        "df_to_process['spamcheck_score'] = spamcheck_scores\n",
        "df_to_process['spamcheck_report'] = spamcheck_reports"
      ],
      "metadata": {
        "id": "0UUdasQTszn6"
      },
      "execution_count": null,
      "outputs": []
    },
    {
      "cell_type": "markdown",
      "source": [
        "# --- 5. Calcular métricas de rendimiento ---\n"
      ],
      "metadata": {
        "id": "Fx3EtI5js0ia"
      }
    },
    {
      "cell_type": "code",
      "source": [
        "true_labels = df_to_process['label'].tolist()\n",
        "predicted_labels = df_to_process['predicted_label'].tolist()\n",
        "\n",
        "print(\"\\n--- Métricas de Rendimiento ---\")\n",
        "\n",
        "# Matriz de Confusión\n",
        "tn, fp, fn, tp = confusion_matrix(true_labels, predicted_labels).ravel()\n",
        "print(f\"Verdaderos Positivos (TP): {tp}\")\n",
        "print(f\"Verdaderos Negativos (TN): {tn}\")\n",
        "print(f\"Falsos Positivos (FP): {fp}\")\n",
        "print(f\"Falsos Negativos (FN): {fn}\")\n",
        "\n",
        "# Accuracy\n",
        "accuracy = accuracy_score(true_labels, predicted_labels)\n",
        "print(f\"Accuracy: {accuracy:.4f}\")\n",
        "\n",
        "# Precision\n",
        "precision = precision_score(true_labels, predicted_labels, zero_division=0)\n",
        "print(f\"Precision: {precision:.4f}\")\n",
        "\n",
        "# Recall\n",
        "recall = recall_score(true_labels, predicted_labels, zero_division=0)\n",
        "print(f\"Recall: {recall:.4f}\")\n",
        "\n",
        "# F1 Score\n",
        "f1 = f1_score(true_labels, predicted_labels, zero_division=0)\n",
        "print(f\"F1 Score: {f1:.4f}\")"
      ],
      "metadata": {
        "colab": {
          "base_uri": "https://localhost:8080/"
        },
        "id": "7LxH1Mu3s2_i",
        "outputId": "9ec9be40-9ec7-4fa4-df01-fc4802fd52b4"
      },
      "execution_count": null,
      "outputs": [
        {
          "output_type": "stream",
          "name": "stdout",
          "text": [
            "\n",
            "--- Métricas de Rendimiento ---\n",
            "Verdaderos Positivos (TP): 126\n",
            "Verdaderos Negativos (TN): 498\n",
            "Falsos Positivos (FP): 2\n",
            "Falsos Negativos (FN): 374\n",
            "Accuracy: 0.6240\n",
            "Precision: 0.9844\n",
            "Recall: 0.2520\n",
            "F1 Score: 0.4013\n"
          ]
        }
      ]
    }
  ],
  "metadata": {
    "colab": {
      "provenance": [],
      "include_colab_link": true
    },
    "kernelspec": {
      "display_name": "Python 3",
      "name": "python3"
    },
    "widgets": {
      "application/vnd.jupyter.widget-state+json": {
        "3240794842224435997d3182e106a796": {
          "model_module": "@jupyter-widgets/controls",
          "model_name": "HBoxModel",
          "model_module_version": "1.5.0",
          "state": {
            "_dom_classes": [],
            "_model_module": "@jupyter-widgets/controls",
            "_model_module_version": "1.5.0",
            "_model_name": "HBoxModel",
            "_view_count": null,
            "_view_module": "@jupyter-widgets/controls",
            "_view_module_version": "1.5.0",
            "_view_name": "HBoxView",
            "box_style": "",
            "children": [
              "IPY_MODEL_6a65d7585fd6483584bb1cbf0662da55",
              "IPY_MODEL_72a8a5a1eede4af4b66c8897dbc9300b",
              "IPY_MODEL_068650fea1bf4bcea873cbf876f5b5c0"
            ],
            "layout": "IPY_MODEL_aa5b795e8b204918bde7d01cc8fea1bb"
          }
        },
        "6a65d7585fd6483584bb1cbf0662da55": {
          "model_module": "@jupyter-widgets/controls",
          "model_name": "HTMLModel",
          "model_module_version": "1.5.0",
          "state": {
            "_dom_classes": [],
            "_model_module": "@jupyter-widgets/controls",
            "_model_module_version": "1.5.0",
            "_model_name": "HTMLModel",
            "_view_count": null,
            "_view_module": "@jupyter-widgets/controls",
            "_view_module_version": "1.5.0",
            "_view_name": "HTMLView",
            "description": "",
            "description_tooltip": null,
            "layout": "IPY_MODEL_7570aa69b5044d0db913d1ef8a3f01f1",
            "placeholder": "​",
            "style": "IPY_MODEL_963d2b7bb1d940e8882f03a8992c2ffc",
            "value": "Analizando correos en paralelo: 100%"
          }
        },
        "72a8a5a1eede4af4b66c8897dbc9300b": {
          "model_module": "@jupyter-widgets/controls",
          "model_name": "FloatProgressModel",
          "model_module_version": "1.5.0",
          "state": {
            "_dom_classes": [],
            "_model_module": "@jupyter-widgets/controls",
            "_model_module_version": "1.5.0",
            "_model_name": "FloatProgressModel",
            "_view_count": null,
            "_view_module": "@jupyter-widgets/controls",
            "_view_module_version": "1.5.0",
            "_view_name": "ProgressView",
            "bar_style": "success",
            "description": "",
            "description_tooltip": null,
            "layout": "IPY_MODEL_22b4ebfaebb1466db7631c675d2d6949",
            "max": 1000,
            "min": 0,
            "orientation": "horizontal",
            "style": "IPY_MODEL_50a90657503a47c180bb2c0de373ed23",
            "value": 1000
          }
        },
        "068650fea1bf4bcea873cbf876f5b5c0": {
          "model_module": "@jupyter-widgets/controls",
          "model_name": "HTMLModel",
          "model_module_version": "1.5.0",
          "state": {
            "_dom_classes": [],
            "_model_module": "@jupyter-widgets/controls",
            "_model_module_version": "1.5.0",
            "_model_name": "HTMLModel",
            "_view_count": null,
            "_view_module": "@jupyter-widgets/controls",
            "_view_module_version": "1.5.0",
            "_view_name": "HTMLView",
            "description": "",
            "description_tooltip": null,
            "layout": "IPY_MODEL_8513dcea7c324b4ea6db65387b441495",
            "placeholder": "​",
            "style": "IPY_MODEL_5b297be3b9724526aa7ecafefa20841e",
            "value": " 1000/1000 [04:28&lt;00:00,  4.99it/s]"
          }
        },
        "aa5b795e8b204918bde7d01cc8fea1bb": {
          "model_module": "@jupyter-widgets/base",
          "model_name": "LayoutModel",
          "model_module_version": "1.2.0",
          "state": {
            "_model_module": "@jupyter-widgets/base",
            "_model_module_version": "1.2.0",
            "_model_name": "LayoutModel",
            "_view_count": null,
            "_view_module": "@jupyter-widgets/base",
            "_view_module_version": "1.2.0",
            "_view_name": "LayoutView",
            "align_content": null,
            "align_items": null,
            "align_self": null,
            "border": null,
            "bottom": null,
            "display": null,
            "flex": null,
            "flex_flow": null,
            "grid_area": null,
            "grid_auto_columns": null,
            "grid_auto_flow": null,
            "grid_auto_rows": null,
            "grid_column": null,
            "grid_gap": null,
            "grid_row": null,
            "grid_template_areas": null,
            "grid_template_columns": null,
            "grid_template_rows": null,
            "height": null,
            "justify_content": null,
            "justify_items": null,
            "left": null,
            "margin": null,
            "max_height": null,
            "max_width": null,
            "min_height": null,
            "min_width": null,
            "object_fit": null,
            "object_position": null,
            "order": null,
            "overflow": null,
            "overflow_x": null,
            "overflow_y": null,
            "padding": null,
            "right": null,
            "top": null,
            "visibility": null,
            "width": null
          }
        },
        "7570aa69b5044d0db913d1ef8a3f01f1": {
          "model_module": "@jupyter-widgets/base",
          "model_name": "LayoutModel",
          "model_module_version": "1.2.0",
          "state": {
            "_model_module": "@jupyter-widgets/base",
            "_model_module_version": "1.2.0",
            "_model_name": "LayoutModel",
            "_view_count": null,
            "_view_module": "@jupyter-widgets/base",
            "_view_module_version": "1.2.0",
            "_view_name": "LayoutView",
            "align_content": null,
            "align_items": null,
            "align_self": null,
            "border": null,
            "bottom": null,
            "display": null,
            "flex": null,
            "flex_flow": null,
            "grid_area": null,
            "grid_auto_columns": null,
            "grid_auto_flow": null,
            "grid_auto_rows": null,
            "grid_column": null,
            "grid_gap": null,
            "grid_row": null,
            "grid_template_areas": null,
            "grid_template_columns": null,
            "grid_template_rows": null,
            "height": null,
            "justify_content": null,
            "justify_items": null,
            "left": null,
            "margin": null,
            "max_height": null,
            "max_width": null,
            "min_height": null,
            "min_width": null,
            "object_fit": null,
            "object_position": null,
            "order": null,
            "overflow": null,
            "overflow_x": null,
            "overflow_y": null,
            "padding": null,
            "right": null,
            "top": null,
            "visibility": null,
            "width": null
          }
        },
        "963d2b7bb1d940e8882f03a8992c2ffc": {
          "model_module": "@jupyter-widgets/controls",
          "model_name": "DescriptionStyleModel",
          "model_module_version": "1.5.0",
          "state": {
            "_model_module": "@jupyter-widgets/controls",
            "_model_module_version": "1.5.0",
            "_model_name": "DescriptionStyleModel",
            "_view_count": null,
            "_view_module": "@jupyter-widgets/base",
            "_view_module_version": "1.2.0",
            "_view_name": "StyleView",
            "description_width": ""
          }
        },
        "22b4ebfaebb1466db7631c675d2d6949": {
          "model_module": "@jupyter-widgets/base",
          "model_name": "LayoutModel",
          "model_module_version": "1.2.0",
          "state": {
            "_model_module": "@jupyter-widgets/base",
            "_model_module_version": "1.2.0",
            "_model_name": "LayoutModel",
            "_view_count": null,
            "_view_module": "@jupyter-widgets/base",
            "_view_module_version": "1.2.0",
            "_view_name": "LayoutView",
            "align_content": null,
            "align_items": null,
            "align_self": null,
            "border": null,
            "bottom": null,
            "display": null,
            "flex": null,
            "flex_flow": null,
            "grid_area": null,
            "grid_auto_columns": null,
            "grid_auto_flow": null,
            "grid_auto_rows": null,
            "grid_column": null,
            "grid_gap": null,
            "grid_row": null,
            "grid_template_areas": null,
            "grid_template_columns": null,
            "grid_template_rows": null,
            "height": null,
            "justify_content": null,
            "justify_items": null,
            "left": null,
            "margin": null,
            "max_height": null,
            "max_width": null,
            "min_height": null,
            "min_width": null,
            "object_fit": null,
            "object_position": null,
            "order": null,
            "overflow": null,
            "overflow_x": null,
            "overflow_y": null,
            "padding": null,
            "right": null,
            "top": null,
            "visibility": null,
            "width": null
          }
        },
        "50a90657503a47c180bb2c0de373ed23": {
          "model_module": "@jupyter-widgets/controls",
          "model_name": "ProgressStyleModel",
          "model_module_version": "1.5.0",
          "state": {
            "_model_module": "@jupyter-widgets/controls",
            "_model_module_version": "1.5.0",
            "_model_name": "ProgressStyleModel",
            "_view_count": null,
            "_view_module": "@jupyter-widgets/base",
            "_view_module_version": "1.2.0",
            "_view_name": "StyleView",
            "bar_color": null,
            "description_width": ""
          }
        },
        "8513dcea7c324b4ea6db65387b441495": {
          "model_module": "@jupyter-widgets/base",
          "model_name": "LayoutModel",
          "model_module_version": "1.2.0",
          "state": {
            "_model_module": "@jupyter-widgets/base",
            "_model_module_version": "1.2.0",
            "_model_name": "LayoutModel",
            "_view_count": null,
            "_view_module": "@jupyter-widgets/base",
            "_view_module_version": "1.2.0",
            "_view_name": "LayoutView",
            "align_content": null,
            "align_items": null,
            "align_self": null,
            "border": null,
            "bottom": null,
            "display": null,
            "flex": null,
            "flex_flow": null,
            "grid_area": null,
            "grid_auto_columns": null,
            "grid_auto_flow": null,
            "grid_auto_rows": null,
            "grid_column": null,
            "grid_gap": null,
            "grid_row": null,
            "grid_template_areas": null,
            "grid_template_columns": null,
            "grid_template_rows": null,
            "height": null,
            "justify_content": null,
            "justify_items": null,
            "left": null,
            "margin": null,
            "max_height": null,
            "max_width": null,
            "min_height": null,
            "min_width": null,
            "object_fit": null,
            "object_position": null,
            "order": null,
            "overflow": null,
            "overflow_x": null,
            "overflow_y": null,
            "padding": null,
            "right": null,
            "top": null,
            "visibility": null,
            "width": null
          }
        },
        "5b297be3b9724526aa7ecafefa20841e": {
          "model_module": "@jupyter-widgets/controls",
          "model_name": "DescriptionStyleModel",
          "model_module_version": "1.5.0",
          "state": {
            "_model_module": "@jupyter-widgets/controls",
            "_model_module_version": "1.5.0",
            "_model_name": "DescriptionStyleModel",
            "_view_count": null,
            "_view_module": "@jupyter-widgets/base",
            "_view_module_version": "1.2.0",
            "_view_name": "StyleView",
            "description_width": ""
          }
        }
      }
    }
  },
  "nbformat": 4,
  "nbformat_minor": 0
}