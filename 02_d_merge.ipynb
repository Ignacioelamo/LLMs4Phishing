{
  "nbformat": 4,
  "nbformat_minor": 0,
  "metadata": {
    "colab": {
      "provenance": [],
      "authorship_tag": "ABX9TyNAk6Emeqh9aARt2MJNaJWW",
      "include_colab_link": true
    },
    "kernelspec": {
      "name": "python3",
      "display_name": "Python 3"
    },
    "language_info": {
      "name": "python"
    }
  },
  "cells": [
    {
      "cell_type": "markdown",
      "metadata": {
        "id": "view-in-github",
        "colab_type": "text"
      },
      "source": [
        "<a href=\"https://colab.research.google.com/github/Ignacioelamo/LLMs4Phishing/blob/main/02_d_merge.ipynb\" target=\"_parent\"><img src=\"https://colab.research.google.com/assets/colab-badge.svg\" alt=\"Open In Colab\"/></a>"
      ]
    },
    {
      "cell_type": "code",
      "execution_count": 6,
      "metadata": {
        "id": "tim_S2y8tQQu"
      },
      "outputs": [],
      "source": [
        "import pandas as pd"
      ]
    },
    {
      "cell_type": "code",
      "source": [
        "ARCHIVO_LDA = 'lda.csv'\n",
        "ARCHIVO_KEYBERT = 'keybert.csv'\n",
        "ARCHIVO_BERTOPIC = 'bertopic.csv'\n",
        "\n",
        "!wget https://raw.githubusercontent.com/Ignacioelamo/LLMs4Phishing/main/data/02_raw/emails_with_feauture_engineering_lda.csv -O $ARCHIVO_LDA\n",
        "!wget https://raw.githubusercontent.com/Ignacioelamo/LLMs4Phishing/main/data/02_raw/emails_with_keywords.csv -O $ARCHIVO_KEYBERT\n",
        "!wget https://raw.githubusercontent.com/Ignacioelamo/LLMs4Phishing/main/data/02_raw/emails_with_label_bertopic.csv -O $ARCHIVO_BERTOPIC"
      ],
      "metadata": {
        "colab": {
          "base_uri": "https://localhost:8080/"
        },
        "id": "Kvqfr4q6tThT",
        "outputId": "771a4aa7-021c-47af-e30b-0c2cb211bd14"
      },
      "execution_count": 7,
      "outputs": [
        {
          "output_type": "stream",
          "name": "stdout",
          "text": [
            "--2025-06-02 13:01:57--  https://raw.githubusercontent.com/Ignacioelamo/LLMs4Phishing/main/data/02_raw/emails_with_feauture_engineering_lda.csv\n",
            "Resolving raw.githubusercontent.com (raw.githubusercontent.com)... 185.199.108.133, 185.199.109.133, 185.199.110.133, ...\n",
            "Connecting to raw.githubusercontent.com (raw.githubusercontent.com)|185.199.108.133|:443... connected.\n",
            "HTTP request sent, awaiting response... 200 OK\n",
            "Length: 10744565 (10M) [text/plain]\n",
            "Saving to: ‘lda.csv’\n",
            "\n",
            "\rlda.csv               0%[                    ]       0  --.-KB/s               \rlda.csv             100%[===================>]  10.25M  --.-KB/s    in 0.03s   \n",
            "\n",
            "2025-06-02 13:01:57 (296 MB/s) - ‘lda.csv’ saved [10744565/10744565]\n",
            "\n",
            "--2025-06-02 13:01:57--  https://raw.githubusercontent.com/Ignacioelamo/LLMs4Phishing/main/data/02_raw/emails_with_keywords.csv\n",
            "Resolving raw.githubusercontent.com (raw.githubusercontent.com)... 185.199.108.133, 185.199.109.133, 185.199.110.133, ...\n",
            "Connecting to raw.githubusercontent.com (raw.githubusercontent.com)|185.199.108.133|:443... connected.\n",
            "HTTP request sent, awaiting response... 200 OK\n",
            "Length: 11458916 (11M) [text/plain]\n",
            "Saving to: ‘keybert.csv’\n",
            "\n",
            "keybert.csv         100%[===================>]  10.93M  --.-KB/s    in 0.04s   \n",
            "\n",
            "2025-06-02 13:01:57 (279 MB/s) - ‘keybert.csv’ saved [11458916/11458916]\n",
            "\n",
            "--2025-06-02 13:01:57--  https://raw.githubusercontent.com/Ignacioelamo/LLMs4Phishing/main/data/02_raw/emails_with_label_bertopic.csv\n",
            "Resolving raw.githubusercontent.com (raw.githubusercontent.com)... 185.199.110.133, 185.199.109.133, 185.199.111.133, ...\n",
            "Connecting to raw.githubusercontent.com (raw.githubusercontent.com)|185.199.110.133|:443... connected.\n",
            "HTTP request sent, awaiting response... 200 OK\n",
            "Length: 10431770 (9.9M) [text/plain]\n",
            "Saving to: ‘bertopic.csv’\n",
            "\n",
            "bertopic.csv        100%[===================>]   9.95M  --.-KB/s    in 0.04s   \n",
            "\n",
            "2025-06-02 13:01:57 (281 MB/s) - ‘bertopic.csv’ saved [10431770/10431770]\n",
            "\n"
          ]
        }
      ]
    },
    {
      "cell_type": "code",
      "source": [
        "df_lda = pd.read_csv(ARCHIVO_LDA)\n",
        "df_keybert = pd.read_csv(ARCHIVO_KEYBERT)\n",
        "df_bertopic = pd.read_csv(ARCHIVO_BERTOPIC)\n",
        "\n",
        "print(df_lda.columns)\n",
        "print(df_keybert.columns)\n",
        "print(df_bertopic.columns)"
      ],
      "metadata": {
        "colab": {
          "base_uri": "https://localhost:8080/"
        },
        "id": "zHz0cE8rt8q8",
        "outputId": "f7d559e4-9738-49c1-e1cf-48fced528666"
      },
      "execution_count": 8,
      "outputs": [
        {
          "output_type": "stream",
          "name": "stdout",
          "text": [
            "Index(['source', 'subject', 'body', 'contains_html', 'body_forms',\n",
            "       'has_attachment', 'urls', 'label', 'body_noWords', 'body_noCharacters',\n",
            "       'body_noDistinctWords', 'body_richness', 'body_noFunctionWords',\n",
            "       'lda_topic'],\n",
            "      dtype='object')\n",
            "Index(['source', 'subject', 'body', 'contains_html', 'body_forms',\n",
            "       'has_attachment', 'urls', 'label', 'keywords'],\n",
            "      dtype='object')\n",
            "Index(['Unnamed: 0', 'source', 'subject', 'body', 'contains_html',\n",
            "       'body_forms', 'has_attachment', 'urls', 'label', 'label_bertopic'],\n",
            "      dtype='object')\n"
          ]
        }
      ]
    },
    {
      "cell_type": "code",
      "source": [
        "# Eliminar la columna 'Unnamed: 0' de df_bertopic\n",
        "df_bertopic = df_bertopic.drop(columns=['Unnamed: 0'])\n",
        "\n",
        "# Concatenar los tres DataFrames por columnas\n",
        "df_concat = pd.concat([df_lda, df_keybert['keywords'], df_bertopic['label_bertopic']], axis=1)\n",
        "\n",
        "# Ver el resultado\n",
        "print(df_concat.head())\n",
        "\n",
        "df_concat.to_csv('02_enriched_dataset.csv')"
      ],
      "metadata": {
        "colab": {
          "base_uri": "https://localhost:8080/"
        },
        "id": "VJizGQbOur3Q",
        "outputId": "5353ce38-d472-4511-dfd9-1f37b4ac4a72"
      },
      "execution_count": 9,
      "outputs": [
        {
          "output_type": "stream",
          "name": "stdout",
          "text": [
            "  source                                            subject  \\\n",
            "0   TREC                                       Re.Important   \n",
            "1   TREC                                      Join Us Today   \n",
            "2   TREC  What to look for when purchasing a replica watch!   \n",
            "3   TREC                         best products the industry   \n",
            "4   TREC  funnyreign@speedy.uwaterloo.ca, See your favor...   \n",
            "\n",
            "                                                body  contains_html  \\\n",
            "0  high quality pills canadian pharmacy presents ...          False   \n",
            "1  conquer your fears and find out exactly what a...          False   \n",
            "2  vip r e p l i c a w a t c h e s if you are loo...           True   \n",
            "3  get the finest watch replicas we only sell pre...          False   \n",
            "4  dear hockey fan don t miss this exciting oppor...          False   \n",
            "\n",
            "   body_forms  has_attachment  \\\n",
            "0       False           False   \n",
            "1       False           False   \n",
            "2       False           False   \n",
            "3       False           False   \n",
            "4       False           False   \n",
            "\n",
            "                                                urls  label  body_noWords  \\\n",
            "0                                                 []      1            50   \n",
            "1                                                 []      1           164   \n",
            "2                                                 []      1           248   \n",
            "3                           ['http://ilook.tw/du4d']      1           102   \n",
            "4  ['http://rustypromdress.com/c/895303/opytzwxz4...      1           249   \n",
            "\n",
            "   body_noCharacters  body_noDistinctWords  body_richness  \\\n",
            "0                286                    39       0.174825   \n",
            "1                857                   110       0.191365   \n",
            "2               1207                    89       0.205468   \n",
            "3                598                    82       0.170569   \n",
            "4               1579                   173       0.157695   \n",
            "\n",
            "   body_noFunctionWords                                lda_topic  \\\n",
            "0                     3           Digital promotions and rewards   \n",
            "1                     4         Commercial advertising and sales   \n",
            "2                     6           Digital promotions and rewards   \n",
            "3                     0           Digital promotions and rewards   \n",
            "4                     3  Financial scams and suspicious requests   \n",
            "\n",
            "                                            keywords  \\\n",
            "0  cheapest viagra pills, canadian pharmacy prese...   \n",
            "1  oin s oday conquer your fears and find out exa...   \n",
            "2  replica watch vip, stylish quality costume, us...   \n",
            "3  best products, industry, get, finest watch rep...   \n",
            "4  live dear hockey, copyright rustypromdress com...   \n",
            "\n",
            "                     label_bertopic  \n",
            "0           Online Viagra Discounts  \n",
            "1  Home-based income opportunities.  \n",
            "2              Replica Watch Offers  \n",
            "3              Replica Watch Offers  \n",
            "4              Rewards Offer Emails  \n"
          ]
        }
      ]
    }
  ]
}