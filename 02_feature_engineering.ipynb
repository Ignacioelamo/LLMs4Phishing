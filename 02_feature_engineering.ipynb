{
  "cells": [
    {
      "cell_type": "markdown",
      "metadata": {
        "id": "view-in-github",
        "colab_type": "text"
      },
      "source": [
        "<a href=\"https://colab.research.google.com/github/Ignacioelamo/LLMs4Phishing/blob/main/02_feature_engineering.ipynb\" target=\"_parent\"><img src=\"https://colab.research.google.com/assets/colab-badge.svg\" alt=\"Open In Colab\"/></a>"
      ]
    },
    {
      "cell_type": "markdown",
      "source": [
        "# Instalación Previa"
      ],
      "metadata": {
        "id": "ZyaTOBLcHWOS"
      }
    },
    {
      "cell_type": "markdown",
      "source": [
        "## Descargas"
      ],
      "metadata": {
        "id": "VCSqZdcYHlcI"
      }
    },
    {
      "cell_type": "code",
      "source": [
        "!pip install --upgrade --force-reinstall gensim pyLDAvis"
      ],
      "metadata": {
        "colab": {
          "base_uri": "https://localhost:8080/",
          "height": 1000
        },
        "id": "rB-DucbmHZnX",
        "outputId": "258d06a5-9cb2-4cb8-c0b1-570bc31bc0d7"
      },
      "execution_count": 1,
      "outputs": [
        {
          "output_type": "stream",
          "name": "stdout",
          "text": [
            "Collecting gensim\n",
            "  Downloading gensim-4.3.3-cp311-cp311-manylinux_2_17_x86_64.manylinux2014_x86_64.whl.metadata (8.1 kB)\n",
            "Collecting pyLDAvis\n",
            "  Downloading pyLDAvis-3.4.1-py3-none-any.whl.metadata (4.2 kB)\n",
            "Collecting numpy<2.0,>=1.18.5 (from gensim)\n",
            "  Downloading numpy-1.26.4-cp311-cp311-manylinux_2_17_x86_64.manylinux2014_x86_64.whl.metadata (61 kB)\n",
            "\u001b[2K     \u001b[90m━━━━━━━━━━━━━━━━━━━━━━━━━━━━━━━━━━━━━━━━\u001b[0m \u001b[32m61.0/61.0 kB\u001b[0m \u001b[31m1.9 MB/s\u001b[0m eta \u001b[36m0:00:00\u001b[0m\n",
            "\u001b[?25hCollecting scipy<1.14.0,>=1.7.0 (from gensim)\n",
            "  Downloading scipy-1.13.1-cp311-cp311-manylinux_2_17_x86_64.manylinux2014_x86_64.whl.metadata (60 kB)\n",
            "\u001b[2K     \u001b[90m━━━━━━━━━━━━━━━━━━━━━━━━━━━━━━━━━━━━━━━━\u001b[0m \u001b[32m60.6/60.6 kB\u001b[0m \u001b[31m2.1 MB/s\u001b[0m eta \u001b[36m0:00:00\u001b[0m\n",
            "\u001b[?25hCollecting smart-open>=1.8.1 (from gensim)\n",
            "  Downloading smart_open-7.1.0-py3-none-any.whl.metadata (24 kB)\n",
            "Collecting pandas>=2.0.0 (from pyLDAvis)\n",
            "  Downloading pandas-2.2.3-cp311-cp311-manylinux_2_17_x86_64.manylinux2014_x86_64.whl.metadata (89 kB)\n",
            "\u001b[2K     \u001b[90m━━━━━━━━━━━━━━━━━━━━━━━━━━━━━━━━━━━━━━━━\u001b[0m \u001b[32m89.9/89.9 kB\u001b[0m \u001b[31m4.7 MB/s\u001b[0m eta \u001b[36m0:00:00\u001b[0m\n",
            "\u001b[?25hCollecting joblib>=1.2.0 (from pyLDAvis)\n",
            "  Downloading joblib-1.5.1-py3-none-any.whl.metadata (5.6 kB)\n",
            "Collecting jinja2 (from pyLDAvis)\n",
            "  Downloading jinja2-3.1.6-py3-none-any.whl.metadata (2.9 kB)\n",
            "Collecting numexpr (from pyLDAvis)\n",
            "  Downloading numexpr-2.10.2-cp311-cp311-manylinux_2_27_x86_64.manylinux_2_28_x86_64.whl.metadata (8.1 kB)\n",
            "Collecting funcy (from pyLDAvis)\n",
            "  Downloading funcy-2.0-py2.py3-none-any.whl.metadata (5.9 kB)\n",
            "Collecting scikit-learn>=1.0.0 (from pyLDAvis)\n",
            "  Downloading scikit_learn-1.6.1-cp311-cp311-manylinux_2_17_x86_64.manylinux2014_x86_64.whl.metadata (18 kB)\n",
            "Collecting setuptools (from pyLDAvis)\n",
            "  Downloading setuptools-80.9.0-py3-none-any.whl.metadata (6.6 kB)\n",
            "Collecting python-dateutil>=2.8.2 (from pandas>=2.0.0->pyLDAvis)\n",
            "  Downloading python_dateutil-2.9.0.post0-py2.py3-none-any.whl.metadata (8.4 kB)\n",
            "Collecting pytz>=2020.1 (from pandas>=2.0.0->pyLDAvis)\n",
            "  Downloading pytz-2025.2-py2.py3-none-any.whl.metadata (22 kB)\n",
            "Collecting tzdata>=2022.7 (from pandas>=2.0.0->pyLDAvis)\n",
            "  Downloading tzdata-2025.2-py2.py3-none-any.whl.metadata (1.4 kB)\n",
            "Collecting threadpoolctl>=3.1.0 (from scikit-learn>=1.0.0->pyLDAvis)\n",
            "  Downloading threadpoolctl-3.6.0-py3-none-any.whl.metadata (13 kB)\n",
            "Collecting wrapt (from smart-open>=1.8.1->gensim)\n",
            "  Downloading wrapt-1.17.2-cp311-cp311-manylinux_2_5_x86_64.manylinux1_x86_64.manylinux_2_17_x86_64.manylinux2014_x86_64.whl.metadata (6.4 kB)\n",
            "Collecting MarkupSafe>=2.0 (from jinja2->pyLDAvis)\n",
            "  Downloading MarkupSafe-3.0.2-cp311-cp311-manylinux_2_17_x86_64.manylinux2014_x86_64.whl.metadata (4.0 kB)\n",
            "Collecting six>=1.5 (from python-dateutil>=2.8.2->pandas>=2.0.0->pyLDAvis)\n",
            "  Downloading six-1.17.0-py2.py3-none-any.whl.metadata (1.7 kB)\n",
            "Downloading gensim-4.3.3-cp311-cp311-manylinux_2_17_x86_64.manylinux2014_x86_64.whl (26.7 MB)\n",
            "\u001b[2K   \u001b[90m━━━━━━━━━━━━━━━━━━━━━━━━━━━━━━━━━━━━━━━━\u001b[0m \u001b[32m26.7/26.7 MB\u001b[0m \u001b[31m75.3 MB/s\u001b[0m eta \u001b[36m0:00:00\u001b[0m\n",
            "\u001b[?25hDownloading pyLDAvis-3.4.1-py3-none-any.whl (2.6 MB)\n",
            "\u001b[2K   \u001b[90m━━━━━━━━━━━━━━━━━━━━━━━━━━━━━━━━━━━━━━━━\u001b[0m \u001b[32m2.6/2.6 MB\u001b[0m \u001b[31m70.5 MB/s\u001b[0m eta \u001b[36m0:00:00\u001b[0m\n",
            "\u001b[?25hDownloading joblib-1.5.1-py3-none-any.whl (307 kB)\n",
            "\u001b[2K   \u001b[90m━━━━━━━━━━━━━━━━━━━━━━━━━━━━━━━━━━━━━━━━\u001b[0m \u001b[32m307.7/307.7 kB\u001b[0m \u001b[31m17.1 MB/s\u001b[0m eta \u001b[36m0:00:00\u001b[0m\n",
            "\u001b[?25hDownloading numpy-1.26.4-cp311-cp311-manylinux_2_17_x86_64.manylinux2014_x86_64.whl (18.3 MB)\n",
            "\u001b[2K   \u001b[90m━━━━━━━━━━━━━━━━━━━━━━━━━━━━━━━━━━━━━━━━\u001b[0m \u001b[32m18.3/18.3 MB\u001b[0m \u001b[31m92.0 MB/s\u001b[0m eta \u001b[36m0:00:00\u001b[0m\n",
            "\u001b[?25hDownloading pandas-2.2.3-cp311-cp311-manylinux_2_17_x86_64.manylinux2014_x86_64.whl (13.1 MB)\n",
            "\u001b[2K   \u001b[90m━━━━━━━━━━━━━━━━━━━━━━━━━━━━━━━━━━━━━━━━\u001b[0m \u001b[32m13.1/13.1 MB\u001b[0m \u001b[31m113.3 MB/s\u001b[0m eta \u001b[36m0:00:00\u001b[0m\n",
            "\u001b[?25hDownloading scikit_learn-1.6.1-cp311-cp311-manylinux_2_17_x86_64.manylinux2014_x86_64.whl (13.5 MB)\n",
            "\u001b[2K   \u001b[90m━━━━━━━━━━━━━━━━━━━━━━━━━━━━━━━━━━━━━━━━\u001b[0m \u001b[32m13.5/13.5 MB\u001b[0m \u001b[31m23.5 MB/s\u001b[0m eta \u001b[36m0:00:00\u001b[0m\n",
            "\u001b[?25hDownloading scipy-1.13.1-cp311-cp311-manylinux_2_17_x86_64.manylinux2014_x86_64.whl (38.6 MB)\n",
            "\u001b[2K   \u001b[90m━━━━━━━━━━━━━━━━━━━━━━━━━━━━━━━━━━━━━━━━\u001b[0m \u001b[32m38.6/38.6 MB\u001b[0m \u001b[31m26.3 MB/s\u001b[0m eta \u001b[36m0:00:00\u001b[0m\n",
            "\u001b[?25hDownloading smart_open-7.1.0-py3-none-any.whl (61 kB)\n",
            "\u001b[2K   \u001b[90m━━━━━━━━━━━━━━━━━━━━━━━━━━━━━━━━━━━━━━━━\u001b[0m \u001b[32m61.7/61.7 kB\u001b[0m \u001b[31m4.6 MB/s\u001b[0m eta \u001b[36m0:00:00\u001b[0m\n",
            "\u001b[?25hDownloading funcy-2.0-py2.py3-none-any.whl (30 kB)\n",
            "Downloading jinja2-3.1.6-py3-none-any.whl (134 kB)\n",
            "\u001b[2K   \u001b[90m━━━━━━━━━━━━━━━━━━━━━━━━━━━━━━━━━━━━━━━━\u001b[0m \u001b[32m134.9/134.9 kB\u001b[0m \u001b[31m10.0 MB/s\u001b[0m eta \u001b[36m0:00:00\u001b[0m\n",
            "\u001b[?25hDownloading numexpr-2.10.2-cp311-cp311-manylinux_2_27_x86_64.manylinux_2_28_x86_64.whl (398 kB)\n",
            "\u001b[2K   \u001b[90m━━━━━━━━━━━━━━━━━━━━━━━━━━━━━━━━━━━━━━━━\u001b[0m \u001b[32m398.9/398.9 kB\u001b[0m \u001b[31m26.8 MB/s\u001b[0m eta \u001b[36m0:00:00\u001b[0m\n",
            "\u001b[?25hDownloading setuptools-80.9.0-py3-none-any.whl (1.2 MB)\n",
            "\u001b[2K   \u001b[90m━━━━━━━━━━━━━━━━━━━━━━━━━━━━━━━━━━━━━━━━\u001b[0m \u001b[32m1.2/1.2 MB\u001b[0m \u001b[31m58.6 MB/s\u001b[0m eta \u001b[36m0:00:00\u001b[0m\n",
            "\u001b[?25hDownloading MarkupSafe-3.0.2-cp311-cp311-manylinux_2_17_x86_64.manylinux2014_x86_64.whl (23 kB)\n",
            "Downloading python_dateutil-2.9.0.post0-py2.py3-none-any.whl (229 kB)\n",
            "\u001b[2K   \u001b[90m━━━━━━━━━━━━━━━━━━━━━━━━━━━━━━━━━━━━━━━━\u001b[0m \u001b[32m229.9/229.9 kB\u001b[0m \u001b[31m18.2 MB/s\u001b[0m eta \u001b[36m0:00:00\u001b[0m\n",
            "\u001b[?25hDownloading pytz-2025.2-py2.py3-none-any.whl (509 kB)\n",
            "\u001b[2K   \u001b[90m━━━━━━━━━━━━━━━━━━━━━━━━━━━━━━━━━━━━━━━━\u001b[0m \u001b[32m509.2/509.2 kB\u001b[0m \u001b[31m29.4 MB/s\u001b[0m eta \u001b[36m0:00:00\u001b[0m\n",
            "\u001b[?25hDownloading threadpoolctl-3.6.0-py3-none-any.whl (18 kB)\n",
            "Downloading tzdata-2025.2-py2.py3-none-any.whl (347 kB)\n",
            "\u001b[2K   \u001b[90m━━━━━━━━━━━━━━━━━━━━━━━━━━━━━━━━━━━━━━━━\u001b[0m \u001b[32m347.8/347.8 kB\u001b[0m \u001b[31m20.4 MB/s\u001b[0m eta \u001b[36m0:00:00\u001b[0m\n",
            "\u001b[?25hDownloading wrapt-1.17.2-cp311-cp311-manylinux_2_5_x86_64.manylinux1_x86_64.manylinux_2_17_x86_64.manylinux2014_x86_64.whl (83 kB)\n",
            "\u001b[2K   \u001b[90m━━━━━━━━━━━━━━━━━━━━━━━━━━━━━━━━━━━━━━━━\u001b[0m \u001b[32m83.2/83.2 kB\u001b[0m \u001b[31m6.1 MB/s\u001b[0m eta \u001b[36m0:00:00\u001b[0m\n",
            "\u001b[?25hDownloading six-1.17.0-py2.py3-none-any.whl (11 kB)\n",
            "Installing collected packages: pytz, funcy, wrapt, tzdata, threadpoolctl, six, setuptools, numpy, MarkupSafe, joblib, smart-open, scipy, python-dateutil, numexpr, jinja2, scikit-learn, pandas, gensim, pyLDAvis\n",
            "  Attempting uninstall: pytz\n",
            "    Found existing installation: pytz 2025.2\n",
            "    Uninstalling pytz-2025.2:\n",
            "      Successfully uninstalled pytz-2025.2\n",
            "  Attempting uninstall: wrapt\n",
            "    Found existing installation: wrapt 1.17.2\n",
            "    Uninstalling wrapt-1.17.2:\n",
            "      Successfully uninstalled wrapt-1.17.2\n",
            "  Attempting uninstall: tzdata\n",
            "    Found existing installation: tzdata 2025.2\n",
            "    Uninstalling tzdata-2025.2:\n",
            "      Successfully uninstalled tzdata-2025.2\n",
            "  Attempting uninstall: threadpoolctl\n",
            "    Found existing installation: threadpoolctl 3.6.0\n",
            "    Uninstalling threadpoolctl-3.6.0:\n",
            "      Successfully uninstalled threadpoolctl-3.6.0\n",
            "  Attempting uninstall: six\n",
            "    Found existing installation: six 1.17.0\n",
            "    Uninstalling six-1.17.0:\n",
            "      Successfully uninstalled six-1.17.0\n",
            "  Attempting uninstall: setuptools\n",
            "    Found existing installation: setuptools 75.2.0\n",
            "    Uninstalling setuptools-75.2.0:\n",
            "      Successfully uninstalled setuptools-75.2.0\n",
            "  Attempting uninstall: numpy\n",
            "    Found existing installation: numpy 2.0.2\n",
            "    Uninstalling numpy-2.0.2:\n",
            "      Successfully uninstalled numpy-2.0.2\n",
            "  Attempting uninstall: MarkupSafe\n",
            "    Found existing installation: MarkupSafe 3.0.2\n",
            "    Uninstalling MarkupSafe-3.0.2:\n",
            "      Successfully uninstalled MarkupSafe-3.0.2\n",
            "  Attempting uninstall: joblib\n",
            "    Found existing installation: joblib 1.5.0\n",
            "    Uninstalling joblib-1.5.0:\n",
            "      Successfully uninstalled joblib-1.5.0\n",
            "  Attempting uninstall: smart-open\n",
            "    Found existing installation: smart-open 7.1.0\n",
            "    Uninstalling smart-open-7.1.0:\n",
            "      Successfully uninstalled smart-open-7.1.0\n",
            "  Attempting uninstall: scipy\n",
            "    Found existing installation: scipy 1.15.3\n",
            "    Uninstalling scipy-1.15.3:\n",
            "      Successfully uninstalled scipy-1.15.3\n",
            "  Attempting uninstall: python-dateutil\n",
            "    Found existing installation: python-dateutil 2.9.0.post0\n",
            "    Uninstalling python-dateutil-2.9.0.post0:\n",
            "      Successfully uninstalled python-dateutil-2.9.0.post0\n",
            "  Attempting uninstall: numexpr\n",
            "    Found existing installation: numexpr 2.10.2\n",
            "    Uninstalling numexpr-2.10.2:\n",
            "      Successfully uninstalled numexpr-2.10.2\n",
            "  Attempting uninstall: jinja2\n",
            "    Found existing installation: Jinja2 3.1.6\n",
            "    Uninstalling Jinja2-3.1.6:\n",
            "      Successfully uninstalled Jinja2-3.1.6\n",
            "  Attempting uninstall: scikit-learn\n",
            "    Found existing installation: scikit-learn 1.6.1\n",
            "    Uninstalling scikit-learn-1.6.1:\n",
            "      Successfully uninstalled scikit-learn-1.6.1\n",
            "  Attempting uninstall: pandas\n",
            "    Found existing installation: pandas 2.2.2\n",
            "    Uninstalling pandas-2.2.2:\n",
            "      Successfully uninstalled pandas-2.2.2\n",
            "\u001b[31mERROR: pip's dependency resolver does not currently take into account all the packages that are installed. This behaviour is the source of the following dependency conflicts.\n",
            "ipython 7.34.0 requires jedi>=0.16, which is not installed.\n",
            "google-colab 1.0.0 requires pandas==2.2.2, but you have pandas 2.2.3 which is incompatible.\n",
            "tsfresh 0.21.0 requires scipy>=1.14.0; python_version >= \"3.10\", but you have scipy 1.13.1 which is incompatible.\n",
            "torch 2.6.0+cu124 requires nvidia-cublas-cu12==12.4.5.8; platform_system == \"Linux\" and platform_machine == \"x86_64\", but you have nvidia-cublas-cu12 12.5.3.2 which is incompatible.\n",
            "torch 2.6.0+cu124 requires nvidia-cuda-cupti-cu12==12.4.127; platform_system == \"Linux\" and platform_machine == \"x86_64\", but you have nvidia-cuda-cupti-cu12 12.5.82 which is incompatible.\n",
            "torch 2.6.0+cu124 requires nvidia-cuda-nvrtc-cu12==12.4.127; platform_system == \"Linux\" and platform_machine == \"x86_64\", but you have nvidia-cuda-nvrtc-cu12 12.5.82 which is incompatible.\n",
            "torch 2.6.0+cu124 requires nvidia-cuda-runtime-cu12==12.4.127; platform_system == \"Linux\" and platform_machine == \"x86_64\", but you have nvidia-cuda-runtime-cu12 12.5.82 which is incompatible.\n",
            "torch 2.6.0+cu124 requires nvidia-cudnn-cu12==9.1.0.70; platform_system == \"Linux\" and platform_machine == \"x86_64\", but you have nvidia-cudnn-cu12 9.3.0.75 which is incompatible.\n",
            "torch 2.6.0+cu124 requires nvidia-cufft-cu12==11.2.1.3; platform_system == \"Linux\" and platform_machine == \"x86_64\", but you have nvidia-cufft-cu12 11.2.3.61 which is incompatible.\n",
            "torch 2.6.0+cu124 requires nvidia-curand-cu12==10.3.5.147; platform_system == \"Linux\" and platform_machine == \"x86_64\", but you have nvidia-curand-cu12 10.3.6.82 which is incompatible.\n",
            "torch 2.6.0+cu124 requires nvidia-cusolver-cu12==11.6.1.9; platform_system == \"Linux\" and platform_machine == \"x86_64\", but you have nvidia-cusolver-cu12 11.6.3.83 which is incompatible.\n",
            "torch 2.6.0+cu124 requires nvidia-cusparse-cu12==12.3.1.170; platform_system == \"Linux\" and platform_machine == \"x86_64\", but you have nvidia-cusparse-cu12 12.5.1.3 which is incompatible.\n",
            "torch 2.6.0+cu124 requires nvidia-nvjitlink-cu12==12.4.127; platform_system == \"Linux\" and platform_machine == \"x86_64\", but you have nvidia-nvjitlink-cu12 12.5.82 which is incompatible.\n",
            "thinc 8.3.6 requires numpy<3.0.0,>=2.0.0, but you have numpy 1.26.4 which is incompatible.\u001b[0m\u001b[31m\n",
            "\u001b[0mSuccessfully installed MarkupSafe-3.0.2 funcy-2.0 gensim-4.3.3 jinja2-3.1.6 joblib-1.5.1 numexpr-2.10.2 numpy-1.26.4 pandas-2.2.3 pyLDAvis-3.4.1 python-dateutil-2.9.0.post0 pytz-2025.2 scikit-learn-1.6.1 scipy-1.13.1 setuptools-80.9.0 six-1.17.0 smart-open-7.1.0 threadpoolctl-3.6.0 tzdata-2025.2 wrapt-1.17.2\n"
          ]
        },
        {
          "output_type": "display_data",
          "data": {
            "application/vnd.colab-display-data+json": {
              "pip_warning": {
                "packages": [
                  "_distutils_hack",
                  "dateutil",
                  "pkg_resources",
                  "six"
                ]
              },
              "id": "343dcab5134f4899845a65043670b4cf"
            }
          },
          "metadata": {}
        }
      ]
    },
    {
      "cell_type": "code",
      "source": [
        "!pip install --upgrade --force-reinstall pandas numpy==1.26.4"
      ],
      "metadata": {
        "colab": {
          "base_uri": "https://localhost:8080/"
        },
        "id": "SbKk40KUHYsH",
        "outputId": "c850d5d8-53d9-4bde-8634-4d51f95ae569"
      },
      "execution_count": 2,
      "outputs": [
        {
          "output_type": "stream",
          "name": "stdout",
          "text": [
            "Collecting pandas\n",
            "  Using cached pandas-2.2.3-cp311-cp311-manylinux_2_17_x86_64.manylinux2014_x86_64.whl.metadata (89 kB)\n",
            "Collecting numpy==1.26.4\n",
            "  Using cached numpy-1.26.4-cp311-cp311-manylinux_2_17_x86_64.manylinux2014_x86_64.whl.metadata (61 kB)\n",
            "Collecting python-dateutil>=2.8.2 (from pandas)\n",
            "  Using cached python_dateutil-2.9.0.post0-py2.py3-none-any.whl.metadata (8.4 kB)\n",
            "Collecting pytz>=2020.1 (from pandas)\n",
            "  Using cached pytz-2025.2-py2.py3-none-any.whl.metadata (22 kB)\n",
            "Collecting tzdata>=2022.7 (from pandas)\n",
            "  Using cached tzdata-2025.2-py2.py3-none-any.whl.metadata (1.4 kB)\n",
            "Collecting six>=1.5 (from python-dateutil>=2.8.2->pandas)\n",
            "  Using cached six-1.17.0-py2.py3-none-any.whl.metadata (1.7 kB)\n",
            "Using cached numpy-1.26.4-cp311-cp311-manylinux_2_17_x86_64.manylinux2014_x86_64.whl (18.3 MB)\n",
            "Using cached pandas-2.2.3-cp311-cp311-manylinux_2_17_x86_64.manylinux2014_x86_64.whl (13.1 MB)\n",
            "Using cached python_dateutil-2.9.0.post0-py2.py3-none-any.whl (229 kB)\n",
            "Using cached pytz-2025.2-py2.py3-none-any.whl (509 kB)\n",
            "Using cached tzdata-2025.2-py2.py3-none-any.whl (347 kB)\n",
            "Using cached six-1.17.0-py2.py3-none-any.whl (11 kB)\n",
            "Installing collected packages: pytz, tzdata, six, numpy, python-dateutil, pandas\n",
            "  Attempting uninstall: pytz\n",
            "    Found existing installation: pytz 2025.2\n",
            "    Uninstalling pytz-2025.2:\n",
            "      Successfully uninstalled pytz-2025.2\n",
            "  Attempting uninstall: tzdata\n",
            "    Found existing installation: tzdata 2025.2\n",
            "    Uninstalling tzdata-2025.2:\n",
            "      Successfully uninstalled tzdata-2025.2\n",
            "  Attempting uninstall: six\n",
            "    Found existing installation: six 1.17.0\n",
            "    Uninstalling six-1.17.0:\n",
            "\u001b[31mERROR: Operation cancelled by user\u001b[0m\u001b[31m\n",
            "\u001b[0m^C\n"
          ]
        }
      ]
    },
    {
      "cell_type": "code",
      "source": [
        "!pip install nltk\n",
        "import nltk"
      ],
      "metadata": {
        "colab": {
          "base_uri": "https://localhost:8080/"
        },
        "id": "1w4kO12TmQ2P",
        "outputId": "6c012fab-5788-4bc0-cc14-63bf57b9b6ae"
      },
      "execution_count": 1,
      "outputs": [
        {
          "output_type": "stream",
          "name": "stdout",
          "text": [
            "Requirement already satisfied: nltk in /usr/local/lib/python3.11/dist-packages (3.9.1)\n",
            "Requirement already satisfied: click in /usr/local/lib/python3.11/dist-packages (from nltk) (8.2.1)\n",
            "Requirement already satisfied: joblib in /usr/local/lib/python3.11/dist-packages (from nltk) (1.5.1)\n",
            "Requirement already satisfied: regex>=2021.8.3 in /usr/local/lib/python3.11/dist-packages (from nltk) (2024.11.6)\n",
            "Requirement already satisfied: tqdm in /usr/local/lib/python3.11/dist-packages (from nltk) (4.67.1)\n"
          ]
        }
      ]
    },
    {
      "cell_type": "code",
      "source": [
        "nltk.download('punkt')\n",
        "nltk.download('stopwords')\n",
        "nltk.download('wordnet')\n",
        "nltk.download('averaged_perceptron_tagger')\n",
        "nltk.download('punkt_tab')"
      ],
      "metadata": {
        "colab": {
          "base_uri": "https://localhost:8080/"
        },
        "id": "GXHvsonf8t8t",
        "outputId": "1a85169e-c335-4f35-e45c-d70c2cbc0317"
      },
      "execution_count": 2,
      "outputs": [
        {
          "output_type": "stream",
          "name": "stderr",
          "text": [
            "[nltk_data] Downloading package punkt to /root/nltk_data...\n",
            "[nltk_data]   Unzipping tokenizers/punkt.zip.\n",
            "[nltk_data] Downloading package stopwords to /root/nltk_data...\n",
            "[nltk_data]   Unzipping corpora/stopwords.zip.\n",
            "[nltk_data] Downloading package wordnet to /root/nltk_data...\n",
            "[nltk_data] Downloading package averaged_perceptron_tagger to\n",
            "[nltk_data]     /root/nltk_data...\n",
            "[nltk_data]   Unzipping taggers/averaged_perceptron_tagger.zip.\n",
            "[nltk_data] Downloading package punkt_tab to /root/nltk_data...\n",
            "[nltk_data]   Unzipping tokenizers/punkt_tab.zip.\n"
          ]
        },
        {
          "output_type": "execute_result",
          "data": {
            "text/plain": [
              "True"
            ]
          },
          "metadata": {},
          "execution_count": 2
        }
      ]
    },
    {
      "cell_type": "code",
      "source": [
        "NOMBRE_ARCHIVO = 'emails.csv'\n",
        "\n",
        "!wget https://raw.githubusercontent.com/Ignacioelamo/LLMs4Phishing/main/data/01_combined_cleaned_email_data.csv -O $NOMBRE_ARCHIVO"
      ],
      "metadata": {
        "colab": {
          "base_uri": "https://localhost:8080/"
        },
        "id": "VXsJqVlSjk4N",
        "outputId": "df8d891c-4f1b-4163-a2a0-2a9109ab3408"
      },
      "execution_count": 3,
      "outputs": [
        {
          "output_type": "stream",
          "name": "stdout",
          "text": [
            "--2025-05-29 11:57:15--  https://raw.githubusercontent.com/Ignacioelamo/LLMs4Phishing/main/data/01_combined_cleaned_email_data.csv\n",
            "Resolving raw.githubusercontent.com (raw.githubusercontent.com)... 185.199.108.133, 185.199.109.133, 185.199.110.133, ...\n",
            "Connecting to raw.githubusercontent.com (raw.githubusercontent.com)|185.199.108.133|:443... connected.\n",
            "HTTP request sent, awaiting response... 200 OK\n",
            "Length: 10064045 (9.6M) [text/plain]\n",
            "Saving to: ‘emails.csv’\n",
            "\n",
            "emails.csv          100%[===================>]   9.60M  --.-KB/s    in 0.1s    \n",
            "\n",
            "2025-05-29 11:57:16 (90.2 MB/s) - ‘emails.csv’ saved [10064045/10064045]\n",
            "\n"
          ]
        }
      ]
    },
    {
      "cell_type": "markdown",
      "source": [
        "## Librerías"
      ],
      "metadata": {
        "id": "1Bb8SK06HmzM"
      }
    },
    {
      "cell_type": "code",
      "source": [
        "import pandas as pd\n",
        "import numpy as np\n",
        "import matplotlib.pyplot as plt\n",
        "\n",
        "import re\n",
        "\n",
        "\n",
        "import spacy\n",
        "from nltk.corpus import stopwords\n",
        "import nltk\n",
        "from nltk.stem import WordNetLemmatizer\n",
        "from nltk.tokenize import word_tokenize"
      ],
      "metadata": {
        "id": "fquCcVtNHomi"
      },
      "execution_count": 6,
      "outputs": []
    },
    {
      "cell_type": "markdown",
      "metadata": {
        "id": "2utZUICUZ6C3"
      },
      "source": [
        "# Extracción de las características del cuerpo del correo:\n",
        "1. **body_html=contains_html**: This is a binary feature that represents the presence of HTML in the email body.  \n",
        "2. **body_forms**: This binary feature represents the presence of forms in HTML email bodies.\n",
        "3. **body_noWords**: This feature measures the total number of words occurring in the email.\n",
        "4.  **body_noCharacters**: This feature measures the total number of characters occurring in the email body.\n",
        "5.  **body_noDistinctWords**: This feature measures the total number of distinct words occurring in the body of the email.  \n",
        "6. **body_richness**: The richness is defined as the ratio of the number of words to the number of characters in the document.\n",
        "$$\n",
        "\\text{body_richness} = \\frac{\\text{body_noWords}}{\\text{body_noCharacters}}\n",
        "$$\n",
        "8. **body_noFunctionWords** Chandrasekaran [6] also listed a set of function words that included:  \n",
        "`account`, `access`, `bank`, `credit`, `click`, `identity`, `inconvenience`, `information`, `limited`, `log`, `minutes`, `password`, `recently`, `risk`, `social`, `security`, `service`, and `suspended`.  The `body_noFunctionWords` feature measures the total number of occurrences of these function words in the email body.\n",
        "9. **body_suspension** This binary feature represents the presence of the word **\"suspension\"** in the body of the email.  \n",
        "10.  **body_verifyYourAccount** This binary feature represents the presence of the phrase **\"verify your account\"** in the body of the email.\n",
        "11. **body_text** contains information regarding the context and purpose of an email. For this, we extract the plain text from the email body and use word embedding techniques to represent it.\n",
        "\n",
        "Añadimos las features que ya teníamos: has_attachment, contains_html, urls."
      ]
    },
    {
      "cell_type": "code",
      "execution_count": null,
      "metadata": {
        "id": "3thkqU3Kjgfr"
      },
      "outputs": [],
      "source": [
        "#Es necesario la version de numpy= 1.26.4\n",
        "#%pip install --upgrade --force-reinstall numpy==1.26.4 pandas"
      ]
    },
    {
      "cell_type": "code",
      "source": [
        "df = (\n",
        "    pd.read_csv(NOMBRE_ARCHIVO)\n",
        "      .assign(\n",
        "          # Feature 3: body_noWords (Total number of words)\n",
        "          body_noWords=lambda df: df['body'].apply(lambda x: len(str(x).split())),\n",
        "\n",
        "          # Feature 4: body_noCharacters (Total number of characters)\n",
        "          body_noCharacters=lambda df: df['body'].apply(lambda x: len(str(x))),\n",
        "\n",
        "          # Feature 5: body_noDistinctWords (Total number of distinct words)\n",
        "          body_noDistinctWords=lambda df: df['body'].apply(lambda x: len(set(str(x).split()))),\n",
        "\n",
        "          # Feature 6: body_richness (Ratio of words to characters)\n",
        "          body_richness=lambda df: df['body'].apply(lambda x: len(str(x).split())) / df['body'].apply(lambda x: len(str(x))),\n",
        "\n",
        "          # Feature 7: body_noFunctionWords (Count of specific function words)\n",
        "          body_noFunctionWords=lambda df: df['body'].apply(\n",
        "              lambda x: sum(1 for word in str(x).split()\n",
        "                          if word.lower() in ['account', 'access', 'bank', 'credit', 'click',\n",
        "                                            'identity', 'inconvenience', 'information', 'limited',\n",
        "                                            'log', 'minutes', 'password', 'recently', 'risk',\n",
        "                                            'social', 'security', 'service', 'suspended'])\n",
        "          )\n",
        "      )\n",
        ")"
      ],
      "metadata": {
        "id": "ztuvGzg9GwNX"
      },
      "execution_count": 7,
      "outputs": []
    },
    {
      "cell_type": "markdown",
      "metadata": {
        "id": "60ZiDdtTiUmR"
      },
      "source": [
        "Para sacar los tópicos de los correos podemos hacerlo de dos formas:\n",
        "1. BERTopic: usa embeddings contextuales para agrupar documentos, y luego re-pondera con TF-IDF para extraer términos.\n",
        "2. LDA: modelo generativo de tópicos sobre Bag-of-Words, que descubre distribuciones de palabras."
      ]
    },
    {
      "cell_type": "markdown",
      "source": [
        "## LDA"
      ],
      "metadata": {
        "id": "V0JFA_DGYP0-"
      }
    },
    {
      "cell_type": "code",
      "source": [
        "!pip install spacy\n",
        "!pip install --upgrade --force-reinstall gensim pyLDAvis"
      ],
      "metadata": {
        "id": "wMHLphN6ZsbC",
        "outputId": "c0c33056-9279-40f0-d779-393e3c92f2ca",
        "colab": {
          "base_uri": "https://localhost:8080/",
          "height": 1000
        }
      },
      "execution_count": 8,
      "outputs": [
        {
          "output_type": "stream",
          "name": "stdout",
          "text": [
            "Requirement already satisfied: spacy in /usr/local/lib/python3.11/dist-packages (3.8.6)\n",
            "Requirement already satisfied: spacy-legacy<3.1.0,>=3.0.11 in /usr/local/lib/python3.11/dist-packages (from spacy) (3.0.12)\n",
            "Requirement already satisfied: spacy-loggers<2.0.0,>=1.0.0 in /usr/local/lib/python3.11/dist-packages (from spacy) (1.0.5)\n",
            "Requirement already satisfied: murmurhash<1.1.0,>=0.28.0 in /usr/local/lib/python3.11/dist-packages (from spacy) (1.0.12)\n",
            "Requirement already satisfied: cymem<2.1.0,>=2.0.2 in /usr/local/lib/python3.11/dist-packages (from spacy) (2.0.11)\n",
            "Requirement already satisfied: preshed<3.1.0,>=3.0.2 in /usr/local/lib/python3.11/dist-packages (from spacy) (3.0.9)\n",
            "Requirement already satisfied: thinc<8.4.0,>=8.3.4 in /usr/local/lib/python3.11/dist-packages (from spacy) (8.3.6)\n",
            "Requirement already satisfied: wasabi<1.2.0,>=0.9.1 in /usr/local/lib/python3.11/dist-packages (from spacy) (1.1.3)\n",
            "Requirement already satisfied: srsly<3.0.0,>=2.4.3 in /usr/local/lib/python3.11/dist-packages (from spacy) (2.5.1)\n",
            "Requirement already satisfied: catalogue<2.1.0,>=2.0.6 in /usr/local/lib/python3.11/dist-packages (from spacy) (2.0.10)\n",
            "Requirement already satisfied: weasel<0.5.0,>=0.1.0 in /usr/local/lib/python3.11/dist-packages (from spacy) (0.4.1)\n",
            "Requirement already satisfied: typer<1.0.0,>=0.3.0 in /usr/local/lib/python3.11/dist-packages (from spacy) (0.15.3)\n",
            "Requirement already satisfied: tqdm<5.0.0,>=4.38.0 in /usr/local/lib/python3.11/dist-packages (from spacy) (4.67.1)\n",
            "Requirement already satisfied: numpy>=1.19.0 in /usr/local/lib/python3.11/dist-packages (from spacy) (1.26.4)\n",
            "Requirement already satisfied: requests<3.0.0,>=2.13.0 in /usr/local/lib/python3.11/dist-packages (from spacy) (2.32.3)\n",
            "Requirement already satisfied: pydantic!=1.8,!=1.8.1,<3.0.0,>=1.7.4 in /usr/local/lib/python3.11/dist-packages (from spacy) (2.11.4)\n",
            "Requirement already satisfied: jinja2 in /usr/local/lib/python3.11/dist-packages (from spacy) (3.1.6)\n",
            "Requirement already satisfied: setuptools in /usr/local/lib/python3.11/dist-packages (from spacy) (80.9.0)\n",
            "Requirement already satisfied: packaging>=20.0 in /usr/local/lib/python3.11/dist-packages (from spacy) (24.2)\n",
            "Requirement already satisfied: langcodes<4.0.0,>=3.2.0 in /usr/local/lib/python3.11/dist-packages (from spacy) (3.5.0)\n",
            "Requirement already satisfied: language-data>=1.2 in /usr/local/lib/python3.11/dist-packages (from langcodes<4.0.0,>=3.2.0->spacy) (1.3.0)\n",
            "Requirement already satisfied: annotated-types>=0.6.0 in /usr/local/lib/python3.11/dist-packages (from pydantic!=1.8,!=1.8.1,<3.0.0,>=1.7.4->spacy) (0.7.0)\n",
            "Requirement already satisfied: pydantic-core==2.33.2 in /usr/local/lib/python3.11/dist-packages (from pydantic!=1.8,!=1.8.1,<3.0.0,>=1.7.4->spacy) (2.33.2)\n",
            "Requirement already satisfied: typing-extensions>=4.12.2 in /usr/local/lib/python3.11/dist-packages (from pydantic!=1.8,!=1.8.1,<3.0.0,>=1.7.4->spacy) (4.13.2)\n",
            "Requirement already satisfied: typing-inspection>=0.4.0 in /usr/local/lib/python3.11/dist-packages (from pydantic!=1.8,!=1.8.1,<3.0.0,>=1.7.4->spacy) (0.4.1)\n",
            "Requirement already satisfied: charset-normalizer<4,>=2 in /usr/local/lib/python3.11/dist-packages (from requests<3.0.0,>=2.13.0->spacy) (3.4.2)\n",
            "Requirement already satisfied: idna<4,>=2.5 in /usr/local/lib/python3.11/dist-packages (from requests<3.0.0,>=2.13.0->spacy) (3.10)\n",
            "Requirement already satisfied: urllib3<3,>=1.21.1 in /usr/local/lib/python3.11/dist-packages (from requests<3.0.0,>=2.13.0->spacy) (2.4.0)\n",
            "Requirement already satisfied: certifi>=2017.4.17 in /usr/local/lib/python3.11/dist-packages (from requests<3.0.0,>=2.13.0->spacy) (2025.4.26)\n",
            "Requirement already satisfied: blis<1.4.0,>=1.3.0 in /usr/local/lib/python3.11/dist-packages (from thinc<8.4.0,>=8.3.4->spacy) (1.3.0)\n",
            "Requirement already satisfied: confection<1.0.0,>=0.0.1 in /usr/local/lib/python3.11/dist-packages (from thinc<8.4.0,>=8.3.4->spacy) (0.1.5)\n",
            "Collecting numpy>=1.19.0 (from spacy)\n",
            "  Downloading numpy-2.2.6-cp311-cp311-manylinux_2_17_x86_64.manylinux2014_x86_64.whl.metadata (62 kB)\n",
            "\u001b[2K     \u001b[90m━━━━━━━━━━━━━━━━━━━━━━━━━━━━━━━━━━━━━━━━\u001b[0m \u001b[32m62.0/62.0 kB\u001b[0m \u001b[31m1.6 MB/s\u001b[0m eta \u001b[36m0:00:00\u001b[0m\n",
            "\u001b[?25hRequirement already satisfied: click>=8.0.0 in /usr/local/lib/python3.11/dist-packages (from typer<1.0.0,>=0.3.0->spacy) (8.2.1)\n",
            "Requirement already satisfied: shellingham>=1.3.0 in /usr/local/lib/python3.11/dist-packages (from typer<1.0.0,>=0.3.0->spacy) (1.5.4)\n",
            "Requirement already satisfied: rich>=10.11.0 in /usr/local/lib/python3.11/dist-packages (from typer<1.0.0,>=0.3.0->spacy) (13.9.4)\n",
            "Requirement already satisfied: cloudpathlib<1.0.0,>=0.7.0 in /usr/local/lib/python3.11/dist-packages (from weasel<0.5.0,>=0.1.0->spacy) (0.21.1)\n",
            "Requirement already satisfied: smart-open<8.0.0,>=5.2.1 in /usr/local/lib/python3.11/dist-packages (from weasel<0.5.0,>=0.1.0->spacy) (7.1.0)\n",
            "Requirement already satisfied: MarkupSafe>=2.0 in /usr/local/lib/python3.11/dist-packages (from jinja2->spacy) (3.0.2)\n",
            "Requirement already satisfied: marisa-trie>=1.1.0 in /usr/local/lib/python3.11/dist-packages (from language-data>=1.2->langcodes<4.0.0,>=3.2.0->spacy) (1.2.1)\n",
            "Requirement already satisfied: markdown-it-py>=2.2.0 in /usr/local/lib/python3.11/dist-packages (from rich>=10.11.0->typer<1.0.0,>=0.3.0->spacy) (3.0.0)\n",
            "Requirement already satisfied: pygments<3.0.0,>=2.13.0 in /usr/local/lib/python3.11/dist-packages (from rich>=10.11.0->typer<1.0.0,>=0.3.0->spacy) (2.19.1)\n",
            "Requirement already satisfied: wrapt in /usr/local/lib/python3.11/dist-packages (from smart-open<8.0.0,>=5.2.1->weasel<0.5.0,>=0.1.0->spacy) (1.17.2)\n",
            "Requirement already satisfied: mdurl~=0.1 in /usr/local/lib/python3.11/dist-packages (from markdown-it-py>=2.2.0->rich>=10.11.0->typer<1.0.0,>=0.3.0->spacy) (0.1.2)\n",
            "Downloading numpy-2.2.6-cp311-cp311-manylinux_2_17_x86_64.manylinux2014_x86_64.whl (16.8 MB)\n",
            "\u001b[2K   \u001b[90m━━━━━━━━━━━━━━━━━━━━━━━━━━━━━━━━━━━━━━━━\u001b[0m \u001b[32m16.8/16.8 MB\u001b[0m \u001b[31m125.6 MB/s\u001b[0m eta \u001b[36m0:00:00\u001b[0m\n",
            "\u001b[?25hInstalling collected packages: numpy\n",
            "  Attempting uninstall: numpy\n",
            "    Found existing installation: numpy 1.26.4\n",
            "    Uninstalling numpy-1.26.4:\n",
            "      Successfully uninstalled numpy-1.26.4\n",
            "\u001b[31mERROR: pip's dependency resolver does not currently take into account all the packages that are installed. This behaviour is the source of the following dependency conflicts.\n",
            "gensim 4.3.3 requires numpy<2.0,>=1.18.5, but you have numpy 2.2.6 which is incompatible.\n",
            "google-colab 1.0.0 requires pandas==2.2.2, but you have pandas 2.2.3 which is incompatible.\n",
            "tsfresh 0.21.0 requires scipy>=1.14.0; python_version >= \"3.10\", but you have scipy 1.13.1 which is incompatible.\n",
            "numba 0.60.0 requires numpy<2.1,>=1.22, but you have numpy 2.2.6 which is incompatible.\n",
            "tensorflow 2.18.0 requires numpy<2.1.0,>=1.26.0, but you have numpy 2.2.6 which is incompatible.\u001b[0m\u001b[31m\n",
            "\u001b[0mSuccessfully installed numpy-2.2.6\n",
            "Collecting gensim\n",
            "  Using cached gensim-4.3.3-cp311-cp311-manylinux_2_17_x86_64.manylinux2014_x86_64.whl.metadata (8.1 kB)\n",
            "Collecting pyLDAvis\n",
            "  Using cached pyLDAvis-3.4.1-py3-none-any.whl.metadata (4.2 kB)\n",
            "Collecting numpy<2.0,>=1.18.5 (from gensim)\n",
            "  Using cached numpy-1.26.4-cp311-cp311-manylinux_2_17_x86_64.manylinux2014_x86_64.whl.metadata (61 kB)\n",
            "Collecting scipy<1.14.0,>=1.7.0 (from gensim)\n",
            "  Using cached scipy-1.13.1-cp311-cp311-manylinux_2_17_x86_64.manylinux2014_x86_64.whl.metadata (60 kB)\n",
            "Collecting smart-open>=1.8.1 (from gensim)\n",
            "  Using cached smart_open-7.1.0-py3-none-any.whl.metadata (24 kB)\n",
            "Collecting pandas>=2.0.0 (from pyLDAvis)\n",
            "  Using cached pandas-2.2.3-cp311-cp311-manylinux_2_17_x86_64.manylinux2014_x86_64.whl.metadata (89 kB)\n",
            "Collecting joblib>=1.2.0 (from pyLDAvis)\n",
            "  Using cached joblib-1.5.1-py3-none-any.whl.metadata (5.6 kB)\n",
            "Collecting jinja2 (from pyLDAvis)\n",
            "  Using cached jinja2-3.1.6-py3-none-any.whl.metadata (2.9 kB)\n",
            "Collecting numexpr (from pyLDAvis)\n",
            "  Using cached numexpr-2.10.2-cp311-cp311-manylinux_2_27_x86_64.manylinux_2_28_x86_64.whl.metadata (8.1 kB)\n",
            "Collecting funcy (from pyLDAvis)\n",
            "  Using cached funcy-2.0-py2.py3-none-any.whl.metadata (5.9 kB)\n",
            "Collecting scikit-learn>=1.0.0 (from pyLDAvis)\n",
            "  Using cached scikit_learn-1.6.1-cp311-cp311-manylinux_2_17_x86_64.manylinux2014_x86_64.whl.metadata (18 kB)\n",
            "Collecting setuptools (from pyLDAvis)\n",
            "  Using cached setuptools-80.9.0-py3-none-any.whl.metadata (6.6 kB)\n",
            "Collecting python-dateutil>=2.8.2 (from pandas>=2.0.0->pyLDAvis)\n",
            "  Using cached python_dateutil-2.9.0.post0-py2.py3-none-any.whl.metadata (8.4 kB)\n",
            "Collecting pytz>=2020.1 (from pandas>=2.0.0->pyLDAvis)\n",
            "  Using cached pytz-2025.2-py2.py3-none-any.whl.metadata (22 kB)\n",
            "Collecting tzdata>=2022.7 (from pandas>=2.0.0->pyLDAvis)\n",
            "  Using cached tzdata-2025.2-py2.py3-none-any.whl.metadata (1.4 kB)\n",
            "Collecting threadpoolctl>=3.1.0 (from scikit-learn>=1.0.0->pyLDAvis)\n",
            "  Using cached threadpoolctl-3.6.0-py3-none-any.whl.metadata (13 kB)\n",
            "Collecting wrapt (from smart-open>=1.8.1->gensim)\n",
            "  Using cached wrapt-1.17.2-cp311-cp311-manylinux_2_5_x86_64.manylinux1_x86_64.manylinux_2_17_x86_64.manylinux2014_x86_64.whl.metadata (6.4 kB)\n",
            "Collecting MarkupSafe>=2.0 (from jinja2->pyLDAvis)\n",
            "  Using cached MarkupSafe-3.0.2-cp311-cp311-manylinux_2_17_x86_64.manylinux2014_x86_64.whl.metadata (4.0 kB)\n",
            "Collecting six>=1.5 (from python-dateutil>=2.8.2->pandas>=2.0.0->pyLDAvis)\n",
            "  Using cached six-1.17.0-py2.py3-none-any.whl.metadata (1.7 kB)\n",
            "Using cached gensim-4.3.3-cp311-cp311-manylinux_2_17_x86_64.manylinux2014_x86_64.whl (26.7 MB)\n",
            "Using cached pyLDAvis-3.4.1-py3-none-any.whl (2.6 MB)\n",
            "Using cached joblib-1.5.1-py3-none-any.whl (307 kB)\n",
            "Using cached numpy-1.26.4-cp311-cp311-manylinux_2_17_x86_64.manylinux2014_x86_64.whl (18.3 MB)\n",
            "Using cached pandas-2.2.3-cp311-cp311-manylinux_2_17_x86_64.manylinux2014_x86_64.whl (13.1 MB)\n",
            "Using cached scikit_learn-1.6.1-cp311-cp311-manylinux_2_17_x86_64.manylinux2014_x86_64.whl (13.5 MB)\n",
            "Using cached scipy-1.13.1-cp311-cp311-manylinux_2_17_x86_64.manylinux2014_x86_64.whl (38.6 MB)\n",
            "Using cached smart_open-7.1.0-py3-none-any.whl (61 kB)\n",
            "Using cached funcy-2.0-py2.py3-none-any.whl (30 kB)\n",
            "Using cached jinja2-3.1.6-py3-none-any.whl (134 kB)\n",
            "Using cached numexpr-2.10.2-cp311-cp311-manylinux_2_27_x86_64.manylinux_2_28_x86_64.whl (398 kB)\n",
            "Using cached setuptools-80.9.0-py3-none-any.whl (1.2 MB)\n",
            "Using cached MarkupSafe-3.0.2-cp311-cp311-manylinux_2_17_x86_64.manylinux2014_x86_64.whl (23 kB)\n",
            "Using cached python_dateutil-2.9.0.post0-py2.py3-none-any.whl (229 kB)\n",
            "Using cached pytz-2025.2-py2.py3-none-any.whl (509 kB)\n",
            "Using cached threadpoolctl-3.6.0-py3-none-any.whl (18 kB)\n",
            "Using cached tzdata-2025.2-py2.py3-none-any.whl (347 kB)\n",
            "Using cached wrapt-1.17.2-cp311-cp311-manylinux_2_5_x86_64.manylinux1_x86_64.manylinux_2_17_x86_64.manylinux2014_x86_64.whl (83 kB)\n",
            "Using cached six-1.17.0-py2.py3-none-any.whl (11 kB)\n",
            "Installing collected packages: pytz, funcy, wrapt, tzdata, threadpoolctl, six, setuptools, numpy, MarkupSafe, joblib, smart-open, scipy, python-dateutil, numexpr, jinja2, scikit-learn, pandas, gensim, pyLDAvis\n",
            "  Attempting uninstall: pytz\n",
            "    Found existing installation: pytz 2025.2\n",
            "    Uninstalling pytz-2025.2:\n",
            "      Successfully uninstalled pytz-2025.2\n",
            "  Attempting uninstall: funcy\n",
            "    Found existing installation: funcy 2.0\n",
            "    Uninstalling funcy-2.0:\n",
            "      Successfully uninstalled funcy-2.0\n",
            "  Attempting uninstall: wrapt\n",
            "    Found existing installation: wrapt 1.17.2\n",
            "    Uninstalling wrapt-1.17.2:\n",
            "      Successfully uninstalled wrapt-1.17.2\n",
            "  Attempting uninstall: tzdata\n",
            "    Found existing installation: tzdata 2025.2\n",
            "    Uninstalling tzdata-2025.2:\n",
            "      Successfully uninstalled tzdata-2025.2\n",
            "  Attempting uninstall: threadpoolctl\n",
            "    Found existing installation: threadpoolctl 3.6.0\n",
            "    Uninstalling threadpoolctl-3.6.0:\n",
            "      Successfully uninstalled threadpoolctl-3.6.0\n",
            "  Attempting uninstall: six\n",
            "    Found existing installation: six 1.17.0\n",
            "    Uninstalling six-1.17.0:\n",
            "      Successfully uninstalled six-1.17.0\n",
            "  Attempting uninstall: setuptools\n",
            "    Found existing installation: setuptools 80.9.0\n",
            "    Uninstalling setuptools-80.9.0:\n",
            "      Successfully uninstalled setuptools-80.9.0\n",
            "  Attempting uninstall: numpy\n",
            "    Found existing installation: numpy 2.2.6\n",
            "    Uninstalling numpy-2.2.6:\n",
            "      Successfully uninstalled numpy-2.2.6\n",
            "  Attempting uninstall: MarkupSafe\n",
            "    Found existing installation: MarkupSafe 3.0.2\n",
            "    Uninstalling MarkupSafe-3.0.2:\n",
            "      Successfully uninstalled MarkupSafe-3.0.2\n",
            "  Attempting uninstall: joblib\n",
            "    Found existing installation: joblib 1.5.1\n",
            "    Uninstalling joblib-1.5.1:\n",
            "      Successfully uninstalled joblib-1.5.1\n",
            "  Attempting uninstall: smart-open\n",
            "    Found existing installation: smart-open 7.1.0\n",
            "    Uninstalling smart-open-7.1.0:\n",
            "      Successfully uninstalled smart-open-7.1.0\n",
            "  Attempting uninstall: scipy\n",
            "    Found existing installation: scipy 1.13.1\n",
            "    Uninstalling scipy-1.13.1:\n",
            "      Successfully uninstalled scipy-1.13.1\n",
            "  Attempting uninstall: python-dateutil\n",
            "    Found existing installation: python-dateutil 2.9.0.post0\n",
            "    Uninstalling python-dateutil-2.9.0.post0:\n",
            "      Successfully uninstalled python-dateutil-2.9.0.post0\n",
            "  Attempting uninstall: numexpr\n",
            "    Found existing installation: numexpr 2.10.2\n",
            "    Uninstalling numexpr-2.10.2:\n",
            "      Successfully uninstalled numexpr-2.10.2\n",
            "  Attempting uninstall: jinja2\n",
            "    Found existing installation: Jinja2 3.1.6\n",
            "    Uninstalling Jinja2-3.1.6:\n",
            "      Successfully uninstalled Jinja2-3.1.6\n",
            "  Attempting uninstall: scikit-learn\n",
            "    Found existing installation: scikit-learn 1.6.1\n",
            "    Uninstalling scikit-learn-1.6.1:\n",
            "      Successfully uninstalled scikit-learn-1.6.1\n",
            "  Attempting uninstall: pandas\n",
            "    Found existing installation: pandas 2.2.3\n",
            "    Uninstalling pandas-2.2.3:\n",
            "      Successfully uninstalled pandas-2.2.3\n",
            "  Attempting uninstall: gensim\n",
            "    Found existing installation: gensim 4.3.3\n",
            "    Uninstalling gensim-4.3.3:\n",
            "      Successfully uninstalled gensim-4.3.3\n",
            "  Attempting uninstall: pyLDAvis\n",
            "    Found existing installation: pyLDAvis 3.4.1\n",
            "    Uninstalling pyLDAvis-3.4.1:\n",
            "      Successfully uninstalled pyLDAvis-3.4.1\n",
            "\u001b[31mERROR: pip's dependency resolver does not currently take into account all the packages that are installed. This behaviour is the source of the following dependency conflicts.\n",
            "ipython 7.34.0 requires jedi>=0.16, which is not installed.\n",
            "google-colab 1.0.0 requires pandas==2.2.2, but you have pandas 2.2.3 which is incompatible.\n",
            "tsfresh 0.21.0 requires scipy>=1.14.0; python_version >= \"3.10\", but you have scipy 1.13.1 which is incompatible.\n",
            "torch 2.6.0+cu124 requires nvidia-cublas-cu12==12.4.5.8; platform_system == \"Linux\" and platform_machine == \"x86_64\", but you have nvidia-cublas-cu12 12.5.3.2 which is incompatible.\n",
            "torch 2.6.0+cu124 requires nvidia-cuda-cupti-cu12==12.4.127; platform_system == \"Linux\" and platform_machine == \"x86_64\", but you have nvidia-cuda-cupti-cu12 12.5.82 which is incompatible.\n",
            "torch 2.6.0+cu124 requires nvidia-cuda-nvrtc-cu12==12.4.127; platform_system == \"Linux\" and platform_machine == \"x86_64\", but you have nvidia-cuda-nvrtc-cu12 12.5.82 which is incompatible.\n",
            "torch 2.6.0+cu124 requires nvidia-cuda-runtime-cu12==12.4.127; platform_system == \"Linux\" and platform_machine == \"x86_64\", but you have nvidia-cuda-runtime-cu12 12.5.82 which is incompatible.\n",
            "torch 2.6.0+cu124 requires nvidia-cudnn-cu12==9.1.0.70; platform_system == \"Linux\" and platform_machine == \"x86_64\", but you have nvidia-cudnn-cu12 9.3.0.75 which is incompatible.\n",
            "torch 2.6.0+cu124 requires nvidia-cufft-cu12==11.2.1.3; platform_system == \"Linux\" and platform_machine == \"x86_64\", but you have nvidia-cufft-cu12 11.2.3.61 which is incompatible.\n",
            "torch 2.6.0+cu124 requires nvidia-curand-cu12==10.3.5.147; platform_system == \"Linux\" and platform_machine == \"x86_64\", but you have nvidia-curand-cu12 10.3.6.82 which is incompatible.\n",
            "torch 2.6.0+cu124 requires nvidia-cusolver-cu12==11.6.1.9; platform_system == \"Linux\" and platform_machine == \"x86_64\", but you have nvidia-cusolver-cu12 11.6.3.83 which is incompatible.\n",
            "torch 2.6.0+cu124 requires nvidia-cusparse-cu12==12.3.1.170; platform_system == \"Linux\" and platform_machine == \"x86_64\", but you have nvidia-cusparse-cu12 12.5.1.3 which is incompatible.\n",
            "torch 2.6.0+cu124 requires nvidia-nvjitlink-cu12==12.4.127; platform_system == \"Linux\" and platform_machine == \"x86_64\", but you have nvidia-nvjitlink-cu12 12.5.82 which is incompatible.\n",
            "thinc 8.3.6 requires numpy<3.0.0,>=2.0.0, but you have numpy 1.26.4 which is incompatible.\u001b[0m\u001b[31m\n",
            "\u001b[0mSuccessfully installed MarkupSafe-3.0.2 funcy-2.0 gensim-4.3.3 jinja2-3.1.6 joblib-1.5.1 numexpr-2.10.2 numpy-1.26.4 pandas-2.2.3 pyLDAvis-3.4.1 python-dateutil-2.9.0.post0 pytz-2025.2 scikit-learn-1.6.1 scipy-1.13.1 setuptools-80.9.0 six-1.17.0 smart-open-7.1.0 threadpoolctl-3.6.0 tzdata-2025.2 wrapt-1.17.2\n"
          ]
        },
        {
          "output_type": "display_data",
          "data": {
            "application/vnd.colab-display-data+json": {
              "pip_warning": {
                "packages": [
                  "_distutils_hack",
                  "dateutil",
                  "joblib",
                  "markupsafe",
                  "numexpr",
                  "pkg_resources",
                  "pytz",
                  "six"
                ]
              },
              "id": "48ddca95f9de4aa9a4dc5f2e51ef332b"
            }
          },
          "metadata": {}
        }
      ]
    },
    {
      "cell_type": "code",
      "source": [
        "import re\n",
        "import numpy as np\n",
        "import pandas as pd\n",
        "from pprint import pprint\n",
        "\n",
        "# Gensim\n",
        "import gensim\n",
        "import gensim.corpora as corpora\n",
        "from gensim.utils import simple_preprocess\n",
        "from gensim.models import CoherenceModel\n",
        "\n",
        "# spacy for lemmatization\n",
        "import spacy\n",
        "import nltk\n",
        "\n",
        "# Plotting tools\n",
        "import pyLDAvis\n",
        "import pyLDAvis.gensim  # don't skip this\n",
        "import matplotlib.pyplot as plt\n",
        "%matplotlib inline\n",
        "\n",
        "# Enable logging for gensim - optional\n",
        "import logging\n",
        "logging.basicConfig(format='%(asctime)s : %(levelname)s : %(message)s', level=logging.ERROR)\n",
        "\n",
        "import warnings\n",
        "warnings.filterwarnings(\"ignore\",category=DeprecationWarning)"
      ],
      "metadata": {
        "id": "90l3-FbEYQvG"
      },
      "execution_count": 9,
      "outputs": []
    },
    {
      "cell_type": "code",
      "source": [
        "nltk.download('stopwords')\n",
        "nltk.download('punkt')\n",
        "nltk.download('wordnet')\n",
        "nltk.download('averaged_perceptron_tagger')\n",
        "nltk.download('punkt_tab')"
      ],
      "metadata": {
        "id": "sUM8AcyBahu8",
        "outputId": "72487f08-614a-4ea1-e57f-8400462f46ca",
        "colab": {
          "base_uri": "https://localhost:8080/"
        }
      },
      "execution_count": 10,
      "outputs": [
        {
          "output_type": "stream",
          "name": "stderr",
          "text": [
            "[nltk_data] Downloading package stopwords to /root/nltk_data...\n",
            "[nltk_data]   Package stopwords is already up-to-date!\n",
            "[nltk_data] Downloading package punkt to /root/nltk_data...\n",
            "[nltk_data]   Package punkt is already up-to-date!\n",
            "[nltk_data] Downloading package wordnet to /root/nltk_data...\n",
            "[nltk_data]   Package wordnet is already up-to-date!\n",
            "[nltk_data] Downloading package averaged_perceptron_tagger to\n",
            "[nltk_data]     /root/nltk_data...\n",
            "[nltk_data]   Package averaged_perceptron_tagger is already up-to-\n",
            "[nltk_data]       date!\n",
            "[nltk_data] Downloading package punkt_tab to /root/nltk_data...\n",
            "[nltk_data]   Package punkt_tab is already up-to-date!\n"
          ]
        },
        {
          "output_type": "execute_result",
          "data": {
            "text/plain": [
              "True"
            ]
          },
          "metadata": {},
          "execution_count": 10
        }
      ]
    },
    {
      "cell_type": "code",
      "source": [
        "from nltk.corpus import stopwords\n",
        "\n",
        "\n",
        "stop_words = stopwords.words('english')\n",
        "stop_words.extend(['from', 'subject', 're', 'edu', 'use', 'http', 'www', ])"
      ],
      "metadata": {
        "id": "rAf4jnF4aOdZ"
      },
      "execution_count": 11,
      "outputs": []
    },
    {
      "cell_type": "code",
      "source": [
        "df = pd.read_csv(NOMBRE_ARCHIVO)"
      ],
      "metadata": {
        "id": "11rf15WQaqza"
      },
      "execution_count": 12,
      "outputs": []
    },
    {
      "cell_type": "code",
      "source": [
        "data = df.body.values.tolist()\n",
        "\n",
        "# 1. Eliminar direcciones de correo electrónico\n",
        "data = [re.sub(r'\\S*@\\S*\\s?', '', sent) for sent in data]\n",
        "\n",
        "# 2. Eliminar URLs\n",
        "data = [re.sub(r'http\\S+|www\\S+|https\\S+', '', sent, flags=re.MULTILINE) for sent in data]\n",
        "\n",
        "# 3. Eliminar saltos de línea y normalizar espacios\n",
        "data = [sent.replace('\\n', ' ').replace('\\r', ' ') for sent in data]\n",
        "data = [' '.join(sent.split()) for sent in data]\n",
        "\n",
        "# 4. Eliminar comillas simples\n",
        "data = [sent.replace(\"'\", \"\") for sent in data]\n",
        "\n",
        "# 5. Eliminar caracteres especiales, mantener solo letras y espacios\n",
        "data = [re.sub(r'[^a-zA-Z\\s]', '', sent) for sent in data]\n",
        "\n",
        "# 6. Eliminar números sueltos\n",
        "data = [re.sub(r'\\b\\d+\\b', '', sent) for sent in data]\n",
        "\n",
        "# 7. Eliminar códigos alfanuméricos largos predominantemente numéricos\n",
        "data = [\n",
        "    ' '.join([\n",
        "        word for word in sent.split()\n",
        "        if not (len(word) > 3 and any(char.isdigit() for char in word) and not any(char.isalpha() for char in word.replace('.', '')))\n",
        "    ])\n",
        "    for sent in data\n",
        "]\n",
        "\n",
        "data = [\n",
        "    re.sub(\n",
        "        r'\\b[a-z]*\\d+[a-z\\d]*\\b',\n",
        "        lambda m: '' if len(m.group(0)) > 5 and sum(c.isdigit() for c in m.group(0)) > sum(c.isalpha() for c in m.group(0)) / 2 else m.group(0),\n",
        "        sent\n",
        "    )\n",
        "    for sent in data\n",
        "]\n",
        "\n"
      ],
      "metadata": {
        "id": "7zEr26g7a2qz"
      },
      "execution_count": 13,
      "outputs": []
    },
    {
      "cell_type": "code",
      "source": [
        "pprint(df['body'][1])\n",
        "print('\\n')\n",
        "pprint(data[1])"
      ],
      "metadata": {
        "id": "iXIXvsgscMIv",
        "outputId": "47be9abf-295f-4b43-9770-94cfae656ef6",
        "colab": {
          "base_uri": "https://localhost:8080/"
        }
      },
      "execution_count": 14,
      "outputs": [
        {
          "output_type": "stream",
          "name": "stdout",
          "text": [
            "('conquer your fears and find out exactly what a life without limits feels '\n",
            " 'like million dollar self empowerment program generate 500 1 500 and 3 500 to '\n",
            " 'your door simply by returning phone calls empower you to share gifts and '\n",
            " 'realize your ultimate fulfillment allow you to help others with their needs '\n",
            " 'as well as yourself allow you the opportunity to create a six figure '\n",
            " 'lifestyle in the next 6 12 months you will not have to sell explain or '\n",
            " 'convince anyone of anything our program will do this for you if you can '\n",
            " 'return a phone call this is for you anyone can do this there are no products '\n",
            " 'for you to buy in this program ever so pick up that phone and call the info '\n",
            " 'line now to get further details without 0bligation of any kind 1 8oo 57o '\n",
            " '1895 regards maybe this is not something you are ready for just yet then '\n",
            " 'reply back with your desire to not know anymore')\n",
            "\n",
            "\n",
            "('conquer your fears and find out exactly what a life without limits feels '\n",
            " 'like million dollar self empowerment program generate and to your door '\n",
            " 'simply by returning phone calls empower you to share gifts and realize your '\n",
            " 'ultimate fulfillment allow you to help others with their needs as well as '\n",
            " 'yourself allow you the opportunity to create a six figure lifestyle in the '\n",
            " 'next months you will not have to sell explain or convince anyone of anything '\n",
            " 'our program will do this for you if you can return a phone call this is for '\n",
            " 'you anyone can do this there are no products for you to buy in this program '\n",
            " 'ever so pick up that phone and call the info line now to get further details '\n",
            " 'without bligation of any kind oo o regards maybe this is not something you '\n",
            " 'are ready for just yet then reply back with your desire to not know anymore')\n"
          ]
        }
      ]
    },
    {
      "cell_type": "code",
      "source": [
        "def sent_to_words(sentences):\n",
        "    for sentence in sentences:\n",
        "        yield(gensim.utils.simple_preprocess(str(sentence), deacc=True))  # deacc=True removes punctuations\n",
        "\n",
        "data_words = list(sent_to_words(data))\n",
        "\n",
        "print(data_words[1])"
      ],
      "metadata": {
        "id": "gsb4Y31ecNya",
        "outputId": "4492eff8-f6cb-4cc3-c1da-910e8945b6cd",
        "colab": {
          "base_uri": "https://localhost:8080/"
        }
      },
      "execution_count": 15,
      "outputs": [
        {
          "output_type": "stream",
          "name": "stdout",
          "text": [
            "['conquer', 'your', 'fears', 'and', 'find', 'out', 'exactly', 'what', 'life', 'without', 'limits', 'feels', 'like', 'million', 'dollar', 'self', 'empowerment', 'program', 'generate', 'and', 'to', 'your', 'door', 'simply', 'by', 'returning', 'phone', 'calls', 'empower', 'you', 'to', 'share', 'gifts', 'and', 'realize', 'your', 'ultimate', 'fulfillment', 'allow', 'you', 'to', 'help', 'others', 'with', 'their', 'needs', 'as', 'well', 'as', 'yourself', 'allow', 'you', 'the', 'opportunity', 'to', 'create', 'six', 'figure', 'lifestyle', 'in', 'the', 'next', 'months', 'you', 'will', 'not', 'have', 'to', 'sell', 'explain', 'or', 'convince', 'anyone', 'of', 'anything', 'our', 'program', 'will', 'do', 'this', 'for', 'you', 'if', 'you', 'can', 'return', 'phone', 'call', 'this', 'is', 'for', 'you', 'anyone', 'can', 'do', 'this', 'there', 'are', 'no', 'products', 'for', 'you', 'to', 'buy', 'in', 'this', 'program', 'ever', 'so', 'pick', 'up', 'that', 'phone', 'and', 'call', 'the', 'info', 'line', 'now', 'to', 'get', 'further', 'details', 'without', 'bligation', 'of', 'any', 'kind', 'oo', 'regards', 'maybe', 'this', 'is', 'not', 'something', 'you', 'are', 'ready', 'for', 'just', 'yet', 'then', 'reply', 'back', 'with', 'your', 'desire', 'to', 'not', 'know', 'anymore']\n"
          ]
        }
      ]
    },
    {
      "cell_type": "code",
      "source": [
        "# Build the bigram and trigram models\n",
        "bigram = gensim.models.Phrases(data_words, min_count=5, threshold=100) # higher threshold fewer phrases.\n",
        "trigram = gensim.models.Phrases(bigram[data_words], threshold=100)\n",
        "\n",
        "# Faster way to get a sentence clubbed as a trigram/bigram\n",
        "bigram_mod = gensim.models.phrases.Phraser(bigram)\n",
        "trigram_mod = gensim.models.phrases.Phraser(trigram)\n",
        "\n",
        "# See trigram example\n",
        "print(trigram_mod[bigram_mod[data_words[0]]])"
      ],
      "metadata": {
        "id": "-SPtXav2enJ0",
        "outputId": "cf643e90-b360-4ca3-9354-2837a587fac3",
        "colab": {
          "base_uri": "https://localhost:8080/"
        }
      },
      "execution_count": 16,
      "outputs": [
        {
          "output_type": "stream",
          "name": "stdout",
          "text": [
            "['high_quality', 'pills', 'canadian_pharmacy', 'presents', 'cheapest', 'viagra_pills', 'online', 'buy', 'quality', 'pills', 'without', 'leaving', 'your', 'computer', 'and', 'we', 'll', 'send', 'them', 'directly', 'to', 'your', 'home', 'no', 'prescriptions', 'check', 'it', 'out', 'it', 'ten', 'times', 'cheaper', 'and', 'same', 'quality', 'click', 'to', 'buy', 'viagra', 'for', 'the', 'lowest_price', 'on', 'the', 'web']\n"
          ]
        }
      ]
    },
    {
      "cell_type": "code",
      "source": [
        "# Define functions for stopwords, bigrams, trigrams and lemmatization\n",
        "def remove_stopwords(texts):\n",
        "    return [[word for word in simple_preprocess(str(doc)) if word not in stop_words] for doc in texts]\n",
        "\n",
        "def make_bigrams(texts):\n",
        "    return [bigram_mod[doc] for doc in texts]\n",
        "\n",
        "def make_trigrams(texts):\n",
        "    return [trigram_mod[bigram_mod[doc]] for doc in texts]\n",
        "\n",
        "def lemmatization(texts, allowed_postags=['NOUN', 'ADJ', 'VERB', 'ADV']):\n",
        "    \"\"\"https://spacy.io/api/annotation\"\"\"\n",
        "    texts_out = []\n",
        "    for sent in texts:\n",
        "        doc = nlp(\" \".join(sent))\n",
        "        texts_out.append([token.lemma_ for token in doc if token.pos_ in allowed_postags])\n",
        "    return texts_out"
      ],
      "metadata": {
        "id": "75ennqQxeoKF"
      },
      "execution_count": 17,
      "outputs": []
    },
    {
      "cell_type": "code",
      "source": [
        "# Remove Stop Words\n",
        "data_words_nostops = remove_stopwords(data_words)\n",
        "\n",
        "# Form Bigrams\n",
        "data_words_bigrams = make_bigrams(data_words_nostops)\n",
        "\n",
        "# Initialize spacy 'en' model, keeping only tagger component (for efficiency)\n",
        "# python3 -m spacy download en\n",
        "nlp = spacy.load('en_core_web_sm', disable=['parser', 'ner'])\n",
        "\n",
        "# Do lemmatization keeping only noun, adj, vb, adv\n",
        "data_lemmatized = lemmatization(data_words_bigrams, allowed_postags=['NOUN', 'ADJ', 'VERB', 'ADV'])\n",
        "\n",
        "print(data_lemmatized[:1])"
      ],
      "metadata": {
        "id": "lVs9CsKrey0D",
        "outputId": "65490b03-e266-4f87-8db4-98de30a7b8a4",
        "colab": {
          "base_uri": "https://localhost:8080/"
        }
      },
      "execution_count": 18,
      "outputs": [
        {
          "output_type": "stream",
          "name": "stdout",
          "text": [
            "[['high_quality', 'pill', 'canadian_pharmacy', 'present', 'cheap', 'pill', 'online', 'buy', 'quality', 'pill', 'leave', 'computer', 'send', 'directly', 'home', 'prescription', 'check', 'time', 'cheap', 'quality', 'click', 'buy', 'viagra', 'low', 'price', 'web']]\n"
          ]
        }
      ]
    },
    {
      "cell_type": "code",
      "source": [
        "# Create Dictionary\n",
        "id2word = corpora.Dictionary(data_lemmatized)\n",
        "id2word.filter_extremes(no_below=5, no_above=0.7)\n",
        "\n",
        "# Create Corpus\n",
        "texts = data_lemmatized\n",
        "\n",
        "# Term Document Frequency\n",
        "corpus = [id2word.doc2bow(text) for text in texts]\n",
        "\n",
        "# View\n",
        "print(corpus[:1])"
      ],
      "metadata": {
        "id": "pI5qYf5xe_TW",
        "outputId": "999ee925-e103-4ae1-b251-7b97de04de98",
        "colab": {
          "base_uri": "https://localhost:8080/"
        }
      },
      "execution_count": 19,
      "outputs": [
        {
          "output_type": "stream",
          "name": "stdout",
          "text": [
            "[[(0, 2), (1, 1), (2, 2), (3, 1), (4, 1), (5, 1), (6, 1), (7, 1), (8, 1), (9, 1), (10, 1), (11, 1), (12, 3), (13, 1), (14, 1), (15, 1), (16, 2), (17, 1), (18, 1), (19, 1), (20, 1)]]\n"
          ]
        }
      ]
    },
    {
      "cell_type": "code",
      "source": [
        "# === Función para entrenar y evaluar coherencia ===\n",
        "def compute_coherence_values(alpha_value):\n",
        "    coherence_scores = []\n",
        "    topic_range = range(4, 11)\n",
        "    for num_topics in topic_range:\n",
        "        model = gensim.models.ldamodel.LdaModel(\n",
        "            corpus=corpus,\n",
        "            id2word=id2word,\n",
        "            num_topics=num_topics,\n",
        "            random_state=100,\n",
        "            update_every=1,\n",
        "            chunksize=1000,\n",
        "            passes=30,\n",
        "            iterations=400,\n",
        "            alpha=alpha_value,\n",
        "            eta='auto',\n",
        "            per_word_topics=True\n",
        "        )\n",
        "        coherence_model = CoherenceModel(model=model, texts=texts, dictionary=id2word, coherence='c_v')\n",
        "        coherence = coherence_model.get_coherence()\n",
        "        coherence_scores.append(coherence)\n",
        "    return list(topic_range), coherence_scores\n",
        "\n",
        "# === Obtener resultados para cada alpha ===\n",
        "alphas = ['symmetric', 'asymmetric', 'auto']\n",
        "results = {}\n",
        "\n",
        "for alpha in alphas:\n",
        "    print(f\"Calculando coherencia para alpha='{alpha}'...\")\n",
        "    x, y = compute_coherence_values(alpha)\n",
        "    results[alpha] = (x, y)\n",
        "\n",
        "# === Graficar resultados ===\n",
        "plt.figure(figsize=(12, 5))\n",
        "\n",
        "for i, alpha in enumerate(alphas):\n",
        "    plt.plot(results[alpha][0], results[alpha][1], marker='o', label=f\"alpha = {alpha}\")\n",
        "\n",
        "plt.title(\"Comparación de coherencia según alpha y número de tópicos\")\n",
        "plt.xlabel(\"Número de tópicos\")\n",
        "plt.ylabel(\"Coherencia (c_v)\")\n",
        "plt.legend()\n",
        "plt.grid(True)\n",
        "plt.tight_layout()\n",
        "plt.show()"
      ],
      "metadata": {
        "colab": {
          "base_uri": "https://localhost:8080/",
          "height": 611
        },
        "id": "cQIgEVpC4ygw",
        "outputId": "adea3124-65b8-4d5f-98f2-5bb72e35d5c1"
      },
      "execution_count": 22,
      "outputs": [
        {
          "output_type": "stream",
          "name": "stdout",
          "text": [
            "Calculando coherencia para alpha='symmetric'...\n"
          ]
        },
        {
          "output_type": "stream",
          "name": "stderr",
          "text": [
            "WARNING:gensim.models.ldamodel:updated prior is not positive\n"
          ]
        },
        {
          "output_type": "stream",
          "name": "stdout",
          "text": [
            "Calculando coherencia para alpha='asymmetric'...\n"
          ]
        },
        {
          "output_type": "stream",
          "name": "stderr",
          "text": [
            "WARNING:gensim.models.ldamodel:updated prior is not positive\n"
          ]
        },
        {
          "output_type": "stream",
          "name": "stdout",
          "text": [
            "Calculando coherencia para alpha='auto'...\n"
          ]
        },
        {
          "output_type": "stream",
          "name": "stderr",
          "text": [
            "WARNING:gensim.models.ldamodel:updated prior is not positive\n"
          ]
        },
        {
          "output_type": "display_data",
          "data": {
            "text/plain": [
              "<Figure size 1200x500 with 1 Axes>"
            ],
            "image/png": "[encoded data removed]"
          },
          "metadata": {}
        }
      ]
    },
    {
      "cell_type": "code",
      "source": [
        "lda_model = gensim.models.ldamodel.LdaModel(\n",
        "  corpus=corpus,\n",
        "  id2word=id2word,\n",
        "  num_topics=6,\n",
        "  random_state=100,\n",
        "  update_every=1,\n",
        "  chunksize=1000,\n",
        "  passes=30,\n",
        "  iterations=400,\n",
        "  alpha='asymmetric',\n",
        "  eta='auto',\n",
        "  per_word_topics=True\n",
        ")"
      ],
      "metadata": {
        "id": "KhTh1PkUfL5s"
      },
      "execution_count": 35,
      "outputs": []
    },
    {
      "cell_type": "markdown",
      "source": [
        "## 📊 Análisis de Clustering de Correos Usando LDA (6 Tópicos)\n",
        "\n",
        "Se ha realizado un modelo de **Latent Dirichlet Allocation (LDA)** con 6 tópicos para agrupar correos electrónicos (algunos de phishing y otros legítimos). A continuación, se describe el contenido temático de cada tópico generado.\n",
        "\n",
        "---\n",
        "\n",
        "### 🔹 **Tópico 1: Listas de correo y contenido técnico**\n",
        "**Palabras clave:**  \n",
        "`\"org\", \"write\", \"list\", \"file\", \"mailing_list\", \"use\", \"help\", \"get\", \"perl\", \"code\", \"net\", \"ect\", \"work\", \"problem\", \"try\", \"make\", \"run\", \"test\", \"mailman_listinfo\", \"need\"`\n",
        "\n",
        "**Interpretación:**  \n",
        "Correos relacionados con **comunidades técnicas**, listas de distribución, documentación o discusiones sobre software. Palabras clave técnicas como `perl`, `run`, `code`, etc.  \n",
        "➡️ **Muy probablemente legítimos.**\n",
        "\n",
        "---\n",
        "\n",
        "### 🔹 **Tópico 2: Notificaciones de cuenta y mensajes de sistemas**\n",
        "**Palabras clave:**  \n",
        "`\"email\", \"account\", \"com\", \"receive\", \"click\", \"mail\", \"user\", \"message\", \"address\", \"unsubscribe\", \"new\", \"send\", \"team\", \"update\", \"thank\", \"service\", \"verify\", \"access\", \"change\", \"activity\"`\n",
        "\n",
        "**Interpretación:**  \n",
        "Este clúster representa mensajes automáticos o institucionales relacionados con **cuentas de usuario, notificaciones de actividad, actualizaciones, verificación de identidad** o cambios de seguridad.  \n",
        "➡️ **Puede incluir tanto correos legítimos como phishing que imitan servicios reales.**\n",
        "\n",
        "---\n",
        "\n",
        "### 🔹 **Tópico 3: Conversaciones personales o informales**\n",
        "**Palabras clave:**  \n",
        "`\"com\", \"get\", \"make\", \"go\", \"well\", \"say\", \"time\", \"year\", \"want\", \"people\", \"come\", \"know\", \"good\", \"find\", \"take\", \"many\", \"give\", \"see\", \"site\", \"day\"`\n",
        "\n",
        "**Interpretación:**  \n",
        "Este tópico agrupa correos con lenguaje conversacional, posiblemente de remitentes conocidos, newsletters o mensajes personales. Tono casual y amplio vocabulario.  \n",
        "➡️ **Generalmente legítimos.**\n",
        "\n",
        "---\n",
        "\n",
        "### 🔹 **Tópico 4: Confirmaciones, pagos y solicitudes de información**\n",
        "**Palabras clave:**  \n",
        "`\"information\", \"thank\", \"contact\", \"send\", \"payment\", \"detail\", \"wallet\", \"regard\", \"need\", \"follow\", \"number\", \"call\", \"claim\", \"day\", \"deal\", \"process\", \"let\", \"provide\", \"know\", \"confirm\"`\n",
        "\n",
        "**Interpretación:**  \n",
        "Este clúster incluye **mensajes formales** solicitando o proporcionando datos personales, confirmaciones de pago, transacciones, o gestiones administrativas.  \n",
        "➡️ **Mixto: puede ser legítimo o phishing sofisticado.**\n",
        "\n",
        "---\n",
        "\n",
        "### 🔹 **Tópico 5: Estafas financieras / phishing clásico**\n",
        "**Palabras clave:**  \n",
        "`\"fund\", \"money\", \"country\", \"transfer\", \"business\", \"transaction\", \"contact\", \"account\", \"company\", \"price\", \"offer\", \"investment\", \"get\", \"name\", \"bank\", \"assistance\", \"need\", \"make\", \"order\", \"assist\"`\n",
        "\n",
        "**Interpretación:**  \n",
        "Correos relacionados con **estafas clásicas**: ofertas falsas de dinero, negocios fantasmas, inversiones sospechosas, o promesas de ayuda financiera.  \n",
        "➡️ **Alta probabilidad de phishing.**\n",
        "\n",
        "---\n",
        "\n",
        "### 🔹 **Tópico 6: Promociones, recompensas y spam**\n",
        "**Palabras clave:**  \n",
        "`\"get\", \"time\", \"work\", \"com\", \"see\", \"site\", \"win\", \"take\", \"freebitcoin\", \"check\", \"start\", \"news\", \"good\", \"delete\", \"right\", \"think\", \"button\", \"earn\", \"information\", \"offer\"`\n",
        "\n",
        "**Interpretación:**  \n",
        "Mensajes con contenido promocional o de **spam**: premios, promesas de ganancia, sitios de recompensas o criptomonedas. Uso frecuente de términos llamativos.  \n",
        "➡️ **Puede incluir spam legítimo y phishing disfrazado de promociones.**\n",
        "\n",
        "---\n",
        "\n",
        "## 🛡️ Aplicación para Detección de Phishing\n",
        "\n",
        "Basado en esta segmentación:\n",
        "\n",
        "- 🔴 **Alta sospecha de phishing:** Tópicos **4**, **5** y **6**\n",
        "- 🟡 **Potencialmente mixtos o neutros:** Tópico **2**\n",
        "- 🟢 **Probablemente legítimos:** Tópicos **1** y **3**\n",
        "\n",
        "Esto permite usar la asignación de tópicos como **feature** en un modelo de clasificación para phishing."
      ],
      "metadata": {
        "id": "-vVsJdDyEf0N"
      }
    },
    {
      "cell_type": "code",
      "source": [
        "pyLDAvis.enable_notebook()\n",
        "vis = pyLDAvis.gensim.prepare(lda_model, corpus, id2word)\n",
        "vis"
      ],
      "metadata": {
        "colab": {
          "base_uri": "https://localhost:8080/",
          "height": 861
        },
        "id": "gl7LQ0JjoT6v",
        "outputId": "b6b5b0be-7c2c-4177-e53c-0d1082fb4e49"
      },
      "execution_count": 36,
      "outputs": [
        {
          "output_type": "execute_result",
          "data": {
            "text/plain": [
              "PreparedData(topic_coordinates=              x         y  topics  cluster       Freq\n",
              "topic                                                \n",
              "4     -0.093019 -0.215088       1        1  23.006201\n",
              "0      0.290564  0.026634       2        1  19.724640\n",
              "1     -0.157072 -0.006839       3        1  18.841294\n",
              "3      0.053804 -0.171213       4        1  17.807942\n",
              "2      0.081962  0.174222       5        1  11.979566\n",
              "5     -0.176239  0.192284       6        1   8.640358, topic_info=            Term         Freq        Total Category  logprob  loglift\n",
              "141        email  4637.000000  4637.000000  Default  30.0000  30.0000\n",
              "338      account  4111.000000  4111.000000  Default  29.0000  29.0000\n",
              "4          click  2569.000000  2569.000000  Default  28.0000  28.0000\n",
              "172      receive  2626.000000  2626.000000  Default  27.0000  27.0000\n",
              "370          org  2591.000000  2591.000000  Default  26.0000  26.0000\n",
              "..           ...          ...          ...      ...      ...      ...\n",
              "57   opportunity   209.956494   549.870170   Topic6  -5.3095   1.4859\n",
              "153  information   251.704595  2152.132873   Topic6  -5.1282   0.3028\n",
              "139         dear   223.751365  1237.308318   Topic6  -5.2459   0.7386\n",
              "54          need   233.466350  2029.094288   Topic6  -5.2034   0.2864\n",
              "148           go   207.935405  1486.105983   Topic6  -5.3192   0.4820\n",
              "\n",
              "[404 rows x 6 columns], token_table=      Topic      Freq      Term\n",
              "term                           \n",
              "199       5  0.987935    abroad\n",
              "4111      4  0.994522  abstract\n",
              "1270      2  0.995474    access\n",
              "1270      4  0.002785    access\n",
              "338       2  0.821131   account\n",
              "...     ...       ...       ...\n",
              "282       6  0.005692     write\n",
              "241       3  0.613723      year\n",
              "241       4  0.291225      year\n",
              "241       5  0.094795      year\n",
              "1140      3  0.987994     young\n",
              "\n",
              "[706 rows x 3 columns], R=30, lambda_step=0.01, plot_opts={'xlab': 'PC1', 'ylab': 'PC2'}, topic_order=[5, 1, 2, 4, 3, 6])"
            ],
            "text/html": [
              "\n",
              "<link rel=\"stylesheet\" type=\"text/css\" href=\"https://cdn.jsdelivr.net/gh/bmabey/pyLDAvis@3.4.0/pyLDAvis/js/ldavis.v1.0.0.css\">\n",
              "\n",
              "\n",
              "<div id=\"ldavis_el5651350570736539043276586885\" style=\"background-color:white;\"></div>\n",
              "<script type=\"text/javascript\">\n",
              "\n",
              "var ldavis_el5651350570736539043276586885_data = {\"mdsDat\": {\"x\": [-0.09301894786198134, 0.2905637227722482, -0.15707171155440652, 0.053804080952622194, 0.08196194820788674, -0.1762390925163697], \"y\": [-0.21508823532240579, 0.026634031362028205, -0.006838972171105946, -0.17121305909244372, 0.1742220470780356, 0.19228418814589168], \"topics\": [1, 2, 3, 4, 5, 6], \"cluster\": [1, 1, 1, 1, 1, 1], \"Freq\": [23.00620056258969, 19.72463990367349, 18.841293753748037, 17.80794173417949, 11.979565861013224, 8.640358184796067]}, \"tinfo\": {\"Term\": [\"email\", \"account\", \"click\", \"receive\", \"org\", \"fund\", \"money\", \"user\", \"mail\", \"com\", \"message\", \"get\", \"country\", \"address\", \"write\", \"list\", \"unsubscribe\", \"file\", \"team\", \"work\", \"transfer\", \"contact\", \"mailing_list\", \"information\", \"business\", \"transaction\", \"perl\", \"send\", \"code\", \"see\", \"perl\", \"code\", \"ect\", \"rpm\", \"listinfo\", \"razor_user\", \"function\", \"install\", \"bug\", \"instal\", \"module\", \"domain\", \"spamassassin\", \"html\", \"signature\", \"cancel\", \"razor\", \"stat_math\", \"ethz_ch\", \"header\", \"patch\", \"subscription\", \"general\", \"script\", \"contained_reproducible\", \"provide_commente\", \"samba\", \"tangomu\", \"exmh_user\", \"object\", \"submission\", \"mailing_list\", \"test\", \"file\", \"org\", \"bit\", \"write\", \"seem\", \"mailman_listinfo\", \"window\", \"run\", \"list\", \"set\", \"spam\", \"net\", \"use\", \"server\", \"problem\", \"package\", \"example\", \"line\", \"help\", \"add\", \"version\", \"read\", \"try\", \"work\", \"think\", \"get\", \"make\", \"need\", \"find\", \"new\", \"team\", \"email\", \"verify\", \"activity\", \"python\", \"network\", \"rights_reserve\", \"opt\", \"unusual\", \"alert\", \"jose_monkey\", \"security_notification\", \"detected_somethe\", \"future_report\", \"similar_activity\", \"sponsor\", \"token\", \"subscribe\", \"airdrop\", \"sender\", \"gas\", \"copyright\", \"preference\", \"access\", \"management\", \"pende\", \"expire\", \"ledger\", \"unable\", \"mailbox\", \"reward\", \"click\", \"receive\", \"user\", \"account\", \"view\", \"address\", \"device\", \"message\", \"mail\", \"unsubscribe\", \"link\", \"update\", \"com\", \"log\", \"new\", \"service\", \"send\", \"request\", \"remove\", \"security\", \"change\", \"thank\", \"customer\", \"dear\", \"list\", \"report\", \"meeting\", \"feel\", \"woman\", \"speak\", \"girl\", \"gain\", \"newsletter\", \"presently\", \"english\", \"investor\", \"school\", \"summary\", \"admin\", \"father\", \"picture\", \"track\", \"organization\", \"recipient\", \"mother\", \"wife\", \"co_operation\", \"french\", \"room\", \"draft\", \"dear_friend\", \"human\", \"significant\", \"young\", \"protection\", \"political\", \"live\", \"become\", \"world\", \"people\", \"many\", \"real\", \"say\", \"interest\", \"love\", \"deposit\", \"center\", \"year\", \"go\", \"well\", \"come\", \"word\", \"increase\", \"great\", \"make\", \"much\", \"language\", \"talk\", \"com\", \"even\", \"site\", \"want\", \"good\", \"take\", \"find\", \"get\", \"time\", \"give\", \"know\", \"day\", \"see\", \"way\", \"thing\", \"also\", \"new\", \"payment\", \"wallet\", \"confirm\", \"hou_ect\", \"kindly\", \"attach\", \"enron\", \"invest\", \"verification\", \"paper\", \"communication\", \"conference\", \"asset\", \"notification\", \"agreement\", \"cash\", \"urgent\", \"suspend\", \"telephone\", \"abstract\", \"vince\", \"finance\", \"analysis\", \"meter\", \"director\", \"trading\", \"presentation\", \"desk\", \"attachment\", \"loan\", \"fax\", \"schedule\", \"study\", \"position\", \"manager\", \"dollar\", \"volume\", \"document\", \"forward\", \"deal\", \"information\", \"process\", \"regard\", \"number\", \"detail\", \"claim\", \"contact\", \"call\", \"let\", \"follow\", \"thank\", \"send\", \"provide\", \"day\", \"need\", \"phone\", \"question\", \"include\", \"know\", \"fund\", \"country\", \"transfer\", \"transaction\", \"investment\", \"assist\", \"discount\", \"foreign\", \"usd\", \"beneficiary\", \"drug\", \"shipping\", \"ship\", \"await\", \"willing\", \"reliable\", \"medication\", \"activate\", \"consignment\", \"cheap\", \"erection\", \"pharmacy\", \"express\", \"foreigner\", \"income\", \"confidentiality\", \"exchange\", \"up\", \"venture\", \"abroad\", \"bank\", \"money\", \"sum\", \"receipt\", \"assistance\", \"price\", \"purchase\", \"government\", \"business\", \"save\", \"partner\", \"fee\", \"private\", \"company\", \"offer\", \"pay\", \"amount\", \"contact\", \"family\", \"name\", \"order\", \"die\", \"software\", \"reply\", \"account\", \"get\", \"need\", \"make\", \"want\", \"know\", \"good\", \"give\", \"com\", \"free\", \"security\", \"win\", \"freebitcoin\", \"delete\", \"earn\", \"bonus\", \"attempt\", \"machine\", \"active\", \"death\", \"notify\", \"fun\", \"trust_wallet\", \"material\", \"officer\", \"stake\", \"photo\", \"focus\", \"disk\", \"apt\", \"aug\", \"boot\", \"hot\", \"optout\", \"ilug_linux\", \"repository\", \"notification_email\", \"fortune\", \"prize\", \"bet\", \"stellar\", \"ilug\", \"button\", \"night\", \"m\", \"guy\", \"chance\", \"news\", \"site\", \"fast\", \"work\", \"ticket\", \"see\", \"get\", \"time\", \"play\", \"exclusive\", \"take\", \"start\", \"check\", \"com\", \"right\", \"hour\", \"good\", \"think\", \"claim\", \"offer\", \"opportunity\", \"information\", \"dear\", \"need\", \"go\"], \"Freq\": [4637.0, 4111.0, 2569.0, 2626.0, 2591.0, 1368.0, 1402.0, 2091.0, 2573.0, 4990.0, 1995.0, 3495.0, 916.0, 1694.0, 2810.0, 2014.0, 1598.0, 1453.0, 1053.0, 1913.0, 787.0, 1719.0, 1335.0, 2152.0, 1026.0, 730.0, 1002.0, 2123.0, 989.0, 1618.0, 1001.6673495508735, 988.4869299116439, 860.7529450775495, 587.658887532265, 513.6492206536116, 298.15432983836234, 290.6677836683587, 281.42884306990163, 274.65079960778144, 258.69560189043614, 255.65880443686746, 253.36499631650557, 250.34388896117562, 244.96110591290088, 233.9286238666159, 245.43452040388544, 226.2432925761416, 223.81332809992296, 214.95470126691146, 213.8853394623717, 209.83089697941418, 220.54781324115638, 215.92187999038822, 207.24667725046103, 205.4850820009766, 205.4850820009766, 188.14653623463994, 187.51697104281152, 180.88775974577953, 179.29716287399575, 185.13377411612487, 1259.4631401027202, 631.9955248639993, 1344.5473837710877, 2331.6703281626906, 309.5377856928999, 2184.3483087042887, 477.3404905324528, 627.5364305353585, 349.2801990411959, 639.0502774244201, 1372.509244885932, 568.6652864955917, 529.2449676975484, 946.4185121507949, 1153.1676737610474, 533.682474978277, 704.113587180833, 514.4305138340286, 350.9931576187071, 536.8855716777751, 1095.2922717947388, 578.6660392800084, 528.5402295602156, 532.4808135282697, 648.0531294305872, 827.794998654411, 599.7021962598786, 1044.304717652553, 641.3782036107507, 608.8760071552441, 572.5885481739795, 560.1208696752113, 1052.4078439767331, 4633.139360492738, 790.2756750262055, 648.3019297565338, 600.4077858020659, 474.53985168419547, 468.13945441644387, 418.18691460475293, 379.9489805718711, 349.46003864949046, 324.991901223893, 312.6476201493011, 307.2754728439116, 303.24686456127534, 303.24686456127534, 273.1671732110911, 251.65702904267414, 245.04388106383036, 226.67272399433466, 205.91106689161245, 198.9374208905361, 188.28032788937995, 185.91821041706987, 714.9085212008694, 178.87484375542024, 174.04777704337639, 169.69110472660853, 167.3590851827136, 162.07750251006945, 152.07206859342983, 534.5742382634068, 2320.2244964086576, 2333.260928268986, 1835.238643493462, 3375.5803348557038, 580.1602649658372, 1375.3151222771728, 507.90749625819046, 1557.6390960894091, 1910.0873500629327, 1247.1208338422784, 621.0308818380158, 996.0344579110558, 2506.078967380775, 568.8928284091963, 1212.245245813152, 844.3743032235705, 1101.7057905226598, 590.5955225793454, 506.54278598920297, 574.6924859223936, 685.0381046855298, 873.8861176491761, 591.3779107237649, 602.2443124157033, 641.3453922891948, 547.7864952923549, 271.328300582247, 235.6754655287035, 221.42763391902972, 208.19680079291717, 175.70811792917615, 173.3830525507985, 153.7121704744699, 150.06708327856623, 144.6775691189895, 142.33666804948433, 140.7135582185199, 137.638771501452, 136.33813196619096, 131.4592083513756, 127.24395003558344, 124.72028633341947, 120.43369733812375, 121.03584167781088, 118.00820629702054, 115.48173981766585, 118.44803749762876, 108.38798620736591, 106.19340088712806, 106.81311648381849, 113.61179155549809, 103.4126254973656, 102.89578260348648, 99.39411136044896, 100.65862740968666, 98.23044139051545, 354.6693977837843, 277.26344000146895, 408.0090289403531, 561.4473680832907, 482.17987037037966, 279.1289253799562, 658.8258083274795, 319.8085628848617, 169.47796465080745, 318.6390502024768, 235.64215559978317, 627.9555891525138, 784.9854501072756, 676.6738934779179, 533.2662627040389, 286.51971947290997, 241.33356120253615, 349.7779263510844, 806.2635308640553, 393.56696487136315, 389.8857541894361, 260.24728380070684, 1137.9265045564966, 332.4987402908864, 422.8022163118653, 594.5582135838079, 525.5947165758741, 489.28560046321377, 513.9256340200741, 816.8369000168842, 634.8721102251504, 478.88988426462663, 531.3661522473342, 420.36341207910624, 449.0945085824734, 373.42646669681886, 333.1061452277623, 343.2772080546018, 328.2597769480082, 738.4990383136347, 631.4471940991451, 447.3287307680812, 437.3670067050752, 423.7064223737957, 390.88943504821765, 367.1338178698168, 367.0083339975175, 346.36858040234904, 287.56316583999836, 278.6169074814893, 266.8408227458969, 248.88589013072146, 245.16964796198167, 219.04878816819814, 206.74403282803715, 199.9898297788582, 184.51781911692333, 170.42659972989497, 164.07190529688432, 160.301102707865, 154.67584696188953, 152.72580354105614, 148.91574394002242, 149.18254490462377, 146.69491577786889, 139.5836909383976, 136.9302409264794, 137.34278087365377, 135.21782825862076, 332.0512944223865, 250.95596647616983, 200.34889949528988, 225.24785040330588, 290.8633020210226, 359.71840977218574, 250.0027944055831, 350.60157241156276, 421.6906109766963, 512.5137918585433, 1371.7569251579525, 510.7299564929891, 627.256913066927, 606.8198328387429, 669.5389870836893, 549.9458062108517, 850.2394311221259, 602.275719075345, 493.50064180712616, 613.3819180009393, 933.6870620509045, 811.9299670229501, 458.543948647362, 534.8006893909801, 613.7184299637764, 396.02074323580797, 411.28926543577774, 415.38572903570184, 450.4575951162578, 1367.9026397468294, 916.1524194809938, 787.1577792038692, 729.5395682316179, 594.4038326161635, 394.34612898586624, 195.26335535779518, 196.9945994305889, 194.28339450236356, 149.29387250778356, 147.30898844355, 135.50529085132015, 136.34985732770772, 136.0313097342862, 135.030444107361, 127.5043699604526, 109.23987110651008, 111.56083535612603, 102.28203662696133, 95.92754812283455, 94.53729857023006, 91.38806671196807, 91.53002724546809, 88.56398287170084, 85.37012446681764, 83.83953193024509, 80.89657876144895, 79.69462979482583, 78.37322205365793, 77.12155400099728, 510.8953431640721, 1255.9209467893852, 292.6176164379377, 159.6893150278307, 508.3098958579334, 616.9484155098427, 297.3636164290905, 179.53995142430773, 758.6704289941351, 297.6671674192242, 315.76729993703964, 183.0061818666937, 302.6369101515692, 632.8336840609014, 614.0312883013704, 337.2601740579118, 252.7143692822385, 651.0983953895706, 236.83197942102478, 544.6093523207954, 410.72269393714134, 215.5697843130667, 286.66009926343895, 374.10208535195034, 634.2262022952647, 574.9211339060205, 465.22276290145686, 447.90382455929796, 370.54805486929126, 369.67178168046786, 342.6751815690467, 323.99550024519476, 352.183110301828, 315.0446665376589, 306.9017576971976, 395.041231482256, 334.34240516815606, 273.86860786206705, 255.4229919398585, 198.87290561554306, 192.56624026413957, 186.40440026024677, 183.99892321573776, 173.31833067391457, 164.2924527559369, 139.73235574672364, 127.30471352368174, 115.58177989356543, 116.3541751555966, 111.9513778112493, 111.74423445681886, 112.48339938071625, 104.90239357050223, 101.35289712845646, 94.82204316735843, 91.37918832814246, 127.94441483507518, 90.8315650111078, 86.66185461156971, 82.92360965118334, 80.74177742922295, 77.64740611069489, 76.22079042047486, 76.10558664185696, 74.56904685185373, 231.2968766212266, 255.9083862333246, 101.9559570732555, 137.00486772849283, 113.80061004070146, 206.41195083217193, 295.1787560503113, 452.49062310141585, 208.34002231074, 644.4063555205172, 173.96731591494432, 553.9181970355625, 871.2574261776756, 649.0889362949476, 171.76313898480709, 186.27041110749792, 374.36458543194203, 315.97547030243925, 320.552694789112, 603.7885800263895, 266.0278695368949, 222.52697414338087, 292.7069171999249, 265.4653563391017, 246.32816181178117, 249.9946120383507, 209.9564938676705, 251.70459521029733, 223.75136528108106, 233.4663500444166, 207.93540512603707], \"Total\": [4637.0, 4111.0, 2569.0, 2626.0, 2591.0, 1368.0, 1402.0, 2091.0, 2573.0, 4990.0, 1995.0, 3495.0, 916.0, 1694.0, 2810.0, 2014.0, 1598.0, 1453.0, 1053.0, 1913.0, 787.0, 1719.0, 1335.0, 2152.0, 1026.0, 730.0, 1002.0, 2123.0, 989.0, 1618.0, 1002.4340217175555, 989.2640340015355, 861.5457025028414, 588.4267083149127, 514.4168352736966, 298.9224964295877, 291.4381245942674, 282.1972337001213, 275.41825996637687, 259.464488546481, 256.42619542334353, 254.14057780959357, 251.11121145534182, 245.73065424922444, 234.70007286651185, 246.25570691730888, 227.01098526356705, 224.5792014400247, 215.7205733508398, 214.65305564180622, 210.59907310871958, 221.3576318379417, 216.72060912211688, 208.01486207965468, 206.2509407781399, 206.2509407781399, 188.91349096475204, 188.28407243034664, 181.65618533992821, 180.06752965784315, 185.9427740597639, 1335.6880237149978, 661.6790918045778, 1453.7945326597269, 2591.2064496150315, 316.2564393333991, 2810.9060743703258, 533.2141639325854, 748.2983374703037, 381.2347115495457, 778.9068133262934, 2014.488258245305, 696.4846639331504, 641.0060109471523, 1369.4806410710166, 1763.6525586687762, 667.9120434005486, 975.4085113600469, 684.1087148985164, 404.26041496395203, 756.1338051710103, 2198.3787372204197, 853.892554171869, 750.4595835566913, 801.9807266797663, 1149.114154270945, 1913.9431349565116, 1085.1205463458914, 3495.0855829273614, 2254.017613192994, 2029.094288457241, 1366.6530884556553, 2217.990096275227, 1053.2479469038062, 4637.297463937654, 791.1143099639316, 649.1399675908128, 601.2505695328938, 475.3782157257542, 468.9770526718388, 419.02304869033986, 380.78454759112765, 350.2951491086307, 325.82854365823124, 313.4806448840658, 308.10848232987684, 304.0798658177519, 304.0798658177519, 274.0132862784628, 252.5073253669306, 245.88127441589774, 227.52117139998413, 206.7490587242948, 199.79155598582864, 189.1194156581115, 186.75957644147292, 718.2504714502808, 179.72857130715727, 174.8914432816318, 170.52969864736255, 168.19851607680857, 162.9200127865868, 152.91069894808368, 538.585872333484, 2569.5710054861493, 2626.186334822713, 2091.727601129047, 4111.403962801684, 649.1433296295105, 1694.8269094114892, 567.5129376087419, 1995.5546043582597, 2573.3078053315317, 1598.9506454961122, 737.4120795521328, 1426.4762842203088, 4990.2103283717925, 746.7998960096111, 2217.990096275227, 1367.048101370472, 2123.673840528375, 848.6132798259321, 682.2809303652135, 894.0000629765303, 1339.0939515966784, 2594.7593396372217, 1046.740017810572, 1237.3083183954434, 2014.488258245305, 850.3025719500052, 272.14184225632084, 236.48431604089225, 222.23355780816746, 209.00657716044955, 176.51605489428331, 174.1914169905426, 154.52651166949, 150.90479012905777, 145.49118322887983, 143.155792025235, 141.52507823999045, 138.45975041580007, 137.1935933252774, 132.29323765190043, 128.0543295514776, 125.54509288287855, 121.24839586873941, 121.87002382694637, 118.82206972328821, 116.29044330437416, 119.30556361001172, 109.19793249023728, 107.00475901936773, 107.63667281697003, 114.49263651185566, 104.22395622356686, 103.70932827493645, 100.20307535340703, 101.48747797255126, 99.04936326995025, 372.064707922437, 300.63468155014954, 474.01631108568716, 712.007638539234, 606.7616555779689, 332.7397156085815, 965.2469018789611, 409.5112286087805, 188.43846402115497, 422.4685030600781, 287.1430402833167, 1023.2625286402931, 1486.1059825795235, 1222.0981542071188, 889.6863071845809, 396.88294519347306, 314.68190130985823, 548.4827077752636, 2254.017613192994, 725.1275031574997, 743.7512795900271, 387.1159633900893, 4990.2103283717925, 601.0207209320756, 920.4055911442204, 1724.7499888273755, 1384.6236975192935, 1241.338041313908, 1366.6530884556553, 3495.0855829273614, 2205.642343231433, 1308.8907009269703, 1864.671984276065, 1304.8877419215144, 1618.374846761783, 1020.9817284346988, 652.8023364278474, 1454.8942264462382, 2217.990096275227, 739.3330692806447, 632.30574109577, 448.16804540392087, 438.1966158801193, 424.55488140841317, 391.72496692492155, 367.96468394253566, 367.8568533373968, 347.2143322375972, 288.3949724202481, 279.4530127297361, 267.67134172933993, 249.72573918609007, 246.01550130485225, 219.88223751758576, 207.58173847649033, 200.83629938402643, 185.35710105607114, 171.26250950167477, 164.90336896000414, 161.13120513233486, 155.51347998527905, 153.55914965157294, 149.74550365612757, 150.01581360282415, 147.53025579623437, 140.41467339903045, 137.763373653238, 138.17875454707655, 136.0491715451429, 345.43055352991075, 258.99841081196223, 205.51642278523863, 233.91012087778162, 308.0842790380273, 398.2499578245313, 266.2439465349489, 406.2437278980995, 507.9450636801061, 644.3371032430499, 2152.132872512581, 678.3431968925951, 925.5021508781073, 930.8998331348627, 1110.6954367023789, 866.4223966457766, 1719.955098718157, 1094.2864153714463, 838.3585564351755, 1229.6641015226694, 2594.7593396372217, 2123.673840528375, 828.1834010353897, 1304.8877419215144, 2029.094288457241, 674.6559443325892, 782.6590721561323, 961.4345016604038, 1864.671984276065, 1368.737641424359, 916.9737904575885, 787.9785847349586, 730.3631203510434, 595.224956456623, 395.1718527425028, 196.08251562109442, 197.82323879981, 195.10638401334054, 150.1124472773323, 148.1271366162842, 136.32436329508445, 137.17428863736365, 136.85566379863397, 135.85717978986102, 128.3261189801411, 110.05661883338945, 112.40771404287949, 103.10048146088646, 96.74715306643762, 95.35380108267057, 92.20546584662601, 92.36926143211387, 89.38177385311093, 86.19633547606495, 84.66988015934722, 81.72703453923013, 80.51794782293244, 79.19397439001662, 77.94031887513022, 529.3194515094755, 1402.7970743877609, 308.8809543021298, 168.29688981098874, 610.4926130010266, 780.8666266841328, 345.02405132176494, 197.9482635435224, 1026.0459193001045, 363.423843152288, 402.65170973134605, 214.0823109291541, 412.3380243679933, 1087.7320398700363, 1056.9734130322884, 520.0212144370274, 365.72591336550374, 1719.955098718157, 337.3615328163809, 1404.0231893169603, 937.1159616389567, 296.16478623000035, 510.8133436060913, 945.9610126812034, 4111.403962801684, 3495.0855829273614, 2029.094288457241, 2254.017613192994, 1724.7499888273755, 1864.671984276065, 1384.6236975192935, 1308.8907009269703, 4990.2103283717925, 1242.7761389376496, 894.0000629765303, 395.85479732846784, 335.15312654642383, 274.6970735225421, 256.24113962826476, 199.68645539858198, 193.39408854569777, 187.2231036260348, 184.81910507281057, 174.17954033398524, 165.1525769658434, 140.54586707848307, 128.1238147580065, 116.40786421613154, 117.18841421599974, 112.76849044161595, 112.56021500180385, 113.31483564659251, 105.71829148184837, 102.17230351464796, 95.6411892032755, 92.19288399403422, 129.09096645354575, 91.64672264877937, 87.47763800229603, 83.73963436945704, 81.55245136096613, 78.46463802518505, 77.03387929425436, 76.9195507667564, 75.38387573816337, 248.09453165573956, 287.2098194647506, 108.58498797979914, 155.49257425291398, 125.638753293599, 269.616883338887, 450.8788272844854, 920.4055911442204, 322.0348513845958, 1913.9431349565116, 247.7658223740327, 1618.374846761783, 3495.0855829273614, 2205.642343231433, 245.10822138485275, 290.8811222278762, 1241.338041313908, 889.0690959357448, 940.4638605633969, 4990.2103283717925, 756.2557573995588, 508.319283862941, 1384.6236975192935, 1085.1205463458914, 866.4223966457766, 1056.9734130322884, 549.870170122592, 2152.132872512581, 1237.3083183954434, 2029.094288457241, 1486.1059825795235], \"Category\": [\"Default\", \"Default\", \"Default\", \"Default\", \"Default\", \"Default\", \"Default\", \"Default\", \"Default\", \"Default\", \"Default\", \"Default\", \"Default\", \"Default\", \"Default\", \"Default\", \"Default\", \"Default\", \"Default\", \"Default\", \"Default\", \"Default\", \"Default\", \"Default\", \"Default\", \"Default\", \"Default\", \"Default\", \"Default\", \"Default\", \"Topic1\", \"Topic1\", \"Topic1\", \"Topic1\", \"Topic1\", \"Topic1\", \"Topic1\", \"Topic1\", \"Topic1\", \"Topic1\", \"Topic1\", \"Topic1\", \"Topic1\", \"Topic1\", \"Topic1\", \"Topic1\", \"Topic1\", \"Topic1\", \"Topic1\", \"Topic1\", \"Topic1\", \"Topic1\", \"Topic1\", \"Topic1\", \"Topic1\", \"Topic1\", \"Topic1\", \"Topic1\", \"Topic1\", \"Topic1\", \"Topic1\", \"Topic1\", \"Topic1\", \"Topic1\", \"Topic1\", \"Topic1\", \"Topic1\", \"Topic1\", \"Topic1\", \"Topic1\", \"Topic1\", \"Topic1\", \"Topic1\", \"Topic1\", \"Topic1\", \"Topic1\", \"Topic1\", \"Topic1\", \"Topic1\", \"Topic1\", \"Topic1\", \"Topic1\", \"Topic1\", \"Topic1\", \"Topic1\", \"Topic1\", \"Topic1\", \"Topic1\", \"Topic1\", \"Topic1\", \"Topic1\", \"Topic1\", \"Topic1\", \"Topic2\", \"Topic2\", \"Topic2\", \"Topic2\", \"Topic2\", \"Topic2\", \"Topic2\", \"Topic2\", \"Topic2\", \"Topic2\", \"Topic2\", \"Topic2\", \"Topic2\", \"Topic2\", \"Topic2\", \"Topic2\", \"Topic2\", \"Topic2\", \"Topic2\", \"Topic2\", \"Topic2\", \"Topic2\", \"Topic2\", \"Topic2\", \"Topic2\", \"Topic2\", \"Topic2\", \"Topic2\", \"Topic2\", \"Topic2\", \"Topic2\", \"Topic2\", \"Topic2\", \"Topic2\", \"Topic2\", \"Topic2\", \"Topic2\", \"Topic2\", \"Topic2\", \"Topic2\", \"Topic2\", \"Topic2\", \"Topic2\", \"Topic2\", \"Topic2\", \"Topic2\", \"Topic2\", \"Topic2\", \"Topic2\", \"Topic2\", \"Topic2\", \"Topic2\", \"Topic2\", \"Topic2\", \"Topic2\", \"Topic2\", \"Topic2\", \"Topic3\", \"Topic3\", \"Topic3\", \"Topic3\", \"Topic3\", \"Topic3\", \"Topic3\", \"Topic3\", \"Topic3\", \"Topic3\", \"Topic3\", \"Topic3\", \"Topic3\", \"Topic3\", \"Topic3\", \"Topic3\", \"Topic3\", \"Topic3\", \"Topic3\", \"Topic3\", \"Topic3\", \"Topic3\", \"Topic3\", \"Topic3\", \"Topic3\", \"Topic3\", \"Topic3\", \"Topic3\", \"Topic3\", \"Topic3\", \"Topic3\", \"Topic3\", \"Topic3\", \"Topic3\", \"Topic3\", \"Topic3\", \"Topic3\", \"Topic3\", \"Topic3\", \"Topic3\", \"Topic3\", \"Topic3\", \"Topic3\", \"Topic3\", \"Topic3\", \"Topic3\", \"Topic3\", \"Topic3\", \"Topic3\", \"Topic3\", \"Topic3\", \"Topic3\", \"Topic3\", \"Topic3\", \"Topic3\", \"Topic3\", \"Topic3\", \"Topic3\", \"Topic3\", \"Topic3\", \"Topic3\", \"Topic3\", \"Topic3\", \"Topic3\", \"Topic3\", \"Topic3\", \"Topic3\", \"Topic3\", \"Topic3\", \"Topic4\", \"Topic4\", \"Topic4\", \"Topic4\", \"Topic4\", \"Topic4\", \"Topic4\", \"Topic4\", \"Topic4\", \"Topic4\", \"Topic4\", \"Topic4\", \"Topic4\", \"Topic4\", \"Topic4\", \"Topic4\", \"Topic4\", \"Topic4\", \"Topic4\", \"Topic4\", \"Topic4\", \"Topic4\", \"Topic4\", \"Topic4\", \"Topic4\", \"Topic4\", \"Topic4\", \"Topic4\", \"Topic4\", \"Topic4\", \"Topic4\", \"Topic4\", \"Topic4\", \"Topic4\", \"Topic4\", \"Topic4\", \"Topic4\", \"Topic4\", \"Topic4\", \"Topic4\", \"Topic4\", \"Topic4\", \"Topic4\", \"Topic4\", \"Topic4\", \"Topic4\", \"Topic4\", \"Topic4\", \"Topic4\", \"Topic4\", \"Topic4\", \"Topic4\", \"Topic4\", \"Topic4\", \"Topic4\", \"Topic4\", \"Topic4\", \"Topic4\", \"Topic4\", \"Topic5\", \"Topic5\", \"Topic5\", \"Topic5\", \"Topic5\", \"Topic5\", \"Topic5\", \"Topic5\", \"Topic5\", \"Topic5\", \"Topic5\", \"Topic5\", \"Topic5\", \"Topic5\", \"Topic5\", \"Topic5\", \"Topic5\", \"Topic5\", \"Topic5\", \"Topic5\", \"Topic5\", \"Topic5\", \"Topic5\", \"Topic5\", \"Topic5\", \"Topic5\", \"Topic5\", \"Topic5\", \"Topic5\", \"Topic5\", \"Topic5\", \"Topic5\", \"Topic5\", \"Topic5\", \"Topic5\", \"Topic5\", \"Topic5\", \"Topic5\", \"Topic5\", \"Topic5\", \"Topic5\", \"Topic5\", \"Topic5\", \"Topic5\", \"Topic5\", \"Topic5\", \"Topic5\", \"Topic5\", \"Topic5\", \"Topic5\", \"Topic5\", \"Topic5\", \"Topic5\", \"Topic5\", \"Topic5\", \"Topic5\", \"Topic5\", \"Topic5\", \"Topic5\", \"Topic5\", \"Topic5\", \"Topic5\", \"Topic5\", \"Topic5\", \"Topic5\", \"Topic6\", \"Topic6\", \"Topic6\", \"Topic6\", \"Topic6\", \"Topic6\", \"Topic6\", \"Topic6\", \"Topic6\", \"Topic6\", \"Topic6\", \"Topic6\", \"Topic6\", \"Topic6\", \"Topic6\", \"Topic6\", \"Topic6\", \"Topic6\", \"Topic6\", \"Topic6\", \"Topic6\", \"Topic6\", \"Topic6\", \"Topic6\", \"Topic6\", \"Topic6\", \"Topic6\", \"Topic6\", \"Topic6\", \"Topic6\", \"Topic6\", \"Topic6\", \"Topic6\", \"Topic6\", \"Topic6\", \"Topic6\", \"Topic6\", \"Topic6\", \"Topic6\", \"Topic6\", \"Topic6\", \"Topic6\", \"Topic6\", \"Topic6\", \"Topic6\", \"Topic6\", \"Topic6\", \"Topic6\", \"Topic6\", \"Topic6\", \"Topic6\", \"Topic6\", \"Topic6\", \"Topic6\", \"Topic6\", \"Topic6\", \"Topic6\", \"Topic6\", \"Topic6\", \"Topic6\", \"Topic6\"], \"logprob\": [30.0, 29.0, 28.0, 27.0, 26.0, 25.0, 24.0, 23.0, 22.0, 21.0, 20.0, 19.0, 18.0, 17.0, 16.0, 15.0, 14.0, 13.0, 12.0, 11.0, 10.0, 9.0, 8.0, 7.0, 6.0, 5.0, 4.0, 3.0, 2.0, 1.0, -4.7263, -4.7396, -4.8779, -5.2596, -5.3942, -5.9381, -5.9636, -5.9959, -6.0202, -6.0801, -6.0919, -6.1009, -6.1129, -6.1346, -6.1807, -6.1327, -6.2141, -6.2249, -6.2653, -6.2703, -6.2894, -6.2396, -6.2608, -6.3018, -6.3104, -6.3104, -6.3985, -6.4019, -6.4379, -6.4467, -6.4147, -4.4973, -5.1869, -4.4319, -3.8814, -5.9007, -3.9467, -5.4675, -5.1939, -5.7799, -5.1758, -4.4113, -5.2925, -5.3643, -4.7831, -4.5855, -5.3559, -5.0788, -5.3927, -5.775, -5.35, -4.637, -5.275, -5.3656, -5.3582, -5.1618, -4.917, -5.2393, -4.6846, -5.1721, -5.2241, -5.2856, -5.3076, -4.523, -3.0409, -4.8095, -5.0075, -5.0842, -5.3195, -5.3331, -5.4459, -5.5418, -5.6255, -5.698, -5.7368, -5.7541, -5.7673, -5.7673, -5.8718, -5.9538, -5.9804, -6.0583, -6.1544, -6.1889, -6.2439, -6.2565, -4.9097, -6.2952, -6.3225, -6.3479, -6.3617, -6.3938, -6.4575, -5.2004, -3.7324, -3.7268, -3.9669, -3.3575, -5.1185, -4.2554, -5.2515, -4.1309, -3.9269, -4.3533, -5.0505, -4.5781, -3.6554, -5.1382, -4.3816, -4.7433, -4.4772, -5.1007, -5.2542, -5.128, -4.9524, -4.7089, -5.0994, -5.0812, -5.0183, -5.176, -5.8327, -5.9736, -6.0359, -6.0975, -6.2672, -6.2805, -6.4009, -6.4249, -6.4615, -6.4778, -6.4893, -6.5114, -6.5209, -6.5573, -6.5899, -6.61, -6.6449, -6.6399, -6.6653, -6.6869, -6.6616, -6.7503, -6.7708, -6.765, -6.7032, -6.7973, -6.8023, -6.8369, -6.8243, -6.8487, -5.5648, -5.8111, -5.4247, -5.1055, -5.2577, -5.8044, -4.9456, -5.6683, -6.3033, -5.672, -5.9737, -4.9936, -4.7704, -4.9188, -5.157, -5.7782, -5.9499, -5.5787, -4.7436, -5.4608, -5.4702, -5.8744, -4.3991, -5.6294, -5.3891, -5.0482, -5.1715, -5.2431, -5.194, -4.7306, -4.9826, -5.2646, -5.1606, -5.3949, -5.3288, -5.5133, -5.6276, -5.5975, -5.6422, -4.775, -4.9316, -5.2763, -5.2989, -5.3306, -5.4112, -5.4739, -5.4742, -5.5321, -5.7182, -5.7498, -5.793, -5.8626, -5.8777, -5.9903, -6.0481, -6.0814, -6.1619, -6.2413, -6.2793, -6.3026, -6.3383, -6.351, -6.3762, -6.3745, -6.3913, -6.441, -6.4602, -6.4571, -6.4727, -5.5743, -5.8543, -6.0796, -5.9624, -5.7068, -5.4943, -5.8582, -5.52, -5.3354, -5.1403, -4.1558, -5.1438, -4.9383, -4.9714, -4.873, -5.0698, -4.6341, -4.9789, -5.1781, -4.9606, -4.5405, -4.6802, -5.2516, -5.0977, -4.9601, -5.3982, -5.3603, -5.3504, -5.2694, -3.7621, -4.163, -4.3148, -4.3908, -4.5956, -5.006, -5.7088, -5.7, -5.7139, -5.9773, -5.9906, -6.0742, -6.068, -6.0703, -6.0777, -6.135, -6.2896, -6.2686, -6.3554, -6.4196, -6.4342, -6.4681, -6.4665, -6.4995, -6.5362, -6.5543, -6.59, -6.605, -6.6217, -6.6378, -4.747, -3.8476, -5.3043, -5.91, -4.7521, -4.5584, -5.2882, -5.7928, -4.3516, -5.2872, -5.2282, -5.7737, -5.2706, -4.533, -4.5631, -5.1623, -5.4509, -4.5045, -5.5158, -4.6831, -4.9653, -5.6099, -5.3249, -5.0587, -4.5308, -4.6289, -4.8407, -4.8786, -5.0682, -5.0706, -5.1464, -5.2025, -5.119, -5.2305, -5.2567, -4.6774, -4.8443, -5.0438, -5.1135, -5.3638, -5.396, -5.4285, -5.4415, -5.5013, -5.5548, -5.7167, -5.8098, -5.9064, -5.8998, -5.9384, -5.9402, -5.9336, -6.0034, -6.0378, -6.1044, -6.1414, -5.8048, -6.1474, -6.1944, -6.2385, -6.2652, -6.3042, -6.3228, -6.3243, -6.3447, -5.2127, -5.1116, -6.0319, -5.7364, -5.922, -5.3265, -4.9688, -4.5417, -5.3173, -4.1881, -5.4976, -4.3394, -3.8865, -4.1809, -5.5103, -5.4292, -4.7312, -4.9008, -4.8864, -4.2532, -5.0728, -5.2514, -4.9773, -5.0749, -5.1498, -5.135, -5.3095, -5.1282, -5.2459, -5.2034, -5.3192], \"loglift\": [30.0, 29.0, 28.0, 27.0, 26.0, 25.0, 24.0, 23.0, 22.0, 21.0, 20.0, 19.0, 18.0, 17.0, 16.0, 15.0, 14.0, 13.0, 12.0, 11.0, 10.0, 9.0, 8.0, 7.0, 6.0, 5.0, 4.0, 3.0, 2.0, 1.0, 1.4686, 1.4686, 1.4685, 1.4681, 1.4679, 1.4668, 1.4668, 1.4667, 1.4666, 1.4664, 1.4664, 1.4663, 1.4663, 1.4663, 1.4661, 1.4661, 1.466, 1.466, 1.4658, 1.4658, 1.4658, 1.4657, 1.4657, 1.4657, 1.4657, 1.4657, 1.4653, 1.4653, 1.4652, 1.4651, 1.465, 1.4106, 1.4235, 1.3913, 1.3639, 1.4479, 1.2172, 1.3587, 1.2934, 1.3819, 1.2715, 1.0857, 1.2667, 1.2778, 1.0999, 1.0445, 1.2451, 1.1435, 1.1844, 1.3281, 1.127, 0.7727, 1.0803, 1.1188, 1.0599, 0.8966, 0.6313, 0.8764, 0.2614, 0.2126, 0.2657, 0.5995, 0.0932, 1.6225, 1.6224, 1.6222, 1.622, 1.6219, 1.6215, 1.6215, 1.6213, 1.6211, 1.6209, 1.6207, 1.6206, 1.6206, 1.6206, 1.6206, 1.6202, 1.6199, 1.6199, 1.6196, 1.6192, 1.619, 1.6189, 1.6188, 1.6186, 1.6185, 1.6185, 1.6184, 1.6183, 1.6181, 1.6178, 1.6158, 1.5212, 1.505, 1.4925, 1.4261, 1.511, 1.4144, 1.5123, 1.3756, 1.3253, 1.3748, 1.4515, 1.2641, 0.9345, 1.3512, 1.0192, 1.1415, 0.967, 1.2608, 1.3255, 1.1814, 0.953, 0.535, 1.0523, 0.9033, 0.4787, 1.1836, 1.6661, 1.6657, 1.6655, 1.6652, 1.6645, 1.6645, 1.6638, 1.6636, 1.6635, 1.6634, 1.6634, 1.6632, 1.6629, 1.6628, 1.6628, 1.6625, 1.6624, 1.6623, 1.6622, 1.6621, 1.6619, 1.6617, 1.6615, 1.6614, 1.6614, 1.6613, 1.6612, 1.661, 1.6609, 1.6608, 1.6212, 1.5882, 1.5192, 1.4315, 1.4393, 1.4934, 1.2872, 1.4219, 1.5631, 1.3871, 1.4715, 1.1808, 1.0309, 1.078, 1.1573, 1.3433, 1.4037, 1.2193, 0.6411, 1.058, 1.0233, 1.272, 0.1908, 1.0771, 0.8912, 0.6041, 0.7005, 0.7381, 0.6911, 0.2154, 0.4238, 0.6637, 0.4137, 0.5364, 0.3872, 0.6633, 0.9963, 0.225, -0.2414, 1.7244, 1.7242, 1.7237, 1.7236, 1.7235, 1.7234, 1.7233, 1.7232, 1.7231, 1.7226, 1.7225, 1.7224, 1.7222, 1.7221, 1.7217, 1.7215, 1.7213, 1.721, 1.7206, 1.7205, 1.7204, 1.7201, 1.7201, 1.72, 1.72, 1.7198, 1.7196, 1.7195, 1.7195, 1.7194, 1.686, 1.694, 1.7001, 1.6878, 1.668, 1.6238, 1.6626, 1.5782, 1.5394, 1.4966, 1.2752, 1.4417, 1.3365, 1.2976, 1.2194, 1.271, 1.021, 1.1284, 1.1956, 1.03, 0.7034, 0.764, 1.1343, 0.8335, 0.5297, 1.1928, 1.0821, 0.8863, 0.3049, 2.1214, 2.1211, 2.1209, 2.1208, 2.1206, 2.1199, 2.1178, 2.1178, 2.1177, 2.1165, 2.1164, 2.1159, 2.1159, 2.1159, 2.1159, 2.1155, 2.1145, 2.1144, 2.114, 2.1135, 2.1134, 2.1131, 2.1128, 2.1128, 2.1123, 2.1121, 2.1118, 2.1117, 2.1115, 2.1114, 2.0865, 2.0114, 2.0679, 2.0695, 1.9388, 1.8863, 1.9733, 2.0244, 1.8201, 1.9224, 1.8789, 1.9651, 1.8127, 1.5803, 1.5788, 1.689, 1.7523, 1.1506, 1.7682, 1.1749, 1.2971, 1.8043, 1.5443, 1.1943, 0.2529, 0.3171, 0.6491, 0.5061, 0.5841, 0.5037, 0.7256, 0.7258, -0.5291, 0.7496, 1.0528, 2.4467, 2.4463, 2.4457, 2.4455, 2.4446, 2.4444, 2.4443, 2.4443, 2.4438, 2.4435, 2.4429, 2.4423, 2.4416, 2.4416, 2.4415, 2.4415, 2.4414, 2.441, 2.4407, 2.4401, 2.4399, 2.4398, 2.4398, 2.4394, 2.4389, 2.4387, 2.4383, 2.4381, 2.4381, 2.4379, 2.3786, 2.3333, 2.3857, 2.3221, 2.3498, 2.1816, 2.0251, 1.7387, 2.0132, 1.3601, 2.0951, 1.3766, 1.0596, 1.2255, 2.0931, 2.003, 1.25, 1.4142, 1.3724, 0.3367, 1.4039, 1.6227, 0.8947, 1.0408, 1.191, 1.007, 1.4859, 0.3028, 0.7386, 0.2864, 0.482]}, \"token.table\": {\"Topic\": [5, 4, 2, 4, 2, 4, 5, 5, 6, 2, 1, 2, 4, 2, 4, 5, 3, 4, 2, 2, 1, 2, 3, 4, 5, 4, 5, 4, 6, 4, 5, 3, 4, 5, 4, 4, 6, 6, 5, 4, 5, 1, 3, 5, 6, 1, 6, 6, 6, 1, 4, 5, 1, 6, 1, 3, 4, 5, 6, 1, 4, 1, 3, 3, 6, 1, 2, 3, 4, 5, 1, 2, 5, 6, 3, 4, 6, 2, 3, 5, 3, 1, 1, 2, 3, 5, 6, 1, 2, 3, 5, 4, 2, 4, 5, 4, 5, 4, 5, 2, 4, 5, 1, 2, 5, 2, 3, 4, 5, 2, 3, 4, 5, 6, 3, 4, 5, 1, 2, 4, 5, 6, 3, 6, 6, 3, 6, 4, 2, 4, 5, 6, 2, 2, 3, 1, 2, 3, 5, 4, 5, 6, 1, 4, 3, 4, 1, 3, 5, 6, 1, 2, 4, 3, 4, 5, 1, 1, 3, 5, 6, 1, 3, 5, 5, 2, 6, 1, 2, 5, 3, 5, 6, 1, 3, 5, 6, 3, 1, 4, 2, 5, 3, 1, 4, 4, 1, 2, 3, 4, 5, 6, 6, 1, 2, 4, 5, 5, 5, 6, 2, 4, 1, 2, 3, 5, 6, 6, 3, 6, 1, 5, 2, 3, 2, 1, 1, 2, 3, 4, 5, 6, 3, 1, 3, 4, 5, 1, 2, 3, 5, 6, 1, 2, 3, 5, 6, 2, 5, 3, 4, 5, 6, 4, 6, 1, 1, 2, 3, 4, 5, 6, 6, 4, 2, 3, 4, 5, 6, 1, 3, 3, 6, 6, 1, 2, 3, 4, 5, 5, 3, 4, 1, 2, 3, 4, 6, 1, 1, 2, 3, 4, 5, 3, 2, 4, 1, 3, 4, 5, 6, 1, 3, 4, 2, 1, 3, 4, 6, 1, 2, 4, 5, 6, 1, 2, 3, 4, 1, 2, 1, 2, 3, 6, 4, 1, 2, 1, 3, 6, 5, 6, 6, 1, 2, 4, 2, 1, 2, 1, 6, 1, 2, 3, 4, 5, 6, 2, 1, 4, 1, 3, 5, 6, 6, 5, 3, 1, 2, 4, 1, 3, 5, 3, 1, 3, 5, 1, 2, 4, 5, 1, 3, 4, 5, 6, 1, 2, 3, 5, 2, 1, 2, 3, 4, 5, 6, 2, 3, 6, 3, 2, 6, 4, 6, 6, 1, 3, 4, 5, 6, 1, 2, 3, 5, 6, 6, 3, 4, 5, 6, 2, 6, 1, 2, 3, 4, 5, 1, 2, 3, 1, 2, 4, 5, 4, 3, 5, 6, 1, 3, 4, 5, 4, 2, 1, 3, 5, 6, 1, 5, 1, 2, 4, 5, 6, 3, 1, 3, 6, 3, 1, 4, 2, 4, 3, 4, 5, 1, 2, 4, 5, 6, 1, 3, 4, 5, 1, 2, 3, 4, 3, 1, 2, 3, 4, 5, 6, 1, 2, 3, 5, 2, 1, 2, 3, 4, 1, 1, 1, 2, 3, 1, 3, 5, 5, 6, 2, 4, 5, 3, 1, 2, 4, 5, 1, 2, 5, 6, 2, 4, 5, 1, 2, 3, 4, 6, 1, 2, 4, 2, 5, 1, 2, 3, 5, 6, 2, 3, 1, 1, 3, 6, 1, 1, 5, 1, 3, 4, 6, 3, 1, 2, 4, 5, 2, 1, 2, 3, 4, 5, 6, 1, 3, 1, 2, 4, 6, 2, 1, 2, 2, 3, 4, 5, 1, 2, 4, 5, 5, 1, 3, 2, 2, 3, 4, 5, 6, 1, 5, 1, 3, 1, 3, 2, 6, 1, 2, 3, 4, 6, 1, 6, 4, 6, 1, 2, 1, 4, 5, 3, 4, 1, 3, 4, 5, 6, 1, 3, 1, 2, 4, 1, 3, 1, 2, 3, 4, 5, 1, 3, 1, 3, 6, 4, 6, 1, 2, 3, 4, 5, 6, 2, 3, 4, 5, 5, 6, 1, 3, 4, 6, 2, 1, 2, 2, 5, 1, 2, 4, 6, 4, 5, 1, 2, 3, 4, 5, 6, 1, 2, 6, 5, 4, 2, 1, 2, 6, 1, 2, 3, 4, 4, 3, 4, 4, 1, 2, 3, 4, 5, 6, 1, 2, 3, 5, 6, 1, 3, 5, 3, 5, 6, 1, 3, 4, 3, 1, 3, 5, 1, 3, 4, 5, 6, 3, 5, 1, 2, 3, 5, 6, 3, 4, 5, 3], \"Freq\": [0.9879353986652695, 0.994521828354985, 0.995474459705237, 0.002784543943231432, 0.8211306966050232, 0.024565817641323266, 0.15420523153068266, 0.9963728997929452, 0.9955680714259065, 0.9982438801372165, 0.6780712598689091, 0.2998035276795177, 0.022251043069964203, 0.8112922873507209, 0.16874879576894994, 0.0194710148964173, 0.9912999339375312, 0.9959876817357054, 0.9977093498737842, 0.9963026918530663, 0.3361069080564323, 0.024744066850780292, 0.23575597027271222, 0.23850531103391004, 0.16496044567186863, 0.30624026328719023, 0.6917748804612422, 0.9963587343844919, 0.988526210388514, 0.9970938550889652, 0.9970345743646212, 0.011466150205470593, 0.1556120385028152, 0.8321149006255801, 0.9981492960976865, 0.9914693503285633, 0.997962251335285, 0.9932958884282302, 0.9937476917294926, 0.03400592959255301, 0.965390556766366, 0.07650481268962749, 0.9213840484794268, 0.9925892402828057, 0.9880452920279688, 0.9802171954298027, 0.01897194571799618, 0.9965623336985385, 0.987060997092667, 0.998481364429403, 0.2602222717109273, 0.7397329746389282, 0.10793502832797347, 0.8913344274826196, 0.24490845928031524, 0.021018263296444965, 0.5501301958460812, 0.005483025207768252, 0.17728448171784014, 0.9949008007447699, 0.9971975450212534, 0.17761182701722322, 0.8218900230600917, 0.2336648922716535, 0.7640471080628669, 0.3323142483538224, 0.5115399103873446, 0.049287057059218604, 0.10678862362830698, 0.9922772604386143, 0.3753466930547771, 0.1584324568418181, 0.12440669429860883, 0.3413209305115678, 0.080792001996941, 0.6347943014045365, 0.2839261784463927, 0.9028744467643416, 0.07238562374921015, 0.024517711269893758, 0.9890569763009597, 0.9987222480974847, 0.07815301847752965, 0.5021832418068957, 0.22804650007033012, 0.07053810898484728, 0.12103698246263567, 0.13150702562822103, 0.09216731710695833, 0.5990875611952291, 0.1764666925096641, 0.998378930592621, 0.35486681080583027, 0.06251539672227062, 0.5819447959587839, 0.9974919177936546, 0.9920883298985836, 0.9973937334089311, 0.9893261268493305, 0.12674749484010972, 0.49419894777107, 0.3784982529399607, 0.9939348602560533, 0.9940809056848231, 0.9989380389410012, 0.5646101132506361, 0.062097558986956604, 0.10699887086983291, 0.2655864830519067, 0.0728031975073255, 0.32186676792712327, 0.4099969543833594, 0.11955051380150293, 0.07586859529710763, 0.026383704918491156, 0.7961670954815272, 0.17692602121811718, 0.014547707901408616, 0.48654000870266595, 0.13739501906885915, 0.181038142773085, 0.181038142773085, 0.9956972210015912, 0.9932280201697427, 0.9974623918864396, 0.7550858766733574, 0.24380515767196176, 0.9944588054648003, 0.12064513418533702, 0.6032256709266851, 0.23138656332560906, 0.04411650429165309, 0.9964022985621992, 0.8951337781663549, 0.10396238762168294, 0.12830694858668767, 0.05064747970527145, 0.09116546346948862, 0.7293237077559089, 0.993228623180263, 0.99447928532707, 0.9932056083031602, 0.1353867056226797, 0.8640133395192833, 0.09541746145455407, 0.9039548979905123, 0.9955120200818616, 0.9940849823735015, 0.9923907486363962, 0.9951563608011371, 0.9993666006327278, 0.9990732826670978, 0.0006469285232033874, 0.99662396567284, 0.9973783246473558, 0.9962895964434199, 0.9966596911010992, 0.27286912794897544, 0.5523936004820722, 0.10814934949197197, 0.06488960969518318, 0.8682522131960378, 0.11131438630718433, 0.019789224232388325, 0.9911041120807932, 0.3575343741919644, 0.639436476920244, 0.9963877621964795, 0.9968938041199621, 0.9960023342572111, 0.16599402881679365, 0.7025104433853588, 0.13042387978462358, 0.015526269838504721, 0.2825781110607859, 0.05278931745091605, 0.6458928252817964, 0.9902244613945931, 0.03763419265364531, 0.9611193816161725, 0.1401330164542546, 0.854811400370953, 0.9979520162309262, 0.9251651246337497, 0.07497620712645257, 0.9966981641377477, 0.4192724582706656, 0.0007317145868598004, 0.37610129764593736, 0.07097631492540063, 0.09219603794433484, 0.04170773145100862, 0.9883966151555544, 0.20168109298539852, 0.28950995605968494, 0.4985101209679407, 0.010571992777460406, 0.9958385131857885, 0.9957287281662329, 0.9940783767455103, 0.16930964812793442, 0.8307985059300967, 0.024944154485054267, 0.4015204221949058, 0.20438113674850916, 0.25346479557393853, 0.11586962083380047, 0.9965594038811268, 0.9890297145475316, 0.9961160929892143, 0.9984966805736987, 0.9994610790249099, 0.9964487427839135, 0.9931603002540172, 0.9960380908896631, 0.9966749395683415, 0.2987051318856639, 0.03862566360590482, 0.23375679382240172, 0.01516414941565152, 0.16451671535848347, 0.24920705926476366, 0.9970764421707001, 0.20857356523860893, 0.36595874633440906, 0.17724933016614383, 0.24753785764582156, 0.18504736756571424, 0.14601919549730905, 0.5282261219603116, 0.0006728995184207791, 0.13996309983152205, 0.13722139837733965, 0.023833190244485308, 0.37988660813937186, 0.2477207349654079, 0.21160984065558167, 0.09093285122979816, 0.9093285122979816, 0.6381240375282892, 0.14038728825622362, 0.01823211535795112, 0.20419969200905252, 0.0875526038872309, 0.9073633493767567, 0.9969576224300484, 0.4980943371861817, 0.05231127742137981, 0.09825422541754816, 0.1460166961066341, 0.13418979860266994, 0.07141626569701418, 0.9915488551715326, 0.9972692261036387, 0.07869069946751277, 0.09442883936101532, 0.3423045426836805, 0.04524715219381984, 0.43870064953138366, 0.9970266052013055, 0.9882564789524838, 0.06449154640055464, 0.9310967011580076, 0.9945398845555993, 0.3879619457756368, 0.05928640994426622, 0.033283598565202084, 0.43164666889246456, 0.08840955868881804, 0.9861208081589832, 0.765852751609932, 0.2319802940561205, 0.001858621301262902, 0.1663466064630297, 0.07713278400241043, 0.6375071063331753, 0.11709314197956282, 0.9982098184260858, 0.9957574577028153, 0.2173322580246624, 0.7814193546954153, 0.9976706881233204, 0.9979420277269369, 0.9919263341784225, 0.9974571176333148, 0.9986930278446631, 0.22363182560598985, 0.2847685836853252, 0.24132930820790272, 0.19842632008205335, 0.051483585751019245, 0.009411748513372052, 0.5243688457450144, 0.46655381916287175, 0.992874395656016, 0.06560438797674843, 0.3125154481801471, 0.5892466847366132, 0.033398597515435564, 0.7101917627906478, 0.06877089695551897, 0.04364306922177165, 0.12563913866873658, 0.05025565546749463, 0.025765783510814808, 0.8421342926429471, 0.112555791126191, 0.01898531416586354, 0.6815626719988602, 0.3181949546622501, 0.999189693561497, 0.040315567912254116, 0.9541351072566807, 0.005375409054967215, 0.9922882915549781, 0.23701128099477142, 0.7619176208249996, 0.026533860939551474, 0.8968444997568399, 0.06898803844283384, 0.11576115506790945, 0.8810710135724219, 0.9934671330495735, 0.1278510092412413, 0.7422353424035588, 0.1297940336977951, 0.9940442431147811, 0.9425853774583509, 0.056899514445460424, 0.8392374652642098, 0.16036384686577257, 0.2843810963357881, 0.007542088358359436, 0.35758371863751204, 0.11224402086264336, 0.19875621085558984, 0.03948505081729352, 0.9959462688549828, 0.05517970619299813, 0.944546735421321, 0.15492079820116617, 0.7943811141804478, 0.01318474878307797, 0.03625805915346442, 0.9964962486093356, 0.9903993158740501, 0.9958042385292395, 0.21898674135280433, 0.780735338736085, 0.995021528941266, 0.9983379411661125, 0.104077776226986, 0.8953540201444823, 0.9930815064473911, 0.28684610512535175, 0.5433527183624451, 0.16962534101162627, 0.23290213615280914, 0.3148096152279561, 0.06410150536315848, 0.38817022692134856, 0.3001339087416358, 0.05322571780639847, 0.3025980623437839, 0.22916628499977118, 0.11482955786010039, 0.6907728168104449, 0.14823137612317158, 0.14531056083010416, 0.015334280288603955, 0.9992043898663366, 0.2524808388190884, 0.546440672587027, 0.14788163416546607, 0.015780052426193025, 0.035166973978373026, 0.0018034345629934887, 0.2728005675954977, 0.07097250539069859, 0.6542777840705026, 0.9965927421527762, 0.05525625698016584, 0.9393563686628192, 0.9958722060217097, 0.9932258153894004, 0.9930211384707501, 0.1579117266623289, 0.010742294330770672, 0.6520572658777798, 0.1213879259377086, 0.05800838938616163, 0.994071503841522, 0.14002244349307857, 0.042574391602625244, 0.5809039209780422, 0.23652439779236245, 0.9898589444703187, 0.03455361107470879, 0.3309872218735263, 0.25278694417813274, 0.3819083329309919, 0.9975584906521553, 0.9929433084993358, 0.043751255637876005, 0.11311300238085016, 0.26144043003121026, 0.14299190867013134, 0.4385796601748058, 0.8999668862148976, 0.09995344062163743, 0.9897038153800328, 0.7513425699835573, 0.12132574573664447, 0.014617559727306563, 0.11109345392752988, 0.9986304462351286, 0.02235182362942133, 0.7847973629885713, 0.19123226882949362, 0.9971553858244651, 0.1615318715236224, 0.18845385011089277, 0.6480504845650088, 0.9981969299953785, 0.9949028765221161, 0.14185241075111663, 0.7879128953601626, 0.0323030242304523, 0.036516462173554774, 0.9995670321356294, 0.986926308158009, 0.18379738745601412, 0.04150263587716448, 0.5869658502627548, 0.18824409844285317, 0.995022975020127, 0.9917665450659069, 0.048957966126963945, 0.24886966114540005, 0.7017308478198165, 0.9894056535518527, 0.03420117081714481, 0.9619079292321978, 0.9959328648311057, 0.9970467944055104, 0.994004231884992, 0.2087424336370504, 0.7901477395954607, 0.07760623107472966, 0.1091337624488386, 0.07760623107472966, 0.7348340004888465, 0.9865789013389142, 0.721748879367874, 0.1753111624600944, 0.03280676724399427, 0.06971438039348783, 0.12677948329688452, 0.03243196084338906, 0.08845080230015198, 0.7533059995896277, 0.9951966687685045, 0.08693726523616152, 0.13885813197442465, 0.10263427145935736, 0.5542250658805297, 0.10746411952803299, 0.00965969613735128, 0.9939348602560533, 0.060865322053782485, 0.07535706539992117, 0.860809554760638, 0.9979200526431679, 0.22487441372798633, 0.09838255600599402, 0.15076807284035446, 0.5251328638761499, 0.9955465359423322, 0.9969139277217131, 0.6633575874104882, 0.1608517458194605, 0.1745677861606548, 0.07513380227026689, 0.8384932333361785, 0.08414985854269892, 0.9507008726049136, 0.04753504363024568, 0.8883604217510692, 0.0590209452942202, 0.05216690003424624, 0.9928610514741362, 0.17720110087739765, 0.14478626535104444, 0.6774700625007826, 0.9974586702790289, 0.1626895829267624, 0.7430956625573741, 0.013191047264332085, 0.08061195550425164, 0.5486484041545877, 0.05602767903698102, 0.3953651313175642, 0.1281896628279384, 0.6444764699973416, 0.11172493549223989, 0.11525309134988956, 0.9911674516490747, 0.028281433452140757, 0.6964302987589661, 0.2757439761583724, 0.9933420601659161, 0.005570142393453735, 0.2935514841743002, 0.011900735844904062, 0.31867525984687545, 0.023801471689808125, 0.3517328594160534, 0.9979166301074384, 0.9906101464217506, 0.9992748318373673, 0.8203805501086497, 0.1065596019702941, 0.07317948569044294, 0.9951645011688314, 0.17885452819000267, 0.8199792215480123, 0.317017334533099, 0.6827268740435041, 0.9691179154849362, 0.027027192862129696, 0.9962898572710905, 0.9951212039875014, 0.6431766884731138, 0.013422817846395419, 0.34340042323694947, 0.9984667478139088, 0.31451304437810657, 0.02348034515985864, 0.27743881517832975, 0.030895190999814002, 0.011122268759933041, 0.34231871627793914, 0.8945748861620777, 0.10314804767067981, 0.033432629175455225, 0.5189120753711501, 0.38235626606295275, 0.06498172994665946, 0.9963769667010011, 0.7995064698657617, 0.20062521902998515, 0.6173886633205415, 0.04315868617999047, 0.21213591512198704, 0.12655004591759916, 0.8169598405609882, 0.03302298125290462, 0.14932130653487308, 0.9914394406631988, 0.9976206505774589, 0.9970171595689703, 0.9931604197352817, 0.9964487427839135, 0.034767281194172855, 0.4595799982854724, 0.008691820298543214, 0.005432387686589509, 0.4910878468676915, 0.4385163441868414, 0.5618490659893906, 0.8252652720344199, 0.1731653028276382, 0.995574823406324, 0.9951839928957029, 0.9963020542097618, 0.9931852378389882, 0.20245895490333074, 0.0033743159150555124, 0.30593797629836644, 0.13159832068716498, 0.35542794305251396, 0.9974209479938, 0.9949077208566894, 0.9731582385948631, 0.01946316477189726, 0.994929762317836, 0.9964158538791079, 0.9983843708709192, 0.05179989176137325, 0.9485855178801477, 0.9966795374509962, 0.9980734428083059, 0.03302887580614471, 0.39392976266353086, 0.2271742189593368, 0.04430702852043803, 0.3012877939389786, 0.3254838650842002, 0.6716333723959687, 0.9984912561817902, 0.9988151442331554, 0.9926282202371768, 0.9551457917105484, 0.043827892341148575, 0.1811343321210327, 0.33683277930592037, 0.09056716606051635, 0.3599563110660522, 0.031602160072180176, 0.4886624667209019, 0.5101084683951734, 0.5529339592918784, 0.20274245174035543, 0.24421249868724632, 0.2946330502751812, 0.7022760376422128, 0.16231099348387684, 0.0349104650789344, 0.28789799123536813, 0.16231099348387684, 0.058486363573799195, 0.2942453485224471, 0.9979908489142112, 0.9956581904528354, 0.9964057827096379, 0.999502822170335, 0.9987581074487096, 0.9912286817237757, 0.5639126431360715, 0.25410878363539025, 0.07919143599596067, 0.1026877961266303, 0.9943529786743146, 0.2195189707629118, 0.7798864858727949, 0.9979396548623342, 0.9935672997519576, 0.058886362801266745, 0.6982240160721628, 0.21171049483312568, 0.0315462657863929, 0.9958359151876857, 0.9943293295145847, 0.6537568833116976, 0.10773096949629014, 0.1752045767071245, 0.009072081641792854, 0.003969035718284374, 0.05046345413247275, 0.10374199770700086, 0.8772652801490626, 0.01864487516393103, 0.9849234187422328, 0.9965026436847478, 0.9985914678196347, 0.7049013852190192, 0.15590446516186246, 0.13991426360679965, 0.03697180407553085, 0.8934852651586621, 0.06778164080513989, 0.001540491836480452, 0.99297960235942, 0.06009526304065559, 0.9389884850102437, 0.9979349529651474, 0.2661255271623833, 0.013915060243784748, 0.34497753521049684, 0.11827801207217035, 0.2151036396018392, 0.0423249749081786, 0.5024575716810304, 0.022527337521761597, 0.36533464763552503, 0.044075225586055304, 0.0646436641928811, 0.2700274105348761, 0.5539653240367004, 0.17592694928787384, 0.9889032729800796, 0.9936905816005686, 0.9978406291038111, 0.91544654625355, 0.03147667207748596, 0.049838064122686106, 0.9944492730065895, 0.2318063830007906, 0.7231351295785533, 0.04535342276102425, 0.4326147338848778, 0.08620945783937782, 0.11808083316181447, 0.026124078133144796, 0.3364781263549049, 0.8607298746018183, 0.13712608296352496, 0.7769736669302407, 0.0978332227132858, 0.08716050750820008, 0.032018145615257176, 0.00569211477604572, 0.6137232454260626, 0.2912253616830679, 0.09479483249415298, 0.9879936284473915], \"Term\": [\"abroad\", \"abstract\", \"access\", \"access\", \"account\", \"account\", \"account\", \"activate\", \"active\", \"activity\", \"add\", \"add\", \"add\", \"address\", \"address\", \"address\", \"admin\", \"agreement\", \"airdrop\", \"alert\", \"also\", \"also\", \"also\", \"also\", \"also\", \"amount\", \"amount\", \"analysis\", \"apt\", \"asset\", \"assist\", \"assistance\", \"assistance\", \"assistance\", \"attach\", \"attachment\", \"attempt\", \"aug\", \"await\", \"bank\", \"bank\", \"become\", \"become\", \"beneficiary\", \"bet\", \"bit\", \"bit\", \"bonus\", \"boot\", \"bug\", \"business\", \"business\", \"button\", \"button\", \"call\", \"call\", \"call\", \"call\", \"call\", \"cancel\", \"cash\", \"center\", \"center\", \"chance\", \"chance\", \"change\", \"change\", \"change\", \"change\", \"cheap\", \"check\", \"check\", \"check\", \"check\", \"claim\", \"claim\", \"claim\", \"click\", \"click\", \"click\", \"co_operation\", \"code\", \"com\", \"com\", \"com\", \"com\", \"com\", \"come\", \"come\", \"come\", \"come\", \"communication\", \"company\", \"company\", \"company\", \"conference\", \"confidentiality\", \"confirm\", \"consignment\", \"contact\", \"contact\", \"contact\", \"contained_reproducible\", \"copyright\", \"country\", \"customer\", \"customer\", \"customer\", \"customer\", \"day\", \"day\", \"day\", \"day\", \"day\", \"deal\", \"deal\", \"deal\", \"dear\", \"dear\", \"dear\", \"dear\", \"dear\", \"dear_friend\", \"death\", \"delete\", \"deposit\", \"deposit\", \"desk\", \"detail\", \"detail\", \"detail\", \"detail\", \"detected_somethe\", \"device\", \"device\", \"die\", \"die\", \"die\", \"die\", \"director\", \"discount\", \"disk\", \"document\", \"document\", \"dollar\", \"dollar\", \"domain\", \"draft\", \"drug\", \"earn\", \"ect\", \"email\", \"email\", \"english\", \"enron\", \"erection\", \"ethz_ch\", \"even\", \"even\", \"even\", \"even\", \"example\", \"example\", \"example\", \"exchange\", \"exclusive\", \"exclusive\", \"exmh_user\", \"expire\", \"express\", \"family\", \"family\", \"family\", \"fast\", \"fast\", \"fast\", \"fast\", \"father\", \"fax\", \"fax\", \"fee\", \"fee\", \"feel\", \"file\", \"file\", \"finance\", \"find\", \"find\", \"find\", \"find\", \"find\", \"find\", \"focus\", \"follow\", \"follow\", \"follow\", \"follow\", \"foreign\", \"foreigner\", \"fortune\", \"forward\", \"forward\", \"free\", \"free\", \"free\", \"free\", \"free\", \"freebitcoin\", \"french\", \"fun\", \"function\", \"fund\", \"future_report\", \"gain\", \"gas\", \"general\", \"get\", \"get\", \"get\", \"get\", \"get\", \"get\", \"girl\", \"give\", \"give\", \"give\", \"give\", \"go\", \"go\", \"go\", \"go\", \"go\", \"good\", \"good\", \"good\", \"good\", \"good\", \"government\", \"government\", \"great\", \"great\", \"great\", \"great\", \"guy\", \"guy\", \"header\", \"help\", \"help\", \"help\", \"help\", \"help\", \"help\", \"hot\", \"hou_ect\", \"hour\", \"hour\", \"hour\", \"hour\", \"hour\", \"html\", \"human\", \"ilug\", \"ilug\", \"ilug_linux\", \"include\", \"include\", \"include\", \"include\", \"include\", \"income\", \"increase\", \"increase\", \"information\", \"information\", \"information\", \"information\", \"information\", \"instal\", \"install\", \"interest\", \"interest\", \"invest\", \"investment\", \"investor\", \"jose_monkey\", \"kindly\", \"know\", \"know\", \"know\", \"know\", \"know\", \"language\", \"language\", \"language\", \"ledger\", \"let\", \"let\", \"let\", \"let\", \"line\", \"line\", \"line\", \"line\", \"line\", \"link\", \"link\", \"link\", \"link\", \"list\", \"list\", \"listinfo\", \"live\", \"live\", \"live\", \"loan\", \"log\", \"log\", \"love\", \"love\", \"love\", \"m\", \"m\", \"machine\", \"mail\", \"mail\", \"mail\", \"mailbox\", \"mailing_list\", \"mailing_list\", \"mailman_listinfo\", \"mailman_listinfo\", \"make\", \"make\", \"make\", \"make\", \"make\", \"make\", \"management\", \"manager\", \"manager\", \"many\", \"many\", \"many\", \"many\", \"material\", \"medication\", \"meeting\", \"message\", \"message\", \"meter\", \"module\", \"money\", \"money\", \"mother\", \"much\", \"much\", \"much\", \"name\", \"name\", \"name\", \"name\", \"need\", \"need\", \"need\", \"need\", \"need\", \"net\", \"net\", \"net\", \"net\", \"network\", \"new\", \"new\", \"new\", \"new\", \"new\", \"new\", \"news\", \"news\", \"news\", \"newsletter\", \"night\", \"night\", \"notification\", \"notification_email\", \"notify\", \"number\", \"number\", \"number\", \"number\", \"number\", \"object\", \"offer\", \"offer\", \"offer\", \"offer\", \"officer\", \"opportunity\", \"opportunity\", \"opportunity\", \"opportunity\", \"opt\", \"optout\", \"order\", \"order\", \"order\", \"order\", \"order\", \"org\", \"org\", \"organization\", \"package\", \"package\", \"package\", \"package\", \"paper\", \"partner\", \"partner\", \"partner\", \"patch\", \"pay\", \"pay\", \"pay\", \"payment\", \"pende\", \"people\", \"people\", \"people\", \"people\", \"perl\", \"pharmacy\", \"phone\", \"phone\", \"phone\", \"phone\", \"photo\", \"picture\", \"play\", \"play\", \"play\", \"political\", \"position\", \"position\", \"preference\", \"presentation\", \"presently\", \"price\", \"price\", \"private\", \"private\", \"private\", \"private\", \"prize\", \"problem\", \"problem\", \"problem\", \"problem\", \"process\", \"process\", \"process\", \"process\", \"protection\", \"provide\", \"provide\", \"provide\", \"provide\", \"provide\", \"provide\", \"provide_commente\", \"purchase\", \"purchase\", \"purchase\", \"python\", \"question\", \"question\", \"question\", \"question\", \"razor\", \"razor_user\", \"read\", \"read\", \"read\", \"real\", \"real\", \"real\", \"receipt\", \"receipt\", \"receive\", \"receive\", \"receive\", \"recipient\", \"regard\", \"regard\", \"regard\", \"reliable\", \"remove\", \"remove\", \"remove\", \"remove\", \"reply\", \"reply\", \"reply\", \"report\", \"report\", \"report\", \"report\", \"repository\", \"request\", \"request\", \"request\", \"reward\", \"reward\", \"right\", \"right\", \"right\", \"right\", \"right\", \"rights_reserve\", \"room\", \"rpm\", \"run\", \"run\", \"run\", \"samba\", \"save\", \"save\", \"say\", \"say\", \"schedule\", \"schedule\", \"school\", \"script\", \"security\", \"security\", \"security\", \"security_notification\", \"see\", \"see\", \"see\", \"see\", \"see\", \"see\", \"seem\", \"seem\", \"send\", \"send\", \"send\", \"send\", \"sender\", \"server\", \"server\", \"service\", \"service\", \"service\", \"service\", \"set\", \"set\", \"set\", \"ship\", \"shipping\", \"signature\", \"significant\", \"similar_activity\", \"site\", \"site\", \"site\", \"site\", \"site\", \"software\", \"software\", \"spam\", \"spam\", \"spamassassin\", \"speak\", \"sponsor\", \"stake\", \"start\", \"start\", \"start\", \"start\", \"start\", \"stat_math\", \"stellar\", \"study\", \"study\", \"submission\", \"subscribe\", \"subscription\", \"sum\", \"sum\", \"summary\", \"suspend\", \"take\", \"take\", \"take\", \"take\", \"take\", \"talk\", \"talk\", \"tangomu\", \"team\", \"telephone\", \"test\", \"test\", \"thank\", \"thank\", \"thank\", \"thank\", \"thank\", \"thing\", \"thing\", \"think\", \"think\", \"think\", \"ticket\", \"ticket\", \"time\", \"time\", \"time\", \"time\", \"time\", \"time\", \"token\", \"track\", \"trading\", \"transaction\", \"transfer\", \"trust_wallet\", \"try\", \"try\", \"try\", \"try\", \"unable\", \"unsubscribe\", \"unsubscribe\", \"unusual\", \"up\", \"update\", \"update\", \"update\", \"update\", \"urgent\", \"usd\", \"use\", \"use\", \"use\", \"use\", \"use\", \"use\", \"user\", \"user\", \"user\", \"venture\", \"verification\", \"verify\", \"version\", \"version\", \"version\", \"view\", \"view\", \"view\", \"view\", \"vince\", \"volume\", \"volume\", \"wallet\", \"want\", \"want\", \"want\", \"want\", \"want\", \"want\", \"way\", \"way\", \"way\", \"way\", \"way\", \"well\", \"well\", \"well\", \"wife\", \"willing\", \"win\", \"window\", \"window\", \"window\", \"woman\", \"word\", \"word\", \"word\", \"work\", \"work\", \"work\", \"work\", \"work\", \"world\", \"world\", \"write\", \"write\", \"write\", \"write\", \"write\", \"year\", \"year\", \"year\", \"young\"]}, \"R\": 30, \"lambda.step\": 0.01, \"plot.opts\": {\"xlab\": \"PC1\", \"ylab\": \"PC2\"}, \"topic.order\": [5, 1, 2, 4, 3, 6]};\n",
              "\n",
              "function LDAvis_load_lib(url, callback){\n",
              "  var s = document.createElement('script');\n",
              "  s.src = url;\n",
              "  s.async = true;\n",
              "  s.onreadystatechange = s.onload = callback;\n",
              "  s.onerror = function(){console.warn(\"failed to load library \" + url);};\n",
              "  document.getElementsByTagName(\"head\")[0].appendChild(s);\n",
              "}\n",
              "\n",
              "if(typeof(LDAvis) !== \"undefined\"){\n",
              "   // already loaded: just create the visualization\n",
              "   !function(LDAvis){\n",
              "       new LDAvis(\"#\" + \"ldavis_el5651350570736539043276586885\", ldavis_el5651350570736539043276586885_data);\n",
              "   }(LDAvis);\n",
              "}else if(typeof define === \"function\" && define.amd){\n",
              "   // require.js is available: use it to load d3/LDAvis\n",
              "   require.config({paths: {d3: \"https://d3js.org/d3.v5\"}});\n",
              "   require([\"d3\"], function(d3){\n",
              "      window.d3 = d3;\n",
              "      LDAvis_load_lib(\"https://cdn.jsdelivr.net/gh/bmabey/pyLDAvis@3.4.0/pyLDAvis/js/ldavis.v3.0.0.js\", function(){\n",
              "        new LDAvis(\"#\" + \"ldavis_el5651350570736539043276586885\", ldavis_el5651350570736539043276586885_data);\n",
              "      });\n",
              "    });\n",
              "}else{\n",
              "    // require.js not available: dynamically load d3 & LDAvis\n",
              "    LDAvis_load_lib(\"https://d3js.org/d3.v5.js\", function(){\n",
              "         LDAvis_load_lib(\"https://cdn.jsdelivr.net/gh/bmabey/pyLDAvis@3.4.0/pyLDAvis/js/ldavis.v3.0.0.js\", function(){\n",
              "                 new LDAvis(\"#\" + \"ldavis_el5651350570736539043276586885\", ldavis_el5651350570736539043276586885_data);\n",
              "            })\n",
              "         });\n",
              "}\n",
              "</script>"
            ]
          },
          "metadata": {},
          "execution_count": 36
        }
      ]
    },
    {
      "cell_type": "code",
      "source": [
        "# prompt: imprime las palabras más importantes de cada cluster\n",
        "\n",
        "pprint(lda_model.print_topics(num_words=20))\n",
        "doc_lda = lda_model[corpus]\n"
      ],
      "metadata": {
        "id": "6LO0x5X1Fmg7",
        "outputId": "e0f256e4-27a6-4bc4-dd12-6065bbf6c167",
        "colab": {
          "base_uri": "https://localhost:8080/"
        }
      },
      "execution_count": 45,
      "outputs": [
        {
          "output_type": "stream",
          "name": "stdout",
          "text": [
            "[(0,\n",
            "  '0.048*\"email\" + 0.035*\"account\" + 0.026*\"com\" + 0.024*\"receive\" + '\n",
            "  '0.024*\"click\" + 0.020*\"mail\" + 0.019*\"user\" + 0.016*\"message\" + '\n",
            "  '0.014*\"address\" + 0.013*\"unsubscribe\" + 0.013*\"new\" + 0.011*\"send\" + '\n",
            "  '0.011*\"team\" + 0.010*\"update\" + 0.009*\"thank\" + 0.009*\"service\" + '\n",
            "  '0.008*\"verify\" + 0.007*\"access\" + 0.007*\"change\" + 0.007*\"activity\"'),\n",
            " (1,\n",
            "  '0.012*\"com\" + 0.009*\"get\" + 0.009*\"make\" + 0.008*\"go\" + 0.007*\"well\" + '\n",
            "  '0.007*\"say\" + 0.007*\"time\" + 0.007*\"year\" + 0.006*\"want\" + 0.006*\"people\" + '\n",
            "  '0.006*\"come\" + 0.006*\"know\" + 0.006*\"good\" + 0.006*\"find\" + 0.005*\"take\" + '\n",
            "  '0.005*\"many\" + 0.005*\"give\" + 0.005*\"see\" + 0.005*\"site\" + 0.005*\"day\"'),\n",
            " (2,\n",
            "  '0.023*\"fund\" + 0.021*\"money\" + 0.016*\"country\" + 0.013*\"transfer\" + '\n",
            "  '0.013*\"business\" + 0.012*\"transaction\" + 0.011*\"contact\" + 0.011*\"account\" '\n",
            "  '+ 0.011*\"company\" + 0.010*\"price\" + 0.010*\"offer\" + 0.010*\"investment\" + '\n",
            "  '0.010*\"get\" + 0.009*\"name\" + 0.009*\"bank\" + 0.009*\"assistance\" + '\n",
            "  '0.008*\"need\" + 0.008*\"make\" + 0.007*\"order\" + 0.007*\"assist\"'),\n",
            " (3,\n",
            "  '0.016*\"information\" + 0.011*\"thank\" + 0.010*\"contact\" + 0.009*\"send\" + '\n",
            "  '0.008*\"payment\" + 0.008*\"detail\" + 0.007*\"wallet\" + 0.007*\"regard\" + '\n",
            "  '0.007*\"need\" + 0.007*\"follow\" + 0.007*\"number\" + 0.007*\"call\" + '\n",
            "  '0.006*\"claim\" + 0.006*\"day\" + 0.006*\"deal\" + 0.006*\"process\" + 0.006*\"let\" '\n",
            "  '+ 0.005*\"provide\" + 0.005*\"know\" + 0.005*\"confirm\"'),\n",
            " (4,\n",
            "  '0.021*\"org\" + 0.019*\"write\" + 0.012*\"list\" + 0.012*\"file\" + '\n",
            "  '0.011*\"mailing_list\" + 0.010*\"use\" + 0.010*\"help\" + 0.009*\"get\" + '\n",
            "  '0.009*\"perl\" + 0.009*\"code\" + 0.008*\"net\" + 0.008*\"ect\" + 0.007*\"work\" + '\n",
            "  '0.006*\"problem\" + 0.006*\"try\" + 0.006*\"make\" + 0.006*\"run\" + 0.006*\"test\" + '\n",
            "  '0.006*\"mailman_listinfo\" + 0.005*\"need\"'),\n",
            " (5,\n",
            "  '0.021*\"get\" + 0.015*\"time\" + 0.015*\"work\" + 0.014*\"com\" + 0.013*\"see\" + '\n",
            "  '0.011*\"site\" + 0.009*\"win\" + 0.009*\"take\" + 0.008*\"freebitcoin\" + '\n",
            "  '0.008*\"check\" + 0.007*\"start\" + 0.007*\"news\" + 0.007*\"good\" + '\n",
            "  '0.006*\"delete\" + 0.006*\"right\" + 0.006*\"think\" + 0.006*\"button\" + '\n",
            "  '0.006*\"earn\" + 0.006*\"information\" + 0.006*\"offer\"')]\n"
          ]
        }
      ]
    },
    {
      "cell_type": "code",
      "source": [
        "pprint(lda_model.print_topics())\n",
        "doc_lda = lda_model[corpus]"
      ],
      "metadata": {
        "colab": {
          "base_uri": "https://localhost:8080/"
        },
        "id": "IzSz7iTKBJxS",
        "outputId": "e456fe81-f06a-41f9-c385-89913378a02c"
      },
      "execution_count": 42,
      "outputs": [
        {
          "output_type": "stream",
          "name": "stdout",
          "text": [
            "[(0,\n",
            "  '0.048*\"email\" + 0.035*\"account\" + 0.026*\"com\" + 0.024*\"receive\" + '\n",
            "  '0.024*\"click\" + 0.020*\"mail\" + 0.019*\"user\" + 0.016*\"message\" + '\n",
            "  '0.014*\"address\" + 0.013*\"unsubscribe\"'),\n",
            " (1,\n",
            "  '0.012*\"com\" + 0.009*\"get\" + 0.009*\"make\" + 0.008*\"go\" + 0.007*\"well\" + '\n",
            "  '0.007*\"say\" + 0.007*\"time\" + 0.007*\"year\" + 0.006*\"want\" + 0.006*\"people\"'),\n",
            " (2,\n",
            "  '0.023*\"fund\" + 0.021*\"money\" + 0.016*\"country\" + 0.013*\"transfer\" + '\n",
            "  '0.013*\"business\" + 0.012*\"transaction\" + 0.011*\"contact\" + 0.011*\"account\" '\n",
            "  '+ 0.011*\"company\" + 0.010*\"price\"'),\n",
            " (3,\n",
            "  '0.016*\"information\" + 0.011*\"thank\" + 0.010*\"contact\" + 0.009*\"send\" + '\n",
            "  '0.008*\"payment\" + 0.008*\"detail\" + 0.007*\"wallet\" + 0.007*\"regard\" + '\n",
            "  '0.007*\"need\" + 0.007*\"follow\"'),\n",
            " (4,\n",
            "  '0.021*\"org\" + 0.019*\"write\" + 0.012*\"list\" + 0.012*\"file\" + '\n",
            "  '0.011*\"mailing_list\" + 0.010*\"use\" + 0.010*\"help\" + 0.009*\"get\" + '\n",
            "  '0.009*\"perl\" + 0.009*\"code\"'),\n",
            " (5,\n",
            "  '0.021*\"get\" + 0.015*\"time\" + 0.015*\"work\" + 0.014*\"com\" + 0.013*\"see\" + '\n",
            "  '0.011*\"site\" + 0.009*\"win\" + 0.009*\"take\" + 0.008*\"freebitcoin\" + '\n",
            "  '0.008*\"check\"')]\n"
          ]
        }
      ]
    },
    {
      "cell_type": "code",
      "source": [],
      "metadata": {
        "id": "wqSccSpAFF6x"
      },
      "execution_count": null,
      "outputs": []
    }
  ],
  "metadata": {
    "accelerator": "GPU",
    "colab": {
      "gpuType": "T4",
      "provenance": [],
      "include_colab_link": true
    },
    "kernelspec": {
      "display_name": "Python 3",
      "name": "python3"
    },
    "language_info": {
      "name": "python"
    }
  },
  "nbformat": 4,
  "nbformat_minor": 0
}