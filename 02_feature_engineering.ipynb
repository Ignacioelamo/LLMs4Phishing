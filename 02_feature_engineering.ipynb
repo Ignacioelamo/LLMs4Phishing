{
 "cells": [
  {
   "cell_type": "markdown",
   "metadata": {
    "id": "view-in-github",
    "colab_type": "text"
   },
   "source": [
    "<a href=\"https://colab.research.google.com/github/Ignacioelamo/LLMs4Phishing/blob/main/02_feature_engineering.ipynb\" target=\"_parent\"><img src=\"https://colab.research.google.com/assets/colab-badge.svg\" alt=\"Open In Colab\"/></a>"
   ]
  },
  {
   "cell_type": "markdown",
   "source": [
    "# Instalaci\u00f3n Previa"
   ],
   "metadata": {
    "id": "ZyaTOBLcHWOS"
   }
  },
  {
   "cell_type": "markdown",
   "source": [
    "## Descargas"
   ],
   "metadata": {
    "id": "VCSqZdcYHlcI"
   }
  },
  {
   "cell_type": "code",
   "source": [
    "!pip install --upgrade --force-reinstall gensim pyLDAvis"
   ],
   "metadata": {
    "colab": {
     "base_uri": "https://localhost:8080/",
     "height": 1000
    },
    "id": "rB-DucbmHZnX",
    "outputId": "9327bc1c-ec70-4311-f319-d44edd71efe2"
   },
   "execution_count": null,
   "outputs": [
    {
     "output_type": "stream",
     "name": "stdout",
     "text": [
      "Collecting gensim\n",
      "  Downloading gensim-4.3.3-cp311-cp311-manylinux_2_17_x86_64.manylinux2014_x86_64.whl.metadata (8.1 kB)\n",
      "Collecting pyLDAvis\n",
      "  Downloading pyLDAvis-3.4.1-py3-none-any.whl.metadata (4.2 kB)\n",
      "Collecting numpy<2.0,>=1.18.5 (from gensim)\n",
      "  Downloading numpy-1.26.4-cp311-cp311-manylinux_2_17_x86_64.manylinux2014_x86_64.whl.metadata (61 kB)\n",
      "\u001b[2K     \u001b[90m\u2501\u2501\u2501\u2501\u2501\u2501\u2501\u2501\u2501\u2501\u2501\u2501\u2501\u2501\u2501\u2501\u2501\u2501\u2501\u2501\u2501\u2501\u2501\u2501\u2501\u2501\u2501\u2501\u2501\u2501\u2501\u2501\u2501\u2501\u2501\u2501\u2501\u2501\u2501\u2501\u001b[0m \u001b[32m61.0/61.0 kB\u001b[0m \u001b[31m1.9 MB/s\u001b[0m eta \u001b[36m0:00:00\u001b[0m\n",
      "\u001b[?25hCollecting scipy<1.14.0,>=1.7.0 (from gensim)\n",
      "  Downloading scipy-1.13.1-cp311-cp311-manylinux_2_17_x86_64.manylinux2014_x86_64.whl.metadata (60 kB)\n",
      "\u001b[2K     \u001b[90m\u2501\u2501\u2501\u2501\u2501\u2501\u2501\u2501\u2501\u2501\u2501\u2501\u2501\u2501\u2501\u2501\u2501\u2501\u2501\u2501\u2501\u2501\u2501\u2501\u2501\u2501\u2501\u2501\u2501\u2501\u2501\u2501\u2501\u2501\u2501\u2501\u2501\u2501\u2501\u2501\u001b[0m \u001b[32m60.6/60.6 kB\u001b[0m \u001b[31m1.4 MB/s\u001b[0m eta \u001b[36m0:00:00\u001b[0m\n",
      "\u001b[?25hCollecting smart-open>=1.8.1 (from gensim)\n",
      "  Downloading smart_open-7.1.0-py3-none-any.whl.metadata (24 kB)\n",
      "Collecting pandas>=2.0.0 (from pyLDAvis)\n",
      "  Downloading pandas-2.2.3-cp311-cp311-manylinux_2_17_x86_64.manylinux2014_x86_64.whl.metadata (89 kB)\n",
      "\u001b[2K     \u001b[90m\u2501\u2501\u2501\u2501\u2501\u2501\u2501\u2501\u2501\u2501\u2501\u2501\u2501\u2501\u2501\u2501\u2501\u2501\u2501\u2501\u2501\u2501\u2501\u2501\u2501\u2501\u2501\u2501\u2501\u2501\u2501\u2501\u2501\u2501\u2501\u2501\u2501\u2501\u2501\u2501\u001b[0m \u001b[32m89.9/89.9 kB\u001b[0m \u001b[31m3.4 MB/s\u001b[0m eta \u001b[36m0:00:00\u001b[0m\n",
      "\u001b[?25hCollecting joblib>=1.2.0 (from pyLDAvis)\n",
      "  Downloading joblib-1.5.1-py3-none-any.whl.metadata (5.6 kB)\n",
      "Collecting jinja2 (from pyLDAvis)\n",
      "  Downloading jinja2-3.1.6-py3-none-any.whl.metadata (2.9 kB)\n",
      "Collecting numexpr (from pyLDAvis)\n",
      "  Downloading numexpr-2.10.2-cp311-cp311-manylinux_2_27_x86_64.manylinux_2_28_x86_64.whl.metadata (8.1 kB)\n",
      "Collecting funcy (from pyLDAvis)\n",
      "  Downloading funcy-2.0-py2.py3-none-any.whl.metadata (5.9 kB)\n",
      "Collecting scikit-learn>=1.0.0 (from pyLDAvis)\n",
      "  Downloading scikit_learn-1.6.1-cp311-cp311-manylinux_2_17_x86_64.manylinux2014_x86_64.whl.metadata (18 kB)\n",
      "Collecting setuptools (from pyLDAvis)\n",
      "  Downloading setuptools-80.8.0-py3-none-any.whl.metadata (6.6 kB)\n",
      "Collecting python-dateutil>=2.8.2 (from pandas>=2.0.0->pyLDAvis)\n",
      "  Downloading python_dateutil-2.9.0.post0-py2.py3-none-any.whl.metadata (8.4 kB)\n",
      "Collecting pytz>=2020.1 (from pandas>=2.0.0->pyLDAvis)\n",
      "  Downloading pytz-2025.2-py2.py3-none-any.whl.metadata (22 kB)\n",
      "Collecting tzdata>=2022.7 (from pandas>=2.0.0->pyLDAvis)\n",
      "  Downloading tzdata-2025.2-py2.py3-none-any.whl.metadata (1.4 kB)\n",
      "Collecting threadpoolctl>=3.1.0 (from scikit-learn>=1.0.0->pyLDAvis)\n",
      "  Downloading threadpoolctl-3.6.0-py3-none-any.whl.metadata (13 kB)\n",
      "Collecting wrapt (from smart-open>=1.8.1->gensim)\n",
      "  Downloading wrapt-1.17.2-cp311-cp311-manylinux_2_5_x86_64.manylinux1_x86_64.manylinux_2_17_x86_64.manylinux2014_x86_64.whl.metadata (6.4 kB)\n",
      "Collecting MarkupSafe>=2.0 (from jinja2->pyLDAvis)\n",
      "  Downloading MarkupSafe-3.0.2-cp311-cp311-manylinux_2_17_x86_64.manylinux2014_x86_64.whl.metadata (4.0 kB)\n",
      "Collecting six>=1.5 (from python-dateutil>=2.8.2->pandas>=2.0.0->pyLDAvis)\n",
      "  Downloading six-1.17.0-py2.py3-none-any.whl.metadata (1.7 kB)\n",
      "Downloading gensim-4.3.3-cp311-cp311-manylinux_2_17_x86_64.manylinux2014_x86_64.whl (26.7 MB)\n",
      "\u001b[2K   \u001b[90m\u2501\u2501\u2501\u2501\u2501\u2501\u2501\u2501\u2501\u2501\u2501\u2501\u2501\u2501\u2501\u2501\u2501\u2501\u2501\u2501\u2501\u2501\u2501\u2501\u2501\u2501\u2501\u2501\u2501\u2501\u2501\u2501\u2501\u2501\u2501\u2501\u2501\u2501\u2501\u2501\u001b[0m \u001b[32m26.7/26.7 MB\u001b[0m \u001b[31m52.1 MB/s\u001b[0m eta \u001b[36m0:00:00\u001b[0m\n",
      "\u001b[?25hDownloading pyLDAvis-3.4.1-py3-none-any.whl (2.6 MB)\n",
      "\u001b[2K   \u001b[90m\u2501\u2501\u2501\u2501\u2501\u2501\u2501\u2501\u2501\u2501\u2501\u2501\u2501\u2501\u2501\u2501\u2501\u2501\u2501\u2501\u2501\u2501\u2501\u2501\u2501\u2501\u2501\u2501\u2501\u2501\u2501\u2501\u2501\u2501\u2501\u2501\u2501\u2501\u2501\u2501\u001b[0m \u001b[32m2.6/2.6 MB\u001b[0m \u001b[31m23.3 MB/s\u001b[0m eta \u001b[36m0:00:00\u001b[0m\n",
      "\u001b[?25hDownloading joblib-1.5.1-py3-none-any.whl (307 kB)\n",
      "\u001b[2K   \u001b[90m\u2501\u2501\u2501\u2501\u2501\u2501\u2501\u2501\u2501\u2501\u2501\u2501\u2501\u2501\u2501\u2501\u2501\u2501\u2501\u2501\u2501\u2501\u2501\u2501\u2501\u2501\u2501\u2501\u2501\u2501\u2501\u2501\u2501\u2501\u2501\u2501\u2501\u2501\u2501\u2501\u001b[0m \u001b[32m307.7/307.7 kB\u001b[0m \u001b[31m16.4 MB/s\u001b[0m eta \u001b[36m0:00:00\u001b[0m\n",
      "\u001b[?25hDownloading numpy-1.26.4-cp311-cp311-manylinux_2_17_x86_64.manylinux2014_x86_64.whl (18.3 MB)\n",
      "\u001b[2K   \u001b[90m\u2501\u2501\u2501\u2501\u2501\u2501\u2501\u2501\u2501\u2501\u2501\u2501\u2501\u2501\u2501\u2501\u2501\u2501\u2501\u2501\u2501\u2501\u2501\u2501\u2501\u2501\u2501\u2501\u2501\u2501\u2501\u2501\u2501\u2501\u2501\u2501\u2501\u2501\u2501\u2501\u001b[0m \u001b[32m18.3/18.3 MB\u001b[0m \u001b[31m39.2 MB/s\u001b[0m eta \u001b[36m0:00:00\u001b[0m\n",
      "\u001b[?25hDownloading pandas-2.2.3-cp311-cp311-manylinux_2_17_x86_64.manylinux2014_x86_64.whl (13.1 MB)\n",
      "\u001b[2K   \u001b[90m\u2501\u2501\u2501\u2501\u2501\u2501\u2501\u2501\u2501\u2501\u2501\u2501\u2501\u2501\u2501\u2501\u2501\u2501\u2501\u2501\u2501\u2501\u2501\u2501\u2501\u2501\u2501\u2501\u2501\u2501\u2501\u2501\u2501\u2501\u2501\u2501\u2501\u2501\u2501\u2501\u001b[0m \u001b[32m13.1/13.1 MB\u001b[0m \u001b[31m68.6 MB/s\u001b[0m eta \u001b[36m0:00:00\u001b[0m\n",
      "\u001b[?25hDownloading scikit_learn-1.6.1-cp311-cp311-manylinux_2_17_x86_64.manylinux2014_x86_64.whl (13.5 MB)\n",
      "\u001b[2K   \u001b[90m\u2501\u2501\u2501\u2501\u2501\u2501\u2501\u2501\u2501\u2501\u2501\u2501\u2501\u2501\u2501\u2501\u2501\u2501\u2501\u2501\u2501\u2501\u2501\u2501\u2501\u2501\u2501\u2501\u2501\u2501\u2501\u2501\u2501\u2501\u2501\u2501\u2501\u2501\u2501\u2501\u001b[0m \u001b[32m13.5/13.5 MB\u001b[0m \u001b[31m45.6 MB/s\u001b[0m eta \u001b[36m0:00:00\u001b[0m\n",
      "\u001b[?25hDownloading scipy-1.13.1-cp311-cp311-manylinux_2_17_x86_64.manylinux2014_x86_64.whl (38.6 MB)\n",
      "\u001b[2K   \u001b[90m\u2501\u2501\u2501\u2501\u2501\u2501\u2501\u2501\u2501\u2501\u2501\u2501\u2501\u2501\u2501\u2501\u2501\u2501\u2501\u2501\u2501\u2501\u2501\u2501\u2501\u2501\u2501\u2501\u2501\u2501\u2501\u2501\u2501\u2501\u2501\u2501\u2501\u2501\u2501\u2501\u001b[0m \u001b[32m38.6/38.6 MB\u001b[0m \u001b[31m10.6 MB/s\u001b[0m eta \u001b[36m0:00:00\u001b[0m\n",
      "\u001b[?25hDownloading smart_open-7.1.0-py3-none-any.whl (61 kB)\n",
      "\u001b[2K   \u001b[90m\u2501\u2501\u2501\u2501\u2501\u2501\u2501\u2501\u2501\u2501\u2501\u2501\u2501\u2501\u2501\u2501\u2501\u2501\u2501\u2501\u2501\u2501\u2501\u2501\u2501\u2501\u2501\u2501\u2501\u2501\u2501\u2501\u2501\u2501\u2501\u2501\u2501\u2501\u2501\u2501\u001b[0m \u001b[32m61.7/61.7 kB\u001b[0m \u001b[31m3.6 MB/s\u001b[0m eta \u001b[36m0:00:00\u001b[0m\n",
      "\u001b[?25hDownloading funcy-2.0-py2.py3-none-any.whl (30 kB)\n",
      "Downloading jinja2-3.1.6-py3-none-any.whl (134 kB)\n",
      "\u001b[2K   \u001b[90m\u2501\u2501\u2501\u2501\u2501\u2501\u2501\u2501\u2501\u2501\u2501\u2501\u2501\u2501\u2501\u2501\u2501\u2501\u2501\u2501\u2501\u2501\u2501\u2501\u2501\u2501\u2501\u2501\u2501\u2501\u2501\u2501\u2501\u2501\u2501\u2501\u2501\u2501\u2501\u2501\u001b[0m \u001b[32m134.9/134.9 kB\u001b[0m \u001b[31m10.8 MB/s\u001b[0m eta \u001b[36m0:00:00\u001b[0m\n",
      "\u001b[?25hDownloading numexpr-2.10.2-cp311-cp311-manylinux_2_27_x86_64.manylinux_2_28_x86_64.whl (398 kB)\n",
      "\u001b[2K   \u001b[90m\u2501\u2501\u2501\u2501\u2501\u2501\u2501\u2501\u2501\u2501\u2501\u2501\u2501\u2501\u2501\u2501\u2501\u2501\u2501\u2501\u2501\u2501\u2501\u2501\u2501\u2501\u2501\u2501\u2501\u2501\u2501\u2501\u2501\u2501\u2501\u2501\u2501\u2501\u2501\u2501\u001b[0m \u001b[32m398.9/398.9 kB\u001b[0m \u001b[31m30.4 MB/s\u001b[0m eta \u001b[36m0:00:00\u001b[0m\n",
      "\u001b[?25hDownloading setuptools-80.8.0-py3-none-any.whl (1.2 MB)\n",
      "\u001b[2K   \u001b[90m\u2501\u2501\u2501\u2501\u2501\u2501\u2501\u2501\u2501\u2501\u2501\u2501\u2501\u2501\u2501\u2501\u2501\u2501\u2501\u2501\u2501\u2501\u2501\u2501\u2501\u2501\u2501\u2501\u2501\u2501\u2501\u2501\u2501\u2501\u2501\u2501\u2501\u2501\u2501\u2501\u001b[0m \u001b[32m1.2/1.2 MB\u001b[0m \u001b[31m44.2 MB/s\u001b[0m eta \u001b[36m0:00:00\u001b[0m\n",
      "\u001b[?25hDownloading MarkupSafe-3.0.2-cp311-cp311-manylinux_2_17_x86_64.manylinux2014_x86_64.whl (23 kB)\n",
      "Downloading python_dateutil-2.9.0.post0-py2.py3-none-any.whl (229 kB)\n",
      "\u001b[2K   \u001b[90m\u2501\u2501\u2501\u2501\u2501\u2501\u2501\u2501\u2501\u2501\u2501\u2501\u2501\u2501\u2501\u2501\u2501\u2501\u2501\u2501\u2501\u2501\u2501\u2501\u2501\u2501\u2501\u2501\u2501\u2501\u2501\u2501\u2501\u2501\u2501\u2501\u2501\u2501\u2501\u2501\u001b[0m \u001b[32m229.9/229.9 kB\u001b[0m \u001b[31m11.7 MB/s\u001b[0m eta \u001b[36m0:00:00\u001b[0m\n",
      "\u001b[?25hDownloading pytz-2025.2-py2.py3-none-any.whl (509 kB)\n",
      "\u001b[2K   \u001b[90m\u2501\u2501\u2501\u2501\u2501\u2501\u2501\u2501\u2501\u2501\u2501\u2501\u2501\u2501\u2501\u2501\u2501\u2501\u2501\u2501\u2501\u2501\u2501\u2501\u2501\u2501\u2501\u2501\u2501\u2501\u2501\u2501\u2501\u2501\u2501\u2501\u2501\u2501\u2501\u2501\u001b[0m \u001b[32m509.2/509.2 kB\u001b[0m \u001b[31m27.0 MB/s\u001b[0m eta \u001b[36m0:00:00\u001b[0m\n",
      "\u001b[?25hDownloading threadpoolctl-3.6.0-py3-none-any.whl (18 kB)\n",
      "Downloading tzdata-2025.2-py2.py3-none-any.whl (347 kB)\n",
      "\u001b[2K   \u001b[90m\u2501\u2501\u2501\u2501\u2501\u2501\u2501\u2501\u2501\u2501\u2501\u2501\u2501\u2501\u2501\u2501\u2501\u2501\u2501\u2501\u2501\u2501\u2501\u2501\u2501\u2501\u2501\u2501\u2501\u2501\u2501\u2501\u2501\u2501\u2501\u2501\u2501\u2501\u2501\u2501\u001b[0m \u001b[32m347.8/347.8 kB\u001b[0m \u001b[31m20.1 MB/s\u001b[0m eta \u001b[36m0:00:00\u001b[0m\n",
      "\u001b[?25hDownloading wrapt-1.17.2-cp311-cp311-manylinux_2_5_x86_64.manylinux1_x86_64.manylinux_2_17_x86_64.manylinux2014_x86_64.whl (83 kB)\n",
      "\u001b[2K   \u001b[90m\u2501\u2501\u2501\u2501\u2501\u2501\u2501\u2501\u2501\u2501\u2501\u2501\u2501\u2501\u2501\u2501\u2501\u2501\u2501\u2501\u2501\u2501\u2501\u2501\u2501\u2501\u2501\u2501\u2501\u2501\u2501\u2501\u2501\u2501\u2501\u2501\u2501\u2501\u2501\u2501\u001b[0m \u001b[32m83.2/83.2 kB\u001b[0m \u001b[31m7.0 MB/s\u001b[0m eta \u001b[36m0:00:00\u001b[0m\n",
      "\u001b[?25hDownloading six-1.17.0-py2.py3-none-any.whl (11 kB)\n",
      "Installing collected packages: pytz, funcy, wrapt, tzdata, threadpoolctl, six, setuptools, numpy, MarkupSafe, joblib, smart-open, scipy, python-dateutil, numexpr, jinja2, scikit-learn, pandas, gensim, pyLDAvis\n",
      "  Attempting uninstall: pytz\n",
      "    Found existing installation: pytz 2025.2\n",
      "    Uninstalling pytz-2025.2:\n",
      "      Successfully uninstalled pytz-2025.2\n",
      "  Attempting uninstall: wrapt\n",
      "    Found existing installation: wrapt 1.17.2\n",
      "    Uninstalling wrapt-1.17.2:\n",
      "      Successfully uninstalled wrapt-1.17.2\n",
      "  Attempting uninstall: tzdata\n",
      "    Found existing installation: tzdata 2025.2\n",
      "    Uninstalling tzdata-2025.2:\n",
      "      Successfully uninstalled tzdata-2025.2\n",
      "  Attempting uninstall: threadpoolctl\n",
      "    Found existing installation: threadpoolctl 3.6.0\n",
      "    Uninstalling threadpoolctl-3.6.0:\n",
      "      Successfully uninstalled threadpoolctl-3.6.0\n",
      "  Attempting uninstall: six\n",
      "    Found existing installation: six 1.17.0\n",
      "    Uninstalling six-1.17.0:\n",
      "      Successfully uninstalled six-1.17.0\n",
      "  Attempting uninstall: setuptools\n",
      "    Found existing installation: setuptools 75.2.0\n",
      "    Uninstalling setuptools-75.2.0:\n",
      "      Successfully uninstalled setuptools-75.2.0\n",
      "  Attempting uninstall: numpy\n",
      "    Found existing installation: numpy 2.0.2\n",
      "    Uninstalling numpy-2.0.2:\n",
      "      Successfully uninstalled numpy-2.0.2\n",
      "  Attempting uninstall: MarkupSafe\n",
      "    Found existing installation: MarkupSafe 3.0.2\n",
      "    Uninstalling MarkupSafe-3.0.2:\n",
      "      Successfully uninstalled MarkupSafe-3.0.2\n",
      "  Attempting uninstall: joblib\n",
      "    Found existing installation: joblib 1.5.0\n",
      "    Uninstalling joblib-1.5.0:\n",
      "      Successfully uninstalled joblib-1.5.0\n",
      "  Attempting uninstall: smart-open\n",
      "    Found existing installation: smart-open 7.1.0\n",
      "    Uninstalling smart-open-7.1.0:\n",
      "      Successfully uninstalled smart-open-7.1.0\n",
      "  Attempting uninstall: scipy\n",
      "    Found existing installation: scipy 1.15.3\n",
      "    Uninstalling scipy-1.15.3:\n",
      "      Successfully uninstalled scipy-1.15.3\n",
      "  Attempting uninstall: python-dateutil\n",
      "    Found existing installation: python-dateutil 2.9.0.post0\n",
      "    Uninstalling python-dateutil-2.9.0.post0:\n",
      "      Successfully uninstalled python-dateutil-2.9.0.post0\n",
      "  Attempting uninstall: numexpr\n",
      "    Found existing installation: numexpr 2.10.2\n",
      "    Uninstalling numexpr-2.10.2:\n",
      "      Successfully uninstalled numexpr-2.10.2\n",
      "  Attempting uninstall: jinja2\n",
      "    Found existing installation: Jinja2 3.1.6\n",
      "    Uninstalling Jinja2-3.1.6:\n",
      "      Successfully uninstalled Jinja2-3.1.6\n",
      "  Attempting uninstall: scikit-learn\n",
      "    Found existing installation: scikit-learn 1.6.1\n",
      "    Uninstalling scikit-learn-1.6.1:\n",
      "      Successfully uninstalled scikit-learn-1.6.1\n",
      "  Attempting uninstall: pandas\n",
      "    Found existing installation: pandas 2.2.2\n",
      "    Uninstalling pandas-2.2.2:\n",
      "      Successfully uninstalled pandas-2.2.2\n",
      "\u001b[31mERROR: pip's dependency resolver does not currently take into account all the packages that are installed. This behaviour is the source of the following dependency conflicts.\n",
      "ipython 7.34.0 requires jedi>=0.16, which is not installed.\n",
      "google-colab 1.0.0 requires pandas==2.2.2, but you have pandas 2.2.3 which is incompatible.\n",
      "tsfresh 0.21.0 requires scipy>=1.14.0; python_version >= \"3.10\", but you have scipy 1.13.1 which is incompatible.\n",
      "thinc 8.3.6 requires numpy<3.0.0,>=2.0.0, but you have numpy 1.26.4 which is incompatible.\n",
      "torch 2.6.0+cu124 requires nvidia-cublas-cu12==12.4.5.8; platform_system == \"Linux\" and platform_machine == \"x86_64\", but you have nvidia-cublas-cu12 12.5.3.2 which is incompatible.\n",
      "torch 2.6.0+cu124 requires nvidia-cuda-cupti-cu12==12.4.127; platform_system == \"Linux\" and platform_machine == \"x86_64\", but you have nvidia-cuda-cupti-cu12 12.5.82 which is incompatible.\n",
      "torch 2.6.0+cu124 requires nvidia-cuda-nvrtc-cu12==12.4.127; platform_system == \"Linux\" and platform_machine == \"x86_64\", but you have nvidia-cuda-nvrtc-cu12 12.5.82 which is incompatible.\n",
      "torch 2.6.0+cu124 requires nvidia-cuda-runtime-cu12==12.4.127; platform_system == \"Linux\" and platform_machine == \"x86_64\", but you have nvidia-cuda-runtime-cu12 12.5.82 which is incompatible.\n",
      "torch 2.6.0+cu124 requires nvidia-cudnn-cu12==9.1.0.70; platform_system == \"Linux\" and platform_machine == \"x86_64\", but you have nvidia-cudnn-cu12 9.3.0.75 which is incompatible.\n",
      "torch 2.6.0+cu124 requires nvidia-cufft-cu12==11.2.1.3; platform_system == \"Linux\" and platform_machine == \"x86_64\", but you have nvidia-cufft-cu12 11.2.3.61 which is incompatible.\n",
      "torch 2.6.0+cu124 requires nvidia-curand-cu12==10.3.5.147; platform_system == \"Linux\" and platform_machine == \"x86_64\", but you have nvidia-curand-cu12 10.3.6.82 which is incompatible.\n",
      "torch 2.6.0+cu124 requires nvidia-cusolver-cu12==11.6.1.9; platform_system == \"Linux\" and platform_machine == \"x86_64\", but you have nvidia-cusolver-cu12 11.6.3.83 which is incompatible.\n",
      "torch 2.6.0+cu124 requires nvidia-cusparse-cu12==12.3.1.170; platform_system == \"Linux\" and platform_machine == \"x86_64\", but you have nvidia-cusparse-cu12 12.5.1.3 which is incompatible.\n",
      "torch 2.6.0+cu124 requires nvidia-nvjitlink-cu12==12.4.127; platform_system == \"Linux\" and platform_machine == \"x86_64\", but you have nvidia-nvjitlink-cu12 12.5.82 which is incompatible.\u001b[0m\u001b[31m\n",
      "\u001b[0mSuccessfully installed MarkupSafe-3.0.2 funcy-2.0 gensim-4.3.3 jinja2-3.1.6 joblib-1.5.1 numexpr-2.10.2 numpy-1.26.4 pandas-2.2.3 pyLDAvis-3.4.1 python-dateutil-2.9.0.post0 pytz-2025.2 scikit-learn-1.6.1 scipy-1.13.1 setuptools-80.8.0 six-1.17.0 smart-open-7.1.0 threadpoolctl-3.6.0 tzdata-2025.2 wrapt-1.17.2\n"
     ]
    },
    {
     "output_type": "display_data",
     "data": {
      "application/vnd.colab-display-data+json": {
       "pip_warning": {
        "packages": [
         "_distutils_hack",
         "dateutil",
         "pkg_resources",
         "six"
        ]
       },
       "id": "639dcde2a9004008a19279d561ce760a"
      }
     },
     "metadata": {}
    }
   ]
  },
  {
   "cell_type": "code",
   "source": [
    "!pip install --upgrade --force-reinstall pandas numpy==1.26.4"
   ],
   "metadata": {
    "colab": {
     "base_uri": "https://localhost:8080/",
     "height": 1000
    },
    "id": "SbKk40KUHYsH",
    "outputId": "4103b993-9fd5-4988-ffb9-acda15b7a9dc"
   },
   "execution_count": null,
   "outputs": [
    {
     "output_type": "stream",
     "name": "stdout",
     "text": [
      "Collecting pandas\n",
      "  Using cached pandas-2.2.3-cp311-cp311-manylinux_2_17_x86_64.manylinux2014_x86_64.whl.metadata (89 kB)\n",
      "Collecting numpy==1.26.4\n",
      "  Using cached numpy-1.26.4-cp311-cp311-manylinux_2_17_x86_64.manylinux2014_x86_64.whl.metadata (61 kB)\n",
      "Collecting python-dateutil>=2.8.2 (from pandas)\n",
      "  Using cached python_dateutil-2.9.0.post0-py2.py3-none-any.whl.metadata (8.4 kB)\n",
      "Collecting pytz>=2020.1 (from pandas)\n",
      "  Using cached pytz-2025.2-py2.py3-none-any.whl.metadata (22 kB)\n",
      "Collecting tzdata>=2022.7 (from pandas)\n",
      "  Using cached tzdata-2025.2-py2.py3-none-any.whl.metadata (1.4 kB)\n",
      "Collecting six>=1.5 (from python-dateutil>=2.8.2->pandas)\n",
      "  Using cached six-1.17.0-py2.py3-none-any.whl.metadata (1.7 kB)\n",
      "Using cached numpy-1.26.4-cp311-cp311-manylinux_2_17_x86_64.manylinux2014_x86_64.whl (18.3 MB)\n",
      "Using cached pandas-2.2.3-cp311-cp311-manylinux_2_17_x86_64.manylinux2014_x86_64.whl (13.1 MB)\n",
      "Using cached python_dateutil-2.9.0.post0-py2.py3-none-any.whl (229 kB)\n",
      "Using cached pytz-2025.2-py2.py3-none-any.whl (509 kB)\n",
      "Using cached tzdata-2025.2-py2.py3-none-any.whl (347 kB)\n",
      "Using cached six-1.17.0-py2.py3-none-any.whl (11 kB)\n",
      "Installing collected packages: pytz, tzdata, six, numpy, python-dateutil, pandas\n",
      "  Attempting uninstall: pytz\n",
      "    Found existing installation: pytz 2025.2\n",
      "    Uninstalling pytz-2025.2:\n",
      "      Successfully uninstalled pytz-2025.2\n",
      "  Attempting uninstall: tzdata\n",
      "    Found existing installation: tzdata 2025.2\n",
      "    Uninstalling tzdata-2025.2:\n",
      "      Successfully uninstalled tzdata-2025.2\n",
      "  Attempting uninstall: six\n",
      "    Found existing installation: six 1.17.0\n",
      "    Uninstalling six-1.17.0:\n",
      "      Successfully uninstalled six-1.17.0\n",
      "  Attempting uninstall: numpy\n",
      "    Found existing installation: numpy 1.26.4\n",
      "    Uninstalling numpy-1.26.4:\n",
      "      Successfully uninstalled numpy-1.26.4\n",
      "  Attempting uninstall: python-dateutil\n",
      "    Found existing installation: python-dateutil 2.9.0.post0\n",
      "    Uninstalling python-dateutil-2.9.0.post0:\n",
      "      Successfully uninstalled python-dateutil-2.9.0.post0\n",
      "  Attempting uninstall: pandas\n",
      "    Found existing installation: pandas 2.2.3\n",
      "    Uninstalling pandas-2.2.3:\n",
      "      Successfully uninstalled pandas-2.2.3\n",
      "\u001b[31mERROR: pip's dependency resolver does not currently take into account all the packages that are installed. This behaviour is the source of the following dependency conflicts.\n",
      "google-colab 1.0.0 requires pandas==2.2.2, but you have pandas 2.2.3 which is incompatible.\n",
      "tsfresh 0.21.0 requires scipy>=1.14.0; python_version >= \"3.10\", but you have scipy 1.13.1 which is incompatible.\n",
      "thinc 8.3.6 requires numpy<3.0.0,>=2.0.0, but you have numpy 1.26.4 which is incompatible.\u001b[0m\u001b[31m\n",
      "\u001b[0mSuccessfully installed numpy-1.26.4 pandas-2.2.3 python-dateutil-2.9.0.post0 pytz-2025.2 six-1.17.0 tzdata-2025.2\n"
     ]
    },
    {
     "output_type": "display_data",
     "data": {
      "application/vnd.colab-display-data+json": {
       "pip_warning": {
        "packages": [
         "dateutil",
         "pytz",
         "six"
        ]
       },
       "id": "4af8833f4ca74e28beb20af4ba141b8a"
      }
     },
     "metadata": {}
    }
   ]
  },
  {
   "cell_type": "code",
   "source": [
    "nltk.download('punkt')\n",
    "nltk.download('stopwords')\n",
    "nltk.download('wordnet')\n",
    "nltk.download('averaged_perceptron_tagger')\n",
    "nltk.download('punkt_tab')"
   ],
   "metadata": {
    "colab": {
     "base_uri": "https://localhost:8080/"
    },
    "id": "GXHvsonf8t8t",
    "outputId": "ef5d8807-5a87-4fee-fb15-2590dd87d96c"
   },
   "execution_count": null,
   "outputs": [
    {
     "output_type": "stream",
     "name": "stderr",
     "text": [
      "[nltk_data] Downloading package punkt to /root/nltk_data...\n",
      "[nltk_data]   Unzipping tokenizers/punkt.zip.\n",
      "[nltk_data] Downloading package stopwords to /root/nltk_data...\n",
      "[nltk_data]   Unzipping corpora/stopwords.zip.\n",
      "[nltk_data] Downloading package wordnet to /root/nltk_data...\n",
      "[nltk_data] Downloading package averaged_perceptron_tagger to\n",
      "[nltk_data]     /root/nltk_data...\n",
      "[nltk_data]   Unzipping taggers/averaged_perceptron_tagger.zip.\n",
      "[nltk_data] Downloading package punkt_tab to /root/nltk_data...\n",
      "[nltk_data]   Unzipping tokenizers/punkt_tab.zip.\n"
     ]
    },
    {
     "output_type": "execute_result",
     "data": {
      "text/plain": [
       "True"
      ]
     },
     "metadata": {},
     "execution_count": 5
    }
   ]
  },
  {
   "cell_type": "code",
   "source": [
    "NOMBRE_ARCHIVO = 'emails.csv'\n",
    "\n",
    "!wget https://raw.githubusercontent.com/Ignacioelamo/LLMs4Phishing/main/data/01_combined_cleaned_email_data.csv -O $NOMBRE_ARCHIVO"
   ],
   "metadata": {
    "colab": {
     "base_uri": "https://localhost:8080/"
    },
    "id": "VXsJqVlSjk4N",
    "outputId": "a7af3eca-17ae-4a82-a095-3d5182d3621b"
   },
   "execution_count": 9,
   "outputs": [
    {
     "output_type": "stream",
     "name": "stdout",
     "text": [
      "--2025-05-27 11:05:06--  https://raw.githubusercontent.com/Ignacioelamo/LLMs4Phishing/main/data/01_combined_cleaned_email_data.csv\n",
      "Resolving raw.githubusercontent.com (raw.githubusercontent.com)... 185.199.108.133, 185.199.109.133, 185.199.110.133, ...\n",
      "Connecting to raw.githubusercontent.com (raw.githubusercontent.com)|185.199.108.133|:443... connected.\n",
      "HTTP request sent, awaiting response... 200 OK\n",
      "Length: 10064045 (9.6M) [text/plain]\n",
      "Saving to: \u2018emails.csv\u2019\n",
      "\n",
      "emails.csv          100%[===================>]   9.60M  --.-KB/s    in 0.04s   \n",
      "\n",
      "2025-05-27 11:05:07 (264 MB/s) - \u2018emails.csv\u2019 saved [10064045/10064045]\n",
      "\n"
     ]
    }
   ]
  },
  {
   "cell_type": "markdown",
   "source": [
    "## Librer\u00edas"
   ],
   "metadata": {
    "id": "1Bb8SK06HmzM"
   }
  },
  {
   "cell_type": "code",
   "source": [
    "import pandas as pd\n",
    "import numpy as np\n",
    "import matplotlib.pyplot as plt\n",
    "\n",
    "import re\n",
    "\n",
    "\n",
    "import spacy\n",
    "from nltk.corpus import stopwords\n",
    "import nltk\n",
    "from nltk.stem import WordNetLemmatizer\n",
    "from nltk.tokenize import word_tokenize\n",
    "\n",
    "from keybert import KeyBERT"
   ],
   "metadata": {
    "id": "fquCcVtNHomi"
   },
   "execution_count": null,
   "outputs": []
  },
  {
   "cell_type": "markdown",
   "metadata": {
    "id": "2utZUICUZ6C3"
   },
   "source": [
    "# Extracci\u00f3n de las caracter\u00edsticas del cuerpo del correo:\n",
    "1. **body_html=contains_html**: This is a binary feature that represents the presence of HTML in the email body.  \n",
    "2. **body_forms**: This binary feature represents the presence of forms in HTML email bodies.\n",
    "3. **body_noWords**: This feature measures the total number of words occurring in the email.\n",
    "4.  **body_noCharacters**: This feature measures the total number of characters occurring in the email body.\n",
    "5.  **body_noDistinctWords**: This feature measures the total number of distinct words occurring in the body of the email.  \n",
    "6. **body_richness**: The richness is defined as the ratio of the number of words to the number of characters in the document.\n",
    "$$\n",
    "\\text{body_richness} = \\frac{\\text{body_noWords}}{\\text{body_noCharacters}}\n",
    "$$\n",
    "8. **body_noFunctionWords** Chandrasekaran [6] also listed a set of function words that included:  \n",
    "`account`, `access`, `bank`, `credit`, `click`, `identity`, `inconvenience`, `information`, `limited`, `log`, `minutes`, `password`, `recently`, `risk`, `social`, `security`, `service`, and `suspended`.  The `body_noFunctionWords` feature measures the total number of occurrences of these function words in the email body.\n",
    "9. **body_suspension** This binary feature represents the presence of the word **\"suspension\"** in the body of the email.  \n",
    "10.  **body_verifyYourAccount** This binary feature represents the presence of the phrase **\"verify your account\"** in the body of the email.\n",
    "11. **body_text** contains information regarding the context and purpose of an email. For this, we extract the plain text from the email body and use word embedding techniques to represent it.\n",
    "\n",
    "A\u00f1adimos las features que ya ten\u00edamos: has_attachment, contains_html, urls."
   ]
  },
  {
   "cell_type": "code",
   "execution_count": null,
   "metadata": {
    "id": "3thkqU3Kjgfr"
   },
   "outputs": [],
   "source": [
    "#Es necesario la version de numpy= 1.26.4\n",
    "#%pip install --upgrade --force-reinstall numpy==1.26.4 pandas"
   ]
  },
  {
   "cell_type": "code",
   "source": [
    "df = (\n",
    "    pd.read_csv(NOMBRE_ARCHIVO)\n",
    "      .assign(\n",
    "          # Feature 3: body_noWords (Total number of words)\n",
    "          body_noWords=lambda df: df['body'].apply(lambda x: len(str(x).split())),\n",
    "\n",
    "          # Feature 4: body_noCharacters (Total number of characters)\n",
    "          body_noCharacters=lambda df: df['body'].apply(lambda x: len(str(x))),\n",
    "\n",
    "          # Feature 5: body_noDistinctWords (Total number of distinct words)\n",
    "          body_noDistinctWords=lambda df: df['body'].apply(lambda x: len(set(str(x).split()))),\n",
    "\n",
    "          # Feature 6: body_richness (Ratio of words to characters)\n",
    "          body_richness=lambda df: df['body'].apply(lambda x: len(str(x).split())) / df['body'].apply(lambda x: len(str(x))),\n",
    "\n",
    "          # Feature 7: body_noFunctionWords (Count of specific function words)\n",
    "          body_noFunctionWords=lambda df: df['body'].apply(\n",
    "              lambda x: sum(1 for word in str(x).split()\n",
    "                          if word.lower() in ['account', 'access', 'bank', 'credit', 'click',\n",
    "                                            'identity', 'inconvenience', 'information', 'limited',\n",
    "                                            'log', 'minutes', 'password', 'recently', 'risk',\n",
    "                                            'social', 'security', 'service', 'suspended'])\n",
    "          )\n",
    "      )\n",
    ")"
   ],
   "metadata": {
    "id": "ztuvGzg9GwNX"
   },
   "execution_count": null,
   "outputs": []
  },
  {
   "cell_type": "markdown",
   "metadata": {
    "id": "60ZiDdtTiUmR"
   },
   "source": [
    "Para sacar los t\u00f3picos de los correos podemos hacerlo de dos formas:\n",
    "1. BERTopic: usa embeddings contextuales para agrupar documentos, y luego re-pondera con TF-IDF para extraer t\u00e9rminos.\n",
    "2. LDA: modelo generativo de t\u00f3picos sobre Bag-of-Words, que descubre distribuciones de palabras."
   ]
  },
  {
   "cell_type": "markdown",
   "source": [
    "## LDA"
   ],
   "metadata": {
    "id": "V0JFA_DGYP0-"
   }
  },
  {
   "cell_type": "code",
   "source": [
    "!pip install spacy\n",
    "!pip install --upgrade --force-reinstall gensim pyLDAvis"
   ],
   "metadata": {
    "id": "wMHLphN6ZsbC",
    "outputId": "60857d74-b5ab-4a3e-eee5-5d5d5bfe18e0",
    "colab": {
     "base_uri": "https://localhost:8080/",
     "height": 1000
    }
   },
   "execution_count": 3,
   "outputs": [
    {
     "output_type": "stream",
     "name": "stdout",
     "text": [
      "Requirement already satisfied: spacy in /usr/local/lib/python3.11/dist-packages (3.8.5)\n",
      "Requirement already satisfied: spacy-legacy<3.1.0,>=3.0.11 in /usr/local/lib/python3.11/dist-packages (from spacy) (3.0.12)\n",
      "Requirement already satisfied: spacy-loggers<2.0.0,>=1.0.0 in /usr/local/lib/python3.11/dist-packages (from spacy) (1.0.5)\n",
      "Requirement already satisfied: murmurhash<1.1.0,>=0.28.0 in /usr/local/lib/python3.11/dist-packages (from spacy) (1.0.12)\n",
      "Requirement already satisfied: cymem<2.1.0,>=2.0.2 in /usr/local/lib/python3.11/dist-packages (from spacy) (2.0.11)\n",
      "Requirement already satisfied: preshed<3.1.0,>=3.0.2 in /usr/local/lib/python3.11/dist-packages (from spacy) (3.0.9)\n",
      "Requirement already satisfied: thinc<8.4.0,>=8.3.4 in /usr/local/lib/python3.11/dist-packages (from spacy) (8.3.6)\n",
      "Requirement already satisfied: wasabi<1.2.0,>=0.9.1 in /usr/local/lib/python3.11/dist-packages (from spacy) (1.1.3)\n",
      "Requirement already satisfied: srsly<3.0.0,>=2.4.3 in /usr/local/lib/python3.11/dist-packages (from spacy) (2.5.1)\n",
      "Requirement already satisfied: catalogue<2.1.0,>=2.0.6 in /usr/local/lib/python3.11/dist-packages (from spacy) (2.0.10)\n",
      "Requirement already satisfied: weasel<0.5.0,>=0.1.0 in /usr/local/lib/python3.11/dist-packages (from spacy) (0.4.1)\n",
      "Requirement already satisfied: typer<1.0.0,>=0.3.0 in /usr/local/lib/python3.11/dist-packages (from spacy) (0.15.3)\n",
      "Requirement already satisfied: tqdm<5.0.0,>=4.38.0 in /usr/local/lib/python3.11/dist-packages (from spacy) (4.67.1)\n",
      "Requirement already satisfied: numpy>=1.19.0 in /usr/local/lib/python3.11/dist-packages (from spacy) (2.0.2)\n",
      "Requirement already satisfied: requests<3.0.0,>=2.13.0 in /usr/local/lib/python3.11/dist-packages (from spacy) (2.32.3)\n",
      "Requirement already satisfied: pydantic!=1.8,!=1.8.1,<3.0.0,>=1.7.4 in /usr/local/lib/python3.11/dist-packages (from spacy) (2.11.4)\n",
      "Requirement already satisfied: jinja2 in /usr/local/lib/python3.11/dist-packages (from spacy) (3.1.6)\n",
      "Requirement already satisfied: setuptools in /usr/local/lib/python3.11/dist-packages (from spacy) (75.2.0)\n",
      "Requirement already satisfied: packaging>=20.0 in /usr/local/lib/python3.11/dist-packages (from spacy) (24.2)\n",
      "Requirement already satisfied: langcodes<4.0.0,>=3.2.0 in /usr/local/lib/python3.11/dist-packages (from spacy) (3.5.0)\n",
      "Requirement already satisfied: language-data>=1.2 in /usr/local/lib/python3.11/dist-packages (from langcodes<4.0.0,>=3.2.0->spacy) (1.3.0)\n",
      "Requirement already satisfied: annotated-types>=0.6.0 in /usr/local/lib/python3.11/dist-packages (from pydantic!=1.8,!=1.8.1,<3.0.0,>=1.7.4->spacy) (0.7.0)\n",
      "Requirement already satisfied: pydantic-core==2.33.2 in /usr/local/lib/python3.11/dist-packages (from pydantic!=1.8,!=1.8.1,<3.0.0,>=1.7.4->spacy) (2.33.2)\n",
      "Requirement already satisfied: typing-extensions>=4.12.2 in /usr/local/lib/python3.11/dist-packages (from pydantic!=1.8,!=1.8.1,<3.0.0,>=1.7.4->spacy) (4.13.2)\n",
      "Requirement already satisfied: typing-inspection>=0.4.0 in /usr/local/lib/python3.11/dist-packages (from pydantic!=1.8,!=1.8.1,<3.0.0,>=1.7.4->spacy) (0.4.0)\n",
      "Requirement already satisfied: charset-normalizer<4,>=2 in /usr/local/lib/python3.11/dist-packages (from requests<3.0.0,>=2.13.0->spacy) (3.4.2)\n",
      "Requirement already satisfied: idna<4,>=2.5 in /usr/local/lib/python3.11/dist-packages (from requests<3.0.0,>=2.13.0->spacy) (3.10)\n",
      "Requirement already satisfied: urllib3<3,>=1.21.1 in /usr/local/lib/python3.11/dist-packages (from requests<3.0.0,>=2.13.0->spacy) (2.4.0)\n",
      "Requirement already satisfied: certifi>=2017.4.17 in /usr/local/lib/python3.11/dist-packages (from requests<3.0.0,>=2.13.0->spacy) (2025.4.26)\n",
      "Requirement already satisfied: blis<1.4.0,>=1.3.0 in /usr/local/lib/python3.11/dist-packages (from thinc<8.4.0,>=8.3.4->spacy) (1.3.0)\n",
      "Requirement already satisfied: confection<1.0.0,>=0.0.1 in /usr/local/lib/python3.11/dist-packages (from thinc<8.4.0,>=8.3.4->spacy) (0.1.5)\n",
      "Requirement already satisfied: click>=8.0.0 in /usr/local/lib/python3.11/dist-packages (from typer<1.0.0,>=0.3.0->spacy) (8.2.0)\n",
      "Requirement already satisfied: shellingham>=1.3.0 in /usr/local/lib/python3.11/dist-packages (from typer<1.0.0,>=0.3.0->spacy) (1.5.4)\n",
      "Requirement already satisfied: rich>=10.11.0 in /usr/local/lib/python3.11/dist-packages (from typer<1.0.0,>=0.3.0->spacy) (13.9.4)\n",
      "Requirement already satisfied: cloudpathlib<1.0.0,>=0.7.0 in /usr/local/lib/python3.11/dist-packages (from weasel<0.5.0,>=0.1.0->spacy) (0.21.0)\n",
      "Requirement already satisfied: smart-open<8.0.0,>=5.2.1 in /usr/local/lib/python3.11/dist-packages (from weasel<0.5.0,>=0.1.0->spacy) (7.1.0)\n",
      "Requirement already satisfied: MarkupSafe>=2.0 in /usr/local/lib/python3.11/dist-packages (from jinja2->spacy) (3.0.2)\n",
      "Requirement already satisfied: marisa-trie>=1.1.0 in /usr/local/lib/python3.11/dist-packages (from language-data>=1.2->langcodes<4.0.0,>=3.2.0->spacy) (1.2.1)\n",
      "Requirement already satisfied: markdown-it-py>=2.2.0 in /usr/local/lib/python3.11/dist-packages (from rich>=10.11.0->typer<1.0.0,>=0.3.0->spacy) (3.0.0)\n",
      "Requirement already satisfied: pygments<3.0.0,>=2.13.0 in /usr/local/lib/python3.11/dist-packages (from rich>=10.11.0->typer<1.0.0,>=0.3.0->spacy) (2.19.1)\n",
      "Requirement already satisfied: wrapt in /usr/local/lib/python3.11/dist-packages (from smart-open<8.0.0,>=5.2.1->weasel<0.5.0,>=0.1.0->spacy) (1.17.2)\n",
      "Requirement already satisfied: mdurl~=0.1 in /usr/local/lib/python3.11/dist-packages (from markdown-it-py>=2.2.0->rich>=10.11.0->typer<1.0.0,>=0.3.0->spacy) (0.1.2)\n",
      "Collecting gensim\n",
      "  Downloading gensim-4.3.3-cp311-cp311-manylinux_2_17_x86_64.manylinux2014_x86_64.whl.metadata (8.1 kB)\n",
      "Collecting pyLDAvis\n",
      "  Downloading pyLDAvis-3.4.1-py3-none-any.whl.metadata (4.2 kB)\n",
      "Collecting numpy<2.0,>=1.18.5 (from gensim)\n",
      "  Downloading numpy-1.26.4-cp311-cp311-manylinux_2_17_x86_64.manylinux2014_x86_64.whl.metadata (61 kB)\n",
      "\u001b[2K     \u001b[90m\u2501\u2501\u2501\u2501\u2501\u2501\u2501\u2501\u2501\u2501\u2501\u2501\u2501\u2501\u2501\u2501\u2501\u2501\u2501\u2501\u2501\u2501\u2501\u2501\u2501\u2501\u2501\u2501\u2501\u2501\u2501\u2501\u2501\u2501\u2501\u2501\u2501\u2501\u2501\u2501\u001b[0m \u001b[32m61.0/61.0 kB\u001b[0m \u001b[31m5.0 MB/s\u001b[0m eta \u001b[36m0:00:00\u001b[0m\n",
      "\u001b[?25hCollecting scipy<1.14.0,>=1.7.0 (from gensim)\n",
      "  Downloading scipy-1.13.1-cp311-cp311-manylinux_2_17_x86_64.manylinux2014_x86_64.whl.metadata (60 kB)\n",
      "\u001b[2K     \u001b[90m\u2501\u2501\u2501\u2501\u2501\u2501\u2501\u2501\u2501\u2501\u2501\u2501\u2501\u2501\u2501\u2501\u2501\u2501\u2501\u2501\u2501\u2501\u2501\u2501\u2501\u2501\u2501\u2501\u2501\u2501\u2501\u2501\u2501\u2501\u2501\u2501\u2501\u2501\u2501\u2501\u001b[0m \u001b[32m60.6/60.6 kB\u001b[0m \u001b[31m5.3 MB/s\u001b[0m eta \u001b[36m0:00:00\u001b[0m\n",
      "\u001b[?25hCollecting smart-open>=1.8.1 (from gensim)\n",
      "  Downloading smart_open-7.1.0-py3-none-any.whl.metadata (24 kB)\n",
      "Collecting pandas>=2.0.0 (from pyLDAvis)\n",
      "  Downloading pandas-2.2.3-cp311-cp311-manylinux_2_17_x86_64.manylinux2014_x86_64.whl.metadata (89 kB)\n",
      "\u001b[2K     \u001b[90m\u2501\u2501\u2501\u2501\u2501\u2501\u2501\u2501\u2501\u2501\u2501\u2501\u2501\u2501\u2501\u2501\u2501\u2501\u2501\u2501\u2501\u2501\u2501\u2501\u2501\u2501\u2501\u2501\u2501\u2501\u2501\u2501\u2501\u2501\u2501\u2501\u2501\u2501\u2501\u2501\u001b[0m \u001b[32m89.9/89.9 kB\u001b[0m \u001b[31m6.6 MB/s\u001b[0m eta \u001b[36m0:00:00\u001b[0m\n",
      "\u001b[?25hCollecting joblib>=1.2.0 (from pyLDAvis)\n",
      "  Downloading joblib-1.5.1-py3-none-any.whl.metadata (5.6 kB)\n",
      "Collecting jinja2 (from pyLDAvis)\n",
      "  Downloading jinja2-3.1.6-py3-none-any.whl.metadata (2.9 kB)\n",
      "Collecting numexpr (from pyLDAvis)\n",
      "  Downloading numexpr-2.10.2-cp311-cp311-manylinux_2_27_x86_64.manylinux_2_28_x86_64.whl.metadata (8.1 kB)\n",
      "Collecting funcy (from pyLDAvis)\n",
      "  Downloading funcy-2.0-py2.py3-none-any.whl.metadata (5.9 kB)\n",
      "Collecting scikit-learn>=1.0.0 (from pyLDAvis)\n",
      "  Downloading scikit_learn-1.6.1-cp311-cp311-manylinux_2_17_x86_64.manylinux2014_x86_64.whl.metadata (18 kB)\n",
      "Collecting setuptools (from pyLDAvis)\n",
      "  Downloading setuptools-80.9.0-py3-none-any.whl.metadata (6.6 kB)\n",
      "Collecting python-dateutil>=2.8.2 (from pandas>=2.0.0->pyLDAvis)\n",
      "  Downloading python_dateutil-2.9.0.post0-py2.py3-none-any.whl.metadata (8.4 kB)\n",
      "Collecting pytz>=2020.1 (from pandas>=2.0.0->pyLDAvis)\n",
      "  Downloading pytz-2025.2-py2.py3-none-any.whl.metadata (22 kB)\n",
      "Collecting tzdata>=2022.7 (from pandas>=2.0.0->pyLDAvis)\n",
      "  Downloading tzdata-2025.2-py2.py3-none-any.whl.metadata (1.4 kB)\n",
      "Collecting threadpoolctl>=3.1.0 (from scikit-learn>=1.0.0->pyLDAvis)\n",
      "  Downloading threadpoolctl-3.6.0-py3-none-any.whl.metadata (13 kB)\n",
      "Collecting wrapt (from smart-open>=1.8.1->gensim)\n",
      "  Downloading wrapt-1.17.2-cp311-cp311-manylinux_2_5_x86_64.manylinux1_x86_64.manylinux_2_17_x86_64.manylinux2014_x86_64.whl.metadata (6.4 kB)\n",
      "Collecting MarkupSafe>=2.0 (from jinja2->pyLDAvis)\n",
      "  Downloading MarkupSafe-3.0.2-cp311-cp311-manylinux_2_17_x86_64.manylinux2014_x86_64.whl.metadata (4.0 kB)\n",
      "Collecting six>=1.5 (from python-dateutil>=2.8.2->pandas>=2.0.0->pyLDAvis)\n",
      "  Downloading six-1.17.0-py2.py3-none-any.whl.metadata (1.7 kB)\n",
      "Downloading gensim-4.3.3-cp311-cp311-manylinux_2_17_x86_64.manylinux2014_x86_64.whl (26.7 MB)\n",
      "\u001b[2K   \u001b[90m\u2501\u2501\u2501\u2501\u2501\u2501\u2501\u2501\u2501\u2501\u2501\u2501\u2501\u2501\u2501\u2501\u2501\u2501\u2501\u2501\u2501\u2501\u2501\u2501\u2501\u2501\u2501\u2501\u2501\u2501\u2501\u2501\u2501\u2501\u2501\u2501\u2501\u2501\u2501\u2501\u001b[0m \u001b[32m26.7/26.7 MB\u001b[0m \u001b[31m50.2 MB/s\u001b[0m eta \u001b[36m0:00:00\u001b[0m\n",
      "\u001b[?25hDownloading pyLDAvis-3.4.1-py3-none-any.whl (2.6 MB)\n",
      "\u001b[2K   \u001b[90m\u2501\u2501\u2501\u2501\u2501\u2501\u2501\u2501\u2501\u2501\u2501\u2501\u2501\u2501\u2501\u2501\u2501\u2501\u2501\u2501\u2501\u2501\u2501\u2501\u2501\u2501\u2501\u2501\u2501\u2501\u2501\u2501\u2501\u2501\u2501\u2501\u2501\u2501\u2501\u2501\u001b[0m \u001b[32m2.6/2.6 MB\u001b[0m \u001b[31m87.7 MB/s\u001b[0m eta \u001b[36m0:00:00\u001b[0m\n",
      "\u001b[?25hDownloading joblib-1.5.1-py3-none-any.whl (307 kB)\n",
      "\u001b[2K   \u001b[90m\u2501\u2501\u2501\u2501\u2501\u2501\u2501\u2501\u2501\u2501\u2501\u2501\u2501\u2501\u2501\u2501\u2501\u2501\u2501\u2501\u2501\u2501\u2501\u2501\u2501\u2501\u2501\u2501\u2501\u2501\u2501\u2501\u2501\u2501\u2501\u2501\u2501\u2501\u2501\u2501\u001b[0m \u001b[32m307.7/307.7 kB\u001b[0m \u001b[31m28.9 MB/s\u001b[0m eta \u001b[36m0:00:00\u001b[0m\n",
      "\u001b[?25hDownloading numpy-1.26.4-cp311-cp311-manylinux_2_17_x86_64.manylinux2014_x86_64.whl (18.3 MB)\n",
      "\u001b[2K   \u001b[90m\u2501\u2501\u2501\u2501\u2501\u2501\u2501\u2501\u2501\u2501\u2501\u2501\u2501\u2501\u2501\u2501\u2501\u2501\u2501\u2501\u2501\u2501\u2501\u2501\u2501\u2501\u2501\u2501\u2501\u2501\u2501\u2501\u2501\u2501\u2501\u2501\u2501\u2501\u2501\u2501\u001b[0m \u001b[32m18.3/18.3 MB\u001b[0m \u001b[31m107.9 MB/s\u001b[0m eta \u001b[36m0:00:00\u001b[0m\n",
      "\u001b[?25hDownloading pandas-2.2.3-cp311-cp311-manylinux_2_17_x86_64.manylinux2014_x86_64.whl (13.1 MB)\n",
      "\u001b[2K   \u001b[90m\u2501\u2501\u2501\u2501\u2501\u2501\u2501\u2501\u2501\u2501\u2501\u2501\u2501\u2501\u2501\u2501\u2501\u2501\u2501\u2501\u2501\u2501\u2501\u2501\u2501\u2501\u2501\u2501\u2501\u2501\u2501\u2501\u2501\u2501\u2501\u2501\u2501\u2501\u2501\u2501\u001b[0m \u001b[32m13.1/13.1 MB\u001b[0m \u001b[31m93.2 MB/s\u001b[0m eta \u001b[36m0:00:00\u001b[0m\n",
      "\u001b[?25hDownloading scikit_learn-1.6.1-cp311-cp311-manylinux_2_17_x86_64.manylinux2014_x86_64.whl (13.5 MB)\n",
      "\u001b[2K   \u001b[90m\u2501\u2501\u2501\u2501\u2501\u2501\u2501\u2501\u2501\u2501\u2501\u2501\u2501\u2501\u2501\u2501\u2501\u2501\u2501\u2501\u2501\u2501\u2501\u2501\u2501\u2501\u2501\u2501\u2501\u2501\u2501\u2501\u2501\u2501\u2501\u2501\u2501\u2501\u2501\u2501\u001b[0m \u001b[32m13.5/13.5 MB\u001b[0m \u001b[31m84.7 MB/s\u001b[0m eta \u001b[36m0:00:00\u001b[0m\n",
      "\u001b[?25hDownloading scipy-1.13.1-cp311-cp311-manylinux_2_17_x86_64.manylinux2014_x86_64.whl (38.6 MB)\n",
      "\u001b[2K   \u001b[90m\u2501\u2501\u2501\u2501\u2501\u2501\u2501\u2501\u2501\u2501\u2501\u2501\u2501\u2501\u2501\u2501\u2501\u2501\u2501\u2501\u2501\u2501\u2501\u2501\u2501\u2501\u2501\u2501\u2501\u2501\u2501\u2501\u2501\u2501\u2501\u2501\u2501\u2501\u2501\u2501\u001b[0m \u001b[32m38.6/38.6 MB\u001b[0m \u001b[31m12.8 MB/s\u001b[0m eta \u001b[36m0:00:00\u001b[0m\n",
      "\u001b[?25hDownloading smart_open-7.1.0-py3-none-any.whl (61 kB)\n",
      "\u001b[2K   \u001b[90m\u2501\u2501\u2501\u2501\u2501\u2501\u2501\u2501\u2501\u2501\u2501\u2501\u2501\u2501\u2501\u2501\u2501\u2501\u2501\u2501\u2501\u2501\u2501\u2501\u2501\u2501\u2501\u2501\u2501\u2501\u2501\u2501\u2501\u2501\u2501\u2501\u2501\u2501\u2501\u2501\u001b[0m \u001b[32m61.7/61.7 kB\u001b[0m \u001b[31m6.2 MB/s\u001b[0m eta \u001b[36m0:00:00\u001b[0m\n",
      "\u001b[?25hDownloading funcy-2.0-py2.py3-none-any.whl (30 kB)\n",
      "Downloading jinja2-3.1.6-py3-none-any.whl (134 kB)\n",
      "\u001b[2K   \u001b[90m\u2501\u2501\u2501\u2501\u2501\u2501\u2501\u2501\u2501\u2501\u2501\u2501\u2501\u2501\u2501\u2501\u2501\u2501\u2501\u2501\u2501\u2501\u2501\u2501\u2501\u2501\u2501\u2501\u2501\u2501\u2501\u2501\u2501\u2501\u2501\u2501\u2501\u2501\u2501\u2501\u001b[0m \u001b[32m134.9/134.9 kB\u001b[0m \u001b[31m14.3 MB/s\u001b[0m eta \u001b[36m0:00:00\u001b[0m\n",
      "\u001b[?25hDownloading numexpr-2.10.2-cp311-cp311-manylinux_2_27_x86_64.manylinux_2_28_x86_64.whl (398 kB)\n",
      "\u001b[2K   \u001b[90m\u2501\u2501\u2501\u2501\u2501\u2501\u2501\u2501\u2501\u2501\u2501\u2501\u2501\u2501\u2501\u2501\u2501\u2501\u2501\u2501\u2501\u2501\u2501\u2501\u2501\u2501\u2501\u2501\u2501\u2501\u2501\u2501\u2501\u2501\u2501\u2501\u2501\u2501\u2501\u2501\u001b[0m \u001b[32m398.9/398.9 kB\u001b[0m \u001b[31m35.9 MB/s\u001b[0m eta \u001b[36m0:00:00\u001b[0m\n",
      "\u001b[?25hDownloading setuptools-80.9.0-py3-none-any.whl (1.2 MB)\n",
      "\u001b[2K   \u001b[90m\u2501\u2501\u2501\u2501\u2501\u2501\u2501\u2501\u2501\u2501\u2501\u2501\u2501\u2501\u2501\u2501\u2501\u2501\u2501\u2501\u2501\u2501\u2501\u2501\u2501\u2501\u2501\u2501\u2501\u2501\u2501\u2501\u2501\u2501\u2501\u2501\u2501\u2501\u2501\u2501\u001b[0m \u001b[32m1.2/1.2 MB\u001b[0m \u001b[31m71.1 MB/s\u001b[0m eta \u001b[36m0:00:00\u001b[0m\n",
      "\u001b[?25hDownloading MarkupSafe-3.0.2-cp311-cp311-manylinux_2_17_x86_64.manylinux2014_x86_64.whl (23 kB)\n",
      "Downloading python_dateutil-2.9.0.post0-py2.py3-none-any.whl (229 kB)\n",
      "\u001b[2K   \u001b[90m\u2501\u2501\u2501\u2501\u2501\u2501\u2501\u2501\u2501\u2501\u2501\u2501\u2501\u2501\u2501\u2501\u2501\u2501\u2501\u2501\u2501\u2501\u2501\u2501\u2501\u2501\u2501\u2501\u2501\u2501\u2501\u2501\u2501\u2501\u2501\u2501\u2501\u2501\u2501\u2501\u001b[0m \u001b[32m229.9/229.9 kB\u001b[0m \u001b[31m22.0 MB/s\u001b[0m eta \u001b[36m0:00:00\u001b[0m\n",
      "\u001b[?25hDownloading pytz-2025.2-py2.py3-none-any.whl (509 kB)\n",
      "\u001b[2K   \u001b[90m\u2501\u2501\u2501\u2501\u2501\u2501\u2501\u2501\u2501\u2501\u2501\u2501\u2501\u2501\u2501\u2501\u2501\u2501\u2501\u2501\u2501\u2501\u2501\u2501\u2501\u2501\u2501\u2501\u2501\u2501\u2501\u2501\u2501\u2501\u2501\u2501\u2501\u2501\u2501\u2501\u001b[0m \u001b[32m509.2/509.2 kB\u001b[0m \u001b[31m42.7 MB/s\u001b[0m eta \u001b[36m0:00:00\u001b[0m\n",
      "\u001b[?25hDownloading threadpoolctl-3.6.0-py3-none-any.whl (18 kB)\n",
      "Downloading tzdata-2025.2-py2.py3-none-any.whl (347 kB)\n",
      "\u001b[2K   \u001b[90m\u2501\u2501\u2501\u2501\u2501\u2501\u2501\u2501\u2501\u2501\u2501\u2501\u2501\u2501\u2501\u2501\u2501\u2501\u2501\u2501\u2501\u2501\u2501\u2501\u2501\u2501\u2501\u2501\u2501\u2501\u2501\u2501\u2501\u2501\u2501\u2501\u2501\u2501\u2501\u2501\u001b[0m \u001b[32m347.8/347.8 kB\u001b[0m \u001b[31m34.0 MB/s\u001b[0m eta \u001b[36m0:00:00\u001b[0m\n",
      "\u001b[?25hDownloading wrapt-1.17.2-cp311-cp311-manylinux_2_5_x86_64.manylinux1_x86_64.manylinux_2_17_x86_64.manylinux2014_x86_64.whl (83 kB)\n",
      "\u001b[2K   \u001b[90m\u2501\u2501\u2501\u2501\u2501\u2501\u2501\u2501\u2501\u2501\u2501\u2501\u2501\u2501\u2501\u2501\u2501\u2501\u2501\u2501\u2501\u2501\u2501\u2501\u2501\u2501\u2501\u2501\u2501\u2501\u2501\u2501\u2501\u2501\u2501\u2501\u2501\u2501\u2501\u2501\u001b[0m \u001b[32m83.2/83.2 kB\u001b[0m \u001b[31m8.5 MB/s\u001b[0m eta \u001b[36m0:00:00\u001b[0m\n",
      "\u001b[?25hDownloading six-1.17.0-py2.py3-none-any.whl (11 kB)\n",
      "Installing collected packages: pytz, funcy, wrapt, tzdata, threadpoolctl, six, setuptools, numpy, MarkupSafe, joblib, smart-open, scipy, python-dateutil, numexpr, jinja2, scikit-learn, pandas, gensim, pyLDAvis\n",
      "  Attempting uninstall: pytz\n",
      "    Found existing installation: pytz 2025.2\n",
      "    Uninstalling pytz-2025.2:\n",
      "      Successfully uninstalled pytz-2025.2\n",
      "  Attempting uninstall: wrapt\n",
      "    Found existing installation: wrapt 1.17.2\n",
      "    Uninstalling wrapt-1.17.2:\n",
      "      Successfully uninstalled wrapt-1.17.2\n",
      "  Attempting uninstall: tzdata\n",
      "    Found existing installation: tzdata 2025.2\n",
      "    Uninstalling tzdata-2025.2:\n",
      "      Successfully uninstalled tzdata-2025.2\n",
      "  Attempting uninstall: threadpoolctl\n",
      "    Found existing installation: threadpoolctl 3.6.0\n",
      "    Uninstalling threadpoolctl-3.6.0:\n",
      "      Successfully uninstalled threadpoolctl-3.6.0\n",
      "  Attempting uninstall: six\n",
      "    Found existing installation: six 1.17.0\n",
      "    Uninstalling six-1.17.0:\n",
      "      Successfully uninstalled six-1.17.0\n",
      "  Attempting uninstall: setuptools\n",
      "    Found existing installation: setuptools 75.2.0\n",
      "    Uninstalling setuptools-75.2.0:\n",
      "      Successfully uninstalled setuptools-75.2.0\n",
      "  Attempting uninstall: numpy\n",
      "    Found existing installation: numpy 2.0.2\n",
      "    Uninstalling numpy-2.0.2:\n",
      "      Successfully uninstalled numpy-2.0.2\n",
      "  Attempting uninstall: MarkupSafe\n",
      "    Found existing installation: MarkupSafe 3.0.2\n",
      "    Uninstalling MarkupSafe-3.0.2:\n",
      "      Successfully uninstalled MarkupSafe-3.0.2\n",
      "  Attempting uninstall: joblib\n",
      "    Found existing installation: joblib 1.5.0\n",
      "    Uninstalling joblib-1.5.0:\n",
      "      Successfully uninstalled joblib-1.5.0\n",
      "  Attempting uninstall: smart-open\n",
      "    Found existing installation: smart-open 7.1.0\n",
      "    Uninstalling smart-open-7.1.0:\n",
      "      Successfully uninstalled smart-open-7.1.0\n",
      "  Attempting uninstall: scipy\n",
      "    Found existing installation: scipy 1.15.3\n",
      "    Uninstalling scipy-1.15.3:\n",
      "      Successfully uninstalled scipy-1.15.3\n",
      "  Attempting uninstall: python-dateutil\n",
      "    Found existing installation: python-dateutil 2.9.0.post0\n",
      "    Uninstalling python-dateutil-2.9.0.post0:\n",
      "      Successfully uninstalled python-dateutil-2.9.0.post0\n",
      "  Attempting uninstall: numexpr\n",
      "    Found existing installation: numexpr 2.10.2\n",
      "    Uninstalling numexpr-2.10.2:\n",
      "      Successfully uninstalled numexpr-2.10.2\n",
      "  Attempting uninstall: jinja2\n",
      "    Found existing installation: Jinja2 3.1.6\n",
      "    Uninstalling Jinja2-3.1.6:\n",
      "      Successfully uninstalled Jinja2-3.1.6\n",
      "  Attempting uninstall: scikit-learn\n",
      "    Found existing installation: scikit-learn 1.6.1\n",
      "    Uninstalling scikit-learn-1.6.1:\n",
      "      Successfully uninstalled scikit-learn-1.6.1\n",
      "  Attempting uninstall: pandas\n",
      "    Found existing installation: pandas 2.2.2\n",
      "    Uninstalling pandas-2.2.2:\n",
      "      Successfully uninstalled pandas-2.2.2\n",
      "\u001b[31mERROR: pip's dependency resolver does not currently take into account all the packages that are installed. This behaviour is the source of the following dependency conflicts.\n",
      "ipython 7.34.0 requires jedi>=0.16, which is not installed.\n",
      "google-colab 1.0.0 requires pandas==2.2.2, but you have pandas 2.2.3 which is incompatible.\n",
      "tsfresh 0.21.0 requires scipy>=1.14.0; python_version >= \"3.10\", but you have scipy 1.13.1 which is incompatible.\n",
      "thinc 8.3.6 requires numpy<3.0.0,>=2.0.0, but you have numpy 1.26.4 which is incompatible.\n",
      "torch 2.6.0+cu124 requires nvidia-cublas-cu12==12.4.5.8; platform_system == \"Linux\" and platform_machine == \"x86_64\", but you have nvidia-cublas-cu12 12.5.3.2 which is incompatible.\n",
      "torch 2.6.0+cu124 requires nvidia-cuda-cupti-cu12==12.4.127; platform_system == \"Linux\" and platform_machine == \"x86_64\", but you have nvidia-cuda-cupti-cu12 12.5.82 which is incompatible.\n",
      "torch 2.6.0+cu124 requires nvidia-cuda-nvrtc-cu12==12.4.127; platform_system == \"Linux\" and platform_machine == \"x86_64\", but you have nvidia-cuda-nvrtc-cu12 12.5.82 which is incompatible.\n",
      "torch 2.6.0+cu124 requires nvidia-cuda-runtime-cu12==12.4.127; platform_system == \"Linux\" and platform_machine == \"x86_64\", but you have nvidia-cuda-runtime-cu12 12.5.82 which is incompatible.\n",
      "torch 2.6.0+cu124 requires nvidia-cudnn-cu12==9.1.0.70; platform_system == \"Linux\" and platform_machine == \"x86_64\", but you have nvidia-cudnn-cu12 9.3.0.75 which is incompatible.\n",
      "torch 2.6.0+cu124 requires nvidia-cufft-cu12==11.2.1.3; platform_system == \"Linux\" and platform_machine == \"x86_64\", but you have nvidia-cufft-cu12 11.2.3.61 which is incompatible.\n",
      "torch 2.6.0+cu124 requires nvidia-curand-cu12==10.3.5.147; platform_system == \"Linux\" and platform_machine == \"x86_64\", but you have nvidia-curand-cu12 10.3.6.82 which is incompatible.\n",
      "torch 2.6.0+cu124 requires nvidia-cusolver-cu12==11.6.1.9; platform_system == \"Linux\" and platform_machine == \"x86_64\", but you have nvidia-cusolver-cu12 11.6.3.83 which is incompatible.\n",
      "torch 2.6.0+cu124 requires nvidia-cusparse-cu12==12.3.1.170; platform_system == \"Linux\" and platform_machine == \"x86_64\", but you have nvidia-cusparse-cu12 12.5.1.3 which is incompatible.\n",
      "torch 2.6.0+cu124 requires nvidia-nvjitlink-cu12==12.4.127; platform_system == \"Linux\" and platform_machine == \"x86_64\", but you have nvidia-nvjitlink-cu12 12.5.82 which is incompatible.\u001b[0m\u001b[31m\n",
      "\u001b[0mSuccessfully installed MarkupSafe-3.0.2 funcy-2.0 gensim-4.3.3 jinja2-3.1.6 joblib-1.5.1 numexpr-2.10.2 numpy-1.26.4 pandas-2.2.3 pyLDAvis-3.4.1 python-dateutil-2.9.0.post0 pytz-2025.2 scikit-learn-1.6.1 scipy-1.13.1 setuptools-80.9.0 six-1.17.0 smart-open-7.1.0 threadpoolctl-3.6.0 tzdata-2025.2 wrapt-1.17.2\n"
     ]
    },
    {
     "output_type": "display_data",
     "data": {
      "application/vnd.colab-display-data+json": {
       "pip_warning": {
        "packages": [
         "_distutils_hack",
         "dateutil",
         "markupsafe",
         "numexpr",
         "pkg_resources",
         "pytz",
         "six"
        ]
       },
       "id": "df65ff98c9a04668975b3118efd4644c"
      }
     },
     "metadata": {}
    }
   ]
  },
  {
   "cell_type": "code",
   "source": [
    "import re\n",
    "import numpy as np\n",
    "import pandas as pd\n",
    "from pprint import pprint\n",
    "\n",
    "# Gensim\n",
    "import gensim\n",
    "import gensim.corpora as corpora\n",
    "from gensim.utils import simple_preprocess\n",
    "from gensim.models import CoherenceModel\n",
    "\n",
    "# spacy for lemmatization\n",
    "import spacy\n",
    "import nltk\n",
    "\n",
    "# Plotting tools\n",
    "import pyLDAvis\n",
    "import pyLDAvis.gensim  # don't skip this\n",
    "import matplotlib.pyplot as plt\n",
    "%matplotlib inline\n",
    "\n",
    "# Enable logging for gensim - optional\n",
    "import logging\n",
    "logging.basicConfig(format='%(asctime)s : %(levelname)s : %(message)s', level=logging.ERROR)\n",
    "\n",
    "import warnings\n",
    "warnings.filterwarnings(\"ignore\",category=DeprecationWarning)"
   ],
   "metadata": {
    "id": "90l3-FbEYQvG"
   },
   "execution_count": 5,
   "outputs": []
  },
  {
   "cell_type": "code",
   "source": [
    "nltk.download('stopwords')\n",
    "nltk.download('punkt')\n",
    "nltk.download('wordnet')\n",
    "nltk.download('averaged_perceptron_tagger')\n",
    "nltk.download('punkt_tab')"
   ],
   "metadata": {
    "id": "sUM8AcyBahu8",
    "outputId": "a3219dfd-630b-48f3-cd2f-a0a1837fdbd3",
    "colab": {
     "base_uri": "https://localhost:8080/"
    }
   },
   "execution_count": 6,
   "outputs": [
    {
     "output_type": "stream",
     "name": "stderr",
     "text": [
      "[nltk_data] Downloading package stopwords to /root/nltk_data...\n",
      "[nltk_data]   Unzipping corpora/stopwords.zip.\n",
      "[nltk_data] Downloading package punkt to /root/nltk_data...\n",
      "[nltk_data]   Unzipping tokenizers/punkt.zip.\n",
      "[nltk_data] Downloading package wordnet to /root/nltk_data...\n",
      "[nltk_data] Downloading package averaged_perceptron_tagger to\n",
      "[nltk_data]     /root/nltk_data...\n",
      "[nltk_data]   Unzipping taggers/averaged_perceptron_tagger.zip.\n",
      "[nltk_data] Downloading package punkt_tab to /root/nltk_data...\n",
      "[nltk_data]   Unzipping tokenizers/punkt_tab.zip.\n"
     ]
    },
    {
     "output_type": "execute_result",
     "data": {
      "text/plain": [
       "True"
      ]
     },
     "metadata": {},
     "execution_count": 6
    }
   ]
  },
  {
   "cell_type": "code",
   "source": [
    "from nltk.corpus import stopwords\n",
    "\n",
    "\n",
    "stop_words = stopwords.words('english')\n",
    "stop_words.extend(['from', 'subject', 're', 'edu', 'use', 'http', 'www', ])"
   ],
   "metadata": {
    "id": "rAf4jnF4aOdZ"
   },
   "execution_count": 30,
   "outputs": []
  },
  {
   "cell_type": "code",
   "source": [
    "df = pd.read_csv(NOMBRE_ARCHIVO)"
   ],
   "metadata": {
    "id": "11rf15WQaqza"
   },
   "execution_count": 12,
   "outputs": []
  },
  {
   "cell_type": "code",
   "source": [
    "data = df.body.values.tolist()\n",
    "\n",
    "# 1. Eliminar direcciones de correo electr\u00f3nico\n",
    "data = [re.sub(r'\\S*@\\S*\\s?', '', sent) for sent in data]\n",
    "\n",
    "# 2. Eliminar URLs\n",
    "data = [re.sub(r'http\\S+|www\\S+|https\\S+', '', sent, flags=re.MULTILINE) for sent in data]\n",
    "\n",
    "# 3. Eliminar saltos de l\u00ednea y normalizar espacios\n",
    "data = [sent.replace('\\n', ' ').replace('\\r', ' ') for sent in data]\n",
    "data = [' '.join(sent.split()) for sent in data]\n",
    "\n",
    "# 4. Eliminar comillas simples\n",
    "data = [sent.replace(\"'\", \"\") for sent in data]\n",
    "\n",
    "# 5. Eliminar caracteres especiales, mantener solo letras y espacios\n",
    "data = [re.sub(r'[^a-zA-Z\\s]', '', sent) for sent in data]\n",
    "\n",
    "# 6. Eliminar n\u00fameros sueltos\n",
    "data = [re.sub(r'\\b\\d+\\b', '', sent) for sent in data]\n",
    "\n",
    "# 7. Eliminar c\u00f3digos alfanum\u00e9ricos largos predominantemente num\u00e9ricos\n",
    "data = [\n",
    "    ' '.join([\n",
    "        word for word in sent.split()\n",
    "        if not (len(word) > 3 and any(char.isdigit() for char in word) and not any(char.isalpha() for char in word.replace('.', '')))\n",
    "    ])\n",
    "    for sent in data\n",
    "]\n",
    "\n",
    "data = [\n",
    "    re.sub(\n",
    "        r'\\b[a-z]*\\d+[a-z\\d]*\\b',\n",
    "        lambda m: '' if len(m.group(0)) > 5 and sum(c.isdigit() for c in m.group(0)) > sum(c.isalpha() for c in m.group(0)) / 2 else m.group(0),\n",
    "        sent\n",
    "    )\n",
    "    for sent in data\n",
    "]\n",
    "\n"
   ],
   "metadata": {
    "id": "7zEr26g7a2qz"
   },
   "execution_count": 13,
   "outputs": []
  },
  {
   "cell_type": "code",
   "source": [
    "pprint(df['body'][1])\n",
    "print('\\n')\n",
    "pprint(data[1])"
   ],
   "metadata": {
    "id": "iXIXvsgscMIv",
    "outputId": "8a972654-8dfe-47a2-a980-e52b9835db2f",
    "colab": {
     "base_uri": "https://localhost:8080/"
    }
   },
   "execution_count": 25,
   "outputs": [
    {
     "output_type": "stream",
     "name": "stdout",
     "text": [
      "('conquer your fears and find out exactly what a life without limits feels '\n",
      " 'like million dollar self empowerment program generate 500 1 500 and 3 500 to '\n",
      " 'your door simply by returning phone calls empower you to share gifts and '\n",
      " 'realize your ultimate fulfillment allow you to help others with their needs '\n",
      " 'as well as yourself allow you the opportunity to create a six figure '\n",
      " 'lifestyle in the next 6 12 months you will not have to sell explain or '\n",
      " 'convince anyone of anything our program will do this for you if you can '\n",
      " 'return a phone call this is for you anyone can do this there are no products '\n",
      " 'for you to buy in this program ever so pick up that phone and call the info '\n",
      " 'line now to get further details without 0bligation of any kind 1 8oo 57o '\n",
      " '1895 regards maybe this is not something you are ready for just yet then '\n",
      " 'reply back with your desire to not know anymore')\n",
      "\n",
      "\n",
      "('conquer your fears and find out exactly what a life without limits feels '\n",
      " 'like million dollar self empowerment program generate and to your door '\n",
      " 'simply by returning phone calls empower you to share gifts and realize your '\n",
      " 'ultimate fulfillment allow you to help others with their needs as well as '\n",
      " 'yourself allow you the opportunity to create a six figure lifestyle in the '\n",
      " 'next months you will not have to sell explain or convince anyone of anything '\n",
      " 'our program will do this for you if you can return a phone call this is for '\n",
      " 'you anyone can do this there are no products for you to buy in this program '\n",
      " 'ever so pick up that phone and call the info line now to get further details '\n",
      " 'without bligation of any kind oo o regards maybe this is not something you '\n",
      " 'are ready for just yet then reply back with your desire to not know anymore')\n"
     ]
    }
   ]
  },
  {
   "cell_type": "code",
   "source": [
    "def sent_to_words(sentences):\n",
    "    for sentence in sentences:\n",
    "        yield(gensim.utils.simple_preprocess(str(sentence), deacc=True))  # deacc=True removes punctuations\n",
    "\n",
    "data_words = list(sent_to_words(data))\n",
    "\n",
    "print(data_words[1])"
   ],
   "metadata": {
    "id": "gsb4Y31ecNya",
    "outputId": "ce10588d-e9ce-4600-fc90-b42736a5aae6",
    "colab": {
     "base_uri": "https://localhost:8080/"
    }
   },
   "execution_count": 28,
   "outputs": [
    {
     "output_type": "stream",
     "name": "stdout",
     "text": [
      "['conquer', 'your', 'fears', 'and', 'find', 'out', 'exactly', 'what', 'life', 'without', 'limits', 'feels', 'like', 'million', 'dollar', 'self', 'empowerment', 'program', 'generate', 'and', 'to', 'your', 'door', 'simply', 'by', 'returning', 'phone', 'calls', 'empower', 'you', 'to', 'share', 'gifts', 'and', 'realize', 'your', 'ultimate', 'fulfillment', 'allow', 'you', 'to', 'help', 'others', 'with', 'their', 'needs', 'as', 'well', 'as', 'yourself', 'allow', 'you', 'the', 'opportunity', 'to', 'create', 'six', 'figure', 'lifestyle', 'in', 'the', 'next', 'months', 'you', 'will', 'not', 'have', 'to', 'sell', 'explain', 'or', 'convince', 'anyone', 'of', 'anything', 'our', 'program', 'will', 'do', 'this', 'for', 'you', 'if', 'you', 'can', 'return', 'phone', 'call', 'this', 'is', 'for', 'you', 'anyone', 'can', 'do', 'this', 'there', 'are', 'no', 'products', 'for', 'you', 'to', 'buy', 'in', 'this', 'program', 'ever', 'so', 'pick', 'up', 'that', 'phone', 'and', 'call', 'the', 'info', 'line', 'now', 'to', 'get', 'further', 'details', 'without', 'bligation', 'of', 'any', 'kind', 'oo', 'regards', 'maybe', 'this', 'is', 'not', 'something', 'you', 'are', 'ready', 'for', 'just', 'yet', 'then', 'reply', 'back', 'with', 'your', 'desire', 'to', 'not', 'know', 'anymore']\n"
     ]
    }
   ]
  },
  {
   "cell_type": "code",
   "source": [
    "# Build the bigram and trigram models\n",
    "bigram = gensim.models.Phrases(data_words, min_count=5, threshold=100) # higher threshold fewer phrases.\n",
    "trigram = gensim.models.Phrases(bigram[data_words], threshold=100)\n",
    "\n",
    "# Faster way to get a sentence clubbed as a trigram/bigram\n",
    "bigram_mod = gensim.models.phrases.Phraser(bigram)\n",
    "trigram_mod = gensim.models.phrases.Phraser(trigram)\n",
    "\n",
    "# See trigram example\n",
    "print(trigram_mod[bigram_mod[data_words[0]]])"
   ],
   "metadata": {
    "id": "-SPtXav2enJ0",
    "outputId": "5323d98e-f6c7-4195-fc87-b58e8fb7c047",
    "colab": {
     "base_uri": "https://localhost:8080/"
    }
   },
   "execution_count": 29,
   "outputs": [
    {
     "output_type": "stream",
     "name": "stdout",
     "text": [
      "['high_quality', 'pills', 'canadian_pharmacy', 'presents', 'cheapest', 'viagra_pills', 'online', 'buy', 'quality', 'pills', 'without', 'leaving', 'your', 'computer', 'and', 'we', 'll', 'send', 'them', 'directly', 'to', 'your', 'home', 'no', 'prescriptions', 'check', 'it', 'out', 'it', 'ten', 'times', 'cheaper', 'and', 'same', 'quality', 'click', 'to', 'buy', 'viagra', 'for', 'the', 'lowest_price', 'on', 'the', 'web']\n"
     ]
    }
   ]
  },
  {
   "cell_type": "code",
   "source": [
    "# Define functions for stopwords, bigrams, trigrams and lemmatization\n",
    "def remove_stopwords(texts):\n",
    "    return [[word for word in simple_preprocess(str(doc)) if word not in stop_words] for doc in texts]\n",
    "\n",
    "def make_bigrams(texts):\n",
    "    return [bigram_mod[doc] for doc in texts]\n",
    "\n",
    "def make_trigrams(texts):\n",
    "    return [trigram_mod[bigram_mod[doc]] for doc in texts]\n",
    "\n",
    "def lemmatization(texts, allowed_postags=['NOUN', 'ADJ', 'VERB', 'ADV']):\n",
    "    \"\"\"https://spacy.io/api/annotation\"\"\"\n",
    "    texts_out = []\n",
    "    for sent in texts:\n",
    "        doc = nlp(\" \".join(sent))\n",
    "        texts_out.append([token.lemma_ for token in doc if token.pos_ in allowed_postags])\n",
    "    return texts_out"
   ],
   "metadata": {
    "id": "75ennqQxeoKF"
   },
   "execution_count": 31,
   "outputs": []
  },
  {
   "cell_type": "code",
   "source": [
    "# Remove Stop Words\n",
    "data_words_nostops = remove_stopwords(data_words)\n",
    "\n",
    "# Form Bigrams\n",
    "data_words_bigrams = make_bigrams(data_words_nostops)\n",
    "\n",
    "# Initialize spacy 'en' model, keeping only tagger component (for efficiency)\n",
    "# python3 -m spacy download en\n",
    "nlp = spacy.load('en_core_web_sm', disable=['parser', 'ner'])\n",
    "\n",
    "# Do lemmatization keeping only noun, adj, vb, adv\n",
    "data_lemmatized = lemmatization(data_words_bigrams, allowed_postags=['NOUN', 'ADJ', 'VERB', 'ADV'])\n",
    "\n",
    "print(data_lemmatized[:1])"
   ],
   "metadata": {
    "id": "lVs9CsKrey0D",
    "outputId": "e656ae8e-2318-404a-859b-d5271d844039",
    "colab": {
     "base_uri": "https://localhost:8080/"
    }
   },
   "execution_count": 33,
   "outputs": [
    {
     "output_type": "stream",
     "name": "stdout",
     "text": [
      "[['high_quality', 'pill', 'canadian_pharmacy', 'present', 'cheap', 'pill', 'online', 'buy', 'quality', 'pill', 'leave', 'computer', 'send', 'directly', 'home', 'prescription', 'check', 'time', 'cheap', 'quality', 'click', 'buy', 'viagra', 'low', 'price', 'web']]\n"
     ]
    }
   ]
  },
  {
   "cell_type": "code",
   "source": [
    "# Create Dictionary\n",
    "id2word = corpora.Dictionary(data_lemmatized)\n",
    "\n",
    "# Create Corpus\n",
    "texts = data_lemmatized\n",
    "\n",
    "# Term Document Frequency\n",
    "corpus = [id2word.doc2bow(text) for text in texts]\n",
    "\n",
    "# View\n",
    "print(corpus[:1])"
   ],
   "metadata": {
    "id": "pI5qYf5xe_TW",
    "outputId": "e0ab4207-c024-4242-d010-dfae6bd687d4",
    "colab": {
     "base_uri": "https://localhost:8080/"
    }
   },
   "execution_count": 34,
   "outputs": [
    {
     "output_type": "stream",
     "name": "stdout",
     "text": [
      "[[(0, 2), (1, 1), (2, 2), (3, 1), (4, 1), (5, 1), (6, 1), (7, 1), (8, 1), (9, 1), (10, 1), (11, 1), (12, 3), (13, 1), (14, 1), (15, 1), (16, 2), (17, 1), (18, 1), (19, 1), (20, 1)]]\n"
     ]
    }
   ]
  },
  {
   "cell_type": "code",
   "source": [
    "lda_model = gensim.models.ldamodel.LdaModel(corpus=corpus,\n",
    "                                           id2word=id2word,\n",
    "                                           num_topics=20,\n",
    "                                           random_state=100,\n",
    "                                           update_every=1,\n",
    "                                           chunksize=100,\n",
    "                                           passes=10,\n",
    "                                           alpha='auto',\n",
    "                                           per_word_topics=True)"
   ],
   "metadata": {
    "id": "KhTh1PkUfL5s"
   },
   "execution_count": 35,
   "outputs": []
  },
  {
   "cell_type": "code",
   "source": [
    "pprint(lda_model.print_topics())\n",
    "doc_lda = lda_model[corpus]"
   ],
   "metadata": {
    "id": "4CEbtNFSfOOp",
    "outputId": "a0944239-81ed-4526-fe97-d111ca7f355d",
    "colab": {
     "base_uri": "https://localhost:8080/"
    }
   },
   "execution_count": 36,
   "outputs": [
    {
     "output_type": "stream",
     "name": "stdout",
     "text": [
      "[(0,\n",
      "  '0.205*\"due\" + 0.097*\"like\" + 0.050*\"seek\" + 0.041*\"instantly\" + '\n",
      "  '0.039*\"hand\" + 0.028*\"ever\" + 0.026*\"relate\" + 0.019*\"demand\" + '\n",
      "  '0.014*\"human\" + 0.013*\"light\"'),\n",
      " (1,\n",
      "  '0.071*\"help\" + 0.065*\"write\" + 0.047*\"request\" + 0.041*\"business\" + '\n",
      "  '0.040*\"note\" + 0.037*\"number\" + 0.037*\"page\" + 0.035*\"process\" + '\n",
      "  '0.034*\"full\" + 0.028*\"available\"'),\n",
      " (2,\n",
      "  '0.093*\"hour\" + 0.070*\"private\" + 0.066*\"recent\" + 0.064*\"ensure\" + '\n",
      "  '0.060*\"read\" + 0.060*\"manage\" + 0.040*\"minute\" + 0.038*\"privacy\" + '\n",
      "  '0.037*\"letter\" + 0.035*\"health\"'),\n",
      " (3,\n",
      "  '0.069*\"get\" + 0.044*\"time\" + 0.042*\"make\" + 0.039*\"need\" + 0.035*\"want\" + '\n",
      "  '0.030*\"see\" + 0.030*\"take\" + 0.029*\"know\" + 0.029*\"use\" + 0.025*\"give\"'),\n",
      " (4,\n",
      "  '0.093*\"support\" + 0.065*\"start\" + 0.049*\"come\" + 0.045*\"part\" + 0.045*\"try\" '\n",
      "  '+ 0.041*\"next\" + 0.040*\"check\" + 0.036*\"base\" + 0.024*\"still\" + 0.023*\"m\"'),\n",
      " (5,\n",
      "  '0.123*\"enjoy\" + 0.079*\"friend\" + 0.053*\"stand\" + 0.045*\"accord\" + '\n",
      "  '0.045*\"organization\" + 0.030*\"model\" + 0.022*\"relative\" + '\n",
      "  '0.008*\"affordable\" + 0.008*\"ton\" + 0.007*\"friendly\"'),\n",
      " (6,\n",
      "  '0.091*\"email\" + 0.061*\"receive\" + 0.059*\"user\" + 0.055*\"click\" + '\n",
      "  '0.034*\"address\" + 0.034*\"unsubscribe\" + 0.032*\"team\" + 0.030*\"thank\" + '\n",
      "  '0.028*\"information\" + 0.027*\"contact\"'),\n",
      " (7,\n",
      "  '0.145*\"customer\" + 0.089*\"offer\" + 0.084*\"money\" + 0.070*\"secure\" + '\n",
      "  '0.070*\"order\" + 0.051*\"online\" + 0.036*\"product\" + 0.031*\"special\" + '\n",
      "  '0.030*\"pay\" + 0.024*\"purchase\"'),\n",
      " (8,\n",
      "  '0.186*\"reward\" + 0.106*\"system\" + 0.096*\"country\" + 0.058*\"experience\" + '\n",
      "  '0.053*\"sure\" + 0.037*\"copyright\" + 0.037*\"hear\" + 0.037*\"release\" + '\n",
      "  '0.032*\"individual\" + 0.027*\"present\"'),\n",
      " (9,\n",
      "  '0.178*\"web\" + 0.107*\"inform\" + 0.065*\"problem\" + 0.050*\"accept\" + '\n",
      "  '0.036*\"short\" + 0.036*\"confirmation\" + 0.031*\"put\" + 0.031*\"application\" + '\n",
      "  '0.028*\"government\" + 0.026*\"loan\"'),\n",
      " (10,\n",
      "  '0.152*\"org\" + 0.082*\"open\" + 0.062*\"action\" + 0.059*\"project\" + '\n",
      "  '0.047*\"sender\" + 0.044*\"status\" + 0.035*\"quick\" + 0.031*\"fail\" + '\n",
      "  '0.024*\"recipient\" + 0.023*\"i\"'),\n",
      " (11,\n",
      "  '0.447*\"account\" + 0.067*\"access\" + 0.043*\"opportunity\" + 0.038*\"assistance\" '\n",
      "  '+ 0.037*\"sign\" + 0.026*\"datum\" + 0.021*\"deliver\" + 0.020*\"communication\" + '\n",
      "  '0.018*\"value\" + 0.018*\"forward\"'),\n",
      " (12,\n",
      "  '0.156*\"new\" + 0.117*\"dear\" + 0.073*\"security\" + 0.045*\"date\" + '\n",
      "  '0.034*\"attention\" + 0.032*\"sincerely\" + 0.027*\"network\" + 0.023*\"risk\" + '\n",
      "  '0.023*\"partner\" + 0.022*\"assist\"'),\n",
      " (13,\n",
      "  '0.166*\"claim\" + 0.061*\"share\" + 0.061*\"program\" + 0.042*\"file\" + '\n",
      "  '0.035*\"office\" + 0.033*\"ticket\" + 0.032*\"notification\" + 0.030*\"total\" + '\n",
      "  '0.029*\"winner\" + 0.028*\"sum\"'),\n",
      " (14,\n",
      "  '0.379*\"update\" + 0.083*\"protect\" + 0.077*\"issue\" + 0.073*\"join\" + '\n",
      "  '0.064*\"delivery\" + 0.026*\"obtain\" + 0.015*\"maintain\" + 0.014*\"million\" + '\n",
      "  '0.010*\"blacklist\" + 0.010*\"expert\"'),\n",
      " (15,\n",
      "  '0.188*\"soon\" + 0.157*\"question\" + 0.080*\"net\" + 0.041*\"window\" + '\n",
      "  '0.032*\"gain\" + 0.031*\"care\" + 0.024*\"huge\" + 0.018*\"finish\" + '\n",
      "  '0.017*\"certain\" + 0.017*\"unit\"'),\n",
      " (16,\n",
      "  '0.101*\"amount\" + 0.083*\"wait\" + 0.072*\"mind\" + 0.045*\"build\" + 0.040*\"word\" '\n",
      "  '+ 0.037*\"design\" + 0.028*\"several\" + 0.019*\"chat\" + 0.017*\"dead\" + '\n",
      "  '0.015*\"valuable\"'),\n",
      " (17,\n",
      "  '0.183*\"activity\" + 0.099*\"company\" + 0.077*\"win\" + 0.067*\"add\" + '\n",
      "  '0.066*\"news\" + 0.039*\"hold\" + 0.027*\"top\" + 0.026*\"big\" + 0.020*\"already\" + '\n",
      "  '0.019*\"talk\"'),\n",
      " (18,\n",
      "  '0.102*\"feature\" + 0.099*\"participate\" + 0.071*\"month\" + 0.064*\"download\" + '\n",
      "  '0.047*\"sorry\" + 0.044*\"recommend\" + 0.031*\"extend\" + 0.027*\"test\" + '\n",
      "  '0.027*\"highly\" + 0.018*\"explain\"'),\n",
      " (19,\n",
      "  '0.134*\"platform\" + 0.065*\"lead\" + 0.063*\"plan\" + 0.058*\"directly\" + '\n",
      "  '0.057*\"book\" + 0.044*\"different\" + 0.034*\"desk\" + 0.031*\"reference\" + '\n",
      "  '0.031*\"method\" + 0.025*\"press\"')]\n"
     ]
    }
   ]
  },
  {
   "cell_type": "code",
   "source": [
    "print('\\nPerplexity: ', lda_model.log_perplexity(corpus))  # a measure of how good the model is. lower the better.\n",
    "\n",
    "# Compute Coherence Score\n",
    "coherence_model_lda = CoherenceModel(model=lda_model, texts=data_lemmatized, dictionary=id2word, coherence='c_v')\n",
    "coherence_lda = coherence_model_lda.get_coherence()\n",
    "print('\\nCoherence Score: ', coherence_lda)"
   ],
   "metadata": {
    "id": "zMsdmkBkfXvS",
    "outputId": "d3fa074a-65ec-46c9-bf1f-c4932372f369",
    "colab": {
     "base_uri": "https://localhost:8080/"
    }
   },
   "execution_count": 37,
   "outputs": [
    {
     "output_type": "stream",
     "name": "stdout",
     "text": [
      "\n",
      "Perplexity:  -17.75553428366692\n",
      "\n",
      "Coherence Score:  0.34719967265905727\n"
     ]
    }
   ]
  },
  {
   "cell_type": "code",
   "source": [
    "pyLDAvis.enable_notebook()\n",
    "vis = pyLDAvis.gensim.prepare(lda_model, corpus, id2word)\n",
    "vis"
   ],
   "metadata": {
    "id": "eDm7c-EffZaT",
    "outputId": "b3496835-c48f-4c91-b490-0f829f596a57",
    "colab": {
     "base_uri": "https://localhost:8080/",
     "height": 881
    }
   },
   "execution_count": 38,
   "outputs": [
    {
     "output_type": "execute_result",
     "data": {
      "text/plain": [
       "PreparedData(topic_coordinates=              x         y  topics  cluster       Freq\n",
       "topic                                                \n",
       "6      0.353721 -0.208786       1        1  25.835774\n",
       "3      0.267587 -0.121241       2        1  18.117170\n",
       "1      0.158506 -0.031933       3        1   9.316458\n",
       "4      0.065594  0.063184       4        1   6.145461\n",
       "12     0.111846  0.248338       5        1   6.140293\n",
       "7      0.064376  0.136470       6        1   4.899267\n",
       "11     0.115767  0.239069       7        1   4.757194\n",
       "13     0.030525  0.034282       8        1   3.623924\n",
       "17    -0.016067 -0.002727       9        1   3.292686\n",
       "8     -0.012682 -0.000542      10        1   2.953157\n",
       "10    -0.086367 -0.031082      11        1   2.431131\n",
       "2     -0.080803 -0.029626      12        1   2.057143\n",
       "9     -0.102717 -0.034806      13        1   1.791015\n",
       "15    -0.121365 -0.038023      14        1   1.531721\n",
       "14    -0.069513 -0.025023      15        1   1.514761\n",
       "16    -0.126677 -0.038803      16        1   1.506884\n",
       "0     -0.124330 -0.038471      17        1   1.216745\n",
       "19    -0.129220 -0.039066      18        1   1.170117\n",
       "18    -0.137687 -0.039976      19        1   1.162994\n",
       "5     -0.160494 -0.041238      20        1   0.536106, topic_info=             Term          Freq         Total Category  logprob  loglift\n",
       "358       account  11480.000000  11480.000000  Default  30.0000  30.0000\n",
       "144         email  12698.000000  12698.000000  Default  29.0000  29.0000\n",
       "439           new   5187.000000   5187.000000  Default  28.0000  28.0000\n",
       "965        update   3099.000000   3099.000000  Default  27.0000  27.0000\n",
       "337      customer   3845.000000   3845.000000  Default  26.0000  26.0000\n",
       "...           ...           ...           ...      ...      ...      ...\n",
       "2840      version      0.046717      1.579691  Topic20 -11.0347   1.7077\n",
       "3334       wallet      0.046720      1.580707  Topic20 -11.0346   1.7071\n",
       "2567         late      0.046717      1.579795  Topic20 -11.0347   1.7077\n",
       "2163  transaction      0.046717      1.579874  Topic20 -11.0347   1.7076\n",
       "2250       verify      0.046717      1.580455  Topic20 -11.0347   1.7072\n",
       "\n",
       "[719 rows x 6 columns], token_table=      Topic      Freq        Term\n",
       "term                             \n",
       "589       2  0.998860        able\n",
       "907      20  0.900501    absolute\n",
       "966      13  0.996055      accept\n",
       "1528      9  0.979780  acceptable\n",
       "1517      7  0.998887      access\n",
       "...     ...       ...         ...\n",
       "296       3  0.999626       write\n",
       "249       2  0.999522        year\n",
       "977      13  0.969337   yesterday\n",
       "76        4  0.998130         yet\n",
       "1326      9  0.983969       young\n",
       "\n",
       "[558 rows x 3 columns], R=30, lambda_step=0.01, plot_opts={'xlab': 'PC1', 'ylab': 'PC2'}, topic_order=[7, 4, 2, 5, 13, 8, 12, 14, 18, 9, 11, 3, 10, 16, 15, 17, 1, 20, 19, 6])"
      ],
      "text/html": [
       "\n",
       "<link rel=\"stylesheet\" type=\"text/css\" href=\"https://cdn.jsdelivr.net/gh/bmabey/pyLDAvis@3.4.0/pyLDAvis/js/ldavis.v1.0.0.css\">\n",
       "\n",
       "\n",
       "<div id=\"ldavis_el25591377276679107206462457389\" style=\"background-color:white;\"></div>\n",
       "<script type=\"text/javascript\">\n",
       "\n",
       "var ldavis_el25591377276679107206462457389_data = {\"mdsDat\": {\"x\": [0.3537213364651795, 0.2675869452095873, 0.1585062795913068, 0.06559402604289907, 0.11184571591345152, 0.06437627467737128, 0.11576735965242602, 0.03052491970203287, -0.016067151578436863, -0.012681957566374802, -0.08636724809659606, -0.08080279199468222, -0.1027173830714654, -0.12136540741713965, -0.0695132576598089, -0.12667714897006016, -0.124329614505117, -0.12921960000826824, -0.1376868345705936, -0.1604944618157112], \"y\": [-0.2087856301624384, -0.12124068595903074, -0.03193341328306234, 0.06318410460124398, 0.24833785008659717, 0.1364701565156337, 0.23906924746097494, 0.03428239294377207, -0.002727285741511566, -0.0005419721146255011, -0.03108166122866797, -0.02962649866183601, -0.034806236797468804, -0.03802258555818428, -0.02502327533146795, -0.03880311140717945, -0.03847099049703037, -0.039066321049138056, -0.03997592352359245, -0.041238160292986756], \"topics\": [1, 2, 3, 4, 5, 6, 7, 8, 9, 10, 11, 12, 13, 14, 15, 16, 17, 18, 19, 20], \"cluster\": [1, 1, 1, 1, 1, 1, 1, 1, 1, 1, 1, 1, 1, 1, 1, 1, 1, 1, 1, 1], \"Freq\": [25.835773984586886, 18.11716994509038, 9.316457606923572, 6.145460787455639, 6.14029318352048, 4.899266578166296, 4.757193616945534, 3.623924326901673, 3.292686454367766, 2.9531574993928293, 2.4311306701850435, 2.057143122298206, 1.7910152088822888, 1.531720869223763, 1.5147607914336254, 1.5068837855131063, 1.2167445980201905, 1.1701169596861638, 1.1629938720470465, 0.5361061393595055]}, \"tinfo\": {\"Term\": [\"account\", \"email\", \"new\", \"update\", \"customer\", \"get\", \"receive\", \"activity\", \"user\", \"dear\", \"claim\", \"reward\", \"click\", \"support\", \"help\", \"write\", \"org\", \"time\", \"offer\", \"web\", \"make\", \"security\", \"money\", \"need\", \"soon\", \"address\", \"unsubscribe\", \"company\", \"team\", \"start\", \"email\", \"receive\", \"user\", \"click\", \"address\", \"unsubscribe\", \"team\", \"information\", \"contact\", \"send\", \"message\", \"mail\", \"detail\", \"com\", \"change\", \"free\", \"report\", \"reply\", \"follow\", \"payment\", \"name\", \"link\", \"view\", \"today\", \"register\", \"complete\", \"provide\", \"rights_reserve\", \"list\", \"require\", \"service\", \"thank\", \"regard\", \"day\", \"get\", \"time\", \"make\", \"need\", \"want\", \"see\", \"take\", \"know\", \"keep\", \"good\", \"year\", \"also\", \"go\", \"work\", \"well\", \"let\", \"back\", \"dollar\", \"ve\", \"use\", \"right\", \"look\", \"say\", \"world\", \"able\", \"lose\", \"hope\", \"site\", \"benefit\", \"matter\", \"find\", \"give\", \"thank\", \"help\", \"write\", \"request\", \"business\", \"note\", \"number\", \"process\", \"full\", \"ready\", \"way\", \"choose\", \"safe\", \"phone\", \"call\", \"reach\", \"show\", \"great\", \"avoid\", \"end\", \"remove\", \"easy\", \"reason\", \"become\", \"daily\", \"mailing_list\", \"allow\", \"appear\", \"purpose\", \"discuss\", \"moment\", \"available\", \"page\", \"thank\", \"support\", \"start\", \"come\", \"part\", \"try\", \"next\", \"check\", \"base\", \"still\", \"m\", \"leave\", \"never\", \"mean\", \"set\", \"play\", \"yet\", \"life\", \"return\", \"line\", \"collect\", \"behalf\", \"course\", \"trouble\", \"save\", \"main\", \"volume\", \"potential\", \"option\", \"extra\", \"generate\", \"store\", \"new\", \"security\", \"date\", \"attention\", \"sincerely\", \"network\", \"risk\", \"partner\", \"assist\", \"client\", \"learn\", \"personal\", \"however\", \"confidential\", \"meet\", \"decide\", \"high\", \"answer\", \"profile\", \"fun\", \"create\", \"search\", \"photo\", \"incredible\", \"telephone\", \"unique\", \"single\", \"shipping\", \"level\", \"area\", \"dear\", \"visit\", \"customer\", \"offer\", \"money\", \"secure\", \"order\", \"product\", \"special\", \"pay\", \"purchase\", \"discount\", \"online\", \"computer\", \"price\", \"internet\", \"buy\", \"sale\", \"worth\", \"cost\", \"period\", \"guarantee\", \"marketing\", \"pill\", \"commit\", \"shop\", \"low\", \"summary\", \"skill\", \"waiting\", \"camera\", \"quickly\", \"visit\", \"account\", \"access\", \"opportunity\", \"assistance\", \"sign\", \"datum\", \"deliver\", \"communication\", \"value\", \"forward\", \"event\", \"understand\", \"power\", \"newsletter\", \"intend\", \"limit\", \"necessary\", \"supply\", \"technology\", \"market\", \"statement\", \"consider\", \"improve\", \"confidentiality\", \"director\", \"staff\", \"provider\", \"maker\", \"opinion\", \"transmission\", \"claim\", \"share\", \"program\", \"file\", \"office\", \"ticket\", \"notification\", \"total\", \"winner\", \"sum\", \"home\", \"united_state\", \"lucky\", \"urgent\", \"cash\", \"eligible\", \"manager\", \"case\", \"fax\", \"software\", \"fortune\", \"agree\", \"lottery\", \"prize\", \"international\", \"propose\", \"draw\", \"webmail\", \"processing\", \"effect\", \"activity\", \"company\", \"win\", \"add\", \"news\", \"hold\", \"top\", \"big\", \"already\", \"talk\", \"watch\", \"alert\", \"schedule\", \"begin\", \"grow\", \"woman\", \"almost\", \"resource\", \"instead\", \"fight\", \"one\", \"child\", \"hot\", \"parent\", \"suggest\", \"acceptable\", \"young\", \"kid\", \"break\", \"aid\", \"reward\", \"system\", \"country\", \"experience\", \"sure\", \"copyright\", \"hear\", \"release\", \"individual\", \"present\", \"run\", \"respond\", \"participation\", \"head\", \"requirement\", \"refer\", \"enough\", \"actually\", \"thus\", \"trademark\", \"least\", \"tomorrow\", \"fan\", \"tree\", \"license\", \"concept\", \"completion\", \"obviously\", \"logo\", \"anymore\", \"org\", \"open\", \"action\", \"project\", \"sender\", \"status\", \"quick\", \"fail\", \"recipient\", \"i\", \"drive\", \"lock\", \"introduce\", \"global\", \"sit\", \"size\", \"ip\", \"beta\", \"glass\", \"suppose\", \"eye\", \"dark\", \"room\", \"originate\", \"anywhere\", \"wide\", \"voice\", \"dns\", \"reporting\", \"gray\", \"hour\", \"private\", \"recent\", \"ensure\", \"read\", \"manage\", \"minute\", \"privacy\", \"letter\", \"health\", \"concern\", \"research\", \"monitor\", \"dear_value\", \"reliable\", \"minimum\", \"operate\", \"association\", \"shopping\", \"holiday\", \"saving\", \"pressure\", \"useful\", \"tour\", \"investigate\", \"cialis\", \"take_care\", \"frequently\", \"relax\", \"html\", \"web\", \"inform\", \"problem\", \"accept\", \"short\", \"confirmation\", \"put\", \"application\", \"government\", \"loan\", \"condition\", \"quite\", \"recieve\", \"prove\", \"treatment\", \"faithfully\", \"occur\", \"danger\", \"pharmacy\", \"canadian\", \"yesterday\", \"fake\", \"refinance\", \"lower\", \"wanna\", \"domain\", \"cashback\", \"financial\", \"olive\", \"capital\", \"freebitcoin\", \"fund\", \"wallet\", \"exclusive\", \"investment\", \"verify\", \"log\", \"soon\", \"question\", \"net\", \"window\", \"gain\", \"care\", \"huge\", \"finish\", \"certain\", \"unit\", \"truth\", \"self\", \"convenient\", \"certificate\", \"mile\", \"anti\", \"thinking\", \"competitor\", \"thick\", \"blur\", \"possible\", \"razor_user\", \"listinfo\", \"education\", \"dragons_den\", \"figur\", \"tiktok\", \"recovery_phrase\", \"rpm\", \"razor\", \"package\", \"airdrop\", \"code\", \"ask\", \"center\", \"verify\", \"verification\", \"fund\", \"wallet\", \"transfer\", \"transaction\", \"device\", \"token\", \"update\", \"protect\", \"issue\", \"join\", \"delivery\", \"obtain\", \"maintain\", \"million\", \"blacklist\", \"expert\", \"suffer\", \"half\", \"alone\", \"credit_card\", \"dangerous\", \"afraid\", \"buying\", \"erection\", \"sex_life\", \"pharmaceutical\", \"current_bille\", \"unable\", \"ledger\", \"meantime\", \"wallet\", \"upgrade\", \"suspend\", \"asset\", \"validate\", \"jose_monkey\", \"verify\", \"online\", \"kindly\", \"version\", \"fund\", \"late\", \"amount\", \"wait\", \"mind\", \"build\", \"word\", \"design\", \"several\", \"chat\", \"dead\", \"valuable\", \"true\", \"love\", \"rich\", \"fall\", \"hit\", \"challenge\", \"guy\", \"honest\", \"door\", \"factor\", \"forever\", \"class\", \"weekend\", \"overall\", \"central\", \"screen\", \"supplement\", \"sufficient\", \"muscle\", \"tooth\", \"due\", \"like\", \"seek\", \"instantly\", \"hand\", \"ever\", \"relate\", \"demand\", \"human\", \"light\", \"recover\", \"food\", \"common\", \"dedicate\", \"necessarily\", \"medicine\", \"natural\", \"region\", \"wonderful\", \"visa\", \"surely\", \"effective\", \"constant\", \"somewhere\", \"strength\", \"orgasm\", \"merge\", \"ledger\", \"energy\", \"wllet\", \"upgrade\", \"wallet\", \"asset\", \"fund\", \"verify\", \"platform\", \"lead\", \"plan\", \"directly\", \"book\", \"different\", \"desk\", \"reference\", \"method\", \"press\", \"exist\", \"joint\", \"reminder\", \"corporate\", \"efficient\", \"manner\", \"classroom\", \"cs\", \"database\", \"ago\", \"fresh\", \"renewal\", \"block\", \"language\", \"cloud_mine\", \"balance\", \"cellphone\", \"ecommerce\", \"immigration\", \"relevance\", \"owner\", \"cryptocurrency\", \"education\", \"automatically\", \"usd\", \"notice\", \"wallet\", \"fund\", \"document\", \"device\", \"verify\", \"upgrade\", \"transaction\", \"asset\", \"late\", \"log\", \"feature\", \"participate\", \"month\", \"download\", \"sorry\", \"recommend\", \"extend\", \"test\", \"highly\", \"explain\", \"male\", \"exercise\", \"inch\", \"appearance\", \"bottle\", \"magazine\", \"length\", \"sp\", \"upto\", \"back_guarantee\", \"sudden\", \"side_effect\", \"nervous\", \"permanent_result\", \"illuvial\", \"illuvium\", \"pancakeswap\", \"dive\", \"parcel\", \"airdrop\", \"ledger\", \"version\", \"exclusive\", \"token\", \"freebitcoin\", \"wallet\", \"enjoy\", \"friend\", \"stand\", \"accord\", \"organization\", \"model\", \"relative\", \"affordable\", \"ton\", \"friendly\", \"specialize\", \"absolute\", \"drugstore\", \"stellar\", \"express_pharmacy\", \"stake\", \"staking\", \"donate\", \"nano\", \"stellar_development\", \"staker\", \"fantastic\", \"discretion\", \"flight\", \"ease\", \"combat\", \"due_diligence\", \"etherfi\", \"membership\", \"payout\", \"foundation\", \"medium\", \"contribution\", \"girl\", \"earning\", \"best_regard\", \"first\", \"ask\", \"safety\", \"fund\", \"token\", \"exclusive\", \"ledger\", \"bank\", \"deposit\", \"freebitcoin\", \"transfer\", \"version\", \"wallet\", \"late\", \"transaction\", \"verify\"], \"Freq\": [11480.0, 12698.0, 5187.0, 3099.0, 3845.0, 6710.0, 8464.0, 3253.0, 8238.0, 3980.0, 3242.0, 2965.0, 7705.0, 3096.0, 3585.0, 3259.0, 1995.0, 4322.0, 2367.0, 1719.0, 4075.0, 2427.0, 2215.0, 3864.0, 1558.0, 4788.0, 4741.0, 1770.0, 4519.0, 2157.0, 12697.252755414302, 8462.707927200854, 8237.379076236533, 7704.0178028137425, 4786.899479543766, 4739.781262048372, 4517.787027072305, 3895.5151381447986, 3700.2976511978923, 3560.05843659802, 3387.1364500172313, 3362.407834149862, 2816.449209198635, 2661.6625113940026, 2615.4013432370302, 2354.191837076366, 2264.5502471283257, 2062.1837937329497, 2030.1705184372333, 2027.1621374868075, 1947.6066691206388, 1728.0099367373123, 1527.3744786542052, 1498.164615123793, 1448.545175688971, 1411.2116697942836, 1394.8550768319424, 1305.092091057077, 1199.5633746632832, 1171.7671096473805, 3124.5099660149726, 4182.439243836961, 1518.5866685435944, 1683.09647021669, 6708.900437973964, 4320.58676649118, 4074.4373044153303, 3862.6132183979034, 3392.0910314660364, 2963.4465543479905, 2924.6478546826675, 2874.01161786541, 2357.978193839512, 2341.5437424773572, 2264.617159400721, 2188.6687285031644, 2046.2405839630158, 1995.6510126242977, 1666.3155955886111, 1484.4787278521494, 1193.8490440987573, 1103.4447052143225, 1100.4173734375665, 2822.3516571126856, 1071.8575537101397, 1012.6839040514327, 1001.4042563411816, 983.4580075326604, 958.6277803479056, 919.611703404619, 901.7766496816809, 900.5606129342632, 831.8723096901548, 831.5296100821282, 2032.1392242408244, 2411.7545069588264, 1020.3614689933812, 3584.4862455714815, 3257.736176711997, 2362.543560031121, 2047.4503881045114, 2031.880674807552, 1868.646809977836, 1738.8926375018434, 1713.1943334863738, 1221.3203582000042, 1210.6910184752908, 1199.8681095446977, 1182.7842444886212, 1147.221222546192, 1051.3913422997034, 891.9588392162555, 864.8721799909623, 863.235043825979, 741.7419644877989, 732.4332541853797, 709.5636852429534, 607.7854654819301, 518.4815858789032, 512.2900428270053, 479.1112029508954, 456.85430632306003, 427.45765874885853, 423.2025107916153, 384.277290168074, 360.8732968019081, 360.73653289325017, 1394.2578988764367, 1840.6193013000416, 821.1046358626567, 3094.840725666059, 2156.4238091736006, 1629.3659421734285, 1496.7721412004978, 1482.0061893076781, 1358.226920361552, 1316.148248672613, 1188.9300792873357, 795.960082436432, 764.418979304026, 741.3153509688872, 681.0773978200942, 677.4465061218888, 653.0552069430121, 622.6828080899572, 600.6474673498849, 583.9512149336651, 567.0699583798961, 510.04323680847074, 482.82932604036057, 479.3894053578038, 477.98431377302114, 377.78630165819, 377.1380142650966, 363.6637214402367, 332.86680858105075, 324.5451777850197, 309.9288615916884, 304.11131002707504, 296.6659755670561, 455.46120393567026, 5185.61231807231, 2425.985513304758, 1496.36326832446, 1125.0400519904128, 1062.3871363038293, 885.879424600649, 766.7432231894089, 757.8761138467543, 716.57586469143, 708.3913111684418, 666.6990619519495, 658.844109741228, 602.4476880175172, 538.5838041356691, 536.3858854317897, 528.2812146635835, 520.4536314090633, 445.9667621028494, 432.2668696577771, 391.1134120147199, 387.8834118259166, 386.39189638435334, 293.69815331513644, 286.47135880684624, 279.1878802865589, 266.2643889082634, 265.3213955381076, 257.07640481104744, 238.68820399059322, 200.8520121133922, 3868.506939973157, 664.6633799952139, 3843.70008215555, 2366.094569714819, 2213.79419333279, 1846.9385193934486, 1841.9290381344679, 952.1514285488216, 830.3975304459416, 794.2134139794961, 623.8756220665156, 562.0569552124741, 1358.1315730797855, 441.76788574349814, 426.85138926187125, 410.6310592438745, 395.18004030660956, 370.1090467017942, 355.0951940298334, 345.4219322525357, 316.97918568724924, 225.58407791683618, 216.10116597699377, 195.8461489601944, 192.86045642688637, 169.43234237217052, 161.40085102381664, 135.6536755446433, 128.71527238950742, 126.4212401324636, 121.94884463134731, 117.28676476546919, 445.10698124771807, 11479.080528374672, 1719.3948595397012, 1108.5139649673245, 973.7489996303148, 956.2600641158556, 656.6217397424741, 547.4000630238658, 514.1125373258425, 470.14752401533843, 456.8931392889002, 380.41720662311036, 352.66084121809524, 307.21278501554934, 303.7269114608059, 287.4758792769506, 285.6799920671195, 244.29261777493707, 203.53669982645658, 193.10837241842066, 191.04824759286802, 189.28653584859714, 182.37183161177322, 160.36472245050163, 157.64867040342116, 155.8300713470798, 129.55689242849954, 124.40918899609274, 117.40819649520904, 93.7524442080414, 86.92642745826215, 3241.476822042199, 1203.1742608885347, 1193.2346273659637, 827.686701565124, 687.8588833265593, 648.8592763534386, 633.7592738876709, 584.6014416716278, 560.7314081209395, 555.303150375504, 482.29927682762013, 466.04082939983635, 460.9954262104793, 431.3932942461839, 413.7198893038114, 398.41649991291933, 390.71229944978256, 386.1203054418385, 331.14753237872054, 326.5243995335488, 256.46894361553336, 232.77693743342158, 229.5504944711628, 224.90353348766746, 215.86670747066816, 177.9680261203052, 163.4291243532246, 163.35556158494953, 156.40780879994648, 141.96569631087638, 3251.8354307738114, 1768.9798051666025, 1368.292650659729, 1193.0975299557424, 1181.063943106757, 692.1939612935964, 471.35003905837345, 459.3751578044865, 356.14524498344343, 335.7932542086836, 331.2745798645237, 330.16374543808496, 313.23427097982096, 306.0287555137223, 268.7502056827123, 257.58948357077975, 216.17192424878576, 168.41122868936634, 158.7976408541255, 156.1420574799155, 153.78081375562184, 142.86483632980068, 109.29555579405299, 104.87726404196314, 101.54671540717908, 85.25880332221035, 73.71020850654565, 72.72488544976285, 63.04735754762591, 61.548406086888576, 2963.805929974078, 1688.1086890503962, 1535.7212592298224, 921.2675848191201, 852.7013531517193, 591.4773898382132, 589.4660319380899, 584.0872570489432, 505.4278667077631, 433.95468625109976, 369.501469335941, 297.5369781944325, 275.4329595103205, 245.36369077292147, 214.37826948966034, 197.67483531324208, 153.23311709343258, 134.51162465043004, 123.73197554816608, 116.2231898171206, 109.15725225341303, 76.34259378457878, 60.8698951022009, 50.31397658447745, 49.874942871882034, 48.12060196662268, 31.91205522277792, 29.759594067645487, 25.268985437618383, 21.820657066571933, 1993.7028360214983, 1076.3183633464766, 815.3738067399717, 776.2454985082392, 618.3516883470629, 580.2133156339331, 461.01597971275703, 403.8010823515974, 321.01820771263846, 301.6569328948026, 291.930736926374, 285.50870453386153, 282.088669335716, 269.67939831998103, 185.4658870685004, 147.36851094368723, 146.34462359657405, 126.09586803947003, 105.76516822767564, 101.52021734024235, 88.2926534432666, 79.09231332596326, 65.83628908858982, 61.20840169155128, 39.342775915034466, 29.5084930285721, 28.456010805717728, 12.652176871679101, 7.070727420731807, 3.874944676710635, 1036.2675558743401, 776.820526102299, 736.942625704987, 716.0457687011503, 670.194570103305, 668.212274283388, 446.1751895105925, 421.8171593914596, 410.8487953029782, 391.3325411452772, 305.3219483612162, 251.15467810854227, 195.26183023181687, 192.38103107540707, 175.67396074252716, 120.4836882459887, 102.69717202495455, 100.51829625944117, 97.86261969089968, 81.45862088772715, 80.85140152853131, 57.450967743488306, 56.16803392796949, 37.61646260700365, 36.22200757570452, 34.879383105739066, 34.06049490593866, 27.832589712956636, 19.53551888887911, 14.917966442782067, 1718.4346837282417, 1039.4367257577878, 625.1307709723877, 487.4315181859866, 350.5366965135282, 344.0529889433128, 304.62678207334204, 295.5005975836294, 267.4635062420022, 255.95439280174674, 182.1791395501078, 178.07454060346046, 133.24594088084015, 117.28733586199843, 106.93367310711263, 88.2316498407103, 73.3157372951478, 63.68007976660472, 50.877546874937316, 42.80912893168523, 38.73625041219557, 25.281398942129226, 10.612746698275929, 2.235669114383369, 0.4580868886830788, 0.08175185248834432, 0.08175642798313654, 0.08176016757022633, 0.08174508603546891, 0.08175055903116268, 0.08178217394037121, 0.08180364356978084, 0.08180557055701064, 0.08176791071525932, 0.08176599252705796, 0.08177868952510636, 0.08176803390165757, 1557.348900132615, 1295.6542841023208, 663.6307765932727, 341.4276051299822, 267.0576962097857, 252.48470110332943, 195.03888931717134, 148.69606457988823, 143.43998647425514, 142.02456310289926, 109.29314807723806, 86.48130921950427, 43.04726720181659, 41.20045656272409, 30.3502567119574, 26.40021497354221, 23.495516302567356, 5.440037044247332, 0.9983259393056703, 0.08254200743329951, 0.08255617728801744, 0.08253946393308992, 0.0825389070720973, 0.08254488204004526, 0.08253713113703971, 0.08253713113703971, 0.08253856844041259, 0.08253795137823156, 0.08254016377190498, 0.08253665705268112, 0.08254959278303699, 0.08256078267892948, 0.08255431105117726, 0.0825479372503562, 0.0825450250178677, 0.08257472677919092, 0.08255501841514087, 0.08257884303544727, 0.08257933217010296, 0.08255455185593083, 0.08255428095058306, 0.08255702762980348, 0.08255221905988062, 3097.9207187798706, 679.4460450266905, 633.9258046038179, 597.2956184074568, 521.3738261903371, 214.94141277099607, 121.36728384527476, 116.87764673668039, 79.8185979988661, 79.50158050380597, 37.006284882719555, 34.0029592399316, 20.724707254492664, 12.139975068592051, 10.279930107288704, 7.77982334854303, 4.525641733718405, 1.6843650043230844, 1.3984536269342156, 0.8163446613863036, 0.054274501092964625, 0.05427666294337638, 0.05428499406742444, 0.05427272993841041, 0.05432259017165918, 0.05428754661369374, 0.054276956895497774, 0.05428228524281212, 0.054271479711666265, 0.05427673364072203, 0.05430128422422765, 2.962064111877805, 0.054278106657592834, 0.05427797270472739, 0.05428429825670671, 0.054277362475007036, 818.2556561795941, 678.097661379351, 585.996372977912, 367.10316599164514, 328.02164421158784, 298.08302471787505, 229.54414309018094, 150.7436601973221, 137.60799488359592, 118.89642971764621, 117.98195754975926, 113.19781942041246, 107.73609402993598, 104.00365574967557, 97.15113364746036, 93.13985072033445, 90.63456995579182, 88.95195784464464, 84.64899597254967, 79.37087003025403, 76.51416601870207, 71.08854798904501, 64.87911291720381, 63.23597404304733, 55.36138165709584, 53.61092136636988, 30.495474899203142, 23.955289427918128, 8.289966332614911, 8.112774557483123, 1350.4772442936437, 639.0837276586141, 328.9884291326242, 271.10284743794335, 259.2904722882808, 185.05438610882607, 169.08738551152638, 128.10403433420572, 89.72696338277811, 87.5547418328201, 83.14354119289273, 81.87073456514025, 81.5114705326491, 70.72516354747852, 54.17752048452686, 53.12392539380795, 51.3889455310454, 37.088563508515676, 34.81163006985377, 32.70110078718027, 30.466825820583225, 30.146290465485443, 22.390084716117915, 19.394012625217503, 14.982864015281875, 0.7253292648238603, 0.06733249413559934, 0.06734691237320467, 0.06732865644549046, 0.06732769403410802, 0.06734933932364735, 0.06738664023685517, 0.06734411480471408, 0.06736898208018596, 0.06735948349828096, 848.9763931917458, 412.16287627917205, 398.76770135626464, 367.6899743996278, 357.1208158510118, 276.671592238107, 217.4691640253392, 197.9317907728689, 193.08588108465187, 155.6171409022513, 151.7385765318325, 126.9987185574915, 70.50249082052758, 61.318802934584276, 39.082516819670026, 37.05452648460023, 12.829138399526459, 0.42186701631373397, 0.06818038997991938, 0.06816775448055905, 0.068161603441289, 0.06816308084044077, 0.06817066903841877, 0.06817563585891347, 0.06815969489452484, 0.06817257183654811, 0.06815838995441802, 0.06815838995441802, 0.06815839570305285, 0.06815991909128329, 0.06816325329948573, 0.06816477093908133, 0.06816385690614307, 0.06816469045819369, 0.06816525957304204, 0.06816752453516577, 0.06818898993762777, 0.06818610987157703, 0.06816719111434552, 0.06817552088621683, 0.06818112005654302, 0.06817000794541311, 0.06817047933346933, 0.06816807640410963, 0.06816852479762651, 0.06816823736588491, 642.8612095344689, 621.3333811894358, 445.88730924882947, 400.41247726478105, 297.4725548794162, 273.7089844991242, 197.79502038203748, 172.58625195258577, 169.82982672560618, 114.89630485953494, 110.0629625284429, 58.098272148112805, 56.145467372314286, 34.157993966194375, 18.642842743843122, 13.597519797316005, 13.304210589992566, 10.779024510606936, 8.389587204497078, 8.042069906103555, 3.4060882197967546, 1.7854110301592232, 1.0130725295097454, 0.5237814930092665, 0.07421779548161746, 0.07421609853053328, 0.07421325313780626, 0.07421352739252693, 0.07421543574829165, 0.07423721043038536, 0.07422795433356254, 0.0742303712032885, 0.07423228527269322, 0.0742293998844861, 0.07423144536761114, 0.07424059290527371, 356.63944321328785, 228.88720447880195, 153.17574039646104, 129.67913902225013, 129.40779597310004, 87.89903585227451, 63.46857078107613, 24.38757955688008, 22.99129344979522, 20.907997639467016, 18.9551694294401, 14.01446339431585, 3.6263581363165382, 0.046719367135517, 0.046718113436800164, 0.046721458389258945, 0.04671522676916644, 0.04671502133114141, 0.0467129406126828, 0.04671354112383288, 0.046712482327857734, 0.046713767632424574, 0.04671217153699936, 0.04671299855674114, 0.046712782583432776, 0.04671207671944935, 0.046712161001716025, 0.04671288793626612, 0.04671590102729986, 0.04671227688983271, 0.04671476321669971, 0.04671449456697467, 0.04671367281487456, 0.046715258375016444, 0.04671472107556637, 0.04671467366679136, 0.04671887724484193, 0.046717449713950074, 0.04671535846020813, 0.046731782966926996, 0.04672081046933386, 0.04672003085836709, 0.04671809236623349, 0.04671827146605018, 0.04671710731724169, 0.046718724483233574, 0.04671835048067519, 0.04671682286459165, 0.04672037852271713, 0.046717086246675026, 0.04671698089384167, 0.04671711258488336], \"Total\": [11480.0, 12698.0, 5187.0, 3099.0, 3845.0, 6710.0, 8464.0, 3253.0, 8238.0, 3980.0, 3242.0, 2965.0, 7705.0, 3096.0, 3585.0, 3259.0, 1995.0, 4322.0, 2367.0, 1719.0, 4075.0, 2427.0, 2215.0, 3864.0, 1558.0, 4788.0, 4741.0, 1770.0, 4519.0, 2157.0, 12698.758473157737, 8464.21364494429, 8238.88479400144, 7705.523520557175, 4788.4051972871985, 4741.286979855274, 4519.292744840566, 3897.0208558882337, 3701.8033689413273, 3561.564154341455, 3388.6421677606663, 3363.913551893297, 2817.95492694207, 2663.1682291374377, 2616.9070609804653, 2355.697554819801, 2266.055964871761, 2063.6895114763847, 2031.6762361806673, 2028.6678552302415, 1949.1123868640727, 1729.5156544807462, 1528.880196397639, 1499.670332867227, 1450.0508934633242, 1412.7173875377175, 1396.3607945753763, 1306.5978088063537, 1201.0690924067171, 1173.2728273908144, 3146.7234690210917, 6025.192179655376, 1674.7265348328299, 2285.0220943206214, 6710.367333787334, 4322.053662304551, 4075.9042003159657, 3864.080114219209, 3393.557927279409, 2964.913450161363, 2926.11475049604, 2875.4785136787823, 2359.4451218982467, 2343.0106382907297, 2266.0840552140935, 2190.135624316537, 2047.707495935889, 1997.117908437669, 1667.7824914019825, 1485.9456236655208, 1195.3159399121287, 1104.911601027694, 1101.8842693310066, 2826.1748852521746, 1073.324449523511, 1014.1507998648044, 1002.8711521545533, 984.9249034516148, 960.0946761612773, 921.0785992866465, 903.2435454950526, 902.0280058960539, 833.3392055035265, 832.9965058954999, 2037.026447440991, 2584.7978879999187, 6025.192179655376, 3585.9587710267265, 3259.2183846837725, 2364.016085486366, 2048.9229135597557, 2033.353200262796, 1870.11933543308, 1740.3651629570875, 1714.6668589416179, 1222.7928837016484, 1212.1635439305348, 1201.3406350325597, 1184.2567699438653, 1148.693748001436, 1052.8638677549475, 893.4313646714998, 866.3447054462066, 864.7075692812233, 743.2144899430432, 733.905779640624, 711.0362106981977, 609.2579909371744, 519.9541113341475, 513.7625682822496, 480.5837284513031, 458.32683177830415, 428.93018420410266, 424.6750362468594, 385.7498156233181, 362.34582225715224, 362.2090583484943, 1417.3171280328625, 1945.6729613104733, 6025.192179655376, 3096.31913912341, 2157.9022226309517, 1630.8443556307784, 1498.2505546578477, 1483.484602765028, 1359.7053338189019, 1317.6266621299628, 1190.4084927446856, 797.4384958937821, 765.897392792033, 742.7937644262373, 682.5572295771761, 678.9249195792389, 654.5336204003622, 624.1612215598466, 602.125880807235, 585.4296283910153, 568.5483718372462, 511.5216502658208, 484.30773951818287, 480.8678188151539, 479.46272723037123, 379.264715119261, 378.6164277224467, 365.1421348975868, 334.34522203840083, 326.0235912460907, 311.4072750490385, 305.5897234844251, 298.14438902440617, 476.85018023299983, 5187.112298390652, 2427.4854936151683, 1497.8632486348693, 1126.5400323087551, 1063.8871166142385, 887.3794049183128, 768.2432034998185, 759.3760941571638, 718.0758450018395, 709.8912914788514, 668.1990422623591, 660.3440900516375, 603.9476683279267, 540.0837844460787, 537.8858657644511, 529.781194973993, 521.9536117194729, 447.46674241325877, 433.7668499681865, 392.61339236427546, 389.383392136326, 387.89187669476274, 295.19813367099846, 287.97133917509865, 280.6878605969683, 267.7643692802878, 266.821375848517, 258.5763851274742, 240.18818430100268, 202.35199242380165, 3980.407796844667, 1111.1875814323173, 3845.1964760672954, 2367.5909636186316, 2215.2905872366027, 1848.4349135833265, 1843.4254320382797, 953.6478224526337, 831.8939243726389, 795.7098078833081, 625.3720159703277, 563.5533491162862, 1362.5357774649829, 443.26427964731005, 428.34778316568315, 412.1274531476864, 396.6764342492739, 371.60544060560613, 356.5915879336453, 346.91832615634763, 318.4755796163057, 227.08047182064814, 217.59755988080573, 197.34254286400636, 194.35685033069834, 170.9287362759825, 162.8972449276286, 137.15006944845527, 130.21166635941475, 127.91763403627553, 123.4452385915008, 118.78315866928112, 1111.1875814323173, 11480.600906227533, 1720.9152373925617, 1110.0343428433096, 975.2693774967344, 957.7804419687162, 658.1421175953348, 548.9204408767264, 515.6329151787031, 471.6679018681989, 458.4135171417607, 381.9375845084466, 354.1812190709557, 308.7331628684098, 305.2472893408136, 288.99625712981106, 287.20036991997995, 245.81299562779756, 205.05707767931708, 194.62875027128115, 192.56862544572851, 190.80691370145763, 183.8922094646337, 161.88510030336212, 159.16904834242976, 157.3504491999403, 131.07727028136003, 125.92956685340417, 118.9285744141865, 95.27282209318693, 88.44680531112262, 3242.985112539996, 1204.6825513863314, 1194.7429178637603, 829.1949920629208, 689.3671738243561, 650.3675668512354, 635.267564412757, 586.1097321694245, 562.2396986423055, 556.8114408733007, 483.80756732541676, 467.549119897633, 462.5037167671387, 432.9015847713154, 415.228179801608, 399.92479043579226, 392.2205899475792, 387.62859593963515, 332.65582287651716, 328.0326900313454, 257.9772341214183, 234.2852279312183, 231.05878498956966, 226.41182400467835, 217.37499796846487, 179.47631661810192, 164.93741485102132, 164.86385209067922, 157.9160992977432, 143.4739868086731, 3253.3308267557745, 1770.4752011235266, 1369.7880466211038, 1194.5929259126665, 1182.5593390636811, 693.6893572505207, 472.8454350152976, 460.87055376141063, 357.6406409403676, 337.28865016560775, 332.7699758214478, 331.6591414125059, 314.7296669367451, 307.5241514706464, 270.24560163963645, 259.0848795277039, 217.66732020570993, 169.9066246462905, 160.29303681104966, 157.63745347448133, 155.27620974834073, 144.36023228672485, 110.79095175542811, 106.37266000394054, 103.04211136410323, 86.75419927913451, 75.20560446346981, 74.22028140668701, 64.54275350455006, 63.04380204381273, 2965.3111739679825, 1689.6139329801522, 1537.2265031595784, 922.7728287488763, 854.2065970814756, 592.9826337817452, 590.9712758678462, 585.5925009786995, 506.93311063751923, 435.4599301808559, 371.00671326569716, 299.04222212418864, 276.9382034600086, 246.86893470267765, 215.88351342516515, 199.18007924299826, 154.73836102318876, 136.0168685801862, 125.23721947792224, 117.72843379650564, 110.6624961831692, 77.84783772546085, 62.375139040045326, 51.819220523032634, 51.38018680163819, 49.625845896378834, 33.41729915253408, 31.264837997401646, 26.77422936737454, 23.325901000049, 1995.184429963543, 1077.7999572885212, 816.8554006820162, 777.7270924502837, 619.8332822891075, 581.6949095759777, 462.4975736548016, 405.282676293642, 322.49980165468304, 303.1385268368472, 293.41233086841856, 286.9902984759061, 283.5702632777606, 271.1609922620256, 186.94748101847796, 148.8501048857318, 147.82621753861864, 127.57746201206172, 107.24676231357543, 103.00181128228691, 89.77424740452535, 80.57390726800782, 67.31788303063438, 62.68999563359585, 40.824369857079034, 30.99008697061667, 29.937604747762297, 14.13377081372367, 8.552321362776375, 5.356538618755203, 1037.7675345459966, 778.3205047739553, 738.4426043766433, 717.5457473807397, 671.6945487749613, 669.7122529550443, 447.6751681822488, 423.3171380689588, 412.3487739746345, 392.83251981693354, 306.8219270328725, 252.6546567801986, 196.7618089034732, 193.88100983698322, 177.17393941418348, 121.98366696616286, 104.19715069661086, 102.01827493109748, 99.36259837582759, 82.95859956818249, 82.35138020018762, 58.950946479939624, 57.668012599625804, 39.11644127865996, 37.72198624736083, 36.3793619015423, 35.560473602141386, 29.332568384612955, 21.035497665335765, 16.417945114438385, 1719.9321000318291, 1040.9341420613753, 626.628187275975, 488.9289344895739, 352.03411281711556, 345.55040524690014, 306.12419837692937, 296.99801388721676, 268.96092254558954, 257.4518091110827, 183.6765558536952, 179.57195690704785, 134.74335718442754, 118.78475216558579, 108.43108944681104, 89.72906616977873, 74.81315359873516, 65.17749607603494, 52.374963197063934, 44.30654524862851, 40.23366671578293, 26.778815320854317, 12.110163001863294, 3.7330854179707336, 1.9555031922704424, 1.5792336316269342, 1.579336888366194, 1.5794328911455986, 1.5791797265350889, 1.5792867139368272, 1.57991070795658, 1.5806362171356636, 1.5807073678531869, 1.5797498780336956, 1.5796826834631035, 1.5804553380114206, 1.5800201875579711, 1558.8455230163322, 1297.150906986038, 665.1273994769899, 342.9242280136994, 268.5543190935029, 253.98132398704666, 196.53551220088858, 150.19268746360547, 144.93660935797237, 143.5211859866165, 110.78977100475342, 87.97793210322149, 44.54389008553382, 42.69707944644132, 31.84687959567463, 27.896837877343472, 24.992139186284586, 6.93665992796456, 2.494948823022899, 1.579205033048143, 1.5795203993117395, 1.5792066946387056, 1.5792058402898248, 1.5793276254193354, 1.579189187137312, 1.579189187137312, 1.579224432797723, 1.5792185476041016, 1.5792610815609536, 1.579194640974082, 1.5794842972176346, 1.5797402818611845, 1.5796224066724667, 1.5794688531631171, 1.5794117591078678, 1.5804553380114206, 1.5797757444819125, 1.5806362171356636, 1.5807073678531869, 1.579863466944259, 1.579873855108733, 1.5800565270889757, 1.5798056504727458, 3099.4456191742147, 680.9709454210342, 635.4507049981617, 598.8205188787415, 522.8987265846808, 216.46631316533976, 122.89218423961843, 118.40254713102406, 81.34349839320977, 81.02648090694868, 38.53118527706323, 35.52785963427527, 22.24960764883634, 13.66487546293573, 11.804830501632383, 9.304723772397034, 6.050542128062082, 3.209265398666762, 2.923354021277893, 2.3412450557299813, 1.5792492833487446, 1.579345475914691, 1.5796061546704794, 1.5792548658403753, 1.5807073678531869, 1.5797359596115037, 1.5794381457020277, 1.5796511750572901, 1.5793418884417962, 1.5795559583374863, 1.5804553380114206, 1362.5357774649829, 1.5796927766432685, 1.5796910147755485, 1.5806362171356636, 1.5797954675028227, 819.7496083989499, 679.5916135987069, 587.4903251972678, 368.597118211001, 329.5155964309437, 299.5769769372309, 231.03809530953674, 152.23761242780384, 139.10194710295173, 120.390381937002, 119.47590976911505, 114.69177163976825, 109.23004624929177, 105.49760796903136, 98.64508586681615, 94.63380293969024, 92.12852217514761, 90.44591006400043, 86.14294825760314, 80.8648222540608, 78.00811823805786, 72.5825002084008, 66.3730651365596, 64.72992632816569, 56.85533387645164, 55.10487358572568, 31.989427234861648, 25.44924171562441, 9.783918551970713, 9.606726776838924, 1351.98907784552, 640.5955612104902, 330.5002626845004, 272.61468104960437, 260.802305840157, 186.56621966070222, 170.59921906340253, 129.61586788608187, 91.23879693465425, 89.06657538469624, 84.65537475078624, 83.38256811701639, 83.02330408452524, 72.23699728069225, 55.689354036402996, 54.63575905472132, 52.90077908292154, 38.60039706039181, 36.32346362172991, 34.21293433905641, 31.978659435006435, 31.65812401736158, 23.901918349625817, 20.90584617709364, 16.494697567158013, 2.2371628166999993, 1.5792634379340762, 1.5796061546704794, 1.579236651268829, 1.579226066979395, 1.5797359596115037, 1.5807073678531869, 1.5796511750572901, 1.5806362171356636, 1.5804553380114206, 850.4873939314152, 413.6738770188414, 400.27870209593397, 369.2009751392971, 358.6318165906811, 278.1825929777763, 218.98016476500854, 199.44279151253824, 194.5968818243212, 157.12814164192062, 153.24957727150183, 128.50971932686568, 72.01349156019693, 62.82980367425361, 40.59351757539263, 38.565527224269566, 14.340139139195793, 1.9328677559830696, 1.5792715835731725, 1.5793099732938247, 1.5791805516622495, 1.5792358495652963, 1.5794322681074422, 1.5795498182973546, 1.5791881956169032, 1.5794906578038568, 1.5791622200439743, 1.5791623190211, 1.5791635227059964, 1.579200721505577, 1.5793019809596864, 1.579354505315909, 1.5793276254193354, 1.579366729729148, 1.5793882101331196, 1.579527685093335, 1.5807073678531869, 1.5806362171356636, 1.579512063141028, 1.5800565270889757, 1.5804553380114206, 1.5797359596115037, 1.579873855108733, 1.5796511750572901, 1.5797954675028227, 1.5800201875579711, 644.3661588823408, 622.8383305417586, 447.39225859670137, 401.91742661265295, 298.9775042272881, 275.2139338469961, 199.29996972990935, 174.09120130045764, 171.33477607347805, 116.40125420740682, 111.5679118874407, 59.603221495984684, 57.650416720186165, 35.662943314066254, 20.147792091715, 15.102469145187882, 14.809159937864443, 12.283973907620975, 9.894536563439564, 9.547019257696345, 4.911037597838053, 3.2903603780311013, 2.5180218773816234, 2.0287308408811446, 1.5792891361321464, 1.5792587549948056, 1.5792232634098295, 1.579230335633919, 1.579275404643186, 1.5797402818611845, 1.5796061546704794, 1.5796910147755485, 1.5797498780336956, 1.5798056504727458, 1.57991070795658, 1.5807073678531869, 358.1718867100911, 230.41964797560516, 154.70818389326425, 131.21158251905334, 130.94023946990325, 89.43147934907773, 65.00101427787935, 25.92002306722582, 24.523736946598444, 22.44044113627024, 20.487612975735075, 15.546906891119074, 5.158801732112024, 1.5793283283790513, 1.5792950223030375, 1.5794244461856066, 1.5792368902203437, 1.5792415730108411, 1.5791864553422421, 1.5792103728035747, 1.5791755547687756, 1.5792190834050293, 1.5791710138685446, 1.579199615365521, 1.5791926225229647, 1.5791695743878817, 1.5791727007197671, 1.579198949902635, 1.5793019150593535, 1.5791800740058375, 1.5792691915362684, 1.579272122209813, 1.5792380822965275, 1.5793167180490095, 1.5792982992098359, 1.5792976897110618, 1.5795418978031621, 1.5794688531631171, 1.5793443764784336, 1.5806362171356636, 1.5798056504727458, 1.5797498780336956, 1.5796061546704794, 1.5796230179138273, 1.5795818025147557, 1.57991070795658, 1.579863466944259, 1.5796910147755485, 1.5807073678531869, 1.5797954675028227, 1.579873855108733, 1.5804553380114206], \"Category\": [\"Default\", \"Default\", \"Default\", \"Default\", \"Default\", \"Default\", \"Default\", \"Default\", \"Default\", \"Default\", \"Default\", \"Default\", \"Default\", \"Default\", \"Default\", \"Default\", \"Default\", \"Default\", \"Default\", \"Default\", \"Default\", \"Default\", \"Default\", \"Default\", \"Default\", \"Default\", \"Default\", \"Default\", \"Default\", \"Default\", \"Topic1\", \"Topic1\", \"Topic1\", \"Topic1\", \"Topic1\", \"Topic1\", \"Topic1\", \"Topic1\", \"Topic1\", \"Topic1\", \"Topic1\", \"Topic1\", \"Topic1\", \"Topic1\", \"Topic1\", \"Topic1\", \"Topic1\", \"Topic1\", \"Topic1\", \"Topic1\", \"Topic1\", \"Topic1\", \"Topic1\", \"Topic1\", \"Topic1\", \"Topic1\", \"Topic1\", \"Topic1\", \"Topic1\", \"Topic1\", \"Topic1\", \"Topic1\", \"Topic1\", \"Topic1\", \"Topic2\", \"Topic2\", \"Topic2\", \"Topic2\", \"Topic2\", \"Topic2\", \"Topic2\", \"Topic2\", \"Topic2\", \"Topic2\", \"Topic2\", \"Topic2\", \"Topic2\", \"Topic2\", \"Topic2\", \"Topic2\", \"Topic2\", \"Topic2\", \"Topic2\", \"Topic2\", \"Topic2\", \"Topic2\", \"Topic2\", \"Topic2\", \"Topic2\", \"Topic2\", \"Topic2\", \"Topic2\", \"Topic2\", \"Topic2\", \"Topic2\", \"Topic2\", \"Topic2\", \"Topic3\", \"Topic3\", \"Topic3\", \"Topic3\", \"Topic3\", \"Topic3\", \"Topic3\", \"Topic3\", \"Topic3\", \"Topic3\", \"Topic3\", \"Topic3\", \"Topic3\", \"Topic3\", \"Topic3\", \"Topic3\", \"Topic3\", \"Topic3\", \"Topic3\", \"Topic3\", \"Topic3\", \"Topic3\", \"Topic3\", \"Topic3\", \"Topic3\", \"Topic3\", \"Topic3\", \"Topic3\", \"Topic3\", \"Topic3\", \"Topic3\", \"Topic3\", \"Topic3\", \"Topic4\", \"Topic4\", \"Topic4\", \"Topic4\", \"Topic4\", \"Topic4\", \"Topic4\", \"Topic4\", \"Topic4\", \"Topic4\", \"Topic4\", \"Topic4\", \"Topic4\", \"Topic4\", \"Topic4\", \"Topic4\", \"Topic4\", \"Topic4\", \"Topic4\", \"Topic4\", \"Topic4\", \"Topic4\", \"Topic4\", \"Topic4\", \"Topic4\", \"Topic4\", \"Topic4\", \"Topic4\", \"Topic4\", \"Topic4\", \"Topic4\", \"Topic5\", \"Topic5\", \"Topic5\", \"Topic5\", \"Topic5\", \"Topic5\", \"Topic5\", \"Topic5\", \"Topic5\", \"Topic5\", \"Topic5\", \"Topic5\", \"Topic5\", \"Topic5\", \"Topic5\", \"Topic5\", \"Topic5\", \"Topic5\", \"Topic5\", \"Topic5\", \"Topic5\", \"Topic5\", \"Topic5\", \"Topic5\", \"Topic5\", \"Topic5\", \"Topic5\", \"Topic5\", \"Topic5\", \"Topic5\", \"Topic5\", \"Topic5\", \"Topic6\", \"Topic6\", \"Topic6\", \"Topic6\", \"Topic6\", \"Topic6\", \"Topic6\", \"Topic6\", \"Topic6\", \"Topic6\", \"Topic6\", \"Topic6\", \"Topic6\", \"Topic6\", \"Topic6\", \"Topic6\", \"Topic6\", \"Topic6\", \"Topic6\", \"Topic6\", \"Topic6\", \"Topic6\", \"Topic6\", \"Topic6\", \"Topic6\", \"Topic6\", \"Topic6\", \"Topic6\", \"Topic6\", \"Topic6\", \"Topic6\", \"Topic7\", \"Topic7\", \"Topic7\", \"Topic7\", \"Topic7\", \"Topic7\", \"Topic7\", \"Topic7\", \"Topic7\", \"Topic7\", \"Topic7\", \"Topic7\", \"Topic7\", \"Topic7\", \"Topic7\", \"Topic7\", \"Topic7\", \"Topic7\", \"Topic7\", \"Topic7\", \"Topic7\", \"Topic7\", \"Topic7\", \"Topic7\", \"Topic7\", \"Topic7\", \"Topic7\", \"Topic7\", \"Topic7\", \"Topic7\", \"Topic8\", \"Topic8\", \"Topic8\", \"Topic8\", \"Topic8\", \"Topic8\", \"Topic8\", \"Topic8\", \"Topic8\", \"Topic8\", \"Topic8\", \"Topic8\", \"Topic8\", \"Topic8\", \"Topic8\", \"Topic8\", \"Topic8\", \"Topic8\", \"Topic8\", \"Topic8\", \"Topic8\", \"Topic8\", \"Topic8\", \"Topic8\", \"Topic8\", \"Topic8\", \"Topic8\", \"Topic8\", \"Topic8\", \"Topic8\", \"Topic9\", \"Topic9\", \"Topic9\", \"Topic9\", \"Topic9\", \"Topic9\", \"Topic9\", \"Topic9\", \"Topic9\", \"Topic9\", \"Topic9\", \"Topic9\", \"Topic9\", \"Topic9\", \"Topic9\", \"Topic9\", \"Topic9\", \"Topic9\", \"Topic9\", \"Topic9\", \"Topic9\", \"Topic9\", \"Topic9\", \"Topic9\", \"Topic9\", \"Topic9\", \"Topic9\", \"Topic9\", \"Topic9\", \"Topic9\", \"Topic10\", \"Topic10\", \"Topic10\", \"Topic10\", \"Topic10\", \"Topic10\", \"Topic10\", \"Topic10\", \"Topic10\", \"Topic10\", \"Topic10\", \"Topic10\", \"Topic10\", \"Topic10\", \"Topic10\", \"Topic10\", \"Topic10\", \"Topic10\", \"Topic10\", \"Topic10\", \"Topic10\", \"Topic10\", \"Topic10\", \"Topic10\", \"Topic10\", \"Topic10\", \"Topic10\", \"Topic10\", \"Topic10\", \"Topic10\", \"Topic11\", \"Topic11\", \"Topic11\", \"Topic11\", \"Topic11\", \"Topic11\", \"Topic11\", \"Topic11\", \"Topic11\", \"Topic11\", \"Topic11\", \"Topic11\", \"Topic11\", \"Topic11\", \"Topic11\", \"Topic11\", \"Topic11\", \"Topic11\", \"Topic11\", \"Topic11\", \"Topic11\", \"Topic11\", \"Topic11\", \"Topic11\", \"Topic11\", \"Topic11\", \"Topic11\", \"Topic11\", \"Topic11\", \"Topic11\", \"Topic12\", \"Topic12\", \"Topic12\", \"Topic12\", \"Topic12\", \"Topic12\", \"Topic12\", \"Topic12\", \"Topic12\", \"Topic12\", \"Topic12\", \"Topic12\", \"Topic12\", \"Topic12\", \"Topic12\", \"Topic12\", \"Topic12\", \"Topic12\", \"Topic12\", \"Topic12\", \"Topic12\", \"Topic12\", \"Topic12\", \"Topic12\", \"Topic12\", \"Topic12\", \"Topic12\", \"Topic12\", \"Topic12\", \"Topic12\", \"Topic13\", \"Topic13\", \"Topic13\", \"Topic13\", \"Topic13\", \"Topic13\", \"Topic13\", \"Topic13\", \"Topic13\", \"Topic13\", \"Topic13\", \"Topic13\", \"Topic13\", \"Topic13\", \"Topic13\", \"Topic13\", \"Topic13\", \"Topic13\", \"Topic13\", \"Topic13\", \"Topic13\", \"Topic13\", \"Topic13\", \"Topic13\", \"Topic13\", \"Topic13\", \"Topic13\", \"Topic13\", \"Topic13\", \"Topic13\", \"Topic13\", \"Topic13\", \"Topic13\", \"Topic13\", \"Topic13\", \"Topic13\", \"Topic13\", \"Topic14\", \"Topic14\", \"Topic14\", \"Topic14\", \"Topic14\", \"Topic14\", \"Topic14\", \"Topic14\", \"Topic14\", \"Topic14\", \"Topic14\", \"Topic14\", \"Topic14\", \"Topic14\", \"Topic14\", \"Topic14\", \"Topic14\", \"Topic14\", \"Topic14\", \"Topic14\", \"Topic14\", \"Topic14\", \"Topic14\", \"Topic14\", \"Topic14\", \"Topic14\", \"Topic14\", \"Topic14\", \"Topic14\", \"Topic14\", \"Topic14\", \"Topic14\", \"Topic14\", \"Topic14\", \"Topic14\", \"Topic14\", \"Topic14\", \"Topic14\", \"Topic14\", \"Topic14\", \"Topic14\", \"Topic14\", \"Topic14\", \"Topic15\", \"Topic15\", \"Topic15\", \"Topic15\", \"Topic15\", \"Topic15\", \"Topic15\", \"Topic15\", \"Topic15\", \"Topic15\", \"Topic15\", \"Topic15\", \"Topic15\", \"Topic15\", \"Topic15\", \"Topic15\", \"Topic15\", \"Topic15\", \"Topic15\", \"Topic15\", \"Topic15\", \"Topic15\", \"Topic15\", \"Topic15\", \"Topic15\", \"Topic15\", \"Topic15\", \"Topic15\", \"Topic15\", \"Topic15\", \"Topic15\", \"Topic15\", \"Topic15\", \"Topic15\", \"Topic15\", \"Topic15\", \"Topic16\", \"Topic16\", \"Topic16\", \"Topic16\", \"Topic16\", \"Topic16\", \"Topic16\", \"Topic16\", \"Topic16\", \"Topic16\", \"Topic16\", \"Topic16\", \"Topic16\", \"Topic16\", \"Topic16\", \"Topic16\", \"Topic16\", \"Topic16\", \"Topic16\", \"Topic16\", \"Topic16\", \"Topic16\", \"Topic16\", \"Topic16\", \"Topic16\", \"Topic16\", \"Topic16\", \"Topic16\", \"Topic16\", \"Topic16\", \"Topic17\", \"Topic17\", \"Topic17\", \"Topic17\", \"Topic17\", \"Topic17\", \"Topic17\", \"Topic17\", \"Topic17\", \"Topic17\", \"Topic17\", \"Topic17\", \"Topic17\", \"Topic17\", \"Topic17\", \"Topic17\", \"Topic17\", \"Topic17\", \"Topic17\", \"Topic17\", \"Topic17\", \"Topic17\", \"Topic17\", \"Topic17\", \"Topic17\", \"Topic17\", \"Topic17\", \"Topic17\", \"Topic17\", \"Topic17\", \"Topic17\", \"Topic17\", \"Topic17\", \"Topic17\", \"Topic17\", \"Topic18\", \"Topic18\", \"Topic18\", \"Topic18\", \"Topic18\", \"Topic18\", \"Topic18\", \"Topic18\", \"Topic18\", \"Topic18\", \"Topic18\", \"Topic18\", \"Topic18\", \"Topic18\", \"Topic18\", \"Topic18\", \"Topic18\", \"Topic18\", \"Topic18\", \"Topic18\", \"Topic18\", \"Topic18\", \"Topic18\", \"Topic18\", \"Topic18\", \"Topic18\", \"Topic18\", \"Topic18\", \"Topic18\", \"Topic18\", \"Topic18\", \"Topic18\", \"Topic18\", \"Topic18\", \"Topic18\", \"Topic18\", \"Topic18\", \"Topic18\", \"Topic18\", \"Topic18\", \"Topic18\", \"Topic18\", \"Topic18\", \"Topic18\", \"Topic18\", \"Topic18\", \"Topic19\", \"Topic19\", \"Topic19\", \"Topic19\", \"Topic19\", \"Topic19\", \"Topic19\", \"Topic19\", \"Topic19\", \"Topic19\", \"Topic19\", \"Topic19\", \"Topic19\", \"Topic19\", \"Topic19\", \"Topic19\", \"Topic19\", \"Topic19\", \"Topic19\", \"Topic19\", \"Topic19\", \"Topic19\", \"Topic19\", \"Topic19\", \"Topic19\", \"Topic19\", \"Topic19\", \"Topic19\", \"Topic19\", \"Topic19\", \"Topic19\", \"Topic19\", \"Topic19\", \"Topic19\", \"Topic19\", \"Topic19\", \"Topic20\", \"Topic20\", \"Topic20\", \"Topic20\", \"Topic20\", \"Topic20\", \"Topic20\", \"Topic20\", \"Topic20\", \"Topic20\", \"Topic20\", \"Topic20\", \"Topic20\", \"Topic20\", \"Topic20\", \"Topic20\", \"Topic20\", \"Topic20\", \"Topic20\", \"Topic20\", \"Topic20\", \"Topic20\", \"Topic20\", \"Topic20\", \"Topic20\", \"Topic20\", \"Topic20\", \"Topic20\", \"Topic20\", \"Topic20\", \"Topic20\", \"Topic20\", \"Topic20\", \"Topic20\", \"Topic20\", \"Topic20\", \"Topic20\", \"Topic20\", \"Topic20\", \"Topic20\", \"Topic20\", \"Topic20\", \"Topic20\", \"Topic20\", \"Topic20\", \"Topic20\", \"Topic20\", \"Topic20\", \"Topic20\", \"Topic20\", \"Topic20\", \"Topic20\"], \"logprob\": [30.0, 29.0, 28.0, 27.0, 26.0, 25.0, 24.0, 23.0, 22.0, 21.0, 20.0, 19.0, 18.0, 17.0, 16.0, 15.0, 14.0, 13.0, 12.0, 11.0, 10.0, 9.0, 8.0, 7.0, 6.0, 5.0, 4.0, 3.0, 2.0, 1.0, -2.3971, -2.8028, -2.8298, -2.8967, -3.3726, -3.3825, -3.4305, -3.5787, -3.6301, -3.6687, -3.7185, -3.7258, -3.903, -3.9595, -3.9771, -4.0823, -4.1211, -4.2147, -4.2304, -4.2318, -4.2719, -4.3915, -4.5149, -4.5342, -4.5679, -4.594, -4.6057, -4.6722, -4.7565, -4.78, -3.7992, -3.5076, -4.5207, -4.4178, -2.6801, -3.1202, -3.1789, -3.2322, -3.3621, -3.4972, -3.5104, -3.5279, -3.7258, -3.7328, -3.7662, -3.8003, -3.8676, -3.8926, -4.073, -4.1885, -4.4064, -4.4851, -4.4879, -3.546, -4.5142, -4.571, -4.5822, -4.6003, -4.6258, -4.6674, -4.687, -4.6883, -4.7677, -4.7681, -3.8745, -3.7032, -4.5634, -2.6419, -2.7375, -3.0588, -3.2019, -3.2095, -3.2933, -3.3653, -3.3801, -3.7186, -3.7273, -3.7363, -3.7506, -3.7812, -3.8684, -4.0328, -4.0637, -4.0656, -4.2173, -4.2299, -4.2616, -4.4164, -4.5754, -4.5874, -4.6543, -4.7019, -4.7684, -4.7784, -4.8749, -4.9377, -4.9381, -3.5861, -3.3084, -4.1156, -2.3727, -2.734, -3.0142, -3.0991, -3.109, -3.1963, -3.2277, -3.3294, -3.7306, -3.7711, -3.8018, -3.8865, -3.8919, -3.9285, -3.9762, -4.0122, -4.0404, -4.0697, -4.1757, -4.2305, -4.2377, -4.2406, -4.4759, -4.4776, -4.514, -4.6025, -4.6278, -4.6739, -4.6928, -4.7176, -4.2889, -1.8557, -2.6154, -3.0986, -3.3838, -3.4411, -3.6228, -3.7672, -3.7788, -3.8349, -3.8464, -3.907, -3.9189, -4.0084, -4.1204, -4.1245, -4.1397, -4.1547, -4.3091, -4.3403, -4.4404, -4.4486, -4.4525, -4.7268, -4.7517, -4.7775, -4.8249, -4.8284, -4.86, -4.9342, -5.1068, -2.1487, -3.9101, -1.9294, -2.4146, -2.4811, -2.6623, -2.665, -3.3248, -3.4617, -3.5062, -3.7476, -3.852, -2.9697, -4.0928, -4.1271, -4.1659, -4.2042, -4.2698, -4.3112, -4.3388, -4.4247, -4.7649, -4.8078, -4.9062, -4.9216, -5.0511, -5.0997, -5.2735, -5.326, -5.3439, -5.38, -5.4189, -4.0853, -0.8059, -2.7044, -3.1434, -3.273, -3.2911, -3.667, -3.849, -3.9117, -4.0011, -4.0297, -4.2129, -4.2886, -4.4266, -4.438, -4.493, -4.4993, -4.6558, -4.8383, -4.8909, -4.9016, -4.9109, -4.9481, -5.0767, -5.0938, -5.1054, -5.29, -5.3306, -5.3885, -5.6135, -5.6891, -1.7983, -2.7893, -2.7976, -3.1634, -3.3485, -3.4068, -3.4304, -3.5111, -3.5528, -3.5625, -3.7035, -3.7378, -3.7486, -3.815, -3.8568, -3.8945, -3.9141, -3.9259, -4.0795, -4.0935, -4.335, -4.432, -4.4459, -4.4664, -4.5074, -4.7004, -4.7857, -4.7861, -4.8296, -4.9265, -1.6992, -2.308, -2.5649, -2.7019, -2.712, -3.2463, -3.6306, -3.6563, -3.9108, -3.9697, -3.9832, -3.9866, -4.0392, -4.0625, -4.1924, -4.2348, -4.4101, -4.6598, -4.7186, -4.7354, -4.7507, -4.8243, -5.0921, -5.1334, -5.1657, -5.3405, -5.486, -5.4995, -5.6423, -5.6664, -1.6831, -2.246, -2.3406, -2.8516, -2.9289, -3.2947, -3.2981, -3.3073, -3.4519, -3.6044, -3.7652, -3.9818, -4.059, -4.1746, -4.3096, -4.3907, -4.6454, -4.7757, -4.8592, -4.9218, -4.9846, -5.3421, -5.5686, -5.7591, -5.7678, -5.8036, -6.2144, -6.2842, -6.4478, -6.5945, -1.8851, -2.5015, -2.7792, -2.8284, -3.0558, -3.1194, -3.3494, -3.4819, -3.7113, -3.7735, -3.8063, -3.8286, -3.8406, -3.8856, -4.26, -4.4899, -4.4969, -4.6458, -4.8216, -4.8626, -5.0022, -5.1122, -5.2957, -5.3686, -5.8105, -6.0982, -6.1345, -6.945, -7.5269, -8.1283, -2.3724, -2.6606, -2.7133, -2.7421, -2.8082, -2.8112, -3.2151, -3.2712, -3.2976, -3.3462, -3.5944, -3.7897, -4.0415, -4.0563, -4.1472, -4.5243, -4.684, -4.7055, -4.7322, -4.9157, -4.9232, -5.2649, -5.2875, -5.6884, -5.7261, -5.7639, -5.7877, -5.9896, -6.3436, -6.6132, -1.7281, -2.2308, -2.7393, -2.9881, -3.3178, -3.3365, -3.4582, -3.4886, -3.5883, -3.6323, -3.9723, -3.9951, -4.2851, -4.4126, -4.5051, -4.6973, -4.8825, -5.0234, -5.2478, -5.4205, -5.5205, -5.9472, -6.8152, -8.3727, -9.958, -11.6813, -11.6813, -11.6812, -11.6814, -11.6813, -11.681, -11.6807, -11.6807, -11.6811, -11.6812, -11.681, -11.6811, -1.6701, -1.8541, -2.5231, -3.1877, -3.4334, -3.4895, -3.7477, -4.019, -4.055, -4.0649, -4.3268, -4.5609, -5.2586, -5.3024, -5.6081, -5.7475, -5.8641, -7.3271, -9.0225, -11.5153, -11.5151, -11.5154, -11.5154, -11.5153, -11.5154, -11.5154, -11.5154, -11.5154, -11.5153, -11.5154, -11.5152, -11.5151, -11.5152, -11.5152, -11.5153, -11.5149, -11.5152, -11.5149, -11.5149, -11.5152, -11.5152, -11.5151, -11.5152, -0.9713, -2.4885, -2.5578, -2.6173, -2.7533, -3.6394, -4.2109, -4.2486, -4.63, -4.634, -5.3986, -5.4833, -5.9784, -6.5132, -6.6795, -6.9582, -7.5, -8.4883, -8.6744, -9.2127, -11.9234, -11.9234, -11.9232, -11.9235, -11.9226, -11.9232, -11.9234, -11.9233, -11.9235, -11.9234, -11.9229, -7.9239, -11.9234, -11.9234, -11.9233, -11.9234, -2.2973, -2.4852, -2.6312, -3.0989, -3.2114, -3.3072, -3.5684, -3.9889, -4.0801, -4.2263, -4.234, -4.2754, -4.3248, -4.3601, -4.4283, -4.4704, -4.4977, -4.5164, -4.566, -4.6304, -4.667, -4.7406, -4.832, -4.8577, -4.9906, -5.0228, -5.5869, -5.8283, -6.8895, -6.9111, -1.5824, -2.3306, -2.9946, -3.1882, -3.2327, -3.57, -3.6602, -3.9378, -4.2939, -4.3184, -4.3701, -4.3855, -4.3899, -4.5319, -4.7984, -4.818, -4.8512, -5.1774, -5.2407, -5.3033, -5.374, -5.3846, -5.682, -5.8257, -6.0838, -9.1118, -11.4888, -11.4886, -11.4888, -11.4888, -11.4885, -11.488, -11.4886, -11.4882, -11.4884, -2.0076, -2.7302, -2.7632, -2.8443, -2.8735, -3.1288, -3.3695, -3.4637, -3.4884, -3.7042, -3.7294, -3.9074, -4.4959, -4.6355, -5.0859, -5.1392, -6.1999, -9.6146, -11.4372, -11.4374, -11.4375, -11.4374, -11.4373, -11.4373, -11.4375, -11.4373, -11.4375, -11.4375, -11.4375, -11.4375, -11.4374, -11.4374, -11.4374, -11.4374, -11.4374, -11.4374, -11.4371, -11.4371, -11.4374, -11.4373, -11.4372, -11.4373, -11.4373, -11.4374, -11.4374, -11.4374, -2.2795, -2.3136, -2.6454, -2.753, -3.0502, -3.1334, -3.4582, -3.5946, -3.6107, -4.0014, -4.0444, -4.6833, -4.7175, -5.2145, -5.82, -6.1356, -6.1574, -6.3679, -6.6185, -6.6608, -7.5199, -8.1658, -8.7325, -9.3922, -11.3462, -11.3463, -11.3463, -11.3463, -11.3463, -11.346, -11.3461, -11.3461, -11.346, -11.3461, -11.346, -11.3459, -2.0943, -2.5378, -2.9395, -3.106, -3.1081, -3.4949, -3.8205, -4.777, -4.8359, -4.9309, -5.029, -5.331, -6.6828, -11.0347, -11.0347, -11.0346, -11.0347, -11.0347, -11.0348, -11.0348, -11.0348, -11.0348, -11.0348, -11.0348, -11.0348, -11.0348, -11.0348, -11.0348, -11.0347, -11.0348, -11.0348, -11.0348, -11.0348, -11.0347, -11.0348, -11.0348, -11.0347, -11.0347, -11.0347, -11.0344, -11.0346, -11.0346, -11.0347, -11.0347, -11.0347, -11.0347, -11.0347, -11.0347, -11.0346, -11.0347, -11.0347, -11.0347], \"loglift\": [30.0, 29.0, 28.0, 27.0, 26.0, 25.0, 24.0, 23.0, 22.0, 21.0, 20.0, 19.0, 18.0, 17.0, 16.0, 15.0, 14.0, 13.0, 12.0, 11.0, 10.0, 9.0, 8.0, 7.0, 6.0, 5.0, 4.0, 3.0, 2.0, 1.0, 1.3533, 1.3532, 1.3532, 1.3532, 1.3531, 1.3531, 1.3531, 1.353, 1.353, 1.353, 1.353, 1.353, 1.3529, 1.3528, 1.3528, 1.3528, 1.3527, 1.3527, 1.3527, 1.3527, 1.3526, 1.3525, 1.3524, 1.3524, 1.3524, 1.3523, 1.3523, 1.3523, 1.3522, 1.3521, 1.3463, 0.9884, 1.2555, 1.0477, 1.7081, 1.708, 1.708, 1.7079, 1.7079, 1.7078, 1.7078, 1.7078, 1.7077, 1.7077, 1.7077, 1.7076, 1.7076, 1.7076, 1.7074, 1.7073, 1.7071, 1.707, 1.707, 1.707, 1.7069, 1.7069, 1.7068, 1.7068, 1.7068, 1.7067, 1.7067, 1.7067, 1.7065, 1.7065, 1.7059, 1.639, -0.0675, 2.373, 2.3729, 2.3728, 2.3727, 2.3727, 2.3726, 2.3725, 2.3725, 2.3722, 2.3722, 2.3722, 2.3721, 2.3721, 2.372, 2.3717, 2.3717, 2.3717, 2.3714, 2.3714, 2.3713, 2.371, 2.3706, 2.3705, 2.3703, 2.3702, 2.3699, 2.3699, 2.3696, 2.3693, 2.3693, 2.357, 2.3179, 0.3803, 2.789, 2.7888, 2.7885, 2.7885, 2.7885, 2.7884, 2.7883, 2.7882, 2.7876, 2.7875, 2.7875, 2.7873, 2.7873, 2.7872, 2.7871, 2.787, 2.7869, 2.7869, 2.7866, 2.7864, 2.7864, 2.7864, 2.7856, 2.7855, 2.7854, 2.785, 2.7849, 2.7847, 2.7846, 2.7845, 2.7436, 2.79, 2.7897, 2.7893, 2.789, 2.7889, 2.7886, 2.7883, 2.7883, 2.7882, 2.7882, 2.7881, 2.788, 2.7878, 2.7875, 2.7875, 2.7875, 2.7874, 2.7869, 2.7868, 2.7865, 2.7864, 2.7864, 2.7852, 2.7851, 2.7849, 2.7847, 2.7847, 2.7845, 2.784, 2.7829, 2.7618, 2.2764, 3.0157, 3.0155, 3.0154, 3.0153, 3.0153, 3.0145, 3.0143, 3.0142, 3.0137, 3.0134, 3.0128, 3.0127, 3.0126, 3.0124, 3.0123, 3.012, 3.0119, 3.0118, 3.0114, 3.0095, 3.0092, 3.0085, 3.0084, 3.0073, 3.0069, 3.0051, 3.0045, 3.0043, 3.0039, 3.0034, 2.1012, 3.0454, 3.0446, 3.0441, 3.044, 3.0439, 3.0432, 3.0427, 3.0426, 3.0423, 3.0422, 3.0415, 3.0412, 3.0406, 3.0405, 3.0402, 3.0402, 3.0393, 3.0381, 3.0377, 3.0376, 3.0375, 3.0372, 3.0361, 3.0359, 3.0358, 3.0338, 3.0334, 3.0326, 3.0294, 3.0282, 3.3171, 3.3164, 3.3163, 3.3158, 3.3154, 3.3153, 3.3152, 3.315, 3.3149, 3.3149, 3.3145, 3.3144, 3.3143, 3.3141, 3.314, 3.3138, 3.3138, 3.3137, 3.3131, 3.313, 3.3117, 3.3112, 3.3111, 3.3109, 3.3106, 3.3092, 3.3084, 3.3084, 3.308, 3.307, 3.413, 3.4126, 3.4124, 3.4122, 3.4122, 3.4113, 3.4103, 3.4102, 3.4093, 3.409, 3.409, 3.4089, 3.4087, 3.4086, 3.4079, 3.4077, 3.4066, 3.4046, 3.4041, 3.4039, 3.4038, 3.4031, 3.3999, 3.3993, 3.3988, 3.3961, 3.3934, 3.3931, 3.39, 3.3895, 3.5218, 3.5214, 3.5213, 3.5207, 3.5205, 3.5198, 3.5197, 3.5197, 3.5193, 3.5188, 3.5182, 3.5172, 3.5168, 3.5162, 3.5153, 3.5147, 3.5125, 3.5112, 3.5102, 3.5094, 3.5086, 3.5028, 3.4979, 3.4928, 3.4926, 3.4915, 3.4762, 3.473, 3.4644, 3.4556, 3.7161, 3.7154, 3.715, 3.7149, 3.7144, 3.7143, 3.7136, 3.7132, 3.7122, 3.7119, 3.7118, 3.7116, 3.7116, 3.7113, 3.7089, 3.7068, 3.7067, 3.7051, 3.7029, 3.7023, 3.7002, 3.6983, 3.6946, 3.6929, 3.6798, 3.6678, 3.6661, 3.6061, 3.5266, 3.393, 3.8824, 3.8819, 3.8818, 3.8818, 3.8816, 3.8816, 3.8805, 3.8803, 3.8802, 3.88, 3.879, 3.8779, 3.8762, 3.8761, 3.8753, 3.8715, 3.8694, 3.869, 3.8686, 3.8656, 3.8655, 3.8581, 3.8575, 3.8448, 3.8433, 3.8417, 3.8408, 3.8314, 3.8099, 3.788, 4.0215, 4.0209, 4.02, 4.0193, 4.0181, 4.018, 4.0175, 4.0173, 4.0168, 4.0166, 4.0142, 4.014, 4.0112, 4.0097, 4.0085, 4.0056, 4.0022, 3.9991, 3.9934, 3.988, 3.9845, 3.9648, 3.8904, 3.5097, 2.571, 1.0614, 1.0614, 1.0614, 1.0613, 1.0613, 1.0613, 1.0611, 1.0611, 1.0613, 1.0613, 1.0609, 1.0611, 4.1778, 4.1776, 4.1765, 4.1744, 4.1732, 4.1729, 4.1711, 4.1688, 4.1684, 4.1683, 4.1652, 4.1616, 4.1446, 4.1431, 4.1306, 4.1236, 4.117, 3.9357, 3.2628, 1.2274, 1.2274, 1.2274, 1.2274, 1.2274, 1.2274, 1.2274, 1.2274, 1.2274, 1.2274, 1.2274, 1.2273, 1.2273, 1.2273, 1.2273, 1.2273, 1.227, 1.2272, 1.2269, 1.2269, 1.2271, 1.2271, 1.2271, 1.2272, 4.1894, 4.1877, 4.1875, 4.1874, 4.187, 4.1828, 4.1774, 4.177, 4.171, 4.1709, 4.1495, 4.146, 4.1189, 4.0716, 4.0516, 4.0109, 3.8995, 3.5453, 3.4525, 3.1363, 0.8193, 0.8192, 0.8192, 0.8192, 0.8192, 0.8192, 0.8192, 0.8192, 0.8191, 0.8191, 0.819, -1.9413, 0.819, 0.819, 0.8186, 0.819, 4.1933, 4.1929, 4.1926, 4.1911, 4.1906, 4.1901, 4.1886, 4.1853, 4.1843, 4.1826, 4.1825, 4.182, 4.1814, 4.1809, 4.1799, 4.1792, 4.1788, 4.1785, 4.1776, 4.1765, 4.1758, 4.1743, 4.1724, 4.1718, 4.1685, 4.1676, 4.1473, 4.1346, 4.0294, 4.0261, 4.4079, 4.4066, 4.4044, 4.4034, 4.4032, 4.4009, 4.4001, 4.3973, 4.3923, 4.3919, 4.391, 4.3907, 4.3906, 4.3878, 4.3815, 4.3809, 4.38, 4.369, 4.3665, 4.3638, 4.3606, 4.3601, 4.3437, 4.3339, 4.3129, 3.2827, 1.2539, 1.2539, 1.2539, 1.2539, 1.2539, 1.2538, 1.2538, 1.2536, 1.2536, 4.4463, 4.4444, 4.4443, 4.444, 4.4438, 4.4426, 4.4411, 4.4405, 4.4403, 4.4384, 4.4382, 4.4362, 4.4269, 4.4237, 4.4101, 4.4081, 4.3367, 2.926, 1.3055, 1.3053, 1.3053, 1.3053, 1.3053, 1.3053, 1.3053, 1.3053, 1.3053, 1.3053, 1.3053, 1.3052, 1.3052, 1.3052, 1.3052, 1.3052, 1.3052, 1.3052, 1.3047, 1.3047, 1.3052, 1.3049, 1.3048, 1.3051, 1.305, 1.3051, 1.305, 1.3049, 4.4518, 4.4518, 4.4508, 4.4504, 4.4491, 4.4487, 4.4466, 4.4455, 4.4454, 4.4412, 4.4406, 4.4286, 4.4277, 4.4111, 4.3765, 4.3492, 4.347, 4.3235, 4.2892, 4.2826, 4.0883, 3.8428, 3.5437, 3.1001, 1.3964, 1.3964, 1.3964, 1.3964, 1.3964, 1.3964, 1.3964, 1.3964, 1.3963, 1.3963, 1.3962, 1.3959, 5.2243, 5.2219, 5.2186, 5.2168, 5.2168, 5.2113, 5.2047, 5.1677, 5.1641, 5.1579, 5.1508, 5.1248, 4.8761, 1.708, 1.708, 1.708, 1.708, 1.708, 1.7079, 1.7079, 1.7079, 1.7079, 1.7079, 1.7079, 1.7079, 1.7079, 1.7079, 1.7079, 1.7079, 1.7079, 1.7079, 1.7079, 1.7079, 1.7079, 1.7079, 1.7079, 1.7079, 1.7079, 1.7079, 1.7074, 1.7077, 1.7077, 1.7078, 1.7078, 1.7078, 1.7076, 1.7076, 1.7077, 1.7071, 1.7077, 1.7076, 1.7072]}, \"token.table\": {\"Topic\": [2, 20, 13, 9, 7, 20, 7, 11, 9, 10, 9, 1, 20, 15, 8, 9, 9, 3, 9, 15, 9, 2, 16, 5, 14, 10, 11, 3, 19, 13, 5, 5, 7, 12, 5, 3, 6, 3, 2, 19, 4, 3, 9, 4, 2, 11, 9, 15, 18, 19, 9, 16, 3, 6, 15, 3, 6, 13, 14, 8, 8, 16, 14, 14, 16, 1, 16, 4, 9, 3, 12, 8, 16, 18, 1, 5, 4, 1, 4, 6, 17, 7, 9, 14, 1, 10, 6, 10, 12, 13, 5, 7, 13, 7, 17, 1, 14, 10, 18, 6, 10, 4, 5, 15, 6, 3, 13, 15, 11, 5, 7, 1, 2, 16, 1, 5, 12, 5, 17, 7, 15, 17, 16, 18, 1, 18, 18, 7, 6, 3, 11, 2, 16, 19, 8, 11, 20, 17, 3, 8, 17, 18, 8, 1, 3, 20, 10, 12, 15, 7, 17, 19, 18, 10, 15, 19, 19, 4, 11, 16, 11, 13, 13, 16, 10, 8, 19, 9, 8, 2, 4, 14, 1, 17, 16, 8, 7, 1, 12, 20, 20, 3, 5, 14, 4, 2, 2, 3, 11, 11, 2, 2, 13, 11, 3, 9, 6, 16, 15, 17, 10, 12, 10, 3, 5, 19, 16, 9, 12, 8, 16, 2, 9, 12, 5, 12, 14, 17, 11, 7, 19, 5, 10, 13, 1, 17, 9, 7, 8, 6, 11, 12, 11, 15, 15, 18, 2, 9, 2, 18, 5, 10, 4, 19, 2, 12, 5, 10, 4, 17, 17, 7, 4, 1, 1, 13, 11, 10, 2, 2, 8, 16, 6, 13, 8, 4, 19, 1, 3, 4, 15, 2, 7, 19, 12, 8, 18, 7, 6, 2, 4, 17, 5, 1, 18, 14, 15, 16, 12, 12, 20, 3, 6, 12, 19, 16, 1, 17, 17, 7, 2, 19, 14, 5, 4, 5, 9, 7, 4, 3, 8, 3, 15, 10, 13, 6, 8, 9, 6, 15, 11, 12, 7, 7, 4, 6, 11, 20, 17, 11, 16, 1, 3, 9, 4, 19, 10, 5, 6, 1, 6, 19, 5, 15, 13, 3, 5, 6, 18, 18, 4, 4, 7, 10, 18, 12, 6, 12, 12, 8, 13, 3, 8, 6, 5, 8, 11, 8, 15, 13, 1, 7, 6, 3, 13, 14, 11, 6, 13, 3, 12, 3, 3, 1, 12, 13, 11, 19, 17, 10, 18, 13, 1, 2, 17, 1, 17, 20, 12, 10, 12, 18, 3, 1, 1, 11, 3, 1, 10, 12, 9, 10, 4, 10, 16, 2, 1, 5, 11, 10, 3, 6, 4, 12, 2, 9, 16, 5, 6, 5, 2, 17, 14, 1, 11, 1, 6, 4, 16, 15, 8, 5, 6, 12, 13, 3, 19, 7, 5, 5, 11, 2, 11, 6, 8, 17, 14, 19, 19, 6, 20, 7, 20, 4, 7, 11, 4, 4, 6, 17, 19, 15, 16, 9, 8, 6, 16, 7, 4, 11, 10, 17, 10, 2, 12, 9, 1, 7, 5, 19, 1, 2, 3, 14, 14, 10, 8, 2, 1, 10, 20, 16, 9, 8, 12, 10, 7, 13, 10, 4, 16, 14, 4, 7, 5, 14, 8, 1, 15, 19, 8, 2, 3, 12, 1, 16, 7, 2, 1, 17, 5, 6, 11, 4, 16, 6, 2, 9, 3, 13, 8, 16, 2, 11, 9, 14, 8, 9, 17, 16, 2, 2, 6, 3, 2, 13, 4, 9], \"Freq\": [0.9988598247772249, 0.9005006653765503, 0.9960547753395129, 0.979779661460648, 0.9988870820880966, 0.9907661923147875, 0.9998605555370655, 0.9977286057232809, 0.9995909340836691, 0.9925239524273658, 0.9986665533688395, 0.9997065416920033, 0.9259251019088187, 0.8597783443859378, 0.9945142596374211, 0.983443225028095, 0.9949974500764859, 0.9955000037880659, 0.9923400526816143, 0.9438368681120679, 0.9954125992614997, 0.9994814821950164, 0.9978656794940505, 0.996722119714756, 0.9320052729386941, 0.9431575654871288, 0.9553117448360887, 0.9960557223667705, 0.953370553310154, 0.9966396614100062, 0.9933186107652943, 0.9985017668964526, 0.9986984339649907, 0.990018700749594, 0.9986329537658782, 0.9835484045372224, 0.015522284720099635, 0.9983658957683451, 0.9988990861175787, 0.8379578781671344, 0.9988167988104334, 0.9965692940843419, 0.9950437991183535, 0.9961157333843713, 0.9983929647199098, 0.9876352610627057, 0.9959412599782216, 0.983483641351207, 0.995449883375675, 0.9430313710559389, 0.9760971848769776, 0.9956670355461469, 0.9990615002902111, 0.9957737992365324, 0.826372231474974, 0.9982297162890376, 0.9882924719657814, 0.970511236177482, 0.9921989382685961, 0.9957985660586074, 0.9970421569119061, 0.9673674614156108, 0.9866382319377347, 0.9602530320939137, 0.9827355248448437, 0.9992712538366759, 0.9918705212984685, 0.9987654605232917, 0.9905775138680631, 0.9988840508732785, 0.9620839445926669, 0.9993878749142819, 0.978197221040098, 0.9065462945521358, 0.9998022820184623, 0.9973358012676682, 0.997299775718051, 0.9995613385873802, 0.9988690793058146, 0.9930187676514121, 0.9876744957839377, 0.9968331828115798, 0.9991667767373469, 0.7208080044176479, 0.9987843375094924, 0.9575878605250299, 0.9971477971373737, 0.9672379207444911, 0.9940619399320919, 0.9908722381803009, 0.9979933031183482, 0.9926553035618161, 0.9955132298403981, 0.9897102249728659, 0.9204282132586403, 0.9995128404289494, 0.9653400257011856, 0.996656506162582, 0.9708768201196302, 0.9944703810329032, 0.999202132439782, 0.9969492368284377, 0.996447223573825, 0.8781638758837212, 0.999688838769425, 0.9967045732979626, 0.9819340087158105, 0.8471108499708819, 0.98046629087041, 0.9987560622529678, 0.9982646337853172, 0.7365355478107035, 0.2630171504659732, 0.9920781331541236, 0.02763535939387888, 0.9720109590447035, 0.9902981223454282, 0.9966378667440613, 0.9828758485643356, 0.9965014221848633, 0.9963688445043988, 0.987533409971825, 0.994735987546996, 0.9909573327468564, 0.999306260393529, 0.9957488606130334, 0.9967470965133719, 0.9914175701003286, 0.9972436520540211, 0.9962858071640822, 0.9197828499792288, 0.9982699059129111, 0.9867319579754196, 0.9952293021260288, 0.9882536363700664, 0.9951865319898504, 0.7753738576734159, 0.9985287766904969, 0.9979352081451744, 0.9897264525684457, 0.947624059579391, 0.9607445308864141, 0.995187118973808, 0.9998615240094963, 0.997403236636783, 0.996728144353106, 0.988765804344223, 0.9978457856012913, 0.6231955764178518, 0.994926960354163, 0.9916050201180545, 0.9731017643720367, 0.9918461290807475, 0.9980788026113859, 0.9873315378446771, 0.9879618633239979, 0.9934773209866963, 0.9947978503128357, 0.9802365660997352, 0.9769390174604984, 0.9968351070285751, 0.9807301441596737, 0.9335737858623998, 0.9858043419385302, 0.9779537318680368, 0.9950224142713059, 0.9978798407341715, 0.9896125353563492, 0.9985588527736426, 0.9975324584286545, 0.0019636465717099497, 0.9920589511796672, 0.9991749491622649, 0.983418978951618, 0.9870767522556898, 0.992335625551797, 0.9969165020469422, 0.9992793833757105, 0.9545703476374751, 0.9938388588469875, 0.935810480394609, 0.9990278817527, 0.9958906333924072, 0.9942122729630659, 0.996161628168986, 0.9997962356277502, 0.933148394773091, 0.06654292035695342, 0.988374825620096, 0.9957184392476933, 0.9991661426550043, 0.9995686582577931, 0.9927092659891619, 0.7467508935704366, 0.9980252638673642, 0.9953908532383908, 0.9952418989973673, 0.9877505668331231, 0.9569954494865972, 0.9930893791972009, 0.992429445588492, 0.9953351117219432, 0.9966643457163779, 0.9994537664396611, 0.9962571161965197, 0.9922095437711628, 0.9833231848058075, 0.997564677570928, 0.9763906384825994, 0.9962638713251027, 0.9840135384454942, 0.9986232445266232, 0.9838348554006319, 0.9982967914420546, 0.9967751041521213, 0.9136344344828266, 0.9921871005209529, 0.9864224762242154, 0.9962442027784216, 0.9883553192985052, 0.9713719897603399, 0.99315439105591, 0.9961866554049149, 0.9981419169732054, 0.9997380419746301, 0.9940770576133772, 0.9919332939423072, 0.9930924464225349, 0.9936745348760655, 0.9972643095259116, 0.9944625248796891, 0.954350594476416, 0.9876461863867853, 0.9977170455760752, 0.9969598254880272, 0.9882521000374633, 0.9993875162067409, 0.9835586529239828, 0.9994858199524883, 0.9959536313220834, 0.9982055612377123, 0.9849768779802561, 0.9975851110871631, 0.8778350733292618, 0.998690649486405, 0.9967290457501943, 0.9950531109410709, 0.9731377620917061, 0.9975579842193084, 0.9880249646953474, 0.9975092534086948, 0.9958204443806448, 0.997025247582326, 0.9991236537947376, 0.999109882675796, 0.9943608510031627, 0.996549366019809, 0.9337336905936681, 0.9988652576471292, 0.9988289823610256, 0.9954176813073026, 0.9852494070360873, 0.988353118381643, 0.5357498626664641, 0.9967487466313794, 0.9975226540658193, 0.927000735138786, 0.9994311530710354, 0.9971050532364513, 0.9968720813392101, 0.9846028919469036, 0.9995328152423656, 0.9837837590866099, 0.9859465695743903, 0.9974433005406589, 0.9968880013470421, 0.9594060463593411, 0.9918542003293751, 0.9926581902771298, 0.9988037093932001, 0.9971647533862332, 0.9700606510640221, 0.9964939295034815, 0.9995153906256937, 0.9917938981891661, 0.9420075178754571, 0.9881544175779259, 0.9974632344851511, 0.9837382576249892, 0.9962580721440265, 0.9839935628986943, 0.9966619875438593, 0.9994174185345984, 0.9910459813655327, 0.9968880583650054, 0.8176682949173377, 0.9994292854164954, 0.964068977510859, 0.9696646860852669, 0.9926244923578298, 0.9997204731301418, 0.3971371372832767, 0.9983049871680577, 0.9984455297129193, 0.9977185362491278, 0.9997855650067579, 0.9986813862001075, 0.9959138397477431, 0.9987458063328234, 0.9993344981764009, 0.9980046763226, 0.9994014630981712, 0.9932261369268124, 0.9595443930492535, 0.9757642404909154, 0.9993280242900573, 0.9980167697617925, 0.9917810349028411, 0.9966710764296981, 0.002201777046604635, 0.9983299709038312, 0.9885107156135527, 0.9866402394174703, 0.9990681884304047, 0.9954809178789517, 0.9992267481974014, 0.999406355650257, 0.985182252012383, 0.44699473482000873, 0.9730420202375931, 0.9732747057459117, 0.05345194288455993, 0.9462021812545657, 0.9870957443022512, 0.9991653234140578, 0.9970484627364542, 0.9930013142434193, 0.9981878621571684, 0.9978512167798252, 0.9991778569242168, 0.9953667417197781, 0.4929190111615137, 0.9979645610949097, 0.4271231657500321, 0.9737477009407997, 0.9985255008096084, 0.9959412559419031, 0.9931968908248459, 0.9968054705652876, 0.9982511275980944, 0.9981395486939343, 0.9968603767531716, 0.9943862108873982, 0.9966473834222828, 0.9928202444824203, 0.9669055953053526, 0.9968535306621119, 0.9968885311968063, 0.9983033920269917, 0.9937643539117941, 0.9974016692688962, 0.9992155882074956, 0.9878663460770363, 0.9982720849208299, 0.995926728913664, 0.9985411774887297, 0.9977793078484094, 0.9917743095806714, 0.9971056835327745, 0.9849749051705067, 0.999025470651523, 0.984677412131097, 0.9978060803245268, 0.9954638588213175, 0.9963276396217945, 0.9991127424112032, 0.9967619859214237, 0.9849881187766202, 0.9912460891214682, 0.9983979019227447, 0.9974772033239635, 0.9985337797385433, 0.9962417619333109, 0.9998566145663143, 0.9980464231504341, 0.987061646519306, 0.9953494493733396, 0.9955891265023268, 0.9804457217789251, 0.9940753149236446, 0.9927658878939852, 0.9083279885091157, 0.9070137532344202, 0.09255242379943063, 0.9585393627457269, 0.9992752713245711, 0.9906258711371464, 0.9692156453232404, 0.9507737976153446, 0.9972805304438873, 0.9933740852742505, 0.9859263654873651, 0.9985426752075254, 0.9991813150830156, 0.9995340075937531, 0.8184912263081238, 0.9995701867290141, 0.9989151479851067, 0.9912753253118698, 0.9934509151690084, 0.9887783972504915, 0.9965147994260295, 0.9972766225110403, 0.9995578292155329, 0.9887389386754951, 0.9987660306032355, 0.998777122695611, 0.9983817578936528, 0.9804229876029428, 0.997286536254733, 0.9989387690442125, 0.9956797171672467, 0.9957306983952855, 0.9835900722379812, 0.9981342048272768, 0.9945042774213823, 0.9799496212615959, 0.9951226699798834, 0.9992237143040407, 0.9993880525263383, 0.9993546354072296, 0.9954606308862981, 0.977517860946074, 0.9995608237634726, 0.9970422977573308, 0.9930964798035306, 0.006673608344279725, 0.997656926470142, 0.9955068219024835, 0.34207283576378733, 0.9986033238512543, 0.9939035997943235, 0.9887161379765405, 0.9862866068510636, 0.9970624641775759, 0.9984478401752175, 0.6078361547730428, 0.9981410750411059, 0.9982262059716973, 0.9931738008518813, 0.98958273731281, 0.9988603392695855, 0.9875706847022239, 0.9906946405549387, 0.9968518685401546, 0.9088366880273969, 0.9988160962782501, 0.9933857758549461, 0.8954756891151976, 0.9977233583307304, 0.9273896389248977, 0.9917814104684386, 0.9889586714142883, 0.9991184852534085, 0.9905301455465876, 0.9970862568193811, 0.9981961042748885, 0.954178102182276, 0.04194189460141872, 0.9093831480648635, 0.6108688724600003, 0.9602611426029837, 0.9430536386184483, 0.9898865488070125, 0.9967467606799536, 0.9916145179285709, 0.9378098513532123, 0.9948449588218057, 0.9995739653878885, 0.9902738479079621, 0.9985874645716878, 0.9381256290924931, 0.9990447918612357, 0.9996190339097771, 0.956117749735273, 0.9961793847347813, 0.9997139497453352, 0.9916315021855151, 0.9939866989852054, 0.9937320134946144, 0.6940857445378943, 0.16928920598485228, 0.13626121383682718, 0.4008098245431713, 0.920289368931738, 0.990120992121353, 0.9978972400824713, 0.9997562125815928, 0.9988861999663396, 0.9762634675611999, 0.9378668532484894, 0.8327498206035568, 0.9960971707060302, 0.9981066136449962, 0.971458516108186, 0.9853184677586618, 0.9836420851376904, 0.9868018531021674, 0.9648929392478216, 0.996665349902473, 0.9876468003301484, 0.9838453406977741, 0.99899924625961, 0.9966649302465723, 0.9934107391322073, 0.9894009656054658, 0.9966867226742462, 0.9997285589628424, 0.9995335878244576, 0.8085270036355315, 0.9956073508663177, 0.998522778871909, 0.0007076702897745635, 0.9710756011099881, 0.9997712319023064, 0.988451054688658, 0.9964638215541218, 0.9982899571366505, 0.9987702133875046, 0.9645474916873248, 0.5984588120961692, 0.40047243816961703, 0.9352785647319656, 0.9959765477424818, 0.9976579852269237, 0.9850088375170251, 0.9995409162558018, 0.9946810831804204, 0.9990401097802678, 0.9988766416814981, 0.9886945981969774, 0.9793129165613403, 0.9989312207010376, 0.968051494287337, 0.9986946545303016, 0.9943887662156593, 0.9977950709540804, 0.9958126482345031, 0.9635644982672257, 0.9954005320313836, 0.9994402391401399, 0.9980456342967173, 0.9955366643872108, 0.9996261727383786, 0.9995216173859045, 0.9693374525245797, 0.9981301570931885, 0.9839692204846858], \"Term\": [\"able\", \"absolute\", \"accept\", \"acceptable\", \"access\", \"accord\", \"account\", \"action\", \"activity\", \"actually\", \"add\", \"address\", \"affordable\", \"afraid\", \"agree\", \"aid\", \"alert\", \"allow\", \"almost\", \"alone\", \"already\", \"also\", \"amount\", \"answer\", \"anti\", \"anymore\", \"anywhere\", \"appear\", \"appearance\", \"application\", \"area\", \"assist\", \"assistance\", \"association\", \"attention\", \"available\", \"available\", \"avoid\", \"back\", \"back_guarantee\", \"base\", \"become\", \"begin\", \"behalf\", \"benefit\", \"beta\", \"big\", \"blacklist\", \"book\", \"bottle\", \"break\", \"build\", \"business\", \"buy\", \"buying\", \"call\", \"camera\", \"canadian\", \"care\", \"case\", \"cash\", \"central\", \"certain\", \"certificate\", \"challenge\", \"change\", \"chat\", \"check\", \"child\", \"choose\", \"cialis\", \"claim\", \"class\", \"classroom\", \"click\", \"client\", \"collect\", \"com\", \"come\", \"commit\", \"common\", \"communication\", \"company\", \"competitor\", \"complete\", \"completion\", \"computer\", \"concept\", \"concern\", \"condition\", \"confidential\", \"confidentiality\", \"confirmation\", \"consider\", \"constant\", \"contact\", \"convenient\", \"copyright\", \"corporate\", \"cost\", \"country\", \"course\", \"create\", \"credit_card\", \"customer\", \"daily\", \"danger\", \"dangerous\", \"dark\", \"date\", \"datum\", \"day\", \"day\", \"dead\", \"dear\", \"dear\", \"dear_value\", \"decide\", \"dedicate\", \"deliver\", \"delivery\", \"demand\", \"design\", \"desk\", \"detail\", \"different\", \"directly\", \"director\", \"discount\", \"discuss\", \"dns\", \"dollar\", \"door\", \"download\", \"draw\", \"drive\", \"drugstore\", \"due\", \"easy\", \"effect\", \"effective\", \"efficient\", \"eligible\", \"email\", \"end\", \"enjoy\", \"enough\", \"ensure\", \"erection\", \"event\", \"ever\", \"exercise\", \"exist\", \"experience\", \"expert\", \"explain\", \"extend\", \"extra\", \"eye\", \"factor\", \"fail\", \"faithfully\", \"fake\", \"fall\", \"fan\", \"fax\", \"feature\", \"fight\", \"file\", \"find\", \"find\", \"finish\", \"follow\", \"food\", \"forever\", \"fortune\", \"forward\", \"free\", \"frequently\", \"friend\", \"friendly\", \"full\", \"fun\", \"gain\", \"generate\", \"get\", \"give\", \"give\", \"glass\", \"global\", \"go\", \"good\", \"government\", \"gray\", \"great\", \"grow\", \"guarantee\", \"guy\", \"half\", \"hand\", \"head\", \"health\", \"hear\", \"help\", \"high\", \"highly\", \"hit\", \"hold\", \"holiday\", \"home\", \"honest\", \"hope\", \"hot\", \"hour\", \"however\", \"html\", \"huge\", \"human\", \"i\", \"improve\", \"inch\", \"incredible\", \"individual\", \"inform\", \"information\", \"instantly\", \"instead\", \"intend\", \"international\", \"internet\", \"introduce\", \"investigate\", \"ip\", \"issue\", \"join\", \"joint\", \"keep\", \"kid\", \"know\", \"lead\", \"learn\", \"least\", \"leave\", \"length\", \"let\", \"letter\", \"level\", \"license\", \"life\", \"light\", \"like\", \"limit\", \"line\", \"link\", \"list\", \"loan\", \"lock\", \"logo\", \"look\", \"lose\", \"lottery\", \"love\", \"low\", \"lower\", \"lucky\", \"m\", \"magazine\", \"mail\", \"mailing_list\", \"main\", \"maintain\", \"make\", \"maker\", \"male\", \"manage\", \"manager\", \"manner\", \"market\", \"marketing\", \"matter\", \"mean\", \"medicine\", \"meet\", \"message\", \"method\", \"mile\", \"million\", \"mind\", \"minimum\", \"minute\", \"model\", \"moment\", \"money\", \"monitor\", \"month\", \"muscle\", \"name\", \"natural\", \"necessarily\", \"necessary\", \"need\", \"nervous\", \"net\", \"network\", \"never\", \"new\", \"news\", \"newsletter\", \"next\", \"note\", \"notification\", \"number\", \"obtain\", \"obviously\", \"occur\", \"offer\", \"office\", \"one\", \"online\", \"online\", \"open\", \"operate\", \"opinion\", \"opportunity\", \"option\", \"order\", \"org\", \"organization\", \"orgasm\", \"originate\", \"overall\", \"page\", \"page\", \"parent\", \"part\", \"participate\", \"participation\", \"partner\", \"pay\", \"payment\", \"period\", \"permanent_result\", \"personal\", \"pharmaceutical\", \"pharmacy\", \"phone\", \"photo\", \"pill\", \"plan\", \"platform\", \"play\", \"potential\", \"power\", \"present\", \"press\", \"pressure\", \"price\", \"privacy\", \"private\", \"prize\", \"problem\", \"process\", \"processing\", \"product\", \"profile\", \"program\", \"project\", \"propose\", \"protect\", \"prove\", \"provide\", \"provider\", \"purchase\", \"purpose\", \"put\", \"question\", \"quick\", \"quickly\", \"quite\", \"reach\", \"read\", \"ready\", \"reason\", \"receive\", \"recent\", \"recieve\", \"recipient\", \"recommend\", \"recover\", \"refer\", \"reference\", \"refinance\", \"regard\", \"regard\", \"region\", \"register\", \"relate\", \"relative\", \"relax\", \"release\", \"reliable\", \"reminder\", \"remove\", \"reply\", \"report\", \"reporting\", \"request\", \"require\", \"requirement\", \"research\", \"resource\", \"respond\", \"return\", \"reward\", \"rich\", \"right\", \"rights_reserve\", \"risk\", \"room\", \"run\", \"safe\", \"sale\", \"save\", \"saving\", \"say\", \"schedule\", \"screen\", \"search\", \"secure\", \"security\", \"see\", \"seek\", \"self\", \"send\", \"sender\", \"service\", \"service\", \"set\", \"several\", \"sex_life\", \"share\", \"shipping\", \"shop\", \"shopping\", \"short\", \"show\", \"side_effect\", \"sign\", \"sincerely\", \"single\", \"sit\", \"site\", \"size\", \"skill\", \"software\", \"somewhere\", \"soon\", \"sorry\", \"sp\", \"special\", \"specialize\", \"staff\", \"stand\", \"start\", \"statement\", \"status\", \"still\", \"store\", \"store\", \"strength\", \"sudden\", \"suffer\", \"sufficient\", \"suggest\", \"sum\", \"summary\", \"supplement\", \"supply\", \"support\", \"suppose\", \"sure\", \"surely\", \"system\", \"take\", \"take_care\", \"talk\", \"team\", \"technology\", \"telephone\", \"test\", \"thank\", \"thank\", \"thank\", \"thick\", \"thinking\", \"thus\", \"ticket\", \"time\", \"today\", \"tomorrow\", \"ton\", \"tooth\", \"top\", \"total\", \"tour\", \"trademark\", \"transmission\", \"treatment\", \"tree\", \"trouble\", \"true\", \"truth\", \"try\", \"understand\", \"unique\", \"unit\", \"united_state\", \"unsubscribe\", \"update\", \"upto\", \"urgent\", \"use\", \"use\", \"useful\", \"user\", \"valuable\", \"value\", \"ve\", \"view\", \"visa\", \"visit\", \"visit\", \"voice\", \"volume\", \"wait\", \"waiting\", \"want\", \"watch\", \"way\", \"web\", \"webmail\", \"weekend\", \"well\", \"wide\", \"win\", \"window\", \"winner\", \"woman\", \"wonderful\", \"word\", \"work\", \"world\", \"worth\", \"write\", \"year\", \"yesterday\", \"yet\", \"young\"]}, \"R\": 30, \"lambda.step\": 0.01, \"plot.opts\": {\"xlab\": \"PC1\", \"ylab\": \"PC2\"}, \"topic.order\": [7, 4, 2, 5, 13, 8, 12, 14, 18, 9, 11, 3, 10, 16, 15, 17, 1, 20, 19, 6]};\n",
       "\n",
       "function LDAvis_load_lib(url, callback){\n",
       "  var s = document.createElement('script');\n",
       "  s.src = url;\n",
       "  s.async = true;\n",
       "  s.onreadystatechange = s.onload = callback;\n",
       "  s.onerror = function(){console.warn(\"failed to load library \" + url);};\n",
       "  document.getElementsByTagName(\"head\")[0].appendChild(s);\n",
       "}\n",
       "\n",
       "if(typeof(LDAvis) !== \"undefined\"){\n",
       "   // already loaded: just create the visualization\n",
       "   !function(LDAvis){\n",
       "       new LDAvis(\"#\" + \"ldavis_el25591377276679107206462457389\", ldavis_el25591377276679107206462457389_data);\n",
       "   }(LDAvis);\n",
       "}else if(typeof define === \"function\" && define.amd){\n",
       "   // require.js is available: use it to load d3/LDAvis\n",
       "   require.config({paths: {d3: \"https://d3js.org/d3.v5\"}});\n",
       "   require([\"d3\"], function(d3){\n",
       "      window.d3 = d3;\n",
       "      LDAvis_load_lib(\"https://cdn.jsdelivr.net/gh/bmabey/pyLDAvis@3.4.0/pyLDAvis/js/ldavis.v3.0.0.js\", function(){\n",
       "        new LDAvis(\"#\" + \"ldavis_el25591377276679107206462457389\", ldavis_el25591377276679107206462457389_data);\n",
       "      });\n",
       "    });\n",
       "}else{\n",
       "    // require.js not available: dynamically load d3 & LDAvis\n",
       "    LDAvis_load_lib(\"https://d3js.org/d3.v5.js\", function(){\n",
       "         LDAvis_load_lib(\"https://cdn.jsdelivr.net/gh/bmabey/pyLDAvis@3.4.0/pyLDAvis/js/ldavis.v3.0.0.js\", function(){\n",
       "                 new LDAvis(\"#\" + \"ldavis_el25591377276679107206462457389\", ldavis_el25591377276679107206462457389_data);\n",
       "            })\n",
       "         });\n",
       "}\n",
       "</script>"
      ]
     },
     "metadata": {},
     "execution_count": 38
    }
   ]
  },
  {
   "cell_type": "code",
   "source": [
    "from gensim.models import LdaModel\n",
    "from gensim.models.coherencemodel import CoherenceModel\n",
    "from tqdm.notebook import tqdm\n",
    "\n",
    "def compute_coherence_values(dictionary, corpus, texts, limit, start=2, step=3):\n",
    "    \"\"\"\n",
    "    Compute c_v coherence for various number of topics using Gensim's LdaModel,\n",
    "    with progress displayed using tqdm.\n",
    "\n",
    "    Parameters:\n",
    "    ----------\n",
    "    dictionary : Gensim dictionary\n",
    "    corpus : Gensim corpus\n",
    "    texts : List of input texts\n",
    "    limit : Max num of topics\n",
    "    start : Minimum number of topics (default=2)\n",
    "    step : Step size to increase the number of topics (default=3)\n",
    "\n",
    "    Returns:\n",
    "    -------\n",
    "    model_list : List of LDA topic models\n",
    "    coherence_values : Coherence values corresponding to the LDA model with respective number of topics\n",
    "    \"\"\"\n",
    "    coherence_values = []\n",
    "    model_list = []\n",
    "\n",
    "    total_iterations = ((limit - start) + step - 1) // step  # ceiling division\n",
    "    for num_topics in tqdm(range(start, limit, step), total=total_iterations, desc=\"Calculando modelos LDA\"):\n",
    "        model = LdaModel(corpus=corpus,\n",
    "                         id2word=dictionary,\n",
    "                         num_topics=num_topics,\n",
    "                         random_state=100,\n",
    "                         update_every=1,\n",
    "                         chunksize=100,\n",
    "                         passes=10,\n",
    "                         alpha='auto',\n",
    "                         per_word_topics=True)\n",
    "\n",
    "        model_list.append(model)\n",
    "        coherencemodel = CoherenceModel(model=model, texts=texts, dictionary=dictionary, coherence='c_v')\n",
    "        coherence_values.append(coherencemodel.get_coherence())\n",
    "\n",
    "    return model_list, coherence_values"
   ],
   "metadata": {
    "id": "thkm2KochBWD"
   },
   "execution_count": 48,
   "outputs": []
  },
  {
   "cell_type": "code",
   "source": [
    "model_list, coherence_values = compute_coherence_values(dictionary=id2word, corpus=corpus, texts=data_lemmatized, start=2, limit=40, step=1)\n"
   ],
   "metadata": {
    "id": "iGdGpD1rfoqT",
    "outputId": "6a52340c-1110-4dda-8dfb-1f5980688292",
    "colab": {
     "base_uri": "https://localhost:8080/",
     "height": 49,
     "referenced_widgets": [
      "f865333598734408ae0d5485854d5f5a",
      "fa2231ece66b4c6daff715d4a93209bd",
      "cefdfc7eaae64a3d8dc847d993122bd0",
      "b4c5da38339e4a6bab4418486c36f820",
      "296cdcfb83924e89ae163872be854a0a",
      "08b8cabe0d124e7c959feb8df068243b",
      "8b07197c32644c3697bc47569c6930fc",
      "37af9aee84c4479fb407dd5e446ad154",
      "edc18039a8bb4534bb228bc070f67c59",
      "49b6c75ce70b42fb90dcf633eec89f43",
      "2d434619b3204fbfbd65bbf7399dd602"
     ]
    }
   },
   "execution_count": 49,
   "outputs": [
    {
     "output_type": "display_data",
     "data": {
      "text/plain": [
       "Calculando modelos LDA:   0%|          | 0/38 [00:00<?, ?it/s]"
      ],
      "application/vnd.jupyter.widget-view+json": {
       "version_major": 2,
       "version_minor": 0,
       "model_id": "f865333598734408ae0d5485854d5f5a"
      }
     },
     "metadata": {}
    }
   ]
  },
  {
   "cell_type": "code",
   "source": [
    "# Show graph\n",
    "limit=40; start=2; step=1;\n",
    "x = range(start, limit, step)\n",
    "plt.plot(x, coherence_values)\n",
    "plt.xlabel(\"Num Topics\")\n",
    "plt.ylabel(\"Coherence score\")\n",
    "plt.legend((\"coherence_values\"), loc='best')\n",
    "plt.show()"
   ],
   "metadata": {
    "id": "zuzbGPqcfqmp",
    "outputId": "173aa638-e9a5-4b2a-ba0a-f99421f6cc1e",
    "colab": {
     "base_uri": "https://localhost:8080/",
     "height": 449
    }
   },
   "execution_count": 50,
   "outputs": [
    {
     "output_type": "display_data",
     "data": {
      "text/plain": [
       "<Figure size 640x480 with 1 Axes>"
      ],
      "image/png": "[encoded data removed]"
     },
     "metadata": {}
    }
   ]
  },
  {
   "cell_type": "code",
   "source": [
    "vis = pyLDAvis.gensim.prepare(model_list[3], corpus, id2word)\n",
    "vis"
   ],
   "metadata": {
    "id": "KAnAMwgyv6AX",
    "outputId": "e7438c39-73a8-4e71-f593-dd16e6cdeab4",
    "colab": {
     "base_uri": "https://localhost:8080/",
     "height": 881
    }
   },
   "execution_count": 56,
   "outputs": [
    {
     "output_type": "execute_result",
     "data": {
      "text/plain": [
       "PreparedData(topic_coordinates=              x         y  topics  cluster       Freq\n",
       "topic                                                \n",
       "0     -0.306007 -0.155290       1        1  46.708336\n",
       "4      0.108584 -0.166110       2        1  18.935217\n",
       "3     -0.128958  0.294610       3        1  16.019235\n",
       "1      0.115348 -0.029847       4        1  13.967720\n",
       "2      0.211033  0.056637       5        1   4.369493, topic_info=           Term         Freq        Total Category  logprob  loglift\n",
       "4         click  4308.000000  4308.000000  Default  30.0000  30.0000\n",
       "144       email  7211.000000  7211.000000  Default  29.0000  29.0000\n",
       "358     account  8302.000000  8302.000000  Default  28.0000  28.0000\n",
       "4110     device  2498.000000  2498.000000  Default  27.0000  27.0000\n",
       "179     receive  4812.000000  4812.000000  Default  26.0000  26.0000\n",
       "...         ...          ...          ...      ...      ...      ...\n",
       "2910    journey   173.775928   234.491197   Topic5  -4.9114   2.8309\n",
       "4277       coin    84.790011    90.700737   Topic5  -5.6289   3.0631\n",
       "34325  funtoken   149.214857   211.487751   Topic5  -5.0637   2.7817\n",
       "8370        nft    98.812320   235.544629   Topic5  -5.4759   2.2618\n",
       "349       order   100.376216   964.814049   Topic5  -5.4602   0.8675\n",
       "\n",
       "[267 rows x 6 columns], token_table=      Topic      Freq      Term\n",
       "term                           \n",
       "1517      2  0.884377    access\n",
       "1517      4  0.115353    access\n",
       "358       1  0.999895   account\n",
       "385       2  0.998666    action\n",
       "1530      1  0.999146  activity\n",
       "...     ...       ...       ...\n",
       "248       4  0.702679      work\n",
       "296       1  0.057974     write\n",
       "296       2  0.941870     write\n",
       "249       3  0.396949      year\n",
       "249       4  0.602543      year\n",
       "\n",
       "[374 rows x 3 columns], R=30, lambda_step=0.01, plot_opts={'xlab': 'PC1', 'ylab': 'PC2'}, topic_order=[1, 5, 4, 2, 3])"
      ],
      "text/html": [
       "\n",
       "<link rel=\"stylesheet\" type=\"text/css\" href=\"https://cdn.jsdelivr.net/gh/bmabey/pyLDAvis@3.4.0/pyLDAvis/js/ldavis.v1.0.0.css\">\n",
       "\n",
       "\n",
       "<div id=\"ldavis_el25591377270590708643434119805\" style=\"background-color:white;\"></div>\n",
       "<script type=\"text/javascript\">\n",
       "\n",
       "var ldavis_el25591377270590708643434119805_data = {\"mdsDat\": {\"x\": [-0.30600666189604636, 0.10858359471955605, -0.12895786700216375, 0.11534790516446648, 0.2110330290141874], \"y\": [-0.15528966951551268, -0.16611025854550787, 0.2946100879993076, -0.029847095693274997, 0.056636935754987926], \"topics\": [1, 2, 3, 4, 5], \"cluster\": [1, 1, 1, 1, 1], \"Freq\": [46.70833557717146, 18.935216602660677, 16.019235203865332, 13.967719985984148, 4.3694926303183825]}, \"tinfo\": {\"Term\": [\"click\", \"email\", \"account\", \"device\", \"receive\", \"unsubscribe\", \"write\", \"user\", \"customer\", \"access\", \"reward\", \"org\", \"airdrop\", \"token\", \"thank\", \"address\", \"payment\", \"help\", \"attention\", \"money\", \"team\", \"add\", \"time\", \"code\", \"use\", \"free\", \"update\", \"offer\", \"service\", \"take\", \"account\", \"user\", \"address\", \"team\", \"update\", \"send\", \"claim\", \"fund\", \"verify\", \"activity\", \"log\", \"report\", \"reply\", \"follow\", \"unusual\", \"opt\", \"link\", \"regard\", \"transaction\", \"web\", \"transfer\", \"due\", \"register\", \"security_notification\", \"complete\", \"note\", \"date\", \"verification\", \"upgrade\", \"share\", \"thank\", \"wallet\", \"information\", \"mail\", \"future_report\", \"similar_activity\", \"detected_somethe\", \"change\", \"new\", \"detail\", \"message\", \"email\", \"contact\", \"receive\", \"need\", \"get\", \"make\", \"dear\", \"time\", \"org\", \"add\", \"code\", \"file\", \"recent\", \"action\", \"center\", \"copy\", \"m\", \"mind\", \"validate\", \"digital\", \"browser\", \"app\", \"case\", \"computer\", \"collection\", \"limit\", \"course\", \"remain\", \"apple\", \"manually\", \"window\", \"fail\", \"appear\", \"restore\", \"sorry\", \"folder\", \"main\", \"token\", \"crypto\", \"date_we\", \"write\", \"letter\", \"access\", \"version\", \"use\", \"cryptocurrency\", \"set\", \"platform\", \"message\", \"unsubscribe\", \"get\", \"try\", \"check\", \"click\", \"customer\", \"reward\", \"payment\", \"money\", \"company\", \"country\", \"hour\", \"protect\", \"review\", \"dollar\", \"pay\", \"partner\", \"deliver\", \"ve\", \"forward\", \"expire\", \"purchase\", \"usd\", \"credit\", \"las_vegas\", \"united_state\", \"cancel\", \"ledger\", \"optout\", \"safety\", \"privacy\", \"immediate\", \"newsletter\", \"investor\", \"freebitcoin\", \"rock_tx\", \"offer\", \"unsubscribe\", \"request\", \"amount\", \"free\", \"email\", \"receive\", \"name\", \"view\", \"service\", \"com\", \"full\", \"soon\", \"secure\", \"dear\", \"today\", \"rights_reserve\", \"contact\", \"business\", \"day\", \"device\", \"attention\", \"issue\", \"sure\", \"safe\", \"private\", \"delivery\", \"assist\", \"benefit\", \"move\", \"plan\", \"life\", \"preference\", \"official\", \"quick\", \"mailing_list\", \"build\", \"premium\", \"recently\", \"supply\", \"head\", \"fortune\", \"care\", \"presently\", \"method\", \"fraud\", \"item\", \"small\", \"significant\", \"feel\", \"guide\", \"linguistic\", \"trust_wallet\", \"much\", \"work\", \"say\", \"good\", \"look\", \"take\", \"help\", \"well\", \"year\", \"know\", \"time\", \"keep\", \"want\", \"get\", \"site\", \"soon\", \"com\", \"man\", \"boost\", \"organization\", \"healthy\", \"pill\", \"monitor\", \"thrill\", \"reliable\", \"maintain\", \"million\", \"este\", \"shipment\", \"doctor\", \"struggle\", \"female\", \"fantastic\", \"lbs\", \"bag\", \"initiate\", \"male\", \"airdrop\", \"husband\", \"drug\", \"prove\", \"medication\", \"relative\", \"satisfaction\", \"treatment\", \"blur\", \"embark\", \"adventure\", \"express_pharmacy\", \"confidentiality\", \"discount\", \"pancakeswap\", \"health\", \"journey\", \"coin\", \"funtoken\", \"nft\", \"order\"], \"Freq\": [4308.0, 7211.0, 8302.0, 2498.0, 4812.0, 2944.0, 2380.0, 4769.0, 1908.0, 2366.0, 1647.0, 1678.0, 872.0, 1510.0, 3142.0, 2771.0, 1134.0, 1898.0, 1032.0, 1099.0, 2616.0, 1170.0, 1968.0, 1158.0, 1653.0, 1350.0, 2428.0, 1207.0, 1788.0, 1460.0, 8301.84600792367, 4768.1518760983245, 2770.913844382358, 2615.1072227412105, 2427.2639784743615, 2060.7828082771643, 1944.4293468493584, 1791.0384310195293, 1764.647776136783, 1650.3849265083352, 1450.4998099726542, 1310.890201484687, 1193.7532012185131, 1175.230009408736, 1122.5772333798118, 1083.0231495104258, 1000.3136873536524, 937.6555468463973, 915.929291971542, 893.7495855827145, 894.5102726735846, 852.8012513917043, 838.5229626004053, 1005.7057598454887, 816.9409850825025, 810.1044941652809, 803.4754900659567, 814.9804343858696, 774.2213173637291, 721.7996435832786, 3124.80881251043, 1932.4500965929496, 2247.483817638238, 1934.1420658254187, 988.2940206389443, 988.2940206389443, 994.9382983998352, 1474.328014403338, 2608.2672071328584, 1443.1487141503417, 1657.026267026617, 3261.785594213424, 1536.242151357742, 2337.1028493083445, 1241.211757417741, 1656.880462303508, 1283.8740314159352, 1292.0288743057652, 1167.971847942571, 1677.5886060800378, 1169.3885093787924, 1157.9281934622625, 958.9220990252463, 764.0885838058467, 686.0143183404465, 636.9520168939517, 604.4904412956263, 622.7057583531785, 564.4462073556105, 532.8546315516915, 483.36528432852697, 473.10432595184983, 465.866266784173, 447.42575761953907, 438.2917599970201, 412.5651811647224, 399.06351403892546, 389.6335707401476, 399.65369073072947, 383.29837569722554, 346.7244959683207, 339.7512566220005, 339.85961365322106, 325.91308733111646, 325.7638165900856, 329.0768268659714, 304.6369341962706, 296.48038843955754, 1505.7391175106452, 438.49228004160847, 336.87741382144185, 2241.5574709447064, 416.94990201620993, 2093.2585615028456, 1014.8630000725514, 1209.116817082287, 423.97096134466, 433.8849867035742, 507.4898461300098, 586.7060280013498, 587.7391587108906, 576.7928599727925, 463.36862530717286, 430.95591753919126, 4307.845629584886, 1907.186048020453, 1646.6681946394824, 1133.605183827498, 1098.525724594011, 867.3559025352267, 853.3174944042793, 537.5103686573199, 514.3198003939067, 422.5343901114804, 403.73573529730186, 394.1679763271335, 393.1623834830664, 382.527622649182, 402.37760471510586, 319.2898311126257, 323.8247502119481, 309.63900475793884, 289.2558844118478, 282.5575062088705, 282.2970215582666, 270.14526855428215, 253.05518673954796, 509.65537434632205, 239.25667270209118, 220.56137361980203, 218.83077960379717, 216.17500068251087, 212.26017567989257, 198.84879232240752, 910.2119840378231, 392.2408452420095, 1121.7829804739065, 2356.525515503317, 851.0029707240734, 382.30326213644895, 1110.9380025432317, 3949.1715024899736, 2474.610869646419, 787.229623229411, 663.0759377542179, 897.6133837087752, 857.2923181144155, 509.7896763558298, 557.8325232247174, 533.8140211511164, 714.8916516360761, 498.4070471461686, 475.55793559699754, 585.3011726010736, 467.45404032422124, 460.53101954608474, 2497.2368501907486, 1031.9337150115682, 848.7120786140755, 837.9379437928174, 805.6306470653115, 712.5487920995322, 697.9133306936778, 657.3549613702874, 538.2336581120825, 525.3800663634171, 425.04720067418464, 421.1427994740882, 466.8775359885683, 365.91056698730523, 343.2838509151136, 311.35484487691576, 313.0183823114252, 330.93257383023933, 300.9976835766671, 251.64155241009627, 241.20361742221695, 262.54245167892793, 222.28955726945867, 253.88390938217492, 205.87619637896972, 210.8800191681654, 192.84712651683267, 181.99232341075503, 177.63997783029873, 171.95184485668258, 176.53537393631672, 239.6160402802945, 471.85824042784617, 338.2799227231068, 909.1094353254227, 507.9196339467126, 862.6300279499892, 505.61352584100814, 853.1922602373523, 1023.2218213252253, 621.8569107428825, 677.0307852065448, 703.0201671636622, 800.0821025479618, 465.60662402568687, 493.4694355486341, 544.9536143385641, 355.13232145641126, 384.24840753850333, 377.2945976082941, 294.12648105194125, 203.18247165074345, 149.99594182407978, 134.142353965924, 128.23853789347052, 133.47178326532685, 229.37252695536938, 120.15575997162289, 121.06623079976973, 116.65004391427964, 113.7359063819391, 115.21031341957176, 97.40261718750689, 94.49740433119011, 88.24952661064867, 93.49485106988199, 91.42937658783171, 85.53068231220958, 87.67957833492518, 80.41293016160637, 862.1484995456656, 74.49024257593517, 74.47343736701852, 77.6397024925201, 72.32882782662959, 73.6429259207347, 73.43077801850517, 70.96585833851022, 69.73849007014822, 75.9838013967838, 77.55303861265895, 183.516310555556, 142.17454040533653, 311.3139342823163, 91.38071951793377, 186.00086562190123, 173.77592793602173, 84.79001113910077, 149.21485681631663, 98.81232032396737, 100.37621592340466], \"Total\": [4308.0, 7211.0, 8302.0, 2498.0, 4812.0, 2944.0, 2380.0, 4769.0, 1908.0, 2366.0, 1647.0, 1678.0, 872.0, 1510.0, 3142.0, 2771.0, 1134.0, 1898.0, 1032.0, 1099.0, 2616.0, 1170.0, 1968.0, 1158.0, 1653.0, 1350.0, 2428.0, 1207.0, 1788.0, 1460.0, 8302.872267218096, 4769.179105999458, 2771.9313768398533, 2616.139630719619, 2428.2870327819414, 2061.7979253153962, 1945.4797208825362, 1792.0752810066142, 1765.6796601578585, 1651.4103732781673, 1451.5173281920158, 1311.905019996601, 1194.7735416684166, 1176.2462652737756, 1123.6143160941012, 1084.0422752372242, 1001.3373292354923, 938.6724212718748, 916.9660606189083, 894.771530522715, 895.5414347907262, 853.8220852389438, 839.5629683653651, 1006.9591570157755, 817.9636551394127, 811.1232641323843, 804.492888531647, 816.0156695054866, 775.2565058033744, 722.8236759277825, 3142.6420365675845, 1935.2499678552638, 2255.7200562964535, 1946.9775653925778, 991.5966820538903, 991.5966820538903, 999.0173675220204, 1551.9026068247065, 2948.993542160831, 1625.0062585923104, 2244.412982320725, 7211.810006502058, 2122.391587066835, 4812.568004364897, 1612.3026254593372, 3041.640623050081, 1752.8602063569483, 2194.0873744296878, 1968.7811755744913, 1678.4413119056487, 1170.2490386244772, 1158.7966984005352, 959.77333750261, 764.9648361072982, 686.9161933430983, 637.8375198376738, 605.3548904421597, 623.6493081576651, 565.3644084179124, 533.8048137152042, 484.25456999201407, 473.97942384601447, 466.7388079247163, 448.2814152497431, 439.1559381199204, 413.4543213199503, 399.9399655112948, 390.4903076790156, 400.55302726272714, 384.17292640054296, 347.58873018652247, 340.6058813247729, 340.72501996526387, 326.7775357636658, 326.6412754202927, 329.9639347715433, 305.4888257035176, 297.33852935748206, 1510.1363025475684, 440.2384958681228, 338.08556467587647, 2380.370851344024, 423.8032785502172, 2366.6384814015164, 1165.0422915874221, 1653.5572610663755, 466.963511006606, 485.6991591181086, 775.0868742355174, 2244.412982320725, 2944.972859892466, 3041.640623050081, 991.4984336534521, 871.3021151301622, 4308.893037080725, 1908.2248666897206, 1647.7294991663211, 1134.6286605517053, 1099.5408718007473, 868.3733452284117, 854.3378641965699, 538.5441617683479, 515.3526670959367, 423.56853453117657, 404.7558665901319, 395.183919190205, 394.1839885403813, 383.55626394297855, 403.5818127440753, 320.31423724452617, 324.8697021376346, 310.6618915359058, 290.2914649026499, 283.5775871697131, 283.35974421170056, 271.168309395586, 254.07829169591724, 511.9209364081219, 240.33045668368007, 221.6057648120621, 219.86709044957695, 217.1993996940096, 213.30101522805253, 199.8803029273233, 922.676711901257, 394.73127625957216, 1207.9376826662235, 2944.972859892466, 969.7809657454532, 404.5832303491336, 1350.9754004735225, 7211.810006502058, 4812.568004364897, 1149.9954681167324, 1045.9644529622535, 1788.749458258498, 1832.3164424292422, 780.0286274058066, 942.8121665980008, 930.9636854145825, 2194.0873744296878, 850.7710795168896, 739.7933398406368, 2122.391587066835, 800.8983050752765, 1186.5062863765613, 2498.204333225027, 1032.8705300437612, 849.6068367584581, 838.8522376441364, 806.5499580658172, 713.4847465243677, 698.8368189236065, 658.274778175997, 539.148594071882, 526.283272725396, 425.94580012568787, 422.03375936526686, 467.9550543354248, 366.8420737892844, 344.19027309028945, 312.2402437980704, 313.927923652058, 331.9181289035175, 301.90880970649624, 252.5438722631239, 242.10687476884016, 263.54285608092965, 223.19887000894215, 254.97229880547692, 206.77585732301756, 211.84566074840203, 193.74827987843648, 182.88556281100801, 178.55817986916077, 172.84117812441974, 177.45457583864575, 243.108974547558, 536.4967202619731, 384.8553508344772, 1293.6201400095706, 644.7205727066452, 1263.6721663622777, 641.7182803433863, 1460.2325166807489, 1898.299341463684, 946.0710910755824, 1123.5707198890675, 1381.8040516674998, 1968.7811755744913, 1086.9334195475299, 1502.5316260009263, 3041.640623050081, 485.43792724480465, 942.8121665980008, 1832.3164424292422, 295.0967978298237, 204.45508007521482, 150.98366367179784, 135.12651757667774, 129.1962246747033, 134.47996796360053, 231.1821806958766, 121.14558633190505, 122.07374324709967, 117.64473043612479, 114.77407534246824, 116.35610990442103, 98.37828077660284, 95.48572957697365, 89.21331500752373, 94.52029008448557, 92.44850167814693, 86.49888166895754, 88.72150260503768, 81.38515659768137, 872.6478068564163, 75.46855931229436, 75.45549156601392, 78.66478006024411, 73.28600532314162, 74.61999845630328, 74.4320706187516, 71.93439827378143, 70.7205406225905, 77.08369689186296, 78.68756392297277, 188.1083428454639, 145.30273472136352, 355.0377777696709, 94.77677993476019, 248.89309358448014, 234.49119742680767, 90.70073689627026, 211.48775127005428, 235.54462949996116, 964.8140491764643], \"Category\": [\"Default\", \"Default\", \"Default\", \"Default\", \"Default\", \"Default\", \"Default\", \"Default\", \"Default\", \"Default\", \"Default\", \"Default\", \"Default\", \"Default\", \"Default\", \"Default\", \"Default\", \"Default\", \"Default\", \"Default\", \"Default\", \"Default\", \"Default\", \"Default\", \"Default\", \"Default\", \"Default\", \"Default\", \"Default\", \"Default\", \"Topic1\", \"Topic1\", \"Topic1\", \"Topic1\", \"Topic1\", \"Topic1\", \"Topic1\", \"Topic1\", \"Topic1\", \"Topic1\", \"Topic1\", \"Topic1\", \"Topic1\", \"Topic1\", \"Topic1\", \"Topic1\", \"Topic1\", \"Topic1\", \"Topic1\", \"Topic1\", \"Topic1\", \"Topic1\", \"Topic1\", \"Topic1\", \"Topic1\", \"Topic1\", \"Topic1\", \"Topic1\", \"Topic1\", \"Topic1\", \"Topic1\", \"Topic1\", \"Topic1\", \"Topic1\", \"Topic1\", \"Topic1\", \"Topic1\", \"Topic1\", \"Topic1\", \"Topic1\", \"Topic1\", \"Topic1\", \"Topic1\", \"Topic1\", \"Topic1\", \"Topic1\", \"Topic1\", \"Topic1\", \"Topic1\", \"Topic2\", \"Topic2\", \"Topic2\", \"Topic2\", \"Topic2\", \"Topic2\", \"Topic2\", \"Topic2\", \"Topic2\", \"Topic2\", \"Topic2\", \"Topic2\", \"Topic2\", \"Topic2\", \"Topic2\", \"Topic2\", \"Topic2\", \"Topic2\", \"Topic2\", \"Topic2\", \"Topic2\", \"Topic2\", \"Topic2\", \"Topic2\", \"Topic2\", \"Topic2\", \"Topic2\", \"Topic2\", \"Topic2\", \"Topic2\", \"Topic2\", \"Topic2\", \"Topic2\", \"Topic2\", \"Topic2\", \"Topic2\", \"Topic2\", \"Topic2\", \"Topic2\", \"Topic2\", \"Topic2\", \"Topic2\", \"Topic2\", \"Topic2\", \"Topic2\", \"Topic3\", \"Topic3\", \"Topic3\", \"Topic3\", \"Topic3\", \"Topic3\", \"Topic3\", \"Topic3\", \"Topic3\", \"Topic3\", \"Topic3\", \"Topic3\", \"Topic3\", \"Topic3\", \"Topic3\", \"Topic3\", \"Topic3\", \"Topic3\", \"Topic3\", \"Topic3\", \"Topic3\", \"Topic3\", \"Topic3\", \"Topic3\", \"Topic3\", \"Topic3\", \"Topic3\", \"Topic3\", \"Topic3\", \"Topic3\", \"Topic3\", \"Topic3\", \"Topic3\", \"Topic3\", \"Topic3\", \"Topic3\", \"Topic3\", \"Topic3\", \"Topic3\", \"Topic3\", \"Topic3\", \"Topic3\", \"Topic3\", \"Topic3\", \"Topic3\", \"Topic3\", \"Topic3\", \"Topic3\", \"Topic3\", \"Topic3\", \"Topic3\", \"Topic3\", \"Topic4\", \"Topic4\", \"Topic4\", \"Topic4\", \"Topic4\", \"Topic4\", \"Topic4\", \"Topic4\", \"Topic4\", \"Topic4\", \"Topic4\", \"Topic4\", \"Topic4\", \"Topic4\", \"Topic4\", \"Topic4\", \"Topic4\", \"Topic4\", \"Topic4\", \"Topic4\", \"Topic4\", \"Topic4\", \"Topic4\", \"Topic4\", \"Topic4\", \"Topic4\", \"Topic4\", \"Topic4\", \"Topic4\", \"Topic4\", \"Topic4\", \"Topic4\", \"Topic4\", \"Topic4\", \"Topic4\", \"Topic4\", \"Topic4\", \"Topic4\", \"Topic4\", \"Topic4\", \"Topic4\", \"Topic4\", \"Topic4\", \"Topic4\", \"Topic4\", \"Topic4\", \"Topic4\", \"Topic4\", \"Topic4\", \"Topic4\", \"Topic5\", \"Topic5\", \"Topic5\", \"Topic5\", \"Topic5\", \"Topic5\", \"Topic5\", \"Topic5\", \"Topic5\", \"Topic5\", \"Topic5\", \"Topic5\", \"Topic5\", \"Topic5\", \"Topic5\", \"Topic5\", \"Topic5\", \"Topic5\", \"Topic5\", \"Topic5\", \"Topic5\", \"Topic5\", \"Topic5\", \"Topic5\", \"Topic5\", \"Topic5\", \"Topic5\", \"Topic5\", \"Topic5\", \"Topic5\", \"Topic5\", \"Topic5\", \"Topic5\", \"Topic5\", \"Topic5\", \"Topic5\", \"Topic5\", \"Topic5\", \"Topic5\", \"Topic5\", \"Topic5\"], \"logprob\": [30.0, 29.0, 28.0, 27.0, 26.0, 25.0, 24.0, 23.0, 22.0, 21.0, 20.0, 19.0, 18.0, 17.0, 16.0, 15.0, 14.0, 13.0, 12.0, 11.0, 10.0, 9.0, 8.0, 7.0, 6.0, 5.0, 4.0, 3.0, 2.0, 1.0, -3.4142, -3.9687, -4.5115, -4.5693, -4.6439, -4.8076, -4.8657, -4.9479, -4.9627, -5.0296, -5.1587, -5.2599, -5.3535, -5.3692, -5.415, -5.4509, -5.5303, -5.595, -5.6185, -5.643, -5.6421, -5.6899, -5.7068, -5.525, -5.7328, -5.7412, -5.7495, -5.7352, -5.7865, -5.8567, -4.3913, -4.8719, -4.7208, -4.871, -5.5424, -5.5424, -5.5357, -5.1424, -4.572, -5.1638, -5.0256, -4.3484, -5.1013, -4.6817, -5.3146, -5.0257, -5.2808, -5.2744, -5.3754, -4.1104, -4.4713, -4.4811, -4.6697, -4.8968, -5.0046, -5.0788, -5.1311, -5.1014, -5.1997, -5.2573, -5.3547, -5.3762, -5.3916, -5.432, -5.4526, -5.5131, -5.5464, -5.5703, -5.5449, -5.5867, -5.687, -5.7073, -5.707, -5.7489, -5.7493, -5.7392, -5.8164, -5.8435, -4.2185, -5.4522, -5.7158, -3.8206, -5.5025, -3.889, -4.613, -4.4379, -5.4858, -5.4627, -5.306, -5.161, -5.1592, -5.178, -5.397, -5.4695, -3.0001, -3.8149, -3.9618, -4.3351, -4.3665, -4.6028, -4.6191, -5.0813, -5.1254, -5.322, -5.3675, -5.3915, -5.394, -5.4215, -5.3709, -5.6022, -5.5881, -5.6329, -5.701, -5.7244, -5.7253, -5.7693, -5.8347, -5.1345, -5.8907, -5.9721, -5.98, -5.9922, -6.0105, -6.0757, -4.5546, -5.3964, -4.3456, -3.6033, -4.6219, -5.4221, -4.3553, -3.087, -3.5544, -4.6998, -4.8714, -4.5685, -4.6145, -5.1343, -5.0442, -5.0882, -4.7961, -5.1569, -5.2038, -4.9961, -5.221, -5.2359, -3.4083, -4.292, -4.4875, -4.5003, -4.5396, -4.6624, -4.6831, -4.743, -4.9429, -4.9671, -5.179, -5.1883, -5.0852, -5.3288, -5.3927, -5.4903, -5.485, -5.4293, -5.5241, -5.7032, -5.7456, -5.6608, -5.8272, -5.6944, -5.904, -5.8799, -5.9693, -6.0273, -6.0515, -6.084, -6.0577, -5.7522, -5.0746, -5.4074, -4.4188, -5.0009, -4.4712, -5.0055, -4.4822, -4.3005, -4.7985, -4.7135, -4.6758, -4.5465, -5.0879, -5.0298, -4.9305, -5.3587, -5.2799, -5.2982, -4.3851, -4.755, -5.0585, -5.1702, -5.2152, -5.1752, -4.6338, -5.2803, -5.2728, -5.3099, -5.3352, -5.3224, -5.4903, -5.5206, -5.589, -5.5312, -5.5536, -5.6203, -5.5954, -5.682, -3.3097, -5.7585, -5.7587, -5.717, -5.7879, -5.7699, -5.7728, -5.8069, -5.8244, -5.7386, -5.7182, -4.8568, -5.1121, -4.3283, -5.5541, -4.8434, -4.9114, -5.6289, -5.0637, -5.4759, -5.4602], \"loglift\": [30.0, 29.0, 28.0, 27.0, 26.0, 25.0, 24.0, 23.0, 22.0, 21.0, 20.0, 19.0, 18.0, 17.0, 16.0, 15.0, 14.0, 13.0, 12.0, 11.0, 10.0, 9.0, 8.0, 7.0, 6.0, 5.0, 4.0, 3.0, 2.0, 1.0, 0.7611, 0.761, 0.7609, 0.7609, 0.7608, 0.7608, 0.7607, 0.7607, 0.7607, 0.7606, 0.7605, 0.7605, 0.7604, 0.7604, 0.7603, 0.7603, 0.7602, 0.7602, 0.7601, 0.7601, 0.7601, 0.7601, 0.76, 0.76, 0.76, 0.76, 0.76, 0.76, 0.7599, 0.7598, 0.7556, 0.7598, 0.7576, 0.7546, 0.7579, 0.7579, 0.7572, 0.71, 0.6385, 0.6426, 0.4578, -0.0322, 0.438, 0.0389, 0.4997, 0.1538, 0.4499, 0.2317, 0.2391, 1.6636, 1.6634, 1.6634, 1.6633, 1.663, 1.6628, 1.6628, 1.6627, 1.6626, 1.6625, 1.6624, 1.6623, 1.6623, 1.6623, 1.6622, 1.6622, 1.662, 1.662, 1.662, 1.6619, 1.6619, 1.6617, 1.6616, 1.6616, 1.6615, 1.6615, 1.6615, 1.6614, 1.6613, 1.6612, 1.6602, 1.6606, 1.6041, 1.6478, 1.5414, 1.5261, 1.3511, 1.5676, 1.5513, 1.2406, 0.3225, 0.0526, 0.0015, 0.9035, 0.9602, 1.8311, 1.8308, 1.8307, 1.8305, 1.8305, 1.8302, 1.8302, 1.8295, 1.8294, 1.8289, 1.8289, 1.8288, 1.8288, 1.8287, 1.8284, 1.8282, 1.8282, 1.8281, 1.8278, 1.8278, 1.8276, 1.8276, 1.8273, 1.8269, 1.8269, 1.8267, 1.8267, 1.8267, 1.8265, 1.8262, 1.8178, 1.8251, 1.7574, 1.6085, 1.7007, 1.7747, 1.6358, 1.2292, 1.1662, 1.4524, 1.3756, 1.1418, 1.0718, 1.406, 1.3066, 1.2752, 0.71, 1.2967, 1.3895, 0.5432, 1.2929, 0.885, 1.968, 1.9675, 1.9674, 1.9673, 1.9673, 1.9671, 1.9671, 1.967, 1.9667, 1.9667, 1.9663, 1.9663, 1.9661, 1.9659, 1.9658, 1.9656, 1.9655, 1.9654, 1.9654, 1.9648, 1.9647, 1.9646, 1.9643, 1.9641, 1.9641, 1.9639, 1.9638, 1.9635, 1.9633, 1.9633, 1.9632, 1.9539, 1.84, 1.8394, 1.6157, 1.7299, 1.5866, 1.73, 1.4311, 1.3504, 1.5488, 1.4619, 1.2927, 1.068, 1.1206, 0.855, 0.249, 1.6559, 1.0708, 0.3881, 3.1272, 3.1243, 3.124, 3.1232, 3.1231, 3.123, 3.1227, 3.1223, 3.1222, 3.122, 3.1214, 3.1206, 3.1206, 3.1201, 3.1197, 3.1196, 3.1194, 3.1193, 3.1187, 3.1185, 3.1184, 3.1175, 3.1174, 3.1174, 3.1174, 3.1173, 3.117, 3.117, 3.1165, 3.1162, 3.116, 3.1058, 3.1088, 2.9991, 3.094, 2.8393, 2.8309, 3.0631, 2.7817, 2.2618, 0.8675]}, \"token.table\": {\"Topic\": [2, 4, 1, 2, 1, 2, 1, 5, 1, 2, 3, 4, 5, 2, 3, 5, 2, 2, 2, 4, 4, 5, 4, 5, 5, 2, 4, 1, 3, 3, 4, 2, 2, 1, 2, 1, 2, 3, 4, 1, 3, 2, 1, 2, 3, 4, 5, 2, 1, 2, 3, 4, 3, 1, 2, 1, 3, 5, 1, 3, 2, 3, 2, 3, 1, 2, 5, 1, 2, 3, 4, 3, 1, 2, 1, 3, 1, 3, 4, 3, 4, 1, 3, 1, 2, 4, 4, 2, 3, 5, 5, 3, 5, 1, 1, 3, 5, 5, 3, 1, 2, 3, 4, 5, 2, 5, 4, 5, 2, 2, 1, 4, 3, 4, 1, 2, 3, 1, 2, 3, 4, 2, 3, 4, 1, 1, 2, 3, 4, 5, 1, 4, 1, 2, 3, 4, 5, 1, 2, 3, 4, 4, 4, 3, 5, 5, 1, 2, 4, 3, 5, 3, 1, 3, 5, 3, 4, 4, 1, 2, 3, 4, 5, 1, 4, 1, 2, 4, 3, 5, 2, 3, 5, 2, 5, 4, 2, 1, 2, 4, 1, 1, 1, 2, 4, 2, 1, 3, 4, 2, 5, 1, 2, 4, 5, 5, 2, 5, 1, 2, 4, 5, 2, 3, 5, 4, 2, 3, 4, 1, 2, 3, 1, 2, 3, 4, 1, 2, 3, 1, 2, 3, 4, 5, 1, 3, 4, 5, 4, 1, 3, 1, 3, 5, 2, 5, 1, 2, 3, 4, 5, 3, 3, 3, 5, 4, 1, 2, 2, 4, 4, 4, 3, 4, 3, 5, 3, 4, 1, 3, 2, 4, 1, 1, 5, 5, 2, 1, 1, 2, 3, 2, 3, 3, 1, 3, 1, 2, 3, 4, 3, 5, 1, 2, 4, 1, 3, 1, 1, 1, 3, 1, 2, 1, 5, 4, 1, 4, 1, 3, 4, 4, 3, 4, 2, 5, 4, 4, 1, 3, 4, 1, 1, 4, 2, 3, 5, 1, 4, 1, 3, 1, 2, 3, 4, 5, 1, 1, 5, 1, 2, 3, 4, 1, 2, 4, 3, 2, 3, 1, 1, 1, 3, 1, 2, 1, 2, 3, 1, 1, 1, 2, 2, 3, 1, 2, 3, 5, 1, 2, 4, 1, 1, 2, 4, 5, 2, 1, 2, 4, 1, 2, 3, 4], \"Freq\": [0.8843767294616673, 0.11535348645152183, 0.9998949439194025, 0.9986662225290697, 0.9991459583269011, 0.9989326728044611, 0.9996639971509991, 0.991262101802442, 0.0034378130288404128, 0.0034378130288404128, 0.0022918753525602753, 0.0022918753525602753, 0.9877982769534785, 0.03954686897475424, 0.9441814967722575, 0.01483007586553284, 0.9984170848616568, 0.9976205960368458, 0.9969468790746591, 0.9980634558420585, 0.9991571740906149, 0.9942325072956801, 0.9978696150105718, 0.9898114378616566, 0.9928831307362012, 0.9979336152652638, 0.997044150640494, 0.4157831248858758, 0.5830952532183304, 0.9957560652320201, 0.9946286914046916, 0.9971414936998243, 0.998686938582906, 0.9498018712758656, 0.049616515663664616, 0.05968079165311313, 0.4946619462017646, 0.13657719628308582, 0.3087333260516814, 0.9992394056506202, 0.9997927455907957, 0.9993124778473783, 0.033075806246546206, 0.011025268748848736, 0.022050537497697472, 0.011025268748848736, 0.9371478436521425, 0.9989011571616911, 0.13971385841006873, 0.18610322546028688, 0.4677139713180816, 0.20575048679920277, 0.9984184852794503, 0.9988218851371233, 0.9973678185364654, 0.006882182925996729, 0.006882182925996729, 0.9772699754915354, 0.7237118773745076, 0.2756324532969316, 0.9977618245700963, 0.9984340338259173, 0.9987443793882367, 0.9979632129059358, 0.002271496039954576, 0.9949152655001043, 0.002271496039954576, 0.040688404023352505, 0.9079938582053402, 0.006424484845792501, 0.04282989897195001, 0.9993581119756366, 0.9981443110897203, 0.9967890830331156, 0.6110376390959187, 0.3885356574113359, 0.5888553095274209, 0.32587580983909126, 0.08522905795791619, 0.9985497200925357, 0.9988025546151168, 0.8879965799331897, 0.11138418639494617, 0.9959786809993252, 0.0010009835989942966, 0.0020019671979885933, 0.9995179204482957, 0.9974092758855435, 0.12111387207897648, 0.875963121315388, 0.9859899891955559, 0.9981325370364618, 0.9807105946060858, 0.999037170327219, 0.452313635142777, 0.5475740481848027, 0.9859412958179312, 0.9932556603905671, 0.997322920137175, 0.0053160853201579, 0.0053160853201579, 0.0106321706403158, 0.0053160853201579, 0.9781596989090536, 0.997872125841132, 0.9839157276905659, 0.9951332307870858, 0.9863998439311283, 0.999194249858386, 0.9983998573355609, 0.9989404724923946, 0.9979401601356139, 0.9958970376845195, 0.9960081280616535, 0.13693809667826426, 0.04071132603948397, 0.8223687859975761, 0.009754229064104917, 0.0021676064586899813, 0.9862609387039416, 0.0010838032293449906, 0.04358814382630555, 0.6538221573945833, 0.3025529983237679, 0.9993999800019505, 0.052012468494942815, 0.0283704373608779, 0.08983971830944668, 0.12766696812395054, 0.7045325277951344, 0.996372837748468, 0.002016949064268154, 0.5447717877789263, 0.18970025440461102, 0.07890478519429228, 0.1791796163787054, 0.007561708581119677, 0.11553629484480057, 0.04194125771763309, 0.15985158601814875, 0.6829302907607048, 0.9974383538068972, 0.9954281563879713, 0.24910293454549293, 0.7473088036364788, 0.991663238297853, 0.412474462218518, 0.048464432342405696, 0.5389034161552285, 0.9989895689026485, 0.9805407798204103, 0.9944778866990456, 0.9961342471233906, 0.0031032219536554226, 0.9918677819485362, 0.9955958495437973, 0.9992857440262917, 0.9961378760167265, 0.0042645524052651596, 0.0042645524052651596, 0.2516085919106444, 0.0042645524052651596, 0.7420321185161377, 0.5713321431026666, 0.4287291122155275, 0.4892155289197721, 0.0014473832216561305, 0.5087552024121298, 0.9952013500877362, 0.9843317993060635, 0.0019534266502489045, 0.9962475916269412, 0.0019534266502489045, 0.983947083718912, 0.014157511995955569, 0.9975505292116402, 0.9976497334791407, 0.008226763342332933, 0.004113381671166466, 0.9872116010799519, 0.9986644568254402, 0.998954660641974, 0.05765769985577026, 0.1542733050194934, 0.7885080034329662, 0.9989588569262055, 0.9933345069695443, 0.006163399215943398, 0.9960279181729293, 0.9954982983188405, 0.9912041425245213, 0.7325170571751398, 0.12607964924899212, 0.1414830453110862, 0.9829802306023844, 0.9962832608219077, 0.9983062448940547, 0.9824522387668531, 0.7382776757451566, 0.2615383196514224, 0.9962478340892306, 0.9945196828303768, 0.9975866743686068, 0.9995080930462718, 0.9889948816466025, 0.9975616311748794, 0.07275460751497398, 0.049369197956589485, 0.8782520478593288, 0.22608784748150698, 0.0886960017042835, 0.6843505229536384, 0.7697066173581683, 0.0589219408936551, 0.015505773919382921, 0.15567797015060453, 0.8843695188593146, 0.11529357224392904, 0.9939005671085928, 0.2717107162912859, 0.14434631802974565, 0.09340055872512953, 0.06792767907282148, 0.4203025142630829, 0.9986151745584738, 0.9288558640901595, 0.05298286568785224, 0.018212860080199206, 0.9977045332325536, 0.9990385289752689, 0.9944640529459352, 0.7825342102392112, 0.11297513763718414, 0.10364691526347168, 0.9997370703982806, 0.9934849662017999, 0.010551107567574592, 0.010551107567574592, 0.010551107567574592, 0.010551107567574592, 0.9601507886492879, 0.996996355573027, 0.9970041311583957, 0.9994459327764561, 0.9907410245329132, 0.9977795294016075, 0.344477514553897, 0.6541202242652652, 0.0021369573653182757, 0.9979590896036349, 0.9972338693684779, 0.9961866492554993, 0.9960562972484698, 0.9993205930095506, 0.9973752593470427, 0.9915492033444319, 0.9978694150974443, 0.9965418165957955, 0.4856035276551709, 0.5142784471315994, 0.9987387183544174, 0.9969897873885173, 0.9992836465026174, 0.999329450694495, 0.9916912561092273, 0.9905437220901596, 0.9986193406987675, 0.9993525621036633, 0.9993101482326798, 0.12167696022915393, 0.8775177386017796, 0.9980367593793297, 0.9986577507892416, 0.9995572700696987, 0.3555046873720901, 0.6434229322780034, 0.0025333690541977927, 0.0025333690541977927, 0.9930806692455348, 0.9993181351504424, 0.9972664753889601, 0.9807600325122379, 0.03722542914869922, 0.17371866936059632, 0.7879382503141333, 0.4253656788166241, 0.5735991729496901, 0.9990474717776855, 0.9996129953834956, 0.49755430862100264, 0.502026706900742, 0.10500327011601478, 0.8935572398107925, 0.9988604746147458, 0.9883451766689778, 0.9968739608033091, 0.996372837748468, 0.002016949064268154, 0.04325990785101917, 0.22453952170290906, 0.7312984422434193, 0.9951578309550703, 0.5918464141308879, 0.4072921559610411, 0.9970786662723892, 0.9844402971673797, 0.9978464246301045, 0.998984043189144, 0.3766523438679504, 0.039034879273587585, 0.5841535442170213, 0.9995643845969698, 0.9943862405064583, 0.005409461148355133, 0.004325592902488943, 0.004325592902488943, 0.9905607746699677, 0.5932604468646329, 0.40634277182509104, 0.4125669154143267, 0.5853513500750276, 0.0006621918818275019, 0.9972609740322178, 0.0006621918818275019, 0.0006621918818275019, 0.0013243837636550038, 0.9989464597869018, 0.9993954106759418, 0.9870104109271184, 0.10065299182748334, 0.011183665758609261, 0.009319721465507717, 0.8797817063439285, 0.1865862756013804, 0.4669699762348061, 0.3449324662468762, 0.9956915710460781, 0.1996622814450896, 0.800346934296048, 0.9994532678292701, 0.9994699832579236, 0.9983792386210648, 0.9955511440783041, 0.26851201978555334, 0.7311509727944459, 0.9997527654186912, 0.998492307123267, 0.9960805648467653, 0.9987553308797341, 0.9996150716502008, 0.1278923529865863, 0.8712130085999, 0.36521317614393684, 0.6338647533597647, 0.9983206469917343, 0.000516729113349759, 0.000516729113349759, 0.000516729113349759, 0.6535636142406194, 0.017304128279283203, 0.3281128939110238, 0.9991377346100134, 0.21668561901298217, 0.12261235027076063, 0.6574558781759752, 0.003171009058726568, 0.9982211659927411, 0.04019727151095165, 0.2566441181083836, 0.7026792269895202, 0.05797415974997398, 0.9418700446336352, 0.39694875641119814, 0.6025432916824689], \"Term\": [\"access\", \"access\", \"account\", \"action\", \"activity\", \"add\", \"address\", \"adventure\", \"airdrop\", \"airdrop\", \"airdrop\", \"airdrop\", \"airdrop\", \"amount\", \"amount\", \"amount\", \"app\", \"appear\", \"apple\", \"assist\", \"attention\", \"bag\", \"benefit\", \"blur\", \"boost\", \"browser\", \"build\", \"business\", \"business\", \"cancel\", \"care\", \"case\", \"center\", \"change\", \"change\", \"check\", \"check\", \"check\", \"check\", \"claim\", \"click\", \"code\", \"coin\", \"coin\", \"coin\", \"coin\", \"coin\", \"collection\", \"com\", \"com\", \"com\", \"com\", \"company\", \"complete\", \"computer\", \"confidentiality\", \"confidentiality\", \"confidentiality\", \"contact\", \"contact\", \"copy\", \"country\", \"course\", \"credit\", \"crypto\", \"crypto\", \"crypto\", \"cryptocurrency\", \"cryptocurrency\", \"cryptocurrency\", \"cryptocurrency\", \"customer\", \"date\", \"date_we\", \"day\", \"day\", \"dear\", \"dear\", \"dear\", \"deliver\", \"delivery\", \"detail\", \"detail\", \"detected_somethe\", \"detected_somethe\", \"detected_somethe\", \"device\", \"digital\", \"discount\", \"discount\", \"doctor\", \"dollar\", \"drug\", \"due\", \"email\", \"email\", \"embark\", \"este\", \"expire\", \"express_pharmacy\", \"express_pharmacy\", \"express_pharmacy\", \"express_pharmacy\", \"express_pharmacy\", \"fail\", \"fantastic\", \"feel\", \"female\", \"file\", \"folder\", \"follow\", \"fortune\", \"forward\", \"fraud\", \"free\", \"free\", \"free\", \"freebitcoin\", \"freebitcoin\", \"freebitcoin\", \"freebitcoin\", \"full\", \"full\", \"full\", \"fund\", \"funtoken\", \"funtoken\", \"funtoken\", \"funtoken\", \"funtoken\", \"future_report\", \"future_report\", \"get\", \"get\", \"get\", \"get\", \"get\", \"good\", \"good\", \"good\", \"good\", \"guide\", \"head\", \"health\", \"health\", \"healthy\", \"help\", \"help\", \"help\", \"hour\", \"husband\", \"immediate\", \"information\", \"information\", \"initiate\", \"investor\", \"issue\", \"item\", \"journey\", \"journey\", \"journey\", \"journey\", \"journey\", \"keep\", \"keep\", \"know\", \"know\", \"know\", \"las_vegas\", \"lbs\", \"ledger\", \"ledger\", \"ledger\", \"letter\", \"letter\", \"life\", \"limit\", \"linguistic\", \"linguistic\", \"linguistic\", \"link\", \"log\", \"look\", \"look\", \"look\", \"m\", \"mail\", \"mail\", \"mailing_list\", \"main\", \"maintain\", \"make\", \"make\", \"make\", \"male\", \"man\", \"manually\", \"medication\", \"message\", \"message\", \"method\", \"million\", \"mind\", \"money\", \"monitor\", \"move\", \"much\", \"much\", \"much\", \"name\", \"name\", \"name\", \"need\", \"need\", \"need\", \"need\", \"new\", \"new\", \"newsletter\", \"nft\", \"nft\", \"nft\", \"nft\", \"nft\", \"note\", \"offer\", \"offer\", \"offer\", \"official\", \"opt\", \"optout\", \"order\", \"order\", \"order\", \"org\", \"organization\", \"pancakeswap\", \"pancakeswap\", \"pancakeswap\", \"pancakeswap\", \"pancakeswap\", \"partner\", \"pay\", \"payment\", \"pill\", \"plan\", \"platform\", \"platform\", \"preference\", \"preference\", \"premium\", \"presently\", \"privacy\", \"private\", \"protect\", \"prove\", \"purchase\", \"quick\", \"receive\", \"receive\", \"recent\", \"recently\", \"regard\", \"register\", \"relative\", \"reliable\", \"remain\", \"reply\", \"report\", \"request\", \"request\", \"restore\", \"review\", \"reward\", \"rights_reserve\", \"rights_reserve\", \"rock_tx\", \"rock_tx\", \"rock_tx\", \"safe\", \"safety\", \"satisfaction\", \"say\", \"say\", \"say\", \"secure\", \"secure\", \"security_notification\", \"send\", \"service\", \"service\", \"set\", \"set\", \"share\", \"shipment\", \"significant\", \"similar_activity\", \"similar_activity\", \"site\", \"site\", \"site\", \"small\", \"soon\", \"soon\", \"sorry\", \"struggle\", \"supply\", \"sure\", \"take\", \"take\", \"take\", \"team\", \"thank\", \"thank\", \"thrill\", \"thrill\", \"thrill\", \"time\", \"time\", \"today\", \"today\", \"token\", \"token\", \"token\", \"token\", \"token\", \"transaction\", \"transfer\", \"treatment\", \"trust_wallet\", \"trust_wallet\", \"trust_wallet\", \"trust_wallet\", \"try\", \"try\", \"try\", \"united_state\", \"unsubscribe\", \"unsubscribe\", \"unusual\", \"update\", \"upgrade\", \"usd\", \"use\", \"use\", \"user\", \"validate\", \"ve\", \"verification\", \"verify\", \"version\", \"version\", \"view\", \"view\", \"wallet\", \"wallet\", \"wallet\", \"wallet\", \"want\", \"want\", \"want\", \"web\", \"well\", \"well\", \"well\", \"well\", \"window\", \"work\", \"work\", \"work\", \"write\", \"write\", \"year\", \"year\"]}, \"R\": 30, \"lambda.step\": 0.01, \"plot.opts\": {\"xlab\": \"PC1\", \"ylab\": \"PC2\"}, \"topic.order\": [1, 5, 4, 2, 3]};\n",
       "\n",
       "function LDAvis_load_lib(url, callback){\n",
       "  var s = document.createElement('script');\n",
       "  s.src = url;\n",
       "  s.async = true;\n",
       "  s.onreadystatechange = s.onload = callback;\n",
       "  s.onerror = function(){console.warn(\"failed to load library \" + url);};\n",
       "  document.getElementsByTagName(\"head\")[0].appendChild(s);\n",
       "}\n",
       "\n",
       "if(typeof(LDAvis) !== \"undefined\"){\n",
       "   // already loaded: just create the visualization\n",
       "   !function(LDAvis){\n",
       "       new LDAvis(\"#\" + \"ldavis_el25591377270590708643434119805\", ldavis_el25591377270590708643434119805_data);\n",
       "   }(LDAvis);\n",
       "}else if(typeof define === \"function\" && define.amd){\n",
       "   // require.js is available: use it to load d3/LDAvis\n",
       "   require.config({paths: {d3: \"https://d3js.org/d3.v5\"}});\n",
       "   require([\"d3\"], function(d3){\n",
       "      window.d3 = d3;\n",
       "      LDAvis_load_lib(\"https://cdn.jsdelivr.net/gh/bmabey/pyLDAvis@3.4.0/pyLDAvis/js/ldavis.v3.0.0.js\", function(){\n",
       "        new LDAvis(\"#\" + \"ldavis_el25591377270590708643434119805\", ldavis_el25591377270590708643434119805_data);\n",
       "      });\n",
       "    });\n",
       "}else{\n",
       "    // require.js not available: dynamically load d3 & LDAvis\n",
       "    LDAvis_load_lib(\"https://d3js.org/d3.v5.js\", function(){\n",
       "         LDAvis_load_lib(\"https://cdn.jsdelivr.net/gh/bmabey/pyLDAvis@3.4.0/pyLDAvis/js/ldavis.v3.0.0.js\", function(){\n",
       "                 new LDAvis(\"#\" + \"ldavis_el25591377270590708643434119805\", ldavis_el25591377270590708643434119805_data);\n",
       "            })\n",
       "         });\n",
       "}\n",
       "</script>"
      ]
     },
     "metadata": {},
     "execution_count": 56
    }
   ]
  },
  {
   "cell_type": "code",
   "source": [
    "#Guardame todos los modelos lda en disco\n",
    "\n"
   ],
   "metadata": {
    "id": "aLmIDUUgwAIK"
   },
   "execution_count": null,
   "outputs": []
  },
  {
   "cell_type": "code",
   "source": [
    "# prompt: Guarda todos los modelos lda en disco\n",
    "\n",
    "import os\n",
    "\n",
    "# Directorio para guardar los modelos\n",
    "output_dir = \"lda_models\"\n",
    "os.makedirs(output_dir, exist_ok=True)\n",
    "\n",
    "# Guardar cada modelo en la lista\n",
    "for i, model in enumerate(model_list):\n",
    "    model_filename = os.path.join(output_dir, f\"lda_model_{i+start}_topics\")\n",
    "    model.save(model_filename)\n",
    "    print(f\"Modelo con {i+start} t\u00f3picos guardado en: {model_filename}\")"
   ],
   "metadata": {
    "id": "KIQfhU2Gwbqo",
    "outputId": "826b5a8e-de33-4be5-af9f-b155d7d40cbf",
    "colab": {
     "base_uri": "https://localhost:8080/"
    }
   },
   "execution_count": 57,
   "outputs": [
    {
     "output_type": "stream",
     "name": "stdout",
     "text": [
      "Modelo con 2 t\u00f3picos guardado en: lda_models/lda_model_2_topics\n",
      "Modelo con 3 t\u00f3picos guardado en: lda_models/lda_model_3_topics\n",
      "Modelo con 4 t\u00f3picos guardado en: lda_models/lda_model_4_topics\n",
      "Modelo con 5 t\u00f3picos guardado en: lda_models/lda_model_5_topics\n",
      "Modelo con 6 t\u00f3picos guardado en: lda_models/lda_model_6_topics\n",
      "Modelo con 7 t\u00f3picos guardado en: lda_models/lda_model_7_topics\n",
      "Modelo con 8 t\u00f3picos guardado en: lda_models/lda_model_8_topics\n",
      "Modelo con 9 t\u00f3picos guardado en: lda_models/lda_model_9_topics\n",
      "Modelo con 10 t\u00f3picos guardado en: lda_models/lda_model_10_topics\n",
      "Modelo con 11 t\u00f3picos guardado en: lda_models/lda_model_11_topics\n",
      "Modelo con 12 t\u00f3picos guardado en: lda_models/lda_model_12_topics\n",
      "Modelo con 13 t\u00f3picos guardado en: lda_models/lda_model_13_topics\n",
      "Modelo con 14 t\u00f3picos guardado en: lda_models/lda_model_14_topics\n",
      "Modelo con 15 t\u00f3picos guardado en: lda_models/lda_model_15_topics\n",
      "Modelo con 16 t\u00f3picos guardado en: lda_models/lda_model_16_topics\n",
      "Modelo con 17 t\u00f3picos guardado en: lda_models/lda_model_17_topics\n",
      "Modelo con 18 t\u00f3picos guardado en: lda_models/lda_model_18_topics\n",
      "Modelo con 19 t\u00f3picos guardado en: lda_models/lda_model_19_topics\n",
      "Modelo con 20 t\u00f3picos guardado en: lda_models/lda_model_20_topics\n",
      "Modelo con 21 t\u00f3picos guardado en: lda_models/lda_model_21_topics\n",
      "Modelo con 22 t\u00f3picos guardado en: lda_models/lda_model_22_topics\n",
      "Modelo con 23 t\u00f3picos guardado en: lda_models/lda_model_23_topics\n",
      "Modelo con 24 t\u00f3picos guardado en: lda_models/lda_model_24_topics\n",
      "Modelo con 25 t\u00f3picos guardado en: lda_models/lda_model_25_topics\n",
      "Modelo con 26 t\u00f3picos guardado en: lda_models/lda_model_26_topics\n",
      "Modelo con 27 t\u00f3picos guardado en: lda_models/lda_model_27_topics\n",
      "Modelo con 28 t\u00f3picos guardado en: lda_models/lda_model_28_topics\n",
      "Modelo con 29 t\u00f3picos guardado en: lda_models/lda_model_29_topics\n",
      "Modelo con 30 t\u00f3picos guardado en: lda_models/lda_model_30_topics\n",
      "Modelo con 31 t\u00f3picos guardado en: lda_models/lda_model_31_topics\n",
      "Modelo con 32 t\u00f3picos guardado en: lda_models/lda_model_32_topics\n",
      "Modelo con 33 t\u00f3picos guardado en: lda_models/lda_model_33_topics\n",
      "Modelo con 34 t\u00f3picos guardado en: lda_models/lda_model_34_topics\n",
      "Modelo con 35 t\u00f3picos guardado en: lda_models/lda_model_35_topics\n",
      "Modelo con 36 t\u00f3picos guardado en: lda_models/lda_model_36_topics\n",
      "Modelo con 37 t\u00f3picos guardado en: lda_models/lda_model_37_topics\n",
      "Modelo con 38 t\u00f3picos guardado en: lda_models/lda_model_38_topics\n",
      "Modelo con 39 t\u00f3picos guardado en: lda_models/lda_model_39_topics\n"
     ]
    }
   ]
  },
  {
   "cell_type": "code",
   "source": [
    "# prompt: Para cargar todos los modelos en disco\n",
    "\n",
    "# Para cargar todos los modelos en disco\n",
    "loaded_models = {}\n",
    "for i in range(start, limit, step):\n",
    "    model_filename = os.path.join(output_dir, f\"lda_model_{i}_topics\")\n",
    "    if os.path.exists(model_filename):\n",
    "        loaded_models[i] = LdaModel.load(model_filename)\n",
    "        print(f\"Modelo con {i} t\u00f3picos cargado desde: {model_filename}\")\n",
    "    else:\n",
    "        print(f\"Archivo no encontrado: {model_filename}\")\n",
    "\n",
    "# Ahora puedes acceder a los modelos cargados por su n\u00famero de t\u00f3picos, por ejemplo:\n",
    "# model_10_topics = loaded_models[10]\n"
   ],
   "metadata": {
    "id": "nSZ2_hv-wjHr",
    "outputId": "633ab311-bec6-49bc-da8f-db97116edeee",
    "colab": {
     "base_uri": "https://localhost:8080/"
    }
   },
   "execution_count": 63,
   "outputs": [
    {
     "output_type": "stream",
     "name": "stdout",
     "text": [
      "Modelo con 2 t\u00f3picos cargado desde: lda_models/lda_model_2_topics\n",
      "Modelo con 3 t\u00f3picos cargado desde: lda_models/lda_model_3_topics\n",
      "Modelo con 4 t\u00f3picos cargado desde: lda_models/lda_model_4_topics\n",
      "Modelo con 5 t\u00f3picos cargado desde: lda_models/lda_model_5_topics\n",
      "Modelo con 6 t\u00f3picos cargado desde: lda_models/lda_model_6_topics\n",
      "Modelo con 7 t\u00f3picos cargado desde: lda_models/lda_model_7_topics\n",
      "Modelo con 8 t\u00f3picos cargado desde: lda_models/lda_model_8_topics\n",
      "Modelo con 9 t\u00f3picos cargado desde: lda_models/lda_model_9_topics\n",
      "Modelo con 10 t\u00f3picos cargado desde: lda_models/lda_model_10_topics\n",
      "Modelo con 11 t\u00f3picos cargado desde: lda_models/lda_model_11_topics\n",
      "Modelo con 12 t\u00f3picos cargado desde: lda_models/lda_model_12_topics\n",
      "Modelo con 13 t\u00f3picos cargado desde: lda_models/lda_model_13_topics\n",
      "Modelo con 14 t\u00f3picos cargado desde: lda_models/lda_model_14_topics\n",
      "Modelo con 15 t\u00f3picos cargado desde: lda_models/lda_model_15_topics\n",
      "Modelo con 16 t\u00f3picos cargado desde: lda_models/lda_model_16_topics\n",
      "Modelo con 17 t\u00f3picos cargado desde: lda_models/lda_model_17_topics\n",
      "Modelo con 18 t\u00f3picos cargado desde: lda_models/lda_model_18_topics\n",
      "Modelo con 19 t\u00f3picos cargado desde: lda_models/lda_model_19_topics\n",
      "Modelo con 20 t\u00f3picos cargado desde: lda_models/lda_model_20_topics\n",
      "Modelo con 21 t\u00f3picos cargado desde: lda_models/lda_model_21_topics\n",
      "Modelo con 22 t\u00f3picos cargado desde: lda_models/lda_model_22_topics\n",
      "Modelo con 23 t\u00f3picos cargado desde: lda_models/lda_model_23_topics\n",
      "Modelo con 24 t\u00f3picos cargado desde: lda_models/lda_model_24_topics\n",
      "Modelo con 25 t\u00f3picos cargado desde: lda_models/lda_model_25_topics\n",
      "Modelo con 26 t\u00f3picos cargado desde: lda_models/lda_model_26_topics\n",
      "Modelo con 27 t\u00f3picos cargado desde: lda_models/lda_model_27_topics\n",
      "Modelo con 28 t\u00f3picos cargado desde: lda_models/lda_model_28_topics\n",
      "Modelo con 29 t\u00f3picos cargado desde: lda_models/lda_model_29_topics\n",
      "Modelo con 30 t\u00f3picos cargado desde: lda_models/lda_model_30_topics\n",
      "Modelo con 31 t\u00f3picos cargado desde: lda_models/lda_model_31_topics\n",
      "Modelo con 32 t\u00f3picos cargado desde: lda_models/lda_model_32_topics\n",
      "Modelo con 33 t\u00f3picos cargado desde: lda_models/lda_model_33_topics\n",
      "Modelo con 34 t\u00f3picos cargado desde: lda_models/lda_model_34_topics\n",
      "Modelo con 35 t\u00f3picos cargado desde: lda_models/lda_model_35_topics\n",
      "Modelo con 36 t\u00f3picos cargado desde: lda_models/lda_model_36_topics\n",
      "Modelo con 37 t\u00f3picos cargado desde: lda_models/lda_model_37_topics\n",
      "Modelo con 38 t\u00f3picos cargado desde: lda_models/lda_model_38_topics\n",
      "Modelo con 39 t\u00f3picos cargado desde: lda_models/lda_model_39_topics\n"
     ]
    }
   ]
  },
  {
   "cell_type": "code",
   "source": [],
   "metadata": {
    "id": "vjhdF2dswq-7",
    "outputId": "2aa56e0e-aab6-434f-a840-5e1f7749575c",
    "colab": {
     "base_uri": "https://localhost:8080/",
     "height": 165
    }
   },
   "execution_count": 61,
   "outputs": [
    {
     "output_type": "error",
     "ename": "KeyError",
     "evalue": "1",
     "traceback": [
      "\u001b[0;31m---------------------------------------------------------------------------\u001b[0m",
      "\u001b[0;31mKeyError\u001b[0m                                  Traceback (most recent call last)",
      "\u001b[0;32m<ipython-input-61-0b08fc326e4c>\u001b[0m in \u001b[0;36m<cell line: 0>\u001b[0;34m()\u001b[0m\n\u001b[0;32m----> 1\u001b[0;31m \u001b[0mvis\u001b[0m \u001b[0;34m=\u001b[0m \u001b[0mpyLDAvis\u001b[0m\u001b[0;34m.\u001b[0m\u001b[0mgensim\u001b[0m\u001b[0;34m.\u001b[0m\u001b[0mprepare\u001b[0m\u001b[0;34m(\u001b[0m\u001b[0mloaded_models\u001b[0m\u001b[0;34m[\u001b[0m\u001b[0;36m1\u001b[0m\u001b[0;34m]\u001b[0m\u001b[0;34m,\u001b[0m \u001b[0mcorpus\u001b[0m\u001b[0;34m,\u001b[0m \u001b[0mid2word\u001b[0m\u001b[0;34m)\u001b[0m\u001b[0;34m\u001b[0m\u001b[0;34m\u001b[0m\u001b[0m\n\u001b[0m\u001b[1;32m      2\u001b[0m \u001b[0mvis\u001b[0m\u001b[0;34m\u001b[0m\u001b[0;34m\u001b[0m\u001b[0m\n",
      "\u001b[0;31mKeyError\u001b[0m: 1"
     ]
    }
   ]
  },
  {
   "cell_type": "code",
   "source": [
    "NUMERO_TOPICOS\n",
    "\n",
    "\n",
    "\n",
    "# Example: To visualize the model with 10 topics (assuming it was saved and loaded)\n",
    "\n",
    "vis = pyLDAvis.gensim.prepare(loaded_models[NUMERO_TOPICOS], corpus, id2word)\n",
    "vis\n",
    "\n",
    "\n",
    "\n"
   ],
   "metadata": {
    "id": "FVvyys7txC32",
    "outputId": "a0a8d549-11c6-477b-8a4a-d4465bcc2d1a",
    "colab": {
     "base_uri": "https://localhost:8080/",
     "height": 881
    }
   },
   "execution_count": 69,
   "outputs": [
    {
     "output_type": "execute_result",
     "data": {
      "text/plain": [
       "PreparedData(topic_coordinates=              x    y  topics  cluster       Freq\n",
       "topic                                           \n",
       "1      0.142607  0.0       1        1  54.889034\n",
       "0     -0.142607  0.0       2        1  45.110966, topic_info=             Term         Freq        Total Category  logprob  loglift\n",
       "204          user  5776.000000  5776.000000  Default  30.0000  30.0000\n",
       "203   unsubscribe  3310.000000  3310.000000  Default  29.0000  29.0000\n",
       "3334       wallet  2340.000000  2340.000000  Default  28.0000  28.0000\n",
       "965        update  2922.000000  2922.000000  Default  27.0000  27.0000\n",
       "199          team  3132.000000  3132.000000  Default  26.0000  26.0000\n",
       "...           ...          ...          ...      ...      ...      ...\n",
       "1517       access  1194.274043  1480.066654   Topic2  -5.3183   0.5815\n",
       "296         write  1201.860760  1541.794777   Topic2  -5.3120   0.5470\n",
       "295           use  1057.306899  1275.889218   Topic2  -5.4401   0.6081\n",
       "585       support  1074.713911  1538.721984   Topic2  -5.4238   0.4371\n",
       "44            get  1114.597623  2907.961283   Topic2  -5.3874  -0.1629\n",
       "\n",
       "[164 rows x 6 columns], token_table=      Topic      Freq      Term\n",
       "term                           \n",
       "1517      1  0.193235    access\n",
       "1517      2  0.806720    access\n",
       "358       1  0.512374   account\n",
       "358       2  0.487662   account\n",
       "1530      1  0.106567  activity\n",
       "...     ...       ...       ...\n",
       "269       2  0.233587      want\n",
       "296       1  0.220522     write\n",
       "296       2  0.779611     write\n",
       "249       1  0.975192      year\n",
       "249       2  0.025220      year\n",
       "\n",
       "[251 rows x 3 columns], R=30, lambda_step=0.01, plot_opts={'xlab': 'PC1', 'ylab': 'PC2'}, topic_order=[2, 1])"
      ],
      "text/html": [
       "\n",
       "<link rel=\"stylesheet\" type=\"text/css\" href=\"https://cdn.jsdelivr.net/gh/bmabey/pyLDAvis@3.4.0/pyLDAvis/js/ldavis.v1.0.0.css\">\n",
       "\n",
       "\n",
       "<div id=\"ldavis_el25591377267599413123046483546\" style=\"background-color:white;\"></div>\n",
       "<script type=\"text/javascript\">\n",
       "\n",
       "var ldavis_el25591377267599413123046483546_data = {\"mdsDat\": {\"x\": [0.14260685151364966, -0.14260685151364966], \"y\": [0.0, 0.0], \"topics\": [1, 2], \"cluster\": [1, 1], \"Freq\": [54.88903443678451, 45.11096556321549]}, \"tinfo\": {\"Term\": [\"user\", \"unsubscribe\", \"wallet\", \"update\", \"team\", \"log\", \"device\", \"verify\", \"message\", \"contact\", \"fund\", \"new\", \"change\", \"reward\", \"click\", \"unusual\", \"opt\", \"security_notification\", \"detected_somethe\", \"report\", \"future_report\", \"similar_activity\", \"activity\", \"claim\", \"org\", \"offer\", \"payment\", \"money\", \"upgrade\", \"rights_reserve\", \"fund\", \"money\", \"business\", \"country\", \"offer\", \"payment\", \"investment\", \"opportunity\", \"bank\", \"assistance\", \"dollar\", \"deposit\", \"invest\", \"partner\", \"assist\", \"reward\", \"pay\", \"transaction\", \"meet\", \"product\", \"transfer\", \"proposal\", \"financial\", \"life\", \"united_state\", \"credit\", \"cash\", \"seek\", \"price\", \"fee\", \"contact\", \"sincerely\", \"survey\", \"earn\", \"purchase\", \"usd\", \"discount\", \"amount\", \"balance\", \"participate\", \"office\", \"claim\", \"year\", \"detail\", \"customer\", \"company\", \"name\", \"join\", \"kindly\", \"dear\", \"give\", \"soon\", \"reply\", \"day\", \"account\", \"information\", \"want\", \"get\", \"service\", \"make\", \"email\", \"receive\", \"help\", \"time\", \"free\", \"send\", \"need\", \"click\", \"address\", \"thank\", \"user\", \"log\", \"future_report\", \"similar_activity\", \"org\", \"detected_somethe\", \"upgrade\", \"version\", \"security_notification\", \"details_countryregion\", \"platform_window\", \"file\", \"server\", \"password\", \"add\", \"browser_firefox\", \"spam\", \"error\", \"jul_platform\", \"rights_reserve\", \"mailing_list\", \"manually\", \"app\", \"date_we\", \"login\", \"failure\", \"browser\", \"folder\", \"rpm\", \"admin\", \"unusual\", \"device\", \"wallet\", \"opt\", \"list\", \"network\", \"delete\", \"datum\", \"ledger\", \"code\", \"unsubscribe\", \"platform\", \"verify\", \"change\", \"update\", \"report\", \"message\", \"team\", \"activity\", \"button\", \"new\", \"click\", \"email\", \"system\", \"thank\", \"receive\", \"account\", \"mail\", \"address\", \"access\", \"write\", \"use\", \"support\", \"get\"], \"Freq\": [5776.0, 3310.0, 2340.0, 2922.0, 3132.0, 1757.0, 1770.0, 2127.0, 2357.0, 2373.0, 1982.0, 3318.0, 1826.0, 1886.0, 5268.0, 1360.0, 1311.0, 1220.0, 1210.0, 1580.0, 1201.0, 1201.0, 1979.0, 2159.0, 1053.0, 1345.0, 1299.0, 1258.0, 938.0, 915.0, 1981.7103151522251, 1258.3418837549723, 903.3730571784986, 977.4584129351995, 1344.5312594930938, 1298.1918506774637, 694.9998006780863, 887.0617796742348, 658.2368817809702, 779.1593101400299, 462.64403724177714, 584.5097417808701, 424.5985761527151, 450.4776453320294, 425.97693709011514, 1884.2401460461851, 451.5933676404089, 1012.6452239234794, 318.96206807440973, 540.9788991324291, 988.603693192652, 288.7836677038449, 367.8471973271737, 272.9480495013576, 309.54387238019433, 323.7104115676202, 274.8854279070586, 230.20260301072102, 242.8989837270525, 291.7913097407773, 2340.1839815750313, 628.2991845881521, 513.6791168540893, 529.5113696647603, 354.57540364394947, 331.2267294251906, 319.4811668182446, 449.7357749083813, 463.5749909102372, 392.53515942142553, 453.63386510304235, 2072.7341193803736, 928.0160093145112, 1727.4275225508393, 1973.262940075677, 938.7087047771525, 1149.1881097682435, 508.4771185440544, 732.0354716380913, 1917.8686598146253, 945.5536010797608, 796.0397703217214, 1103.67537925003, 1096.1356589755221, 4914.044755053959, 1711.9265623622393, 1112.034184117343, 1793.3636596874883, 1399.9476305311957, 1240.605474996273, 3437.2235675339666, 2417.1628839568853, 1137.0560621134407, 1208.9915020274325, 1105.5007677711394, 1304.782634010319, 1118.5947306991113, 1413.3527282471807, 1255.9777564085568, 1269.169954260723, 5775.938935559987, 1757.1365417302436, 1200.7803963897538, 1200.7803963897538, 1052.625737568511, 1209.4764131977608, 937.9930003172648, 817.6980254920383, 1219.1563430719798, 545.671593815745, 484.30207298523635, 601.5480066334762, 441.72893983436836, 465.1675112869613, 733.2203911523198, 550.4691770748209, 359.36375130218505, 340.31786773345044, 263.587655200555, 913.9651987211391, 221.0468189308392, 217.79915973594558, 292.3098375492729, 212.34980924550212, 306.0373027794815, 276.49968446350874, 296.79352973241646, 191.30012901706974, 155.11111199501698, 168.45884419834528, 1355.9624707459498, 1760.2747149235502, 2313.3190753775834, 1299.657475336697, 836.7356823628949, 574.955177374829, 375.48680258655145, 570.3988916748929, 632.486234447145, 715.052778501874, 3162.0962037924705, 631.360311554804, 2016.3162187360567, 1738.1806412155404, 2728.7375886339105, 1494.6177331595104, 2161.951465516115, 2756.001205816778, 1769.2354611956873, 666.1908454458809, 2739.0072309063657, 3855.1645222435786, 5140.260515392777, 1022.0042659910703, 2408.2880756815316, 3288.039799588293, 4676.611085175626, 1649.3468285097879, 1982.1208426570108, 1194.2740428776406, 1201.8607603966047, 1057.3068988686512, 1074.713910748388, 1114.5976228912339], \"Total\": [5776.0, 3310.0, 2340.0, 2922.0, 3132.0, 1757.0, 1770.0, 2127.0, 2357.0, 2373.0, 1982.0, 3318.0, 1826.0, 1886.0, 5268.0, 1360.0, 1311.0, 1220.0, 1210.0, 1580.0, 1201.0, 1201.0, 1979.0, 2159.0, 1053.0, 1345.0, 1299.0, 1258.0, 938.0, 915.0, 1982.3191594433583, 1258.879108236132, 903.9309369433028, 978.0624302468126, 1345.420901460899, 1299.0808312626411, 695.5532189774189, 887.868185555147, 658.8837261248569, 780.0224540292146, 463.18734658716807, 585.2186389078628, 425.1383789013792, 451.0775526190696, 426.55156118811175, 1886.7997893438105, 452.2252949997207, 1014.2426251431808, 319.5260833446215, 541.9812585518506, 990.5764549005542, 289.3758642900258, 368.60248121761776, 273.5286210010489, 310.20293149770373, 324.40667516167883, 275.4840539834191, 230.7479208272736, 243.4748409432332, 292.4832615212431, 2373.3187093542097, 632.2265317000833, 516.1223011815032, 532.6347574075756, 355.4346270528328, 332.1138039850872, 320.23893993858877, 452.77460385445414, 467.5883336099223, 394.7555668978967, 457.7093805400421, 2159.478343733126, 951.6072303376224, 1811.7632392601809, 2205.0060690356418, 999.3305109663006, 1257.4654392294765, 519.5681868481568, 784.294949359929, 2412.1543696653985, 1100.282015599869, 896.9957074545184, 1342.1068703206784, 1352.4230843187343, 9590.655840229585, 2569.836743817923, 1451.2805102682187, 2907.961282578722, 2071.7143615912614, 1752.0597926958624, 8577.484082926743, 5705.202683545178, 1623.9578850998287, 1867.957037302508, 1546.6704339894204, 2373.271827993259, 1666.4785686780292, 5268.51725049076, 3238.0985990655677, 3677.4580299422546, 5776.607132959028, 1757.815175754025, 1201.2808349056304, 1201.2808349056304, 1053.153680106309, 1210.2988705981097, 938.6608585479113, 818.3451277091078, 1220.1863469227114, 546.1701872649966, 484.8021998046173, 602.2841178011655, 442.2839373380999, 465.7912678511142, 734.2989158361908, 551.3034606723489, 359.92400638793316, 340.9455154644751, 264.09256283811186, 915.8227139251101, 221.5417342805434, 218.33540198928765, 293.05772441978087, 212.90728619760932, 306.8413749068104, 277.2262143094613, 297.5971048037786, 191.8756971749072, 155.58466347747208, 168.97786538041566, 1360.2764106500408, 1770.6858576079733, 2340.923423457987, 1311.632218969024, 841.5807544438662, 576.87504846219, 376.8664680177745, 575.6750947171727, 640.0827457085511, 726.1029583955868, 3310.1626054179897, 641.3121494472958, 2127.836665686087, 1826.3850841350586, 2922.6518620272786, 1580.603528580381, 2357.3102341106764, 3132.8333089564358, 1979.9746399181502, 680.6963000835718, 3318.4153148285823, 5268.51725049076, 8577.484082926743, 1163.5626988100419, 3677.4580299422546, 5705.202683545178, 9590.655840229585, 2297.053589140469, 3238.0985990655677, 1480.0666538857602, 1541.7947766970717, 1275.8892181400868, 1538.7219844393217, 2907.961282578722], \"Category\": [\"Default\", \"Default\", \"Default\", \"Default\", \"Default\", \"Default\", \"Default\", \"Default\", \"Default\", \"Default\", \"Default\", \"Default\", \"Default\", \"Default\", \"Default\", \"Default\", \"Default\", \"Default\", \"Default\", \"Default\", \"Default\", \"Default\", \"Default\", \"Default\", \"Default\", \"Default\", \"Default\", \"Default\", \"Default\", \"Default\", \"Topic1\", \"Topic1\", \"Topic1\", \"Topic1\", \"Topic1\", \"Topic1\", \"Topic1\", \"Topic1\", \"Topic1\", \"Topic1\", \"Topic1\", \"Topic1\", \"Topic1\", \"Topic1\", \"Topic1\", \"Topic1\", \"Topic1\", \"Topic1\", \"Topic1\", \"Topic1\", \"Topic1\", \"Topic1\", \"Topic1\", \"Topic1\", \"Topic1\", \"Topic1\", \"Topic1\", \"Topic1\", \"Topic1\", \"Topic1\", \"Topic1\", \"Topic1\", \"Topic1\", \"Topic1\", \"Topic1\", \"Topic1\", \"Topic1\", \"Topic1\", \"Topic1\", \"Topic1\", \"Topic1\", \"Topic1\", \"Topic1\", \"Topic1\", \"Topic1\", \"Topic1\", \"Topic1\", \"Topic1\", \"Topic1\", \"Topic1\", \"Topic1\", \"Topic1\", \"Topic1\", \"Topic1\", \"Topic1\", \"Topic1\", \"Topic1\", \"Topic1\", \"Topic1\", \"Topic1\", \"Topic1\", \"Topic1\", \"Topic1\", \"Topic1\", \"Topic1\", \"Topic1\", \"Topic1\", \"Topic1\", \"Topic1\", \"Topic1\", \"Topic2\", \"Topic2\", \"Topic2\", \"Topic2\", \"Topic2\", \"Topic2\", \"Topic2\", \"Topic2\", \"Topic2\", \"Topic2\", \"Topic2\", \"Topic2\", \"Topic2\", \"Topic2\", \"Topic2\", \"Topic2\", \"Topic2\", \"Topic2\", \"Topic2\", \"Topic2\", \"Topic2\", \"Topic2\", \"Topic2\", \"Topic2\", \"Topic2\", \"Topic2\", \"Topic2\", \"Topic2\", \"Topic2\", \"Topic2\", \"Topic2\", \"Topic2\", \"Topic2\", \"Topic2\", \"Topic2\", \"Topic2\", \"Topic2\", \"Topic2\", \"Topic2\", \"Topic2\", \"Topic2\", \"Topic2\", \"Topic2\", \"Topic2\", \"Topic2\", \"Topic2\", \"Topic2\", \"Topic2\", \"Topic2\", \"Topic2\", \"Topic2\", \"Topic2\", \"Topic2\", \"Topic2\", \"Topic2\", \"Topic2\", \"Topic2\", \"Topic2\", \"Topic2\", \"Topic2\", \"Topic2\", \"Topic2\", \"Topic2\", \"Topic2\"], \"logprob\": [30.0, 29.0, 28.0, 27.0, 26.0, 25.0, 24.0, 23.0, 22.0, 21.0, 20.0, 19.0, 18.0, 17.0, 16.0, 15.0, 14.0, 13.0, 12.0, 11.0, 10.0, 9.0, 8.0, 7.0, 6.0, 5.0, 4.0, 3.0, 2.0, 1.0, -5.0081, -5.4622, -5.7937, -5.7148, -5.396, -5.4311, -6.0559, -5.8119, -6.1102, -5.9416, -6.4628, -6.229, -6.5486, -6.4895, -6.5454, -5.0585, -6.487, -5.6795, -6.8347, -6.3064, -5.7035, -6.9341, -6.6921, -6.9905, -6.8647, -6.8199, -6.9834, -7.1608, -7.1071, -6.9238, -4.8418, -6.1568, -6.3582, -6.3278, -6.7289, -6.797, -6.8331, -6.4911, -6.4608, -6.6272, -6.4825, -4.9632, -5.7667, -5.1454, -5.0123, -5.7553, -5.553, -6.3684, -6.004, -5.0408, -5.748, -5.9201, -5.5934, -5.6002, -4.0999, -5.1544, -5.5858, -5.1079, -5.3556, -5.4764, -4.4574, -4.8094, -5.5636, -5.5023, -5.5917, -5.426, -5.58, -5.3461, -5.4641, -5.4537, -3.7421, -4.9322, -5.3129, -5.3129, -5.4446, -5.3057, -5.5599, -5.6971, -5.2977, -6.1016, -6.2209, -6.0041, -6.3129, -6.2612, -5.8062, -6.0928, -6.5193, -6.5737, -6.8292, -5.5858, -7.0052, -7.02, -6.7258, -7.0454, -6.6799, -6.7814, -6.7106, -7.1498, -7.3595, -7.2769, -5.1913, -4.9304, -4.6572, -5.2337, -5.6741, -6.0493, -6.4754, -6.0573, -5.9539, -5.8312, -4.3446, -5.9557, -4.7946, -4.943, -4.492, -5.094, -4.7248, -4.4821, -4.9253, -5.902, -4.4883, -4.1464, -3.8587, -5.4741, -4.6169, -4.3056, -3.9533, -4.9955, -4.8117, -5.3183, -5.312, -5.4401, -5.4238, -5.3874], \"loglift\": [30.0, 29.0, 28.0, 27.0, 26.0, 25.0, 24.0, 23.0, 22.0, 21.0, 20.0, 19.0, 18.0, 17.0, 16.0, 15.0, 14.0, 13.0, 12.0, 11.0, 10.0, 9.0, 8.0, 7.0, 6.0, 5.0, 4.0, 3.0, 2.0, 1.0, 0.5995, 0.5994, 0.5992, 0.5992, 0.5992, 0.5992, 0.5991, 0.5989, 0.5989, 0.5987, 0.5987, 0.5986, 0.5986, 0.5985, 0.5985, 0.5985, 0.5985, 0.5983, 0.5981, 0.598, 0.5979, 0.5978, 0.5978, 0.5977, 0.5977, 0.5977, 0.5977, 0.5975, 0.5975, 0.5975, 0.5858, 0.5936, 0.5951, 0.594, 0.5974, 0.5972, 0.5975, 0.5931, 0.5912, 0.5942, 0.5909, 0.5589, 0.5748, 0.5522, 0.4888, 0.5373, 0.5098, 0.5783, 0.5309, 0.3706, 0.4483, 0.4805, 0.4043, 0.3897, -0.0688, 0.1936, 0.3336, 0.1165, 0.2079, 0.2547, -0.3146, -0.2589, 0.2434, 0.1648, 0.2641, 0.0016, 0.2012, -0.7159, -0.3472, -0.464, 0.7959, 0.7957, 0.7956, 0.7956, 0.7955, 0.7954, 0.7953, 0.7953, 0.7952, 0.7951, 0.795, 0.7948, 0.7948, 0.7947, 0.7946, 0.7945, 0.7945, 0.7942, 0.7941, 0.794, 0.7938, 0.7936, 0.7935, 0.7934, 0.7934, 0.7934, 0.7933, 0.793, 0.793, 0.793, 0.7929, 0.7901, 0.7842, 0.7869, 0.7903, 0.7927, 0.7924, 0.7868, 0.7841, 0.7807, 0.7503, 0.7804, 0.7422, 0.7465, 0.7274, 0.7401, 0.7095, 0.6679, 0.6835, 0.7745, 0.6042, 0.4837, 0.284, 0.6663, 0.3727, 0.245, 0.0778, 0.4648, 0.3052, 0.5815, 0.547, 0.6081, 0.4371, -0.1629]}, \"token.table\": {\"Topic\": [1, 2, 1, 2, 1, 2, 1, 2, 1, 2, 1, 2, 1, 2, 1, 2, 1, 2, 1, 2, 1, 2, 1, 2, 1, 2, 1, 2, 1, 2, 1, 2, 1, 2, 1, 2, 1, 2, 1, 2, 1, 2, 1, 2, 1, 2, 1, 2, 1, 2, 1, 2, 1, 2, 1, 2, 1, 2, 1, 2, 1, 2, 1, 2, 1, 2, 2, 1, 2, 1, 2, 1, 2, 1, 2, 1, 2, 1, 2, 1, 2, 1, 2, 1, 2, 1, 2, 1, 2, 1, 2, 1, 2, 1, 2, 1, 2, 1, 2, 1, 2, 1, 2, 1, 2, 1, 2, 1, 2, 1, 2, 1, 2, 1, 2, 1, 2, 1, 2, 1, 2, 1, 2, 1, 2, 1, 2, 2, 1, 2, 1, 2, 1, 2, 1, 2, 1, 2, 1, 2, 1, 2, 1, 2, 1, 2, 1, 2, 1, 2, 1, 2, 1, 2, 1, 2, 1, 2, 1, 2, 1, 2, 1, 2, 1, 2, 1, 2, 1, 2, 1, 2, 1, 2, 1, 2, 1, 2, 1, 2, 1, 2, 1, 2, 1, 2, 1, 2, 2, 1, 2, 1, 2, 1, 2, 1, 2, 1, 2, 1, 2, 1, 2, 1, 2, 1, 2, 1, 2, 1, 2, 1, 2, 1, 2, 1, 2, 1, 2, 1, 2, 1, 2, 1, 2, 1, 2, 1, 2, 1, 2, 1, 2, 1, 2, 1, 2, 1, 2, 1, 2, 1, 2, 1, 2, 1, 2, 1, 2, 1, 2], \"Freq\": [0.19323454065337997, 0.8067204249655094, 0.5123737189470837, 0.48766216595757234, 0.10656702148908458, 0.893445786797112, 0.0013618432200206087, 0.9982310802751062, 0.3878819503403786, 0.6120875999798012, 0.0059179348593895705, 0.994213056377448, 0.9938719976102148, 0.006625813317401432, 0.003412297020936336, 0.9963907301134102, 0.9987069296228211, 0.0023443824639033358, 0.9986891992353129, 0.0012820143764253054, 0.9923258701041164, 0.008554533362966521, 0.9986587525388516, 0.00151771846890403, 0.0033602477438728863, 0.9979935799302472, 0.0018138830450663917, 0.9976356747865154, 0.9989701238167036, 0.0011062792068845001, 0.02203625904556612, 0.9784099016231358, 0.9982428965436664, 0.0036299741692496956, 0.04818260988025706, 0.9516065451350769, 0.9599540583566911, 0.04028750751424608, 0.2681969011050272, 0.7317049212738003, 0.015149366729349021, 0.9847088374076864, 0.93962907135902, 0.06104086619052207, 0.9859611314641867, 0.013904580059110326, 0.998913739845273, 0.0010224296211312927, 0.9987464032252846, 0.0030825506272385327, 0.8947821177031456, 0.10521512990731362, 0.00469688012025973, 0.9957385854950628, 0.008685454774548627, 0.9901418442985433, 0.8103972881770913, 0.18928987753041548, 0.795139823603435, 0.2047961798019275, 0.0026534597393600857, 0.9950474022600322, 0.9996263979078472, 0.0017087630733467474, 0.9532150573411605, 0.04636367389499565, 0.9996883988380091, 0.0008262421987602257, 0.9989268183011129, 0.005647529152070509, 0.9939651307644096, 0.9961312014746665, 0.0031226683431807727, 0.9995955274068938, 0.002158953622909058, 0.9950533505916898, 0.0056323774561793764, 0.4007002480880446, 0.5992433154415331, 0.0029330199537532715, 0.9972267842761123, 0.0036071624845827994, 0.9955768457448526, 0.9983477293068684, 0.0034189990729687272, 0.0016603459570722634, 0.9995282661575026, 0.9983654987464339, 0.00271294972485444, 0.0052117074477047234, 0.9954361225116022, 0.7150844651159636, 0.2851286158373779, 0.9998389969436365, 0.0005044596351885149, 0.0008324448130220586, 0.9997662204394925, 0.6165831748660708, 0.38343013941755105, 0.859779571589421, 0.14087297420334063, 0.7001413093481214, 0.29988462414470984, 0.6661901788580302, 0.33387334898375576, 0.9996745085641602, 0.002352175314268612, 0.999204634581043, 0.001437704510188551, 0.977734997752013, 0.021171427116677445, 0.0037865511593864827, 0.9996495060780314, 0.933322343331922, 0.06630158723122943, 0.0124983840818022, 0.9873723424623737, 0.9980674015058669, 0.0036559245476405385, 0.005941200501078595, 0.9945569638805568, 0.0005688880229237094, 0.9995362562769574, 0.0032590129030144843, 0.9972579483224322, 0.28210051479141773, 0.7178761556960614, 0.9975547077741235, 0.7083091599804913, 0.2916567129331435, 0.004580109276319118, 0.9984638222375678, 0.9983535511745559, 0.00312963495666005, 0.08272139881222129, 0.9171469960616535, 0.9993016738220688, 0.0007943574513688941, 0.9137428068830745, 0.085887052344101, 0.6714757819464018, 0.32883711215963196, 0.0034669552883792054, 0.9967496454090216, 0.17448087266614762, 0.8253939727678382, 0.9996871600103419, 0.0007432618290039716, 0.9918957733930087, 0.008739169809630033, 0.9990221684150062, 0.0011262933127564895, 0.00914890609307562, 0.9911314934165255, 0.0009495290372997193, 0.9998540762766044, 0.995552774817864, 0.005066426334950962, 0.9976111588510378, 0.0022169136863356394, 0.0021468843858181573, 0.998301239405443, 0.9995018080540568, 0.0022112871859603024, 0.999168003070609, 0.0007697750408864477, 0.015593030646025236, 0.9839202337641924, 0.0020626969110350887, 0.998345304940983, 0.998049733018025, 0.00410720054739928, 0.9981894972632956, 0.001845082250024576, 0.998701120803741, 0.00345571322077419, 0.9987771955241486, 0.0028134568888004184, 0.4236484020052537, 0.5763160719045405, 0.8225872502509536, 0.17733312097801354, 0.05440959636300502, 0.9458412391010756, 0.9985161174176386, 0.0015899938175440104, 0.0021838287799482844, 0.998009752436366, 0.996242152250715, 0.0008195469507768075, 0.9990277329969284, 0.9967587104378139, 0.004333733523642669, 0.5498738006355783, 0.4500116621293469, 0.002260990996007072, 0.9993580202351259, 0.6757688347174825, 0.3243690406643916, 0.0008324448130220586, 0.9997662204394925, 0.9933148460430504, 0.006326846153140448, 0.8874066992570984, 0.11259808621227002, 0.0027783642720463062, 0.9974327736646239, 0.30154895081262645, 0.698631728714598, 0.995887987834192, 0.003875050536319813, 0.12203897576402309, 0.8783368537382507, 0.12033835280102433, 0.8797148549592123, 0.3450753182409335, 0.6548001310671142, 0.6472311599553172, 0.3527918398763888, 0.9987748245711864, 0.001971914757297505, 0.9984085479795576, 0.0020190263862073965, 0.9993458105095141, 0.003223696162933916, 0.044710794496245404, 0.9552400824130268, 0.0029405788181598356, 0.9968562193561842, 0.06637807346148752, 0.9337410436927807, 0.0010653475010633543, 0.9992959559974264, 0.9966463183049832, 0.003011016067386656, 0.1716449962005673, 0.8284418309771674, 0.000173111997576293, 0.9998948980006683, 0.05263561898623802, 0.9474411417522842, 0.0012219783146988612, 0.9995782614236686, 0.011961091815057622, 0.9880716202938672, 0.7662198948668342, 0.23358682046749712, 0.2205222154976871, 0.7796108912594703, 0.9751922541306809, 0.025220489330965885], \"Term\": [\"access\", \"access\", \"account\", \"account\", \"activity\", \"activity\", \"add\", \"add\", \"address\", \"address\", \"admin\", \"admin\", \"amount\", \"amount\", \"app\", \"app\", \"assist\", \"assist\", \"assistance\", \"assistance\", \"balance\", \"balance\", \"bank\", \"bank\", \"browser\", \"browser\", \"browser_firefox\", \"browser_firefox\", \"business\", \"business\", \"button\", \"button\", \"cash\", \"cash\", \"change\", \"change\", \"claim\", \"claim\", \"click\", \"click\", \"code\", \"code\", \"company\", \"company\", \"contact\", \"contact\", \"country\", \"country\", \"credit\", \"credit\", \"customer\", \"customer\", \"date_we\", \"date_we\", \"datum\", \"datum\", \"day\", \"day\", \"dear\", \"dear\", \"delete\", \"delete\", \"deposit\", \"deposit\", \"detail\", \"detail\", \"details_countryregion\", \"detected_somethe\", \"detected_somethe\", \"device\", \"device\", \"discount\", \"discount\", \"dollar\", \"dollar\", \"earn\", \"earn\", \"email\", \"email\", \"error\", \"error\", \"failure\", \"failure\", \"fee\", \"fee\", \"file\", \"file\", \"financial\", \"financial\", \"folder\", \"folder\", \"free\", \"free\", \"fund\", \"fund\", \"future_report\", \"future_report\", \"get\", \"get\", \"give\", \"give\", \"help\", \"help\", \"information\", \"information\", \"invest\", \"invest\", \"investment\", \"investment\", \"join\", \"join\", \"jul_platform\", \"jul_platform\", \"kindly\", \"kindly\", \"ledger\", \"ledger\", \"life\", \"life\", \"list\", \"list\", \"log\", \"log\", \"login\", \"login\", \"mail\", \"mail\", \"mailing_list\", \"make\", \"make\", \"manually\", \"manually\", \"meet\", \"meet\", \"message\", \"message\", \"money\", \"money\", \"name\", \"name\", \"need\", \"need\", \"network\", \"network\", \"new\", \"new\", \"offer\", \"offer\", \"office\", \"office\", \"opportunity\", \"opportunity\", \"opt\", \"opt\", \"org\", \"org\", \"participate\", \"participate\", \"partner\", \"partner\", \"password\", \"password\", \"pay\", \"pay\", \"payment\", \"payment\", \"platform\", \"platform\", \"platform_window\", \"platform_window\", \"price\", \"price\", \"product\", \"product\", \"proposal\", \"proposal\", \"purchase\", \"purchase\", \"receive\", \"receive\", \"reply\", \"reply\", \"report\", \"report\", \"reward\", \"reward\", \"rights_reserve\", \"rights_reserve\", \"rpm\", \"security_notification\", \"security_notification\", \"seek\", \"seek\", \"send\", \"send\", \"server\", \"server\", \"service\", \"service\", \"similar_activity\", \"similar_activity\", \"sincerely\", \"sincerely\", \"soon\", \"soon\", \"spam\", \"spam\", \"support\", \"support\", \"survey\", \"survey\", \"system\", \"system\", \"team\", \"team\", \"thank\", \"thank\", \"time\", \"time\", \"transaction\", \"transaction\", \"transfer\", \"transfer\", \"united_state\", \"united_state\", \"unsubscribe\", \"unsubscribe\", \"unusual\", \"unusual\", \"update\", \"update\", \"upgrade\", \"upgrade\", \"usd\", \"usd\", \"use\", \"use\", \"user\", \"user\", \"verify\", \"verify\", \"version\", \"version\", \"wallet\", \"wallet\", \"want\", \"want\", \"write\", \"write\", \"year\", \"year\"]}, \"R\": 30, \"lambda.step\": 0.01, \"plot.opts\": {\"xlab\": \"PC1\", \"ylab\": \"PC2\"}, \"topic.order\": [2, 1]};\n",
       "\n",
       "function LDAvis_load_lib(url, callback){\n",
       "  var s = document.createElement('script');\n",
       "  s.src = url;\n",
       "  s.async = true;\n",
       "  s.onreadystatechange = s.onload = callback;\n",
       "  s.onerror = function(){console.warn(\"failed to load library \" + url);};\n",
       "  document.getElementsByTagName(\"head\")[0].appendChild(s);\n",
       "}\n",
       "\n",
       "if(typeof(LDAvis) !== \"undefined\"){\n",
       "   // already loaded: just create the visualization\n",
       "   !function(LDAvis){\n",
       "       new LDAvis(\"#\" + \"ldavis_el25591377267599413123046483546\", ldavis_el25591377267599413123046483546_data);\n",
       "   }(LDAvis);\n",
       "}else if(typeof define === \"function\" && define.amd){\n",
       "   // require.js is available: use it to load d3/LDAvis\n",
       "   require.config({paths: {d3: \"https://d3js.org/d3.v5\"}});\n",
       "   require([\"d3\"], function(d3){\n",
       "      window.d3 = d3;\n",
       "      LDAvis_load_lib(\"https://cdn.jsdelivr.net/gh/bmabey/pyLDAvis@3.4.0/pyLDAvis/js/ldavis.v3.0.0.js\", function(){\n",
       "        new LDAvis(\"#\" + \"ldavis_el25591377267599413123046483546\", ldavis_el25591377267599413123046483546_data);\n",
       "      });\n",
       "    });\n",
       "}else{\n",
       "    // require.js not available: dynamically load d3 & LDAvis\n",
       "    LDAvis_load_lib(\"https://d3js.org/d3.v5.js\", function(){\n",
       "         LDAvis_load_lib(\"https://cdn.jsdelivr.net/gh/bmabey/pyLDAvis@3.4.0/pyLDAvis/js/ldavis.v3.0.0.js\", function(){\n",
       "                 new LDAvis(\"#\" + \"ldavis_el25591377267599413123046483546\", ldavis_el25591377267599413123046483546_data);\n",
       "            })\n",
       "         });\n",
       "}\n",
       "</script>"
      ]
     },
     "metadata": {},
     "execution_count": 69
    }
   ]
  },
  {
   "cell_type": "code",
   "source": [
    "# prompt: para descargar la carpeta lda_models desde el google colab hasta mi ordenador\n",
    "\n",
    "from google.colab import files\n",
    "files.download('lda_models')"
   ],
   "metadata": {
    "id": "Mx6_rxSSxlG2",
    "outputId": "3c0f8013-d5ff-4cd7-c07c-3ceeeb506628",
    "colab": {
     "base_uri": "https://localhost:8080/",
     "height": 34
    }
   },
   "execution_count": 72,
   "outputs": [
    {
     "output_type": "display_data",
     "data": {
      "text/plain": [
       "<IPython.core.display.Javascript object>"
      ],
      "application/javascript": [
       "\n",
       "    async function download(id, filename, size) {\n",
       "      if (!google.colab.kernel.accessAllowed) {\n",
       "        return;\n",
       "      }\n",
       "      const div = document.createElement('div');\n",
       "      const label = document.createElement('label');\n",
       "      label.textContent = `Downloading \"${filename}\": `;\n",
       "      div.appendChild(label);\n",
       "      const progress = document.createElement('progress');\n",
       "      progress.max = size;\n",
       "      div.appendChild(progress);\n",
       "      document.body.appendChild(div);\n",
       "\n",
       "      const buffers = [];\n",
       "      let downloaded = 0;\n",
       "\n",
       "      const channel = await google.colab.kernel.comms.open(id);\n",
       "      // Send a message to notify the kernel that we're ready.\n",
       "      channel.send({})\n",
       "\n",
       "      for await (const message of channel.messages) {\n",
       "        // Send a message to notify the kernel that we're ready.\n",
       "        channel.send({})\n",
       "        if (message.buffers) {\n",
       "          for (const buffer of message.buffers) {\n",
       "            buffers.push(buffer);\n",
       "            downloaded += buffer.byteLength;\n",
       "            progress.value = downloaded;\n",
       "          }\n",
       "        }\n",
       "      }\n",
       "      const blob = new Blob(buffers, {type: 'application/binary'});\n",
       "      const a = document.createElement('a');\n",
       "      a.href = window.URL.createObjectURL(blob);\n",
       "      a.download = filename;\n",
       "      div.appendChild(a);\n",
       "      a.click();\n",
       "      div.remove();\n",
       "    }\n",
       "  "
      ]
     },
     "metadata": {}
    },
    {
     "output_type": "display_data",
     "data": {
      "text/plain": [
       "<IPython.core.display.Javascript object>"
      ],
      "application/javascript": [
       "download(\"download_0f1d74f3-954a-4fa7-aa73-ed79944c23b0\", \"lda_models\", 12288)"
      ]
     },
     "metadata": {}
    }
   ]
  }
 ],
 "metadata": {
  "accelerator": "GPU",
  "colab": {
   "gpuType": "T4",
   "provenance": [],
   "include_colab_link": true
  },
  "kernelspec": {
   "display_name": "Python 3",
   "name": "python3"
  },
  "language_info": {
   "name": "python"
  }
 },
 "nbformat": 4,
 "nbformat_minor": 0
}