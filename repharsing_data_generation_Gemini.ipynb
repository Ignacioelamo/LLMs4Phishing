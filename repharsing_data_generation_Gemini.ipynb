{
  "cells": [
    {
      "cell_type": "markdown",
      "metadata": {
        "id": "view-in-github",
        "colab_type": "text"
      },
      "source": [
        "<a href=\"https://colab.research.google.com/github/Ignacioelamo/LLMs4Phishing/blob/main/repharsing_data_generation_Gemini.ipynb\" target=\"_parent\"><img src=\"https://colab.research.google.com/assets/colab-badge.svg\" alt=\"Open In Colab\"/></a>"
      ]
    },
    {
      "cell_type": "markdown",
      "source": [
        "#Importación librerías"
      ],
      "metadata": {
        "id": "-y2FkKrd_RdH"
      }
    },
    {
      "cell_type": "code",
      "source": [
        "# Sistema\n",
        "import sys\n",
        "import time\n",
        "import getpass\n",
        "import string\n",
        "\n",
        "# Hugging Face\n",
        "from huggingface_hub import login\n",
        "from transformers import (\n",
        "    pipeline,\n",
        "    AutoModelForCausalLM,\n",
        "    AutoTokenizer,\n",
        "    BitsAndBytesConfig\n",
        ")\n",
        "\n",
        "# PyTorch\n",
        "import torch\n",
        "\n",
        "# Progreso\n",
        "from tqdm import tqdm\n",
        "from tqdm.notebook import tqdm as notebook_tqdm\n",
        "\n",
        "# DataFrames\n",
        "import pandas as pd\n",
        "\n",
        "# Serialización\n",
        "import pickle\n",
        "import joblib\n",
        "\n",
        "# NLP - NLTK y spaCy\n",
        "from nltk.corpus import stopwords\n",
        "from nltk.tokenize import word_tokenize\n",
        "import spacy\n",
        "\n",
        "# Sklearn\n",
        "from sklearn.feature_extraction.text import TfidfVectorizer\n",
        "from sklearn.metrics import accuracy_score, confusion_matrix, classification_report, recall_score\n",
        "\n",
        "import seaborn as sns\n",
        "import matplotlib.pyplot as plt\n",
        "\n",
        "\n",
        "# warnings\n",
        "import warnings\n",
        "warnings.filterwarnings(\"ignore\", category=UserWarning, module=\"sklearn\")\n"
      ],
      "metadata": {
        "id": "RnR-R-zT_aFh"
      },
      "execution_count": null,
      "outputs": []
    },
    {
      "cell_type": "markdown",
      "source": [
        "Instalamos las librerías necesarias"
      ],
      "metadata": {
        "id": "__YI4JKfakAp"
      }
    },
    {
      "cell_type": "code",
      "source": [
        "!pip install bitsandbytes"
      ],
      "metadata": {
        "id": "bR8yKdKVag8R"
      },
      "execution_count": null,
      "outputs": []
    },
    {
      "cell_type": "markdown",
      "source": [
        "# Preparación del Entorno"
      ],
      "metadata": {
        "id": "EhthHyT__afm"
      }
    },
    {
      "cell_type": "code",
      "source": [
        "repo_url = \"https://github.com/Ignacioelamo/LLMs4Phishing\"\n",
        "!git clone {repo_url}\n",
        "!cd LLMs4Phishing"
      ],
      "metadata": {
        "colab": {
          "base_uri": "https://localhost:8080/"
        },
        "id": "GJhnbZHV_fx4",
        "outputId": "a72ba887-15ee-4c2d-8196-16dad63edced"
      },
      "execution_count": null,
      "outputs": [
        {
          "output_type": "stream",
          "name": "stdout",
          "text": [
            "fatal: destination path 'LLMs4Phishing' already exists and is not an empty directory.\n"
          ]
        }
      ]
    },
    {
      "cell_type": "code",
      "source": [
        "# Añadir los directorio fuentes al path de Python\n",
        "sys.path.append('/content/LLMs4Phishing/src')\n",
        "\n",
        "# Verificar que se han añadido correctamente\n",
        "print(sys.path)\n",
        "\n",
        "from rephrasers import EmailRephraser\n",
        "from utils import preprocess_texts"
      ],
      "metadata": {
        "colab": {
          "base_uri": "https://localhost:8080/"
        },
        "id": "0w3zzsjlJAYz",
        "outputId": "ba2afcfa-d644-4e0a-8d29-623fd5543987"
      },
      "execution_count": null,
      "outputs": [
        {
          "output_type": "stream",
          "name": "stdout",
          "text": [
            "['/content', '/env/python', '/usr/lib/python311.zip', '/usr/lib/python3.11', '/usr/lib/python3.11/lib-dynload', '', '/usr/local/lib/python3.11/dist-packages', '/usr/lib/python3/dist-packages', '/usr/local/lib/python3.11/dist-packages/IPython/extensions', '/root/.ipython', '/usr/local/lib/python3.11/dist-packages/setuptools/_vendor', '/tmp/tmpf2we21gp', '/content/LLMs4Phishing/src']\n"
          ]
        }
      ]
    },
    {
      "cell_type": "markdown",
      "source": [
        "# Pruebas"
      ],
      "metadata": {
        "id": "txJADXNAJRZo"
      }
    },
    {
      "cell_type": "markdown",
      "source": [
        "## Resultados pruebas modelo Belen"
      ],
      "metadata": {
        "id": "uS4ebkYFeNlk"
      }
    },
    {
      "cell_type": "code",
      "source": [
        "#Cargamos el modelo de scikit-learn\n",
        "with open('./LLMs4Phishing/models/tfidf_vectorizer.pkl', 'rb') as f:\n",
        "    vectorizer = pickle.load(f)\n",
        "\n",
        "model_baseline = joblib.load('./LLMs4Phishing/models/svm.joblib')"
      ],
      "metadata": {
        "id": "6w2le-n0eP1G"
      },
      "execution_count": null,
      "outputs": []
    },
    {
      "cell_type": "code",
      "source": [
        "#Cargamos el dataset test\n",
        "test_df = pd.read_csv('./LLMs4Phishing/data/test_data.csv')\n",
        "\n",
        "# Vectorizar el texto de test_df\n",
        "X_test = vectorizer.transform(test_df['clean_text'])  # Transformar el test con el mismo vectorizador\n",
        "# Predecir las etiquetas\n",
        "y_test = test_df['label']\n",
        "y_pred = model_baseline.predict(X_test)\n",
        "\n",
        "# Añadir las predicciones al DataFrame\n",
        "test_df['predicted_label'] = y_pred\n",
        "\n",
        "\n",
        "cm = confusion_matrix(y_test, y_pred)\n",
        "\n",
        "\n",
        "# Visualización con Seaborn\n",
        "sns.heatmap(cm, annot=True, fmt='d', cmap='Blues', xticklabels=['Benigno', 'Maligno'], yticklabels=['Benigno', 'Maligno'])\n",
        "plt.xlabel('Predicción')\n",
        "plt.ylabel('Real')\n",
        "plt.title('Matriz de Confusión')\n",
        "plt.show()"
      ],
      "metadata": {
        "id": "dQQ4peuf-xJO",
        "colab": {
          "base_uri": "https://localhost:8080/",
          "height": 472
        },
        "outputId": "043632c1-0ed8-47e1-dd87-b80bf16e4a98"
      },
      "execution_count": null,
      "outputs": [
        {
          "output_type": "display_data",
          "data": {
            "text/plain": [
              "<Figure size 640x480 with 2 Axes>"
            ],
            "image/png": "[encoded data removed]"
          },
          "metadata": {}
        }
      ]
    },
    {
      "cell_type": "markdown",
      "source": [
        "Vamos a conservar únicamente las predicciones clasificadas como negativas que efectivamente son negativas, con el objetivo de aplicar técnicas de rephrasing sobre ellas."
      ],
      "metadata": {
        "id": "BOBKEEY0ZXJG"
      }
    },
    {
      "cell_type": "code",
      "source": [
        "#Guarda en un csv los que son negativos y han sido detectados como negativos, al final lo que buscamos es ver el poder del rephrasing para transformar un email original maligno a uno benigno\n",
        "true_positives = test_df[(test_df['label'] == 1) & (test_df['predicted_label'] == 1)]\n",
        "true_positives.to_csv('true_positives.csv', index=False)"
      ],
      "metadata": {
        "id": "OGW_5Z5EZEi7"
      },
      "execution_count": null,
      "outputs": []
    },
    {
      "cell_type": "markdown",
      "source": [
        "## Cargamos el modelo Llama"
      ],
      "metadata": {
        "id": "6j-uUZeIZrA1"
      }
    },
    {
      "cell_type": "code",
      "source": [
        "rephraser = EmailRephraser()"
      ],
      "metadata": {
        "id": "z012Ul7xJg_F"
      },
      "execution_count": null,
      "outputs": []
    },
    {
      "cell_type": "markdown",
      "source": [
        "Hacemos el rephrasing y lo guardamos en zero_shot_dataset_true_positives.csv"
      ],
      "metadata": {
        "id": "CbKNEw51daYR"
      }
    },
    {
      "cell_type": "code",
      "source": [
        "dataset_path = \"./true_positives.csv\"\n",
        "\n",
        "#Leeme el dataset sin la columna index\n",
        "df = pd.read_csv(dataset_path)\n",
        "\n",
        "\n",
        "# Procesar el dataset con tqdm para mostrar progreso\n",
        "new_subjects = []\n",
        "new_bodies = []\n",
        "\n",
        "#print(\"Procesando el dataset...\")\n",
        "start_time = time.time()\n",
        "\n",
        "for index, row in tqdm(df.iterrows(), total=df.shape[0], desc=\"Filas procesadas\"):\n",
        "    new_subject, new_body = rephraser.generate_rephrased_text(row[\"subject\"], row[\"body\"])\n",
        "    new_subjects.append(new_subject)\n",
        "    new_bodies.append(new_body)\n",
        "\n",
        "end_time = time.time()\n",
        "#print(f\"Tiempo total de inferencia: {end_time - start_time:.2f} segundos\")\n",
        "\n",
        "# Crear nuevo DataFrame con los resultados, manteniendo sender y receiver originales\n",
        "df_new = pd.DataFrame({\n",
        "    \"subject\": new_subjects,\n",
        "    \"sender\": df[\"sender\"],  # Mantener el original\n",
        "    \"receiver\": df[\"receiver\"],  # Mantener el original\n",
        "    \"body\": new_bodies\n",
        "})\n",
        "\n",
        "# Guardar el nuevo dataset en un CSV\n",
        "df_new.to_csv(\"zero_shot_dataset_true_positives.csv\", index=False)\n",
        "print(\"Nuevo dataset guardado como 'zero_shot_dataset_true_positives.csv'\")\n"
      ],
      "metadata": {
        "id": "373oy8pkezh2"
      },
      "execution_count": null,
      "outputs": []
    },
    {
      "cell_type": "markdown",
      "source": [
        "Lo limpiamos como hizo Belén originalmente"
      ],
      "metadata": {
        "id": "AwHktJQRdoup"
      }
    },
    {
      "cell_type": "code",
      "source": [
        "df_new = pd.read_csv(\"zero_shot_dataset_true_positives.csv\")\n",
        "df_new['clean_text'] = preprocess_texts(df_new['body'])"
      ],
      "metadata": {
        "id": "XQ7pMmCKo-UY"
      },
      "execution_count": null,
      "outputs": []
    },
    {
      "cell_type": "code",
      "source": [
        "# Cargar el test_df\n",
        "test_df = df_new.copy()\n",
        "\n",
        "# Transformar el test con el mismo vectorizador\n",
        "X_test = vectorizer.transform(test_df['clean_text'])\n",
        "\n",
        "y_test = [1] * len(test_df)\n",
        "y_pred = model_baseline.predict(X_test)\n",
        "\n",
        "\n",
        "recall = recall_score(y_test, y_pred)\n",
        "print(f\"Recall (Sensibilidad): {recall:.4f}\")"
      ],
      "metadata": {
        "colab": {
          "base_uri": "https://localhost:8080/"
        },
        "id": "sEkngNGUg97O",
        "outputId": "cf4909c4-e6e1-487e-ffbc-b67d091c3c9d"
      },
      "execution_count": null,
      "outputs": [
        {
          "output_type": "stream",
          "name": "stdout",
          "text": [
            "Recall (Sensibilidad): 0.9772\n"
          ]
        }
      ]
    }
  ],
  "metadata": {
    "language_info": {
      "name": "python"
    },
    "colab": {
      "provenance": [],
      "gpuType": "T4",
      "include_colab_link": true
    },
    "kernelspec": {
      "name": "python3",
      "display_name": "Python 3"
    },
    "accelerator": "GPU"
  },
  "nbformat": 4,
  "nbformat_minor": 0
}